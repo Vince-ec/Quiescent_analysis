{
 "cells": [
  {
   "cell_type": "code",
   "execution_count": 2,
   "metadata": {},
   "outputs": [],
   "source": [
    "from astropy.io import fits\n",
    "from scipy.interpolate import interp1d,interp2d\n",
    "from yattag import Doc\n",
    "import matplotlib.pyplot as plt\n",
    "from glob import glob\n",
    "import seaborn as sea\n",
    "import numpy as np\n",
    "import pandas as pd\n",
    "sea.set(style='white')\n",
    "sea.set(style='ticks')\n",
    "sea.set_style({'xtick.direct'\n",
    "               'ion': 'in','xtick.top':True,'xtick.minor.visible': True,\n",
    "               'ytick.direction': \"in\",'ytick.right': True,'ytick.minor.visible': True})\n",
    "cmap = sea.cubehelix_palette(12, start=2, rot=.2, dark=0, \n",
    "                             light=1.2, as_cmap=True)\n",
    "\n",
    "%matplotlib inline\n",
    "%config InlineBackend.figure_format='retina'"
   ]
  },
  {
   "cell_type": "code",
   "execution_count": 3,
   "metadata": {},
   "outputs": [],
   "source": [
    "SIDF = pd.read_pickle('south_img_DF_vr.pkl')\n",
    "NIDF = pd.read_pickle('north_img_DF_vr.pkl')"
   ]
  },
  {
   "cell_type": "code",
   "execution_count": 10,
   "metadata": {},
   "outputs": [
    {
     "data": {
      "text/plain": [
       "'../Plots/South/2D/spec/GS4-24-074-G102_26646.2D.png'"
      ]
     },
     "execution_count": 10,
     "metadata": {},
     "output_type": "execute_result"
    }
   ],
   "source": [
    "SIDF['2d_ind'][283][0].replace('/Volumes/Vince_research/Extractions','..')"
   ]
  },
  {
   "cell_type": "code",
   "execution_count": 120,
   "metadata": {},
   "outputs": [],
   "source": [
    "25909\n",
    "####\n",
    "field =', '.join(SIDF[SIDF.id == 25909]['field'].values[0])\n",
    "gid =SIDF[SIDF.id == 25909]['id'].values[0]\n",
    "zphot =SIDF[SIDF.id == 25909]['z_phot'].values[0]\n",
    "\n",
    "specs = SIDF[SIDF.id == 25909]['ind_spec'].values[0]\n",
    "twod = SIDF[SIDF.id == 25909]['2d_ind'].values[0]\n",
    "\n",
    "stack_img = SIDF[SIDF.id == 25909]['stack'].values[0][0]\n",
    "twodall = SIDF[SIDF.id == 25909]['2d_all'].values[0]"
   ]
  },
  {
   "cell_type": "code",
   "execution_count": 127,
   "metadata": {},
   "outputs": [],
   "source": [
    "38092\n",
    "####\n",
    "field =', '.join(SIDF[SIDF.id == 39170]['field'].values[0])\n",
    "gid =SIDF[SIDF.id == 39170]['id'].values[0]\n",
    "zphot =SIDF[SIDF.id == 39170]['z_phot'].values[0]\n",
    "\n",
    "specs = SIDF[SIDF.id == 39170]['ind_spec'].values[0]\n",
    "twod = SIDF[SIDF.id == 39170]['2d_ind'].values[0]\n",
    "\n",
    "stack_img = SIDF[SIDF.id == 39170]['stack'].values[0][0]\n",
    "twodall = SIDF[SIDF.id == 39170]['2d_all'].values[0]"
   ]
  },
  {
   "cell_type": "code",
   "execution_count": 52,
   "metadata": {},
   "outputs": [
    {
     "name": "stdout",
     "output_type": "stream",
     "text": [
      "1.06\n",
      "['/Volumes/Vince_homedrive/Extractions/Plots/South/1D/spec/GS4-24-074-G102_27795_spec.png', '/Volumes/Vince_homedrive/Extractions/Plots/South/1D/spec/GS4-25-074-G102_27795_spec.png']\n",
      "['/Volumes/Vince_homedrive/Extractions/Plots/South/2D/spec/GS4-24-074-G102_27795.2D.png', '/Volumes/Vince_homedrive/Extractions/Plots/South/2D/spec/GS4-25-074-G102_27795.2D.png', '/Volumes/Vince_homedrive/Extractions/Plots/South/2D/spec/GS4-28-094-G102_27795.2D.png', '/Volumes/Vince_homedrive/Extractions/Plots/South/2D/spec/GS4-29-094-G102_27795.2D.png']\n",
      "/Volumes/Vince_homedrive/Extractions/Plots/South/1D/stack/27795_stack.png\n",
      "none\n"
     ]
    }
   ],
   "source": [
    "print SIDF['z_phot'][314]\n",
    "print SIDF['ind_spec'][314]\n",
    "print SIDF['2d_ind'][314]\n",
    "print SIDF['stack'][314][0]\n",
    "print SIDF['2d_all'][314]"
   ]
  },
  {
   "cell_type": "code",
   "execution_count": 15,
   "metadata": {},
   "outputs": [],
   "source": [
    "def Gen_html(DF,idx,pos):\n",
    "        \n",
    "    field =', '.join(DF['field'][idx])\n",
    "    gid =int(DF['id'][idx])\n",
    "    zphot =float(DF['z_phot'][idx])\n",
    "\n",
    "    specs = DF['ind_spec'][idx]\n",
    "    twod = DF['2d_ind'][idx]\n",
    "\n",
    "    stack_img = DF['stack'][idx][0]\n",
    "    twodall = DF['2d_all'][idx]\n",
    "    \n",
    "    y_adj = 0\n",
    "    \n",
    "    if len(twodall) == 1:\n",
    "        twod_pos = [[10,0,30.5]]\n",
    "        y_adj = 0\n",
    "    if len(twodall) == 2:\n",
    "        twod_pos = [[10,0,20],[30,0,20]]\n",
    "        y_adj = 5\n",
    "    if len(twodall) == 3:\n",
    "        twod_pos = [[15,0,22],[43,0,22],[43,50,22]]\n",
    "        y_adj = 17\n",
    "        \n",
    "    img_pos = []\n",
    "    spec_pos =[]\n",
    "    xpos = np.array([0,100/3.,100/3. *2]) \n",
    "    ypos = np.arange(50,175,25) + y_adj\n",
    "    for i in range(len(ypos)):\n",
    "        for ii in range(len(xpos)):\n",
    "            img_pos.append([ypos[i],xpos[ii]])\n",
    "            spec_pos.append([ypos[i],xpos[ii]+10])\n",
    "            \n",
    "    doc, tag, text = Doc().tagtext()\n",
    "\n",
    "    with tag('html'):\n",
    "\n",
    "        with tag('title'):\n",
    "            text('%s %s' % (pos,gid))\n",
    "\n",
    "        doc.stag('meta',charset='UTF-8')\n",
    "        doc.stag('meta',name='viewport', content='width=device-width, initial-scale=1')\n",
    "\n",
    "        with tag('style'):\n",
    "            text('body {font-family: \"Montserrat\", sans-serif;background-color: #101010;color: #ffffff;}')\n",
    "            text('img.one {position: absolute; height:20% ;}')\n",
    "            text('img.two {position: absolute; height:20% ;}')\n",
    "            text('img.three{position: absolute;top: 10%;left: 65%; height:30.5% ;}')\n",
    "            text('img.four {position: absolute;}')\n",
    "        with tag('table', style='width:50%',align = 'center'):\n",
    "            with tag('tr'):\n",
    "                with tag('th'):\n",
    "                    text('Field')\n",
    "                with tag('th'):\n",
    "                    text('ID')\n",
    "                with tag('th'):\n",
    "                    text('z')\n",
    "                    with tag('sub'):\n",
    "                        text('phot')\n",
    "                with tag('th'):\n",
    "                    text('z')\n",
    "                    with tag('sub'):\n",
    "                        text('grism')\n",
    "                with tag('th'):\n",
    "                    text('mag') \n",
    "                    with tag('sub'):\n",
    "                        text('Y')\n",
    "                with tag('th'):\n",
    "                    text('mag') \n",
    "                    with tag('sub'):\n",
    "                        text('J')\n",
    "                with tag('th'):\n",
    "                    text('ra')\n",
    "                with tag('th'):\n",
    "                    text('dec') \n",
    "                                 \n",
    "            with tag('tr'):    \n",
    "                if field == 'n, o, n, e':\n",
    "                    with tag('th'):\n",
    "                        text('none')\n",
    "                else:\n",
    "                    with tag('th'):\n",
    "                        text(field)\n",
    "                    \n",
    "                with tag('th'):\n",
    "                    text(gid)\n",
    "                with tag('th'):\n",
    "                    text(zphot)   \n",
    "        ### plot 2D\n",
    "        \n",
    "        with tag('body','{background-color=\"#000000\" text=\"#ffffff\" link=\"#FF0000\" vlink=\"#FFFFFF\" alink=\"#00FF00\"}'):\n",
    "            if field != 'n, o, n, e':\n",
    "                for i in range(len(twodall)):\n",
    "                    with tag('p',style=\"text-align:left;\"):\n",
    "                        doc.stag('img',src= twodall[i],klass = 'four', href=twodall[i].replace('/Volumes/Vince_research/Extractions','../..'), \n",
    "                                 style=\"top: {0!s}%;left: {1!s}%; height:{2!s}% \".format(twod_pos[i][0],twod_pos[i][1],twod_pos[i][2]))\n",
    "        \n",
    "         ### plot stack\n",
    "            with tag('p',style=\"text-align:left;\"):\n",
    "                doc.stag('img',src=stack_img.replace('/Volumes/Vince_research/Extractions','../..'),klass = 'three')\n",
    "\n",
    "         ### plot 2D ind\n",
    "            for i in range(len(twod)):\n",
    "                with tag('p',style=\"text-align:center;\"):\n",
    "                    doc.stag('img',klass='one',src= twod[i].replace('/Volumes/Vince_research/Extractions','../..'),style='top:{0!s}%;left:{1!s}%'.format(img_pos[i][0],img_pos[i][1]))\n",
    "                    if len(specs) >= (i+1):\n",
    "                        doc.stag('img',klass='two',src=specs[i].replace('/Volumes/Vince_research/Extractions','../..'),style='top:{0!s}%;left:{1!s}%'.format(spec_pos[i][0],spec_pos[i][1]))\n",
    "                    \n",
    "                    doc.stag('p', style ='clear:both;')\n",
    "\n",
    "    Html_file= open('../../Bio_pages/HTML_files/%s/%s.html' % (pos,gid),'w')\n",
    "    Html_file.write(doc.getvalue())\n",
    "    Html_file.close()"
   ]
  },
  {
   "cell_type": "code",
   "execution_count": 16,
   "metadata": {},
   "outputs": [],
   "source": [
    "for u in SIDF.index:\n",
    "#     print u\n",
    "    Gen_html(SIDF,u,'South')\n",
    "\n",
    "for u in NIDF.index:\n",
    "    Gen_html(NIDF,u,'North')"
   ]
  },
  {
   "cell_type": "code",
   "execution_count": null,
   "metadata": {},
   "outputs": [],
   "source": [
    ".thumbnail:hover {\n",
    "    position:relative;\n",
    "    top:-25px;\n",
    "    left:-35px;\n",
    "    width:500px;\n",
    "    height:auto;\n",
    "    display:block;\n",
    "    z-index:999;\n",
    "}"
   ]
  },
  {
   "cell_type": "code",
   "execution_count": 375,
   "metadata": {},
   "outputs": [],
   "source": [
    "def Test_html(DF,idx,pos):\n",
    "    \n",
    "    field =', '.join(DF['field'][idx])\n",
    "    gid =DF['id'][idx]\n",
    "    zphot =DF['z_phot'][idx]\n",
    "\n",
    "    specs = DF['ind_spec'][idx]\n",
    "    twod = DF['2d_ind'][idx]\n",
    "\n",
    "    stack_img = DF['stack'][idx][0]\n",
    "    twodall = DF['2d_all'][idx]\n",
    "\n",
    "    if len(twodall) == 1:\n",
    "        twod_pos = [[10,0,30.5]]\n",
    "        y_adj = 0\n",
    "    if len(twodall) == 2:\n",
    "        twod_pos = [[10,0,20],[30,0,20]]\n",
    "        y_adj = 5\n",
    "    if len(twodall) == 3:\n",
    "        twod_pos = [[15,0,22],[43,0,22],[43,50,22]]\n",
    "        y_adj = 17\n",
    "        \n",
    "    img_pos = []\n",
    "    spec_pos =[]\n",
    "    xpos = np.array([0,100/3.,100/3. *2]) \n",
    "    ypos = np.arange(50,175,25) + y_adj\n",
    "    for i in range(len(ypos)):\n",
    "        for ii in range(len(xpos)):\n",
    "            img_pos.append([ypos[i],xpos[ii]])\n",
    "            spec_pos.append([ypos[i],xpos[ii]+10])\n",
    "            \n",
    "    doc, tag, text = Doc().tagtext()\n",
    "\n",
    "    with tag('html'):\n",
    "\n",
    "        with tag('title'):\n",
    "            text('%s %s' % (pos,gid))\n",
    "\n",
    "        doc.stag('meta',charset='UTF-8')\n",
    "        doc.stag('meta',name='viewport', content='width=device-width, initial-scale=1')\n",
    "\n",
    "        with tag('style'):\n",
    "            text('body {font-family: \"Montserrat\", sans-serif;background-color: #101010;color: #ffffff;}')\n",
    "            text('img.one {position: absolute; height:20% ;}')\n",
    "            text('img.two {position: absolute; height:20% ;}')\n",
    "            text('img.three{position: absolute;top: 10%;left: 65%; height:30.5% ;}')\n",
    "            text('img.four {position: absolute;}')\n",
    "        with tag('table', style='width:50%',align = 'center'):\n",
    "            with tag('tr'):\n",
    "                with tag('th'):\n",
    "                    text('Field')\n",
    "                with tag('th'):\n",
    "                    text('ID')\n",
    "                with tag('th'):\n",
    "                    text('z')\n",
    "                    with tag('sub'):\n",
    "                        text('phot')\n",
    "                with tag('th'):\n",
    "                    text('z')\n",
    "                    with tag('sub'):\n",
    "                        text('grism')\n",
    "                with tag('th'):\n",
    "                    text('mag') \n",
    "                    with tag('sub'):\n",
    "                        text('Y')\n",
    "                with tag('th'):\n",
    "                    text('mag') \n",
    "                    with tag('sub'):\n",
    "                        text('J')\n",
    "                with tag('th'):\n",
    "                    text('ra')\n",
    "                with tag('th'):\n",
    "                    text('dec') \n",
    "                                 \n",
    "            with tag('tr'):    \n",
    "                if field == 'n, o, n, e':\n",
    "                    with tag('th'):\n",
    "                        text('none')\n",
    "                else:\n",
    "                    with tag('th'):\n",
    "                        text(field)\n",
    "                    \n",
    "                with tag('th'):\n",
    "                    text(gid)\n",
    "                with tag('th'):\n",
    "                    text(zphot)   \n",
    "        ### plot 2D\n",
    "        \n",
    "        with tag('body','{background-color=\"#000000\" text=\"#ffffff\" link=\"#FF0000\" vlink=\"#FFFFFF\" alink=\"#00FF00\"}'):\n",
    "            if field != 'n, o, n, e':\n",
    "                for i in range(len(twodall)):\n",
    "                    with tag('p',style=\"text-align:left;\"):\n",
    "                        doc.stag('img',src= twodall[i],klass = 'four', href=twodall[i], \n",
    "                                 style=\"top: {0!s}%;left: {1!s}%; height:{2!s}% \".format(twod_pos[i][0],twod_pos[i][1],twod_pos[i][2]))\n",
    "        \n",
    "         ### plot stack\n",
    "            with tag('p',style=\"text-align:left;\"):\n",
    "                doc.stag('img',src=stack_img,klass = 'three')\n",
    "\n",
    "         ### plot 2D ind\n",
    "            for i in range(len(twod)):\n",
    "                with tag('p',style=\"text-align:center;\"):\n",
    "                    doc.stag('img',klass='one',src= twod[i],style='top:{0!s}%;left:{1!s}%'.format(img_pos[i][0],img_pos[i][1]))\n",
    "                    if len(specs) >= (i+1):\n",
    "                        doc.stag('img',klass='two',src=specs[i],style='top:{0!s}%;left:{1!s}%'.format(spec_pos[i][0],spec_pos[i][1]))\n",
    "                    \n",
    "                    doc.stag('p', style ='clear:both;')\n",
    "\n",
    "    Html_file= open('test.html','w')\n",
    "    Html_file.write(doc.getvalue())\n",
    "    Html_file.close()"
   ]
  },
  {
   "cell_type": "code",
   "execution_count": 377,
   "metadata": {},
   "outputs": [],
   "source": [
    "# Test_html(SIDF,1287,'South')\n",
    "Test_html(SIDF,774,'South')"
   ]
  },
  {
   "cell_type": "code",
   "execution_count": 342,
   "metadata": {},
   "outputs": [],
   "source": [
    "l = 6\n",
    "img_pos = []\n",
    "xpositions = np.zeros(l/2)\n",
    "for i in range(len(xpositions)):\n",
    "    xpositions[i] = 100./len(xpositions)*(i)\n",
    "    img_pos.append([50,xpositions[i]])\n",
    "    img_pos.append([75,xpositions[i]])"
   ]
  },
  {
   "cell_type": "code",
   "execution_count": 359,
   "metadata": {},
   "outputs": [
    {
     "name": "stdout",
     "output_type": "stream",
     "text": [
      "1281\n",
      "3\n",
      "1287\n",
      "3\n",
      "1327\n",
      "3\n",
      "1337\n",
      "3\n"
     ]
    }
   ],
   "source": [
    "for U in SIDF.index:\n",
    "    if len(SIDF['2d_all'][U]) == 3 and SIDF['2d_all'][U] !='none':\n",
    "        print U\n",
    "        print len(SIDF['2d_all'][U])"
   ]
  },
  {
   "cell_type": "code",
   "execution_count": 354,
   "metadata": {},
   "outputs": [
    {
     "data": {
      "text/plain": [
       "array([  5.        ,  38.33333333,  71.66666667])"
      ]
     },
     "execution_count": 354,
     "metadata": {},
     "output_type": "execute_result"
    }
   ],
   "source": [
    "np.array([0,100/3.,100/3. *2]) +5\n"
   ]
  },
  {
   "cell_type": "code",
   "execution_count": 340,
   "metadata": {},
   "outputs": [
    {
     "data": {
      "text/plain": [
       "[[50, 0.0],\n",
       " [50, 33.333333333333336],\n",
       " [50, 66.666666666666671],\n",
       " [75, 0.0],\n",
       " [75, 33.333333333333336],\n",
       " [75, 66.666666666666671],\n",
       " [100, 0.0],\n",
       " [100, 33.333333333333336],\n",
       " [100, 66.666666666666671],\n",
       " [125, 0.0],\n",
       " [125, 33.333333333333336],\n",
       " [125, 66.666666666666671],\n",
       " [150, 0.0],\n",
       " [150, 33.333333333333336],\n",
       " [150, 66.666666666666671]]"
      ]
     },
     "execution_count": 340,
     "metadata": {},
     "output_type": "execute_result"
    }
   ],
   "source": [
    "img_pos"
   ]
  },
  {
   "cell_type": "code",
   "execution_count": null,
   "metadata": {},
   "outputs": [],
   "source": []
  }
 ],
 "metadata": {
  "kernelspec": {
   "display_name": "Python 3",
   "language": "python",
   "name": "python3"
  },
  "language_info": {
   "codemirror_mode": {
    "name": "ipython",
    "version": 3
   },
   "file_extension": ".py",
   "mimetype": "text/x-python",
   "name": "python",
   "nbconvert_exporter": "python",
   "pygments_lexer": "ipython3",
   "version": "3.5.5"
  }
 },
 "nbformat": 4,
 "nbformat_minor": 2
}
