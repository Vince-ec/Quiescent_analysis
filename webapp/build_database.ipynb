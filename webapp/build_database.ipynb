{
 "cells": [
  {
   "cell_type": "code",
   "execution_count": 1,
   "metadata": {},
   "outputs": [],
   "source": [
    "from astropy.table import Table\n",
    "from astropy.io import fits\n",
    "from scipy.interpolate import interp1d,interp2d\n",
    "from yattag import Doc\n",
    "import re\n",
    "import matplotlib.pyplot as plt\n",
    "from glob import glob\n",
    "import seaborn as sea\n",
    "import numpy as np\n",
    "import pandas as pd\n",
    "from shutil import copyfile\n",
    "sea.set(style='white')\n",
    "sea.set(style='ticks')\n",
    "sea.set_style({'xtick.direct'\n",
    "               'ion': 'in','xtick.top':True,'xtick.minor.visible': True,\n",
    "               'ytick.direction': \"in\",'ytick.right': True,'ytick.minor.visible': True})\n",
    "cmap = sea.cubehelix_palette(12, start=2, rot=.2, dark=0, \n",
    "                             light=1.2, as_cmap=True)\n",
    "\n",
    "%matplotlib inline\n",
    "%config InlineBackend.figure_format='retina'"
   ]
  },
  {
   "cell_type": "code",
   "execution_count": 2,
   "metadata": {},
   "outputs": [],
   "source": [
    "oned = glob('/Volumes/Vince_homedrive/Extractions/COMBINED/1D/PNG/*')\n",
    "twod = glob('/Volumes/Vince_homedrive/Extractions/COMBINED/2D/PNG/*')"
   ]
  },
  {
   "cell_type": "code",
   "execution_count": 6,
   "metadata": {},
   "outputs": [],
   "source": [
    "cleardir = glob('/Volumes/Vince_homedrive/Extractions/clear*')"
   ]
  },
  {
   "cell_type": "code",
   "execution_count": 64,
   "metadata": {},
   "outputs": [],
   "source": [
    "fields = np.array([])\n",
    "\n",
    "for i in range(len(cleardir)):\n",
    "    files = glob(cleardir[i] + '/1D/PNG/*')\n",
    "    last = [re.split('_',U)[1] for U in files]\n",
    "    first = [re.split('-',U)[1] for U in last]\n",
    "    fid = [re.split('/',U)[-1] for U in first]\n",
    "    fields = np.append(fields,fid)"
   ]
  },
  {
   "cell_type": "code",
   "execution_count": 66,
   "metadata": {},
   "outputs": [
    {
     "data": {
      "text/plain": [
       "{'ERSPRIME',\n",
       " 'GN1',\n",
       " 'GN2',\n",
       " 'GN3',\n",
       " 'GN4',\n",
       " 'GN5',\n",
       " 'GN7',\n",
       " 'GS1',\n",
       " 'GS2',\n",
       " 'GS3',\n",
       " 'GS4',\n",
       " 'GS5'}"
      ]
     },
     "execution_count": 66,
     "metadata": {},
     "output_type": "execute_result"
    }
   ],
   "source": [
    "southfields = ['ERSPRIME','GS1','GS2','GS3','GS4','GS5']\n",
    "northfields = ['GN1','GN2','GN3','GN4','GN5','GN7']"
   ]
  },
  {
   "cell_type": "code",
   "execution_count": 179,
   "metadata": {},
   "outputs": [],
   "source": [
    "IDS = np.array([])\n",
    "IDN = np.array([])\n",
    "\n",
    "for i in range(len(cleardir)):\n",
    "    files = glob(cleardir[i] + '/1D/FITS/*')\n",
    "    last = [re.split('_',U)[2] for U in files]\n",
    "    nums1 = [U[:-8] for U in last]\n",
    "    nums1 = [int(U) for U in nums1]\n",
    "\n",
    "    last = [re.split('_',U)[1] for U in files]\n",
    "    first = [re.split('-',U)[1] for U in last]\n",
    "    fid1 = [re.split('/',U)[-1] for U in first]\n",
    "    \n",
    "    files = glob(cleardir[i] + '/2D/PNG/*')\n",
    "    img = [U.strip(cleardir[i] + '/2D/')[4:] for U in files]\n",
    "    last = [re.split('_',U)[2] for U in files]\n",
    "    nums2 = [U[:-7] for U in last]\n",
    "    nums2 = [int(U) for U in nums2]\n",
    "    \n",
    "    last = [re.split('_',U)[1] for U in files]\n",
    "    first = [re.split('-',U)[1] for U in last]\n",
    "    fid2 = [re.split('/',U)[-1] for U in first]\n",
    "\n",
    "    south = []\n",
    "    north = []\n",
    "    \n",
    "    for ii in range(len(fid1)):\n",
    "        if fid1[ii][1] == 'N':\n",
    "            north.append(nums1[ii])\n",
    "        else:\n",
    "            south.append(nums1[ii])\n",
    "\n",
    "    for ii in range(len(fid2)):\n",
    "        if fid2[ii][1] == 'N':\n",
    "            north.append(nums2[ii])\n",
    "        else:\n",
    "            south.append(nums2[ii])\n",
    "            \n",
    "    IDS = np.append(IDS,south)\n",
    "    IDN = np.append(IDN,north)"
   ]
  },
  {
   "cell_type": "code",
   "execution_count": 180,
   "metadata": {},
   "outputs": [],
   "source": [
    "IDS=IDS.astype(int)\n",
    "IDN=IDN.astype(int)"
   ]
  },
  {
   "cell_type": "code",
   "execution_count": 181,
   "metadata": {},
   "outputs": [],
   "source": [
    "IDXs = np.sort(list(set(IDS)))\n",
    "IDXn = np.sort(list(set(IDN)))"
   ]
  },
  {
   "cell_type": "code",
   "execution_count": 182,
   "metadata": {},
   "outputs": [
    {
     "data": {
      "text/plain": [
       "(2223, 2572)"
      ]
     },
     "execution_count": 182,
     "metadata": {},
     "output_type": "execute_result"
    }
   ],
   "source": [
    "IDXs.size , IDXn.size"
   ]
  },
  {
   "cell_type": "code",
   "execution_count": 186,
   "metadata": {},
   "outputs": [],
   "source": [
    "SDF = pd.DataFrame({'id' : IDXs,'2D': np.repeat('',IDXs.size),'1D': np.repeat('',IDXs.size)})\n",
    "NDF = pd.DataFrame({'id' : IDXn,'2D': np.repeat('',IDXn.size),'1D': np.repeat('',IDXn.size)})"
   ]
  },
  {
   "cell_type": "code",
   "execution_count": 214,
   "metadata": {},
   "outputs": [],
   "source": [
    "oneDs = np.array(np.repeat('',IDXs.size), dtype=object)\n",
    "oneDn = np.array(np.repeat('',IDXn.size), dtype=object)\n",
    "\n",
    "twoDs = np.array(np.repeat('',IDXs.size), dtype=object)\n",
    "twoDn = np.array(np.repeat('',IDXn.size), dtype=object)\n",
    "\n",
    "twoDalls = np.array(np.repeat('',IDXs.size), dtype=object)\n",
    "twoDalln = np.array(np.repeat('',IDXn.size), dtype=object)\n",
    "\n",
    "for i in range(len(cleardir)):\n",
    "    files = glob(cleardir[i] + '/2D/PNG/*')\n",
    "    last = [re.split('_',U)[2] for U in files]\n",
    "    nums = [U[:-7] for U in last]\n",
    "    nums = [int(U) for U in nums]\n",
    "    \n",
    "    last = [re.split('_',U)[1] for U in files]\n",
    "    first = [re.split('-',U)[1] for U in last]\n",
    "    fid = [re.split('/',U)[-1] for U in first]\n",
    "    \n",
    "    for ii in range(len(fid)):\n",
    "        if fid[ii][1] == 'N':\n",
    "            idx = NDF.index[NDF.id == nums[ii]].values[0]\n",
    "            twoDn[idx] = twoDn[idx] + files[ii] +','\n",
    "        else:\n",
    "            idx = SDF.index[SDF.id == nums[ii]].values[0]\n",
    "            twoDs[idx] = twoDs[idx] + files[ii] +','\n",
    "            \n",
    "    files = glob(cleardir[i] + '/1D/FITS/*')\n",
    "    last = [re.split('_',U)[2] for U in files]\n",
    "    nums = [U[:-8] for U in last]\n",
    "    nums = [int(U) for U in nums]\n",
    "\n",
    "    last = [re.split('_',U)[1] for U in files]\n",
    "    first = [re.split('-',U)[1] for U in last]\n",
    "    fid = [re.split('/',U)[-1] for U in first]\n",
    "    \n",
    "    for ii in range(len(fid)):\n",
    "        if fid[ii][1] == 'N':\n",
    "            idx = NDF.index[NDF.id == nums[ii]].values[0]\n",
    "            oneDn[idx] = oneDn[idx] + files[ii] +','\n",
    "        else:\n",
    "            idx = SDF.index[SDF.id == nums[ii]].values[0]\n",
    "            oneDs[idx] = oneDs[idx] + files[ii] +','\n",
    "            \n",
    "for i in range(len(twod)):\n",
    "    nums = int(twod[i].split('_')[2])\n",
    "    \n",
    "    fid = twod[i].split('_')[1].split('/')[-1].split('-')[0]\n",
    "    \n",
    "    if fid[1] == 'N':        \n",
    "        if nums in NDF.id.values:\n",
    "            idx = NDF.index[NDF.id == nums].values[0]\n",
    "            twoDalln[idx] = twoDalln[idx] + twod[i] +','\n",
    "    else:\n",
    "        if nums in SDF.id.values:\n",
    "            idx = SDF.index[SDF.id == nums].values[0]\n",
    "            twoDalls[idx] = twoDalls[idx] + twod[i] +','\n",
    "            "
   ]
  },
  {
   "cell_type": "code",
   "execution_count": 216,
   "metadata": {},
   "outputs": [],
   "source": [
    "SDF['2D_all']=twoDalls\n",
    "NDF['2D_all']=twoDalln\n",
    "\n",
    "SDF['2D']=twoDs\n",
    "NDF['2D']=twoDn\n",
    "\n",
    "SDF['1D']=oneDs\n",
    "NDF['1D']=oneDn"
   ]
  },
  {
   "cell_type": "code",
   "execution_count": 219,
   "metadata": {},
   "outputs": [],
   "source": [
    "SDF.to_pickle('south_DF.pkl')\n",
    "NDF.to_pickle('north_DF.pkl')"
   ]
  },
  {
   "cell_type": "markdown",
   "metadata": {},
   "source": [
    "# image dataframe"
   ]
  },
  {
   "cell_type": "code",
   "execution_count": null,
   "metadata": {},
   "outputs": [],
   "source": [
    "SDF = pd.read_pickle('south_DF.pkl')\n",
    "NDF = pd.read_pickle('north_DF.pkl')"
   ]
  },
  {
   "cell_type": "code",
   "execution_count": 251,
   "metadata": {},
   "outputs": [],
   "source": [
    "sdat=np.zeros(len(SDF['id'].values))\n",
    "ndat=np.zeros(len(NDF['id'].values))\n",
    "SIDF = pd.DataFrame({'id':SDF['id'].values,'stack': sdat,'ind_spec': sdat,\n",
    "                     '2d_all': sdat,'2d_ind': sdat,'z_phot': sdat,'field': sdat})\n",
    "\n",
    "NIDF = pd.DataFrame({'id':NDF['id'].values,'stack': ndat,'ind_spec': ndat,\n",
    "                     '2d_all': ndat,'2d_ind': ndat,'z_phot': ndat,'field': ndat})"
   ]
  },
  {
   "cell_type": "code",
   "execution_count": 3,
   "metadata": {},
   "outputs": [],
   "source": [
    "SIDF = pd.read_pickle('south_img_DF.pkl')\n",
    "NIDF = pd.read_pickle('north_img_DF.pkl')"
   ]
  },
  {
   "cell_type": "markdown",
   "metadata": {},
   "source": [
    "# Copy files over"
   ]
  },
  {
   "cell_type": "code",
   "execution_count": 230,
   "metadata": {},
   "outputs": [],
   "source": [
    "for i in range(len(twod)):\n",
    "    fid = twod[i].split('/')[-1].split('-')[0]\n",
    "    fname = twod[i].split('/')[-1]\n",
    "    \n",
    "    if fid[1] == 'N':\n",
    "        dst = '/Volumes/Vince_homedrive/Extractions/Plots/North/2D/stack/%s' % fname\n",
    "\n",
    "    else:\n",
    "        dst = '/Volumes/Vince_homedrive/Extractions/Plots/South/2D/stack/%s' % fname\n",
    "\n",
    "    copyfile(twod[i], dst)"
   ]
  },
  {
   "cell_type": "code",
   "execution_count": 227,
   "metadata": {},
   "outputs": [
    {
     "data": {
      "text/plain": [
       "'ERSPRIME-G102_36794_stack.png'"
      ]
     },
     "execution_count": 227,
     "metadata": {},
     "output_type": "execute_result"
    }
   ],
   "source": [
    "twod[0].split('/')[-1]"
   ]
  },
  {
   "cell_type": "code",
   "execution_count": 231,
   "metadata": {},
   "outputs": [],
   "source": [
    "twoDs = np.array(np.repeat('',IDXs.size), dtype=object)\n",
    "twoDn = np.array(np.repeat('',IDXn.size), dtype=object)\n",
    "\n",
    "for i in range(len(cleardir)):\n",
    "    files = glob(cleardir[i] + '/2D/PNG/*')\n",
    "    last = [re.split('_',U)[2] for U in files]\n",
    "    nums = [U[:-7] for U in last]\n",
    "    nums = [int(U) for U in nums]\n",
    "    \n",
    "    last = [re.split('_',U)[1] for U in files]\n",
    "    first = [re.split('-',U)[1] for U in last]\n",
    "    fid = [re.split('/',U)[-1] for U in first]\n",
    "    \n",
    "    for ii in range(len(fid)):\n",
    "        fname = files[ii].split('/')[-1]\n",
    "\n",
    "        if fid[ii][1] == 'N':\n",
    "            dst = '/Volumes/Vince_homedrive/Extractions/Plots/North/2D/spec/%s' % fname\n",
    "        else:\n",
    "            dst = '/Volumes/Vince_homedrive/Extractions/Plots/South/2D/spec/%s' % fname\n",
    "\n",
    "            \n",
    "        copyfile(files[ii], dst)"
   ]
  },
  {
   "cell_type": "markdown",
   "metadata": {},
   "source": [
    "# Enter values in dataframe"
   ]
  },
  {
   "cell_type": "code",
   "execution_count": 2,
   "metadata": {},
   "outputs": [],
   "source": [
    "goodss = Table.read('/Users/Vince.ec/catalogs_for_CLEAR/goodss_3dhst.v4.1.cats/Eazy/goodss_3dhst.v4.1.zout',\n",
    "                   format = 'ascii').to_pandas()\n",
    "goodsn = Table.read('/Users/Vince.ec/catalogs_for_CLEAR/goodsn_3dhst.v4.1.cats/Eazy/goodsn_3dhst.v4.1.zout',\n",
    "                   format = 'ascii').to_pandas()"
   ]
  },
  {
   "cell_type": "code",
   "execution_count": 252,
   "metadata": {},
   "outputs": [],
   "source": [
    "sz = sdat\n",
    "nz = ndat\n",
    "\n",
    "for i in range(len(SIDF.index)):\n",
    "    sz[i] = goodss[goodss.id == SIDF['id'][i]]['z_m1'].values[0]\n",
    "    \n",
    "for i in range(len(NIDF.index)):\n",
    "    nz[i] = goodsn[goodsn.id == NIDF['id'][i]]['z_m1'].values[0]"
   ]
  },
  {
   "cell_type": "code",
   "execution_count": 255,
   "metadata": {},
   "outputs": [],
   "source": [
    "NIDF['z_phot'] = nz\n",
    "SIDF['z_phot'] = sz"
   ]
  },
  {
   "cell_type": "code",
   "execution_count": 282,
   "metadata": {},
   "outputs": [
    {
     "name": "stderr",
     "output_type": "stream",
     "text": [
      "/Users/Vince.ec/anaconda2/envs/astroconda/lib/python2.7/site-packages/ipykernel/__main__.py:15: SettingWithCopyWarning: \n",
      "A value is trying to be set on a copy of a slice from a DataFrame\n",
      "\n",
      "See the caveats in the documentation: http://pandas.pydata.org/pandas-docs/stable/indexing.html#indexing-view-versus-copy\n",
      "/Users/Vince.ec/anaconda2/envs/astroconda/lib/python2.7/site-packages/ipykernel/__main__.py:21: SettingWithCopyWarning: \n",
      "A value is trying to be set on a copy of a slice from a DataFrame\n",
      "\n",
      "See the caveats in the documentation: http://pandas.pydata.org/pandas-docs/stable/indexing.html#indexing-view-versus-copy\n",
      "/Users/Vince.ec/anaconda2/envs/astroconda/lib/python2.7/site-packages/ipykernel/__main__.py:28: SettingWithCopyWarning: \n",
      "A value is trying to be set on a copy of a slice from a DataFrame\n",
      "\n",
      "See the caveats in the documentation: http://pandas.pydata.org/pandas-docs/stable/indexing.html#indexing-view-versus-copy\n",
      "/Users/Vince.ec/anaconda2/envs/astroconda/lib/python2.7/site-packages/ipykernel/__main__.py:34: SettingWithCopyWarning: \n",
      "A value is trying to be set on a copy of a slice from a DataFrame\n",
      "\n",
      "See the caveats in the documentation: http://pandas.pydata.org/pandas-docs/stable/indexing.html#indexing-view-versus-copy\n",
      "/Users/Vince.ec/anaconda2/envs/astroconda/lib/python2.7/site-packages/ipykernel/__main__.py:40: SettingWithCopyWarning: \n",
      "A value is trying to be set on a copy of a slice from a DataFrame\n",
      "\n",
      "See the caveats in the documentation: http://pandas.pydata.org/pandas-docs/stable/indexing.html#indexing-view-versus-copy\n",
      "/Users/Vince.ec/anaconda2/envs/astroconda/lib/python2.7/site-packages/ipykernel/__main__.py:24: SettingWithCopyWarning: \n",
      "A value is trying to be set on a copy of a slice from a DataFrame\n",
      "\n",
      "See the caveats in the documentation: http://pandas.pydata.org/pandas-docs/stable/indexing.html#indexing-view-versus-copy\n",
      "/Users/Vince.ec/anaconda2/envs/astroconda/lib/python2.7/site-packages/ipykernel/__main__.py:25: SettingWithCopyWarning: \n",
      "A value is trying to be set on a copy of a slice from a DataFrame\n",
      "\n",
      "See the caveats in the documentation: http://pandas.pydata.org/pandas-docs/stable/indexing.html#indexing-view-versus-copy\n",
      "/Users/Vince.ec/anaconda2/envs/astroconda/lib/python2.7/site-packages/ipykernel/__main__.py:37: SettingWithCopyWarning: \n",
      "A value is trying to be set on a copy of a slice from a DataFrame\n",
      "\n",
      "See the caveats in the documentation: http://pandas.pydata.org/pandas-docs/stable/indexing.html#indexing-view-versus-copy\n",
      "/Users/Vince.ec/anaconda2/envs/astroconda/lib/python2.7/site-packages/ipykernel/__main__.py:43: SettingWithCopyWarning: \n",
      "A value is trying to be set on a copy of a slice from a DataFrame\n",
      "\n",
      "See the caveats in the documentation: http://pandas.pydata.org/pandas-docs/stable/indexing.html#indexing-view-versus-copy\n",
      "/Users/Vince.ec/anaconda2/envs/astroconda/lib/python2.7/site-packages/ipykernel/__main__.py:50: SettingWithCopyWarning: \n",
      "A value is trying to be set on a copy of a slice from a DataFrame\n",
      "\n",
      "See the caveats in the documentation: http://pandas.pydata.org/pandas-docs/stable/indexing.html#indexing-view-versus-copy\n",
      "/Users/Vince.ec/anaconda2/envs/astroconda/lib/python2.7/site-packages/ipykernel/__main__.py:56: SettingWithCopyWarning: \n",
      "A value is trying to be set on a copy of a slice from a DataFrame\n",
      "\n",
      "See the caveats in the documentation: http://pandas.pydata.org/pandas-docs/stable/indexing.html#indexing-view-versus-copy\n",
      "/Users/Vince.ec/anaconda2/envs/astroconda/lib/python2.7/site-packages/ipykernel/__main__.py:63: SettingWithCopyWarning: \n",
      "A value is trying to be set on a copy of a slice from a DataFrame\n",
      "\n",
      "See the caveats in the documentation: http://pandas.pydata.org/pandas-docs/stable/indexing.html#indexing-view-versus-copy\n",
      "/Users/Vince.ec/anaconda2/envs/astroconda/lib/python2.7/site-packages/ipykernel/__main__.py:72: SettingWithCopyWarning: \n",
      "A value is trying to be set on a copy of a slice from a DataFrame\n",
      "\n",
      "See the caveats in the documentation: http://pandas.pydata.org/pandas-docs/stable/indexing.html#indexing-view-versus-copy\n",
      "/Users/Vince.ec/anaconda2/envs/astroconda/lib/python2.7/site-packages/ipykernel/__main__.py:78: SettingWithCopyWarning: \n",
      "A value is trying to be set on a copy of a slice from a DataFrame\n",
      "\n",
      "See the caveats in the documentation: http://pandas.pydata.org/pandas-docs/stable/indexing.html#indexing-view-versus-copy\n",
      "/Users/Vince.ec/anaconda2/envs/astroconda/lib/python2.7/site-packages/ipykernel/__main__.py:66: SettingWithCopyWarning: \n",
      "A value is trying to be set on a copy of a slice from a DataFrame\n",
      "\n",
      "See the caveats in the documentation: http://pandas.pydata.org/pandas-docs/stable/indexing.html#indexing-view-versus-copy\n",
      "/Users/Vince.ec/anaconda2/envs/astroconda/lib/python2.7/site-packages/ipykernel/__main__.py:59: SettingWithCopyWarning: \n",
      "A value is trying to be set on a copy of a slice from a DataFrame\n",
      "\n",
      "See the caveats in the documentation: http://pandas.pydata.org/pandas-docs/stable/indexing.html#indexing-view-versus-copy\n",
      "/Users/Vince.ec/anaconda2/envs/astroconda/lib/python2.7/site-packages/ipykernel/__main__.py:60: SettingWithCopyWarning: \n",
      "A value is trying to be set on a copy of a slice from a DataFrame\n",
      "\n",
      "See the caveats in the documentation: http://pandas.pydata.org/pandas-docs/stable/indexing.html#indexing-view-versus-copy\n"
     ]
    }
   ],
   "source": [
    "spth2a = '/Volumes/Vince_homedrive/Extractions/Plots/South/2D/stack/'\n",
    "spth2i = '/Volumes/Vince_homedrive/Extractions/Plots/South/2D/spec/'\n",
    "spth1a = '/Volumes/Vince_homedrive/Extractions/Plots/South/1D/stack/'\n",
    "spth1i = '/Volumes/Vince_homedrive/Extractions/Plots/South/1D/spec/'\n",
    "\n",
    "npth2a = '/Volumes/Vince_homedrive/Extractions/Plots/North/2D/stack/'\n",
    "npth2i = '/Volumes/Vince_homedrive/Extractions/Plots/North/2D/spec/'\n",
    "npth1a = '/Volumes/Vince_homedrive/Extractions/Plots/North/1D/stack/'\n",
    "npth1i = '/Volumes/Vince_homedrive/Extractions/Plots/North/1D/spec/'\n",
    "\n",
    "for i in range(len(SIDF.index)):\n",
    "# for i in range(10):\n",
    "    if len(glob(spth2a + '*' + str(SIDF['id'][i]) + '*')) > 0:\n",
    "        twodnames = glob(spth2a + '*' + str(SIDF['id'][i]) + '*')\n",
    "        SIDF['2d_all'][i] = twodnames\n",
    "        fids = []\n",
    "        \n",
    "        for ii in range(len(twodnames)):\n",
    "            fids.append(twodnames[ii].split('/')[-1].split('-')[0])\n",
    "    \n",
    "        SIDF['field'][i] = fids\n",
    "    \n",
    "    else:\n",
    "        SIDF['2d_all'][i] = 'none'\n",
    "        SIDF['field'][i] = 'none'\n",
    "        \n",
    "    if len(glob(spth2i + '*' + str(SIDF['id'][i]) + '*')) > 0:\n",
    "        SIDF['2d_ind'][i] = glob(spth2i + '*' + str(SIDF['id'][i]) + '*')\n",
    "\n",
    "    else:\n",
    "        SIDF['2d_ind'][i] = 'none'\n",
    "        \n",
    "    if len(glob(spth1a + '*' + str(SIDF['id'][i]) + '*')) > 0:\n",
    "        SIDF['stack'][i] = glob(spth1a + '*' + str(SIDF['id'][i]) + '*')\n",
    "    \n",
    "    else:\n",
    "        SIDF['stack'][i] = 'none'\n",
    "    \n",
    "    if len(glob(spth1i + '*' + str(SIDF['id'][i]) + '*')) > 0:\n",
    "        SIDF['ind_spec'][i] = glob(spth1i + '*' + str(SIDF['id'][i]) + '*')\n",
    "    \n",
    "    else:\n",
    "        SIDF['ind_spec'][i] = 'none'\n",
    "  \n",
    "###################################\n",
    "\n",
    "for i in range(len(NIDF.index)):\n",
    "    if len(glob(npth2a + '*' + str(NIDF['id'][i]) + '*')) > 0:\n",
    "        twodnames = glob(npth2a + '*' + str(NIDF['id'][i]) + '*')\n",
    "        NIDF['2d_all'][i] = twodnames\n",
    "        fids = []\n",
    "        \n",
    "        for ii in range(len(twodnames)):\n",
    "            fids.append(twodnames[ii].split('/')[-1].split('-')[0])\n",
    "    \n",
    "        NIDF['field'][i] = fids\n",
    "    \n",
    "    else:\n",
    "        NIDF['2d_all'][i] = 'none'\n",
    "        NIDF['field'][i] = 'none'\n",
    "        \n",
    "    if len(glob(npth2i + '*' + str(NIDF['id'][i]) + '*')) > 0:\n",
    "        NIDF['2d_ind'][i] = glob(npth2i + '*' + str(NIDF['id'][i]) + '*')\n",
    "\n",
    "    else:\n",
    "        NIDF['2d_ind'][i] = 'none'\n",
    "        \n",
    "    if len(glob(npth1a + '*' + str(NIDF['id'][i]) + '*')) > 0:\n",
    "        NIDF['stack'][i] = glob(npth1a + '*' + str(NIDF['id'][i]) + '*')\n",
    "    \n",
    "    else:\n",
    "        NIDF['stack'][i] = 'none'\n",
    "    \n",
    "    if len(glob(npth1i + '*' + str(NIDF['id'][i]) + '*')) > 0:\n",
    "        NIDF['ind_spec'][i] = glob(npth1i + '*' + str(NIDF['id'][i]) + '*')\n",
    "    \n",
    "    else:\n",
    "        NIDF['ind_spec'][i] = 'none'"
   ]
  },
  {
   "cell_type": "code",
   "execution_count": 284,
   "metadata": {},
   "outputs": [],
   "source": [
    "SIDF.to_pickle('south_img_DF.pkl')\n",
    "NIDF.to_pickle('north_img_DF.pkl')"
   ]
  },
  {
   "cell_type": "code",
   "execution_count": null,
   "metadata": {},
   "outputs": [],
   "source": []
  }
 ],
 "metadata": {
  "kernelspec": {
   "display_name": "Python 2",
   "language": "python",
   "name": "python2"
  },
  "language_info": {
   "codemirror_mode": {
    "name": "ipython",
    "version": 2
   },
   "file_extension": ".py",
   "mimetype": "text/x-python",
   "name": "python",
   "nbconvert_exporter": "python",
   "pygments_lexer": "ipython2",
   "version": "2.7.13"
  }
 },
 "nbformat": 4,
 "nbformat_minor": 2
}
