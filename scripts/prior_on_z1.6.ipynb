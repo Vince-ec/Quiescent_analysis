{
 "cells": [
  {
   "cell_type": "code",
   "execution_count": 15,
   "metadata": {
    "collapsed": true
   },
   "outputs": [],
   "source": [
    "import numpy as np\n",
    "from spec_id import Likelihood_contours, Stack_posteriors, Median_w_Error,Oldest_galaxy\n",
    "import matplotlib.pyplot as plt\n",
    "from matplotlib import gridspec\n",
    "from vtl.Readfile import Readfile\n",
    "from vtl.Photo import Photometry\n",
    "import pandas as pd\n",
    "from glob import glob\n",
    "from astropy.io import fits, ascii\n",
    "from astropy.table import Table\n",
    "from scipy.interpolate import interp1d\n",
    "import os\n",
    "import cPickle\n",
    "import seaborn as sea\n",
    "sea.set(style='white')\n",
    "sea.set(style='ticks')\n",
    "sea.set_style({\"xtick.direction\": \"in\",\"ytick.direction\": \"in\"})\n",
    "colmap = sea.cubehelix_palette(12, start=2, rot=.2, dark=0, light=1.1, as_cmap=True)"
   ]
  },
  {
   "cell_type": "code",
   "execution_count": 2,
   "metadata": {
    "collapsed": true
   },
   "outputs": [],
   "source": [
    "galDB = pd.read_pickle('../data/sgal_param_DB.pkl')\n",
    "lzDB = galDB.query('hi_res_specz < 1.16')\n",
    "mzDB = galDB.query('1.16 < hi_res_specz < 1.3')\n",
    "mzDB = mzDB.query('ids != 14713 and ids != 38126')\n",
    "hzDB = galDB.query('1.3 < hi_res_specz < 1.45')\n",
    "uhzDB = galDB.query('1.45 < hi_res_specz')\n",
    "\n",
    "metal=np.arange(0.002,0.031,0.001)\n",
    "age=np.arange(.5,6.1,.1)\n",
    "tau=[0,8.0, 8.3, 8.48, 8.6, 8.7, 8.78, 8.85, 8.9, 8.95, 9.0, 9.04, 9.08, 9.11, 9.15, 9.18, 9.2, 9.23, 9.26, 9.28,\n",
    "     9.3, 9.32, 9.34, 9.36, 9.38, 9.4, 9.41, 9.43, 9.45, 9.46, 9.48]\n",
    "M,A=np.meshgrid(metal,age)"
   ]
  },
  {
   "cell_type": "code",
   "execution_count": 3,
   "metadata": {
    "collapsed": true
   },
   "outputs": [],
   "source": [
    "def Gen_grid(DB,param):\n",
    "    grid=[]\n",
    "    for i in DB.index:\n",
    "        x,Px = np.load('../chidat/%s_dtau_%s_pos_lwa_3.npy' % (DB['gids'][i],param))\n",
    "        grid.append(Px)\n",
    "    return np.array(grid)"
   ]
  },
  {
   "cell_type": "code",
   "execution_count": 41,
   "metadata": {
    "collapsed": false
   },
   "outputs": [],
   "source": [
    "def Analyze_LH_lwa_Zprior(chifits, specz, metal, age, tau, Zprior,age_conv='../data/light_weight_scaling_3.npy'):\n",
    "    ####### Get maximum age\n",
    "    max_age = Oldest_galaxy(specz)\n",
    "\n",
    "    ####### Read in file\n",
    "    chi = np.load(chifits).T\n",
    "\n",
    "    chi[:, len(age[age <= max_age]):, :] = 1E5\n",
    "\n",
    "    ####### Get scaling factor for tau reshaping\n",
    "    ultau = np.append(0, np.power(10, np.array(tau)[1:] - 9))\n",
    "\n",
    "    convtable = np.load(age_conv)\n",
    "\n",
    "    overhead = np.zeros([len(tau),metal.size]).astype(int)\n",
    "    for i in range(len(tau)):\n",
    "        for ii in range(metal.size):\n",
    "            amt=[]\n",
    "            for iii in range(age.size):\n",
    "                if age[iii] > convtable.T[i].T[ii][-1]:\n",
    "                    amt.append(1)\n",
    "            overhead[i][ii] = sum(amt)\n",
    "\n",
    "    ######## Reshape likelihood to get average age instead of age when marginalized\n",
    "    newchi = np.zeros(chi.shape)\n",
    "\n",
    "    for i in range(len(chi)):\n",
    "        frame = np.zeros([metal.size,age.size])\n",
    "        for ii in range(metal.size):\n",
    "            dist = interp1d(convtable.T[i].T[ii],chi[i].T[ii])(age[:-overhead[i][ii]])\n",
    "            frame[ii] = np.append(dist,np.repeat(1E5, overhead[i][ii]))\n",
    "        newchi[i] = frame.T\n",
    "\n",
    "    ####### Create normalize probablity marginalized over tau\n",
    "    P = np.exp(-newchi.T.astype(np.float128) / 2)\n",
    "\n",
    "    ######## Apply metallicity prior\n",
    "    print P.T.shape\n",
    "    \n",
    "    P_p = np.zeros(P.T.shape)\n",
    "    for i in range(len(tau)):\n",
    "        for ii in range(age.size):\n",
    "            P_p[i][ii] = P.T[i][ii]*Zprior\n",
    "    \n",
    "    \n",
    "    prob = np.trapz(P_p.T, ultau, axis=2)\n",
    "    C = np.trapz(np.trapz(prob, age, axis=1), metal)\n",
    "\n",
    "    prob /= C\n",
    "\n",
    "    #### Get Z and t posteriors\n",
    "\n",
    "    PZ = np.trapz(prob, age, axis=1)\n",
    "    Pt = np.trapz(prob.T, metal,axis=1)\n",
    "\n",
    "    return prob.T, PZ,Pt"
   ]
  },
  {
   "cell_type": "code",
   "execution_count": 42,
   "metadata": {
    "collapsed": false
   },
   "outputs": [
    {
     "name": "stdout",
     "output_type": "stream",
     "text": [
      "(31, 56, 29)\n"
     ]
    },
    {
     "data": {
      "text/plain": [
       "(array([[  0.00000000e+000,   0.00000000e+000,   0.00000000e+000, ...,\n",
       "           0.00000000e+000,   0.00000000e+000,   0.00000000e+000],\n",
       "        [  0.00000000e+000,   0.00000000e+000,   0.00000000e+000, ...,\n",
       "           0.00000000e+000,   0.00000000e+000,   0.00000000e+000],\n",
       "        [  0.00000000e+000,   0.00000000e+000,   0.00000000e+000, ...,\n",
       "           3.74675922e-218,   1.22595649e-211,   2.52638650e-205],\n",
       "        ..., \n",
       "        [  0.00000000e+000,   0.00000000e+000,   0.00000000e+000, ...,\n",
       "           0.00000000e+000,   0.00000000e+000,   0.00000000e+000],\n",
       "        [  0.00000000e+000,   0.00000000e+000,   0.00000000e+000, ...,\n",
       "           0.00000000e+000,   0.00000000e+000,   0.00000000e+000],\n",
       "        [  0.00000000e+000,   0.00000000e+000,   0.00000000e+000, ...,\n",
       "           0.00000000e+000,   0.00000000e+000,   0.00000000e+000]]),\n",
       " array([  2.08081724e-24,   3.75601298e-07,   1.50132942e-03,\n",
       "          7.10935963e-02,   2.83690985e-01,   5.03461496e-01,\n",
       "          5.31135113e-01,   5.25008348e-01,   7.34071189e-01,\n",
       "          2.07415430e+00,   6.44651747e+00,   1.59410129e+01,\n",
       "          3.36904030e+01,   5.84297034e+01,   7.49009620e+01,\n",
       "          8.80938055e+01,   9.67180688e+01,   9.97784020e+01,\n",
       "          9.64860126e+01,   9.11322414e+01,   8.80691903e+01,\n",
       "          8.18077322e+01,   6.26645290e+01,   4.08840987e+01,\n",
       "          2.54490013e+01,   1.58068821e+01,   1.00727051e+01,\n",
       "          6.66071193e+00,   4.48780729e+00]),\n",
       " array([  0.00000000e+000,   0.00000000e+000,   1.26319448e-208,\n",
       "          3.60751888e-147,   6.36318776e-110,   1.92247797e-075,\n",
       "          5.73216595e-045,   3.82045343e-022,   4.33226825e-008,\n",
       "          2.90904698e-002,   2.69242984e-001,   4.47503788e-001,\n",
       "          6.09518088e-001,   8.42822424e-001,   1.07005472e+000,\n",
       "          1.24646271e+000,   1.25632494e+000,   9.92000586e-001,\n",
       "          7.00930060e-001,   5.25020658e-001,   4.20431424e-001,\n",
       "          4.02510808e-001,   3.83682671e-001,   3.49366594e-001,\n",
       "          2.77809725e-001,   1.04550668e-001,   4.15286776e-002,\n",
       "          1.75592844e-002,   7.62766725e-003,   2.32239973e-003,\n",
       "          1.54578396e-003,   9.28116447e-004,   3.65322675e-004,\n",
       "          2.60162345e-004,   1.85085997e-004,   1.37461000e-004,\n",
       "          7.47529901e-005,   6.06937751e-005,   3.29495812e-005,\n",
       "          2.60366201e-005,   1.17359307e-005,   7.93515739e-006,\n",
       "          1.63321194e-006,   9.44859212e-007,   0.00000000e+000,\n",
       "          0.00000000e+000,   0.00000000e+000,   0.00000000e+000,\n",
       "          0.00000000e+000,   0.00000000e+000,   0.00000000e+000,\n",
       "          0.00000000e+000,   0.00000000e+000,   0.00000000e+000,\n",
       "          0.00000000e+000,   0.00000000e+000]))"
      ]
     },
     "execution_count": 42,
     "metadata": {},
     "output_type": "execute_result"
    }
   ],
   "source": [
    "Analyze_LH_lwa_Zprior('../chidat/n21156_dtau_chidata.npy',galDB['hi_res_specz'][61],\n",
    "                          metal,age,tau,PZh,age_conv='../data/light_weight_scaling_3.npy')"
   ]
  },
  {
   "cell_type": "code",
   "execution_count": 8,
   "metadata": {
    "collapsed": false
   },
   "outputs": [],
   "source": [
    "\"\"\"DATA\"\"\"\n",
    "lzDB = galDB.query('hi_res_specz < 1.16')\n",
    "mzDB = galDB.query('1.16 < hi_res_specz < 1.3')\n",
    "mzDB = mzDB.query('ids != 14713 and ids != 38126')\n",
    "hzDB = galDB.query('1.3 < hi_res_specz < 1.45')\n",
    "uhzDB = galDB.query('1.45 < hi_res_specz')\n",
    "\n",
    "PZl_grid = Gen_grid(lzDB,'Z')\n",
    "PZm_grid = Gen_grid(mzDB,'Z')\n",
    "PZh_grid = Gen_grid(hzDB,'Z')\n",
    "PZuh_grid = Gen_grid(uhzDB,'Z')\n",
    "\n",
    "PTl_grid = Gen_grid(lzDB,'t')\n",
    "PTm_grid = Gen_grid(mzDB,'t')\n",
    "PTh_grid = Gen_grid(hzDB,'t')\n",
    "PTuh_grid = Gen_grid(uhzDB,'t')\n",
    "\n",
    "PZl = Stack_posteriors(PZl_grid,metal)\n",
    "PZm = Stack_posteriors(PZm_grid,metal)\n",
    "PZh = Stack_posteriors(PZh_grid,metal)\n",
    "PZuh = Stack_posteriors(PZuh_grid,metal)\n",
    "\n",
    "PTl = Stack_posteriors(PTl_grid,age)\n",
    "PTm = Stack_posteriors(PTm_grid,age)\n",
    "PTh = Stack_posteriors(PTh_grid,age)\n",
    "PTuh = Stack_posteriors(PTuh_grid,age)\n",
    "\n",
    "\n",
    "Zmedl, Zler, Zher = Median_w_Error(PZl, metal)\n",
    "Zmedm, Zler, Zher = Median_w_Error(PZm, metal)\n",
    "Zmedh, Zler, Zher = Median_w_Error(PZh, metal)\n",
    "Zmeduh, Zler, Zher = Median_w_Error(PZuh, metal)\n",
    "tmedl, tler, ther = Median_w_Error(PTl, age)\n",
    "tmedm, tler, ther = Median_w_Error(PTm, age)\n",
    "tmedh, tler, ther = Median_w_Error(PTh, age)\n",
    "tmeduh, tler, ther = Median_w_Error(PTuh, age)\n"
   ]
  },
  {
   "cell_type": "code",
   "execution_count": 11,
   "metadata": {
    "collapsed": false
   },
   "outputs": [
    {
     "data": {
      "image/png": "[encoded data removed]",
      "text/plain": [
       "<matplotlib.figure.Figure at 0x10669ce10>"
      ]
     },
     "metadata": {},
     "output_type": "display_data"
    }
   ],
   "source": [
    "%matplotlib inline\n",
    "\n",
    "\n",
    "plt.figure(figsize=[8,8])\n",
    "plt.plot(metal,PZh)\n",
    "plt.show()\n",
    "plt.close()"
   ]
  },
  {
   "cell_type": "code",
   "execution_count": null,
   "metadata": {
    "collapsed": true
   },
   "outputs": [],
   "source": []
  }
 ],
 "metadata": {
  "kernelspec": {
   "display_name": "Python 2",
   "language": "python",
   "name": "python2"
  },
  "language_info": {
   "codemirror_mode": {
    "name": "ipython",
    "version": 2
   },
   "file_extension": ".py",
   "mimetype": "text/x-python",
   "name": "python",
   "nbconvert_exporter": "python",
   "pygments_lexer": "ipython2",
   "version": "2.7.13"
  }
 },
 "nbformat": 4,
 "nbformat_minor": 0
}
