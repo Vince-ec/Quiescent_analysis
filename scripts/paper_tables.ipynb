{
 "cells": [
  {
   "cell_type": "code",
   "execution_count": 1,
   "metadata": {
    "collapsed": true
   },
   "outputs": [],
   "source": [
    "from astropy.table import Table\n",
    "from astropy.io import fits\n",
    "from vtl.Readfile import Readfile\n",
    "from astropy.cosmology import Planck13, z_at_value\n",
    "from spec_id import Median_w_Error_cont\n",
    "from glob import glob\n",
    "import seaborn as sea\n",
    "import numpy as np\n",
    "import pandas as pd\n",
    "import matplotlib.pyplot as plt\n",
    "sea.set(style='white')\n",
    "sea.set(style='ticks')\n",
    "sea.set_style({'xtick.direct'\n",
    "               'ion': 'in','xtick.top':True,'xtick.minor.visible': True,\n",
    "               'ytick.direction': \"in\",'ytick.right': True,'ytick.minor.visible': True})\n",
    "colors = [(0,i,i,i) for i in np.linspace(0,1,3)]\n",
    "cmap = sea.cubehelix_palette(12, start=2, rot=.2, dark=0, light=1.2, as_cmap=True)"
   ]
  },
  {
   "cell_type": "code",
   "execution_count": 2,
   "metadata": {
    "collapsed": false
   },
   "outputs": [],
   "source": [
    "galDB = pd.read_pickle('../data/sgal_param_DB.pkl')\n",
    "galDB = galDB.query('ids != 14713 and ids != 38126')\n",
    "qgDB = pd.read_pickle('../data/good_spec_gal_DB.pkl')\n",
    "# goodss = Table.read('/Users/Vince.ec/catalogs_for_CLEAR/goodss_3dhst.v4.1.cats/Eazy/goodss_3dhst.v4.1.zout',\n",
    "#                    format = 'ascii')\n",
    "# goodsn = Table.read('/Users/Vince.ec/catalogs_for_CLEAR/goodsn_3dhst.v4.1.cats/Eazy/goodsn_3dhst.v4.1.zout',\n",
    "#                    format = 'ascii')\n",
    "# goodss_fast = Table.read('/Users/Vince.ec/catalogs_for_CLEAR/goodss_3dhst.v4.1.cats/Fast/goodss_3dhst.v4.1.fout',\n",
    "#                    format = 'ascii')\n",
    "# goodsn_fast = Table.read('/Users/Vince.ec/catalogs_for_CLEAR/goodsn_3dhst.v4.1.cats/Fast/goodsn_3dhst.v4.1.fout',\n",
    "#                    format = 'ascii')\n",
    "\n",
    "# goodss_mag = Table.read('../../../Clear_data/goodss_mosaic/goodss_3dhst.v4.3.cat', format = 'ascii')\n",
    "# goodsn_mag = Table.read('../../../Clear_data/goodsn_mosaic/goodsn_3dhstP.cat', format = 'ascii')\n",
    "\n",
    "\n",
    "goodss_mag = Table.read('../../../Clear_data/goodss_3dhst.v4.3.cat', format = 'ascii')\n",
    "goodsn_mag = Table.read('../../../Clear_data/goodsn_3dhst.v4.3.cat', format = 'ascii')\n",
    "\n",
    "goodss = Table.read('/Users/vestrada/Desktop/catalogs_for_CLEAR/goodss_3dhst.v4.1.cats/Eazy/goodss_3dhst.v4.1.zout',\n",
    "                   format = 'ascii')\n",
    "goodsn = Table.read('/Users/vestrada/Desktop/catalogs_for_CLEAR/goodsn_3dhst.v4.1.cats/Eazy/goodsn_3dhst.v4.1.zout',\n",
    "                   format = 'ascii')"
   ]
  },
  {
   "cell_type": "code",
   "execution_count": 9,
   "metadata": {
    "collapsed": true
   },
   "outputs": [
    {
     "data": {
      "text/html": [
       "&lt;Column name=&apos;f_F125W&apos; dtype=&apos;float64&apos; length=50507&gt;\n",
       "<table>\n",
       "<tr><td>99.647068</td></tr>\n",
       "<tr><td>0.399158</td></tr>\n",
       "<tr><td>1.827368</td></tr>\n",
       "<tr><td>22.146141</td></tr>\n",
       "<tr><td>1.316434</td></tr>\n",
       "<tr><td>0.618244</td></tr>\n",
       "<tr><td>3.635631</td></tr>\n",
       "<tr><td>18.995326</td></tr>\n",
       "<tr><td>0.42365</td></tr>\n",
       "<tr><td>0.563405</td></tr>\n",
       "<tr><td>1.167095</td></tr>\n",
       "<tr><td>2.138419</td></tr>\n",
       "<tr><td>...</td></tr>\n",
       "<tr><td>0.607326</td></tr>\n",
       "<tr><td>2.66586</td></tr>\n",
       "<tr><td>0.662512</td></tr>\n",
       "<tr><td>0.212713</td></tr>\n",
       "<tr><td>46.9872</td></tr>\n",
       "<tr><td>0.186741</td></tr>\n",
       "<tr><td>6.157046</td></tr>\n",
       "<tr><td>0.117333</td></tr>\n",
       "<tr><td>0.034774</td></tr>\n",
       "<tr><td>0.552558</td></tr>\n",
       "<tr><td>0.484404</td></tr>\n",
       "<tr><td>0.060237</td></tr>\n",
       "</table>"
      ],
      "text/plain": [
       "<Column name='f_F125W' dtype='float64' length=50507>\n",
       "99.647068\n",
       " 0.399158\n",
       " 1.827368\n",
       "22.146141\n",
       " 1.316434\n",
       " 0.618244\n",
       " 3.635631\n",
       "18.995326\n",
       "  0.42365\n",
       " 0.563405\n",
       " 1.167095\n",
       " 2.138419\n",
       "      ...\n",
       " 0.607326\n",
       "  2.66586\n",
       " 0.662512\n",
       " 0.212713\n",
       "  46.9872\n",
       " 0.186741\n",
       " 6.157046\n",
       " 0.117333\n",
       " 0.034774\n",
       " 0.552558\n",
       " 0.484404\n",
       " 0.060237"
      ]
     },
     "execution_count": 9,
     "metadata": {},
     "output_type": "execute_result"
    }
   ],
   "source": [
    "goodss_mag['f_F125W']"
   ]
  },
  {
   "cell_type": "code",
   "execution_count": 4,
   "metadata": {
    "collapsed": false
   },
   "outputs": [],
   "source": [
    "def Mag(f125):\n",
    "    return 25.0-2.5*np.log10(f125)"
   ]
  },
  {
   "cell_type": "code",
   "execution_count": 5,
   "metadata": {
    "collapsed": false
   },
   "outputs": [],
   "source": [
    "photz = []\n",
    "photzler = []\n",
    "photzher = []\n",
    "jband = []\n",
    "# A_v = []\n",
    "for i in galDB.index:\n",
    "    if galDB['gids'][i][0] == 's':\n",
    "        photz.append(goodss['z_m1'][galDB['ids'][i]-1])\n",
    "        photzler.append(goodss['l68'][galDB['ids'][i]-1])\n",
    "        photzher.append(goodss['u68'][galDB['ids'][i]-1])\n",
    "        jband.append(Mag(goodss_mag['f_F125W'][galDB['ids'][i]-1]))\n",
    "#         A_v.append(goodss_fast['Av'][galDB['ids'][i]-1])\n",
    "        \n",
    "    if galDB['gids'][i][0] == 'n':\n",
    "        photz.append(goodsn['z_m1'][galDB['ids'][i]-1])\n",
    "        photzler.append(goodsn['l68'][galDB['ids'][i]-1])\n",
    "        photzher.append(goodsn['u68'][galDB['ids'][i]-1])\n",
    "        jband.append(Mag(goodsn_mag['f_F125W'][galDB['ids'][i]-1]))\n",
    "#         A_v.append(goodsn_fast['Av'][galDB['ids'][i]-1])\n",
    "\n"
   ]
  },
  {
   "cell_type": "code",
   "execution_count": 7,
   "metadata": {
    "collapsed": false
   },
   "outputs": [
    {
     "data": {
      "text/plain": [
       "array([ 1. ,  1.2,  1. ,  1.2,  1.5,  1.1,  1.2,  1.1,  1.3,  1.2,  1.2,\n",
       "        1.7,  1.1,  1. ,  1.1,  1.4,  1.2,  1.7,  1.2,  1.2,  1.5,  1.3,\n",
       "        1.7,  1.6,  1.7,  1. ,  1.7,  1.1,  1. ,  1.3,  1.4,  1.1,  1.1])"
      ]
     },
     "execution_count": 7,
     "metadata": {},
     "output_type": "execute_result"
    }
   ],
   "source": [
    "np.round(photz,1)"
   ]
  },
  {
   "cell_type": "code",
   "execution_count": 12,
   "metadata": {
    "collapsed": false
   },
   "outputs": [
    {
     "data": {
      "text/plain": [
       "[0.69999999999999996,\n",
       " 0.40000000000000002,\n",
       " 0.59999999999999998,\n",
       " 0.80000000000000004,\n",
       " 0.59999999999999998,\n",
       " 0.69999999999999996,\n",
       " 0.10000000000000001,\n",
       " 0.29999999999999999,\n",
       " 0.40000000000000002,\n",
       " 0.40000000000000002,\n",
       " 0.0,\n",
       " 0.5,\n",
       " 0.69999999999999996,\n",
       " 0.5,\n",
       " 0.29999999999999999,\n",
       " 0.40000000000000002,\n",
       " 0.10000000000000001,\n",
       " 0.69999999999999996,\n",
       " 0.29999999999999999,\n",
       " 0.80000000000000004,\n",
       " 0.80000000000000004,\n",
       " 1.1000000000000001,\n",
       " 1.0,\n",
       " 0.40000000000000002,\n",
       " 0.69999999999999996,\n",
       " 0.40000000000000002,\n",
       " 0.59999999999999998,\n",
       " 0.5,\n",
       " 0.10000000000000001,\n",
       " 0.59999999999999998,\n",
       " 0.29999999999999999,\n",
       " 0.40000000000000002,\n",
       " 0.59999999999999998]"
      ]
     },
     "execution_count": 12,
     "metadata": {},
     "output_type": "execute_result"
    }
   ],
   "source": [
    "A_v"
   ]
  },
  {
   "cell_type": "code",
   "execution_count": 11,
   "metadata": {
    "collapsed": false
   },
   "outputs": [
    {
     "data": {
      "text/plain": [
       "0.5"
      ]
     },
     "execution_count": 11,
     "metadata": {},
     "output_type": "execute_result"
    }
   ],
   "source": [
    "np.median(A_v)"
   ]
  },
  {
   "cell_type": "code",
   "execution_count": 11,
   "metadata": {
    "collapsed": false
   },
   "outputs": [],
   "source": [
    "newids=[]\n",
    "\n",
    "for i in galDB.index:\n",
    "    \n",
    "    if galDB['gids'][i][0] == 'n':\n",
    "        newids.append('GND' + galDB['gids'][i][1:])\n",
    "        \n",
    "    if galDB['gids'][i][0] == 's':\n",
    "        newids.append('GSD' + galDB['gids'][i][1:])"
   ]
  },
  {
   "cell_type": "code",
   "execution_count": 12,
   "metadata": {
    "collapsed": false
   },
   "outputs": [],
   "source": [
    "ipDB = pd.DataFrame({'gids':newids,'photz':photz,'photz_lerr':photzler,'photz_herr':photzher,\n",
    "                     'lmass':np.round(galDB['lmass'],1), 'snr' : np.round(galDB['SN'],1) ,'J' : np.round(jband,1)})"
   ]
  },
  {
   "cell_type": "code",
   "execution_count": 17,
   "metadata": {
    "collapsed": false
   },
   "outputs": [],
   "source": [
    "ipDB=ipDB.sort_values(['photz'], ascending=True)"
   ]
  },
  {
   "cell_type": "code",
   "execution_count": 18,
   "metadata": {
    "collapsed": false
   },
   "outputs": [
    {
     "name": "stdout",
     "output_type": "stream",
     "text": [
      "GND16758 & $0.99 _ {- 0.03} ^ {+ 0.03}$ & 10.8 & 10.5 & 21.2 \\\\\n",
      "GND19442 & $1.01 _ {- 0.05} ^ {+ 0.05}$ & 10.1 & 1.2 & 22.9 \\\\\n",
      "GSD43615 & $1.04 _ {- 0.04} ^ {+ 0.04}$ & 10.7 & 7.0 & 21.7 \\\\\n",
      "GSD45972 & $1.05 _ {- 0.02} ^ {+ 0.03}$ & 10.9 & 13.2 & 21.1 \\\\\n",
      "GSD39241 & $1.05 _ {- 0.04} ^ {+ 0.05}$ & 10.9 & 13.0 & 20.9 \\\\\n",
      "GSD44620 & $1.08 _ {- 0.03} ^ {+ 0.03}$ & 10.5 & 4.5 & 22.1 \\\\\n",
      "GSD39631 & $1.08 _ {- 0.03} ^ {+ 0.03}$ & 10.7 & 9.9 & 21.3 \\\\\n",
      "GSD39170 & $1.08 _ {- 0.02} ^ {+ 0.03}$ & 11.1 & 22.3 & 20.3 \\\\\n",
      "GND34694 & $1.09 _ {- 0.03} ^ {+ 0.04}$ & 10.9 & 11.4 & 21.0 \\\\\n",
      "GND23435 & $1.09 _ {- 0.06} ^ {+ 0.06}$ & 10.3 & 3.3 & 22.5 \\\\\n",
      "GSD47677 & $1.1 _ {- 0.04} ^ {+ 0.04}$ & 10.1 & 3.7 & 22.5 \\\\\n",
      "GSD48631 & $1.14 _ {- 0.08} ^ {+ 0.06}$ & 11.0 & 8.1 & 21.2 \\\\\n",
      "GSD39805 & $1.16 _ {- 0.03} ^ {+ 0.03}$ & 10.6 & 3.6 & 22.5 \\\\\n",
      "GND32566 & $1.18 _ {- 0.05} ^ {+ 0.05}$ & 10.6 & 6.0 & 21.7 \\\\\n",
      "GSD38785 & $1.18 _ {- 0.04} ^ {+ 0.04}$ & 10.9 & 7.1 & 21.5 \\\\\n",
      "GSD40476 & $1.19 _ {- 0.03} ^ {+ 0.03}$ & 10.6 & 8.5 & 21.9 \\\\\n",
      "GND21156 & $1.2 _ {- 0.05} ^ {+ 0.04}$ & 11.2 & 15.7 & 20.9 \\\\\n",
      "GND17070 & $1.23 _ {- 0.04} ^ {+ 0.04}$ & 10.9 & 5.0 & 21.2 \\\\\n",
      "GSD35774 & $1.23 _ {- 0.03} ^ {+ 0.03}$ & 10.9 & 12.9 & 21.0 \\\\\n",
      "GSD40597 & $1.24 _ {- 0.03} ^ {+ 0.03}$ & 11.0 & 16.1 & 20.9 \\\\\n",
      "GND37686 & $1.27 _ {- 0.04} ^ {+ 0.04}$ & 10.9 & 8.4 & 21.3 \\\\\n",
      "GSD46066 & $1.32 _ {- 0.03} ^ {+ 0.03}$ & 10.8 & 2.9 & 21.7 \\\\\n",
      "GSD40862 & $1.34 _ {- 0.04} ^ {+ 0.04}$ & 10.9 & 4.8 & 21.7 \\\\\n",
      "GSD39804 & $1.36 _ {- 0.04} ^ {+ 0.03}$ & 10.9 & 4.1 & 21.6 \\\\\n",
      "GSD46345 & $1.4 _ {- 0.05} ^ {+ 0.06}$ & 10.2 & 2.0 & 23.1 \\\\\n",
      "GND21427 & $1.48 _ {- 0.06} ^ {+ 0.05}$ & 10.7 & 1.7 & 22.0 \\\\\n",
      "GSD40623 & $1.51 _ {- 0.1} ^ {+ 0.1}$ & 10.8 & 4.2 & 22.3 \\\\\n",
      "GSD41520 & $1.64 _ {- 0.04} ^ {+ 0.04}$ & 10.9 & 3.0 & 22.2 \\\\\n",
      "GSD40223 & $1.65 _ {- 0.05} ^ {+ 0.05}$ & 10.7 & 1.9 & 22.7 \\\\\n",
      "GSD39012 & $1.66 _ {- 0.06} ^ {+ 0.05}$ & 11.1 & 1.4 & 22.6 \\\\\n",
      "GSD44042 & $1.67 _ {- 0.05} ^ {+ 0.04}$ & 11.0 & 3.8 & 21.8 \\\\\n",
      "GSD41659 & $1.69 _ {- 0.09} ^ {+ 0.08}$ & 10.3 & 1.1 & 23.6 \\\\\n",
      "GSD41148 & $1.72 _ {- 0.11} ^ {+ 0.06}$ & 11.1 & 2.1 & 22.2 \\\\\n"
     ]
    }
   ],
   "source": [
    "for i in ipDB.index:\n",
    "    print '%s & $%s _ {- %s} ^ {+ %s}$ & %s & %s & %s \\\\\\\\' % (ipDB['gids'][i],np.round(ipDB['photz'][i],2),\n",
    "                                            np.round(ipDB['photz'][i] - ipDB['photz_lerr'][i],2),\n",
    "                                            np.round(ipDB['photz_herr'][i] -ipDB['photz'][i],2),\n",
    "                                            ipDB['lmass'][i],ipDB['snr'][i],ipDB['J'][i])"
   ]
  },
  {
   "cell_type": "code",
   "execution_count": 19,
   "metadata": {
    "collapsed": true
   },
   "outputs": [],
   "source": [
    "grisz_ler = []\n",
    "grisz_her = []\n",
    "for i in galDB.index:\n",
    "    z,P = np.load('../rshift_dat/%s_hires_Pofz.npy' % galDB['gids'][i])\n",
    "    med,ler,her=Median_w_Error_cont(P,z)\n",
    "    grisz_ler.append(np.round(ler,3))\n",
    "    grisz_her.append(np.round(her,3))"
   ]
  },
  {
   "cell_type": "code",
   "execution_count": 20,
   "metadata": {
    "collapsed": false
   },
   "outputs": [],
   "source": [
    "opDB = pd.DataFrame({'gids':newids,'grisz':galDB['hi_res_specz'], 'grisz_ler':grisz_ler,'grisz_her':grisz_her,\n",
    "                     'Z':np.round(galDB['Zx_lwa']/0.019,2),'Z_+_sig':np.round(galDB['Zx_+_sig_lwa']/0.019,2),\n",
    "                     'Z_-_sig':np.round(galDB['Zx_-_sig_lwa']/0.019,2),\n",
    "                     't':np.round(galDB['tx_lwa'],2),'t_+_sig':np.round(galDB['tx_+_sig_lwa'],2),\n",
    "                                                                     't_-_sig':np.round(galDB['tx_-_sig_lwa'],2)})"
   ]
  },
  {
   "cell_type": "code",
   "execution_count": 21,
   "metadata": {
    "collapsed": true
   },
   "outputs": [],
   "source": [
    "opDB=opDB.sort_values(['grisz'], ascending=True)"
   ]
  },
  {
   "cell_type": "code",
   "execution_count": 22,
   "metadata": {
    "collapsed": false
   },
   "outputs": [
    {
     "name": "stdout",
     "output_type": "stream",
     "text": [
      "GND16758 & $1.014_{-0.0}^{+0.001}$ & $1.06_{-0.07}^{+0.15}$ & $5.24_{-0.52}^{+0.29}$ \\\\\n",
      "GSD43615 & $1.016_{-0.001}^{+0.004}$ & $1.4_{-0.19}^{+0.13}$ & $4.84_{-0.52}^{+0.46}$ \\\\\n",
      "GSD39241 & $1.019_{-0.001}^{+0.002}$ & $1.16_{-0.17}^{+0.21}$ & $4.23_{-0.53}^{+0.61}$ \\\\\n",
      "GSD39170 & $1.022_{-0.001}^{+0.0}$ & $1.23_{-0.22}^{+0.22}$ & $2.98_{-0.4}^{+0.45}$ \\\\\n",
      "GSD45972 & $1.038_{-0.001}^{+0.002}$ & $0.62_{-0.15}^{+0.15}$ & $4.03_{-0.84}^{+0.69}$ \\\\\n",
      "GSD39631 & $1.053_{-0.002}^{+0.004}$ & $0.91_{-0.17}^{+0.34}$ & $4.03_{-0.65}^{+0.78}$ \\\\\n",
      "GSD48631 & $1.055_{-0.137}^{+0.005}$ & $0.19_{-0.04}^{+0.19}$ & $4.73_{-0.57}^{+0.4}$ \\\\\n",
      "GND19442 & $1.101_{-0.095}^{+0.065}$ & $0.73_{-0.44}^{+0.56}$ & $2.68_{-0.79}^{+1.08}$ \\\\\n",
      "GSD47677 & $1.112_{-0.001}^{+0.002}$ & $1.15_{-0.34}^{+0.29}$ & $3.65_{-0.64}^{+0.78}$ \\\\\n",
      "GND23435 & $1.134_{-0.01}^{+0.083}$ & $0.74_{-0.32}^{+0.48}$ & $3.38_{-0.74}^{+0.87}$ \\\\\n",
      "GND34694 & $1.145_{-0.002}^{+0.002}$ & $0.75_{-0.26}^{+0.3}$ & $2.8_{-0.46}^{+0.96}$ \\\\\n",
      "GND32566 & $1.15_{-0.004}^{+0.002}$ & $1.03_{-0.41}^{+0.36}$ & $2.02_{-0.62}^{+0.55}$ \\\\\n",
      "GSD38785 & $1.175_{-0.002}^{+0.002}$ & $0.99_{-0.36}^{+0.3}$ & $2.32_{-0.56}^{+0.54}$ \\\\\n",
      "GND17070 & $1.192_{-0.076}^{+0.002}$ & $0.54_{-0.14}^{+0.24}$ & $2.38_{-0.46}^{+0.6}$ \\\\\n",
      "GSD40476 & $1.212_{-0.001}^{+0.001}$ & $0.33_{-0.15}^{+0.37}$ & $2.73_{-0.65}^{+0.56}$ \\\\\n",
      "GSD40597 & $1.221_{-0.001}^{+0.001}$ & $1.47_{-0.15}^{+0.08}$ & $2.67_{-0.1}^{+0.07}$ \\\\\n",
      "GSD35774 & $1.223_{-0.001}^{+0.001}$ & $0.39_{-0.1}^{+0.23}$ & $3.65_{-0.76}^{+0.65}$ \\\\\n",
      "GSD39805 & $1.242_{-0.058}^{+0.06}$ & $1.08_{-0.58}^{+0.36}$ & $2.26_{-0.57}^{+0.35}$ \\\\\n",
      "GND21156 & $1.251_{-0.001}^{+0.002}$ & $1.05_{-0.24}^{+0.22}$ & $2.11_{-0.34}^{+0.5}$ \\\\\n",
      "GND37686 & $1.258_{-0.002}^{+0.001}$ & $0.81_{-0.12}^{+0.22}$ & $3.34_{-0.43}^{+0.57}$ \\\\\n",
      "GSD46066 & $1.327_{-0.002}^{+0.006}$ & $1.13_{-0.23}^{+0.26}$ & $3.66_{-0.53}^{+0.46}$ \\\\\n",
      "GSD40862 & $1.328_{-0.005}^{+0.002}$ & $1.23_{-0.37}^{+0.25}$ & $2.75_{-0.4}^{+0.51}$ \\\\\n",
      "GSD39804 & $1.333_{-0.001}^{+0.002}$ & $0.94_{-0.2}^{+0.32}$ & $3.33_{-0.48}^{+0.58}$ \\\\\n",
      "GSD44620 & $1.337_{-0.004}^{+0.002}$ & $0.47_{-0.33}^{+0.54}$ & $1.94_{-0.62}^{+0.51}$ \\\\\n",
      "GSD46345 & $1.369_{-0.032}^{+0.058}$ & $0.67_{-0.33}^{+0.53}$ & $2.97_{-0.63}^{+0.79}$ \\\\\n",
      "GSD40623 & $1.41_{-0.001}^{+0.002}$ & $1.04_{-0.19}^{+0.27}$ & $3.23_{-0.43}^{+0.48}$ \\\\\n",
      "GND21427 & $1.514_{-0.016}^{+0.065}$ & $0.94_{-0.45}^{+0.44}$ & $2.36_{-0.6}^{+0.58}$ \\\\\n",
      "GSD40223 & $1.595_{-0.004}^{+0.005}$ & $0.88_{-0.42}^{+0.48}$ & $2.15_{-0.57}^{+0.46}$ \\\\\n",
      "GSD41520 & $1.603_{-0.002}^{+0.002}$ & $1.33_{-0.43}^{+0.18}$ & $1.43_{-0.15}^{+0.26}$ \\\\\n",
      "GSD44042 & $1.611_{-0.005}^{+0.002}$ & $1.43_{-0.51}^{+0.12}$ & $2.41_{-0.41}^{+0.23}$ \\\\\n",
      "GSD41659 & $1.62_{-0.102}^{+0.321}$ & $0.89_{-0.48}^{+0.46}$ & $1.99_{-0.55}^{+0.64}$ \\\\\n",
      "GSD39012 & $1.632_{-0.029}^{+0.018}$ & $0.89_{-0.48}^{+0.52}$ & $2.14_{-0.48}^{+0.52}$ \\\\\n",
      "GSD41148 & $1.758_{-0.002}^{+0.001}$ & $1.5_{-0.16}^{+0.06}$ & $1.68_{-0.29}^{+1.07}$ \\\\\n"
     ]
    }
   ],
   "source": [
    "for i in opDB.index:\n",
    "    print '%s & $%s_{-%s}^{+%s}$ & $%s_{-%s}^{+%s}$ & $%s_{-%s}^{+%s}$ \\\\\\\\' % \\\n",
    "          (opDB['gids'][i],opDB['grisz'][i],opDB['grisz_ler'][i], opDB['grisz_her'][i],\n",
    "            opDB['Z'][i],opDB['Z_-_sig'][i],opDB['Z_+_sig'][i],\n",
    "            opDB['t'][i],opDB['t_-_sig'][i],opDB['t_+_sig'][i])\n",
    "#  opDB[['gids','specz','Z','Z_+_sig','Z_-_sig','t','t_+_sig','t_-_sig']].to_latex(index=False)"
   ]
  },
  {
   "cell_type": "code",
   "execution_count": 45,
   "metadata": {
    "collapsed": true
   },
   "outputs": [
    {
     "data": {
      "text/plain": [
       "[<matplotlib.lines.Line2D at 0x1170d1b50>]"
      ]
     },
     "execution_count": 45,
     "metadata": {},
     "output_type": "execute_result"
    },
    {
     "data": {
      "image/png": "[encoded data removed]",
      "text/plain": [
       "<matplotlib.figure.Figure at 0x11743c0d0>"
      ]
     },
     "metadata": {},
     "output_type": "display_data"
    }
   ],
   "source": [
    "%matplotlib inline\n",
    "\n",
    "plt.figure(figsize=[8,8])\n",
    "plt.plot(galDB['hi_res_specz'],photz-galDB['hi_res_specz'],'o')"
   ]
  },
  {
   "cell_type": "code",
   "execution_count": null,
   "metadata": {
    "collapsed": true
   },
   "outputs": [],
   "source": []
  }
 ],
 "metadata": {
  "kernelspec": {
   "display_name": "Python 2",
   "language": "python",
   "name": "python2"
  },
  "language_info": {
   "codemirror_mode": {
    "name": "ipython",
    "version": 2
   },
   "file_extension": ".py",
   "mimetype": "text/x-python",
   "name": "python",
   "nbconvert_exporter": "python",
   "pygments_lexer": "ipython2",
   "version": "2.7.13"
  }
 },
 "nbformat": 4,
 "nbformat_minor": 0
}
