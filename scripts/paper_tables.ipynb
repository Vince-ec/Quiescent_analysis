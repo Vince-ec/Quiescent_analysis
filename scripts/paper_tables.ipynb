{
 "cells": [
  {
   "cell_type": "code",
   "execution_count": 1,
   "metadata": {
    "collapsed": true
   },
   "outputs": [],
   "source": [
    "from astropy.table import Table\n",
    "from astropy.io import fits\n",
    "from vtl.Readfile import Readfile\n",
    "from astropy.cosmology import Planck13, z_at_value\n",
    "from spec_id import Median_w_Error_cont\n",
    "from glob import glob\n",
    "import seaborn as sea\n",
    "import numpy as np\n",
    "import pandas as pd\n",
    "import matplotlib.pyplot as plt\n",
    "sea.set(style='white')\n",
    "sea.set(style='ticks')\n",
    "sea.set_style({'xtick.direct'\n",
    "               'ion': 'in','xtick.top':True,'xtick.minor.visible': True,\n",
    "               'ytick.direction': \"in\",'ytick.right': True,'ytick.minor.visible': True})\n",
    "colors = [(0,i,i,i) for i in np.linspace(0,1,3)]\n",
    "cmap = sea.cubehelix_palette(12, start=2, rot=.2, dark=0, light=1.2, as_cmap=True)"
   ]
  },
  {
   "cell_type": "code",
   "execution_count": 7,
   "metadata": {
    "collapsed": false
   },
   "outputs": [],
   "source": [
    "galDB = pd.read_pickle('../data/upd_galDB.pkl')\n",
    "lzDB = galDB.query('z_grism < 1.16')\n",
    "mzDB = galDB.query('1.16 < z_grism < 1.3')\n",
    "hzDB = galDB.query('1.3 < z_grism < 1.45')\n",
    "uhzDB = galDB.query('1.45 < z_grism')\n",
    "\n",
    "qgDB = pd.read_pickle('../data/good_spec_gal_DB.pkl')\n",
    "# goodss = Table.read('/Users/Vince.ec/catalogs_for_CLEAR/goodss_3dhst.v4.1.cats/Eazy/goodss_3dhst.v4.1.zout',\n",
    "#                    format = 'ascii')\n",
    "# goodsn = Table.read('/Users/Vince.ec/catalogs_for_CLEAR/goodsn_3dhst.v4.1.cats/Eazy/goodsn_3dhst.v4.1.zout',\n",
    "#                    format = 'ascii')\n",
    "# goodss_fast = Table.read('/Users/Vince.ec/catalogs_for_CLEAR/goodss_3dhst.v4.1.cats/Fast/goodss_3dhst.v4.1.fout',\n",
    "#                    format = 'ascii')\n",
    "# goodsn_fast = Table.read('/Users/Vince.ec/catalogs_for_CLEAR/goodsn_3dhst.v4.1.cats/Fast/goodsn_3dhst.v4.1.fout',\n",
    "#                    format = 'ascii')\n",
    "\n",
    "# goodss_mag = Table.read('../../../Clear_data/goodss_mosaic/goodss_3dhst.v4.3.cat', format = 'ascii')\n",
    "# goodsn_mag = Table.read('../../../Clear_data/goodsn_mosaic/goodsn_3dhstP.cat', format = 'ascii')\n",
    "\n",
    "\n",
    "goodss_mag = Table.read('../../../Clear_data/goodss_3dhst.v4.3.cat', format = 'ascii')\n",
    "goodsn_mag = Table.read('../../../Clear_data/goodsn_3dhst.v4.3.cat', format = 'ascii')\n",
    "\n",
    "goodss = Table.read('/Users/vestrada/Desktop/catalogs_for_CLEAR/goodss_3dhst.v4.1.cats/Eazy/goodss_3dhst.v4.1.zout',\n",
    "                    format = 'ascii')\n",
    "goodsn = Table.read('/Users/vestrada/Desktop/catalogs_for_CLEAR/goodsn_3dhst.v4.1.cats/Eazy/goodsn_3dhst.v4.1.zout',\n",
    "                    format = 'ascii')"
   ]
  },
  {
   "cell_type": "code",
   "execution_count": null,
   "metadata": {
    "collapsed": false
   },
   "outputs": [],
   "source": [
    "def Mag(f125):\n",
    "    return 25.0-2.5*np.log10(f125)"
   ]
  },
  {
   "cell_type": "code",
   "execution_count": null,
   "metadata": {
    "collapsed": false
   },
   "outputs": [],
   "source": [
    "specz = [] \n",
    "photz = []\n",
    "photz2 = []\n",
    "photzler = []\n",
    "photzher = []\n",
    "jband = []\n",
    "# A_v = []\n",
    "for i in galDB.index:\n",
    "    if galDB['gids'][i][0] == 's':\n",
    "        specz.append(goodss['z_spec'][int(galDB['gids'][i][1:])-1])\n",
    "        photz.append(goodss['z_m1'][int(galDB['gids'][i][1:])-1])\n",
    "        photz2.append(goodss['z_peak'][int(galDB['gids'][i][1:])-1])\n",
    "        photzler.append(goodss['l68'][int(galDB['gids'][i][1:])-1])\n",
    "        photzher.append(goodss['u68'][int(galDB['gids'][i][1:])-1])\n",
    "        jband.append(Mag(goodss_mag['f_F125W'][int(galDB['gids'][i][1:])-1]))\n",
    "#         A_v.append(goodss_fast['Av'][galDB['ids'][i]-1])\n",
    "        \n",
    "    if galDB['gids'][i][0] == 'n':\n",
    "        specz.append(goodsn['z_spec'][int(galDB['gids'][i][1:])-1])\n",
    "        photz.append(goodsn['z_m1'][int(galDB['gids'][i][1:])-1])\n",
    "        photz2.append(goodsn['z_peak'][int(galDB['gids'][i][1:])-1])\n",
    "        photzler.append(goodsn['l68'][int(galDB['gids'][i][1:])-1])\n",
    "        photzher.append(goodsn['u68'][int(galDB['gids'][i][1:])-1])\n",
    "        jband.append(Mag(goodsn_mag['f_F125W'][int(galDB['gids'][i][1:])-1]))\n",
    "#         A_v.append(goodsn_fast['Av'][galDB['ids'][i]-1])\n",
    "\n"
   ]
  },
  {
   "cell_type": "code",
   "execution_count": 8,
   "metadata": {},
   "outputs": [
    {
     "data": {
      "text/plain": [
       "[<matplotlib.lines.Line2D at 0x1a1cae2ba8>]"
      ]
     },
     "execution_count": 8,
     "metadata": {},
     "output_type": "execute_result"
    },
    {
     "data": {
      "image/png": "[encoded data removed]",
      "text/plain": [
       "<Figure size 576x576 with 1 Axes>"
      ]
     },
     "metadata": {},
     "output_type": "display_data"
    }
   ],
   "source": [
    "%matplotlib inline\n",
    "\n",
    "plt.figure(figsize=[8,8])\n",
    "plt.plot(photz,np.array(photz) - np.array(photz2),'o')"
   ]
  },
  {
   "cell_type": "code",
   "execution_count": 19,
   "metadata": {},
   "outputs": [
    {
     "data": {
      "text/plain": [
       "array([ 0.99,  1.22,  1.01,  1.2 ,  1.48,  1.09,  1.18,  1.09,  1.27,\n",
       "        1.23,  1.18,  1.66,  1.08,  1.04,  1.08,  1.36,  1.16,  1.65,\n",
       "        1.19,  1.24,  1.49,  1.33,  1.7 ,  1.64,  1.69,  1.04,  1.67,\n",
       "        1.08,  1.05,  1.32,  1.4 ,  1.1 ,  1.14])"
      ]
     },
     "execution_count": 19,
     "metadata": {},
     "output_type": "execute_result"
    }
   ],
   "source": [
    "np.round(photz2,2)"
   ]
  },
  {
   "cell_type": "code",
   "execution_count": 14,
   "metadata": {},
   "outputs": [
    {
     "data": {
      "text/plain": [
       "[0.95799999999999996,\n",
       " 1.1830000000000001,\n",
       " 0.95799999999999996,\n",
       " 1.155,\n",
       " 1.4239999999999999,\n",
       " 1.0349999999999999,\n",
       " 1.1319999999999999,\n",
       " 1.052,\n",
       " 1.2310000000000001,\n",
       " 1.2030000000000001,\n",
       " 1.143,\n",
       " 1.5980000000000001,\n",
       " 1.0600000000000001,\n",
       " 1.006,\n",
       " 1.054,\n",
       " 1.3280000000000001,\n",
       " 1.1259999999999999,\n",
       " 1.6040000000000001,\n",
       " 1.1659999999999999,\n",
       " 1.212,\n",
       " 1.401,\n",
       " 1.298,\n",
       " 1.6080000000000001,\n",
       " 1.5960000000000001,\n",
       " 1.6020000000000001,\n",
       " 1.002,\n",
       " 1.615,\n",
       " 1.048,\n",
       " 1.022,\n",
       " 1.2869999999999999,\n",
       " 1.3520000000000001,\n",
       " 1.0589999999999999,\n",
       " 1.0640000000000001]"
      ]
     },
     "execution_count": 14,
     "metadata": {},
     "output_type": "execute_result"
    }
   ],
   "source": [
    "photzler"
   ]
  },
  {
   "cell_type": "code",
   "execution_count": 11,
   "metadata": {
    "collapsed": false
   },
   "outputs": [
    {
     "data": {
      "text/plain": [
       "array([ 0.99,  1.23,  1.01,  1.2 ,  1.48,  1.09,  1.18,  1.09,  1.27,\n",
       "        1.23,  1.18,  1.66,  1.08,  1.05,  1.08,  1.36,  1.16,  1.65,\n",
       "        1.19,  1.24,  1.51,  1.34,  1.72,  1.64,  1.69,  1.04,  1.67,\n",
       "        1.08,  1.05,  1.32,  1.4 ,  1.1 ,  1.14])"
      ]
     },
     "execution_count": 11,
     "metadata": {},
     "output_type": "execute_result"
    }
   ],
   "source": [
    "np.round(photz,2)"
   ]
  },
  {
   "cell_type": "code",
   "execution_count": 12,
   "metadata": {
    "collapsed": false
   },
   "outputs": [
    {
     "data": {
      "text/plain": [
       "[0.69999999999999996,\n",
       " 0.40000000000000002,\n",
       " 0.59999999999999998,\n",
       " 0.80000000000000004,\n",
       " 0.59999999999999998,\n",
       " 0.69999999999999996,\n",
       " 0.10000000000000001,\n",
       " 0.29999999999999999,\n",
       " 0.40000000000000002,\n",
       " 0.40000000000000002,\n",
       " 0.0,\n",
       " 0.5,\n",
       " 0.69999999999999996,\n",
       " 0.5,\n",
       " 0.29999999999999999,\n",
       " 0.40000000000000002,\n",
       " 0.10000000000000001,\n",
       " 0.69999999999999996,\n",
       " 0.29999999999999999,\n",
       " 0.80000000000000004,\n",
       " 0.80000000000000004,\n",
       " 1.1000000000000001,\n",
       " 1.0,\n",
       " 0.40000000000000002,\n",
       " 0.69999999999999996,\n",
       " 0.40000000000000002,\n",
       " 0.59999999999999998,\n",
       " 0.5,\n",
       " 0.10000000000000001,\n",
       " 0.59999999999999998,\n",
       " 0.29999999999999999,\n",
       " 0.40000000000000002,\n",
       " 0.59999999999999998]"
      ]
     },
     "execution_count": 12,
     "metadata": {},
     "output_type": "execute_result"
    }
   ],
   "source": [
    "A_v"
   ]
  },
  {
   "cell_type": "code",
   "execution_count": 11,
   "metadata": {
    "collapsed": false
   },
   "outputs": [
    {
     "data": {
      "text/plain": [
       "0.5"
      ]
     },
     "execution_count": 11,
     "metadata": {},
     "output_type": "execute_result"
    }
   ],
   "source": [
    "np.median(A_v)"
   ]
  },
  {
   "cell_type": "code",
   "execution_count": 8,
   "metadata": {
    "collapsed": false
   },
   "outputs": [],
   "source": [
    "newids=[]\n",
    "\n",
    "for i in galDB.index:\n",
    "    \n",
    "    if galDB['gids'][i][0] == 'n':\n",
    "        newids.append('GND' + galDB['gids'][i][1:])\n",
    "        \n",
    "    if galDB['gids'][i][0] == 's':\n",
    "        newids.append('GSD' + galDB['gids'][i][1:])"
   ]
  },
  {
   "cell_type": "code",
   "execution_count": 12,
   "metadata": {
    "collapsed": false
   },
   "outputs": [],
   "source": [
    "ipDB = pd.DataFrame({'gids':newids,'photz':photz2,'photz_lerr':photzler,'photz_herr':photzher,\n",
    "                     'lmass':np.round(galDB['l_mass'],1), 'snr' : np.round(galDB['SNR'],1) ,'J' : np.round(jband,1)})"
   ]
  },
  {
   "cell_type": "code",
   "execution_count": 13,
   "metadata": {
    "collapsed": false
   },
   "outputs": [],
   "source": [
    "ipDB=ipDB.sort_values(['photz'], ascending=True)"
   ]
  },
  {
   "cell_type": "code",
   "execution_count": 15,
   "metadata": {
    "collapsed": false
   },
   "outputs": [
    {
     "name": "stdout",
     "output_type": "stream",
     "text": [
      "GND23758 & $0.94 _ {- 0.04} ^ {+ 0.04}$ & 20.5 & 11.0 & 12.4 \\\\\n",
      "GND37955 & $0.97 _ {- 0.03} ^ {+ 0.03}$ & 21.3 & 10.8 & 7.7 \\\\\n",
      "GND16758 & $0.99 _ {- 0.03} ^ {+ 0.04}$ & 21.2 & 10.8 & 10.9 \\\\\n",
      "GSD43615 & $1.04 _ {- 0.04} ^ {+ 0.04}$ & 21.7 & 10.7 & 7.6 \\\\\n",
      "GSD42221 & $1.04 _ {- 0.04} ^ {+ 0.04}$ & 21.7 & 10.5 & 7.6 \\\\\n",
      "GSD39241 & $1.04 _ {- 0.04} ^ {+ 0.05}$ & 20.9 & 10.9 & 12.7 \\\\\n",
      "GSD45972 & $1.05 _ {- 0.02} ^ {+ 0.03}$ & 21.1 & 10.9 & 12.8 \\\\\n",
      "GSD44620 & $1.08 _ {- 0.03} ^ {+ 0.03}$ & 22.1 & 10.5 & 5.6 \\\\\n",
      "GSD39631 & $1.08 _ {- 0.03} ^ {+ 0.03}$ & 21.3 & 10.7 & 9.4 \\\\\n",
      "GSD39170 & $1.08 _ {- 0.02} ^ {+ 0.03}$ & 20.3 & 11.1 & 21.5 \\\\\n",
      "GND34694 & $1.09 _ {- 0.03} ^ {+ 0.04}$ & 21.0 & 10.9 & 10.6 \\\\\n",
      "GND23435 & $1.09 _ {- 0.06} ^ {+ 0.06}$ & 22.5 & 10.3 & 4.7 \\\\\n",
      "GSD47677 & $1.1 _ {- 0.04} ^ {+ 0.04}$ & 22.5 & 10.1 & 4.5 \\\\\n",
      "GSD39805 & $1.16 _ {- 0.03} ^ {+ 0.03}$ & 22.5 & 10.6 & 4.4 \\\\\n",
      "GSD38785 & $1.18 _ {- 0.03} ^ {+ 0.04}$ & 21.5 & 10.9 & 7.9 \\\\\n",
      "GND32566 & $1.18 _ {- 0.05} ^ {+ 0.05}$ & 21.7 & 10.6 & 6.9 \\\\\n",
      "GSD40476 & $1.19 _ {- 0.03} ^ {+ 0.03}$ & 21.9 & 10.6 & 9.2 \\\\\n",
      "GND21156 & $1.2 _ {- 0.04} ^ {+ 0.04}$ & 20.9 & 11.2 & 16.7 \\\\\n",
      "GND17070 & $1.22 _ {- 0.04} ^ {+ 0.04}$ & 21.2 & 10.9 & 6.0 \\\\\n",
      "GSD35774 & $1.23 _ {- 0.03} ^ {+ 0.03}$ & 21.0 & 10.9 & 10.8 \\\\\n",
      "GSD40597 & $1.24 _ {- 0.03} ^ {+ 0.03}$ & 20.9 & 11.0 & 17.3 \\\\\n",
      "GND37686 & $1.27 _ {- 0.04} ^ {+ 0.04}$ & 21.3 & 10.9 & 9.3 \\\\\n",
      "GSD46066 & $1.32 _ {- 0.03} ^ {+ 0.03}$ & 21.7 & 10.8 & 3.4 \\\\\n",
      "GSD40862 & $1.33 _ {- 0.04} ^ {+ 0.04}$ & 21.7 & 10.9 & 5.7 \\\\\n",
      "GSD39804 & $1.36 _ {- 0.03} ^ {+ 0.04}$ & 21.6 & 10.9 & 5.2 \\\\\n",
      "GND21427 & $1.48 _ {- 0.05} ^ {+ 0.05}$ & 22.0 & 10.7 & 3.1 \\\\\n",
      "GSD40623 & $1.49 _ {- 0.09} ^ {+ 0.11}$ & 22.3 & 10.8 & 5.6 \\\\\n",
      "GSD41520 & $1.64 _ {- 0.04} ^ {+ 0.04}$ & 22.2 & 10.9 & 4.4 \\\\\n",
      "GSD40223 & $1.65 _ {- 0.05} ^ {+ 0.05}$ & 22.7 & 10.7 & 2.8 \\\\\n",
      "GSD39012 & $1.66 _ {- 0.06} ^ {+ 0.06}$ & 22.6 & 11.1 & 2.3 \\\\\n",
      "GSD44042 & $1.67 _ {- 0.05} ^ {+ 0.05}$ & 21.8 & 11.0 & 4.8 \\\\\n"
     ]
    }
   ],
   "source": [
    "for i in ipDB.index:\n",
    "    print('%s & $%s _ {- %s} ^ {+ %s}$ & %s & %s & %s \\\\\\\\' % (ipDB['gids'][i],np.round(ipDB['photz'][i],2),\n",
    "                                            np.round(ipDB['photz'][i] - ipDB['photz_lerr'][i],2),\n",
    "                                            np.round(ipDB['photz_herr'][i] -ipDB['photz'][i],2),\n",
    "                                            ipDB['J'][i],ipDB['lmass'][i],ipDB['snr'][i]))"
   ]
  },
  {
   "cell_type": "code",
   "execution_count": 6,
   "metadata": {
    "collapsed": true
   },
   "outputs": [],
   "source": [
    "grisz_ler = []\n",
    "grisz_her = []\n",
    "for i in galDB.index:\n",
    "    z,P = np.load('../rshift_dat/%s_hires_Pofz.npy' % galDB['gids'][i])\n",
    "    med,ler,her=Median_w_Error_cont(P,z)\n",
    "    grisz_ler.append(np.round(ler,3))\n",
    "    grisz_her.append(np.round(her,3))"
   ]
  },
  {
   "cell_type": "code",
   "execution_count": 7,
   "metadata": {},
   "outputs": [],
   "source": [
    "dust_Z = []\n",
    "dust_t = []\n",
    "\n",
    "for i in galDB.index:\n",
    "    Z,PZ = np.load('../chidat/%s_dtau_Z_pos_lwa_dust.npy' % galDB['gids'][i])\n",
    "    dust_Z.append(Median_w_Error_cont(PZ,Z))\n",
    "    t,Pt = np.load('../chidat/%s_dtau_t_pos_lwa_dust.npy' % galDB['gids'][i])\n",
    "    dust_t.append(Median_w_Error_cont(Pt,t))\n",
    "    \n",
    "dust_Z = np.array(dust_Z).T\n",
    "dust_t = np.array(dust_t).T"
   ]
  },
  {
   "cell_type": "code",
   "execution_count": 11,
   "metadata": {},
   "outputs": [
    {
     "data": {
      "text/plain": [
       "array([[ 3.9168337,  2.0430862,  2.5831663,  2.0981964,  2.3296593,\n",
       "         3.1122244,  2.0320641,  2.8036072,  3.0681363,  2.8036072,\n",
       "         2.0541082,  1.8777555,  2.2194389,  2.506012,  3.993988,\n",
       "         3.0571142,  1.987976,  1.9769539,  1.9659319,  2.2635271,\n",
       "         2.506012,  1.1613226,  1.8226453,  1.5470942,  1.4809619,\n",
       "         3.9609218,  2.2084168,  1.9438878,  3.6853707,  3.4649299,\n",
       "         2.6713427,  3.0901804,  3.0791583],\n",
       "       [ 0.71643287,  0.51803607,  0.77154309,  0.41883768,  0.58416834,\n",
       "         0.76052104,  0.68336673,  0.46292585,  0.4739479,  0.85971944,\n",
       "         0.24248497,  0.3747495,  1.0250501,  0.52905812,  0.96993988,\n",
       "         0.56212425,  0.35270541,  0.29759519,  0.46292585,  0.099198397,\n",
       "         0.50701403,  0.11022044,  0.40781563,  0.28657315,  0.42985972,\n",
       "         0.60621242,  0.14328657,  0.56212425,  0.87074148,  0.57314629,\n",
       "         0.50701403,  0.61723447,  0.49599198],\n",
       "       [ 0.749499,  0.57314629,  1.0581162,  0.30861723,  0.58416834,\n",
       "         0.91482966,  0.46292585,  0.95891784,  0.78256513,  0.4739479,\n",
       "         0.15430862,  0.38577154,  0.2755511,  0.51803607,  0.87074148,\n",
       "         0.78256513,  0.22044088,  0.24248497,  0.60621242,  0.066132265,\n",
       "         0.85971944,  0.41883768,  0.70541082,  0.69438878,  0.52905812,\n",
       "         0.77154309,  0.12124248,  0.44088176,  0.68336673,  0.56212425,\n",
       "         0.88176353,  0.89278557,  0.44088176]], dtype=float128)"
      ]
     },
     "execution_count": 11,
     "metadata": {},
     "output_type": "execute_result"
    }
   ],
   "source": [
    "dust_t"
   ]
  },
  {
   "cell_type": "code",
   "execution_count": 9,
   "metadata": {
    "collapsed": false
   },
   "outputs": [],
   "source": [
    "opDB = pd.DataFrame({'gids':newids,'grisz':galDB['z_grism'], 'grisz_ler':np.round(galDB['z_grism_-'],3),'grisz_her':np.round(galDB['z_grism_+'],3),\n",
    "                     'Z':np.round(galDB['Zx']/0.019,2),'Z_+_sig':np.round(galDB['Zx_h']/0.019,2),\n",
    "                     'Z_-_sig':np.round(galDB['Zx_l']/0.019,2),\n",
    "                     't':np.round(galDB['tx'],2),'t_+_sig':np.round(galDB['tx_h'],2),\n",
    "                     't_-_sig':np.round(galDB['tx_l'],2),                     \n",
    "                     'tau':np.round(galDB['taux'],2),'tau_+_sig':np.round(galDB['taux_h'],2),\n",
    "                     'tau_-_sig':np.round(galDB['taux_l'],2),\n",
    "                     'd':np.round(galDB['dx'],2),'d_+_sig':np.round(galDB['dx_h'],2),\n",
    "                     'd_-_sig':np.round(galDB['dx_l'],2)})"
   ]
  },
  {
   "cell_type": "code",
   "execution_count": 10,
   "metadata": {
    "collapsed": true
   },
   "outputs": [],
   "source": [
    "opDB=opDB.sort_values(['grisz'], ascending=True)"
   ]
  },
  {
   "cell_type": "code",
   "execution_count": 11,
   "metadata": {
    "collapsed": false
   },
   "outputs": [
    {
     "name": "stdout",
     "output_type": "stream",
     "text": [
      "GND16758 & $1.015_{-0.002}^{+0.002}$ & $1.24_{-0.33}^{+0.25}$ & $3.53_{-0.48}^{+0.73}$ & $0.32_{-0.22}^{+0.23}$ & $0.06_{-0.04}^{+0.08}$ \\\\\n",
      "GSD39241 & $1.017_{-0.002}^{+0.002}$ & $1.23_{-0.27}^{+0.23}$ & $3.71_{-0.53}^{+0.74}$ & $0.27_{-0.19}^{+0.22}$ & $0.16_{-0.09}^{+0.11}$ \\\\\n",
      "GSD42221 & $1.018_{-0.005}^{+0.005}$ & $1.2_{-0.49}^{+0.26}$ & $1.22_{-0.29}^{+0.86}$ & $0.24_{-0.19}^{+0.67}$ & $0.19_{-0.12}^{+0.17}$ \\\\\n",
      "GSD43615 & $1.02_{-0.005}^{+0.002}$ & $1.13_{-0.37}^{+0.3}$ & $3.86_{-0.78}^{+0.9}$ & $0.27_{-0.19}^{+0.25}$ & $0.48_{-0.16}^{+0.2}$ \\\\\n",
      "GSD39170 & $1.023_{-0.002}^{+0.002}$ & $1.45_{-0.17}^{+0.09}$ & $3.41_{-0.3}^{+0.21}$ & $0.54_{-0.21}^{+0.1}$ & $0.04_{-0.03}^{+0.04}$ \\\\\n",
      "GND37955 & $1.027_{-0.002}^{+0.005}$ & $1.27_{-0.48}^{+0.23}$ & $2.67_{-0.34}^{+0.42}$ & $0.7_{-0.31}^{+0.21}$ & $0.63_{-0.24}^{+0.22}$ \\\\\n",
      "GSD45972 & $1.041_{-0.002}^{+0.002}$ & $0.73_{-0.22}^{+0.4}$ & $3.48_{-0.76}^{+1.05}$ & $0.27_{-0.18}^{+0.25}$ & $0.07_{-0.05}^{+0.08}$ \\\\\n",
      "GSD39631 & $1.057_{-0.01}^{+0.002}$ & $0.62_{-0.27}^{+0.49}$ & $3.61_{-0.94}^{+0.98}$ & $0.24_{-0.17}^{+0.24}$ & $0.19_{-0.11}^{+0.12}$ \\\\\n",
      "GSD47677 & $1.117_{-0.005}^{+0.002}$ & $1.05_{-0.45}^{+0.37}$ & $3.16_{-0.67}^{+0.9}$ & $0.29_{-0.2}^{+0.26}$ & $0.28_{-0.16}^{+0.21}$ \\\\\n",
      "GND23435 & $1.139_{-0.007}^{+0.005}$ & $0.73_{-0.43}^{+0.57}$ & $2.22_{-0.73}^{+0.64}$ & $0.34_{-0.24}^{+0.34}$ & $0.38_{-0.2}^{+0.27}$ \\\\\n",
      "GND34694 & $1.145_{-0.002}^{+0.002}$ & $1.18_{-0.36}^{+0.26}$ & $2.0_{-0.42}^{+0.62}$ & $0.18_{-0.12}^{+0.19}$ & $0.26_{-0.13}^{+0.15}$ \\\\\n",
      "GND32566 & $1.148_{-0.002}^{+0.005}$ & $1.16_{-0.48}^{+0.3}$ & $2.09_{-0.67}^{+0.4}$ & $0.51_{-0.34}^{+0.33}$ & $0.35_{-0.18}^{+0.24}$ \\\\\n",
      "GND23758 & $1.161_{-0.002}^{+0.005}$ & $0.6_{-0.45}^{+0.59}$ & $2.1_{-0.25}^{+0.28}$ & $1.01_{-0.24}^{+0.21}$ & $0.91_{-0.13}^{+0.07}$ \\\\\n",
      "GSD38785 & $1.17_{-0.002}^{+0.005}$ & $0.83_{-0.54}^{+0.48}$ & $2.44_{-0.58}^{+0.58}$ & $0.42_{-0.28}^{+0.28}$ & $0.28_{-0.16}^{+0.22}$ \\\\\n",
      "GND17070 & $1.175_{-0.014}^{+0.005}$ & $1.09_{-0.4}^{+0.33}$ & $2.02_{-0.64}^{+0.54}$ & $0.32_{-0.23}^{+0.34}$ & $0.14_{-0.09}^{+0.13}$ \\\\\n",
      "GSD40476 & $1.209_{-0.002}^{+0.002}$ & $0.52_{-0.25}^{+0.43}$ & $1.51_{-0.39}^{+0.69}$ & $0.16_{-0.11}^{+0.22}$ & $0.52_{-0.21}^{+0.24}$ \\\\\n",
      "GSD40597 & $1.221_{-0.002}^{+0.002}$ & $1.29_{-0.33}^{+0.21}$ & $2.49_{-0.36}^{+0.2}$ & $0.64_{-0.25}^{+0.15}$ & $0.18_{-0.1}^{+0.13}$ \\\\\n",
      "GSD35774 & $1.227_{-0.005}^{+0.002}$ & $1.31_{-0.24}^{+0.18}$ & $1.43_{-0.21}^{+0.45}$ & $0.1_{-0.07}^{+0.1}$ & $0.67_{-0.27}^{+0.22}$ \\\\\n",
      "GSD39805 & $1.243_{-0.019}^{+0.051}$ & $1.07_{-0.58}^{+0.37}$ & $2.09_{-0.5}^{+0.36}$ & $0.57_{-0.31}^{+0.28}$ & $0.4_{-0.21}^{+0.29}$ \\\\\n",
      "GND21156 & $1.249_{-0.002}^{+0.002}$ & $0.87_{-0.31}^{+0.31}$ & $1.92_{-0.41}^{+0.54}$ & $0.22_{-0.14}^{+0.18}$ & $0.37_{-0.14}^{+0.16}$ \\\\\n",
      "GND37686 & $1.256_{-0.002}^{+0.001}$ & $0.61_{-0.25}^{+0.43}$ & $2.98_{-0.61}^{+0.76}$ & $0.24_{-0.17}^{+0.24}$ & $0.54_{-0.19}^{+0.21}$ \\\\\n",
      "GSD46066 & $1.325_{-0.002}^{+0.012}$ & $1.06_{-0.28}^{+0.31}$ & $3.5_{-0.58}^{+0.56}$ & $0.18_{-0.12}^{+0.17}$ & $0.47_{-0.23}^{+0.28}$ \\\\\n",
      "GSD40862 & $1.328_{-0.005}^{+0.002}$ & $1.19_{-0.47}^{+0.28}$ & $2.36_{-0.68}^{+0.73}$ & $0.19_{-0.13}^{+0.18}$ & $0.48_{-0.24}^{+0.27}$ \\\\\n",
      "GSD39804 & $1.333_{-0.001}^{+0.005}$ & $0.98_{-0.3}^{+0.37}$ & $3.12_{-0.53}^{+0.66}$ & $0.21_{-0.14}^{+0.2}$ & $0.33_{-0.17}^{+0.23}$ \\\\\n",
      "GSD44620 & $1.334_{-0.007}^{+0.005}$ & $0.88_{-0.52}^{+0.5}$ & $0.9_{-0.24}^{+0.47}$ & $0.19_{-0.12}^{+0.28}$ & $0.62_{-0.28}^{+0.26}$ \\\\\n",
      "GSD40623 & $1.413_{-0.005}^{+0.019}$ & $1.06_{-0.26}^{+0.3}$ & $2.99_{-0.53}^{+0.56}$ & $0.17_{-0.11}^{+0.15}$ & $0.39_{-0.19}^{+0.24}$ \\\\\n",
      "GND21427 & $1.506_{-0.022}^{+0.072}$ & $0.92_{-0.45}^{+0.44}$ & $2.43_{-0.63}^{+0.64}$ & $0.24_{-0.17}^{+0.22}$ & $0.43_{-0.22}^{+0.28}$ \\\\\n",
      "GSD40223 & $1.595_{-0.005}^{+0.005}$ & $0.77_{-0.41}^{+0.51}$ & $1.81_{-0.54}^{+0.5}$ & $0.38_{-0.22}^{+0.23}$ & $0.49_{-0.25}^{+0.29}$ \\\\\n",
      "GSD41520 & $1.602_{-0.002}^{+0.002}$ & $1.02_{-0.51}^{+0.43}$ & $1.82_{-0.46}^{+0.73}$ & $0.16_{-0.11}^{+0.16}$ & $0.79_{-0.19}^{+0.14}$ \\\\\n",
      "GSD44042 & $1.611_{-0.002}^{+0.002}$ & $1.01_{-0.67}^{+0.47}$ & $2.29_{-0.44}^{+0.37}$ & $0.38_{-0.24}^{+0.16}$ & $0.31_{-0.16}^{+0.22}$ \\\\\n",
      "GSD39012 & $1.612_{-0.024}^{+0.01}$ & $0.69_{-0.4}^{+0.58}$ & $1.92_{-0.58}^{+0.61}$ & $0.38_{-0.24}^{+0.26}$ & $0.43_{-0.22}^{+0.3}$ \\\\\n"
     ]
    }
   ],
   "source": [
    "for i in opDB.index:\n",
    "    print('%s & $%s_{-%s}^{+%s}$ & $%s_{-%s}^{+%s}$ & $%s_{-%s}^{+%s}$ & $%s_{-%s}^{+%s}$ & $%s_{-%s}^{+%s}$ \\\\\\\\' % \\\n",
    "          (opDB['gids'][i],opDB['grisz'][i],opDB['grisz_ler'][i], opDB['grisz_her'][i],\n",
    "            opDB['Z'][i],opDB['Z_-_sig'][i],opDB['Z_+_sig'][i],\n",
    "            opDB['t'][i],opDB['t_-_sig'][i],opDB['t_+_sig'][i],\n",
    "            opDB['tau'][i],opDB['tau_-_sig'][i],opDB['tau_+_sig'][i],\n",
    "            opDB['d'][i],opDB['d_-_sig'][i],opDB['d_+_sig'][i]))\n",
    "#  opDB[['gids','specz','Z','Z_+_sig','Z_-_sig','t','t_+_sig','t_-_sig']].to_latex(index=False)"
   ]
  },
  {
   "cell_type": "code",
   "execution_count": 45,
   "metadata": {
    "collapsed": true
   },
   "outputs": [
    {
     "data": {
      "text/plain": [
       "[<matplotlib.lines.Line2D at 0x1170d1b50>]"
      ]
     },
     "execution_count": 45,
     "metadata": {},
     "output_type": "execute_result"
    },
    {
     "data": {
      "image/png": "[encoded data removed]",
      "text/plain": [
       "<matplotlib.figure.Figure at 0x11743c0d0>"
      ]
     },
     "metadata": {},
     "output_type": "display_data"
    }
   ],
   "source": [
    "%matplotlib inline\n",
    "\n",
    "plt.figure(figsize=[8,8])\n",
    "plt.plot(galDB['hi_res_specz'],photz-galDB['hi_res_specz'],'o')"
   ]
  },
  {
   "cell_type": "code",
   "execution_count": 26,
   "metadata": {
    "collapsed": true
   },
   "outputs": [
    {
     "data": {
      "text/html": [
       "<div>\n",
       "<style scoped>\n",
       "    .dataframe tbody tr th:only-of-type {\n",
       "        vertical-align: middle;\n",
       "    }\n",
       "\n",
       "    .dataframe tbody tr th {\n",
       "        vertical-align: top;\n",
       "    }\n",
       "\n",
       "    .dataframe thead th {\n",
       "        text-align: right;\n",
       "    }\n",
       "</style>\n",
       "<table border=\"1\" class=\"dataframe\">\n",
       "  <thead>\n",
       "    <tr style=\"text-align: right;\">\n",
       "      <th></th>\n",
       "      <th>gids</th>\n",
       "      <th>z_grism</th>\n",
       "      <th>z_grism_+</th>\n",
       "      <th>z_grism_-</th>\n",
       "      <th>Z</th>\n",
       "      <th>Z_l</th>\n",
       "      <th>Z_h</th>\n",
       "      <th>Zx</th>\n",
       "      <th>Zx_l</th>\n",
       "      <th>Zx_h</th>\n",
       "      <th>...</th>\n",
       "      <th>taux_l</th>\n",
       "      <th>taux_h</th>\n",
       "      <th>d</th>\n",
       "      <th>d_l</th>\n",
       "      <th>d_h</th>\n",
       "      <th>dx</th>\n",
       "      <th>dx_l</th>\n",
       "      <th>dx_h</th>\n",
       "      <th>l_mass</th>\n",
       "      <th>SNR</th>\n",
       "    </tr>\n",
       "  </thead>\n",
       "  <tbody>\n",
       "    <tr>\n",
       "      <th>29</th>\n",
       "      <td>s46066</td>\n",
       "      <td>1.325</td>\n",
       "      <td>0.020</td>\n",
       "      <td>0.008</td>\n",
       "      <td>0.021</td>\n",
       "      <td>0.006</td>\n",
       "      <td>0.005</td>\n",
       "      <td>0.020124</td>\n",
       "      <td>0.005331</td>\n",
       "      <td>0.005892</td>\n",
       "      <td>...</td>\n",
       "      <td>0.121040</td>\n",
       "      <td>0.169456</td>\n",
       "      <td>0.5</td>\n",
       "      <td>0.258</td>\n",
       "      <td>0.254</td>\n",
       "      <td>0.474950</td>\n",
       "      <td>0.232465</td>\n",
       "      <td>0.278557</td>\n",
       "      <td>10.85</td>\n",
       "      <td>3.433261</td>\n",
       "    </tr>\n",
       "    <tr>\n",
       "      <th>22</th>\n",
       "      <td>s40862</td>\n",
       "      <td>1.328</td>\n",
       "      <td>0.005</td>\n",
       "      <td>0.007</td>\n",
       "      <td>0.023</td>\n",
       "      <td>0.009</td>\n",
       "      <td>0.005</td>\n",
       "      <td>0.022537</td>\n",
       "      <td>0.008866</td>\n",
       "      <td>0.005275</td>\n",
       "      <td>...</td>\n",
       "      <td>0.127092</td>\n",
       "      <td>0.181560</td>\n",
       "      <td>0.5</td>\n",
       "      <td>0.254</td>\n",
       "      <td>0.254</td>\n",
       "      <td>0.482966</td>\n",
       "      <td>0.236473</td>\n",
       "      <td>0.270541</td>\n",
       "      <td>10.92</td>\n",
       "      <td>5.699652</td>\n",
       "    </tr>\n",
       "    <tr>\n",
       "      <th>16</th>\n",
       "      <td>s39804</td>\n",
       "      <td>1.333</td>\n",
       "      <td>0.005</td>\n",
       "      <td>0.004</td>\n",
       "      <td>0.019</td>\n",
       "      <td>0.006</td>\n",
       "      <td>0.007</td>\n",
       "      <td>0.018609</td>\n",
       "      <td>0.005611</td>\n",
       "      <td>0.006958</td>\n",
       "      <td>...</td>\n",
       "      <td>0.139196</td>\n",
       "      <td>0.199716</td>\n",
       "      <td>0.4</td>\n",
       "      <td>0.248</td>\n",
       "      <td>0.155</td>\n",
       "      <td>0.326653</td>\n",
       "      <td>0.174349</td>\n",
       "      <td>0.228457</td>\n",
       "      <td>10.91</td>\n",
       "      <td>5.160591</td>\n",
       "    </tr>\n",
       "    <tr>\n",
       "      <th>27</th>\n",
       "      <td>s44620</td>\n",
       "      <td>1.334</td>\n",
       "      <td>0.008</td>\n",
       "      <td>0.056</td>\n",
       "      <td>0.017</td>\n",
       "      <td>0.010</td>\n",
       "      <td>0.009</td>\n",
       "      <td>0.016701</td>\n",
       "      <td>0.009820</td>\n",
       "      <td>0.009483</td>\n",
       "      <td>...</td>\n",
       "      <td>0.121040</td>\n",
       "      <td>0.278392</td>\n",
       "      <td>0.7</td>\n",
       "      <td>0.363</td>\n",
       "      <td>0.172</td>\n",
       "      <td>0.615230</td>\n",
       "      <td>0.278557</td>\n",
       "      <td>0.256513</td>\n",
       "      <td>10.50</td>\n",
       "      <td>5.559990</td>\n",
       "    </tr>\n",
       "    <tr>\n",
       "      <th>21</th>\n",
       "      <td>s40623</td>\n",
       "      <td>1.413</td>\n",
       "      <td>0.025</td>\n",
       "      <td>0.009</td>\n",
       "      <td>0.021</td>\n",
       "      <td>0.006</td>\n",
       "      <td>0.005</td>\n",
       "      <td>0.020124</td>\n",
       "      <td>0.004882</td>\n",
       "      <td>0.005667</td>\n",
       "      <td>...</td>\n",
       "      <td>0.114988</td>\n",
       "      <td>0.151300</td>\n",
       "      <td>0.4</td>\n",
       "      <td>0.202</td>\n",
       "      <td>0.229</td>\n",
       "      <td>0.390782</td>\n",
       "      <td>0.192385</td>\n",
       "      <td>0.238477</td>\n",
       "      <td>10.76</td>\n",
       "      <td>5.594231</td>\n",
       "    </tr>\n",
       "  </tbody>\n",
       "</table>\n",
       "<p>5 rows × 30 columns</p>\n",
       "</div>"
      ],
      "text/plain": [
       "      gids  z_grism  z_grism_+  z_grism_-      Z    Z_l    Z_h        Zx  \\\n",
       "29  s46066    1.325      0.020      0.008  0.021  0.006  0.005  0.020124   \n",
       "22  s40862    1.328      0.005      0.007  0.023  0.009  0.005  0.022537   \n",
       "16  s39804    1.333      0.005      0.004  0.019  0.006  0.007  0.018609   \n",
       "27  s44620    1.334      0.008      0.056  0.017  0.010  0.009  0.016701   \n",
       "21  s40623    1.413      0.025      0.009  0.021  0.006  0.005  0.020124   \n",
       "\n",
       "        Zx_l      Zx_h    ...       taux_l    taux_h    d    d_l    d_h  \\\n",
       "29  0.005331  0.005892    ...     0.121040  0.169456  0.5  0.258  0.254   \n",
       "22  0.008866  0.005275    ...     0.127092  0.181560  0.5  0.254  0.254   \n",
       "16  0.005611  0.006958    ...     0.139196  0.199716  0.4  0.248  0.155   \n",
       "27  0.009820  0.009483    ...     0.121040  0.278392  0.7  0.363  0.172   \n",
       "21  0.004882  0.005667    ...     0.114988  0.151300  0.4  0.202  0.229   \n",
       "\n",
       "          dx      dx_l      dx_h  l_mass       SNR  \n",
       "29  0.474950  0.232465  0.278557   10.85  3.433261  \n",
       "22  0.482966  0.236473  0.270541   10.92  5.699652  \n",
       "16  0.326653  0.174349  0.228457   10.91  5.160591  \n",
       "27  0.615230  0.278557  0.256513   10.50  5.559990  \n",
       "21  0.390782  0.192385  0.238477   10.76  5.594231  \n",
       "\n",
       "[5 rows x 30 columns]"
      ]
     },
     "execution_count": 26,
     "metadata": {},
     "output_type": "execute_result"
    }
   ],
   "source": [
    "hzDB.sort_values('z_grism')"
   ]
  },
  {
   "cell_type": "code",
   "execution_count": null,
   "metadata": {},
   "outputs": [],
   "source": []
  }
 ],
 "metadata": {
  "kernelspec": {
   "display_name": "Python 3",
   "language": "python",
   "name": "python3"
  },
  "language_info": {
   "codemirror_mode": {
    "name": "ipython",
    "version": 3
   },
   "file_extension": ".py",
   "mimetype": "text/x-python",
   "name": "python",
   "nbconvert_exporter": "python",
   "pygments_lexer": "ipython3",
   "version": "3.5.5"
  }
 },
 "nbformat": 4,
 "nbformat_minor": 2
}
