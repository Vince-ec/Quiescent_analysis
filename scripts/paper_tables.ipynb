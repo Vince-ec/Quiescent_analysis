{
 "cells": [
  {
   "cell_type": "code",
   "execution_count": 1,
   "metadata": {
    "collapsed": true
   },
   "outputs": [],
   "source": [
    "from astropy.table import Table\n",
    "from astropy.io import fits\n",
    "from vtl.Readfile import Readfile\n",
    "from astropy.cosmology import Planck13, z_at_value\n",
    "from spec_id import Median_w_Error_cont\n",
    "from glob import glob\n",
    "import seaborn as sea\n",
    "import numpy as np\n",
    "import pandas as pd\n",
    "import matplotlib.pyplot as plt\n",
    "sea.set(style='white')\n",
    "sea.set(style='ticks')\n",
    "sea.set_style({'xtick.direct'\n",
    "               'ion': 'in','xtick.top':True,'xtick.minor.visible': True,\n",
    "               'ytick.direction': \"in\",'ytick.right': True,'ytick.minor.visible': True})\n",
    "colors = [(0,i,i,i) for i in np.linspace(0,1,3)]\n",
    "cmap = sea.cubehelix_palette(12, start=2, rot=.2, dark=0, light=1.2, as_cmap=True)"
   ]
  },
  {
   "cell_type": "code",
   "execution_count": 2,
   "metadata": {
    "collapsed": false
   },
   "outputs": [],
   "source": [
    "galDB = pd.read_pickle('../data/sgal_param_DB.pkl')\n",
    "galDB = galDB.query('ids != 14713 and ids != 38126')\n",
    "qgDB = pd.read_pickle('../data/good_spec_gal_DB.pkl')\n",
    "# goodss = Table.read('/Users/Vince.ec/catalogs_for_CLEAR/goodss_3dhst.v4.1.cats/Eazy/goodss_3dhst.v4.1.zout',\n",
    "#                    format = 'ascii')\n",
    "# goodsn = Table.read('/Users/Vince.ec/catalogs_for_CLEAR/goodsn_3dhst.v4.1.cats/Eazy/goodsn_3dhst.v4.1.zout',\n",
    "#                    format = 'ascii')\n",
    "# goodss_fast = Table.read('/Users/Vince.ec/catalogs_for_CLEAR/goodss_3dhst.v4.1.cats/Fast/goodss_3dhst.v4.1.fout',\n",
    "#                    format = 'ascii')\n",
    "# goodsn_fast = Table.read('/Users/Vince.ec/catalogs_for_CLEAR/goodsn_3dhst.v4.1.cats/Fast/goodsn_3dhst.v4.1.fout',\n",
    "#                    format = 'ascii')\n",
    "\n",
    "# goodss_mag = Table.read('../../../Clear_data/goodss_mosaic/goodss_3dhst.v4.3.cat', format = 'ascii')\n",
    "# goodsn_mag = Table.read('../../../Clear_data/goodsn_mosaic/goodsn_3dhstP.cat', format = 'ascii')\n",
    "\n",
    "\n",
    "goodss_mag = Table.read('../../../Clear_data/goodss_3dhst.v4.3.cat', format = 'ascii')\n",
    "goodsn_mag = Table.read('../../../Clear_data/goodsn_3dhst.v4.3.cat', format = 'ascii')\n",
    "\n",
    "goodss = Table.read('/Users/vestrada/Desktop/catalogs_for_CLEAR/goodss_3dhst.v4.1.cats/Eazy/goodss_3dhst.v4.1.zout',\n",
    "                   format = 'ascii')\n",
    "goodsn = Table.read('/Users/vestrada/Desktop/catalogs_for_CLEAR/goodsn_3dhst.v4.1.cats/Eazy/goodsn_3dhst.v4.1.zout',\n",
    "                   format = 'ascii')"
   ]
  },
  {
   "cell_type": "code",
   "execution_count": 3,
   "metadata": {
    "collapsed": false
   },
   "outputs": [],
   "source": [
    "def Mag(f125):\n",
    "    return 25.0-2.5*np.log10(f125)"
   ]
  },
  {
   "cell_type": "code",
   "execution_count": 4,
   "metadata": {
    "collapsed": false
   },
   "outputs": [],
   "source": [
    "specz = [] \n",
    "photz = []\n",
    "photz2 = []\n",
    "photzler = []\n",
    "photzher = []\n",
    "jband = []\n",
    "# A_v = []\n",
    "for i in galDB.index:\n",
    "    if galDB['gids'][i][0] == 's':\n",
    "        specz.append(goodss['z_spec'][galDB['ids'][i]-1])\n",
    "        photz.append(goodss['z_m1'][galDB['ids'][i]-1])\n",
    "        photz2.append(goodss['z_peak'][galDB['ids'][i]-1])\n",
    "        photzler.append(goodss['l68'][galDB['ids'][i]-1])\n",
    "        photzher.append(goodss['u68'][galDB['ids'][i]-1])\n",
    "        jband.append(Mag(goodss_mag['f_F125W'][galDB['ids'][i]-1]))\n",
    "#         A_v.append(goodss_fast['Av'][galDB['ids'][i]-1])\n",
    "        \n",
    "    if galDB['gids'][i][0] == 'n':\n",
    "        specz.append(goodsn['z_spec'][galDB['ids'][i]-1])\n",
    "        photz.append(goodsn['z_m1'][galDB['ids'][i]-1])\n",
    "        photz2.append(goodsn['z_peak'][galDB['ids'][i]-1])\n",
    "        photzler.append(goodsn['l68'][galDB['ids'][i]-1])\n",
    "        photzher.append(goodsn['u68'][galDB['ids'][i]-1])\n",
    "        jband.append(Mag(goodsn_mag['f_F125W'][galDB['ids'][i]-1]))\n",
    "#         A_v.append(goodsn_fast['Av'][galDB['ids'][i]-1])\n",
    "\n"
   ]
  },
  {
   "cell_type": "code",
   "execution_count": 11,
   "metadata": {},
   "outputs": [
    {
     "data": {
      "text/plain": [
       "[<matplotlib.lines.Line2D at 0x10c980350>]"
      ]
     },
     "execution_count": 11,
     "metadata": {},
     "output_type": "execute_result"
    },
    {
     "data": {
      "image/png": "[encoded data removed]",
      "text/plain": [
       "<matplotlib.figure.Figure at 0x10c6e0b10>"
      ]
     },
     "metadata": {},
     "output_type": "display_data"
    }
   ],
   "source": [
    "%matplotlib inline\n",
    "\n",
    "plt.figure(figsize=[8,8])\n",
    "plt.plot(photz,np.array(photz) - np.array(photz2),'o')"
   ]
  },
  {
   "cell_type": "code",
   "execution_count": 19,
   "metadata": {},
   "outputs": [
    {
     "data": {
      "text/plain": [
       "array([ 0.99,  1.22,  1.01,  1.2 ,  1.48,  1.09,  1.18,  1.09,  1.27,\n",
       "        1.23,  1.18,  1.66,  1.08,  1.04,  1.08,  1.36,  1.16,  1.65,\n",
       "        1.19,  1.24,  1.49,  1.33,  1.7 ,  1.64,  1.69,  1.04,  1.67,\n",
       "        1.08,  1.05,  1.32,  1.4 ,  1.1 ,  1.14])"
      ]
     },
     "execution_count": 19,
     "metadata": {},
     "output_type": "execute_result"
    }
   ],
   "source": [
    "np.round(photz2,2)"
   ]
  },
  {
   "cell_type": "code",
   "execution_count": 14,
   "metadata": {},
   "outputs": [
    {
     "data": {
      "text/plain": [
       "[0.95799999999999996,\n",
       " 1.1830000000000001,\n",
       " 0.95799999999999996,\n",
       " 1.155,\n",
       " 1.4239999999999999,\n",
       " 1.0349999999999999,\n",
       " 1.1319999999999999,\n",
       " 1.052,\n",
       " 1.2310000000000001,\n",
       " 1.2030000000000001,\n",
       " 1.143,\n",
       " 1.5980000000000001,\n",
       " 1.0600000000000001,\n",
       " 1.006,\n",
       " 1.054,\n",
       " 1.3280000000000001,\n",
       " 1.1259999999999999,\n",
       " 1.6040000000000001,\n",
       " 1.1659999999999999,\n",
       " 1.212,\n",
       " 1.401,\n",
       " 1.298,\n",
       " 1.6080000000000001,\n",
       " 1.5960000000000001,\n",
       " 1.6020000000000001,\n",
       " 1.002,\n",
       " 1.615,\n",
       " 1.048,\n",
       " 1.022,\n",
       " 1.2869999999999999,\n",
       " 1.3520000000000001,\n",
       " 1.0589999999999999,\n",
       " 1.0640000000000001]"
      ]
     },
     "execution_count": 14,
     "metadata": {},
     "output_type": "execute_result"
    }
   ],
   "source": [
    "photzler"
   ]
  },
  {
   "cell_type": "code",
   "execution_count": 11,
   "metadata": {
    "collapsed": false
   },
   "outputs": [
    {
     "data": {
      "text/plain": [
       "array([ 0.99,  1.23,  1.01,  1.2 ,  1.48,  1.09,  1.18,  1.09,  1.27,\n",
       "        1.23,  1.18,  1.66,  1.08,  1.05,  1.08,  1.36,  1.16,  1.65,\n",
       "        1.19,  1.24,  1.51,  1.34,  1.72,  1.64,  1.69,  1.04,  1.67,\n",
       "        1.08,  1.05,  1.32,  1.4 ,  1.1 ,  1.14])"
      ]
     },
     "execution_count": 11,
     "metadata": {},
     "output_type": "execute_result"
    }
   ],
   "source": [
    "np.round(photz,2)"
   ]
  },
  {
   "cell_type": "code",
   "execution_count": 12,
   "metadata": {
    "collapsed": false
   },
   "outputs": [
    {
     "data": {
      "text/plain": [
       "[0.69999999999999996,\n",
       " 0.40000000000000002,\n",
       " 0.59999999999999998,\n",
       " 0.80000000000000004,\n",
       " 0.59999999999999998,\n",
       " 0.69999999999999996,\n",
       " 0.10000000000000001,\n",
       " 0.29999999999999999,\n",
       " 0.40000000000000002,\n",
       " 0.40000000000000002,\n",
       " 0.0,\n",
       " 0.5,\n",
       " 0.69999999999999996,\n",
       " 0.5,\n",
       " 0.29999999999999999,\n",
       " 0.40000000000000002,\n",
       " 0.10000000000000001,\n",
       " 0.69999999999999996,\n",
       " 0.29999999999999999,\n",
       " 0.80000000000000004,\n",
       " 0.80000000000000004,\n",
       " 1.1000000000000001,\n",
       " 1.0,\n",
       " 0.40000000000000002,\n",
       " 0.69999999999999996,\n",
       " 0.40000000000000002,\n",
       " 0.59999999999999998,\n",
       " 0.5,\n",
       " 0.10000000000000001,\n",
       " 0.59999999999999998,\n",
       " 0.29999999999999999,\n",
       " 0.40000000000000002,\n",
       " 0.59999999999999998]"
      ]
     },
     "execution_count": 12,
     "metadata": {},
     "output_type": "execute_result"
    }
   ],
   "source": [
    "A_v"
   ]
  },
  {
   "cell_type": "code",
   "execution_count": 11,
   "metadata": {
    "collapsed": false
   },
   "outputs": [
    {
     "data": {
      "text/plain": [
       "0.5"
      ]
     },
     "execution_count": 11,
     "metadata": {},
     "output_type": "execute_result"
    }
   ],
   "source": [
    "np.median(A_v)"
   ]
  },
  {
   "cell_type": "code",
   "execution_count": 5,
   "metadata": {
    "collapsed": false
   },
   "outputs": [],
   "source": [
    "newids=[]\n",
    "\n",
    "for i in galDB.index:\n",
    "    \n",
    "    if galDB['gids'][i][0] == 'n':\n",
    "        newids.append('GND' + galDB['gids'][i][1:])\n",
    "        \n",
    "    if galDB['gids'][i][0] == 's':\n",
    "        newids.append('GSD' + galDB['gids'][i][1:])"
   ]
  },
  {
   "cell_type": "code",
   "execution_count": 16,
   "metadata": {
    "collapsed": false
   },
   "outputs": [],
   "source": [
    "ipDB = pd.DataFrame({'gids':newids,'photz':photz2,'photz_lerr':photzler,'photz_herr':photzher,\n",
    "                     'lmass':np.round(galDB['rf_lmass'],1), 'snr' : np.round(galDB['SN'],1) ,'J' : np.round(jband,1)})"
   ]
  },
  {
   "cell_type": "code",
   "execution_count": 17,
   "metadata": {
    "collapsed": false
   },
   "outputs": [],
   "source": [
    "ipDB=ipDB.sort_values(['photz'], ascending=True)"
   ]
  },
  {
   "cell_type": "code",
   "execution_count": 18,
   "metadata": {
    "collapsed": false
   },
   "outputs": [
    {
     "name": "stdout",
     "output_type": "stream",
     "text": [
      "GND16758 & $0.99 _ {- 0.03} ^ {+ 0.04}$ & 21.2 & 10.8 & 10.5 \\\\\n",
      "GND19442 & $1.01 _ {- 0.05} ^ {+ 0.05}$ & 22.9 & 10.1 & 1.2 \\\\\n",
      "GSD43615 & $1.04 _ {- 0.04} ^ {+ 0.04}$ & 21.7 & 10.7 & 7.0 \\\\\n",
      "GSD39241 & $1.04 _ {- 0.04} ^ {+ 0.05}$ & 20.9 & 10.9 & 13.0 \\\\\n",
      "GSD45972 & $1.05 _ {- 0.02} ^ {+ 0.03}$ & 21.1 & 10.9 & 13.2 \\\\\n",
      "GSD44620 & $1.08 _ {- 0.03} ^ {+ 0.03}$ & 22.1 & 10.5 & 4.5 \\\\\n",
      "GSD39631 & $1.08 _ {- 0.03} ^ {+ 0.03}$ & 21.3 & 10.7 & 9.9 \\\\\n",
      "GSD39170 & $1.08 _ {- 0.02} ^ {+ 0.03}$ & 20.3 & 11.1 & 22.3 \\\\\n",
      "GND34694 & $1.09 _ {- 0.03} ^ {+ 0.04}$ & 21.0 & 10.9 & 11.4 \\\\\n",
      "GND23435 & $1.09 _ {- 0.06} ^ {+ 0.06}$ & 22.5 & 10.3 & 3.3 \\\\\n",
      "GSD47677 & $1.1 _ {- 0.04} ^ {+ 0.04}$ & 22.5 & 10.2 & 3.7 \\\\\n",
      "GSD48631 & $1.14 _ {- 0.08} ^ {+ 0.06}$ & 21.2 & 10.9 & 6.1 \\\\\n",
      "GSD39805 & $1.16 _ {- 0.03} ^ {+ 0.03}$ & 22.5 & 10.5 & 3.6 \\\\\n",
      "GSD38785 & $1.18 _ {- 0.03} ^ {+ 0.04}$ & 21.5 & 10.8 & 7.1 \\\\\n",
      "GND32566 & $1.18 _ {- 0.05} ^ {+ 0.05}$ & 21.7 & 10.6 & 6.0 \\\\\n",
      "GSD40476 & $1.19 _ {- 0.03} ^ {+ 0.03}$ & 21.9 & 10.6 & 8.5 \\\\\n",
      "GND21156 & $1.2 _ {- 0.04} ^ {+ 0.04}$ & 20.9 & 11.0 & 15.7 \\\\\n",
      "GND17070 & $1.22 _ {- 0.04} ^ {+ 0.04}$ & 21.2 & 10.9 & 5.0 \\\\\n",
      "GSD35774 & $1.23 _ {- 0.03} ^ {+ 0.03}$ & 21.0 & 10.9 & 12.9 \\\\\n",
      "GSD40597 & $1.24 _ {- 0.03} ^ {+ 0.03}$ & 20.9 & 11.0 & 16.1 \\\\\n",
      "GND37686 & $1.27 _ {- 0.04} ^ {+ 0.04}$ & 21.3 & 10.9 & 8.4 \\\\\n",
      "GSD46066 & $1.32 _ {- 0.03} ^ {+ 0.03}$ & 21.7 & 11.0 & 2.9 \\\\\n",
      "GSD40862 & $1.33 _ {- 0.04} ^ {+ 0.04}$ & 21.7 & 10.9 & 4.8 \\\\\n",
      "GSD39804 & $1.36 _ {- 0.03} ^ {+ 0.04}$ & 21.6 & 10.9 & 4.1 \\\\\n",
      "GSD46345 & $1.4 _ {- 0.05} ^ {+ 0.06}$ & 23.1 & 10.2 & 2.0 \\\\\n",
      "GND21427 & $1.48 _ {- 0.05} ^ {+ 0.05}$ & 22.0 & 10.6 & 1.7 \\\\\n",
      "GSD40623 & $1.49 _ {- 0.09} ^ {+ 0.11}$ & 22.3 & 10.7 & 4.2 \\\\\n",
      "GSD41520 & $1.64 _ {- 0.04} ^ {+ 0.04}$ & 22.2 & 10.9 & 3.0 \\\\\n",
      "GSD40223 & $1.65 _ {- 0.05} ^ {+ 0.05}$ & 22.7 & 10.7 & 1.9 \\\\\n",
      "GSD39012 & $1.66 _ {- 0.06} ^ {+ 0.06}$ & 22.6 & 11.1 & 1.4 \\\\\n",
      "GSD44042 & $1.67 _ {- 0.05} ^ {+ 0.05}$ & 21.8 & 11.0 & 3.8 \\\\\n",
      "GSD41659 & $1.69 _ {- 0.08} ^ {+ 0.08}$ & 23.6 & 10.3 & 1.1 \\\\\n",
      "GSD41148 & $1.7 _ {- 0.09} ^ {+ 0.09}$ & 22.2 & 11.1 & 2.1 \\\\\n"
     ]
    }
   ],
   "source": [
    "for i in ipDB.index:\n",
    "    print '%s & $%s _ {- %s} ^ {+ %s}$ & %s & %s & %s \\\\\\\\' % (ipDB['gids'][i],np.round(ipDB['photz'][i],2),\n",
    "                                            np.round(ipDB['photz'][i] - ipDB['photz_lerr'][i],2),\n",
    "                                            np.round(ipDB['photz_herr'][i] -ipDB['photz'][i],2),\n",
    "                                            ipDB['J'][i],ipDB['lmass'][i],ipDB['snr'][i])"
   ]
  },
  {
   "cell_type": "code",
   "execution_count": 6,
   "metadata": {
    "collapsed": true
   },
   "outputs": [],
   "source": [
    "grisz_ler = []\n",
    "grisz_her = []\n",
    "for i in galDB.index:\n",
    "    z,P = np.load('../rshift_dat/%s_hires_Pofz.npy' % galDB['gids'][i])\n",
    "    med,ler,her=Median_w_Error_cont(P,z)\n",
    "    grisz_ler.append(np.round(ler,3))\n",
    "    grisz_her.append(np.round(her,3))"
   ]
  },
  {
   "cell_type": "code",
   "execution_count": 7,
   "metadata": {},
   "outputs": [],
   "source": [
    "dust_Z = []\n",
    "dust_t = []\n",
    "\n",
    "for i in galDB.index:\n",
    "    Z,PZ = np.load('../chidat/%s_dtau_Z_pos_lwa_dust.npy' % galDB['gids'][i])\n",
    "    dust_Z.append(Median_w_Error_cont(PZ,Z))\n",
    "    t,Pt = np.load('../chidat/%s_dtau_t_pos_lwa_dust.npy' % galDB['gids'][i])\n",
    "    dust_t.append(Median_w_Error_cont(Pt,t))\n",
    "    \n",
    "dust_Z = np.array(dust_Z).T\n",
    "dust_t = np.array(dust_t).T"
   ]
  },
  {
   "cell_type": "code",
   "execution_count": 11,
   "metadata": {},
   "outputs": [
    {
     "data": {
      "text/plain": [
       "array([[ 3.9168337,  2.0430862,  2.5831663,  2.0981964,  2.3296593,\n",
       "         3.1122244,  2.0320641,  2.8036072,  3.0681363,  2.8036072,\n",
       "         2.0541082,  1.8777555,  2.2194389,  2.506012,  3.993988,\n",
       "         3.0571142,  1.987976,  1.9769539,  1.9659319,  2.2635271,\n",
       "         2.506012,  1.1613226,  1.8226453,  1.5470942,  1.4809619,\n",
       "         3.9609218,  2.2084168,  1.9438878,  3.6853707,  3.4649299,\n",
       "         2.6713427,  3.0901804,  3.0791583],\n",
       "       [ 0.71643287,  0.51803607,  0.77154309,  0.41883768,  0.58416834,\n",
       "         0.76052104,  0.68336673,  0.46292585,  0.4739479,  0.85971944,\n",
       "         0.24248497,  0.3747495,  1.0250501,  0.52905812,  0.96993988,\n",
       "         0.56212425,  0.35270541,  0.29759519,  0.46292585,  0.099198397,\n",
       "         0.50701403,  0.11022044,  0.40781563,  0.28657315,  0.42985972,\n",
       "         0.60621242,  0.14328657,  0.56212425,  0.87074148,  0.57314629,\n",
       "         0.50701403,  0.61723447,  0.49599198],\n",
       "       [ 0.749499,  0.57314629,  1.0581162,  0.30861723,  0.58416834,\n",
       "         0.91482966,  0.46292585,  0.95891784,  0.78256513,  0.4739479,\n",
       "         0.15430862,  0.38577154,  0.2755511,  0.51803607,  0.87074148,\n",
       "         0.78256513,  0.22044088,  0.24248497,  0.60621242,  0.066132265,\n",
       "         0.85971944,  0.41883768,  0.70541082,  0.69438878,  0.52905812,\n",
       "         0.77154309,  0.12124248,  0.44088176,  0.68336673,  0.56212425,\n",
       "         0.88176353,  0.89278557,  0.44088176]], dtype=float128)"
      ]
     },
     "execution_count": 11,
     "metadata": {},
     "output_type": "execute_result"
    }
   ],
   "source": [
    "dust_t"
   ]
  },
  {
   "cell_type": "code",
   "execution_count": 8,
   "metadata": {
    "collapsed": false
   },
   "outputs": [],
   "source": [
    "\n",
    "opDB = pd.DataFrame({'gids':newids,'grisz':galDB['hi_res_specz'], 'grisz_ler':grisz_ler,'grisz_her':grisz_her,\n",
    "                     'Z':np.round(galDB['Zx_lwa']/0.019,2),'Z_+_sig':np.round(galDB['Zx_+_sig_lwa']/0.019,2),\n",
    "                     'Z_-_sig':np.round(galDB['Zx_-_sig_lwa']/0.019,2),\n",
    "                     't':np.round(galDB['tx_lwa'],2),'t_+_sig':np.round(galDB['tx_+_sig_lwa'],2),\n",
    "                     't_-_sig':np.round(galDB['tx_-_sig_lwa'],2),                     \n",
    "                     'd-Z':np.round(dust_Z[0]/0.019,2),'d-Z_+_sig':np.round(dust_Z[2]/0.019,2),\n",
    "                     'd-Z_-_sig':np.round(dust_Z[1]/0.019,2),\n",
    "                     'd-t':np.round(dust_t[0],2),'d-t_+_sig':np.round(dust_t[2],2),\n",
    "                     'd-t_-_sig':np.round(dust_t[1],2)})"
   ]
  },
  {
   "cell_type": "code",
   "execution_count": 9,
   "metadata": {
    "collapsed": true
   },
   "outputs": [],
   "source": [
    "opDB=opDB.sort_values(['grisz'], ascending=True)"
   ]
  },
  {
   "cell_type": "code",
   "execution_count": 10,
   "metadata": {
    "collapsed": false
   },
   "outputs": [
    {
     "name": "stdout",
     "output_type": "stream",
     "text": [
      "GND16758 & $1.014_{-0.0}^{+0.001}$ & $1.06_{-0.07}^{+0.15}$ & $5.24_{-0.52}^{+0.29}$ & $0.73_{-0.1}^{+0.14}$ & $3.92_{-0.72}^{+0.75}$ \\\\\n",
      "GSD48631 & $1.016_{-0.137}^{+0.005}$ & $1.4_{-0.2}^{+0.13}$ & $4.61_{-0.6}^{+0.54}$ & $1.27_{-0.84}^{+0.24}$ & $2.88_{-0.25}^{+0.5}$ \\\\\n",
      "GSD43615 & $1.016_{-0.001}^{+0.004}$ & $1.4_{-0.19}^{+0.13}$ & $4.84_{-0.52}^{+0.46}$ & $1.12_{-0.25}^{+0.29}$ & $3.96_{-0.61}^{+0.77}$ \\\\\n",
      "GSD39241 & $1.019_{-0.001}^{+0.002}$ & $1.16_{-0.17}^{+0.21}$ & $4.23_{-0.53}^{+0.61}$ & $1.24_{-0.34}^{+0.24}$ & $2.51_{-0.53}^{+0.52}$ \\\\\n",
      "GSD39170 & $1.022_{-0.001}^{+0.0}$ & $1.23_{-0.22}^{+0.22}$ & $2.98_{-0.4}^{+0.45}$ & $1.51_{-0.1}^{+0.05}$ & $2.22_{-1.03}^{+0.28}$ \\\\\n",
      "GSD45972 & $1.038_{-0.001}^{+0.002}$ & $0.62_{-0.15}^{+0.15}$ & $4.03_{-0.84}^{+0.69}$ & $0.55_{-0.2}^{+0.25}$ & $3.69_{-0.87}^{+0.68}$ \\\\\n",
      "GSD39631 & $1.053_{-0.002}^{+0.004}$ & $0.91_{-0.17}^{+0.34}$ & $4.03_{-0.65}^{+0.78}$ & $0.37_{-0.13}^{+0.42}$ & $3.99_{-0.97}^{+0.87}$ \\\\\n",
      "GND19442 & $1.101_{-0.095}^{+0.065}$ & $0.73_{-0.44}^{+0.56}$ & $2.68_{-0.79}^{+1.08}$ & $0.72_{-0.43}^{+0.56}$ & $2.58_{-0.77}^{+1.06}$ \\\\\n",
      "GSD47677 & $1.112_{-0.001}^{+0.002}$ & $1.15_{-0.34}^{+0.29}$ & $3.65_{-0.64}^{+0.78}$ & $1.03_{-0.47}^{+0.39}$ & $3.09_{-0.62}^{+0.89}$ \\\\\n",
      "GND23435 & $1.134_{-0.01}^{+0.083}$ & $0.74_{-0.32}^{+0.48}$ & $3.38_{-0.74}^{+0.87}$ & $0.63_{-0.3}^{+0.53}$ & $3.11_{-0.76}^{+0.91}$ \\\\\n",
      "GND34694 & $1.145_{-0.002}^{+0.002}$ & $0.75_{-0.26}^{+0.3}$ & $2.8_{-0.46}^{+0.96}$ & $0.75_{-0.26}^{+0.3}$ & $2.8_{-0.46}^{+0.96}$ \\\\\n",
      "GND32566 & $1.15_{-0.004}^{+0.002}$ & $1.03_{-0.41}^{+0.36}$ & $2.02_{-0.62}^{+0.55}$ & $1.12_{-0.43}^{+0.32}$ & $2.03_{-0.68}^{+0.46}$ \\\\\n",
      "GSD38785 & $1.175_{-0.002}^{+0.002}$ & $0.99_{-0.36}^{+0.3}$ & $2.32_{-0.56}^{+0.54}$ & $1.42_{-0.23}^{+0.12}$ & $2.05_{-0.24}^{+0.15}$ \\\\\n",
      "GND17070 & $1.192_{-0.076}^{+0.002}$ & $0.54_{-0.14}^{+0.24}$ & $2.38_{-0.46}^{+0.6}$ & $0.6_{-0.15}^{+0.35}$ & $2.04_{-0.52}^{+0.57}$ \\\\\n",
      "GSD40476 & $1.212_{-0.001}^{+0.001}$ & $0.33_{-0.15}^{+0.37}$ & $2.73_{-0.65}^{+0.56}$ & $0.32_{-0.13}^{+0.37}$ & $1.97_{-0.46}^{+0.61}$ \\\\\n",
      "GSD40597 & $1.221_{-0.001}^{+0.001}$ & $1.47_{-0.15}^{+0.08}$ & $2.67_{-0.1}^{+0.07}$ & $1.52_{-0.08}^{+0.04}$ & $2.26_{-0.1}^{+0.07}$ \\\\\n",
      "GSD35774 & $1.223_{-0.001}^{+0.001}$ & $0.39_{-0.1}^{+0.23}$ & $3.65_{-0.76}^{+0.65}$ & $0.44_{-0.23}^{+0.52}$ & $2.8_{-0.86}^{+0.47}$ \\\\\n",
      "GSD39805 & $1.242_{-0.058}^{+0.06}$ & $1.08_{-0.58}^{+0.36}$ & $2.26_{-0.57}^{+0.35}$ & $1.23_{-0.45}^{+0.25}$ & $1.99_{-0.35}^{+0.22}$ \\\\\n",
      "GND21156 & $1.251_{-0.001}^{+0.002}$ & $1.07_{-0.25}^{+0.21}$ & $2.05_{-0.33}^{+0.46}$ & $1.26_{-0.21}^{+0.21}$ & $2.1_{-0.42}^{+0.31}$ \\\\\n",
      "GND37686 & $1.258_{-0.002}^{+0.001}$ & $0.81_{-0.12}^{+0.22}$ & $3.34_{-0.43}^{+0.57}$ & $0.77_{-0.21}^{+0.3}$ & $3.07_{-0.47}^{+0.78}$ \\\\\n",
      "GSD46066 & $1.327_{-0.002}^{+0.006}$ & $1.13_{-0.23}^{+0.26}$ & $3.66_{-0.53}^{+0.46}$ & $1.02_{-0.25}^{+0.31}$ & $3.46_{-0.57}^{+0.56}$ \\\\\n",
      "GSD40862 & $1.328_{-0.005}^{+0.002}$ & $1.23_{-0.37}^{+0.25}$ & $2.75_{-0.4}^{+0.51}$ & $1.23_{-0.35}^{+0.22}$ & $1.16_{-0.11}^{+0.42}$ \\\\\n",
      "GSD39804 & $1.333_{-0.001}^{+0.002}$ & $0.94_{-0.2}^{+0.32}$ & $3.33_{-0.48}^{+0.58}$ & $0.7_{-0.28}^{+0.5}$ & $3.06_{-0.56}^{+0.78}$ \\\\\n",
      "GSD44620 & $1.337_{-0.004}^{+0.002}$ & $0.47_{-0.33}^{+0.54}$ & $1.94_{-0.62}^{+0.51}$ & $0.5_{-0.35}^{+0.55}$ & $1.94_{-0.56}^{+0.44}$ \\\\\n",
      "GSD46345 & $1.369_{-0.032}^{+0.058}$ & $0.67_{-0.33}^{+0.53}$ & $2.97_{-0.63}^{+0.79}$ & $0.65_{-0.38}^{+0.6}$ & $2.67_{-0.51}^{+0.88}$ \\\\\n",
      "GSD40623 & $1.41_{-0.001}^{+0.002}$ & $1.04_{-0.19}^{+0.27}$ & $3.23_{-0.43}^{+0.48}$ & $0.95_{-0.45}^{+0.32}$ & $2.51_{-0.51}^{+0.86}$ \\\\\n",
      "GND21427 & $1.514_{-0.016}^{+0.065}$ & $0.94_{-0.45}^{+0.44}$ & $2.36_{-0.6}^{+0.58}$ & $0.92_{-0.46}^{+0.45}$ & $2.33_{-0.58}^{+0.58}$ \\\\\n",
      "GSD40223 & $1.595_{-0.004}^{+0.005}$ & $0.88_{-0.42}^{+0.48}$ & $2.15_{-0.57}^{+0.46}$ & $1.17_{-0.48}^{+0.3}$ & $1.98_{-0.3}^{+0.24}$ \\\\\n",
      "GSD41520 & $1.603_{-0.002}^{+0.002}$ & $1.33_{-0.43}^{+0.18}$ & $1.43_{-0.15}^{+0.26}$ & $0.85_{-0.35}^{+0.47}$ & $1.55_{-0.29}^{+0.69}$ \\\\\n",
      "GSD44042 & $1.611_{-0.005}^{+0.002}$ & $1.43_{-0.51}^{+0.12}$ & $2.41_{-0.41}^{+0.23}$ & $1.45_{-0.17}^{+0.09}$ & $2.21_{-0.14}^{+0.12}$ \\\\\n",
      "GSD41659 & $1.62_{-0.102}^{+0.321}$ & $0.89_{-0.48}^{+0.46}$ & $1.99_{-0.55}^{+0.64}$ & $0.96_{-0.5}^{+0.44}$ & $1.48_{-0.43}^{+0.53}$ \\\\\n",
      "GSD39012 & $1.632_{-0.029}^{+0.018}$ & $0.89_{-0.48}^{+0.52}$ & $2.14_{-0.48}^{+0.52}$ & $1.12_{-0.59}^{+0.34}$ & $1.88_{-0.37}^{+0.39}$ \\\\\n",
      "GSD41148 & $1.758_{-0.002}^{+0.001}$ & $1.5_{-0.16}^{+0.06}$ & $1.68_{-0.29}^{+1.07}$ & $1.43_{-0.41}^{+0.12}$ & $1.82_{-0.41}^{+0.71}$ \\\\\n"
     ]
    }
   ],
   "source": [
    "for i in opDB.index:\n",
    "    print '%s & $%s_{-%s}^{+%s}$ & $%s_{-%s}^{+%s}$ & $%s_{-%s}^{+%s}$ & $%s_{-%s}^{+%s}$ & $%s_{-%s}^{+%s}$ \\\\\\\\' % \\\n",
    "          (opDB['gids'][i],opDB['grisz'][i],opDB['grisz_ler'][i], opDB['grisz_her'][i],\n",
    "            opDB['Z'][i],opDB['Z_-_sig'][i],opDB['Z_+_sig'][i],\n",
    "            opDB['t'][i],opDB['t_-_sig'][i],opDB['t_+_sig'][i],\n",
    "            opDB['d-Z'][i],opDB['d-Z_-_sig'][i],opDB['d-Z_+_sig'][i],\n",
    "            opDB['d-t'][i],opDB['d-t_-_sig'][i],opDB['d-t_+_sig'][i])\n",
    "#  opDB[['gids','specz','Z','Z_+_sig','Z_-_sig','t','t_+_sig','t_-_sig']].to_latex(index=False)"
   ]
  },
  {
   "cell_type": "code",
   "execution_count": 45,
   "metadata": {
    "collapsed": true
   },
   "outputs": [
    {
     "data": {
      "text/plain": [
       "[<matplotlib.lines.Line2D at 0x1170d1b50>]"
      ]
     },
     "execution_count": 45,
     "metadata": {},
     "output_type": "execute_result"
    },
    {
     "data": {
      "image/png": "[encoded data removed]",
      "text/plain": [
       "<matplotlib.figure.Figure at 0x11743c0d0>"
      ]
     },
     "metadata": {},
     "output_type": "display_data"
    }
   ],
   "source": [
    "%matplotlib inline\n",
    "\n",
    "plt.figure(figsize=[8,8])\n",
    "plt.plot(galDB['hi_res_specz'],photz-galDB['hi_res_specz'],'o')"
   ]
  },
  {
   "cell_type": "code",
   "execution_count": null,
   "metadata": {
    "collapsed": true
   },
   "outputs": [],
   "source": []
  }
 ],
 "metadata": {
  "kernelspec": {
   "display_name": "Python 2",
   "language": "python",
   "name": "python2"
  },
  "language_info": {
   "codemirror_mode": {
    "name": "ipython",
    "version": 2
   },
   "file_extension": ".py",
   "mimetype": "text/x-python",
   "name": "python",
   "nbconvert_exporter": "python",
   "pygments_lexer": "ipython2",
   "version": "2.7.13"
  }
 },
 "nbformat": 4,
 "nbformat_minor": 2
}
