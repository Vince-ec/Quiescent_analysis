{
 "cells": [
  {
   "cell_type": "code",
   "execution_count": 11,
   "metadata": {},
   "outputs": [],
   "source": [
    "import matplotlib.pyplot as plt\n",
    "from glob import glob\n",
    "import seaborn as sea\n",
    "import numpy as np\n",
    "import pandas as pd\n",
    "from time import time\n",
    "sea.set(style='white')\n",
    "sea.set(style='ticks')\n",
    "sea.set_style({'xtick.direct'\n",
    "               'ion': 'in','xtick.top':True,'xtick.minor.visible': True,\n",
    "               'ytick.direction': \"in\",'ytick.right': True,'ytick.minor.visible': True})\n",
    "cmap = sea.cubehelix_palette(12, start=2, rot=.2, dark=0, light=1.2, as_cmap=True)\n",
    "\n",
    "%config InlineBackend.figure_format = 'retina'\n",
    "%matplotlib inline"
   ]
  },
  {
   "cell_type": "code",
   "execution_count": 2,
   "metadata": {},
   "outputs": [],
   "source": [
    "metal=np.arange(0.002,0.031,0.001)\n",
    "age=np.arange(.5,6.1,.1)\n",
    "tau=[0,8.0, 8.3, 8.48, 8.6, 8.7, 8.78, 8.85, 8.9, 8.95, 9.0, 9.04, 9.08, 9.11, 9.15, 9.18, 9.2, 9.23, 9.26, 9.28,\n",
    "     9.3, 9.32, 9.34, 9.36, 9.38, 9.4, 9.41, 9.43, 9.45, 9.46, 9.48]"
   ]
  },
  {
   "cell_type": "code",
   "execution_count": 8,
   "metadata": {},
   "outputs": [],
   "source": [
    "nms = []\n",
    "\n",
    "for i in range(age.size):\n",
    "    for ii in range(len(tau)):\n",
    "        nms.append('m0.019_a{0}_dt{1}'.format(age[i],tau[ii]))\n",
    "nms=np.array(nms)"
   ]
  },
  {
   "cell_type": "code",
   "execution_count": 23,
   "metadata": {},
   "outputs": [
    {
     "name": "stdout",
     "output_type": "stream",
     "text": [
      "0.490081071854\n"
     ]
    }
   ],
   "source": [
    "st=time()\n",
    "for i in range(nms.size):\n",
    "# for i in range(100):\n",
    "    wv,fl=np.load('/Users/vestrada/fsps_models_for_fit/fsps_spec/{0}_spec.npy'.format(nms[i]))\n",
    "    z = wv + fl\n",
    "end = time()\n",
    "print end -st"
   ]
  },
  {
   "cell_type": "code",
   "execution_count": null,
   "metadata": {},
   "outputs": [],
   "source": [
    "wv,fl=np.load('/Users/vestrada/fsps_models_for_fit/fsps_spec/{0}_spec.npy'.format(nms[0]))\n",
    "spec_DB = pd.DataFrame({'wv':wv})"
   ]
  },
  {
   "cell_type": "code",
   "execution_count": 19,
   "metadata": {},
   "outputs": [],
   "source": [
    "for i in nms:\n",
    "    wv,fl=np.load('/Users/vestrada/fsps_models_for_fit/fsps_spec/{0}_spec.npy'.format(i))\n",
    "\n",
    "    spec_DB[i] = fl"
   ]
  },
  {
   "cell_type": "code",
   "execution_count": 22,
   "metadata": {},
   "outputs": [],
   "source": [
    "spec_DB.to_pickle('../data/spec_DB.pkl')"
   ]
  },
  {
   "cell_type": "code",
   "execution_count": 27,
   "metadata": {},
   "outputs": [
    {
     "name": "stdout",
     "output_type": "stream",
     "text": [
      "0.371706008911\n"
     ]
    }
   ],
   "source": [
    "st=time()\n",
    "spec_DB = pd.read_pickle('../data/spec_DB.pkl')\n",
    "for i in range(nms.size):\n",
    "    z = spec_DB.wv + spec_DB[nms[i]]\n",
    "end = time()\n",
    "print end -st"
   ]
  },
  {
   "cell_type": "code",
   "execution_count": 30,
   "metadata": {},
   "outputs": [],
   "source": [
    "wv,fl=np.load('/Users/vestrada/fsps_models_for_fit/fsps_spec/{0}_spec.npy'.format(nms[0]))\n",
    "flx_grid = []\n",
    "flx_grid.append(wv)\n",
    "for i in nms:\n",
    "    wv,fl=np.load('/Users/vestrada/fsps_models_for_fit/fsps_spec/{0}_spec.npy'.format(i))\n",
    "    flx_grid.append(fl)"
   ]
  },
  {
   "cell_type": "code",
   "execution_count": 31,
   "metadata": {},
   "outputs": [],
   "source": [
    "np.save('../data/spec_grid',flx_grid)"
   ]
  },
  {
   "cell_type": "code",
   "execution_count": 33,
   "metadata": {},
   "outputs": [
    {
     "name": "stdout",
     "output_type": "stream",
     "text": [
      "0.0508558750153\n"
     ]
    }
   ],
   "source": [
    "st=time()\n",
    "spec_gr = np.load('../data/spec_grid.npy')\n",
    "for i in range(nms.size):\n",
    "    z = spec_gr[0] + spec_gr[i]\n",
    "end = time()\n",
    "print end -st"
   ]
  },
  {
   "cell_type": "code",
   "execution_count": 34,
   "metadata": {},
   "outputs": [
    {
     "data": {
      "text/plain": [
       "(1737, 5994)"
      ]
     },
     "execution_count": 34,
     "metadata": {},
     "output_type": "execute_result"
    }
   ],
   "source": [
    "spec_gr.shape"
   ]
  },
  {
   "cell_type": "code",
   "execution_count": 35,
   "metadata": {},
   "outputs": [
    {
     "data": {
      "text/plain": [
       "2407"
      ]
     },
     "execution_count": 35,
     "metadata": {},
     "output_type": "execute_result"
    }
   ],
   "source": [
    "83*metal.size"
   ]
  },
  {
   "cell_type": "code",
   "execution_count": null,
   "metadata": {},
   "outputs": [],
   "source": []
  }
 ],
 "metadata": {
  "kernelspec": {
   "display_name": "Python 2",
   "language": "python",
   "name": "python2"
  },
  "language_info": {
   "codemirror_mode": {
    "name": "ipython",
    "version": 2
   },
   "file_extension": ".py",
   "mimetype": "text/x-python",
   "name": "python",
   "nbconvert_exporter": "python",
   "pygments_lexer": "ipython2",
   "version": "2.7.13"
  }
 },
 "nbformat": 4,
 "nbformat_minor": 2
}
