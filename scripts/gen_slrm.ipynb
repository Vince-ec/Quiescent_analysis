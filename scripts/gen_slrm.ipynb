{
 "cells": [
  {
   "cell_type": "code",
   "execution_count": 7,
   "metadata": {},
   "outputs": [],
   "source": [
    "from glob import glob\n",
    "import numpy as np\n",
    "import pandas as pd\n",
    "import os"
   ]
  },
  {
   "cell_type": "code",
   "execution_count": 2,
   "metadata": {},
   "outputs": [],
   "source": [
    "galDB = pd.read_pickle('../data/sgal_param_DB.pkl')\n",
    "galDB = galDB.query('ids != 14713 and ids != 38126')\n",
    "lzDB = galDB.query('hi_res_specz < 1.16')\n",
    "mzDB = galDB.query('1.16 < hi_res_specz < 1.3')\n",
    "hzDB = galDB.query('1.3 < hi_res_specz < 1.45')\n",
    "uhzDB = galDB.query('1.45 < hi_res_specz')\n",
    "\n",
    "metal=np.arange(0.002,0.031,0.001)\n",
    "age=np.arange(.5,6.1,.1)\n",
    "tau=[0,8.0, 8.3, 8.48, 8.6, 8.7, 8.78, 8.85, 8.9, 8.95, 9.0, 9.04, 9.08, 9.11, 9.15, 9.18, 9.2, 9.23, 9.26, 9.28,\n",
    "     9.3, 9.32, 9.34, 9.36, 9.38, 9.4, 9.41, 9.43, 9.45, 9.46, 9.48]"
   ]
  },
  {
   "cell_type": "code",
   "execution_count": 3,
   "metadata": {},
   "outputs": [
    {
     "name": "stdout",
     "output_type": "stream",
     "text": [
      "9804.6\n",
      "10264.8\n",
      "10120.5\n",
      "10756.2\n",
      "10151.7\n",
      "10218.0\n",
      "10182.9\n"
     ]
    }
   ],
   "source": [
    "for i in uhzDB.index:\n",
    "    print  3900 * (1 + uhzDB['hi_res_specz'][i])\n"
   ]
  },
  {
   "cell_type": "code",
   "execution_count": 4,
   "metadata": {},
   "outputs": [
    {
     "data": {
      "text/plain": [
       "7"
      ]
     },
     "execution_count": 4,
     "metadata": {},
     "output_type": "execute_result"
    }
   ],
   "source": [
    "len(uhzDB.index)"
   ]
  },
  {
   "cell_type": "code",
   "execution_count": 12,
   "metadata": {},
   "outputs": [],
   "source": [
    "slrm_text= [\"#!/bin/bash\\n#SBATCH -J gt_fit-{0}\\n#SBATCH -p background\\n#SBATCH --time=10:00:00\\n#SBATCH --mem-per-cpu=8000\\n#SBATCH -o gfit{0}-%j.out\\n\\\n",
    "#SBATCH -e gfit{0}-%j.err\\n\\nchmod a+x C_gt_3900_fit.py\\n\\n\\\n",
    "python C_gt_3900_fit.py '{1}' {2} &\\npython C_gt_3900_fit.py '{3}' {4} &\\n\\\n",
    "python C_gt_3900_fit.py '{5}' {6} &\\n\\\n",
    "python C_gt_3900_fit.py '{7}' {8} &\\n\\\n",
    "\\nwait\\n\\nexit 0\".format(1, uhzDB.gids[uhzDB.index[0]],uhzDB.hi_res_specz[uhzDB.index[0]],\n",
    "                        uhzDB.gids[uhzDB.index[1]],uhzDB.hi_res_specz[uhzDB.index[1]],\n",
    "                        uhzDB.gids[uhzDB.index[2]],uhzDB.hi_res_specz[uhzDB.index[2]],\n",
    "                        uhzDB.gids[uhzDB.index[3]],uhzDB.hi_res_specz[uhzDB.index[3]],)]\n",
    "        \n",
    "np.savetxt('GT_fit_1.slrm', slrm_text, fmt='%s')"
   ]
  },
  {
   "cell_type": "code",
   "execution_count": 13,
   "metadata": {},
   "outputs": [],
   "source": [
    "slrm_text= [\"#!/bin/bash\\n#SBATCH -J gt_fit-{0}\\n#SBATCH -p background\\n#SBATCH --time=10:00:00\\n#SBATCH --mem-per-cpu=8000\\n#SBATCH -o gfit{0}-%j.out\\n\\\n",
    "#SBATCH -e gfit{0}-%j.err\\n\\nchmod a+x C_gt_3900_fit.py\\n\\n\\\n",
    "python C_gt_3900_fit.py '{1}' {2} &\\npython C_gt_3900_fit.py '{3}' {4} &\\n\\\n",
    "python C_gt_3900_fit.py '{5}' {6} &\\n\\\n",
    "\\nwait\\n\\nexit 0\".format(2, uhzDB.gids[uhzDB.index[4]],uhzDB.hi_res_specz[uhzDB.index[4]],\n",
    "                        uhzDB.gids[uhzDB.index[5]],uhzDB.hi_res_specz[uhzDB.index[5]],\n",
    "                        uhzDB.gids[uhzDB.index[6]],uhzDB.hi_res_specz[uhzDB.index[6]])]\n",
    "\n",
    "np.savetxt('GT_fit_2.slrm', slrm_text, fmt='%s')"
   ]
  },
  {
   "cell_type": "code",
   "execution_count": 17,
   "metadata": {},
   "outputs": [],
   "source": [
    "slrm_text= [\"#!/bin/bash\\n#SBATCH -J no_Hb-{0}\\n#SBATCH -p background\\n#SBATCH --time=10:00:00\\n#SBATCH --mem-per-cpu=8000\\n#SBATCH -o no_Hb{0}-%j.out\\n\\\n",
    "#SBATCH -e no_Hb{0}-%j.err\\n\\nchmod a+x C_no_Hb_fit.py\\n\\n\\\n",
    "python C_no_Hb_fit.py '{1}' {2} &\\npython C_no_Hb_fit.py '{3}' {4} &\\n\\\n",
    "python C_no_Hb_fit.py '{5}' {6} &\\n\\\n",
    "\\nwait\\n\\nexit 0\".format(1, 'n21156',1.251,\n",
    "                        's47677',1.112,\n",
    "                        's39170',1.022)]\n",
    "\n",
    "np.savetxt('No_hb.slrm', slrm_text, fmt='%s')"
   ]
  },
  {
   "cell_type": "code",
   "execution_count": 11,
   "metadata": {},
   "outputs": [],
   "source": [
    "blist = glob('/Volumes/Vince_research/Extractions/Updated_Q_gals/stack_specs/*')\n",
    "n_beams = glob('/Volumes/Vince_research/clear_q_beams/*')\n",
    "nbeamid = [int(U.replace('.g102.A.fits','').split('_')[-1]) for U in n_beams]"
   ]
  },
  {
   "cell_type": "code",
   "execution_count": 12,
   "metadata": {},
   "outputs": [],
   "source": [
    "slist = []\n",
    "for i in blist:\n",
    "    if int(os.path.basename(i).replace('.npy','')[1:]) in nbeamid:\n",
    "        slist.append(os.path.basename(i).replace('.npy',''))"
   ]
  },
  {
   "cell_type": "code",
   "execution_count": 16,
   "metadata": {},
   "outputs": [
    {
     "data": {
      "text/plain": [
       "52"
      ]
     },
     "execution_count": 16,
     "metadata": {},
     "output_type": "execute_result"
    }
   ],
   "source": [
    "int(len(slist)/4) * 4"
   ]
  },
  {
   "cell_type": "code",
   "execution_count": 18,
   "metadata": {},
   "outputs": [],
   "source": [
    "for i in range(int(len(slist)/4)):\n",
    "    slrm_text= [\"#!/bin/bash\\n#SBATCH -J zfit-{0}\\n#SBATCH -p background\\n#SBATCH --time=10:00:00\\n#SBATCH --mem-per-cpu=8000\\n#SBATCH -o zfit{0}-%j.out\\n\\\n",
    "#SBATCH -e zfit{0}-%j.err\\n\\nchmod a+x C_Specz_instruct.py\\n\\n\\\n",
    "python C_Specz_instruct.py '{1}' &\\npython C_Specz_instruct.py '{2}' &\\n\\\n",
    "python C_Specz_instruct.py '{3}' &\\n\\\n",
    "python C_Specz_instruct.py '{4}' &\\n\\\n",
    "\\nwait\\n\\nexit 0\".format(i + 1, slist[4*i + 0], slist[4*i + 1], \n",
    "                             slist[4*i + 2], slist[4*i + 3],)]\n",
    "\n",
    "    np.savetxt('../cluster_scripts/rshiftfit_{0}.slrm'.format(i + 1), slrm_text, fmt='%s')"
   ]
  },
  {
   "cell_type": "code",
   "execution_count": 19,
   "metadata": {},
   "outputs": [],
   "source": [
    "slrm_text= [\"#!/bin/bash\\n#SBATCH -J zfit-{0}\\n#SBATCH -p background\\n#SBATCH --time=10:00:00\\n#SBATCH --mem-per-cpu=8000\\n#SBATCH -o zfit{0}-%j.out\\n\\\n",
    "#SBATCH -e zfit{0}-%j.err\\n\\nchmod a+x C_Specz_instruct.py\\n\\n\\\n",
    "python C_Specz_instruct.py '{1}' &\\npython C_Specz_instruct.py '{2}' &\\n\\\n",
    "python C_Specz_instruct.py '{3}' &\\n\\\n",
    "\\nwait\\n\\nexit 0\".format(14, slist[-3], slist[-2], \n",
    "                             slist[-1],)]\n",
    "\n",
    "np.savetxt('../cluster_scripts/rshiftfit_{0}.slrm'.format(14), slrm_text, fmt='%s')"
   ]
  },
  {
   "cell_type": "code",
   "execution_count": null,
   "metadata": {},
   "outputs": [],
   "source": []
  }
 ],
 "metadata": {
  "kernelspec": {
   "display_name": "Python 3",
   "language": "python",
   "name": "python3"
  },
  "language_info": {
   "codemirror_mode": {
    "name": "ipython",
    "version": 3
   },
   "file_extension": ".py",
   "mimetype": "text/x-python",
   "name": "python",
   "nbconvert_exporter": "python",
   "pygments_lexer": "ipython3",
   "version": "3.5.5"
  }
 },
 "nbformat": 4,
 "nbformat_minor": 2
}
