{
 "cells": [
  {
   "cell_type": "code",
   "execution_count": 1,
   "metadata": {},
   "outputs": [],
   "source": [
    "from glob import glob\n",
    "import numpy as np\n",
    "import pandas as pd\n",
    "import os"
   ]
  },
  {
   "cell_type": "code",
   "execution_count": 2,
   "metadata": {},
   "outputs": [],
   "source": [
    "galDB = pd.read_pickle('../data/sgal_param_DB.pkl')\n",
    "galDB = galDB.query('ids != 14713 and ids != 38126')\n",
    "lzDB = galDB.query('hi_res_specz < 1.16')\n",
    "mzDB = galDB.query('1.16 < hi_res_specz < 1.3')\n",
    "hzDB = galDB.query('1.3 < hi_res_specz < 1.45')\n",
    "uhzDB = galDB.query('1.45 < hi_res_specz')\n",
    "\n",
    "metal=np.arange(0.002,0.031,0.001)\n",
    "age=np.arange(.5,6.1,.1)\n",
    "tau=[0,8.0, 8.3, 8.48, 8.6, 8.7, 8.78, 8.85, 8.9, 8.95, 9.0, 9.04, 9.08, 9.11, 9.15, 9.18, 9.2, 9.23, 9.26, 9.28,\n",
    "     9.3, 9.32, 9.34, 9.36, 9.38, 9.4, 9.41, 9.43, 9.45, 9.46, 9.48]"
   ]
  },
  {
   "cell_type": "code",
   "execution_count": 3,
   "metadata": {},
   "outputs": [
    {
     "name": "stdout",
     "output_type": "stream",
     "text": [
      "9804.6\n",
      "10264.8\n",
      "10120.5\n",
      "10756.2\n",
      "10151.7\n",
      "10218.0\n",
      "10182.9\n"
     ]
    }
   ],
   "source": [
    "for i in uhzDB.index:\n",
    "    print  3900 * (1 + uhzDB['hi_res_specz'][i])\n"
   ]
  },
  {
   "cell_type": "code",
   "execution_count": 4,
   "metadata": {},
   "outputs": [
    {
     "data": {
      "text/plain": [
       "7"
      ]
     },
     "execution_count": 4,
     "metadata": {},
     "output_type": "execute_result"
    }
   ],
   "source": [
    "len(uhzDB.index)"
   ]
  },
  {
   "cell_type": "code",
   "execution_count": 12,
   "metadata": {},
   "outputs": [],
   "source": [
    "slrm_text= [\"#!/bin/bash\\n#SBATCH -J gt_fit-{0}\\n#SBATCH -p background\\n#SBATCH --time=10:00:00\\n#SBATCH --mem-per-cpu=8000\\n#SBATCH -o gfit{0}-%j.out\\n\\\n",
    "#SBATCH -e gfit{0}-%j.err\\n\\nchmod a+x C_gt_3900_fit.py\\n\\n\\\n",
    "python C_gt_3900_fit.py '{1}' {2} &\\npython C_gt_3900_fit.py '{3}' {4} &\\n\\\n",
    "python C_gt_3900_fit.py '{5}' {6} &\\n\\\n",
    "python C_gt_3900_fit.py '{7}' {8} &\\n\\\n",
    "\\nwait\\n\\nexit 0\".format(1, uhzDB.gids[uhzDB.index[0]],uhzDB.hi_res_specz[uhzDB.index[0]],\n",
    "                        uhzDB.gids[uhzDB.index[1]],uhzDB.hi_res_specz[uhzDB.index[1]],\n",
    "                        uhzDB.gids[uhzDB.index[2]],uhzDB.hi_res_specz[uhzDB.index[2]],\n",
    "                        uhzDB.gids[uhzDB.index[3]],uhzDB.hi_res_specz[uhzDB.index[3]],)]\n",
    "        \n",
    "np.savetxt('GT_fit_1.slrm', slrm_text, fmt='%s')"
   ]
  },
  {
   "cell_type": "code",
   "execution_count": 13,
   "metadata": {},
   "outputs": [],
   "source": [
    "slrm_text= [\"#!/bin/bash\\n#SBATCH -J gt_fit-{0}\\n#SBATCH -p background\\n#SBATCH --time=10:00:00\\n#SBATCH --mem-per-cpu=8000\\n#SBATCH -o gfit{0}-%j.out\\n\\\n",
    "#SBATCH -e gfit{0}-%j.err\\n\\nchmod a+x C_gt_3900_fit.py\\n\\n\\\n",
    "python C_gt_3900_fit.py '{1}' {2} &\\npython C_gt_3900_fit.py '{3}' {4} &\\n\\\n",
    "python C_gt_3900_fit.py '{5}' {6} &\\n\\\n",
    "\\nwait\\n\\nexit 0\".format(2, uhzDB.gids[uhzDB.index[4]],uhzDB.hi_res_specz[uhzDB.index[4]],\n",
    "                        uhzDB.gids[uhzDB.index[5]],uhzDB.hi_res_specz[uhzDB.index[5]],\n",
    "                        uhzDB.gids[uhzDB.index[6]],uhzDB.hi_res_specz[uhzDB.index[6]])]\n",
    "\n",
    "np.savetxt('GT_fit_2.slrm', slrm_text, fmt='%s')"
   ]
  },
  {
   "cell_type": "code",
   "execution_count": 17,
   "metadata": {},
   "outputs": [],
   "source": [
    "slrm_text= [\"#!/bin/bash\\n#SBATCH -J no_Hb-{0}\\n#SBATCH -p background\\n#SBATCH --time=10:00:00\\n#SBATCH --mem-per-cpu=8000\\n#SBATCH -o no_Hb{0}-%j.out\\n\\\n",
    "#SBATCH -e no_Hb{0}-%j.err\\n\\nchmod a+x C_no_Hb_fit.py\\n\\n\\\n",
    "python C_no_Hb_fit.py '{1}' {2} &\\npython C_no_Hb_fit.py '{3}' {4} &\\n\\\n",
    "python C_no_Hb_fit.py '{5}' {6} &\\n\\\n",
    "\\nwait\\n\\nexit 0\".format(1, 'n21156',1.251,\n",
    "                        's47677',1.112,\n",
    "                        's39170',1.022)]\n",
    "\n",
    "np.savetxt('No_hb.slrm', slrm_text, fmt='%s')"
   ]
  },
  {
   "cell_type": "code",
   "execution_count": 11,
   "metadata": {},
   "outputs": [],
   "source": [
    "blist = glob('/Volumes/Vince_research/Extractions/Updated_Q_gals/stack_specs/*')\n",
    "n_beams = glob('/Volumes/Vince_research/clear_q_beams/*')\n",
    "nbeamid = [int(U.replace('.g102.A.fits','').split('_')[-1]) for U in n_beams]"
   ]
  },
  {
   "cell_type": "code",
   "execution_count": 12,
   "metadata": {},
   "outputs": [],
   "source": [
    "slist = []\n",
    "for i in blist:\n",
    "    if int(os.path.basename(i).replace('.npy','')[1:]) in nbeamid:\n",
    "        slist.append(os.path.basename(i).replace('.npy',''))"
   ]
  },
  {
   "cell_type": "code",
   "execution_count": 16,
   "metadata": {},
   "outputs": [
    {
     "data": {
      "text/plain": [
       "52"
      ]
     },
     "execution_count": 16,
     "metadata": {},
     "output_type": "execute_result"
    }
   ],
   "source": [
    "int(len(slist)/4) * 4"
   ]
  },
  {
   "cell_type": "code",
   "execution_count": 18,
   "metadata": {},
   "outputs": [],
   "source": [
    "for i in range(int(len(slist)/4)):\n",
    "    slrm_text= [\"#!/bin/bash\\n#SBATCH -J zfit-{0}\\n#SBATCH -p background\\n#SBATCH --time=10:00:00\\n#SBATCH --mem-per-cpu=8000\\n#SBATCH -o zfit{0}-%j.out\\n\\\n",
    "#SBATCH -e zfit{0}-%j.err\\n\\nchmod a+x C_Specz_instruct.py\\n\\n\\\n",
    "python C_Specz_instruct.py '{1}' &\\npython C_Specz_instruct.py '{2}' &\\n\\\n",
    "python C_Specz_instruct.py '{3}' &\\n\\\n",
    "python C_Specz_instruct.py '{4}' &\\n\\\n",
    "\\nwait\\n\\nexit 0\".format(i + 1, slist[4*i + 0], slist[4*i + 1], \n",
    "                             slist[4*i + 2], slist[4*i + 3],)]\n",
    "\n",
    "    np.savetxt('../cluster_scripts/rshiftfit_{0}.slrm'.format(i + 1), slrm_text, fmt='%s')"
   ]
  },
  {
   "cell_type": "code",
   "execution_count": 19,
   "metadata": {},
   "outputs": [],
   "source": [
    "slrm_text= [\"#!/bin/bash\\n#SBATCH -J zfit-{0}\\n#SBATCH -p background\\n#SBATCH --time=10:00:00\\n#SBATCH --mem-per-cpu=8000\\n#SBATCH -o zfit{0}-%j.out\\n\\\n",
    "#SBATCH -e zfit{0}-%j.err\\n\\nchmod a+x C_Specz_instruct.py\\n\\n\\\n",
    "python C_Specz_instruct.py '{1}' &\\npython C_Specz_instruct.py '{2}' &\\n\\\n",
    "python C_Specz_instruct.py '{3}' &\\n\\\n",
    "\\nwait\\n\\nexit 0\".format(14, slist[-3], slist[-2], \n",
    "                             slist[-1],)]\n",
    "\n",
    "np.savetxt('../cluster_scripts/rshiftfit_{0}.slrm'.format(14), slrm_text, fmt='%s')"
   ]
  },
  {
   "cell_type": "code",
   "execution_count": 2,
   "metadata": {},
   "outputs": [],
   "source": [
    "galDB = pd.read_pickle('../data/upd_galDB.pkl')\n"
   ]
  },
  {
   "cell_type": "code",
   "execution_count": 16,
   "metadata": {},
   "outputs": [
    {
     "ename": "AttributeError",
     "evalue": "'DataFrame' object has no attribute 'z_grism'",
     "output_type": "error",
     "traceback": [
      "\u001b[0;31m---------------------------------------------------------------------------\u001b[0m",
      "\u001b[0;31mAttributeError\u001b[0m                            Traceback (most recent call last)",
      "\u001b[0;32m<ipython-input-16-2a92c0c9dab0>\u001b[0m in \u001b[0;36m<module>\u001b[0;34m()\u001b[0m\n\u001b[1;32m      2\u001b[0m     slrm_text= [\"#!/bin/bash\\n#SBATCH -J faz-{0}\\n#SBATCH -p background\\n#SBATCH --time=20:00:00\\n#SBATCH --mem-per-cpu=64000\\n#SBATCH --time=10:00:00\\n#SBATCH --mem-per-cpu=32000\\n#SBATCH -o faz{0}-%j.out\\n\\\n\u001b[1;32m      3\u001b[0m \u001b[0;31m#SBATCH -e faz{0}-%j.err\\n\\nchmod a+x C_fit_full_analyze.py\\n\\npython C_fit_full_analyze.py '{1}' {2} {3} {4} '{5}' &\\n\\nwait\\n\\nexit 0\".format(i + 1,\u001b[0m\u001b[0;34m\u001b[0m\u001b[0;34m\u001b[0m\u001b[0m\n\u001b[0;32m----> 4\u001b[0;31m                 \u001b[0mgalDB\u001b[0m\u001b[0;34m.\u001b[0m\u001b[0mgids\u001b[0m\u001b[0;34m[\u001b[0m\u001b[0mgalDB\u001b[0m\u001b[0;34m.\u001b[0m\u001b[0mindex\u001b[0m\u001b[0;34m[\u001b[0m\u001b[0mi\u001b[0m\u001b[0;34m]\u001b[0m\u001b[0;34m]\u001b[0m\u001b[0;34m,\u001b[0m\u001b[0mgalDB\u001b[0m\u001b[0;34m.\u001b[0m\u001b[0mz_grism\u001b[0m\u001b[0;34m[\u001b[0m\u001b[0mgalDB\u001b[0m\u001b[0;34m.\u001b[0m\u001b[0mindex\u001b[0m\u001b[0;34m[\u001b[0m\u001b[0mi\u001b[0m\u001b[0;34m]\u001b[0m\u001b[0;34m]\u001b[0m\u001b[0;34m,\u001b[0m\u001b[0;34m\u001b[0m\u001b[0m\n\u001b[0m\u001b[1;32m      5\u001b[0m                 \u001b[0mnp\u001b[0m\u001b[0;34m.\u001b[0m\u001b[0mround\u001b[0m\u001b[0;34m(\u001b[0m\u001b[0mgalDB\u001b[0m\u001b[0;34m.\u001b[0m\u001b[0mz_grism\u001b[0m\u001b[0;34m[\u001b[0m\u001b[0mgalDB\u001b[0m\u001b[0;34m.\u001b[0m\u001b[0mindex\u001b[0m\u001b[0;34m[\u001b[0m\u001b[0mi\u001b[0m\u001b[0;34m]\u001b[0m\u001b[0;34m]\u001b[0m \u001b[0;34m-\u001b[0m \u001b[0;36m0.02\u001b[0m\u001b[0;34m,\u001b[0m\u001b[0;36m3\u001b[0m\u001b[0;34m)\u001b[0m\u001b[0;34m,\u001b[0m \u001b[0mnp\u001b[0m\u001b[0;34m.\u001b[0m\u001b[0mround\u001b[0m\u001b[0;34m(\u001b[0m\u001b[0mgalDB\u001b[0m\u001b[0;34m.\u001b[0m\u001b[0mz_grism\u001b[0m\u001b[0;34m[\u001b[0m\u001b[0mgalDB\u001b[0m\u001b[0;34m.\u001b[0m\u001b[0mindex\u001b[0m\u001b[0;34m[\u001b[0m\u001b[0mi\u001b[0m\u001b[0;34m]\u001b[0m\u001b[0;34m]\u001b[0m \u001b[0;34m+\u001b[0m \u001b[0;36m0.02\u001b[0m\u001b[0;34m,\u001b[0m\u001b[0;36m3\u001b[0m\u001b[0;34m)\u001b[0m\u001b[0;34m,\u001b[0m\u001b[0;34m\u001b[0m\u001b[0m\n\u001b[1;32m      6\u001b[0m                 '{0}_full_fit'.format(galDB.gids[galDB.index[i]]))]\n",
      "\u001b[0;32m~/miniconda3/envs/astroconda/lib/python3.5/site-packages/pandas/core/generic.py\u001b[0m in \u001b[0;36m__getattr__\u001b[0;34m(self, name)\u001b[0m\n\u001b[1;32m   4370\u001b[0m             \u001b[0;32mif\u001b[0m \u001b[0mself\u001b[0m\u001b[0;34m.\u001b[0m\u001b[0m_info_axis\u001b[0m\u001b[0;34m.\u001b[0m\u001b[0m_can_hold_identifiers_and_holds_name\u001b[0m\u001b[0;34m(\u001b[0m\u001b[0mname\u001b[0m\u001b[0;34m)\u001b[0m\u001b[0;34m:\u001b[0m\u001b[0;34m\u001b[0m\u001b[0m\n\u001b[1;32m   4371\u001b[0m                 \u001b[0;32mreturn\u001b[0m \u001b[0mself\u001b[0m\u001b[0;34m[\u001b[0m\u001b[0mname\u001b[0m\u001b[0;34m]\u001b[0m\u001b[0;34m\u001b[0m\u001b[0m\n\u001b[0;32m-> 4372\u001b[0;31m             \u001b[0;32mreturn\u001b[0m \u001b[0mobject\u001b[0m\u001b[0;34m.\u001b[0m\u001b[0m__getattribute__\u001b[0m\u001b[0;34m(\u001b[0m\u001b[0mself\u001b[0m\u001b[0;34m,\u001b[0m \u001b[0mname\u001b[0m\u001b[0;34m)\u001b[0m\u001b[0;34m\u001b[0m\u001b[0m\n\u001b[0m\u001b[1;32m   4373\u001b[0m \u001b[0;34m\u001b[0m\u001b[0m\n\u001b[1;32m   4374\u001b[0m     \u001b[0;32mdef\u001b[0m \u001b[0m__setattr__\u001b[0m\u001b[0;34m(\u001b[0m\u001b[0mself\u001b[0m\u001b[0;34m,\u001b[0m \u001b[0mname\u001b[0m\u001b[0;34m,\u001b[0m \u001b[0mvalue\u001b[0m\u001b[0;34m)\u001b[0m\u001b[0;34m:\u001b[0m\u001b[0;34m\u001b[0m\u001b[0m\n",
      "\u001b[0;31mAttributeError\u001b[0m: 'DataFrame' object has no attribute 'z_grism'"
     ]
    }
   ],
   "source": [
    "for i in range(len(galDB.gids)):\n",
    "    slrm_text= [\"#!/bin/bash\\n#SBATCH -J faz-{0}\\n#SBATCH -p background\\n#SBATCH --time=20:00:00\\n#SBATCH --mem-per-cpu=64000\\n#SBATCH --time=10:00:00\\n#SBATCH --mem-per-cpu=32000\\n#SBATCH -o faz{0}-%j.out\\n\\\n",
    "#SBATCH -e faz{0}-%j.err\\n\\nchmod a+x C_fit_full_analyze.py\\n\\npython C_fit_full_analyze.py '{1}' {2} {3} {4} '{5}' &\\n\\nwait\\n\\nexit 0\".format(i + 1, \n",
    "                galDB.gids[galDB.index[i]],galDB.z_grism[galDB.index[i]],\n",
    "                np.round(galDB.z_grism[galDB.index[i]] - 0.02,3), np.round(galDB.z_grism[galDB.index[i]] + 0.02,3),\n",
    "                '{0}_full_fit'.format(galDB.gids[galDB.index[i]]))]\n",
    "\n",
    "    np.savetxt('../cluster_scripts/fullfit_az_{0}.slrm'.format(i + 1), slrm_text, fmt='%s')"
   ]
  },
  {
   "cell_type": "code",
   "execution_count": 5,
   "metadata": {},
   "outputs": [
    {
     "data": {
      "text/plain": [
       "899"
      ]
     },
     "execution_count": 5,
     "metadata": {},
     "output_type": "execute_result"
    }
   ],
   "source": [
    "31*29"
   ]
  },
  {
   "cell_type": "code",
   "execution_count": 3,
   "metadata": {},
   "outputs": [],
   "source": [
    "# mp = [0.005,0.007,0.009,0.011,0.013,0.015,0.017,0.019,0.021,0.023,0.025,0.027]\n",
    "# ap = [3.2,2.2,1.0,3.8,2.7,1.4,4.4,3.2,1.9,5.2,3.6,2.0]\n",
    "mp = [0.019]\n",
    "ap = [2.5]\n",
    "sn = [2,5,10,15,20,30,40,50,100,1000]\n",
    "ids = [1.1,1.2,1.3,1.6]\n",
    "gals = ['s40223', 's40223', 's40223', 's40223'] \n",
    "\n",
    "red = [1.1, 1.25, 1.35, 1.6]"
   ]
  },
  {
   "cell_type": "code",
   "execution_count": 4,
   "metadata": {},
   "outputs": [],
   "source": [
    "for i in range(len(gals)):\n",
    "    for ii in range(len(sn)):\n",
    "        slrm_text= [\"#!/bin/bash\\n#SBATCH -J mcfit-{0}\\n#SBATCH -p background\\n#SBATCH --time=20:00:00\\n#SBATCH --mem-per-cpu=64000\\n#SBATCH -o mcfit{0}-%j.out\\n#SBATCH -e mcfit{0}-%j.err\\n\\nchmod a+x C_MC_fit_instruct.py\\n\\\n",
    "\\npython C_MC_fit_instruct.py '{1}' {2} {3} {4} {5} {6} {7} '{8}' '{9}' &\\n\\nwait\\n\\nexit 0\".format(i*len(sn) + ii + 1, \n",
    "                    gals[i], red[i], np.round(red[i] - 0.01,3), np.round(red[i] + 0.01,3), mp[0], ap[0], sn[ii],\n",
    "                    '{0}_mcspec'.format(ids[i]), 'MC_{0}_m{1}_a{2}_sn{3}'.format(ids[i],mp[0],ap[0], sn[ii]))]\n",
    "\n",
    "        np.savetxt('../cluster_scripts/MC_fit_{0}.slrm'.format(i*len(sn) + ii + 1), slrm_text, fmt='%s')"
   ]
  },
  {
   "cell_type": "code",
   "execution_count": 7,
   "metadata": {},
   "outputs": [
    {
     "data": {
      "text/plain": [
       "36"
      ]
     },
     "execution_count": 7,
     "metadata": {},
     "output_type": "execute_result"
    }
   ],
   "source": [
    "len(gals)*len(sn)"
   ]
  },
  {
   "cell_type": "code",
   "execution_count": 11,
   "metadata": {},
   "outputs": [
    {
     "data": {
      "text/plain": [
       "110"
      ]
     },
     "execution_count": 11,
     "metadata": {},
     "output_type": "execute_result"
    }
   ],
   "source": [
    "11*10\n"
   ]
  },
  {
   "cell_type": "code",
   "execution_count": 12,
   "metadata": {},
   "outputs": [
    {
     "data": {
      "text/plain": [
       "0.001"
      ]
     },
     "execution_count": 12,
     "metadata": {},
     "output_type": "execute_result"
    }
   ],
   "source": [
    "0.01**2 + 0.03**2"
   ]
  },
  {
   "cell_type": "code",
   "execution_count": 13,
   "metadata": {},
   "outputs": [
    {
     "data": {
      "text/plain": [
       "0.03162277660168379"
      ]
     },
     "execution_count": 13,
     "metadata": {},
     "output_type": "execute_result"
    }
   ],
   "source": [
    "np.sqrt(0.001)"
   ]
  },
  {
   "cell_type": "code",
   "execution_count": 14,
   "metadata": {},
   "outputs": [
    {
     "data": {
      "text/plain": [
       "33.333333333333336"
      ]
     },
     "execution_count": 14,
     "metadata": {},
     "output_type": "execute_result"
    }
   ],
   "source": [
    "1/0.03\n"
   ]
  },
  {
   "cell_type": "code",
   "execution_count": null,
   "metadata": {},
   "outputs": [],
   "source": []
  }
 ],
 "metadata": {
  "kernelspec": {
   "display_name": "Python 3",
   "language": "python",
   "name": "python3"
  },
  "language_info": {
   "codemirror_mode": {
    "name": "ipython",
    "version": 3
   },
   "file_extension": ".py",
   "mimetype": "text/x-python",
   "name": "python",
   "nbconvert_exporter": "python",
   "pygments_lexer": "ipython3",
   "version": "3.5.5"
  }
 },
 "nbformat": 4,
 "nbformat_minor": 2
}
