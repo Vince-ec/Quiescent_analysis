{
 "cells": [
  {
   "cell_type": "code",
   "execution_count": 2,
   "metadata": {
    "collapsed": true
   },
   "outputs": [],
   "source": [
    "from astropy.table import Table\n",
    "from astropy.io import fits\n",
    "from vtl.Readfile import Readfile\n",
    "from astropy.cosmology import Planck13, z_at_value\n",
    "from spec_id import Median_w_Error_cont\n",
    "from glob import glob\n",
    "from shutil import copyfile\n",
    "import seaborn as sea\n",
    "import numpy as np\n",
    "import pandas as pd\n",
    "import matplotlib.pyplot as plt\n",
    "sea.set(style='white')\n",
    "sea.set(style='ticks')\n",
    "sea.set_style({'xtick.direct'\n",
    "               'ion': 'in','xtick.top':True,'xtick.minor.visible': True,\n",
    "               'ytick.direction': \"in\",'ytick.right': True,'ytick.minor.visible': True})\n",
    "colors = [(0,i,i,i) for i in np.linspace(0,1,3)]\n",
    "cmap = sea.cubehelix_palette(12, start=2, rot=.2, dark=0, light=1.2, as_cmap=True)"
   ]
  },
  {
   "cell_type": "code",
   "execution_count": 3,
   "metadata": {
    "collapsed": false
   },
   "outputs": [],
   "source": [
    "galDB = pd.read_pickle('../data/upd_galDB.pkl')\n",
    "\n",
    "\n",
    "goodss = Table.read('../../../Clear_data/goodss_mosaic/goodss_3dhst.v4.3.cat', format = 'ascii')\n",
    "goodsn = Table.read('../../../Clear_data/goodsn_mosaic/goodsn_3dhstP.cat', format = 'ascii')\n",
    "\n",
    "\n",
    "# goodss = Table.read('../../../Clear_data/goodss_3dhst.v4.3.cat', format = 'ascii')\n",
    "# goodsn = Table.read('../../../Clear_data/goodsn_3dhst.v4.3.cat', format = 'ascii')"
   ]
  },
  {
   "cell_type": "code",
   "execution_count": 8,
   "metadata": {
    "collapsed": false
   },
   "outputs": [],
   "source": [
    "columns_n = list(goodsn.columns)\n",
    "columns_s = list(goodss.columns)\n",
    "columns_n = np.insert(columns_n,1,'z_spec')\n",
    "columns_s = np.insert(columns_s,1,'z_spec')\n",
    "columns_n = np.insert(columns_n,0,'#').astype(str)\n",
    "columns_s = np.insert(columns_s,0,'#').astype(str)"
   ]
  },
  {
   "cell_type": "code",
   "execution_count": 11,
   "metadata": {
    "collapsed": false
   },
   "outputs": [],
   "source": [
    "info_s=[]\n",
    "info_n=[]\n",
    "\n",
    "\n",
    "for i in galDB.index:\n",
    "    if galDB['gids'][i][0] == 'n':\n",
    "        info = np.array(list(goodsn[int(galDB['gids'][i][1:])-1]))\n",
    "        info = np.insert(info,1,galDB['z_grism'][i]).astype(str)\n",
    "        info = np.insert(info,0,' ').astype(str)\n",
    "        info_n.append(info)\n",
    "#         dat = np.array([columns_n,info]).T\n",
    "        \n",
    "    if galDB['gids'][i][0] == 's':\n",
    "        info= np.array(list(goodss[int(galDB['gids'][i][1:])-1]))\n",
    "        info = np.insert(info,1,galDB['z_grism'][i]).astype(str)\n",
    "        info = np.insert(info,0,' ').astype(str)\n",
    "        info_s.append(info)\n",
    "\n",
    "info_n=np.insert(info_n,0,columns_n,axis=0).T\n",
    "info_s=np.insert(info_s,0,columns_s,axis=0).T\n",
    "        \n",
    "#         dat = np.array([columns_s,info]).T\n",
    "        \n",
    "#     np.savetxt('../mini_catalogs/%s.cat' % galDB['gids'][i],np.column_stack(dat),delimiter=' ',fmt=('%s'))"
   ]
  },
  {
   "cell_type": "code",
   "execution_count": 12,
   "metadata": {
    "collapsed": false
   },
   "outputs": [],
   "source": [
    "np.savetxt('../mini_catalogs/south.cat',np.column_stack(info_s),delimiter=' ',fmt=('%s'))\n",
    "np.savetxt('../mini_catalogs/north.cat',np.column_stack(info_n),delimiter=' ',fmt=('%s'))"
   ]
  },
  {
   "cell_type": "code",
   "execution_count": 96,
   "metadata": {
    "collapsed": true
   },
   "outputs": [],
   "source": [
    "for i in galDB.index:\n",
    "    if galDB['gids'][i][0] == 'n':\n",
    "        copyfile('../mini_catalogs/goodsn.param', '../mini_catalogs/%s.param'% galDB['gids'][i])\n",
    "    if galDB['gids'][i][0] == 's':\n",
    "        copyfile('../mini_catalogs/goodss.param', '../mini_catalogs/%s.param'% galDB['gids'][i])\n"
   ]
  },
  {
   "cell_type": "code",
   "execution_count": 95,
   "metadata": {
    "collapsed": true
   },
   "outputs": [],
   "source": [
    "for i in galDB.index:\n",
    "    if galDB['gids'][i][0] == 'n':\n",
    "        copyfile('../mini_catalogs/goodsn_3dhst.v4.1.translate', '../mini_catalogs/%s.translate'% galDB['gids'][i])\n",
    "    if galDB['gids'][i][0] == 's':\n",
    "        copyfile('../mini_catalogs/goodss_3dhst.v4.1.translate', '../mini_catalogs/%s.translate'% galDB['gids'][i])\n"
   ]
  },
  {
   "cell_type": "code",
   "execution_count": null,
   "metadata": {
    "collapsed": true
   },
   "outputs": [],
   "source": []
  }
 ],
 "metadata": {
  "kernelspec": {
   "display_name": "Python 3",
   "language": "python",
   "name": "python3"
  },
  "language_info": {
   "codemirror_mode": {
    "name": "ipython",
    "version": 3
   },
   "file_extension": ".py",
   "mimetype": "text/x-python",
   "name": "python",
   "nbconvert_exporter": "python",
   "pygments_lexer": "ipython3",
   "version": "3.5.5"
  }
 },
 "nbformat": 4,
 "nbformat_minor": 2
}
