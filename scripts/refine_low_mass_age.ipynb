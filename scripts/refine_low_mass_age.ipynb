{
 "cells": [
  {
   "cell_type": "code",
   "execution_count": null,
   "metadata": {
    "collapsed": true
   },
   "outputs": [],
   "source": [
    "import numpy as np\n",
    "from spec_id import Stack_model, Stack_spec, Model_fit_stack,Analyze_Stack_avgage,Analyze_Stack,Likelihood_contours, Gauss_dist, Make_model_list,\\\n",
    "    Stack_spec_normwmean,Stack_model_normwmean, Model_fit_stack_normwmean_flxerr\n",
    "import matplotlib.pyplot as plt\n",
    "from vtl.Readfile import Readfile\n",
    "from glob import glob\n",
    "from astropy.io import fits, ascii\n",
    "from astropy.table import Table\n",
    "from scipy.interpolate import interp1d\n",
    "import os\n",
    "import cPickle\n",
    "import seaborn as sea\n",
    "sea.set(style='white')\n",
    "sea.set(style='ticks')\n",
    "sea.set_style({\"xtick.direction\": \"in\",\"ytick.direction\": \"in\"})\n",
    "colmap = sea.cubehelix_palette(12, start=2, rot=.2, dark=0, light=1.1, as_cmap=True)"
   ]
  },
  {
   "cell_type": "code",
   "execution_count": 18,
   "metadata": {},
   "outputs": [
    {
     "name": "stdout",
     "output_type": "stream",
     "text": [
      "35\n"
     ]
    }
   ],
   "source": [
    "ids,speclist,lmass,rshift=np.array(Readfile('masslist_jan15.dat',1,is_float=False))\n",
    "lmass,rshift=np.array([lmass,rshift]).astype(float)\n",
    "\n",
    "IDA=[]  # all masses in sample\n",
    "IDL=[]  # low mass sample\n",
    "IDH=[]  # high mass sample\n",
    "\n",
    "for i in range(len(ids)):\n",
    "    if 10.0<=lmass[i] and 1<rshift[i]<1.75:\n",
    "        IDA.append(i)\n",
    "    if 10.931>lmass[i] and 1<rshift[i]<1.75:\n",
    "        IDL.append(i)\n",
    "    if 10.931<lmass[i] and 1<rshift[i]<1.75:\n",
    "        IDH.append(i)\n",
    "\n",
    "metal=np.array([ 0.0020, 0.0025, 0.0031, 0.0039, 0.0049, 0.0061,  0.0068,  0.0077,  0.0085,  0.0096,  0.0106,\n",
    "                  0.012, 0.0132, 0.014,  0.0150,  0.0164, 0.018,  0.019,  0.021,  0.024, 0.027, 0.03])\n",
    "age=[0.5, 0.84, 1.37, 1.52, 1.72, 1.8, 1.85, 1.95 ,2.11, 2.2, 2.26, 2.3, 2.35, 2.38, 2.4,2.44,2.48,2.52, 2.56,2.6, 2.64, 2.68,\n",
    "     2.7, 2.75, 2.79, 2.81,2.87, 2.95,3.02, 3.12, 3.35, 3.45, 3.56, 4.62, 6.0]\n",
    "\n",
    "print len(age)\n",
    "\n",
    "tau=[0,8.0,8.15,8.28,8.43,8.57,8.72,8.86,9.0,9.14,9.29,9.43,9.57,9.71,9.86,10.0]\n",
    "\n",
    "M,A=np.meshgrid(metal,age)"
   ]
  },
  {
   "cell_type": "code",
   "execution_count": 16,
   "metadata": {},
   "outputs": [
    {
     "name": "stdout",
     "output_type": "stream",
     "text": [
      "2.05\n2.15\n287.427921543\n287.289771091\n"
     ]
    }
   ],
   "source": [
    "age=[0.5, 0.65, 0.84, 1.37, 1.52, 1.72, 1.8, 1.85, 1.95, 2.05,2.11,2.15, 2.2, 2.26, 2.3, 2.35, 2.38,2.4, 2.44,2.48,2.52, 2.56,2.6, 2.64, 2.68,\n",
    "     2.7, 2.75, 2.79, 2.81,2.87, 2.95,3.02, 3.12, 3.35,3.4, 3.45,3.5, 3.56, 4.62, 6.0]\n",
    "\n",
    "wv,fl,er=Stack_spec_normwmean(speclist[IDH],rshift[IDH],np.arange(3250,5350,10))\n",
    "\n",
    "chi0=np.zeros(len(age))\n",
    "chi8=np.zeros(len(age))\n",
    "for i in range(len(age)):\n",
    "    flist0=Make_model_list(0.015,age[i],0,rshift[IDH])\n",
    "    flist8=Make_model_list(0.015,age[i],8.0,rshift[IDH])\n",
    "    mwv0, mfl0, mer0 = Stack_model_normwmean(speclist[IDH], flist0, rshift[IDH], np.arange(wv[0], wv[-1] + 10, 10))\n",
    "    mwv8, mfl8, mer8 = Stack_model_normwmean(speclist[IDH], flist8, rshift[IDH], np.arange(wv[0], wv[-1] + 10, 10))\n",
    "    chi0[i]=sum(((fl - mfl0) / er) ** 2)\n",
    "    chi8[i]=sum(((fl - mfl8) / er) ** 2)\n",
    "\n",
    "print age[np.argmin(chi0)]\n",
    "print age[np.argmin(chi8)]\n",
    "print np.min(chi0)\n",
    "print np.min(chi8)\n",
    "\n",
    "\n",
    "plt.plot(age,chi0,label='$\\\\tau=0$')\n",
    "plt.plot(age,chi0,'o')\n",
    "plt.plot(age,chi8,label='$\\\\tau=8$')\n",
    "plt.plot(age,chi8,'o')\n",
    "plt.show()"
   ]
  },
  {
   "cell_type": "code",
   "execution_count": 35,
   "metadata": {},
   "outputs": [
    {
     "name": "stdout",
     "output_type": "stream",
     "text": [
      "[ 1.252  1.147  1.61   1.022  1.609  1.22   1.618  1.616  1.61   1.034\n  1.111]\n"
     ]
    }
   ],
   "source": [
    "# %matplotlib inline\n",
    "\n",
    "lmetal=[0.0049, 0.0061,  0.0068,  0.0077,  0.0085,  0.0096,  0.0106,0.012, 0.0132, 0.014,  0.0150]\n",
    "bf0=[3.4,2.87,2.64,2.48,2.48,2.48,2.4,2.3,2.2,2.11,2.05]\n",
    "bf8=[3.5,3.02,2.75,2.6,2.6,2.6,2.52,2.4,2.3,2.26,2.15]\n",
    "\n",
    "chi0=[291,281,275,275,273,272,275,280,282,284,287]\n",
    "chi8=[291,281,275,275,273,272,275,279,282,285,287\n",
    "      ]\n",
    "plt.plot(lmetal,bf0)\n",
    "plt.plot(lmetal,bf8)\n",
    "plt.show()\n",
    "\n",
    "plt.plot(lmetal,chi0)\n",
    "plt.plot(lmetal,chi8)\n",
    "plt.show()"
   ]
  }
 ],
 "metadata": {
  "kernelspec": {
   "display_name": "Python 2",
   "language": "python",
   "name": "python2"
  },
  "language_info": {
   "codemirror_mode": {
    "name": "ipython",
    "version": 2.0
   },
   "file_extension": ".py",
   "mimetype": "text/x-python",
   "name": "python",
   "nbconvert_exporter": "python",
   "pygments_lexer": "ipython2",
   "version": "2.7.6"
  }
 },
 "nbformat": 4,
 "nbformat_minor": 0
}