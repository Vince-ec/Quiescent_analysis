{
 "cells": [
  {
   "cell_type": "code",
   "execution_count": 1,
   "metadata": {
    "collapsed": true
   },
   "outputs": [],
   "source": [
    "import numpy as np\n",
    "from glob import glob\n",
    "import pandas as pd\n",
    "from matplotlib.patches import Rectangle\n",
    "import matplotlib.pyplot as plt\n",
    "import os\n",
    "from shutil import copyfile\n",
    "import seaborn as sea\n",
    "from astropy.table import Table\n",
    "sea.set(style='white')\n",
    "sea.set(style='ticks')\n",
    "sea.set_style({\"xtick.direction\": \"in\",\"ytick.direction\": \"in\"})\n",
    "cmap = sea.cubehelix_palette(12, start=2, rot=.2, dark=0, light=1.1, as_cmap=True)"
   ]
  },
  {
   "cell_type": "code",
   "execution_count": 2,
   "metadata": {},
   "outputs": [],
   "source": [
    "def Remove_ns(gid):\n",
    "    x = [int(U[1:]) for U in gid]\n",
    "    return np.array(x)\n",
    "\n",
    "def Get_rshift(table, ID):\n",
    "    z = table['z_m1'][ID-1]\n",
    "    return z"
   ]
  },
  {
   "cell_type": "code",
   "execution_count": 3,
   "metadata": {},
   "outputs": [],
   "source": [
    "uvjDB = pd.read_pickle('../data/uvj_db.pkl')\n",
    "quvjDB = uvjDB[uvjDB['Q/S'].map(lambda x:x.startswith('q'))]\n",
    "ids = Remove_ns(quvjDB.index)\n",
    "smask = np.array([U.startswith('s') for U in quvjDB.index])\n",
    "nmask = np.array([U.startswith('n') for U in quvjDB.index])\n",
    "\n",
    "goodss = '../../../catalogs_for_CLEAR/goodss_3dhst.v4.1.cats/Eazy/goodss_3dhst.v4.1.zout'\n",
    "scat = Table.read(goodss,format='ascii')\n",
    "\n",
    "goodsn = '../../../catalogs_for_CLEAR/goodsn_3dhst.v4.1.cats/Eazy/goodsn_3dhst.v4.1.zout'\n",
    "ncat = Table.read(goodsn,format='ascii')\n",
    "\n",
    "s_z = np.array([Get_rshift(scat,U) for U in ids[smask]])\n",
    "n_z = np.array([Get_rshift(ncat,U) for U in ids[nmask]])\n",
    "z_tot = np.append(n_z,s_z)"
   ]
  },
  {
   "cell_type": "code",
   "execution_count": 6,
   "metadata": {},
   "outputs": [],
   "source": [
    "qgalDB = pd.DataFrame({'gids' : quvjDB.index,'ids' : ids, 'redshift':z_tot})\n",
    "pd.to_pickle(qgalDB,'../data/quiescent_gal_DB.pkl')"
   ]
  },
  {
   "cell_type": "code",
   "execution_count": 5,
   "metadata": {},
   "outputs": [
    {
     "data": {
      "text/html": [
       "<div>\n",
       "<table border=\"1\" class=\"dataframe\">\n",
       "  <thead>\n",
       "    <tr style=\"text-align: right;\">\n",
       "      <th></th>\n",
       "      <th>gids</th>\n",
       "      <th>ids</th>\n",
       "      <th>redshift</th>\n",
       "    </tr>\n",
       "  </thead>\n",
       "  <tbody>\n",
       "    <tr>\n",
       "      <th>0</th>\n",
       "      <td>n542</td>\n",
       "      <td>542</td>\n",
       "      <td>1.213</td>\n",
       "    </tr>\n",
       "    <tr>\n",
       "      <th>1</th>\n",
       "      <td>n1184</td>\n",
       "      <td>1184</td>\n",
       "      <td>1.209</td>\n",
       "    </tr>\n",
       "    <tr>\n",
       "      <th>2</th>\n",
       "      <td>n2023</td>\n",
       "      <td>2023</td>\n",
       "      <td>1.680</td>\n",
       "    </tr>\n",
       "    <tr>\n",
       "      <th>3</th>\n",
       "      <td>n2116</td>\n",
       "      <td>2116</td>\n",
       "      <td>1.018</td>\n",
       "    </tr>\n",
       "    <tr>\n",
       "      <th>4</th>\n",
       "      <td>n2265</td>\n",
       "      <td>2265</td>\n",
       "      <td>1.104</td>\n",
       "    </tr>\n",
       "    <tr>\n",
       "      <th>5</th>\n",
       "      <td>n2302</td>\n",
       "      <td>2302</td>\n",
       "      <td>0.978</td>\n",
       "    </tr>\n",
       "    <tr>\n",
       "      <th>6</th>\n",
       "      <td>n2484</td>\n",
       "      <td>2484</td>\n",
       "      <td>1.051</td>\n",
       "    </tr>\n",
       "    <tr>\n",
       "      <th>7</th>\n",
       "      <td>n2684</td>\n",
       "      <td>2684</td>\n",
       "      <td>1.007</td>\n",
       "    </tr>\n",
       "    <tr>\n",
       "      <th>8</th>\n",
       "      <td>n2882</td>\n",
       "      <td>2882</td>\n",
       "      <td>1.139</td>\n",
       "    </tr>\n",
       "    <tr>\n",
       "      <th>9</th>\n",
       "      <td>n2913</td>\n",
       "      <td>2913</td>\n",
       "      <td>1.108</td>\n",
       "    </tr>\n",
       "    <tr>\n",
       "      <th>10</th>\n",
       "      <td>n2960</td>\n",
       "      <td>2960</td>\n",
       "      <td>0.999</td>\n",
       "    </tr>\n",
       "    <tr>\n",
       "      <th>11</th>\n",
       "      <td>n3125</td>\n",
       "      <td>3125</td>\n",
       "      <td>1.722</td>\n",
       "    </tr>\n",
       "    <tr>\n",
       "      <th>12</th>\n",
       "      <td>n3133</td>\n",
       "      <td>3133</td>\n",
       "      <td>1.049</td>\n",
       "    </tr>\n",
       "    <tr>\n",
       "      <th>13</th>\n",
       "      <td>n3735</td>\n",
       "      <td>3735</td>\n",
       "      <td>1.231</td>\n",
       "    </tr>\n",
       "    <tr>\n",
       "      <th>14</th>\n",
       "      <td>n3843</td>\n",
       "      <td>3843</td>\n",
       "      <td>1.058</td>\n",
       "    </tr>\n",
       "    <tr>\n",
       "      <th>15</th>\n",
       "      <td>n4108</td>\n",
       "      <td>4108</td>\n",
       "      <td>1.025</td>\n",
       "    </tr>\n",
       "    <tr>\n",
       "      <th>16</th>\n",
       "      <td>n4748</td>\n",
       "      <td>4748</td>\n",
       "      <td>1.113</td>\n",
       "    </tr>\n",
       "    <tr>\n",
       "      <th>17</th>\n",
       "      <td>n4868</td>\n",
       "      <td>4868</td>\n",
       "      <td>1.148</td>\n",
       "    </tr>\n",
       "    <tr>\n",
       "      <th>18</th>\n",
       "      <td>n4907</td>\n",
       "      <td>4907</td>\n",
       "      <td>1.016</td>\n",
       "    </tr>\n",
       "    <tr>\n",
       "      <th>19</th>\n",
       "      <td>n6026</td>\n",
       "      <td>6026</td>\n",
       "      <td>1.737</td>\n",
       "    </tr>\n",
       "    <tr>\n",
       "      <th>20</th>\n",
       "      <td>n6453</td>\n",
       "      <td>6453</td>\n",
       "      <td>1.708</td>\n",
       "    </tr>\n",
       "    <tr>\n",
       "      <th>21</th>\n",
       "      <td>n8466</td>\n",
       "      <td>8466</td>\n",
       "      <td>1.713</td>\n",
       "    </tr>\n",
       "    <tr>\n",
       "      <th>22</th>\n",
       "      <td>n8912</td>\n",
       "      <td>8912</td>\n",
       "      <td>1.175</td>\n",
       "    </tr>\n",
       "    <tr>\n",
       "      <th>23</th>\n",
       "      <td>n8949</td>\n",
       "      <td>8949</td>\n",
       "      <td>1.036</td>\n",
       "    </tr>\n",
       "    <tr>\n",
       "      <th>24</th>\n",
       "      <td>n9056</td>\n",
       "      <td>9056</td>\n",
       "      <td>1.083</td>\n",
       "    </tr>\n",
       "    <tr>\n",
       "      <th>25</th>\n",
       "      <td>n9533</td>\n",
       "      <td>9533</td>\n",
       "      <td>1.217</td>\n",
       "    </tr>\n",
       "    <tr>\n",
       "      <th>26</th>\n",
       "      <td>n9582</td>\n",
       "      <td>9582</td>\n",
       "      <td>0.991</td>\n",
       "    </tr>\n",
       "    <tr>\n",
       "      <th>27</th>\n",
       "      <td>n9623</td>\n",
       "      <td>9623</td>\n",
       "      <td>0.992</td>\n",
       "    </tr>\n",
       "    <tr>\n",
       "      <th>28</th>\n",
       "      <td>n9692</td>\n",
       "      <td>9692</td>\n",
       "      <td>1.676</td>\n",
       "    </tr>\n",
       "    <tr>\n",
       "      <th>29</th>\n",
       "      <td>n9861</td>\n",
       "      <td>9861</td>\n",
       "      <td>1.035</td>\n",
       "    </tr>\n",
       "    <tr>\n",
       "      <th>...</th>\n",
       "      <td>...</td>\n",
       "      <td>...</td>\n",
       "      <td>...</td>\n",
       "    </tr>\n",
       "    <tr>\n",
       "      <th>242</th>\n",
       "      <td>s42820</td>\n",
       "      <td>42820</td>\n",
       "      <td>1.759</td>\n",
       "    </tr>\n",
       "    <tr>\n",
       "      <th>243</th>\n",
       "      <td>s42915</td>\n",
       "      <td>42915</td>\n",
       "      <td>1.314</td>\n",
       "    </tr>\n",
       "    <tr>\n",
       "      <th>244</th>\n",
       "      <td>s43042</td>\n",
       "      <td>43042</td>\n",
       "      <td>1.429</td>\n",
       "    </tr>\n",
       "    <tr>\n",
       "      <th>245</th>\n",
       "      <td>s43597</td>\n",
       "      <td>43597</td>\n",
       "      <td>1.113</td>\n",
       "    </tr>\n",
       "    <tr>\n",
       "      <th>246</th>\n",
       "      <td>s43615</td>\n",
       "      <td>43615</td>\n",
       "      <td>1.039</td>\n",
       "    </tr>\n",
       "    <tr>\n",
       "      <th>247</th>\n",
       "      <td>s43840</td>\n",
       "      <td>43840</td>\n",
       "      <td>1.061</td>\n",
       "    </tr>\n",
       "    <tr>\n",
       "      <th>248</th>\n",
       "      <td>s44042</td>\n",
       "      <td>44042</td>\n",
       "      <td>1.670</td>\n",
       "    </tr>\n",
       "    <tr>\n",
       "      <th>249</th>\n",
       "      <td>s44139</td>\n",
       "      <td>44139</td>\n",
       "      <td>1.594</td>\n",
       "    </tr>\n",
       "    <tr>\n",
       "      <th>250</th>\n",
       "      <td>s44229</td>\n",
       "      <td>44229</td>\n",
       "      <td>1.008</td>\n",
       "    </tr>\n",
       "    <tr>\n",
       "      <th>251</th>\n",
       "      <td>s44620</td>\n",
       "      <td>44620</td>\n",
       "      <td>1.080</td>\n",
       "    </tr>\n",
       "    <tr>\n",
       "      <th>252</th>\n",
       "      <td>s44715</td>\n",
       "      <td>44715</td>\n",
       "      <td>1.528</td>\n",
       "    </tr>\n",
       "    <tr>\n",
       "      <th>253</th>\n",
       "      <td>s44791</td>\n",
       "      <td>44791</td>\n",
       "      <td>1.265</td>\n",
       "    </tr>\n",
       "    <tr>\n",
       "      <th>254</th>\n",
       "      <td>s44824</td>\n",
       "      <td>44824</td>\n",
       "      <td>1.614</td>\n",
       "    </tr>\n",
       "    <tr>\n",
       "      <th>255</th>\n",
       "      <td>s45362</td>\n",
       "      <td>45362</td>\n",
       "      <td>1.303</td>\n",
       "    </tr>\n",
       "    <tr>\n",
       "      <th>256</th>\n",
       "      <td>s45407</td>\n",
       "      <td>45407</td>\n",
       "      <td>1.466</td>\n",
       "    </tr>\n",
       "    <tr>\n",
       "      <th>257</th>\n",
       "      <td>s45775</td>\n",
       "      <td>45775</td>\n",
       "      <td>1.382</td>\n",
       "    </tr>\n",
       "    <tr>\n",
       "      <th>258</th>\n",
       "      <td>s45972</td>\n",
       "      <td>45972</td>\n",
       "      <td>1.047</td>\n",
       "    </tr>\n",
       "    <tr>\n",
       "      <th>259</th>\n",
       "      <td>s46066</td>\n",
       "      <td>46066</td>\n",
       "      <td>1.319</td>\n",
       "    </tr>\n",
       "    <tr>\n",
       "      <th>260</th>\n",
       "      <td>s46345</td>\n",
       "      <td>46345</td>\n",
       "      <td>1.402</td>\n",
       "    </tr>\n",
       "    <tr>\n",
       "      <th>261</th>\n",
       "      <td>s46377</td>\n",
       "      <td>46377</td>\n",
       "      <td>1.087</td>\n",
       "    </tr>\n",
       "    <tr>\n",
       "      <th>262</th>\n",
       "      <td>s46562</td>\n",
       "      <td>46562</td>\n",
       "      <td>1.731</td>\n",
       "    </tr>\n",
       "    <tr>\n",
       "      <th>263</th>\n",
       "      <td>s46846</td>\n",
       "      <td>46846</td>\n",
       "      <td>1.079</td>\n",
       "    </tr>\n",
       "    <tr>\n",
       "      <th>264</th>\n",
       "      <td>s46888</td>\n",
       "      <td>46888</td>\n",
       "      <td>1.065</td>\n",
       "    </tr>\n",
       "    <tr>\n",
       "      <th>265</th>\n",
       "      <td>s47223</td>\n",
       "      <td>47223</td>\n",
       "      <td>1.056</td>\n",
       "    </tr>\n",
       "    <tr>\n",
       "      <th>266</th>\n",
       "      <td>s47276</td>\n",
       "      <td>47276</td>\n",
       "      <td>1.383</td>\n",
       "    </tr>\n",
       "    <tr>\n",
       "      <th>267</th>\n",
       "      <td>s47677</td>\n",
       "      <td>47677</td>\n",
       "      <td>1.097</td>\n",
       "    </tr>\n",
       "    <tr>\n",
       "      <th>268</th>\n",
       "      <td>s47691</td>\n",
       "      <td>47691</td>\n",
       "      <td>1.121</td>\n",
       "    </tr>\n",
       "    <tr>\n",
       "      <th>269</th>\n",
       "      <td>s47873</td>\n",
       "      <td>47873</td>\n",
       "      <td>1.305</td>\n",
       "    </tr>\n",
       "    <tr>\n",
       "      <th>270</th>\n",
       "      <td>s48631</td>\n",
       "      <td>48631</td>\n",
       "      <td>1.140</td>\n",
       "    </tr>\n",
       "    <tr>\n",
       "      <th>271</th>\n",
       "      <td>s49708</td>\n",
       "      <td>49708</td>\n",
       "      <td>1.058</td>\n",
       "    </tr>\n",
       "  </tbody>\n",
       "</table>\n",
       "<p>272 rows × 3 columns</p>\n",
       "</div>"
      ],
      "text/plain": [
       "<div>\n",
       "<table border=\"1\" class=\"dataframe\">\n",
       "  <thead>\n",
       "    <tr style=\"text-align: right;\">\n",
       "      <th></th>\n",
       "      <th>gids</th>\n",
       "      <th>ids</th>\n",
       "      <th>redshift</th>\n",
       "    </tr>\n",
       "  </thead>\n",
       "  <tbody>\n",
       "    <tr>\n",
       "      <th>0</th>\n",
       "      <td>n542</td>\n",
       "      <td>542</td>\n",
       "      <td>1.213</td>\n",
       "    </tr>\n",
       "    <tr>\n",
       "      <th>1</th>\n",
       "      <td>n1184</td>\n",
       "      <td>1184</td>\n",
       "      <td>1.209</td>\n",
       "    </tr>\n",
       "    <tr>\n",
       "      <th>2</th>\n",
       "      <td>n2023</td>\n",
       "      <td>2023</td>\n",
       "      <td>1.680</td>\n",
       "    </tr>\n",
       "    <tr>\n",
       "      <th>3</th>\n",
       "      <td>n2116</td>\n",
       "      <td>2116</td>\n",
       "      <td>1.018</td>\n",
       "    </tr>\n",
       "    <tr>\n",
       "      <th>4</th>\n",
       "      <td>n2265</td>\n",
       "      <td>2265</td>\n",
       "      <td>1.104</td>\n",
       "    </tr>\n",
       "    <tr>\n",
       "      <th>5</th>\n",
       "      <td>n2302</td>\n",
       "      <td>2302</td>\n",
       "      <td>0.978</td>\n",
       "    </tr>\n",
       "    <tr>\n",
       "      <th>6</th>\n",
       "      <td>n2484</td>\n",
       "      <td>2484</td>\n",
       "      <td>1.051</td>\n",
       "    </tr>\n",
       "    <tr>\n",
       "      <th>7</th>\n",
       "      <td>n2684</td>\n",
       "      <td>2684</td>\n",
       "      <td>1.007</td>\n",
       "    </tr>\n",
       "    <tr>\n",
       "      <th>8</th>\n",
       "      <td>n2882</td>\n",
       "      <td>2882</td>\n",
       "      <td>1.139</td>\n",
       "    </tr>\n",
       "    <tr>\n",
       "      <th>9</th>\n",
       "      <td>n2913</td>\n",
       "      <td>2913</td>\n",
       "      <td>1.108</td>\n",
       "    </tr>\n",
       "    <tr>\n",
       "      <th>10</th>\n",
       "      <td>n2960</td>\n",
       "      <td>2960</td>\n",
       "      <td>0.999</td>\n",
       "    </tr>\n",
       "    <tr>\n",
       "      <th>11</th>\n",
       "      <td>n3125</td>\n",
       "      <td>3125</td>\n",
       "      <td>1.722</td>\n",
       "    </tr>\n",
       "    <tr>\n",
       "      <th>12</th>\n",
       "      <td>n3133</td>\n",
       "      <td>3133</td>\n",
       "      <td>1.049</td>\n",
       "    </tr>\n",
       "    <tr>\n",
       "      <th>13</th>\n",
       "      <td>n3735</td>\n",
       "      <td>3735</td>\n",
       "      <td>1.231</td>\n",
       "    </tr>\n",
       "    <tr>\n",
       "      <th>14</th>\n",
       "      <td>n3843</td>\n",
       "      <td>3843</td>\n",
       "      <td>1.058</td>\n",
       "    </tr>\n",
       "    <tr>\n",
       "      <th>15</th>\n",
       "      <td>n4108</td>\n",
       "      <td>4108</td>\n",
       "      <td>1.025</td>\n",
       "    </tr>\n",
       "    <tr>\n",
       "      <th>16</th>\n",
       "      <td>n4748</td>\n",
       "      <td>4748</td>\n",
       "      <td>1.113</td>\n",
       "    </tr>\n",
       "    <tr>\n",
       "      <th>17</th>\n",
       "      <td>n4868</td>\n",
       "      <td>4868</td>\n",
       "      <td>1.148</td>\n",
       "    </tr>\n",
       "    <tr>\n",
       "      <th>18</th>\n",
       "      <td>n4907</td>\n",
       "      <td>4907</td>\n",
       "      <td>1.016</td>\n",
       "    </tr>\n",
       "    <tr>\n",
       "      <th>19</th>\n",
       "      <td>n6026</td>\n",
       "      <td>6026</td>\n",
       "      <td>1.737</td>\n",
       "    </tr>\n",
       "    <tr>\n",
       "      <th>20</th>\n",
       "      <td>n6453</td>\n",
       "      <td>6453</td>\n",
       "      <td>1.708</td>\n",
       "    </tr>\n",
       "    <tr>\n",
       "      <th>21</th>\n",
       "      <td>n8466</td>\n",
       "      <td>8466</td>\n",
       "      <td>1.713</td>\n",
       "    </tr>\n",
       "    <tr>\n",
       "      <th>22</th>\n",
       "      <td>n8912</td>\n",
       "      <td>8912</td>\n",
       "      <td>1.175</td>\n",
       "    </tr>\n",
       "    <tr>\n",
       "      <th>23</th>\n",
       "      <td>n8949</td>\n",
       "      <td>8949</td>\n",
       "      <td>1.036</td>\n",
       "    </tr>\n",
       "    <tr>\n",
       "      <th>24</th>\n",
       "      <td>n9056</td>\n",
       "      <td>9056</td>\n",
       "      <td>1.083</td>\n",
       "    </tr>\n",
       "    <tr>\n",
       "      <th>25</th>\n",
       "      <td>n9533</td>\n",
       "      <td>9533</td>\n",
       "      <td>1.217</td>\n",
       "    </tr>\n",
       "    <tr>\n",
       "      <th>26</th>\n",
       "      <td>n9582</td>\n",
       "      <td>9582</td>\n",
       "      <td>0.991</td>\n",
       "    </tr>\n",
       "    <tr>\n",
       "      <th>27</th>\n",
       "      <td>n9623</td>\n",
       "      <td>9623</td>\n",
       "      <td>0.992</td>\n",
       "    </tr>\n",
       "    <tr>\n",
       "      <th>28</th>\n",
       "      <td>n9692</td>\n",
       "      <td>9692</td>\n",
       "      <td>1.676</td>\n",
       "    </tr>\n",
       "    <tr>\n",
       "      <th>29</th>\n",
       "      <td>n9861</td>\n",
       "      <td>9861</td>\n",
       "      <td>1.035</td>\n",
       "    </tr>\n",
       "    <tr>\n",
       "      <th>...</th>\n",
       "      <td>...</td>\n",
       "      <td>...</td>\n",
       "      <td>...</td>\n",
       "    </tr>\n",
       "    <tr>\n",
       "      <th>242</th>\n",
       "      <td>s42820</td>\n",
       "      <td>42820</td>\n",
       "      <td>1.759</td>\n",
       "    </tr>\n",
       "    <tr>\n",
       "      <th>243</th>\n",
       "      <td>s42915</td>\n",
       "      <td>42915</td>\n",
       "      <td>1.314</td>\n",
       "    </tr>\n",
       "    <tr>\n",
       "      <th>244</th>\n",
       "      <td>s43042</td>\n",
       "      <td>43042</td>\n",
       "      <td>1.429</td>\n",
       "    </tr>\n",
       "    <tr>\n",
       "      <th>245</th>\n",
       "      <td>s43597</td>\n",
       "      <td>43597</td>\n",
       "      <td>1.113</td>\n",
       "    </tr>\n",
       "    <tr>\n",
       "      <th>246</th>\n",
       "      <td>s43615</td>\n",
       "      <td>43615</td>\n",
       "      <td>1.039</td>\n",
       "    </tr>\n",
       "    <tr>\n",
       "      <th>247</th>\n",
       "      <td>s43840</td>\n",
       "      <td>43840</td>\n",
       "      <td>1.061</td>\n",
       "    </tr>\n",
       "    <tr>\n",
       "      <th>248</th>\n",
       "      <td>s44042</td>\n",
       "      <td>44042</td>\n",
       "      <td>1.670</td>\n",
       "    </tr>\n",
       "    <tr>\n",
       "      <th>249</th>\n",
       "      <td>s44139</td>\n",
       "      <td>44139</td>\n",
       "      <td>1.594</td>\n",
       "    </tr>\n",
       "    <tr>\n",
       "      <th>250</th>\n",
       "      <td>s44229</td>\n",
       "      <td>44229</td>\n",
       "      <td>1.008</td>\n",
       "    </tr>\n",
       "    <tr>\n",
       "      <th>251</th>\n",
       "      <td>s44620</td>\n",
       "      <td>44620</td>\n",
       "      <td>1.080</td>\n",
       "    </tr>\n",
       "    <tr>\n",
       "      <th>252</th>\n",
       "      <td>s44715</td>\n",
       "      <td>44715</td>\n",
       "      <td>1.528</td>\n",
       "    </tr>\n",
       "    <tr>\n",
       "      <th>253</th>\n",
       "      <td>s44791</td>\n",
       "      <td>44791</td>\n",
       "      <td>1.265</td>\n",
       "    </tr>\n",
       "    <tr>\n",
       "      <th>254</th>\n",
       "      <td>s44824</td>\n",
       "      <td>44824</td>\n",
       "      <td>1.614</td>\n",
       "    </tr>\n",
       "    <tr>\n",
       "      <th>255</th>\n",
       "      <td>s45362</td>\n",
       "      <td>45362</td>\n",
       "      <td>1.303</td>\n",
       "    </tr>\n",
       "    <tr>\n",
       "      <th>256</th>\n",
       "      <td>s45407</td>\n",
       "      <td>45407</td>\n",
       "      <td>1.466</td>\n",
       "    </tr>\n",
       "    <tr>\n",
       "      <th>257</th>\n",
       "      <td>s45775</td>\n",
       "      <td>45775</td>\n",
       "      <td>1.382</td>\n",
       "    </tr>\n",
       "    <tr>\n",
       "      <th>258</th>\n",
       "      <td>s45972</td>\n",
       "      <td>45972</td>\n",
       "      <td>1.047</td>\n",
       "    </tr>\n",
       "    <tr>\n",
       "      <th>259</th>\n",
       "      <td>s46066</td>\n",
       "      <td>46066</td>\n",
       "      <td>1.319</td>\n",
       "    </tr>\n",
       "    <tr>\n",
       "      <th>260</th>\n",
       "      <td>s46345</td>\n",
       "      <td>46345</td>\n",
       "      <td>1.402</td>\n",
       "    </tr>\n",
       "    <tr>\n",
       "      <th>261</th>\n",
       "      <td>s46377</td>\n",
       "      <td>46377</td>\n",
       "      <td>1.087</td>\n",
       "    </tr>\n",
       "    <tr>\n",
       "      <th>262</th>\n",
       "      <td>s46562</td>\n",
       "      <td>46562</td>\n",
       "      <td>1.731</td>\n",
       "    </tr>\n",
       "    <tr>\n",
       "      <th>263</th>\n",
       "      <td>s46846</td>\n",
       "      <td>46846</td>\n",
       "      <td>1.079</td>\n",
       "    </tr>\n",
       "    <tr>\n",
       "      <th>264</th>\n",
       "      <td>s46888</td>\n",
       "      <td>46888</td>\n",
       "      <td>1.065</td>\n",
       "    </tr>\n",
       "    <tr>\n",
       "      <th>265</th>\n",
       "      <td>s47223</td>\n",
       "      <td>47223</td>\n",
       "      <td>1.056</td>\n",
       "    </tr>\n",
       "    <tr>\n",
       "      <th>266</th>\n",
       "      <td>s47276</td>\n",
       "      <td>47276</td>\n",
       "      <td>1.383</td>\n",
       "    </tr>\n",
       "    <tr>\n",
       "      <th>267</th>\n",
       "      <td>s47677</td>\n",
       "      <td>47677</td>\n",
       "      <td>1.097</td>\n",
       "    </tr>\n",
       "    <tr>\n",
       "      <th>268</th>\n",
       "      <td>s47691</td>\n",
       "      <td>47691</td>\n",
       "      <td>1.121</td>\n",
       "    </tr>\n",
       "    <tr>\n",
       "      <th>269</th>\n",
       "      <td>s47873</td>\n",
       "      <td>47873</td>\n",
       "      <td>1.305</td>\n",
       "    </tr>\n",
       "    <tr>\n",
       "      <th>270</th>\n",
       "      <td>s48631</td>\n",
       "      <td>48631</td>\n",
       "      <td>1.140</td>\n",
       "    </tr>\n",
       "    <tr>\n",
       "      <th>271</th>\n",
       "      <td>s49708</td>\n",
       "      <td>49708</td>\n",
       "      <td>1.058</td>\n",
       "    </tr>\n",
       "  </tbody>\n",
       "</table>\n",
       "<p>272 rows × 3 columns</p>\n",
       "</div>"
      ]
     },
     "execution_count": 5,
     "metadata": {},
     "output_type": "execute_result"
    }
   ],
   "source": [
    "qgalDB"
   ]
  },
  {
   "cell_type": "code",
   "execution_count": 7,
   "metadata": {},
   "outputs": [],
   "source": [
    "hd_path = '../../../../../Volumes/Vince_homedrive/Extractions/'\n",
    "\n",
    "obv_dir =glob(hd_path + '*-*')"
   ]
  },
  {
   "cell_type": "code",
   "execution_count": 70,
   "metadata": {},
   "outputs": [],
   "source": [
    "def Get_file_list(dirs,gid):\n",
    "    field = gid[0]\n",
    "    ID = int(gid[1:])\n",
    "    direct = '../../../../../Volumes/Vince_homedrive/Extractions/Quiescent_galaxies/%s' % gid\n",
    "       \n",
    "    one_d =np.array([])\n",
    "    one_d_n =np.array([])\n",
    "    for i in range(len(dirs)):\n",
    "        if field == 's':\n",
    "            pres = glob(dirs[i] + '/1D/FITS/' + '*S*%s*' % ID)\n",
    "        else:\n",
    "            pres = glob(dirs[i] + '/1D/FITS/' + '*N*%s*' % ID)\n",
    "\n",
    "        if len(pres) >=1:\n",
    "            one_d= np.append(one_d,pres)\n",
    "            pres_n = pres[0].replace(dirs[i] + '/1D/FITS/','')\n",
    "            one_d_n= np.append(one_d_n,pres_n)\n",
    "       \n",
    "    if len(one_d) >=1:\n",
    "        if field == 's':\n",
    "            two_d =glob('../../../../../Volumes/Vince_homedrive/Extractions/COMBINED/2D/PNG/*S*%s*' % ID)\n",
    "            if len(two_d) >= 1:\n",
    "                two_d_n = []\n",
    "                for i in range(len(two_d)):\n",
    "                    two_d_n.append(two_d[i].replace('../../../../../Volumes/Vince_homedrive/Extractions/COMBINED/2D/PNG/',''))\n",
    "        else:\n",
    "            two_d =glob('../../../../../Volumes/Vince_homedrive/Extractions/COMBINED/2D/PNG/*N*%s*' % ID)\n",
    "            if len(two_d) >= 1:\n",
    "                two_d_n = []\n",
    "                for i in range(len(two_d)):\n",
    "                    two_d_n.append(two_d[i].replace('../../../../../Volumes/Vince_homedrive/Extractions/COMBINED/2D/PNG/',''))\n",
    "                    \n",
    "        if field == 's':\n",
    "            spec =glob('../../../../../Volumes/Vince_homedrive/Extractions/COMBINED/1D/FITS/*S*%s*' % ID)\n",
    "            if len(spec) >= 1:\n",
    "                spec_n = []\n",
    "                for i in range(len(spec)):\n",
    "                    spec_n.append(spec[i].replace('../../../../../Volumes/Vince_homedrive/Extractions/COMBINED/1D/FITS/',''))    \n",
    "        else:\n",
    "            spec =glob('../../../../../Volumes/Vince_homedrive/Extractions/COMBINED/1D/FITS/*N*%s*' % ID)\n",
    "            if len(spec) >= 1:\n",
    "                spec_n = []\n",
    "                for i in range(len(spec)):\n",
    "                    spec_n.append(spec[i].replace('../../../../../Volumes/Vince_homedrive/Extractions/COMBINED/1D/FITS/','')) \n",
    "                    \n",
    "        if not os.path.exists(direct):\n",
    "            os.makedirs(direct)\n",
    "        \n",
    "        if len(two_d) >= 1:\n",
    "            for i in range(len(two_d_n)):\n",
    "                copyfile(two_d[i], direct + '/' + two_d_n[i])\n",
    "                \n",
    "        if len(spec) >= 1:\n",
    "            for i in range(len(spec)):\n",
    "                copyfile(spec[i], direct + '/' + spec_n[i])\n",
    "        \n",
    "        for i in range(len(one_d_n)):\n",
    "            copyfile(one_d[i], direct + '/' + one_d_n[i])\n",
    "        \n",
    "        print 'in data'"
   ]
  },
  {
   "cell_type": "code",
   "execution_count": 71,
   "metadata": {},
   "outputs": [
    {
     "name": "stdout",
     "output_type": "stream",
     "text": [
      "in data\n"
     ]
    }
   ],
   "source": [
    "Get_file_list(obv_dir,'n1184')"
   ]
  },
  {
   "cell_type": "code",
   "execution_count": 72,
   "metadata": {},
   "outputs": [
    {
     "name": "stdout",
     "output_type": "stream",
     "text": [
      "n542\n"
     ]
    },
    {
     "name": "stdout",
     "output_type": "stream",
     "text": [
      "in data\nn1184\nin data\nn2023\nin data\nn2116\n"
     ]
    },
    {
     "name": "stdout",
     "output_type": "stream",
     "text": [
      "n2265\n"
     ]
    },
    {
     "name": "stdout",
     "output_type": "stream",
     "text": [
      "in data\nn2302\nin data\nn2484\n"
     ]
    },
    {
     "name": "stdout",
     "output_type": "stream",
     "text": [
      "in data\nn2684\nin data\nn2882\n"
     ]
    },
    {
     "name": "stdout",
     "output_type": "stream",
     "text": [
      "n2913\nin data\nn2960\n"
     ]
    },
    {
     "name": "stdout",
     "output_type": "stream",
     "text": [
      "in data\nn3125\nin data\nn3133\n"
     ]
    },
    {
     "name": "stdout",
     "output_type": "stream",
     "text": [
      "in data\nn3735\n"
     ]
    },
    {
     "name": "stdout",
     "output_type": "stream",
     "text": [
      "in data\nn3843\nn4108\nn4748\nn4868\n"
     ]
    },
    {
     "name": "stdout",
     "output_type": "stream",
     "text": [
      "n4907\nn6026\nn6453\nn8466\nin data\nn8912\n"
     ]
    },
    {
     "name": "stdout",
     "output_type": "stream",
     "text": [
      "in data\nn8949\nin data\nn9056\nin data\nn9533\nin data\nn9582\nin data\nn9623\n"
     ]
    },
    {
     "name": "stdout",
     "output_type": "stream",
     "text": [
      "in data\nn9692\nn9861\nn10338\nin data\nn10539\nin data\nn11004\nn11626\n"
     ]
    },
    {
     "name": "stdout",
     "output_type": "stream",
     "text": [
      "n11814\nin data\nn12173\nin data\nn12406\nn12739\nin data\nn13041\n"
     ]
    },
    {
     "name": "stdout",
     "output_type": "stream",
     "text": [
      "n13117\nin data\nn13718\nin data\nn14140\nin data\nn14346\n"
     ]
    },
    {
     "name": "stdout",
     "output_type": "stream",
     "text": [
      "in data\nn14713\nin data\nn15359\nn15439\nn15529\nn15616\n"
     ]
    },
    {
     "name": "stdout",
     "output_type": "stream",
     "text": [
      "in data\nn15786\nn16758\n"
     ]
    },
    {
     "name": "stdout",
     "output_type": "stream",
     "text": [
      "in data\nn17070\nin data\nn17436\n"
     ]
    },
    {
     "name": "stdout",
     "output_type": "stream",
     "text": [
      "in data\nn17746\nin data\nn17969\nn18000\nn18241\nn18838\nn19263\nn19442\n"
     ]
    },
    {
     "name": "stdout",
     "output_type": "stream",
     "text": [
      "in data\nn20432\nin data\nn20851\nn21156\n"
     ]
    },
    {
     "name": "stdout",
     "output_type": "stream",
     "text": [
      "in data\nn21427\nin data\nn21724\nin data\nn21810\nn22027\n"
     ]
    },
    {
     "name": "stdout",
     "output_type": "stream",
     "text": [
      "in data\nn22633\nin data\nn23026\nin data\nn23254\n"
     ]
    },
    {
     "name": "stdout",
     "output_type": "stream",
     "text": [
      "in data\nn23435\nin data\nn23498\nn23624\n"
     ]
    },
    {
     "name": "stdout",
     "output_type": "stream",
     "text": [
      "n23857\nin data\nn25662\nn26350\nn26470\nn26796\nn27185\n"
     ]
    },
    {
     "name": "stdout",
     "output_type": "stream",
     "text": [
      "in data\nn27600\nn29714\nn30801\nn30813\nn31022\nn31207\nn32000\n"
     ]
    },
    {
     "name": "stdout",
     "output_type": "stream",
     "text": [
      "n32562\nin data\nn32566\n"
     ]
    },
    {
     "name": "stdout",
     "output_type": "stream",
     "text": [
      "in data\nn32691\nin data\nn32841\nn33093\nin data\nn33263\nn33675\nn34241\n"
     ]
    },
    {
     "name": "stdout",
     "output_type": "stream",
     "text": [
      "n34326\nn34580\nn34630\nn34694\n"
     ]
    },
    {
     "name": "stdout",
     "output_type": "stream",
     "text": [
      "in data\nn35099\nn35208\nn35299\nn35493\nn35835\n"
     ]
    },
    {
     "name": "stdout",
     "output_type": "stream",
     "text": [
      "in data\nn36530\nin data\nn36751\nin data\nn37107\n"
     ]
    },
    {
     "name": "stdout",
     "output_type": "stream",
     "text": [
      "in data\nn37189\nin data\nn37210\nin data\nn37686\n"
     ]
    },
    {
     "name": "stdout",
     "output_type": "stream",
     "text": [
      "in data\nn37765\nin data\nn37896\n"
     ]
    },
    {
     "name": "stdout",
     "output_type": "stream",
     "text": [
      "in data\nn38126\nin data\nn38142\nn38225\n"
     ]
    },
    {
     "name": "stdout",
     "output_type": "stream",
     "text": [
      "in data\ns433\n"
     ]
    },
    {
     "name": "stdout",
     "output_type": "stream",
     "text": [
      "in data\ns1523\ns1924\ns2383\ns2707\ns3075\ns3236\ns3258\n"
     ]
    },
    {
     "name": "stdout",
     "output_type": "stream",
     "text": [
      "in data\ns4125\nin data\ns4210\n"
     ]
    },
    {
     "name": "stdout",
     "output_type": "stream",
     "text": [
      "in data\ns4321\n"
     ]
    },
    {
     "name": "stdout",
     "output_type": "stream",
     "text": [
      "in data\ns4554\nin data\ns4560\n"
     ]
    },
    {
     "name": "stdout",
     "output_type": "stream",
     "text": [
      "in data\ns5030\nin data\ns5063\n"
     ]
    },
    {
     "name": "stdout",
     "output_type": "stream",
     "text": [
      "in data\ns5269\ns5652\nin data\ns6098\ns6106\n"
     ]
    },
    {
     "name": "stdout",
     "output_type": "stream",
     "text": [
      "in data\ns6185\ns6209\ns6632\n"
     ]
    },
    {
     "name": "stdout",
     "output_type": "stream",
     "text": [
      "in data\ns6791\ns7118\ns7238\ns7503\ns9278\n"
     ]
    },
    {
     "name": "stdout",
     "output_type": "stream",
     "text": [
      "in data\ns9500\ns9704\ns10044\ns10436\ns11195\ns11428\ns11937\n"
     ]
    },
    {
     "name": "stdout",
     "output_type": "stream",
     "text": [
      "s12134\ns12385\ns12869\ns13020\ns13023\ns13153\ns13174\n"
     ]
    },
    {
     "name": "stdout",
     "output_type": "stream",
     "text": [
      "s13628\ns13635\ns14118\ns14374\ns14622\ns14813\ns15682\n"
     ]
    },
    {
     "name": "stdout",
     "output_type": "stream",
     "text": [
      "s15744\ns16336\ns16592\ns16603\ns16737\ns16769\ns17023\ns17033\n"
     ]
    },
    {
     "name": "stdout",
     "output_type": "stream",
     "text": [
      "s17259\ns17800\ns18669\ns18766\ns19484\ns23342\ns23421\n"
     ]
    },
    {
     "name": "stdout",
     "output_type": "stream",
     "text": [
      "in data\ns24148\ns24182\ns24645\ns25585\ns25641\n"
     ]
    },
    {
     "name": "stdout",
     "output_type": "stream",
     "text": [
      "in data\ns25997\ns26139\ns26263\ns26272\nin data\ns26915\n"
     ]
    },
    {
     "name": "stdout",
     "output_type": "stream",
     "text": [
      "in data\ns27253\ns28582\ns29257\nin data\ns29407\n"
     ]
    },
    {
     "name": "stdout",
     "output_type": "stream",
     "text": [
      "s29652\ns29900\ns29928\nin data\ns29955\ns30144\ns30150\n"
     ]
    },
    {
     "name": "stdout",
     "output_type": "stream",
     "text": [
      "s30290\ns30394\ns30530\ns30928\ns31613\ns31618\ns31843\n"
     ]
    },
    {
     "name": "stdout",
     "output_type": "stream",
     "text": [
      "s32799\ns32843\ns33163\ns33912\ns33949\ns34134\ns34334\ns34491\n"
     ]
    },
    {
     "name": "stdout",
     "output_type": "stream",
     "text": [
      "s35640\ns35774\nin data\ns36176\n"
     ]
    },
    {
     "name": "stdout",
     "output_type": "stream",
     "text": [
      "in data\ns38111\ns38138\ns38513\nin data\ns38785\n"
     ]
    },
    {
     "name": "stdout",
     "output_type": "stream",
     "text": [
      "in data\ns38843\nin data\ns39012\n"
     ]
    },
    {
     "name": "stdout",
     "output_type": "stream",
     "text": [
      "in data\ns39170\nin data\ns39241\nin data\ns39364\n"
     ]
    },
    {
     "name": "stdout",
     "output_type": "stream",
     "text": [
      "in data\ns39631\nin data\ns39804\n"
     ]
    },
    {
     "name": "stdout",
     "output_type": "stream",
     "text": [
      "in data\ns39805\nin data\ns39825\n"
     ]
    },
    {
     "name": "stdout",
     "output_type": "stream",
     "text": [
      "in data\ns40223\nin data\ns40476\n"
     ]
    },
    {
     "name": "stdout",
     "output_type": "stream",
     "text": [
      "in data\ns40498\ns40597\nin data\ns40623\n"
     ]
    },
    {
     "name": "stdout",
     "output_type": "stream",
     "text": [
      "in data\ns40862\nin data\ns40889\ns41148\n"
     ]
    },
    {
     "name": "stdout",
     "output_type": "stream",
     "text": [
      "in data\ns41520\nin data\ns41659\n"
     ]
    },
    {
     "name": "stdout",
     "output_type": "stream",
     "text": [
      "in data\ns42113\n"
     ]
    },
    {
     "name": "stdout",
     "output_type": "stream",
     "text": [
      "in data\ns42221\nin data\ns42466\ns42548\n"
     ]
    },
    {
     "name": "stdout",
     "output_type": "stream",
     "text": [
      "in data\ns42778\nin data\ns42820\n"
     ]
    },
    {
     "name": "stdout",
     "output_type": "stream",
     "text": [
      "in data\ns42915\nin data\ns43042\ns43597\ns43615\n"
     ]
    },
    {
     "name": "stdout",
     "output_type": "stream",
     "text": [
      "in data\ns43840\ns44042\nin data\ns44139\ns44229\n"
     ]
    },
    {
     "name": "stdout",
     "output_type": "stream",
     "text": [
      "s44620\nin data\ns44715\ns44791\n"
     ]
    },
    {
     "name": "stdout",
     "output_type": "stream",
     "text": [
      "s44824\nin data\ns45362\ns45407\ns45775\n"
     ]
    },
    {
     "name": "stdout",
     "output_type": "stream",
     "text": [
      "in data\ns45972\nin data\ns46066\n"
     ]
    },
    {
     "name": "stdout",
     "output_type": "stream",
     "text": [
      "in data\ns46345\nin data\ns46377\ns46562\n"
     ]
    },
    {
     "name": "stdout",
     "output_type": "stream",
     "text": [
      "s46846\nin data\ns46888\ns47223\n"
     ]
    },
    {
     "name": "stdout",
     "output_type": "stream",
     "text": [
      "in data\ns47276\ns47677\nin data\ns47691\n"
     ]
    },
    {
     "name": "stdout",
     "output_type": "stream",
     "text": [
      "in data\ns47873\ns48631\nin data\ns49708\n"
     ]
    }
   ],
   "source": [
    "for i in range(len(quvjDB.index)):\n",
    "    print quvjDB.index[i]\n",
    "    Get_file_list(obv_dir,quvjDB.index[i])"
   ]
  },
  {
   "cell_type": "code",
   "execution_count": 73,
   "metadata": {},
   "outputs": [],
   "source": [
    ""
   ]
  },
  {
   "cell_type": "code",
   "execution_count": null,
   "metadata": {},
   "outputs": [],
   "source": [
    ""
   ]
  }
 ],
 "metadata": {
  "kernelspec": {
   "display_name": "Python 2",
   "language": "python",
   "name": "python2"
  },
  "language_info": {
   "codemirror_mode": {
    "name": "ipython",
    "version": 2.0
   },
   "file_extension": ".py",
   "mimetype": "text/x-python",
   "name": "python",
   "nbconvert_exporter": "python",
   "pygments_lexer": "ipython2",
   "version": "2.7.6"
  }
 },
 "nbformat": 4,
 "nbformat_minor": 0
}