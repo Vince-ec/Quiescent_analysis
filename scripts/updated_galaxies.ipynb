{
 "cells": [
  {
   "cell_type": "code",
   "execution_count": 5,
   "metadata": {
    "collapsed": true
   },
   "outputs": [],
   "source": [
    "import numpy as np\n",
    "from glob import glob\n",
    "from spec_id import Galaxy_ids\n",
    "import pandas as pd\n",
    "from matplotlib.patches import Rectangle\n",
    "import matplotlib.pyplot as plt\n",
    "import os\n",
    "from shutil import copyfile\n",
    "import seaborn as sea\n",
    "from astropy.table import Table\n",
    "sea.set(style='white')\n",
    "sea.set(style='ticks')\n",
    "sea.set_style({\"xtick.direction\": \"in\",\"ytick.direction\": \"in\"})\n",
    "cmap = sea.cubehelix_palette(12, start=2, rot=.2, dark=0, light=1.1, as_cmap=True)"
   ]
  },
  {
   "cell_type": "code",
   "execution_count": 7,
   "metadata": {},
   "outputs": [],
   "source": [
    "gal_id = Galaxy_ids('../data/masslist_mar22.dat')"
   ]
  },
  {
   "cell_type": "code",
   "execution_count": 8,
   "metadata": {},
   "outputs": [
    {
     "data": {
      "text/plain": [
       "array(['n14713', 'n16758', 'n21156', 'n21427', 'n23435', 'n32566',\n       'n34694', 'n37686', 's35774', 's38785', 's39012', 's39170',\n       's39241', 's39631', 's39804', 's39805', 's40597', 's40862',\n       's41520', 's42221', 's44620', 's45972', 's46066', 's47677', 's48631'], \n      dtype='|S34')"
      ]
     },
     "execution_count": 8,
     "metadata": {},
     "output_type": "execute_result"
    }
   ],
   "source": [
    "gal_id.ids"
   ]
  },
  {
   "cell_type": "code",
   "execution_count": 13,
   "metadata": {},
   "outputs": [],
   "source": [
    "def Remove_ns(gid):\n",
    "    x = [int(U[1:]) for U in gid]\n",
    "    return np.array(x)\n",
    "\n",
    "def Get_rshift(table, ID):\n",
    "    z = table['z_m1'][ID-1]\n",
    "    return z\n",
    "\n",
    "def Mag(band):\n",
    "    magnitude=25-2.5*np.log10(band)\n",
    "    return magnitude"
   ]
  },
  {
   "cell_type": "code",
   "execution_count": 3,
   "metadata": {},
   "outputs": [],
   "source": [
    "uvjDB = pd.read_pickle('../data/uvj_db.pkl')\n",
    "quvjDB = uvjDB[uvjDB['Q/S'].map(lambda x:x.startswith('q'))]\n",
    "ids = Remove_ns(quvjDB.index)\n",
    "smask = np.array([U.startswith('s') for U in quvjDB.index])\n",
    "nmask = np.array([U.startswith('n') for U in quvjDB.index])\n",
    "\n",
    "goodss = '../../../catalogs_for_CLEAR/goodss_3dhst.v4.1.cats/Eazy/goodss_3dhst.v4.1.zout'\n",
    "scat = Table.read(goodss,format='ascii')\n",
    "\n",
    "goodsn = '../../../catalogs_for_CLEAR/goodsn_3dhst.v4.1.cats/Eazy/goodsn_3dhst.v4.1.zout'\n",
    "ncat = Table.read(goodsn,format='ascii')\n",
    "\n",
    "s_z = np.array([Get_rshift(scat,U) for U in ids[smask]])\n",
    "n_z = np.array([Get_rshift(ncat,U) for U in ids[nmask]])\n",
    "z_tot = np.append(n_z,s_z)"
   ]
  },
  {
   "cell_type": "code",
   "execution_count": 6,
   "metadata": {},
   "outputs": [],
   "source": [
    "qgalDB = pd.DataFrame({'gids' : quvjDB.index,'ids' : ids, 'redshift':z_tot})\n",
    "# pd.to_pickle(qgalDB,'../data/quiescent_gal_DB.pkl')"
   ]
  },
  {
   "cell_type": "code",
   "execution_count": 2,
   "metadata": {},
   "outputs": [],
   "source": [
    "qgalDB = pd.read_pickle('../data/quiescent_gal_DB.pkl')"
   ]
  },
  {
   "cell_type": "code",
   "execution_count": 7,
   "metadata": {},
   "outputs": [],
   "source": [
    "hd_path = '../../../../../Volumes/Vince_homedrive/Extractions/'\n",
    "\n",
    "obv_dir =glob(hd_path + '*-*')"
   ]
  },
  {
   "cell_type": "code",
   "execution_count": 70,
   "metadata": {},
   "outputs": [],
   "source": [
    "def Get_file_list(dirs,gid):\n",
    "    field = gid[0]\n",
    "    ID = int(gid[1:])\n",
    "    direct = '../../../../../Volumes/Vince_homedrive/Extractions/Quiescent_galaxies/%s' % gid\n",
    "       \n",
    "    one_d =np.array([])\n",
    "    one_d_n =np.array([])\n",
    "    for i in range(len(dirs)):\n",
    "        if field == 's':\n",
    "            pres = glob(dirs[i] + '/1D/FITS/' + '*S*%s*' % ID)\n",
    "        else:\n",
    "            pres = glob(dirs[i] + '/1D/FITS/' + '*N*%s*' % ID)\n",
    "\n",
    "        if len(pres) >=1:\n",
    "            one_d= np.append(one_d,pres)\n",
    "            pres_n = pres[0].replace(dirs[i] + '/1D/FITS/','')\n",
    "            one_d_n= np.append(one_d_n,pres_n)\n",
    "       \n",
    "    if len(one_d) >=1:\n",
    "        if field == 's':\n",
    "            two_d =glob('../../../../../Volumes/Vince_homedrive/Extractions/COMBINED/2D/PNG/*S*%s*' % ID)\n",
    "            if len(two_d) >= 1:\n",
    "                two_d_n = []\n",
    "                for i in range(len(two_d)):\n",
    "                    two_d_n.append(two_d[i].replace('../../../../../Volumes/Vince_homedrive/Extractions/COMBINED/2D/PNG/',''))\n",
    "        else:\n",
    "            two_d =glob('../../../../../Volumes/Vince_homedrive/Extractions/COMBINED/2D/PNG/*N*%s*' % ID)\n",
    "            if len(two_d) >= 1:\n",
    "                two_d_n = []\n",
    "                for i in range(len(two_d)):\n",
    "                    two_d_n.append(two_d[i].replace('../../../../../Volumes/Vince_homedrive/Extractions/COMBINED/2D/PNG/',''))\n",
    "                    \n",
    "        if field == 's':\n",
    "            spec =glob('../../../../../Volumes/Vince_homedrive/Extractions/COMBINED/1D/FITS/*S*%s*' % ID)\n",
    "            if len(spec) >= 1:\n",
    "                spec_n = []\n",
    "                for i in range(len(spec)):\n",
    "                    spec_n.append(spec[i].replace('../../../../../Volumes/Vince_homedrive/Extractions/COMBINED/1D/FITS/',''))    \n",
    "        else:\n",
    "            spec =glob('../../../../../Volumes/Vince_homedrive/Extractions/COMBINED/1D/FITS/*N*%s*' % ID)\n",
    "            if len(spec) >= 1:\n",
    "                spec_n = []\n",
    "                for i in range(len(spec)):\n",
    "                    spec_n.append(spec[i].replace('../../../../../Volumes/Vince_homedrive/Extractions/COMBINED/1D/FITS/','')) \n",
    "                    \n",
    "        if not os.path.exists(direct):\n",
    "            os.makedirs(direct)\n",
    "        \n",
    "        if len(two_d) >= 1:\n",
    "            for i in range(len(two_d_n)):\n",
    "                copyfile(two_d[i], direct + '/' + two_d_n[i])\n",
    "                \n",
    "        if len(spec) >= 1:\n",
    "            for i in range(len(spec)):\n",
    "                copyfile(spec[i], direct + '/' + spec_n[i])\n",
    "        \n",
    "        for i in range(len(one_d_n)):\n",
    "            copyfile(one_d[i], direct + '/' + one_d_n[i])\n",
    "        \n",
    "        print 'in data'"
   ]
  },
  {
   "cell_type": "code",
   "execution_count": 71,
   "metadata": {
    "collapsed": true
   },
   "outputs": [
    {
     "name": "stdout",
     "output_type": "stream",
     "text": [
      "in data\n"
     ]
    }
   ],
   "source": [
    "Get_file_list(obv_dir,'n1184')"
   ]
  },
  {
   "cell_type": "code",
   "execution_count": 72,
   "metadata": {
    "collapsed": true
   },
   "outputs": [
    {
     "name": "stdout",
     "output_type": "stream",
     "text": [
      "n542\n"
     ]
    },
    {
     "name": "stdout",
     "output_type": "stream",
     "text": [
      "in data\nn1184\nin data\nn2023\nin data\nn2116\n"
     ]
    },
    {
     "name": "stdout",
     "output_type": "stream",
     "text": [
      "n2265\n"
     ]
    },
    {
     "name": "stdout",
     "output_type": "stream",
     "text": [
      "in data\nn2302\nin data\nn2484\n"
     ]
    },
    {
     "name": "stdout",
     "output_type": "stream",
     "text": [
      "in data\nn2684\nin data\nn2882\n"
     ]
    },
    {
     "name": "stdout",
     "output_type": "stream",
     "text": [
      "n2913\nin data\nn2960\n"
     ]
    },
    {
     "name": "stdout",
     "output_type": "stream",
     "text": [
      "in data\nn3125\nin data\nn3133\n"
     ]
    },
    {
     "name": "stdout",
     "output_type": "stream",
     "text": [
      "in data\nn3735\n"
     ]
    },
    {
     "name": "stdout",
     "output_type": "stream",
     "text": [
      "in data\nn3843\nn4108\nn4748\nn4868\n"
     ]
    },
    {
     "name": "stdout",
     "output_type": "stream",
     "text": [
      "n4907\nn6026\nn6453\nn8466\nin data\nn8912\n"
     ]
    },
    {
     "name": "stdout",
     "output_type": "stream",
     "text": [
      "in data\nn8949\nin data\nn9056\nin data\nn9533\nin data\nn9582\nin data\nn9623\n"
     ]
    },
    {
     "name": "stdout",
     "output_type": "stream",
     "text": [
      "in data\nn9692\nn9861\nn10338\nin data\nn10539\nin data\nn11004\nn11626\n"
     ]
    },
    {
     "name": "stdout",
     "output_type": "stream",
     "text": [
      "n11814\nin data\nn12173\nin data\nn12406\nn12739\nin data\nn13041\n"
     ]
    },
    {
     "name": "stdout",
     "output_type": "stream",
     "text": [
      "n13117\nin data\nn13718\nin data\nn14140\nin data\nn14346\n"
     ]
    },
    {
     "name": "stdout",
     "output_type": "stream",
     "text": [
      "in data\nn14713\nin data\nn15359\nn15439\nn15529\nn15616\n"
     ]
    },
    {
     "name": "stdout",
     "output_type": "stream",
     "text": [
      "in data\nn15786\nn16758\n"
     ]
    },
    {
     "name": "stdout",
     "output_type": "stream",
     "text": [
      "in data\nn17070\nin data\nn17436\n"
     ]
    },
    {
     "name": "stdout",
     "output_type": "stream",
     "text": [
      "in data\nn17746\nin data\nn17969\nn18000\nn18241\nn18838\nn19263\nn19442\n"
     ]
    },
    {
     "name": "stdout",
     "output_type": "stream",
     "text": [
      "in data\nn20432\nin data\nn20851\nn21156\n"
     ]
    },
    {
     "name": "stdout",
     "output_type": "stream",
     "text": [
      "in data\nn21427\nin data\nn21724\nin data\nn21810\nn22027\n"
     ]
    },
    {
     "name": "stdout",
     "output_type": "stream",
     "text": [
      "in data\nn22633\nin data\nn23026\nin data\nn23254\n"
     ]
    },
    {
     "name": "stdout",
     "output_type": "stream",
     "text": [
      "in data\nn23435\nin data\nn23498\nn23624\n"
     ]
    },
    {
     "name": "stdout",
     "output_type": "stream",
     "text": [
      "n23857\nin data\nn25662\nn26350\nn26470\nn26796\nn27185\n"
     ]
    },
    {
     "name": "stdout",
     "output_type": "stream",
     "text": [
      "in data\nn27600\nn29714\nn30801\nn30813\nn31022\nn31207\nn32000\n"
     ]
    },
    {
     "name": "stdout",
     "output_type": "stream",
     "text": [
      "n32562\nin data\nn32566\n"
     ]
    },
    {
     "name": "stdout",
     "output_type": "stream",
     "text": [
      "in data\nn32691\nin data\nn32841\nn33093\nin data\nn33263\nn33675\nn34241\n"
     ]
    },
    {
     "name": "stdout",
     "output_type": "stream",
     "text": [
      "n34326\nn34580\nn34630\nn34694\n"
     ]
    },
    {
     "name": "stdout",
     "output_type": "stream",
     "text": [
      "in data\nn35099\nn35208\nn35299\nn35493\nn35835\n"
     ]
    },
    {
     "name": "stdout",
     "output_type": "stream",
     "text": [
      "in data\nn36530\nin data\nn36751\nin data\nn37107\n"
     ]
    },
    {
     "name": "stdout",
     "output_type": "stream",
     "text": [
      "in data\nn37189\nin data\nn37210\nin data\nn37686\n"
     ]
    },
    {
     "name": "stdout",
     "output_type": "stream",
     "text": [
      "in data\nn37765\nin data\nn37896\n"
     ]
    },
    {
     "name": "stdout",
     "output_type": "stream",
     "text": [
      "in data\nn38126\nin data\nn38142\nn38225\n"
     ]
    },
    {
     "name": "stdout",
     "output_type": "stream",
     "text": [
      "in data\ns433\n"
     ]
    },
    {
     "name": "stdout",
     "output_type": "stream",
     "text": [
      "in data\ns1523\ns1924\ns2383\ns2707\ns3075\ns3236\ns3258\n"
     ]
    },
    {
     "name": "stdout",
     "output_type": "stream",
     "text": [
      "in data\ns4125\nin data\ns4210\n"
     ]
    },
    {
     "name": "stdout",
     "output_type": "stream",
     "text": [
      "in data\ns4321\n"
     ]
    },
    {
     "name": "stdout",
     "output_type": "stream",
     "text": [
      "in data\ns4554\nin data\ns4560\n"
     ]
    },
    {
     "name": "stdout",
     "output_type": "stream",
     "text": [
      "in data\ns5030\nin data\ns5063\n"
     ]
    },
    {
     "name": "stdout",
     "output_type": "stream",
     "text": [
      "in data\ns5269\ns5652\nin data\ns6098\ns6106\n"
     ]
    },
    {
     "name": "stdout",
     "output_type": "stream",
     "text": [
      "in data\ns6185\ns6209\ns6632\n"
     ]
    },
    {
     "name": "stdout",
     "output_type": "stream",
     "text": [
      "in data\ns6791\ns7118\ns7238\ns7503\ns9278\n"
     ]
    },
    {
     "name": "stdout",
     "output_type": "stream",
     "text": [
      "in data\ns9500\ns9704\ns10044\ns10436\ns11195\ns11428\ns11937\n"
     ]
    },
    {
     "name": "stdout",
     "output_type": "stream",
     "text": [
      "s12134\ns12385\ns12869\ns13020\ns13023\ns13153\ns13174\n"
     ]
    },
    {
     "name": "stdout",
     "output_type": "stream",
     "text": [
      "s13628\ns13635\ns14118\ns14374\ns14622\ns14813\ns15682\n"
     ]
    },
    {
     "name": "stdout",
     "output_type": "stream",
     "text": [
      "s15744\ns16336\ns16592\ns16603\ns16737\ns16769\ns17023\ns17033\n"
     ]
    },
    {
     "name": "stdout",
     "output_type": "stream",
     "text": [
      "s17259\ns17800\ns18669\ns18766\ns19484\ns23342\ns23421\n"
     ]
    },
    {
     "name": "stdout",
     "output_type": "stream",
     "text": [
      "in data\ns24148\ns24182\ns24645\ns25585\ns25641\n"
     ]
    },
    {
     "name": "stdout",
     "output_type": "stream",
     "text": [
      "in data\ns25997\ns26139\ns26263\ns26272\nin data\ns26915\n"
     ]
    },
    {
     "name": "stdout",
     "output_type": "stream",
     "text": [
      "in data\ns27253\ns28582\ns29257\nin data\ns29407\n"
     ]
    },
    {
     "name": "stdout",
     "output_type": "stream",
     "text": [
      "s29652\ns29900\ns29928\nin data\ns29955\ns30144\ns30150\n"
     ]
    },
    {
     "name": "stdout",
     "output_type": "stream",
     "text": [
      "s30290\ns30394\ns30530\ns30928\ns31613\ns31618\ns31843\n"
     ]
    },
    {
     "name": "stdout",
     "output_type": "stream",
     "text": [
      "s32799\ns32843\ns33163\ns33912\ns33949\ns34134\ns34334\ns34491\n"
     ]
    },
    {
     "name": "stdout",
     "output_type": "stream",
     "text": [
      "s35640\ns35774\nin data\ns36176\n"
     ]
    },
    {
     "name": "stdout",
     "output_type": "stream",
     "text": [
      "in data\ns38111\ns38138\ns38513\nin data\ns38785\n"
     ]
    },
    {
     "name": "stdout",
     "output_type": "stream",
     "text": [
      "in data\ns38843\nin data\ns39012\n"
     ]
    },
    {
     "name": "stdout",
     "output_type": "stream",
     "text": [
      "in data\ns39170\nin data\ns39241\nin data\ns39364\n"
     ]
    },
    {
     "name": "stdout",
     "output_type": "stream",
     "text": [
      "in data\ns39631\nin data\ns39804\n"
     ]
    },
    {
     "name": "stdout",
     "output_type": "stream",
     "text": [
      "in data\ns39805\nin data\ns39825\n"
     ]
    },
    {
     "name": "stdout",
     "output_type": "stream",
     "text": [
      "in data\ns40223\nin data\ns40476\n"
     ]
    },
    {
     "name": "stdout",
     "output_type": "stream",
     "text": [
      "in data\ns40498\ns40597\nin data\ns40623\n"
     ]
    },
    {
     "name": "stdout",
     "output_type": "stream",
     "text": [
      "in data\ns40862\nin data\ns40889\ns41148\n"
     ]
    },
    {
     "name": "stdout",
     "output_type": "stream",
     "text": [
      "in data\ns41520\nin data\ns41659\n"
     ]
    },
    {
     "name": "stdout",
     "output_type": "stream",
     "text": [
      "in data\ns42113\n"
     ]
    },
    {
     "name": "stdout",
     "output_type": "stream",
     "text": [
      "in data\ns42221\nin data\ns42466\ns42548\n"
     ]
    },
    {
     "name": "stdout",
     "output_type": "stream",
     "text": [
      "in data\ns42778\nin data\ns42820\n"
     ]
    },
    {
     "name": "stdout",
     "output_type": "stream",
     "text": [
      "in data\ns42915\nin data\ns43042\ns43597\ns43615\n"
     ]
    },
    {
     "name": "stdout",
     "output_type": "stream",
     "text": [
      "in data\ns43840\ns44042\nin data\ns44139\ns44229\n"
     ]
    },
    {
     "name": "stdout",
     "output_type": "stream",
     "text": [
      "s44620\nin data\ns44715\ns44791\n"
     ]
    },
    {
     "name": "stdout",
     "output_type": "stream",
     "text": [
      "s44824\nin data\ns45362\ns45407\ns45775\n"
     ]
    },
    {
     "name": "stdout",
     "output_type": "stream",
     "text": [
      "in data\ns45972\nin data\ns46066\n"
     ]
    },
    {
     "name": "stdout",
     "output_type": "stream",
     "text": [
      "in data\ns46345\nin data\ns46377\ns46562\n"
     ]
    },
    {
     "name": "stdout",
     "output_type": "stream",
     "text": [
      "s46846\nin data\ns46888\ns47223\n"
     ]
    },
    {
     "name": "stdout",
     "output_type": "stream",
     "text": [
      "in data\ns47276\ns47677\nin data\ns47691\n"
     ]
    },
    {
     "name": "stdout",
     "output_type": "stream",
     "text": [
      "in data\ns47873\ns48631\nin data\ns49708\n"
     ]
    }
   ],
   "source": [
    "for i in range(len(quvjDB.index)):\n",
    "    print quvjDB.index[i]\n",
    "    Get_file_list(obv_dir,quvjDB.index[i])"
   ]
  },
  {
   "cell_type": "code",
   "execution_count": 11,
   "metadata": {},
   "outputs": [],
   "source": [
    "\"\"\"Get F105W mags\"\"\"\n",
    "Hn = Table.read('../../../Dropbox/Quiescent_galaxies/Catalog_update/goodsn_3dhst.v4.3.cat',format='ascii')['f_F105W']\n",
    "Hs = Table.read('../../../Dropbox/Quiescent_galaxies/Catalog_update/goodss_3dhst.v4.3.cat',format='ascii')['f_F105W']"
   ]
  },
  {
   "cell_type": "code",
   "execution_count": 35,
   "metadata": {},
   "outputs": [],
   "source": [
    "\"\"\"Get ra dec\"\"\"\n",
    "ran = Table.read('../../../Dropbox/Quiescent_galaxies/Catalog_update/goodsn_3dhst.v4.3.cat',format='ascii')['ra']\n",
    "ras = Table.read('../../../Dropbox/Quiescent_galaxies/Catalog_update/goodss_3dhst.v4.3.cat',format='ascii')['ra']\n",
    "decn = Table.read('../../../Dropbox/Quiescent_galaxies/Catalog_update/goodsn_3dhst.v4.3.cat',format='ascii')['dec']\n",
    "decs = Table.read('../../../Dropbox/Quiescent_galaxies/Catalog_update/goodss_3dhst.v4.3.cat',format='ascii')['dec']"
   ]
  },
  {
   "cell_type": "code",
   "execution_count": 36,
   "metadata": {},
   "outputs": [],
   "source": [
    "def Get_Hband_mag(gid,slist,nlist):\n",
    "    field = gid[0]\n",
    "    ID = int(gid[1:])\n",
    "    \n",
    "    if field == 's':\n",
    "        H = Mag(slist[ID-1])\n",
    "\n",
    "    if field == 'n':\n",
    "        H = Mag(nlist[ID-1])\n",
    "\n",
    "    return H\n",
    "\n",
    "def Get_ra_dec(gid, sra, sdec, nra, ndec):\n",
    "    field = gid[0]\n",
    "    ID = int(gid[1:])\n",
    "    \n",
    "    if field == 's':\n",
    "        ra = sra[ID-1]\n",
    "        dec = sdec[ID-1]\n",
    "\n",
    "    if field == 'n':\n",
    "        ra = nra[ID-1]\n",
    "        dec = ndec[ID-1]\n",
    "        \n",
    "    return ra,dec"
   ]
  },
  {
   "cell_type": "code",
   "execution_count": 15,
   "metadata": {},
   "outputs": [
    {
     "data": {
      "text/plain": [
       "nan"
      ]
     },
     "execution_count": 15,
     "metadata": {},
     "output_type": "execute_result"
    }
   ],
   "source": [
    "Get_Hband_mag('s1',Hs,Hn)"
   ]
  },
  {
   "cell_type": "code",
   "execution_count": 39,
   "metadata": {
    "collapsed": true
   },
   "outputs": [
    {
     "name": "stdout",
     "output_type": "stream",
     "text": [
      "n542\nn1184\nn2023\nn2116\nn2265\nn2302\nn2484\nn2684\nn2882\nn2913\nn2960\nn3125\nn3133\nn3735\nn3843\nn4108\nn4748\nn4868\nn4907\nn6026\nn6453\nn8466\nn8912\nn8949\nn9056\nn9533\nn9582\nn9623\nn9692\nn9861\nn10338\nn10539\nn11004\nn11626\nn11814\nn12173\nn12406\nn12739\nn13041\nn13117\nn13718\nn14140\nn14346\nn14713\nn15359\nn15439\nn15529\nn15616\nn15786\nn16758\nn17070\nn17436\nn17746\nn17969\nn18000\nn18241\nn18838\nn19263\nn19442\nn20432\nn20851\nn21156\nn21427\nn21724\nn21810\nn22027\nn22633\nn23026\nn23254\nn23435\nn23498\nn23624\nn23857\nn25662\nn26350\nn26470\nn26796\nn27185\nn27600\nn29714\nn30801\nn30813\nn31022\nn31207\nn32000\nn32562\nn32566\nn32691\nn32841\nn33093\nn33263\nn33675\nn34241\nn34326\nn34580\nn34630\nn34694\nn35099\nn35208\nn35299\nn35493\nn35835\nn36530\nn36751\nn37107\nn37189\nn37210\nn37686\nn37765\nn37896\nn38126\nn38142\nn38225\ns433\ns1523\ns1924\ns2383\ns2707\ns3075\ns3236\ns3258\ns4125\ns4210\ns4321\ns4554\ns4560\ns5030\ns5063\ns5269\ns5652\ns6098\ns6106\ns6185\ns6209\ns6632\ns6791\ns7118\ns7238\ns7503\ns9278\ns9500\ns9704\ns10044\ns10436\ns11195\ns11428\ns11937\ns12134\ns12385\ns12869\ns13020\ns13023\ns13153\ns13174\ns13628\ns13635\ns14118\ns14374\ns14622\ns14813\ns15682\ns15744\ns16336\ns16592\ns16603\ns16737\ns16769\ns17023\ns17033\ns17259\ns17800\ns18669\ns18766\ns19484\ns23342\ns23421\ns24148\ns24182\ns24645\ns25585\ns25641\ns25997\ns26139\ns26263\ns26272\ns26915\ns27253\ns28582\ns29257\ns29407\ns29652\ns29900\ns29928\ns29955\ns30144\ns30150\ns30290\ns30394\ns30530\ns30928\ns31613\ns31618\ns31843\ns32799\ns32843\ns33163\ns33912\ns33949\ns34134\ns34334\ns34491\ns35640\ns35774\ns36176\ns38111\ns38138\ns38513\ns38785\ns38843\ns39012\ns39170\ns39241\ns39364\ns39631\ns39804\ns39805\ns39825\ns40223\ns40476\ns40498\ns40597\ns40623\ns40862\ns40889\ns41148\ns41520\ns41659\ns42113\ns42221\ns42466\ns42548\ns42778\ns42820\ns42915\ns43042\ns43597\ns43615\ns43840\ns44042\ns44139\ns44229\ns44620\ns44715\ns44791\ns44824\ns45362\ns45407\ns45775\ns45972\ns46066\ns46345\ns46377\ns46562\ns46846\ns46888\ns47223\ns47276\ns47677\ns47691\ns47873\ns48631\ns49708\n"
     ]
    }
   ],
   "source": [
    "hmag = np.zeros(len(qgalDB['gids']))\n",
    "ra = np.zeros(len(qgalDB['gids']))\n",
    "dec = np.zeros(len(qgalDB['gids']))\n",
    "\n",
    "for i in range(len(qgalDB['gids'])):\n",
    "        print qgalDB['gids'][i]\n",
    "        hmag[i] = Get_Hband_mag(qgalDB['gids'][i],Hs,Hn)\n",
    "        ra[i],dec[i] = Get_ra_dec(qgalDB['gids'][i],ras,decs,ran,decn)"
   ]
  },
  {
   "cell_type": "code",
   "execution_count": 40,
   "metadata": {},
   "outputs": [],
   "source": [
    "qgalDB['hmag']=hmag\n",
    "qgalDB['ra']=ra\n",
    "qgalDB['dec']=dec"
   ]
  },
  {
   "cell_type": "code",
   "execution_count": 49,
   "metadata": {},
   "outputs": [],
   "source": [
    "gal_dir = glob('../../../../../Volumes/Vince_homedrive/Extractions/Quiescent_galaxies/*')"
   ]
  },
  {
   "cell_type": "code",
   "execution_count": 51,
   "metadata": {},
   "outputs": [],
   "source": [
    "gal_dir = [gal_dir[i].replace('../../../../../Volumes/Vince_homedrive/Extractions/Quiescent_galaxies/','') for i in range(len(gal_dir))]"
   ]
  },
  {
   "cell_type": "code",
   "execution_count": 53,
   "metadata": {},
   "outputs": [],
   "source": [
    "present_flag = np.repeat(False,len(qgalDB['gids']))"
   ]
  },
  {
   "cell_type": "code",
   "execution_count": 54,
   "metadata": {},
   "outputs": [],
   "source": [
    "for i in range(len(qgalDB['gids'])):\n",
    "    if qgalDB['gids'][i] in gal_dir:\n",
    "        present_flag[i] = True"
   ]
  },
  {
   "cell_type": "code",
   "execution_count": 56,
   "metadata": {},
   "outputs": [],
   "source": [
    "qgalDB['in_data'] =present_flag"
   ]
  },
  {
   "cell_type": "code",
   "execution_count": 18,
   "metadata": {},
   "outputs": [],
   "source": [
    "all_g_gals = list(qgalDB[qgalDB['in_data'] == True][qgalDB['agn'] == False]['gids'])"
   ]
  },
  {
   "cell_type": "code",
   "execution_count": 20,
   "metadata": {},
   "outputs": [],
   "source": [
    "for i in range(len(gal_id.ids)):\n",
    "    if gal_id.ids[i] not in all_g_gals:\n",
    "        print gal_id.ids[i]"
   ]
  },
  {
   "cell_type": "code",
   "execution_count": null,
   "metadata": {},
   "outputs": [],
   "source": [
    ""
   ]
  }
 ],
 "metadata": {
  "kernelspec": {
   "display_name": "Python 2",
   "language": "python",
   "name": "python2"
  },
  "language_info": {
   "codemirror_mode": {
    "name": "ipython",
    "version": 2.0
   },
   "file_extension": ".py",
   "mimetype": "text/x-python",
   "name": "python",
   "nbconvert_exporter": "python",
   "pygments_lexer": "ipython2",
   "version": "2.7.6"
  }
 },
 "nbformat": 4,
 "nbformat_minor": 0
}