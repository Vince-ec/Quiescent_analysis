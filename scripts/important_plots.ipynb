{
 "cells": [
  {
   "cell_type": "code",
   "execution_count": 1,
   "metadata": {
    "collapsed": true
   },
   "outputs": [],
   "source": [
    "from vtl.Readfile import Readfile\n",
    "from spec_id import Analyze_Stack_avgage, Error,Oldest_galaxy, Gen_spec, Stack,Median_model, \\\n",
    "    Median_w_Error,Median_w_Error_cont,Likelihood_contours,Gen_sim, Leave_one_out\n",
    "from astropy.table import Table\n",
    "from astropy.io import fits\n",
    "import astropy.units as u\n",
    "from astropy.cosmology import Planck13, z_at_value\n",
    "from scipy.interpolate import interp1d\n",
    "from scipy.ndimage import interpolation\n",
    "import matplotlib.pyplot as plt\n",
    "from matplotlib import gridspec\n",
    "from matplotlib.patches import Rectangle\n",
    "import matplotlib.colors as mcolors\n",
    "from matplotlib.ticker import AutoMinorLocator\n",
    "from mpl_toolkits.axes_grid.inset_locator import inset_axes\n",
    "import rpy2\n",
    "import rpy2.robjects as robjects\n",
    "R = robjects.r\n",
    "from glob import glob\n",
    "import seaborn as sea\n",
    "import numpy as np\n",
    "import pandas as pd\n",
    "sea.set(style='white')\n",
    "sea.set(style='ticks')\n",
    "sea.set_style({'xtick.direct'\n",
    "               'ion': 'in','xtick.top':True,'xtick.minor.visible': True,\n",
    "               'ytick.direction': \"in\",'ytick.right': True,'ytick.minor.visible': True})\n",
    "colors = [(0,i,i,i) for i in np.linspace(0,1,3)]\n",
    "cmap = sea.cubehelix_palette(12, start=2, rot=.2, dark=0, light=1.2, as_cmap=True)"
   ]
  },
  {
   "cell_type": "code",
   "execution_count": 2,
   "metadata": {},
   "outputs": [],
   "source": [
    "galDB = pd.read_pickle('../data/sgal_param_DB.pkl')\n",
    "metal=np.arange(0.002,0.031,0.001)\n",
    "age=np.arange(.5,6.1,.1)\n",
    "tau=[0,8.0, 8.3, 8.48, 8.6, 8.7, 8.78, 8.85, 8.9, 8.95, 9.0, 9.04, 9.08, 9.11, 9.15, 9.18, 9.2, 9.23, 9.26, 9.28,\n",
    "     9.3, 9.32, 9.34, 9.36, 9.38, 9.4, 9.41, 9.43, 9.45, 9.46, 9.48]\n",
    "M,A=np.meshgrid(metal,age)"
   ]
  },
  {
   "cell_type": "code",
   "execution_count": 4,
   "metadata": {
    "collapsed": false
   },
   "outputs": [
    {
     "data": {
      "text/html": [
       "<div>\n",
       "<style>\n",
       "    .dataframe thead tr:only-child th {\n",
       "        text-align: right;\n",
       "    }\n",
       "\n",
       "    .dataframe thead th {\n",
       "        text-align: left;\n",
       "    }\n",
       "\n",
       "    .dataframe tbody tr th {\n",
       "        vertical-align: top;\n",
       "    }\n",
       "</style>\n",
       "<table border=\"1\" class=\"dataframe\">\n",
       "  <thead>\n",
       "    <tr style=\"text-align: right;\">\n",
       "      <th></th>\n",
       "      <th>gids</th>\n",
       "      <th>ids</th>\n",
       "      <th>ra</th>\n",
       "      <th>dec</th>\n",
       "      <th>hi_res_specz</th>\n",
       "      <th>lmass</th>\n",
       "      <th>tau</th>\n",
       "      <th>Z_f</th>\n",
       "      <th>Z_-_sig_f</th>\n",
       "      <th>Z_+_sig_f</th>\n",
       "      <th>...</th>\n",
       "      <th>tx_+_sig_lwa</th>\n",
       "      <th>Zx_lwa</th>\n",
       "      <th>Zx_-_sig_lwa</th>\n",
       "      <th>Zx_+_sig_lwa</th>\n",
       "      <th>Z_lwa</th>\n",
       "      <th>Z_-_sig_lwa</th>\n",
       "      <th>Z_+_sig_lwa</th>\n",
       "      <th>t_lwa</th>\n",
       "      <th>t_-_sig_lwa</th>\n",
       "      <th>t_+_sig_lwa</th>\n",
       "    </tr>\n",
       "  </thead>\n",
       "  <tbody>\n",
       "    <tr>\n",
       "      <th>43</th>\n",
       "      <td>n14713</td>\n",
       "      <td>14713</td>\n",
       "      <td>189.236333</td>\n",
       "      <td>62.214608</td>\n",
       "      <td>1.232</td>\n",
       "      <td>10.56</td>\n",
       "      <td>8.78</td>\n",
       "      <td>0.018</td>\n",
       "      <td>0.011</td>\n",
       "      <td>0.008</td>\n",
       "      <td>...</td>\n",
       "      <td>0.584168</td>\n",
       "      <td>0.015860</td>\n",
       "      <td>0.010100</td>\n",
       "      <td>0.009483</td>\n",
       "      <td>0.016</td>\n",
       "      <td>0.010</td>\n",
       "      <td>0.009</td>\n",
       "      <td>2.2</td>\n",
       "      <td>0.686</td>\n",
       "      <td>0.504</td>\n",
       "    </tr>\n",
       "    <tr>\n",
       "      <th>49</th>\n",
       "      <td>n16758</td>\n",
       "      <td>16758</td>\n",
       "      <td>189.162357</td>\n",
       "      <td>62.224840</td>\n",
       "      <td>1.014</td>\n",
       "      <td>10.83</td>\n",
       "      <td>0.00</td>\n",
       "      <td>0.020</td>\n",
       "      <td>0.001</td>\n",
       "      <td>0.002</td>\n",
       "      <td>...</td>\n",
       "      <td>0.242485</td>\n",
       "      <td>0.020068</td>\n",
       "      <td>0.001347</td>\n",
       "      <td>0.002918</td>\n",
       "      <td>0.021</td>\n",
       "      <td>0.002</td>\n",
       "      <td>0.002</td>\n",
       "      <td>4.9</td>\n",
       "      <td>0.509</td>\n",
       "      <td>0.207</td>\n",
       "    </tr>\n",
       "    <tr>\n",
       "      <th>50</th>\n",
       "      <td>n17070</td>\n",
       "      <td>17070</td>\n",
       "      <td>189.268086</td>\n",
       "      <td>62.226445</td>\n",
       "      <td>1.192</td>\n",
       "      <td>10.92</td>\n",
       "      <td>8.48</td>\n",
       "      <td>0.011</td>\n",
       "      <td>0.003</td>\n",
       "      <td>0.004</td>\n",
       "      <td>...</td>\n",
       "      <td>0.617234</td>\n",
       "      <td>0.010305</td>\n",
       "      <td>0.002581</td>\n",
       "      <td>0.004489</td>\n",
       "      <td>0.011</td>\n",
       "      <td>0.003</td>\n",
       "      <td>0.004</td>\n",
       "      <td>2.0</td>\n",
       "      <td>0.508</td>\n",
       "      <td>0.583</td>\n",
       "    </tr>\n",
       "    <tr>\n",
       "      <th>58</th>\n",
       "      <td>n19442</td>\n",
       "      <td>19442</td>\n",
       "      <td>189.123036</td>\n",
       "      <td>62.237460</td>\n",
       "      <td>1.101</td>\n",
       "      <td>10.10</td>\n",
       "      <td>8.90</td>\n",
       "      <td>0.015</td>\n",
       "      <td>0.009</td>\n",
       "      <td>0.010</td>\n",
       "      <td>...</td>\n",
       "      <td>1.069138</td>\n",
       "      <td>0.013952</td>\n",
       "      <td>0.008305</td>\n",
       "      <td>0.010605</td>\n",
       "      <td>0.014</td>\n",
       "      <td>0.008</td>\n",
       "      <td>0.011</td>\n",
       "      <td>2.4</td>\n",
       "      <td>0.875</td>\n",
       "      <td>1.010</td>\n",
       "    </tr>\n",
       "    <tr>\n",
       "      <th>61</th>\n",
       "      <td>n21156</td>\n",
       "      <td>21156</td>\n",
       "      <td>189.239409</td>\n",
       "      <td>62.247548</td>\n",
       "      <td>1.251</td>\n",
       "      <td>11.16</td>\n",
       "      <td>8.30</td>\n",
       "      <td>0.020</td>\n",
       "      <td>0.005</td>\n",
       "      <td>0.004</td>\n",
       "      <td>...</td>\n",
       "      <td>0.440882</td>\n",
       "      <td>0.019956</td>\n",
       "      <td>0.004545</td>\n",
       "      <td>0.004208</td>\n",
       "      <td>0.020</td>\n",
       "      <td>0.005</td>\n",
       "      <td>0.004</td>\n",
       "      <td>1.7</td>\n",
       "      <td>0.351</td>\n",
       "      <td>0.442</td>\n",
       "    </tr>\n",
       "    <tr>\n",
       "      <th>62</th>\n",
       "      <td>n21427</td>\n",
       "      <td>21427</td>\n",
       "      <td>189.368121</td>\n",
       "      <td>62.247344</td>\n",
       "      <td>1.514</td>\n",
       "      <td>10.73</td>\n",
       "      <td>8.48</td>\n",
       "      <td>0.019</td>\n",
       "      <td>0.010</td>\n",
       "      <td>0.007</td>\n",
       "      <td>...</td>\n",
       "      <td>0.617234</td>\n",
       "      <td>0.017880</td>\n",
       "      <td>0.008697</td>\n",
       "      <td>0.008248</td>\n",
       "      <td>0.018</td>\n",
       "      <td>0.009</td>\n",
       "      <td>0.008</td>\n",
       "      <td>2.0</td>\n",
       "      <td>0.662</td>\n",
       "      <td>0.539</td>\n",
       "    </tr>\n",
       "    <tr>\n",
       "      <th>69</th>\n",
       "      <td>n23435</td>\n",
       "      <td>23435</td>\n",
       "      <td>189.338306</td>\n",
       "      <td>62.256571</td>\n",
       "      <td>1.134</td>\n",
       "      <td>10.27</td>\n",
       "      <td>8.60</td>\n",
       "      <td>0.014</td>\n",
       "      <td>0.006</td>\n",
       "      <td>0.009</td>\n",
       "      <td>...</td>\n",
       "      <td>0.892786</td>\n",
       "      <td>0.014120</td>\n",
       "      <td>0.006228</td>\n",
       "      <td>0.008978</td>\n",
       "      <td>0.015</td>\n",
       "      <td>0.007</td>\n",
       "      <td>0.008</td>\n",
       "      <td>3.0</td>\n",
       "      <td>0.781</td>\n",
       "      <td>0.884</td>\n",
       "    </tr>\n",
       "    <tr>\n",
       "      <th>86</th>\n",
       "      <td>n32566</td>\n",
       "      <td>32566</td>\n",
       "      <td>189.161280</td>\n",
       "      <td>62.307577</td>\n",
       "      <td>1.150</td>\n",
       "      <td>10.61</td>\n",
       "      <td>8.70</td>\n",
       "      <td>0.020</td>\n",
       "      <td>0.008</td>\n",
       "      <td>0.006</td>\n",
       "      <td>...</td>\n",
       "      <td>0.672345</td>\n",
       "      <td>0.019339</td>\n",
       "      <td>0.007631</td>\n",
       "      <td>0.007014</td>\n",
       "      <td>0.020</td>\n",
       "      <td>0.008</td>\n",
       "      <td>0.006</td>\n",
       "      <td>1.6</td>\n",
       "      <td>0.604</td>\n",
       "      <td>0.653</td>\n",
       "    </tr>\n",
       "    <tr>\n",
       "      <th>96</th>\n",
       "      <td>n34694</td>\n",
       "      <td>34694</td>\n",
       "      <td>189.147840</td>\n",
       "      <td>62.323647</td>\n",
       "      <td>1.145</td>\n",
       "      <td>10.94</td>\n",
       "      <td>8.30</td>\n",
       "      <td>0.015</td>\n",
       "      <td>0.006</td>\n",
       "      <td>0.005</td>\n",
       "      <td>...</td>\n",
       "      <td>0.991984</td>\n",
       "      <td>0.014345</td>\n",
       "      <td>0.004882</td>\n",
       "      <td>0.005667</td>\n",
       "      <td>0.015</td>\n",
       "      <td>0.006</td>\n",
       "      <td>0.005</td>\n",
       "      <td>2.4</td>\n",
       "      <td>0.478</td>\n",
       "      <td>0.988</td>\n",
       "    </tr>\n",
       "    <tr>\n",
       "      <th>107</th>\n",
       "      <td>n37686</td>\n",
       "      <td>37686</td>\n",
       "      <td>189.274474</td>\n",
       "      <td>62.360820</td>\n",
       "      <td>1.258</td>\n",
       "      <td>10.89</td>\n",
       "      <td>8.48</td>\n",
       "      <td>0.016</td>\n",
       "      <td>0.003</td>\n",
       "      <td>0.004</td>\n",
       "      <td>...</td>\n",
       "      <td>0.584168</td>\n",
       "      <td>0.015411</td>\n",
       "      <td>0.002413</td>\n",
       "      <td>0.004321</td>\n",
       "      <td>0.016</td>\n",
       "      <td>0.003</td>\n",
       "      <td>0.004</td>\n",
       "      <td>3.0</td>\n",
       "      <td>0.505</td>\n",
       "      <td>0.531</td>\n",
       "    </tr>\n",
       "    <tr>\n",
       "      <th>110</th>\n",
       "      <td>n38126</td>\n",
       "      <td>38126</td>\n",
       "      <td>189.284502</td>\n",
       "      <td>62.377789</td>\n",
       "      <td>1.245</td>\n",
       "      <td>10.55</td>\n",
       "      <td>9.00</td>\n",
       "      <td>0.017</td>\n",
       "      <td>0.010</td>\n",
       "      <td>0.009</td>\n",
       "      <td>...</td>\n",
       "      <td>0.253507</td>\n",
       "      <td>0.015635</td>\n",
       "      <td>0.009090</td>\n",
       "      <td>0.009988</td>\n",
       "      <td>0.016</td>\n",
       "      <td>0.009</td>\n",
       "      <td>0.010</td>\n",
       "      <td>1.7</td>\n",
       "      <td>0.384</td>\n",
       "      <td>0.244</td>\n",
       "    </tr>\n",
       "    <tr>\n",
       "      <th>212</th>\n",
       "      <td>s35774</td>\n",
       "      <td>35774</td>\n",
       "      <td>53.158775</td>\n",
       "      <td>-27.742385</td>\n",
       "      <td>1.223</td>\n",
       "      <td>10.86</td>\n",
       "      <td>8.90</td>\n",
       "      <td>0.008</td>\n",
       "      <td>0.003</td>\n",
       "      <td>0.003</td>\n",
       "      <td>...</td>\n",
       "      <td>0.661323</td>\n",
       "      <td>0.007331</td>\n",
       "      <td>0.001796</td>\n",
       "      <td>0.004321</td>\n",
       "      <td>0.008</td>\n",
       "      <td>0.002</td>\n",
       "      <td>0.004</td>\n",
       "      <td>3.3</td>\n",
       "      <td>0.805</td>\n",
       "      <td>0.639</td>\n",
       "    </tr>\n",
       "    <tr>\n",
       "      <th>217</th>\n",
       "      <td>s38785</td>\n",
       "      <td>38785</td>\n",
       "      <td>53.168249</td>\n",
       "      <td>-27.727300</td>\n",
       "      <td>1.175</td>\n",
       "      <td>10.88</td>\n",
       "      <td>8.60</td>\n",
       "      <td>0.019</td>\n",
       "      <td>0.007</td>\n",
       "      <td>0.006</td>\n",
       "      <td>...</td>\n",
       "      <td>0.661323</td>\n",
       "      <td>0.018721</td>\n",
       "      <td>0.006902</td>\n",
       "      <td>0.005836</td>\n",
       "      <td>0.019</td>\n",
       "      <td>0.007</td>\n",
       "      <td>0.006</td>\n",
       "      <td>1.9</td>\n",
       "      <td>0.562</td>\n",
       "      <td>0.628</td>\n",
       "    </tr>\n",
       "    <tr>\n",
       "      <th>219</th>\n",
       "      <td>s39012</td>\n",
       "      <td>39012</td>\n",
       "      <td>53.064240</td>\n",
       "      <td>-27.727621</td>\n",
       "      <td>1.632</td>\n",
       "      <td>11.09</td>\n",
       "      <td>8.78</td>\n",
       "      <td>0.019</td>\n",
       "      <td>0.011</td>\n",
       "      <td>0.008</td>\n",
       "      <td>...</td>\n",
       "      <td>0.529058</td>\n",
       "      <td>0.016309</td>\n",
       "      <td>0.008810</td>\n",
       "      <td>0.010269</td>\n",
       "      <td>0.017</td>\n",
       "      <td>0.010</td>\n",
       "      <td>0.010</td>\n",
       "      <td>1.8</td>\n",
       "      <td>0.573</td>\n",
       "      <td>0.441</td>\n",
       "    </tr>\n",
       "    <tr>\n",
       "      <th>220</th>\n",
       "      <td>s39170</td>\n",
       "      <td>39170</td>\n",
       "      <td>53.041826</td>\n",
       "      <td>-27.725868</td>\n",
       "      <td>1.022</td>\n",
       "      <td>11.09</td>\n",
       "      <td>8.48</td>\n",
       "      <td>0.023</td>\n",
       "      <td>0.005</td>\n",
       "      <td>0.004</td>\n",
       "      <td>...</td>\n",
       "      <td>0.562124</td>\n",
       "      <td>0.023379</td>\n",
       "      <td>0.004265</td>\n",
       "      <td>0.004321</td>\n",
       "      <td>0.024</td>\n",
       "      <td>0.005</td>\n",
       "      <td>0.004</td>\n",
       "      <td>2.6</td>\n",
       "      <td>0.425</td>\n",
       "      <td>0.534</td>\n",
       "    </tr>\n",
       "    <tr>\n",
       "      <th>221</th>\n",
       "      <td>s39241</td>\n",
       "      <td>39241</td>\n",
       "      <td>53.042327</td>\n",
       "      <td>-27.726209</td>\n",
       "      <td>1.019</td>\n",
       "      <td>10.87</td>\n",
       "      <td>8.30</td>\n",
       "      <td>0.022</td>\n",
       "      <td>0.003</td>\n",
       "      <td>0.004</td>\n",
       "      <td>...</td>\n",
       "      <td>0.628257</td>\n",
       "      <td>0.022088</td>\n",
       "      <td>0.003198</td>\n",
       "      <td>0.003984</td>\n",
       "      <td>0.023</td>\n",
       "      <td>0.004</td>\n",
       "      <td>0.003</td>\n",
       "      <td>3.9</td>\n",
       "      <td>0.600</td>\n",
       "      <td>0.590</td>\n",
       "    </tr>\n",
       "    <tr>\n",
       "      <th>223</th>\n",
       "      <td>s39631</td>\n",
       "      <td>39631</td>\n",
       "      <td>53.042169</td>\n",
       "      <td>-27.725928</td>\n",
       "      <td>1.053</td>\n",
       "      <td>10.69</td>\n",
       "      <td>8.78</td>\n",
       "      <td>0.018</td>\n",
       "      <td>0.004</td>\n",
       "      <td>0.006</td>\n",
       "      <td>...</td>\n",
       "      <td>0.804609</td>\n",
       "      <td>0.017487</td>\n",
       "      <td>0.003367</td>\n",
       "      <td>0.006453</td>\n",
       "      <td>0.018</td>\n",
       "      <td>0.004</td>\n",
       "      <td>0.006</td>\n",
       "      <td>3.7</td>\n",
       "      <td>0.720</td>\n",
       "      <td>0.757</td>\n",
       "    </tr>\n",
       "    <tr>\n",
       "      <th>224</th>\n",
       "      <td>s39804</td>\n",
       "      <td>39804</td>\n",
       "      <td>53.178423</td>\n",
       "      <td>-27.724640</td>\n",
       "      <td>1.333</td>\n",
       "      <td>10.91</td>\n",
       "      <td>8.48</td>\n",
       "      <td>0.018</td>\n",
       "      <td>0.004</td>\n",
       "      <td>0.006</td>\n",
       "      <td>...</td>\n",
       "      <td>0.639279</td>\n",
       "      <td>0.017936</td>\n",
       "      <td>0.003816</td>\n",
       "      <td>0.006060</td>\n",
       "      <td>0.018</td>\n",
       "      <td>0.004</td>\n",
       "      <td>0.006</td>\n",
       "      <td>3.0</td>\n",
       "      <td>0.571</td>\n",
       "      <td>0.564</td>\n",
       "    </tr>\n",
       "    <tr>\n",
       "      <th>225</th>\n",
       "      <td>s39805</td>\n",
       "      <td>39805</td>\n",
       "      <td>53.163237</td>\n",
       "      <td>-27.724724</td>\n",
       "      <td>1.242</td>\n",
       "      <td>10.62</td>\n",
       "      <td>8.78</td>\n",
       "      <td>0.022</td>\n",
       "      <td>0.011</td>\n",
       "      <td>0.006</td>\n",
       "      <td>...</td>\n",
       "      <td>0.440882</td>\n",
       "      <td>0.020461</td>\n",
       "      <td>0.011166</td>\n",
       "      <td>0.006902</td>\n",
       "      <td>0.021</td>\n",
       "      <td>0.012</td>\n",
       "      <td>0.006</td>\n",
       "      <td>1.9</td>\n",
       "      <td>0.651</td>\n",
       "      <td>0.386</td>\n",
       "    </tr>\n",
       "    <tr>\n",
       "      <th>227</th>\n",
       "      <td>s40223</td>\n",
       "      <td>40223</td>\n",
       "      <td>53.124956</td>\n",
       "      <td>-27.722957</td>\n",
       "      <td>1.595</td>\n",
       "      <td>10.66</td>\n",
       "      <td>8.60</td>\n",
       "      <td>0.018</td>\n",
       "      <td>0.009</td>\n",
       "      <td>0.008</td>\n",
       "      <td>...</td>\n",
       "      <td>0.484970</td>\n",
       "      <td>0.016309</td>\n",
       "      <td>0.007856</td>\n",
       "      <td>0.009315</td>\n",
       "      <td>0.017</td>\n",
       "      <td>0.009</td>\n",
       "      <td>0.009</td>\n",
       "      <td>1.7</td>\n",
       "      <td>0.561</td>\n",
       "      <td>0.486</td>\n",
       "    </tr>\n",
       "    <tr>\n",
       "      <th>228</th>\n",
       "      <td>s40476</td>\n",
       "      <td>40476</td>\n",
       "      <td>53.108262</td>\n",
       "      <td>-27.721924</td>\n",
       "      <td>1.212</td>\n",
       "      <td>10.59</td>\n",
       "      <td>8.60</td>\n",
       "      <td>0.007</td>\n",
       "      <td>0.003</td>\n",
       "      <td>0.006</td>\n",
       "      <td>...</td>\n",
       "      <td>0.584168</td>\n",
       "      <td>0.006377</td>\n",
       "      <td>0.002806</td>\n",
       "      <td>0.006846</td>\n",
       "      <td>0.007</td>\n",
       "      <td>0.003</td>\n",
       "      <td>0.006</td>\n",
       "      <td>2.4</td>\n",
       "      <td>0.754</td>\n",
       "      <td>0.503</td>\n",
       "    </tr>\n",
       "    <tr>\n",
       "      <th>230</th>\n",
       "      <td>s40597</td>\n",
       "      <td>40597</td>\n",
       "      <td>53.148451</td>\n",
       "      <td>-27.719472</td>\n",
       "      <td>1.221</td>\n",
       "      <td>11.01</td>\n",
       "      <td>8.95</td>\n",
       "      <td>0.029</td>\n",
       "      <td>0.004</td>\n",
       "      <td>0.000</td>\n",
       "      <td>...</td>\n",
       "      <td>0.066132</td>\n",
       "      <td>0.028092</td>\n",
       "      <td>0.002862</td>\n",
       "      <td>0.001403</td>\n",
       "      <td>0.029</td>\n",
       "      <td>0.004</td>\n",
       "      <td>0.000</td>\n",
       "      <td>2.4</td>\n",
       "      <td>0.147</td>\n",
       "      <td>0.040</td>\n",
       "    </tr>\n",
       "    <tr>\n",
       "      <th>231</th>\n",
       "      <td>s40623</td>\n",
       "      <td>40623</td>\n",
       "      <td>53.130480</td>\n",
       "      <td>-27.721152</td>\n",
       "      <td>1.410</td>\n",
       "      <td>10.76</td>\n",
       "      <td>8.30</td>\n",
       "      <td>0.020</td>\n",
       "      <td>0.004</td>\n",
       "      <td>0.004</td>\n",
       "      <td>...</td>\n",
       "      <td>0.529058</td>\n",
       "      <td>0.019619</td>\n",
       "      <td>0.003535</td>\n",
       "      <td>0.005106</td>\n",
       "      <td>0.020</td>\n",
       "      <td>0.004</td>\n",
       "      <td>0.005</td>\n",
       "      <td>2.9</td>\n",
       "      <td>0.504</td>\n",
       "      <td>0.466</td>\n",
       "    </tr>\n",
       "    <tr>\n",
       "      <th>232</th>\n",
       "      <td>s40862</td>\n",
       "      <td>40862</td>\n",
       "      <td>53.048020</td>\n",
       "      <td>-27.719743</td>\n",
       "      <td>1.328</td>\n",
       "      <td>10.92</td>\n",
       "      <td>8.48</td>\n",
       "      <td>0.024</td>\n",
       "      <td>0.008</td>\n",
       "      <td>0.004</td>\n",
       "      <td>...</td>\n",
       "      <td>0.507014</td>\n",
       "      <td>0.023379</td>\n",
       "      <td>0.006958</td>\n",
       "      <td>0.004713</td>\n",
       "      <td>0.024</td>\n",
       "      <td>0.008</td>\n",
       "      <td>0.004</td>\n",
       "      <td>2.4</td>\n",
       "      <td>0.467</td>\n",
       "      <td>0.437</td>\n",
       "    </tr>\n",
       "    <tr>\n",
       "      <th>234</th>\n",
       "      <td>s41148</td>\n",
       "      <td>41148</td>\n",
       "      <td>53.127925</td>\n",
       "      <td>-27.718885</td>\n",
       "      <td>1.758</td>\n",
       "      <td>11.08</td>\n",
       "      <td>8.00</td>\n",
       "      <td>0.029</td>\n",
       "      <td>0.004</td>\n",
       "      <td>0.001</td>\n",
       "      <td>...</td>\n",
       "      <td>1.069138</td>\n",
       "      <td>0.028485</td>\n",
       "      <td>0.003311</td>\n",
       "      <td>0.001178</td>\n",
       "      <td>0.029</td>\n",
       "      <td>0.004</td>\n",
       "      <td>0.001</td>\n",
       "      <td>1.3</td>\n",
       "      <td>0.359</td>\n",
       "      <td>1.019</td>\n",
       "    </tr>\n",
       "    <tr>\n",
       "      <th>235</th>\n",
       "      <td>s41520</td>\n",
       "      <td>41520</td>\n",
       "      <td>53.152726</td>\n",
       "      <td>-27.716251</td>\n",
       "      <td>1.603</td>\n",
       "      <td>10.92</td>\n",
       "      <td>0.00</td>\n",
       "      <td>0.026</td>\n",
       "      <td>0.010</td>\n",
       "      <td>0.003</td>\n",
       "      <td>...</td>\n",
       "      <td>0.286573</td>\n",
       "      <td>0.025174</td>\n",
       "      <td>0.008585</td>\n",
       "      <td>0.003479</td>\n",
       "      <td>0.026</td>\n",
       "      <td>0.009</td>\n",
       "      <td>0.003</td>\n",
       "      <td>1.0</td>\n",
       "      <td>0.169</td>\n",
       "      <td>0.272</td>\n",
       "    </tr>\n",
       "    <tr>\n",
       "      <th>236</th>\n",
       "      <td>s41659</td>\n",
       "      <td>41659</td>\n",
       "      <td>53.096114</td>\n",
       "      <td>-27.716302</td>\n",
       "      <td>1.620</td>\n",
       "      <td>10.30</td>\n",
       "      <td>8.90</td>\n",
       "      <td>0.018</td>\n",
       "      <td>0.010</td>\n",
       "      <td>0.008</td>\n",
       "      <td>...</td>\n",
       "      <td>0.617234</td>\n",
       "      <td>0.016533</td>\n",
       "      <td>0.008978</td>\n",
       "      <td>0.008810</td>\n",
       "      <td>0.017</td>\n",
       "      <td>0.009</td>\n",
       "      <td>0.008</td>\n",
       "      <td>1.6</td>\n",
       "      <td>0.505</td>\n",
       "      <td>0.619</td>\n",
       "    </tr>\n",
       "    <tr>\n",
       "      <th>246</th>\n",
       "      <td>s43615</td>\n",
       "      <td>43615</td>\n",
       "      <td>53.093057</td>\n",
       "      <td>-27.707368</td>\n",
       "      <td>1.016</td>\n",
       "      <td>10.69</td>\n",
       "      <td>0.00</td>\n",
       "      <td>0.027</td>\n",
       "      <td>0.004</td>\n",
       "      <td>0.002</td>\n",
       "      <td>...</td>\n",
       "      <td>0.407816</td>\n",
       "      <td>0.026577</td>\n",
       "      <td>0.003591</td>\n",
       "      <td>0.002469</td>\n",
       "      <td>0.027</td>\n",
       "      <td>0.004</td>\n",
       "      <td>0.002</td>\n",
       "      <td>4.6</td>\n",
       "      <td>0.639</td>\n",
       "      <td>0.320</td>\n",
       "    </tr>\n",
       "    <tr>\n",
       "      <th>248</th>\n",
       "      <td>s44042</td>\n",
       "      <td>44042</td>\n",
       "      <td>53.104570</td>\n",
       "      <td>-27.705421</td>\n",
       "      <td>1.611</td>\n",
       "      <td>11.02</td>\n",
       "      <td>8.70</td>\n",
       "      <td>0.028</td>\n",
       "      <td>0.006</td>\n",
       "      <td>0.001</td>\n",
       "      <td>...</td>\n",
       "      <td>0.264529</td>\n",
       "      <td>0.027026</td>\n",
       "      <td>0.010661</td>\n",
       "      <td>0.002244</td>\n",
       "      <td>0.027</td>\n",
       "      <td>0.011</td>\n",
       "      <td>0.002</td>\n",
       "      <td>1.9</td>\n",
       "      <td>0.386</td>\n",
       "      <td>0.253</td>\n",
       "    </tr>\n",
       "    <tr>\n",
       "      <th>251</th>\n",
       "      <td>s44620</td>\n",
       "      <td>44620</td>\n",
       "      <td>53.249645</td>\n",
       "      <td>-27.702048</td>\n",
       "      <td>1.337</td>\n",
       "      <td>10.50</td>\n",
       "      <td>8.70</td>\n",
       "      <td>0.009</td>\n",
       "      <td>0.006</td>\n",
       "      <td>0.010</td>\n",
       "      <td>...</td>\n",
       "      <td>0.562124</td>\n",
       "      <td>0.008172</td>\n",
       "      <td>0.005499</td>\n",
       "      <td>0.009988</td>\n",
       "      <td>0.009</td>\n",
       "      <td>0.006</td>\n",
       "      <td>0.009</td>\n",
       "      <td>1.6</td>\n",
       "      <td>0.626</td>\n",
       "      <td>0.509</td>\n",
       "    </tr>\n",
       "    <tr>\n",
       "      <th>258</th>\n",
       "      <td>s45972</td>\n",
       "      <td>45972</td>\n",
       "      <td>53.115984</td>\n",
       "      <td>-27.693568</td>\n",
       "      <td>1.038</td>\n",
       "      <td>10.87</td>\n",
       "      <td>8.00</td>\n",
       "      <td>0.012</td>\n",
       "      <td>0.003</td>\n",
       "      <td>0.002</td>\n",
       "      <td>...</td>\n",
       "      <td>0.694389</td>\n",
       "      <td>0.011820</td>\n",
       "      <td>0.002862</td>\n",
       "      <td>0.002862</td>\n",
       "      <td>0.012</td>\n",
       "      <td>0.003</td>\n",
       "      <td>0.003</td>\n",
       "      <td>3.7</td>\n",
       "      <td>0.907</td>\n",
       "      <td>0.669</td>\n",
       "    </tr>\n",
       "    <tr>\n",
       "      <th>259</th>\n",
       "      <td>s46066</td>\n",
       "      <td>46066</td>\n",
       "      <td>53.061039</td>\n",
       "      <td>-27.693501</td>\n",
       "      <td>1.327</td>\n",
       "      <td>10.85</td>\n",
       "      <td>0.00</td>\n",
       "      <td>0.022</td>\n",
       "      <td>0.005</td>\n",
       "      <td>0.004</td>\n",
       "      <td>...</td>\n",
       "      <td>0.484970</td>\n",
       "      <td>0.021415</td>\n",
       "      <td>0.004377</td>\n",
       "      <td>0.005050</td>\n",
       "      <td>0.022</td>\n",
       "      <td>0.005</td>\n",
       "      <td>0.004</td>\n",
       "      <td>3.3</td>\n",
       "      <td>0.574</td>\n",
       "      <td>0.463</td>\n",
       "    </tr>\n",
       "    <tr>\n",
       "      <th>260</th>\n",
       "      <td>s46345</td>\n",
       "      <td>46345</td>\n",
       "      <td>53.249276</td>\n",
       "      <td>-27.692747</td>\n",
       "      <td>1.369</td>\n",
       "      <td>10.16</td>\n",
       "      <td>8.70</td>\n",
       "      <td>0.014</td>\n",
       "      <td>0.007</td>\n",
       "      <td>0.010</td>\n",
       "      <td>...</td>\n",
       "      <td>0.848697</td>\n",
       "      <td>0.012605</td>\n",
       "      <td>0.006172</td>\n",
       "      <td>0.010156</td>\n",
       "      <td>0.013</td>\n",
       "      <td>0.007</td>\n",
       "      <td>0.010</td>\n",
       "      <td>2.6</td>\n",
       "      <td>0.689</td>\n",
       "      <td>0.799</td>\n",
       "    </tr>\n",
       "    <tr>\n",
       "      <th>267</th>\n",
       "      <td>s47677</td>\n",
       "      <td>47677</td>\n",
       "      <td>53.262013</td>\n",
       "      <td>-27.686080</td>\n",
       "      <td>1.112</td>\n",
       "      <td>10.09</td>\n",
       "      <td>8.48</td>\n",
       "      <td>0.022</td>\n",
       "      <td>0.007</td>\n",
       "      <td>0.005</td>\n",
       "      <td>...</td>\n",
       "      <td>0.793587</td>\n",
       "      <td>0.021920</td>\n",
       "      <td>0.006397</td>\n",
       "      <td>0.005555</td>\n",
       "      <td>0.022</td>\n",
       "      <td>0.006</td>\n",
       "      <td>0.005</td>\n",
       "      <td>3.3</td>\n",
       "      <td>0.695</td>\n",
       "      <td>0.771</td>\n",
       "    </tr>\n",
       "    <tr>\n",
       "      <th>270</th>\n",
       "      <td>s48631</td>\n",
       "      <td>48631</td>\n",
       "      <td>53.125876</td>\n",
       "      <td>-27.679112</td>\n",
       "      <td>1.055</td>\n",
       "      <td>11.01</td>\n",
       "      <td>0.00</td>\n",
       "      <td>0.004</td>\n",
       "      <td>0.001</td>\n",
       "      <td>0.003</td>\n",
       "      <td>...</td>\n",
       "      <td>0.385772</td>\n",
       "      <td>0.003515</td>\n",
       "      <td>0.000729</td>\n",
       "      <td>0.003591</td>\n",
       "      <td>0.004</td>\n",
       "      <td>0.001</td>\n",
       "      <td>0.003</td>\n",
       "      <td>4.4</td>\n",
       "      <td>0.604</td>\n",
       "      <td>0.355</td>\n",
       "    </tr>\n",
       "  </tbody>\n",
       "</table>\n",
       "<p>35 rows × 44 columns</p>\n",
       "</div>"
      ],
      "text/plain": [
       "<div>\n",
       "<style>\n",
       "    .dataframe thead tr:only-child th {\n",
       "        text-align: right;\n",
       "    }\n",
       "\n",
       "    .dataframe thead th {\n",
       "        text-align: left;\n",
       "    }\n",
       "\n",
       "    .dataframe tbody tr th {\n",
       "        vertical-align: top;\n",
       "    }\n",
       "</style>\n",
       "<table border=\"1\" class=\"dataframe\">\n",
       "  <thead>\n",
       "    <tr style=\"text-align: right;\">\n",
       "      <th></th>\n",
       "      <th>gids</th>\n",
       "      <th>ids</th>\n",
       "      <th>ra</th>\n",
       "      <th>dec</th>\n",
       "      <th>hi_res_specz</th>\n",
       "      <th>lmass</th>\n",
       "      <th>tau</th>\n",
       "      <th>Z_f</th>\n",
       "      <th>Z_-_sig_f</th>\n",
       "      <th>Z_+_sig_f</th>\n",
       "      <th>...</th>\n",
       "      <th>tx_+_sig_lwa</th>\n",
       "      <th>Zx_lwa</th>\n",
       "      <th>Zx_-_sig_lwa</th>\n",
       "      <th>Zx_+_sig_lwa</th>\n",
       "      <th>Z_lwa</th>\n",
       "      <th>Z_-_sig_lwa</th>\n",
       "      <th>Z_+_sig_lwa</th>\n",
       "      <th>t_lwa</th>\n",
       "      <th>t_-_sig_lwa</th>\n",
       "      <th>t_+_sig_lwa</th>\n",
       "    </tr>\n",
       "  </thead>\n",
       "  <tbody>\n",
       "    <tr>\n",
       "      <th>43</th>\n",
       "      <td>n14713</td>\n",
       "      <td>14713</td>\n",
       "      <td>189.236333</td>\n",
       "      <td>62.214608</td>\n",
       "      <td>1.232</td>\n",
       "      <td>10.56</td>\n",
       "      <td>8.78</td>\n",
       "      <td>0.018</td>\n",
       "      <td>0.011</td>\n",
       "      <td>0.008</td>\n",
       "      <td>...</td>\n",
       "      <td>0.584168</td>\n",
       "      <td>0.015860</td>\n",
       "      <td>0.010100</td>\n",
       "      <td>0.009483</td>\n",
       "      <td>0.016</td>\n",
       "      <td>0.010</td>\n",
       "      <td>0.009</td>\n",
       "      <td>2.2</td>\n",
       "      <td>0.686</td>\n",
       "      <td>0.504</td>\n",
       "    </tr>\n",
       "    <tr>\n",
       "      <th>49</th>\n",
       "      <td>n16758</td>\n",
       "      <td>16758</td>\n",
       "      <td>189.162357</td>\n",
       "      <td>62.224840</td>\n",
       "      <td>1.014</td>\n",
       "      <td>10.83</td>\n",
       "      <td>0.00</td>\n",
       "      <td>0.020</td>\n",
       "      <td>0.001</td>\n",
       "      <td>0.002</td>\n",
       "      <td>...</td>\n",
       "      <td>0.242485</td>\n",
       "      <td>0.020068</td>\n",
       "      <td>0.001347</td>\n",
       "      <td>0.002918</td>\n",
       "      <td>0.021</td>\n",
       "      <td>0.002</td>\n",
       "      <td>0.002</td>\n",
       "      <td>4.9</td>\n",
       "      <td>0.509</td>\n",
       "      <td>0.207</td>\n",
       "    </tr>\n",
       "    <tr>\n",
       "      <th>50</th>\n",
       "      <td>n17070</td>\n",
       "      <td>17070</td>\n",
       "      <td>189.268086</td>\n",
       "      <td>62.226445</td>\n",
       "      <td>1.192</td>\n",
       "      <td>10.92</td>\n",
       "      <td>8.48</td>\n",
       "      <td>0.011</td>\n",
       "      <td>0.003</td>\n",
       "      <td>0.004</td>\n",
       "      <td>...</td>\n",
       "      <td>0.617234</td>\n",
       "      <td>0.010305</td>\n",
       "      <td>0.002581</td>\n",
       "      <td>0.004489</td>\n",
       "      <td>0.011</td>\n",
       "      <td>0.003</td>\n",
       "      <td>0.004</td>\n",
       "      <td>2.0</td>\n",
       "      <td>0.508</td>\n",
       "      <td>0.583</td>\n",
       "    </tr>\n",
       "    <tr>\n",
       "      <th>58</th>\n",
       "      <td>n19442</td>\n",
       "      <td>19442</td>\n",
       "      <td>189.123036</td>\n",
       "      <td>62.237460</td>\n",
       "      <td>1.101</td>\n",
       "      <td>10.10</td>\n",
       "      <td>8.90</td>\n",
       "      <td>0.015</td>\n",
       "      <td>0.009</td>\n",
       "      <td>0.010</td>\n",
       "      <td>...</td>\n",
       "      <td>1.069138</td>\n",
       "      <td>0.013952</td>\n",
       "      <td>0.008305</td>\n",
       "      <td>0.010605</td>\n",
       "      <td>0.014</td>\n",
       "      <td>0.008</td>\n",
       "      <td>0.011</td>\n",
       "      <td>2.4</td>\n",
       "      <td>0.875</td>\n",
       "      <td>1.010</td>\n",
       "    </tr>\n",
       "    <tr>\n",
       "      <th>61</th>\n",
       "      <td>n21156</td>\n",
       "      <td>21156</td>\n",
       "      <td>189.239409</td>\n",
       "      <td>62.247548</td>\n",
       "      <td>1.251</td>\n",
       "      <td>11.16</td>\n",
       "      <td>8.30</td>\n",
       "      <td>0.020</td>\n",
       "      <td>0.005</td>\n",
       "      <td>0.004</td>\n",
       "      <td>...</td>\n",
       "      <td>0.440882</td>\n",
       "      <td>0.019956</td>\n",
       "      <td>0.004545</td>\n",
       "      <td>0.004208</td>\n",
       "      <td>0.020</td>\n",
       "      <td>0.005</td>\n",
       "      <td>0.004</td>\n",
       "      <td>1.7</td>\n",
       "      <td>0.351</td>\n",
       "      <td>0.442</td>\n",
       "    </tr>\n",
       "    <tr>\n",
       "      <th>62</th>\n",
       "      <td>n21427</td>\n",
       "      <td>21427</td>\n",
       "      <td>189.368121</td>\n",
       "      <td>62.247344</td>\n",
       "      <td>1.514</td>\n",
       "      <td>10.73</td>\n",
       "      <td>8.48</td>\n",
       "      <td>0.019</td>\n",
       "      <td>0.010</td>\n",
       "      <td>0.007</td>\n",
       "      <td>...</td>\n",
       "      <td>0.617234</td>\n",
       "      <td>0.017880</td>\n",
       "      <td>0.008697</td>\n",
       "      <td>0.008248</td>\n",
       "      <td>0.018</td>\n",
       "      <td>0.009</td>\n",
       "      <td>0.008</td>\n",
       "      <td>2.0</td>\n",
       "      <td>0.662</td>\n",
       "      <td>0.539</td>\n",
       "    </tr>\n",
       "    <tr>\n",
       "      <th>69</th>\n",
       "      <td>n23435</td>\n",
       "      <td>23435</td>\n",
       "      <td>189.338306</td>\n",
       "      <td>62.256571</td>\n",
       "      <td>1.134</td>\n",
       "      <td>10.27</td>\n",
       "      <td>8.60</td>\n",
       "      <td>0.014</td>\n",
       "      <td>0.006</td>\n",
       "      <td>0.009</td>\n",
       "      <td>...</td>\n",
       "      <td>0.892786</td>\n",
       "      <td>0.014120</td>\n",
       "      <td>0.006228</td>\n",
       "      <td>0.008978</td>\n",
       "      <td>0.015</td>\n",
       "      <td>0.007</td>\n",
       "      <td>0.008</td>\n",
       "      <td>3.0</td>\n",
       "      <td>0.781</td>\n",
       "      <td>0.884</td>\n",
       "    </tr>\n",
       "    <tr>\n",
       "      <th>86</th>\n",
       "      <td>n32566</td>\n",
       "      <td>32566</td>\n",
       "      <td>189.161280</td>\n",
       "      <td>62.307577</td>\n",
       "      <td>1.150</td>\n",
       "      <td>10.61</td>\n",
       "      <td>8.70</td>\n",
       "      <td>0.020</td>\n",
       "      <td>0.008</td>\n",
       "      <td>0.006</td>\n",
       "      <td>...</td>\n",
       "      <td>0.672345</td>\n",
       "      <td>0.019339</td>\n",
       "      <td>0.007631</td>\n",
       "      <td>0.007014</td>\n",
       "      <td>0.020</td>\n",
       "      <td>0.008</td>\n",
       "      <td>0.006</td>\n",
       "      <td>1.6</td>\n",
       "      <td>0.604</td>\n",
       "      <td>0.653</td>\n",
       "    </tr>\n",
       "    <tr>\n",
       "      <th>96</th>\n",
       "      <td>n34694</td>\n",
       "      <td>34694</td>\n",
       "      <td>189.147840</td>\n",
       "      <td>62.323647</td>\n",
       "      <td>1.145</td>\n",
       "      <td>10.94</td>\n",
       "      <td>8.30</td>\n",
       "      <td>0.015</td>\n",
       "      <td>0.006</td>\n",
       "      <td>0.005</td>\n",
       "      <td>...</td>\n",
       "      <td>0.991984</td>\n",
       "      <td>0.014345</td>\n",
       "      <td>0.004882</td>\n",
       "      <td>0.005667</td>\n",
       "      <td>0.015</td>\n",
       "      <td>0.006</td>\n",
       "      <td>0.005</td>\n",
       "      <td>2.4</td>\n",
       "      <td>0.478</td>\n",
       "      <td>0.988</td>\n",
       "    </tr>\n",
       "    <tr>\n",
       "      <th>107</th>\n",
       "      <td>n37686</td>\n",
       "      <td>37686</td>\n",
       "      <td>189.274474</td>\n",
       "      <td>62.360820</td>\n",
       "      <td>1.258</td>\n",
       "      <td>10.89</td>\n",
       "      <td>8.48</td>\n",
       "      <td>0.016</td>\n",
       "      <td>0.003</td>\n",
       "      <td>0.004</td>\n",
       "      <td>...</td>\n",
       "      <td>0.584168</td>\n",
       "      <td>0.015411</td>\n",
       "      <td>0.002413</td>\n",
       "      <td>0.004321</td>\n",
       "      <td>0.016</td>\n",
       "      <td>0.003</td>\n",
       "      <td>0.004</td>\n",
       "      <td>3.0</td>\n",
       "      <td>0.505</td>\n",
       "      <td>0.531</td>\n",
       "    </tr>\n",
       "    <tr>\n",
       "      <th>110</th>\n",
       "      <td>n38126</td>\n",
       "      <td>38126</td>\n",
       "      <td>189.284502</td>\n",
       "      <td>62.377789</td>\n",
       "      <td>1.245</td>\n",
       "      <td>10.55</td>\n",
       "      <td>9.00</td>\n",
       "      <td>0.017</td>\n",
       "      <td>0.010</td>\n",
       "      <td>0.009</td>\n",
       "      <td>...</td>\n",
       "      <td>0.253507</td>\n",
       "      <td>0.015635</td>\n",
       "      <td>0.009090</td>\n",
       "      <td>0.009988</td>\n",
       "      <td>0.016</td>\n",
       "      <td>0.009</td>\n",
       "      <td>0.010</td>\n",
       "      <td>1.7</td>\n",
       "      <td>0.384</td>\n",
       "      <td>0.244</td>\n",
       "    </tr>\n",
       "    <tr>\n",
       "      <th>212</th>\n",
       "      <td>s35774</td>\n",
       "      <td>35774</td>\n",
       "      <td>53.158775</td>\n",
       "      <td>-27.742385</td>\n",
       "      <td>1.223</td>\n",
       "      <td>10.86</td>\n",
       "      <td>8.90</td>\n",
       "      <td>0.008</td>\n",
       "      <td>0.003</td>\n",
       "      <td>0.003</td>\n",
       "      <td>...</td>\n",
       "      <td>0.661323</td>\n",
       "      <td>0.007331</td>\n",
       "      <td>0.001796</td>\n",
       "      <td>0.004321</td>\n",
       "      <td>0.008</td>\n",
       "      <td>0.002</td>\n",
       "      <td>0.004</td>\n",
       "      <td>3.3</td>\n",
       "      <td>0.805</td>\n",
       "      <td>0.639</td>\n",
       "    </tr>\n",
       "    <tr>\n",
       "      <th>217</th>\n",
       "      <td>s38785</td>\n",
       "      <td>38785</td>\n",
       "      <td>53.168249</td>\n",
       "      <td>-27.727300</td>\n",
       "      <td>1.175</td>\n",
       "      <td>10.88</td>\n",
       "      <td>8.60</td>\n",
       "      <td>0.019</td>\n",
       "      <td>0.007</td>\n",
       "      <td>0.006</td>\n",
       "      <td>...</td>\n",
       "      <td>0.661323</td>\n",
       "      <td>0.018721</td>\n",
       "      <td>0.006902</td>\n",
       "      <td>0.005836</td>\n",
       "      <td>0.019</td>\n",
       "      <td>0.007</td>\n",
       "      <td>0.006</td>\n",
       "      <td>1.9</td>\n",
       "      <td>0.562</td>\n",
       "      <td>0.628</td>\n",
       "    </tr>\n",
       "    <tr>\n",
       "      <th>219</th>\n",
       "      <td>s39012</td>\n",
       "      <td>39012</td>\n",
       "      <td>53.064240</td>\n",
       "      <td>-27.727621</td>\n",
       "      <td>1.632</td>\n",
       "      <td>11.09</td>\n",
       "      <td>8.78</td>\n",
       "      <td>0.019</td>\n",
       "      <td>0.011</td>\n",
       "      <td>0.008</td>\n",
       "      <td>...</td>\n",
       "      <td>0.529058</td>\n",
       "      <td>0.016309</td>\n",
       "      <td>0.008810</td>\n",
       "      <td>0.010269</td>\n",
       "      <td>0.017</td>\n",
       "      <td>0.010</td>\n",
       "      <td>0.010</td>\n",
       "      <td>1.8</td>\n",
       "      <td>0.573</td>\n",
       "      <td>0.441</td>\n",
       "    </tr>\n",
       "    <tr>\n",
       "      <th>220</th>\n",
       "      <td>s39170</td>\n",
       "      <td>39170</td>\n",
       "      <td>53.041826</td>\n",
       "      <td>-27.725868</td>\n",
       "      <td>1.022</td>\n",
       "      <td>11.09</td>\n",
       "      <td>8.48</td>\n",
       "      <td>0.023</td>\n",
       "      <td>0.005</td>\n",
       "      <td>0.004</td>\n",
       "      <td>...</td>\n",
       "      <td>0.562124</td>\n",
       "      <td>0.023379</td>\n",
       "      <td>0.004265</td>\n",
       "      <td>0.004321</td>\n",
       "      <td>0.024</td>\n",
       "      <td>0.005</td>\n",
       "      <td>0.004</td>\n",
       "      <td>2.6</td>\n",
       "      <td>0.425</td>\n",
       "      <td>0.534</td>\n",
       "    </tr>\n",
       "    <tr>\n",
       "      <th>221</th>\n",
       "      <td>s39241</td>\n",
       "      <td>39241</td>\n",
       "      <td>53.042327</td>\n",
       "      <td>-27.726209</td>\n",
       "      <td>1.019</td>\n",
       "      <td>10.87</td>\n",
       "      <td>8.30</td>\n",
       "      <td>0.022</td>\n",
       "      <td>0.003</td>\n",
       "      <td>0.004</td>\n",
       "      <td>...</td>\n",
       "      <td>0.628257</td>\n",
       "      <td>0.022088</td>\n",
       "      <td>0.003198</td>\n",
       "      <td>0.003984</td>\n",
       "      <td>0.023</td>\n",
       "      <td>0.004</td>\n",
       "      <td>0.003</td>\n",
       "      <td>3.9</td>\n",
       "      <td>0.600</td>\n",
       "      <td>0.590</td>\n",
       "    </tr>\n",
       "    <tr>\n",
       "      <th>223</th>\n",
       "      <td>s39631</td>\n",
       "      <td>39631</td>\n",
       "      <td>53.042169</td>\n",
       "      <td>-27.725928</td>\n",
       "      <td>1.053</td>\n",
       "      <td>10.69</td>\n",
       "      <td>8.78</td>\n",
       "      <td>0.018</td>\n",
       "      <td>0.004</td>\n",
       "      <td>0.006</td>\n",
       "      <td>...</td>\n",
       "      <td>0.804609</td>\n",
       "      <td>0.017487</td>\n",
       "      <td>0.003367</td>\n",
       "      <td>0.006453</td>\n",
       "      <td>0.018</td>\n",
       "      <td>0.004</td>\n",
       "      <td>0.006</td>\n",
       "      <td>3.7</td>\n",
       "      <td>0.720</td>\n",
       "      <td>0.757</td>\n",
       "    </tr>\n",
       "    <tr>\n",
       "      <th>224</th>\n",
       "      <td>s39804</td>\n",
       "      <td>39804</td>\n",
       "      <td>53.178423</td>\n",
       "      <td>-27.724640</td>\n",
       "      <td>1.333</td>\n",
       "      <td>10.91</td>\n",
       "      <td>8.48</td>\n",
       "      <td>0.018</td>\n",
       "      <td>0.004</td>\n",
       "      <td>0.006</td>\n",
       "      <td>...</td>\n",
       "      <td>0.639279</td>\n",
       "      <td>0.017936</td>\n",
       "      <td>0.003816</td>\n",
       "      <td>0.006060</td>\n",
       "      <td>0.018</td>\n",
       "      <td>0.004</td>\n",
       "      <td>0.006</td>\n",
       "      <td>3.0</td>\n",
       "      <td>0.571</td>\n",
       "      <td>0.564</td>\n",
       "    </tr>\n",
       "    <tr>\n",
       "      <th>225</th>\n",
       "      <td>s39805</td>\n",
       "      <td>39805</td>\n",
       "      <td>53.163237</td>\n",
       "      <td>-27.724724</td>\n",
       "      <td>1.242</td>\n",
       "      <td>10.62</td>\n",
       "      <td>8.78</td>\n",
       "      <td>0.022</td>\n",
       "      <td>0.011</td>\n",
       "      <td>0.006</td>\n",
       "      <td>...</td>\n",
       "      <td>0.440882</td>\n",
       "      <td>0.020461</td>\n",
       "      <td>0.011166</td>\n",
       "      <td>0.006902</td>\n",
       "      <td>0.021</td>\n",
       "      <td>0.012</td>\n",
       "      <td>0.006</td>\n",
       "      <td>1.9</td>\n",
       "      <td>0.651</td>\n",
       "      <td>0.386</td>\n",
       "    </tr>\n",
       "    <tr>\n",
       "      <th>227</th>\n",
       "      <td>s40223</td>\n",
       "      <td>40223</td>\n",
       "      <td>53.124956</td>\n",
       "      <td>-27.722957</td>\n",
       "      <td>1.595</td>\n",
       "      <td>10.66</td>\n",
       "      <td>8.60</td>\n",
       "      <td>0.018</td>\n",
       "      <td>0.009</td>\n",
       "      <td>0.008</td>\n",
       "      <td>...</td>\n",
       "      <td>0.484970</td>\n",
       "      <td>0.016309</td>\n",
       "      <td>0.007856</td>\n",
       "      <td>0.009315</td>\n",
       "      <td>0.017</td>\n",
       "      <td>0.009</td>\n",
       "      <td>0.009</td>\n",
       "      <td>1.7</td>\n",
       "      <td>0.561</td>\n",
       "      <td>0.486</td>\n",
       "    </tr>\n",
       "    <tr>\n",
       "      <th>228</th>\n",
       "      <td>s40476</td>\n",
       "      <td>40476</td>\n",
       "      <td>53.108262</td>\n",
       "      <td>-27.721924</td>\n",
       "      <td>1.212</td>\n",
       "      <td>10.59</td>\n",
       "      <td>8.60</td>\n",
       "      <td>0.007</td>\n",
       "      <td>0.003</td>\n",
       "      <td>0.006</td>\n",
       "      <td>...</td>\n",
       "      <td>0.584168</td>\n",
       "      <td>0.006377</td>\n",
       "      <td>0.002806</td>\n",
       "      <td>0.006846</td>\n",
       "      <td>0.007</td>\n",
       "      <td>0.003</td>\n",
       "      <td>0.006</td>\n",
       "      <td>2.4</td>\n",
       "      <td>0.754</td>\n",
       "      <td>0.503</td>\n",
       "    </tr>\n",
       "    <tr>\n",
       "      <th>230</th>\n",
       "      <td>s40597</td>\n",
       "      <td>40597</td>\n",
       "      <td>53.148451</td>\n",
       "      <td>-27.719472</td>\n",
       "      <td>1.221</td>\n",
       "      <td>11.01</td>\n",
       "      <td>8.95</td>\n",
       "      <td>0.029</td>\n",
       "      <td>0.004</td>\n",
       "      <td>0.000</td>\n",
       "      <td>...</td>\n",
       "      <td>0.066132</td>\n",
       "      <td>0.028092</td>\n",
       "      <td>0.002862</td>\n",
       "      <td>0.001403</td>\n",
       "      <td>0.029</td>\n",
       "      <td>0.004</td>\n",
       "      <td>0.000</td>\n",
       "      <td>2.4</td>\n",
       "      <td>0.147</td>\n",
       "      <td>0.040</td>\n",
       "    </tr>\n",
       "    <tr>\n",
       "      <th>231</th>\n",
       "      <td>s40623</td>\n",
       "      <td>40623</td>\n",
       "      <td>53.130480</td>\n",
       "      <td>-27.721152</td>\n",
       "      <td>1.410</td>\n",
       "      <td>10.76</td>\n",
       "      <td>8.30</td>\n",
       "      <td>0.020</td>\n",
       "      <td>0.004</td>\n",
       "      <td>0.004</td>\n",
       "      <td>...</td>\n",
       "      <td>0.529058</td>\n",
       "      <td>0.019619</td>\n",
       "      <td>0.003535</td>\n",
       "      <td>0.005106</td>\n",
       "      <td>0.020</td>\n",
       "      <td>0.004</td>\n",
       "      <td>0.005</td>\n",
       "      <td>2.9</td>\n",
       "      <td>0.504</td>\n",
       "      <td>0.466</td>\n",
       "    </tr>\n",
       "    <tr>\n",
       "      <th>232</th>\n",
       "      <td>s40862</td>\n",
       "      <td>40862</td>\n",
       "      <td>53.048020</td>\n",
       "      <td>-27.719743</td>\n",
       "      <td>1.328</td>\n",
       "      <td>10.92</td>\n",
       "      <td>8.48</td>\n",
       "      <td>0.024</td>\n",
       "      <td>0.008</td>\n",
       "      <td>0.004</td>\n",
       "      <td>...</td>\n",
       "      <td>0.507014</td>\n",
       "      <td>0.023379</td>\n",
       "      <td>0.006958</td>\n",
       "      <td>0.004713</td>\n",
       "      <td>0.024</td>\n",
       "      <td>0.008</td>\n",
       "      <td>0.004</td>\n",
       "      <td>2.4</td>\n",
       "      <td>0.467</td>\n",
       "      <td>0.437</td>\n",
       "    </tr>\n",
       "    <tr>\n",
       "      <th>234</th>\n",
       "      <td>s41148</td>\n",
       "      <td>41148</td>\n",
       "      <td>53.127925</td>\n",
       "      <td>-27.718885</td>\n",
       "      <td>1.758</td>\n",
       "      <td>11.08</td>\n",
       "      <td>8.00</td>\n",
       "      <td>0.029</td>\n",
       "      <td>0.004</td>\n",
       "      <td>0.001</td>\n",
       "      <td>...</td>\n",
       "      <td>1.069138</td>\n",
       "      <td>0.028485</td>\n",
       "      <td>0.003311</td>\n",
       "      <td>0.001178</td>\n",
       "      <td>0.029</td>\n",
       "      <td>0.004</td>\n",
       "      <td>0.001</td>\n",
       "      <td>1.3</td>\n",
       "      <td>0.359</td>\n",
       "      <td>1.019</td>\n",
       "    </tr>\n",
       "    <tr>\n",
       "      <th>235</th>\n",
       "      <td>s41520</td>\n",
       "      <td>41520</td>\n",
       "      <td>53.152726</td>\n",
       "      <td>-27.716251</td>\n",
       "      <td>1.603</td>\n",
       "      <td>10.92</td>\n",
       "      <td>0.00</td>\n",
       "      <td>0.026</td>\n",
       "      <td>0.010</td>\n",
       "      <td>0.003</td>\n",
       "      <td>...</td>\n",
       "      <td>0.286573</td>\n",
       "      <td>0.025174</td>\n",
       "      <td>0.008585</td>\n",
       "      <td>0.003479</td>\n",
       "      <td>0.026</td>\n",
       "      <td>0.009</td>\n",
       "      <td>0.003</td>\n",
       "      <td>1.0</td>\n",
       "      <td>0.169</td>\n",
       "      <td>0.272</td>\n",
       "    </tr>\n",
       "    <tr>\n",
       "      <th>236</th>\n",
       "      <td>s41659</td>\n",
       "      <td>41659</td>\n",
       "      <td>53.096114</td>\n",
       "      <td>-27.716302</td>\n",
       "      <td>1.620</td>\n",
       "      <td>10.30</td>\n",
       "      <td>8.90</td>\n",
       "      <td>0.018</td>\n",
       "      <td>0.010</td>\n",
       "      <td>0.008</td>\n",
       "      <td>...</td>\n",
       "      <td>0.617234</td>\n",
       "      <td>0.016533</td>\n",
       "      <td>0.008978</td>\n",
       "      <td>0.008810</td>\n",
       "      <td>0.017</td>\n",
       "      <td>0.009</td>\n",
       "      <td>0.008</td>\n",
       "      <td>1.6</td>\n",
       "      <td>0.505</td>\n",
       "      <td>0.619</td>\n",
       "    </tr>\n",
       "    <tr>\n",
       "      <th>246</th>\n",
       "      <td>s43615</td>\n",
       "      <td>43615</td>\n",
       "      <td>53.093057</td>\n",
       "      <td>-27.707368</td>\n",
       "      <td>1.016</td>\n",
       "      <td>10.69</td>\n",
       "      <td>0.00</td>\n",
       "      <td>0.027</td>\n",
       "      <td>0.004</td>\n",
       "      <td>0.002</td>\n",
       "      <td>...</td>\n",
       "      <td>0.407816</td>\n",
       "      <td>0.026577</td>\n",
       "      <td>0.003591</td>\n",
       "      <td>0.002469</td>\n",
       "      <td>0.027</td>\n",
       "      <td>0.004</td>\n",
       "      <td>0.002</td>\n",
       "      <td>4.6</td>\n",
       "      <td>0.639</td>\n",
       "      <td>0.320</td>\n",
       "    </tr>\n",
       "    <tr>\n",
       "      <th>248</th>\n",
       "      <td>s44042</td>\n",
       "      <td>44042</td>\n",
       "      <td>53.104570</td>\n",
       "      <td>-27.705421</td>\n",
       "      <td>1.611</td>\n",
       "      <td>11.02</td>\n",
       "      <td>8.70</td>\n",
       "      <td>0.028</td>\n",
       "      <td>0.006</td>\n",
       "      <td>0.001</td>\n",
       "      <td>...</td>\n",
       "      <td>0.264529</td>\n",
       "      <td>0.027026</td>\n",
       "      <td>0.010661</td>\n",
       "      <td>0.002244</td>\n",
       "      <td>0.027</td>\n",
       "      <td>0.011</td>\n",
       "      <td>0.002</td>\n",
       "      <td>1.9</td>\n",
       "      <td>0.386</td>\n",
       "      <td>0.253</td>\n",
       "    </tr>\n",
       "    <tr>\n",
       "      <th>251</th>\n",
       "      <td>s44620</td>\n",
       "      <td>44620</td>\n",
       "      <td>53.249645</td>\n",
       "      <td>-27.702048</td>\n",
       "      <td>1.337</td>\n",
       "      <td>10.50</td>\n",
       "      <td>8.70</td>\n",
       "      <td>0.009</td>\n",
       "      <td>0.006</td>\n",
       "      <td>0.010</td>\n",
       "      <td>...</td>\n",
       "      <td>0.562124</td>\n",
       "      <td>0.008172</td>\n",
       "      <td>0.005499</td>\n",
       "      <td>0.009988</td>\n",
       "      <td>0.009</td>\n",
       "      <td>0.006</td>\n",
       "      <td>0.009</td>\n",
       "      <td>1.6</td>\n",
       "      <td>0.626</td>\n",
       "      <td>0.509</td>\n",
       "    </tr>\n",
       "    <tr>\n",
       "      <th>258</th>\n",
       "      <td>s45972</td>\n",
       "      <td>45972</td>\n",
       "      <td>53.115984</td>\n",
       "      <td>-27.693568</td>\n",
       "      <td>1.038</td>\n",
       "      <td>10.87</td>\n",
       "      <td>8.00</td>\n",
       "      <td>0.012</td>\n",
       "      <td>0.003</td>\n",
       "      <td>0.002</td>\n",
       "      <td>...</td>\n",
       "      <td>0.694389</td>\n",
       "      <td>0.011820</td>\n",
       "      <td>0.002862</td>\n",
       "      <td>0.002862</td>\n",
       "      <td>0.012</td>\n",
       "      <td>0.003</td>\n",
       "      <td>0.003</td>\n",
       "      <td>3.7</td>\n",
       "      <td>0.907</td>\n",
       "      <td>0.669</td>\n",
       "    </tr>\n",
       "    <tr>\n",
       "      <th>259</th>\n",
       "      <td>s46066</td>\n",
       "      <td>46066</td>\n",
       "      <td>53.061039</td>\n",
       "      <td>-27.693501</td>\n",
       "      <td>1.327</td>\n",
       "      <td>10.85</td>\n",
       "      <td>0.00</td>\n",
       "      <td>0.022</td>\n",
       "      <td>0.005</td>\n",
       "      <td>0.004</td>\n",
       "      <td>...</td>\n",
       "      <td>0.484970</td>\n",
       "      <td>0.021415</td>\n",
       "      <td>0.004377</td>\n",
       "      <td>0.005050</td>\n",
       "      <td>0.022</td>\n",
       "      <td>0.005</td>\n",
       "      <td>0.004</td>\n",
       "      <td>3.3</td>\n",
       "      <td>0.574</td>\n",
       "      <td>0.463</td>\n",
       "    </tr>\n",
       "    <tr>\n",
       "      <th>260</th>\n",
       "      <td>s46345</td>\n",
       "      <td>46345</td>\n",
       "      <td>53.249276</td>\n",
       "      <td>-27.692747</td>\n",
       "      <td>1.369</td>\n",
       "      <td>10.16</td>\n",
       "      <td>8.70</td>\n",
       "      <td>0.014</td>\n",
       "      <td>0.007</td>\n",
       "      <td>0.010</td>\n",
       "      <td>...</td>\n",
       "      <td>0.848697</td>\n",
       "      <td>0.012605</td>\n",
       "      <td>0.006172</td>\n",
       "      <td>0.010156</td>\n",
       "      <td>0.013</td>\n",
       "      <td>0.007</td>\n",
       "      <td>0.010</td>\n",
       "      <td>2.6</td>\n",
       "      <td>0.689</td>\n",
       "      <td>0.799</td>\n",
       "    </tr>\n",
       "    <tr>\n",
       "      <th>267</th>\n",
       "      <td>s47677</td>\n",
       "      <td>47677</td>\n",
       "      <td>53.262013</td>\n",
       "      <td>-27.686080</td>\n",
       "      <td>1.112</td>\n",
       "      <td>10.09</td>\n",
       "      <td>8.48</td>\n",
       "      <td>0.022</td>\n",
       "      <td>0.007</td>\n",
       "      <td>0.005</td>\n",
       "      <td>...</td>\n",
       "      <td>0.793587</td>\n",
       "      <td>0.021920</td>\n",
       "      <td>0.006397</td>\n",
       "      <td>0.005555</td>\n",
       "      <td>0.022</td>\n",
       "      <td>0.006</td>\n",
       "      <td>0.005</td>\n",
       "      <td>3.3</td>\n",
       "      <td>0.695</td>\n",
       "      <td>0.771</td>\n",
       "    </tr>\n",
       "    <tr>\n",
       "      <th>270</th>\n",
       "      <td>s48631</td>\n",
       "      <td>48631</td>\n",
       "      <td>53.125876</td>\n",
       "      <td>-27.679112</td>\n",
       "      <td>1.055</td>\n",
       "      <td>11.01</td>\n",
       "      <td>0.00</td>\n",
       "      <td>0.004</td>\n",
       "      <td>0.001</td>\n",
       "      <td>0.003</td>\n",
       "      <td>...</td>\n",
       "      <td>0.385772</td>\n",
       "      <td>0.003515</td>\n",
       "      <td>0.000729</td>\n",
       "      <td>0.003591</td>\n",
       "      <td>0.004</td>\n",
       "      <td>0.001</td>\n",
       "      <td>0.003</td>\n",
       "      <td>4.4</td>\n",
       "      <td>0.604</td>\n",
       "      <td>0.355</td>\n",
       "    </tr>\n",
       "  </tbody>\n",
       "</table>\n",
       "<p>35 rows × 44 columns</p>\n",
       "</div>"
      ]
     },
     "execution_count": 4,
     "metadata": {},
     "output_type": "execute_result"
    }
   ],
   "source": [
    "galDB"
   ]
  },
  {
   "cell_type": "markdown",
   "metadata": {},
   "source": [
    "#UVJ plot"
   ]
  },
  {
   "cell_type": "code",
   "execution_count": 79,
   "metadata": {
    "collapsed": true
   },
   "outputs": [],
   "source": [
    "###DATA \n",
    "uvjDB = pd.read_pickle('../data/uvj_db.pkl')\n",
    "uvjSDB = uvjDB[uvjDB['IN_SAMP'] == True]\n",
    "uvjSDB = uvjSDB.query('ra != 189.236333 and ra != 189.284502')"
   ]
  },
  {
   "cell_type": "code",
   "execution_count": 80,
   "metadata": {},
   "outputs": [
    {
     "name": "stderr",
     "output_type": "stream",
     "text": [
      "/Users/vestrada/miniconda2/envs/astroconda/lib/python2.7/site-packages/matplotlib/cbook.py:2649: UserWarning: Saw kwargs [u'lw', u'linewidth'] which are all aliases for u'linewidth'.  Kept value from u'linewidth'\n  seen=seen, canon=canonical, used=seen[-1]))\n"
     ]
    }
   ],
   "source": [
    "###PLOTS\n",
    "%matplotlib inline\n",
    "\n",
    "# plt.figure(figsize=[10,10])\n",
    "# plt.plot(uvjDB['(V-J)'],uvjDB['(U-V)'],'o',color='#127794', alpha=.5,ms=3, label = 'Star Forming')\n",
    "# plt.plot(uvjDB['(V-J)'][uvjDB['Q/S'] == 'q'],uvjDB['(U-V)'][uvjDB['Q/S'] == 'q'],'o',color='#E81524', alpha=.5,ms=3, label = 'Quiscent')\n",
    "# plt.plot(uvjDB['(V-J)'][uvjDB['IN_SAMP'] == True],uvjDB['(U-V)'][uvjDB['IN_SAMP'] == True],'d',color='#93000B',ms=10, label = 'Selected Sample')\n",
    "# plt.plot([0,.9],[1.382,1.382],'k',lw=.9)\n",
    "# plt.plot([1.65,1.65],[2.045,2.5],'k',lw=.9)\n",
    "# plt.plot([.9,1.65],[0.88*.9+0.59,0.88*1.65+0.59],'k',lw=.9)\n",
    "# plt.axis([0,2.5,.5,2.5])\n",
    "# plt.legend(loc=2,fontsize=23)\n",
    "# plt.xlabel('(V-J)',fontsize=30)\n",
    "# plt.ylabel('(U-V)',fontsize=30)\n",
    "# plt.tick_params(axis='both', which='major', labelsize=23)\n",
    "# plt.minorticks_on()\n",
    "# plt.gcf().subplots_adjust(bottom=0.16)\n",
    "# # plt.show()\n",
    "# plt.savefig('../plots/uvj_plot_6-28.png')\n",
    "# plt.close()\n",
    "\n",
    "plt.figure(figsize=[10,10])\n",
    "sea.kdeplot(uvjDB['(V-J)'],uvjDB['(U-V)'],n_levels = 7,alpha = .8,shade=True,cmap=cmap,kernel= 'epa',zorder=1)\n",
    "plt.plot(uvjSDB['(V-J)'],uvjSDB['(U-V)'],'o',color='#93000B',ms=8, label = 'Selected Sample')\n",
    "plt.plot([0,.9],[1.382,1.382],'k',lw=.9,linewidth=3)\n",
    "plt.plot([1.65,1.65],[2.045,2.5],'k',lw=.9,linewidth=3)\n",
    "plt.plot([.9,1.65],[0.88*.9+0.59,0.88*1.65+0.59],'k',lw=.9,linewidth=3)\n",
    "plt.axis([0,2.5,.5,2.5])\n",
    "plt.legend(fontsize=23)\n",
    "plt.xlabel('(V-J) mag',fontsize=30)\n",
    "plt.ylabel('(U-V) mag',fontsize=30)\n",
    "plt.tick_params(axis='both', which='major', labelsize=23,length = 7, width=2)\n",
    "plt.minorticks_on()\n",
    "plt.gcf().subplots_adjust(bottom=0.16)\n",
    "# plt.show()\n",
    "plt.savefig('../plots/uvj_kde_plot_8-27.pdf',bbox_inches = 'tight')\n",
    "plt.close()"
   ]
  },
  {
   "cell_type": "markdown",
   "metadata": {},
   "source": [
    "#Redshift Distributions"
   ]
  },
  {
   "cell_type": "code",
   "execution_count": 14,
   "metadata": {},
   "outputs": [],
   "source": [
    "###DATA\n",
    "lzDB = galDB.query('hi_res_specz < 1.16')\n",
    "mzDB = galDB.query('1.16 < hi_res_specz < 1.3')\n",
    "mzDB = mzDB.query('ids != 14713 and ids != 38126')\n",
    "hzDB = galDB.query('1.3 < hi_res_specz < 1.45')\n",
    "uhzDB = galDB.query('1.45 < hi_res_specz')\n",
    "gmtlDB = galDB.query('ids != 14713 and ids != 38126 and ids != 40597')"
   ]
  },
  {
   "cell_type": "code",
   "execution_count": 19,
   "metadata": {},
   "outputs": [
    {
     "data": {
      "image/png": "[encoded data removed]",
      "text/plain": [
       "<matplotlib.figure.Figure at 0x10fca3910>"
      ]
     },
     "metadata": {},
     "output_type": "display_data"
    }
   ],
   "source": [
    "###PLOT\n",
    "%matplotlib inline\n",
    "\n",
    "plt.figure(figsize=[8,8])\n",
    "plt.hist(lzDB['hi_res_specz'],color='#e41a1c')\n",
    "plt.hist(mzDB['hi_res_specz'],color='#377eb8')\n",
    "plt.hist(hzDB['hi_res_specz'],color='#4daf4a')\n",
    "plt.hist(uhzDB['hi_res_specz'],color='#984ea3')\n",
    "plt.show()\n",
    "plt.close()\n"
   ]
  },
  {
   "cell_type": "markdown",
   "metadata": {},
   "source": [
    "#Example Spectra and Best Fit"
   ]
  },
  {
   "cell_type": "code",
   "execution_count": null,
   "metadata": {
    "collapsed": true
   },
   "outputs": [],
   "source": [
    "###DATA\n",
    "spec = Gen_spec(galDB['gids'][61], galDB['hi_res_specz'][61],delayed=True,maxwv=11400)\n",
    "bftau = Median_model(galDB['gids'][61], galDB['hi_res_specz'][61], galDB['Z_lwa'][61], galDB['t_lwa'][61], tau)\n",
    "spec.Sim_spec(galDB['Z_lwa'][61],galDB['t_lwa'][61],bftau)"
   ]
  },
  {
   "cell_type": "code",
   "execution_count": 19,
   "metadata": {
    "collapsed": true
   },
   "outputs": [],
   "source": [
    "###PLOT\n",
    "%matplotlib inline\n",
    "\n",
    "sea.set_style( {\"xtick.major.size\": 8, \"ytick.major.size\": 8,\n",
    "                \"xtick.minor.size\": 5, \"ytick.minor.size\": 5})\n",
    "plt.figure(figsize=(15,6))\n",
    "plt.errorbar(spec.gal_wv_rf,spec.gal_fl*1E18,spec.gal_er*1E18,fmt='o',color='#0571b0', alpha = .8,ms=5,label = 'Galaxy Spectra')\n",
    "plt.plot(spec.gal_wv_rf,spec.fl*1E18, color='#ca0020',\n",
    "         label='Median fit\\nZ/Z$_\\odot$=%s,\\nt=%s Gyrs' % (np.round(galDB['Z_lwa'][61]/0.019,2),galDB['t_lwa'][61]))\n",
    "plt.axvline(3934.777,linestyle='--', alpha=.3)\n",
    "plt.axvline(3969.588,linestyle='--', alpha=.3)\n",
    "plt.axvline(4102.89,linestyle='--', alpha=.3)\n",
    "plt.axvline(4305.61,linestyle='--', alpha=.3)\n",
    "plt.axvline(4341.68,linestyle='--', alpha=.3)\n",
    "plt.axvline(4862.68,linestyle='--', alpha=.3)\n",
    "plt.axvline(5176.7,linestyle='--', alpha=.3)\n",
    "plt.axvspan(3910, 3980, color='k', alpha=.1)\n",
    "plt.axvspan(3980, 4030, color='k', alpha=.1)\n",
    "plt.axvspan(4080, 4120, color='k', alpha=.1)\n",
    "plt.axvspan(4250, 4380, color='k', alpha=.1)\n",
    "plt.axvspan(4810, 4910, color='k', alpha=.1)\n",
    "plt.axvspan(5120, 5240, color='k', alpha=.1)\n",
    "plt.text(3850,3.6,'Ca HK',fontsize=20)\n",
    "plt.text(4080,3.6,'H$\\delta$',fontsize=20)\n",
    "plt.text(4250,3.6,'G+H$\\gamma$',fontsize=20)\n",
    "plt.text(4830,3.6,'H$\\\\beta$',fontsize=20)\n",
    "# plt.text(5160,5.6,'Mgb',fontsize=25)\n",
    "plt.xlim(3500,5100)\n",
    "plt.ylim(0,3.5)\n",
    "plt.ylabel('F$_\\lambda$ (10$^{-18}$ erg/s/cm$^2$/$\\AA$)',size=30)\n",
    "plt.xlabel('Restframe Wavelength ($\\AA$)',size=30)\n",
    "plt.tick_params(axis='both', which='major', labelsize=20)\n",
    "plt.gcf().subplots_adjust(bottom=0.235)\n",
    "plt.legend(loc=4,fontsize=20)\n",
    "plt.minorticks_on()\n",
    "# plt.show()\n",
    "plt.savefig('../plots/n21156_spec_10-17.pdf',bbox_inches = 'tight')\n",
    "plt.close()"
   ]
  },
  {
   "cell_type": "markdown",
   "metadata": {},
   "source": [
    "#Grizli Example"
   ]
  },
  {
   "cell_type": "code",
   "execution_count": 3,
   "metadata": {},
   "outputs": [
    {
     "name": "stdout",
     "output_type": "stream",
     "text": [
      "The following tasks in the stwcs.gui package can be run with TEAL:\n     apply_headerlet          archive_headerlet          attach_headerlet     \n     delete_headerlet         extract_headerlet         headerlet_summary     \n    restore_headerlet             updatewcs              write_headerlet\n\n\n"
     ]
    },
    {
     "name": "stdout",
     "output_type": "stream",
     "text": [
      "../data/galaxy_flts/s39170_flt: photutils.detect_sources (detect_thresh=0.0, grow_seg=5, gauss_fwhm=2.0, ZP=0.0)\n../data/galaxy_flts/s39170_flt: photutils.source_properties\n"
     ]
    },
    {
     "name": "stdout",
     "output_type": "stream",
     "text": [
      "Rename column: ycentroid -> y_flt\nRename column: ra_icrs_centroid -> ra\nRename column: dec_icrs_centroid -> dec\nRename column: xcentroid -> x_flt\n\u001b[1A\u001b[1M../data/galaxy_flts/s39170_flt: photutils.source_properties - 1 objects\n../data/galaxy_flts/s39170_flt: save ../data/galaxy_flts/s39170_flt.detect_seg.fits, ../data/galaxy_flts/s39170_flt.detect.cat\n"
     ]
    }
   ],
   "source": [
    "###DATA\n",
    "spec = Gen_spec(galDB['gids'][220], galDB['hi_res_specz'][220],maxwv=11400)\n",
    "spec.Sim_spec(galDB['Z_f'][220],galDB['t_f'][220],8.48)\n",
    "wv,fl = np.load('../../../fsps_models_for_fit/fsps_spec/m0.023_a3.4_t8.48_spec.npy')"
   ]
  },
  {
   "cell_type": "code",
   "execution_count": 9,
   "metadata": {},
   "outputs": [
    {
     "data": {
      "image/png": "[encoded data removed]",
      "text/plain": [
       "<matplotlib.figure.Figure at 0x11c3ddf10>"
      ]
     },
     "metadata": {},
     "output_type": "display_data"
    }
   ],
   "source": [
    "###PLOT###PLOT\n",
    "%matplotlib inline\n",
    "\n",
    "# plt.figure(figsize=(12,5))\n",
    "# plt.plot(spec.gal_wv_rf,spec.fl*1E18, color='#ca0020',\n",
    "#          label='Grismed model\\nZ/Z$_\\odot$=%s,\\nt=%s Gyrs' % (np.round(galDB['Z_f'][220]/0.019,2),galDB['t_f'][220]))\n",
    "# plt.axvline(3934.777,linestyle='--', alpha=.3)\n",
    "# plt.axvline(3969.588,linestyle='--', alpha=.3)\n",
    "# plt.axvline(4102.89,linestyle='--', alpha=.3)\n",
    "# plt.axvline(4305.61,linestyle='--', alpha=.3)\n",
    "# plt.axvline(4341.68,linestyle='--', alpha=.3)\n",
    "# plt.axvline(4862.68,linestyle='--', alpha=.3)\n",
    "# plt.axvline(5176.7,linestyle='--', alpha=.3)\n",
    "# plt.axvspan(3910, 3980, color='k', alpha=.1)\n",
    "# plt.axvspan(3980, 4030, color='k', alpha=.1)\n",
    "# plt.axvspan(4080, 4120, color='k', alpha=.1)\n",
    "# plt.axvspan(4250, 4380, color='k', alpha=.1)\n",
    "# plt.axvspan(4810, 4910, color='k', alpha=.1)\n",
    "# plt.axvspan(5120, 5240, color='k', alpha=.1)\n",
    "# plt.text(3900,5.35,'Ca HK',fontsize=20)\n",
    "# plt.text(4070,5.35,'H$\\delta$',fontsize=20)\n",
    "# plt.text(4250,5.35,'G+H$\\gamma$',fontsize=20)\n",
    "# plt.text(4830,5.35,'H$\\\\beta$',fontsize=20)\n",
    "# plt.text(5160,5.35,'Mgb',fontsize=20)\n",
    "# plt.xlim(3900,5500)\n",
    "# plt.ylim(.5,5.25)\n",
    "# plt.ylabel('F$_\\lambda$ (10$^{-18}$ erg/s/cm$^2$/$\\AA$)',size=30)\n",
    "# plt.xlabel('Restframe Wavelength ($\\AA$)',size=30)\n",
    "# plt.tick_params(axis='both', which='major', labelsize=20)\n",
    "# plt.gcf().subplots_adjust(bottom=0.235)\n",
    "# plt.legend(loc=4,fontsize=20)\n",
    "# plt.minorticks_on()\n",
    "# plt.show()\n",
    "# # plt.savefig('../plots/s39170_gres_8-4.pdf')\n",
    "# plt.close()\n",
    "\n",
    "plt.figure(figsize=(15,8))\n",
    "plt.plot(wv,fl*1.2E5, color='#0571b0',label='Example model')\n",
    "plt.plot(spec.gal_wv_rf,spec.fl*1E18, color='#ca0020',label='Grismed model', linewidth=3)\n",
    "plt.axvline(3934.777,linestyle='--', alpha=.3)\n",
    "plt.axvline(3969.588,linestyle='--', alpha=.3)\n",
    "plt.axvline(4102.89,linestyle='--', alpha=.3)\n",
    "plt.axvline(4305.61,linestyle='--', alpha=.3)\n",
    "plt.axvline(4341.68,linestyle='--', alpha=.3)\n",
    "plt.axvline(4862.68,linestyle='--', alpha=.3)\n",
    "plt.axvline(5176.7,linestyle='--', alpha=.3)\n",
    "plt.axvspan(3910, 3980, color='k', alpha=.1)\n",
    "plt.axvspan(3980, 4030, color='k', alpha=.1)\n",
    "plt.axvspan(4080, 4120, color='k', alpha=.1)\n",
    "plt.axvspan(4250, 4380, color='k', alpha=.1)\n",
    "plt.axvspan(4810, 4910, color='k', alpha=.1)\n",
    "plt.axvspan(5120, 5240, color='k', alpha=.1)\n",
    "plt.text(3900,5.35,'Ca HK',fontsize=20)\n",
    "plt.text(4070,5.35,'H$\\delta$',fontsize=20)\n",
    "plt.text(4250,5.35,'G+H$\\gamma$',fontsize=20)\n",
    "plt.text(4830,5.35,'H$\\\\beta$',fontsize=20)\n",
    "plt.text(5160,5.35,'Mgb',fontsize=20)\n",
    "plt.xlim(3900,5500)\n",
    "plt.ylim(.5,5.25)\n",
    "plt.ylabel('F$_\\lambda$ (10$^{-18}$ erg/s/cm$^2$/$\\AA$)',size=30)\n",
    "plt.xlabel('Restframe Wavelength ($\\AA$)',size=30)\n",
    "plt.tick_params(axis='both', which='major', labelsize=20)\n",
    "plt.gcf().subplots_adjust(bottom=0.235)\n",
    "plt.legend(loc=4,fontsize=20)\n",
    "plt.minorticks_on()\n",
    "plt.show()\n",
    "# plt.savefig('../plots/s39170_fres_8-4.pdf')\n",
    "plt.close()"
   ]
  },
  {
   "cell_type": "markdown",
   "metadata": {},
   "source": [
    "#Simulation Example"
   ]
  },
  {
   "cell_type": "code",
   "execution_count": 76,
   "metadata": {},
   "outputs": [
    {
     "name": "stdout",
     "output_type": "stream",
     "text": [
      "../data/galaxy_flts/s39170_flt: photutils.detect_sources (detect_thresh=0.0, grow_seg=5, gauss_fwhm=2.0, ZP=0.0)\n../data/galaxy_flts/s39170_flt: photutils.source_properties\nRename column: ycentroid -> y_flt\nRename column: ra_icrs_centroid -> ra\nRename column: dec_icrs_centroid -> dec\nRename column: xcentroid -> x_flt\n\u001b[1A\u001b[1M../data/galaxy_flts/s39170_flt: photutils.source_properties - 1 objects\n../data/galaxy_flts/s39170_flt: save ../data/galaxy_flts/s39170_flt.detect_seg.fits, ../data/galaxy_flts/s39170_flt.detect.cat\n"
     ]
    }
   ],
   "source": [
    "###Data \n",
    "spec = Gen_sim(galDB['gids'][220],galDB['hi_res_specz'][220],0.019,2.0,8.0,maxwv=11400)\n",
    "spec.Perturb_flux()\n",
    "lines = [3934,3969,4102,4305,4341,4862,5176]\n",
    "regions = [[3910, 3980],[3980, 4030],[4080, 4120],[4250, 4380],[4810, 4910],[5120, 5240]]\n",
    "txlines = [3900,4070,4250,4830,5160]\n",
    "text = ['Ca HK','H$\\delta$','G+H$\\gamma$','H$\\\\beta$','Mgb']"
   ]
  },
  {
   "cell_type": "code",
   "execution_count": 78,
   "metadata": {},
   "outputs": [],
   "source": [
    "###Plot\n",
    "plt.figure(figsize=(15,8))\n",
    "plt.plot(spec.gal_wv_rf,spec.flx_err*1E18, color='#0571b0',label='Simulated data')\n",
    "plt.plot(spec.gal_wv_rf,spec.fl*1E18, color='#ca0020',label='Grismed model',linewidth = 3)\n",
    "[plt.axvline(U,linestyle='--', alpha=.3) for U in lines]   \n",
    "[plt.axvspan(U[0], U[1], color='k', alpha=.1) for U in regions]   \n",
    "[plt.text(txlines[U],5.35,text[U],fontsize=20) for U in range(len(txlines))]   \n",
    "plt.xlim(3900,5650)\n",
    "plt.ylabel('F$_\\lambda$ (10$^{-18}$ erg/s/cm$^2$/$\\AA$)',size=30)\n",
    "plt.xlabel('Restframe Wavelength ($\\AA$)',size=30)\n",
    "plt.tick_params(axis='both', which='major', labelsize=20)\n",
    "plt.gcf().subplots_adjust(bottom=0.235)\n",
    "plt.legend(loc=4,fontsize=20)\n",
    "plt.minorticks_on()\n",
    "# plt.show()\n",
    "plt.savefig('../plots/simulated_data_10-26.pdf',bbox_inches = 'tight')\n",
    "plt.close()"
   ]
  },
  {
   "cell_type": "markdown",
   "metadata": {},
   "source": [
    "#Example Posterior"
   ]
  },
  {
   "cell_type": "code",
   "execution_count": 22,
   "metadata": {},
   "outputs": [],
   "source": [
    "###DATA\n",
    "P = np.load('../chidat/n21156_dtau_tZ_pos_lwa.npy')\n",
    "t,Pt = np.load('../chidat/n21156_dtau_t_pos_lwa.npy')\n",
    "Z,PZ = np.load('../chidat/n21156_dtau_Z_pos_lwa.npy')\n",
    "onesig,twosig = Likelihood_contours(age,metal,P)\n",
    "levels = np.array([twosig,onesig])"
   ]
  },
  {
   "cell_type": "code",
   "execution_count": 24,
   "metadata": {},
   "outputs": [],
   "source": [
    "###PLOT\n",
    "gs = gridspec.GridSpec(2,2,height_ratios=[1,4],width_ratios=[4,1],hspace=0,wspace=0)\n",
    "plt.figure(figsize=[8,8])\n",
    "\n",
    "plt.subplot(gs[2])\n",
    "plt.contour(M,A,P,levels,colors='k',linewidths=2)\n",
    "plt.contourf(M,A,P,40,cmap=cmap)\n",
    "plt.axis([0,0.03,0,6])\n",
    "plt.xlabel('Metallicity (Z$_\\odot$)',size=35)\n",
    "plt.ylabel('Light Weighted Age (Gyrs)',size=35)\n",
    "plt.tick_params(axis='both', which='major', labelsize=25)\n",
    "plt.xticks([ 0.00475,  0.0095 ,  0.01425,  0.019  ,  0.02375,  0.0285 ],[0.25,.5,0.75,1.0,1.25,1.5])\n",
    "\n",
    "plt.subplot(gs[0])\n",
    "plt.plot(Z,PZ)\n",
    "plt.xticks([])\n",
    "plt.yticks([])\n",
    "plt.xlim(0,0.03)\n",
    "plt.ylim(0,max(PZ))\n",
    "\n",
    "plt.subplot(gs[3])\n",
    "plt.plot(Pt,t)\n",
    "plt.xticks([])\n",
    "plt.yticks([])\n",
    "plt.ylim(0,6)\n",
    "plt.xlim(0,max(Pt))\n",
    "\n",
    "# plt.show()\n",
    "plt.savefig('../plots/n21156_lh_10-17.pdf',bbox_inches = 'tight')\n",
    "plt.close()"
   ]
  },
  {
   "cell_type": "markdown",
   "metadata": {},
   "source": [
    "#Spectra and Photometry"
   ]
  },
  {
   "cell_type": "code",
   "execution_count": 71,
   "metadata": {},
   "outputs": [
    {
     "name": "stdout",
     "output_type": "stream",
     "text": [
      "../data/galaxy_flts/n21156_flt: photutils.detect_sources (detect_thresh=0.0, grow_seg=5, gauss_fwhm=2.0, ZP=0.0)\n../data/galaxy_flts/n21156_flt: photutils.source_properties\n"
     ]
    },
    {
     "name": "stdout",
     "output_type": "stream",
     "text": [
      "Rename column: ycentroid -> y_flt\nRename column: ra_icrs_centroid -> ra\nRename column: dec_icrs_centroid -> dec\nRename column: xcentroid -> x_flt\n\u001b[1A\u001b[1M../data/galaxy_flts/n21156_flt: photutils.source_properties - 1 objects\n../data/galaxy_flts/n21156_flt: save ../data/galaxy_flts/n21156_flt.detect_seg.fits, ../data/galaxy_flts/n21156_flt.detect.cat\n"
     ]
    }
   ],
   "source": [
    "###DATA \n",
    "phot_db = pd.read_pickle('../data/phot_db.pkl')\n",
    "smpDB = pd.read_pickle('../data/sim_meas_phot.pkl')\n",
    "spec = Gen_spec('n21156', 1.251)\n",
    "Clam = 3E18 / phot_db['eff_wv'] **2 * 10**((-1.1)/2.5-29)\n",
    "if max(phot_db['n21156']*1E18 * Clam) > max(spec.gal_fl*1E18):\n",
    "    ymax = max(phot_db['n21156']*1E18 * Clam)\n",
    "else:\n",
    "    ymax = max(spec.gal_fl*1E18)"
   ]
  },
  {
   "cell_type": "code",
   "execution_count": 74,
   "metadata": {},
   "outputs": [],
   "source": [
    "###PLOT\n",
    "%matplotlib inline    \n",
    "\n",
    "plt.figure(figsize=[17,6])\n",
    "plt.errorbar(spec.gal_wv,spec.gal_fl * 1E18,spec.gal_er * 1E18,fmt='o',color = 'k', ms=2,elinewidth=1,label = 'n21156, z=1.251')\n",
    "\n",
    "# plt.plot(smpDB['f850-effwv'][61], smpDB['sim-f850'][61] * 1E18,'d',color='#2B4CFF',ms=15)\n",
    "# plt.plot(smpDB['f098-effwv'][61], smpDB['sim-f098'][61] * 1E18,'d',color='#2B4CFF',ms=15)\n",
    "# plt.plot(smpDB['f105-effwv'][61], smpDB['sim-f105'][61] * 1E18,'d',color='#2B4CFF',ms=15)\n",
    "\n",
    "plt.errorbar(phot_db['eff_wv'],phot_db['n21156'] * Clam *1E18 ,phot_db['n21156_err'] * Clam *1E18,\n",
    "             phot_db['fwhm']/2 ,color='#BC344F',fmt='D',label='GOODS Photometry')\n",
    "plt.ylim(0,ymax*1.1)\n",
    "plt.xlim(5800,14000)\n",
    "plt.minorticks_on()\n",
    "plt.ylabel('F$_\\lambda$ (10$^{-18}$ erg/s/cm$^2$/$\\AA$)',size=35)\n",
    "plt.tick_params(axis='both', which='major', labelsize=25)\n",
    "plt.xlabel('Observed Frame Wavelength ($\\AA$)',size=35)\n",
    "plt.legend(loc=4,fontsize = 25)\n",
    "plt.gcf().subplots_adjust(bottom=0.235)\n",
    "plt.savefig('../plots/n21156_phot_spec.pdf',bbox_inches = 'tight')\n",
    "# plt.show()\n",
    "plt.close()"
   ]
  },
  {
   "cell_type": "code",
   "execution_count": 47,
   "metadata": {},
   "outputs": [
    {
     "name": "stdout",
     "output_type": "stream",
     "text": [
      "../data/galaxy_flts/s39170_flt: photutils.detect_sources (detect_thresh=0.0, grow_seg=5, gauss_fwhm=2.0, ZP=0.0)\n../data/galaxy_flts/s39170_flt: photutils.source_properties\n"
     ]
    },
    {
     "name": "stdout",
     "output_type": "stream",
     "text": [
      "Rename column: ycentroid -> y_flt\nRename column: ra_icrs_centroid -> ra\nRename column: dec_icrs_centroid -> dec\nRename column: xcentroid -> x_flt\n\u001b[1A\u001b[1M../data/galaxy_flts/s39170_flt: photutils.source_properties - 1 objects\n../data/galaxy_flts/s39170_flt: save ../data/galaxy_flts/s39170_flt.detect_seg.fits, ../data/galaxy_flts/s39170_flt.detect.cat\n"
     ]
    }
   ],
   "source": [
    "###DATA \n",
    "# phot_db = pd.read_pickle('../data/phot_db.pkl').drop('s_F105W')\n",
    "phot_db = pd.read_pickle('../data/phot_db.pkl')\n",
    "spec = Gen_spec('s39170', 1.022)\n",
    "Clam = 3E18 / phot_db['eff_wv'] **2 * 10**((-1.1)/2.5-29)\n",
    "if max(phot_db['s39170']*1E18 * Clam) > max(spec.gal_fl*1E18):\n",
    "    ymax = max(phot_db['s39170']*1E18 * Clam)\n",
    "else:\n",
    "    ymax = max(spec.gal_fl*1E18)"
   ]
  },
  {
   "cell_type": "code",
   "execution_count": 75,
   "metadata": {},
   "outputs": [],
   "source": [
    "###PLOT\n",
    "%matplotlib inline    \n",
    "\n",
    "plt.figure(figsize=[17,6])\n",
    "plt.errorbar(spec.gal_wv,spec.gal_fl * 1E18,spec.gal_er * 1E18 * 1.07,fmt='o',color = 'k', ms=2,elinewidth=1,label = 's39170, z=1.022')\n",
    "\n",
    "# plt.plot(smpDB['f850-effwv'][220], smpDB['sim-f850'][220] * 1E18 * 1.07,'d',color='#2B4CFF',ms=15)\n",
    "# plt.plot(smpDB['f098-effwv'][220], smpDB['sim-f098'][220] * 1E18 * 1.07,'d',color='#2B4CFF',ms=15)\n",
    "# plt.plot(smpDB['f105-effwv'][220], smpDB['sim-f105'][220] * 1E18 * 1.07,'d',color='#2B4CFF',ms=15)\n",
    "\n",
    "plt.errorbar(phot_db['eff_wv'],phot_db['s39170'] * Clam *1E18 ,phot_db['s39170_err'] * Clam *1E18,\n",
    "             phot_db['fwhm']/2 ,color='#BC344F',fmt='D',zorder=5,label='GOODS Photometry')\n",
    "plt.ylim(0,ymax*1.1)\n",
    "plt.xlim(5800,14000)\n",
    "plt.minorticks_on()\n",
    "plt.ylabel('F$_\\lambda$ (10$^{-18}$ erg/s/cm$^2$/$\\AA$)',size=35)\n",
    "plt.tick_params(axis='both', which='major', labelsize=25)\n",
    "plt.xlabel('Observed Frame Wavelength ($\\AA$)',size=35)\n",
    "plt.legend(loc=4,fontsize = 25)\n",
    "plt.gcf().subplots_adjust(bottom=0.235)\n",
    "plt.savefig('../plots/S39170_phot_spec.pdf',bbox_inches = 'tight')\n",
    "# plt.show()\n",
    "plt.close()"
   ]
  },
  {
   "cell_type": "code",
   "execution_count": 10,
   "metadata": {},
   "outputs": [
    {
     "name": "stdout",
     "output_type": "stream",
     "text": [
      "../data/galaxy_flts/s41659_flt: photutils.detect_sources (detect_thresh=0.0, grow_seg=5, gauss_fwhm=2.0, ZP=0.0)\n"
     ]
    },
    {
     "name": "stdout",
     "output_type": "stream",
     "text": [
      "../data/galaxy_flts/s41659_flt: photutils.source_properties\n"
     ]
    },
    {
     "name": "stdout",
     "output_type": "stream",
     "text": [
      "Rename column: ycentroid -> y_flt\nRename column: ra_icrs_centroid -> ra\nRename column: dec_icrs_centroid -> dec\nRename column: xcentroid -> x_flt\n\u001b[1A\u001b[1M../data/galaxy_flts/s41659_flt: photutils.source_properties - 2 objects\n../data/galaxy_flts/s41659_flt: save ../data/galaxy_flts/s41659_flt.detect_seg.fits, ../data/galaxy_flts/s41659_flt.detect.cat\n"
     ]
    }
   ],
   "source": [
    "###DATA \n",
    "phot_db = pd.read_pickle('../data/phot_db.pkl')\n",
    "smpDB = pd.read_pickle('../data/sim_meas_phot.pkl')\n",
    "spec = Gen_spec(galDB['gids'][236], galDB['hi_res_specz'][236])\n",
    "Clam = 3E18 / phot_db['eff_wv'] **2 * 10**((-1.1)/2.5-29)\n",
    "if max(phot_db[galDB['gids'][236]]*1E18 * Clam) > max(spec.gal_fl*1E18):\n",
    "    ymax = max(phot_db[galDB['gids'][236]]*1E18 * Clam)\n",
    "else:\n",
    "    ymax = max(spec.gal_fl*1E18)"
   ]
  },
  {
   "cell_type": "code",
   "execution_count": 12,
   "metadata": {},
   "outputs": [
    {
     "data": {
      "image/png": "[encoded data removed]",
      "text/plain": [
       "<matplotlib.figure.Figure at 0x11d71fc50>"
      ]
     },
     "metadata": {},
     "output_type": "display_data"
    }
   ],
   "source": [
    "###PLOT\n",
    "%matplotlib inline    \n",
    "\n",
    "plt.figure(figsize=[17,6])\n",
    "plt.errorbar(spec.gal_wv,spec.gal_fl * 1E18,spec.gal_er * 1E18,fmt='o',color = 'k', ms=2,elinewidth=1,label = 's39170, z=1.022')\n",
    "\n",
    "plt.plot(smpDB['f850-effwv'][236], smpDB['sim-f850'][236] * 1E18,'d',color='#2B4CFF',ms=15)\n",
    "plt.plot(smpDB['f098-effwv'][236], smpDB['sim-f098'][236] * 1E18,'d',color='#2B4CFF',ms=15)\n",
    "plt.plot(smpDB['f105-effwv'][236], smpDB['sim-f105'][236] * 1E18,'d',color='#2B4CFF',ms=15)\n",
    "\n",
    "plt.errorbar(phot_db['eff_wv'],phot_db[galDB['gids'][236]] * Clam *1E18 ,phot_db[galDB['gids'][236] + '_err'] * Clam *1E18,\n",
    "             phot_db['fwhm']/2 ,color='#BC344F',fmt='D',zorder=5,label='GOODS Photometry')\n",
    "plt.ylim(0,0.5)\n",
    "plt.xlim(5800,14000)\n",
    "plt.minorticks_on()\n",
    "plt.ylabel('F$_\\lambda$ (10$^{-18}$ erg/s/cm$^2$/$\\AA$)',size=35)\n",
    "plt.tick_params(axis='both', which='major', labelsize=25)\n",
    "plt.xlabel('Observed Frame Wavelength ($\\AA$)',size=35)\n",
    "plt.legend(loc=4,fontsize = 25)\n",
    "plt.gcf().subplots_adjust(bottom=0.235)\n",
    "plt.show()\n",
    "plt.close()"
   ]
  },
  {
   "cell_type": "markdown",
   "metadata": {},
   "source": [
    "#Age Vs Redshift - 3 feat groups"
   ]
  },
  {
   "cell_type": "code",
   "execution_count": 38,
   "metadata": {},
   "outputs": [],
   "source": [
    "\"\"\"DATA\"\"\"\n",
    "\n",
    "age_range = np.arange(0,3,0.05)\n",
    "lzDB = galDB.query('hi_res_specz < 1.16')\n",
    "mzDB = galDB.query('1.16 < hi_res_specz < 1.3')\n",
    "mzDB = mzDB.query('ids != 14713 and ids != 38126')\n",
    "hzDB = galDB.query('1.3 < hi_res_specz < 1.45')\n",
    "uhzDB = galDB.query('1.45 < hi_res_specz')\n",
    "gmtlDB = galDB.query('ids != 14713 and ids != 38126')\n",
    "\n",
    "Pl_grid,Pm_grid,Ph_grid,Puh_grid = [[],[],[],[]]\n",
    "for i in lzDB.index:\n",
    "    x,Px = np.load('../chidat/%s_dtau_t_pos_lwa.npy' % lzDB['gids'][i])\n",
    "    Pl_grid.append(Px)\n",
    " \n",
    "for i in mzDB.index:\n",
    "    x,Px = np.load('../chidat/%s_dtau_t_pos_lwa.npy' % mzDB['gids'][i])\n",
    "    Pm_grid.append(Px)\n",
    "\n",
    "for i in hzDB.index:\n",
    "    x,Px = np.load('../chidat/%s_dtau_t_pos_lwa.npy' % hzDB['gids'][i])\n",
    "    Ph_grid.append(Px)\n",
    "\n",
    "for i in uhzDB.index:\n",
    "    x,Px = np.load('../chidat/%s_dtau_t_pos_lwa.npy' % uhzDB['gids'][i])\n",
    "    Puh_grid.append(Px)\n",
    "\n",
    "Pl_grid = np.array(Pl_grid)\n",
    "Pm_grid = np.array(Pm_grid)\n",
    "Ph_grid = np.array(Ph_grid)\n",
    "Puh_grid = np.array(Puh_grid)\n",
    "\n",
    "W = Leave_one_out(Pl_grid,age)\n",
    "top = np.zeros(Pl_grid.shape)\n",
    "for i in range(W.size):\n",
    "    top[i] = W[i] * Pl_grid[i]\n",
    "Pl =sum(top)/sum(W)\n",
    "Pl /= np.trapz(Pl,age)\n",
    "\n",
    "W = Leave_one_out(Pm_grid,age)\n",
    "top = np.zeros(Pm_grid.shape)\n",
    "for i in range(W.size):\n",
    "    top[i] = W[i] * Pm_grid[i]\n",
    "Pm =sum(top)/sum(W)\n",
    "Pm /= np.trapz(Pm,age)\n",
    "\n",
    "W = Leave_one_out(Ph_grid,age)\n",
    "top = np.zeros(Ph_grid.shape)\n",
    "for i in range(W.size):\n",
    "    top[i] = W[i] * Ph_grid[i]\n",
    "Ph =sum(top)/sum(W)\n",
    "Ph /= np.trapz(Ph,age)\n",
    "\n",
    "W = Leave_one_out(Puh_grid,age)\n",
    "top = np.zeros(Puh_grid.shape)\n",
    "for i in range(W.size):\n",
    "    top[i] = W[i] * Puh_grid[i]\n",
    "Puh =sum(top)/sum(W)\n",
    "Puh /= np.trapz(Puh,age)\n",
    "\n",
    "lmed,ller,lher=Median_w_Error_cont(Pl,age)\n",
    "mmed,mler,mher=Median_w_Error_cont(Pm,age)\n",
    "hmed,hler,hher=Median_w_Error_cont(Ph,age)\n",
    "uhmed,uhler,uhher=Median_w_Error_cont(Puh,age)\n",
    "\n",
    "lt=np.array(lzDB['tx_lwa'])\n",
    "mt=np.array(mzDB['tx_lwa'])\n",
    "ht=np.array(hzDB['tx_lwa'])\n",
    "uht=np.array(uhzDB['tx_lwa'])\n",
    "gmtlt=np.array(gmtlDB['tx_lwa'])\n",
    "\n",
    "fumx,fumy=Readfile('../data/fumagalli_fig14.dat',0)\n",
    "d,fverr=Readfile('../data/fumagalli_fig14_verr.dat',0)\n",
    "fherr,d=Readfile('../data/fumagalli_fig14_herr.dat',0)\n",
    "\n",
    "verr=np.zeros(len(fverr))\n",
    "herr=np.zeros(len(fherr))\n",
    "for i in range(len(verr)):\n",
    "    verr[i]=np.abs(fverr[i]-fumy[i])\n",
    "    herr[i]=np.abs(fherr[i]-fumx[i])"
   ]
  },
  {
   "cell_type": "code",
   "execution_count": 32,
   "metadata": {},
   "outputs": [],
   "source": [
    "###PLOT\n",
    "%matplotlib inline\n",
    "\n",
    "z=np.linspace(0,2,100)\n",
    "ages=[Oldest_galaxy(a) for a in z]\n",
    "\n",
    "plt.figure(figsize=[12,8])\n",
    "currentAxis = plt.gca()\n",
    "plt.plot(z,ages,'k--',alpha=.5)\n",
    "\n",
    "# plt.errorbar(fumx[0:3],fumy[0:3],xerr=herr[0:3],yerr=verr[0:3]\n",
    "#              ,color=sea.color_palette('muted')[0],zorder=1,fmt='o',alpha=.5,ms=1,label='Fumagalli+16 BC03')\n",
    "# plt.errorbar(fumx[3:6],fumy[3:6],xerr=herr[3:6],yerr=verr[3:6]\n",
    "#              ,color=sea.color_palette('muted')[2],zorder=2,fmt='o',alpha=.5,ms=1,label='Fumagalli+16 FSPS10')\n",
    "plt.errorbar(fumx[6:9],fumy[6:9],xerr=herr[6:9],yerr=verr[6:9]\n",
    "             ,color=sea.color_palette('muted')[4],zorder=3,fmt='o',alpha=.5,ms=1,label='Fumagalli+16')\n",
    "plt.plot(fumx[9],fumy[9],'k^',label='Mendel+15')\n",
    "plt.plot(fumx[10:14],fumy[10:14],'kp',label='Choi+14')\n",
    "plt.plot(fumx[14],fumy[14],'kd',label='Gallazzi+14')\n",
    "plt.plot(fumx[15],fumy[15],'k*',label='Whitaker+13')\n",
    "\n",
    "plt.errorbar(lzDB['hi_res_specz'],lt,yerr=[lzDB['tx_-_sig_lwa'],lzDB['tx_+_sig_lwa']],color='#e41a1c',alpha=.4,ms=4,fmt='o')\n",
    "plt.errorbar(mzDB['hi_res_specz'],mt,yerr=[mzDB['tx_-_sig_lwa'],mzDB['tx_+_sig_lwa']],color='#377eb8',alpha=.4,ms=4,fmt='o')\n",
    "plt.errorbar(hzDB['hi_res_specz'],ht,yerr=[hzDB['tx_-_sig_lwa'],hzDB['tx_+_sig_lwa']],color='#4daf4a',alpha=.4,ms=4,fmt='o')\n",
    "plt.errorbar(uhzDB['hi_res_specz'],uht,yerr=[uhzDB['tx_-_sig_lwa'],uhzDB['tx_+_sig_lwa']],color='#984ea3',alpha=.4,ms=4,fmt='o')\n",
    "\n",
    "plt.errorbar(np.median(lzDB['hi_res_specz']),lmed,yerr=[[ller,lher]], color='#e41a1c',ms=11,fmt='o',label='z~1.1')\n",
    "plt.errorbar(np.median(mzDB['hi_res_specz']),mmed,yerr=[[mler,mher]], color='#377eb8',ms=11,fmt='D',label='z~1.2')\n",
    "plt.errorbar(np.median(hzDB['hi_res_specz']),hmed,yerr=[[hler,hher]], color='#4daf4a',ms=11,fmt='s',label='z~1.3')\n",
    "plt.errorbar(np.median(uhzDB['hi_res_specz']),uhmed,yerr=[[uhler,uhher]], color='#984ea3',ms=11,fmt='^',label='z~1.6')\n",
    "\n",
    "plt.axis([0.,2.0,0,7])\n",
    "# plt.axis([0.9,1.8,0,7])\n",
    "plt.xlabel('Redshift (z)',size=30)\n",
    "plt.ylabel('Age (Gyrs)',size=30)\n",
    "plt.tick_params(axis='both', which='major', labelsize=23)\n",
    "plt.minorticks_on()\n",
    "plt.text(1.3,4.9,'Age of the Universe',rotation=-22,fontsize=22)\n",
    "plt.gcf().subplots_adjust(bottom=0.16)\n",
    "plt.legend(fontsize=15)\n",
    "# plt.show()\n",
    "plt.savefig('../plots/agevz_featgroup_all_dt_11-5.pdf',bbox_inches = 'tight')\n",
    "plt.close()"
   ]
  },
  {
   "cell_type": "code",
   "execution_count": 39,
   "metadata": {},
   "outputs": [
    {
     "data": {
      "image/png": "[encoded data removed]",
      "text/plain": [
       "<matplotlib.figure.Figure at 0x11075bb50>"
      ]
     },
     "metadata": {},
     "output_type": "display_data"
    }
   ],
   "source": [
    "###PLOT\n",
    "%matplotlib inline\n",
    "\n",
    "z=np.linspace(0,2,100)\n",
    "ages=[Oldest_galaxy(a) for a in z]\n",
    "\n",
    "plt.figure(figsize=[12,8])\n",
    "currentAxis = plt.gca()\n",
    "\n",
    "plt.errorbar(fumx[6:9],Oldest_galaxy(fumx[6:9]) - fumy[6:9],xerr=herr[6:9],yerr=verr[6:9]\n",
    "             ,color=sea.color_palette('muted')[4],zorder=3,fmt='o',alpha=.5,ms=1,label='Fumagalli+16')\n",
    "plt.plot(fumx[9], Oldest_galaxy(fumx[9]) - fumy[9],'k^',label='Mendel+15')\n",
    "plt.plot(fumx[10:14],Oldest_galaxy(fumx[10:14]) - fumy[10:14],'kp',label='Choi+14')\n",
    "plt.plot(fumx[14],Oldest_galaxy(fumx[14]) - fumy[14],'kd',label='Gallazzi+14')\n",
    "plt.plot(fumx[15],Oldest_galaxy(fumx[15]) - fumy[15],'k*',label='Whitaker+13')\n",
    "\n",
    "plt.errorbar(lzDB['hi_res_specz'], Oldest_galaxy(lzDB['hi_res_specz']) - lt,\n",
    "             yerr=[lzDB['tx_-_sig_lwa'],lzDB['tx_+_sig_lwa']],color='#e41a1c',alpha=.4,ms=4,fmt='o')\n",
    "plt.errorbar(mzDB['hi_res_specz'],Oldest_galaxy(mzDB['hi_res_specz']) - mt,\n",
    "             yerr=[mzDB['tx_-_sig_lwa'],mzDB['tx_+_sig_lwa']],color='#377eb8',alpha=.4,ms=4,fmt='o')\n",
    "plt.errorbar(hzDB['hi_res_specz'],Oldest_galaxy(hzDB['hi_res_specz']) - ht,\n",
    "             yerr=[hzDB['tx_-_sig_lwa'],hzDB['tx_+_sig_lwa']],color='#4daf4a',alpha=.4,ms=4,fmt='o')\n",
    "plt.errorbar(uhzDB['hi_res_specz'],Oldest_galaxy(uhzDB['hi_res_specz']) - uht,\n",
    "             yerr=[uhzDB['tx_-_sig_lwa'],uhzDB['tx_+_sig_lwa']],color='#984ea3',alpha=.4,ms=4,fmt='o')\n",
    "\n",
    "plt.errorbar(np.median(lzDB['hi_res_specz']), Oldest_galaxy(np.median(lzDB['hi_res_specz'])) - lmed,\n",
    "             yerr=[[ller,lher]], color='#e41a1c',ms=11,fmt='o',label='z~1.1')\n",
    "plt.errorbar(np.median(mzDB['hi_res_specz']), Oldest_galaxy(np.median(mzDB['hi_res_specz'])) - mmed,\n",
    "             yerr=[[mler,mher]], color='#377eb8',ms=11,fmt='D',label='z~1.2')\n",
    "plt.errorbar(np.median(hzDB['hi_res_specz']), Oldest_galaxy(np.median(hzDB['hi_res_specz'])) - hmed,\n",
    "             yerr=[[hler,hher]], color='#4daf4a',ms=11,fmt='s',label='z~1.3')\n",
    "plt.errorbar(np.median(uhzDB['hi_res_specz']), Oldest_galaxy(np.median(uhzDB['hi_res_specz'])) - uhmed,\n",
    "             yerr=[[uhler,uhher]], color='#984ea3',ms=11,fmt='^',label='z~1.6')\n",
    "\n",
    "plt.xlabel('Redshift (z)',size=30)\n",
    "plt.ylabel('Redshift of Quiescence (z)',size=30)\n",
    "plt.yticks([0.6389,0.76245,0.9315,1.1735,1.5413,2.1489,3.2845,4.278],[8,7,6,5,4,3,2,1.5])\n",
    "plt.tick_params(axis='both', which='major', labelsize=23)\n",
    "plt.minorticks_on()\n",
    "plt.gcf().subplots_adjust(bottom=0.16)\n",
    "# plt.legend(fontsize=23)\n",
    "plt.legend(loc=3,fontsize=15)\n",
    "plt.show()\n",
    "# plt.savefig('../plots/agevz_rshift_all_dt_11-5.pdf',bbox_inches = 'tight')\n",
    "plt.close()"
   ]
  },
  {
   "cell_type": "code",
   "execution_count": 62,
   "metadata": {
    "collapsed": true
   },
   "outputs": [],
   "source": [
    "newage_set = np.arange(0,6.05,.05)\n",
    "RQage_grid = np.zeros([len(gmtlDB.index),newage_set.size])\n",
    "for i in range(len(gmtlDB.index)):\n",
    "    x,Px = np.load('../chidat/%s_dtau_t_pos_lwa.npy' % gmtlDB['gids'][gmtlDB.index[i]])\n",
    "    RQage = (Oldest_galaxy(gmtlDB['hi_res_specz'][gmtlDB.index[i]]) - x)\n",
    "    iPx = interp1d(RQage,Px)\n",
    "    for ii in range(newage_set.size):\n",
    "        if newage_set[ii] > min(RQage) and newage_set[ii] < max(RQage):\n",
    "            RQage_grid[i][ii] = iPx(newage_set[ii])\n",
    "\n",
    "\n",
    "\n",
    "W = Leave_one_out(RQage_grid,newage_set)\n",
    "top = np.zeros(RQage_grid.shape)\n",
    "for i in range(W.size):\n",
    "    top[i] = W[i] * RQage_grid[i]\n",
    "Pall =sum(top)/sum(W)\n",
    "Pall /= np.trapz(Pall,newage_set)\n",
    "\n",
    "allmed,alller,allher=Median_w_Error_cont(Pall,newage_set)"
   ]
  },
  {
   "cell_type": "code",
   "execution_count": 64,
   "metadata": {},
   "outputs": [
    {
     "name": "stdout",
     "output_type": "stream",
     "text": [
      "2.33266533066\n"
     ]
    },
    {
     "data": {
      "image/png": "[encoded data removed]",
      "text/plain": [
       "<matplotlib.figure.Figure at 0x116fdc3d0>"
      ]
     },
     "metadata": {},
     "output_type": "display_data"
    }
   ],
   "source": [
    "plt.figure(figsize=[8,8])\n",
    "plt.plot(newage_set,Pall)\n",
    "\n",
    "print allmed"
   ]
  },
  {
   "cell_type": "code",
   "execution_count": null,
   "metadata": {},
   "outputs": [],
   "source": [
    "###PLOT\n",
    "%matplotlib inline\n",
    "\n",
    "z=np.linspace(0,2,100)\n",
    "ages=[Oldest_galaxy(a) for a in z]\n",
    "\n",
    "plt.figure(figsize=[12,8])\n",
    "currentAxis = plt.gca()\n",
    "\n",
    "plt.errorbar(lzDB['hi_res_specz'], Oldest_galaxy(lzDB['hi_res_specz']) - lt,\n",
    "             yerr=[lzDB['tx_-_sig_dt'],lzDB['tx_+_sig_dt']],color='#e41a1c',alpha=.4,ms=4,fmt='o')\n",
    "plt.errorbar(mzDB['hi_res_specz'],Oldest_galaxy(mzDB['hi_res_specz']) - mt,\n",
    "             yerr=[mzDB['tx_-_sig_dt'],mzDB['tx_+_sig_dt']],color='#377eb8',alpha=.4,ms=4,fmt='o')\n",
    "plt.errorbar(hzDB['hi_res_specz'],Oldest_galaxy(hzDB['hi_res_specz']) - ht,\n",
    "             yerr=[hzDB['tx_-_sig_dt'],hzDB['tx_+_sig_dt']],color='#4daf4a',alpha=.4,ms=4,fmt='o')\n",
    "plt.errorbar(uhzDB['hi_res_specz'],Oldest_galaxy(uhzDB['hi_res_specz']) - uht,\n",
    "             yerr=[uhzDB['tx_-_sig_dt'],uhzDB['tx_+_sig_dt']],color='#984ea3',alpha=.4,ms=4,fmt='o')\n",
    "\n",
    "plt.errorbar(np.median(lzDB['hi_res_specz']), Oldest_galaxy(np.median(lzDB['hi_res_specz'])) - lmed,\n",
    "             yerr=[[ller,lher]], color='#e41a1c',ms=11,fmt='o',label='z~1.1')\n",
    "plt.errorbar(np.median(mzDB['hi_res_specz']), Oldest_galaxy(np.median(mzDB['hi_res_specz'])) - mmed,\n",
    "             yerr=[[mler,mher]], color='#377eb8',ms=11,fmt='D',label='z~1.2')\n",
    "plt.errorbar(np.median(hzDB['hi_res_specz']), Oldest_galaxy(np.median(hzDB['hi_res_specz'])) - hmed,\n",
    "             yerr=[[hler,hher]], color='#4daf4a',ms=11,fmt='s',label='z~1.3')\n",
    "plt.errorbar(np.median(uhzDB['hi_res_specz']), Oldest_galaxy(np.median(uhzDB['hi_res_specz'])) - uhmed,\n",
    "             yerr=[[uhler,uhher]], color='#984ea3',ms=11,fmt='^',label='z~1.6')\n",
    "\n",
    "# plt.axis([0.9,1.7,0,7])\n",
    "plt.xlabel('Redshift (z)',size=30)\n",
    "plt.ylabel('Redshift of Quiescence (z)',size=30)\n",
    "plt.yticks([0.6389,0.76245,0.9315,1.1735,1.5413,2.1489,3.2845,4.278],[8,7,6,5,4,3,2,1.5])\n",
    "plt.tick_params(axis='both', which='major', labelsize=17)\n",
    "plt.minorticks_on()\n",
    "plt.gcf().subplots_adjust(bottom=0.16)\n",
    "plt.legend(loc=4,fontsize=23)\n",
    "# plt.show()\n",
    "plt.savefig('../plots/delta_age_featgroup_dt_9-4.pdf')\n",
    "plt.close()"
   ]
  },
  {
   "cell_type": "code",
   "execution_count": 66,
   "metadata": {},
   "outputs": [
    {
     "name": "stdout",
     "output_type": "stream",
     "text": [
      "2.31877032992 Gyr\n"
     ]
    }
   ],
   "source": [
    "# [0.6389,0.76245,0.9315,1.1735,1.5413,2.1489,3.2845,4.278],[8,7,6,5,4,3,2,1.5]\n",
    "\n",
    "print  Oldest_galaxy(0) * u.Gyr -Planck13.lookback_time(2.8)"
   ]
  },
  {
   "cell_type": "markdown",
   "metadata": {},
   "source": [
    "#Mass Metallcity - feat group"
   ]
  },
  {
   "cell_type": "code",
   "execution_count": 31,
   "metadata": {},
   "outputs": [],
   "source": [
    "\"\"\"DATA\"\"\"\n",
    "def Bootstrap_errors(data_list):\n",
    "    its = 1000\n",
    "    bs_medians = np.zeros(its)\n",
    "    for i in range(its):\n",
    "        new_sample = np.random.choice(data_list,len(data_list),replace=True)\n",
    "        bs_medians[i] = np.median(new_sample)\n",
    "    return np.std(bs_medians)\n",
    "\n",
    "def Bootstrap_errors_lfit(masses,metals,ers,sampling=np.arange(10,11.75,.01),its=1000):\n",
    "    l_grid = np.zeros([its,len(sampling)])\n",
    "    IDs = np.arange(len(masses))\n",
    "    for i in range(its):\n",
    "        IDn = np.random.choice(IDs,len(IDs),replace=True)\n",
    "        lvals = np.polyfit(masses[IDn],np.log10(metals[IDn]/.019),1,w = 1/ers[IDn]**2)\n",
    "        lfit = np.polyval(lvals,sampling)\n",
    "        l_grid[i] = lfit\n",
    "        \n",
    "    m_fit = np.mean(l_grid,axis=0)\n",
    "    low_ers = np.zeros(len(samp))\n",
    "    hi_ers = np.zeros(len(samp))\n",
    "    \n",
    "    for i in range(len(l_grid.T)):\n",
    "        low_ers[i] = np.sort(l_grid.T[i])[150]\n",
    "        hi_ers[i] = np.sort(l_grid.T[i])[830]\n",
    "    return low_ers,hi_ers, m_fit\n",
    "\n",
    "lzDB = galDB.query('hi_res_specz < 1.16')\n",
    "mzDB = galDB.query('1.16 < hi_res_specz < 1.3')\n",
    "mzDB = mzDB.query('ids != 14713 and ids != 38126')\n",
    "hzDB = galDB.query('1.3 < hi_res_specz < 1.45')\n",
    "uhzDB = galDB.query('1.45 < hi_res_specz')\n",
    "gmtlDB = galDB.query('1.45 > hi_res_specz')\n",
    "gmtlDB = gmtlDB.query('ids != 14713 and ids != 38126')\n",
    "\n",
    "Pl_grid,Pm_grid,Ph_grid,Puh_grid = [[],[],[],[]]\n",
    "for i in lzDB.index:\n",
    "    x,Px = np.load('../chidat/%s_dtau_Z_pos_lwa.npy' % lzDB['gids'][i])\n",
    "    Pl_grid.append(Px)\n",
    " \n",
    "for i in mzDB.index:\n",
    "    x,Px = np.load('../chidat/%s_dtau_Z_pos_lwa.npy' % mzDB['gids'][i])\n",
    "    Pm_grid.append(Px)\n",
    "\n",
    "for i in hzDB.index:\n",
    "    x,Px = np.load('../chidat/%s_dtau_Z_pos_lwa.npy' % hzDB['gids'][i])\n",
    "    Ph_grid.append(Px)\n",
    "\n",
    "for i in uhzDB.index:\n",
    "    x,Px = np.load('../chidat/%s_dtau_Z_pos_lwa.npy' % uhzDB['gids'][i])\n",
    "    Puh_grid.append(Px)\n",
    "\n",
    "Pl_grid = np.array(Pl_grid)\n",
    "Pm_grid = np.array(Pm_grid)\n",
    "Ph_grid = np.array(Ph_grid)\n",
    "Puh_grid = np.array(Puh_grid)\n",
    "\n",
    "W = Leave_one_out(Pl_grid,metal)\n",
    "top = np.zeros(Pl_grid.shape)\n",
    "for i in range(W.size):\n",
    "    top[i] = W[i] * Pl_grid[i]\n",
    "Pl =sum(top)/sum(W)\n",
    "Pl /= np.trapz(Pl,metal)\n",
    "\n",
    "W = Leave_one_out(Pm_grid,metal)\n",
    "top = np.zeros(Pm_grid.shape)\n",
    "for i in range(W.size):\n",
    "    top[i] = W[i] * Pm_grid[i]\n",
    "Pm =sum(top)/sum(W)\n",
    "Pm /= np.trapz(Pm,metal)\n",
    "\n",
    "W = Leave_one_out(Ph_grid,metal)\n",
    "top = np.zeros(Ph_grid.shape)\n",
    "for i in range(W.size):\n",
    "    \n",
    "    top[i] = W[i] * Ph_grid[i]\n",
    "Ph =sum(top)/sum(W)\n",
    "Ph /= np.trapz(Ph,metal)\n",
    "\n",
    "W = Leave_one_out(Puh_grid,metal)\n",
    "top = np.zeros(Puh_grid.shape)\n",
    "for i in range(W.size):\n",
    "    top[i] = W[i] * Puh_grid[i]\n",
    "Puh =sum(top)/sum(W)\n",
    "Puh /= np.trapz(Puh,metal)\n",
    "\n",
    "lmed,ller,lher=Median_w_Error_cont(Pl,metal)\n",
    "mmed,mler,mher=Median_w_Error_cont(Pm,metal)\n",
    "hmed,hler,hher=Median_w_Error_cont(Ph,metal)\n",
    "uhmed,uhler,uhher=Median_w_Error_cont(Puh,metal)\n",
    "\n",
    "logm,gmetal=Readfile('../data/Gallazzi_12.dat',0)\n",
    "cvx,cvy=Readfile('../data/Gallazzi_12_line.dat',0)\n",
    "cv1x,cv1y=Readfile('../data/gallazzi_points_curve1.dat',0)\n",
    "\n",
    "lZ=np.array(lzDB['Zx_lwa'])\n",
    "mZ=np.array(mzDB['Zx_lwa'])\n",
    "hZ=np.array(hzDB['Zx_lwa'])\n",
    "uhZ=np.array(uhzDB['Zx_lwa'])\n",
    "gmtlZ=np.array(gmtlDB['Zx_lwa'])\n",
    "\n",
    "lerrs = gmtlDB['Zx_-_sig_lwa']/(gmtlDB['Zx_lwa'] * np.log(10))\n",
    "herrs = gmtlDB['Zx_+_sig_lwa']/(gmtlDB['Zx_lwa'] * np.log(10))\n",
    "errs = (gmtlDB['Zx_-_sig_lwa'] + gmtlDB['Zx_+_sig_lwa']/2) / (gmtlDB['Zx_lwa'] * np.log(10))\n",
    "\n",
    "samp = np.arange(10,11.75,.01)\n",
    "low_ers,hi_ers,m_fit = Bootstrap_errors_lfit(gmtlDB['lmass'].values,gmtlZ,errs.values,sampling=samp)"
   ]
  },
  {
   "cell_type": "code",
   "execution_count": 34,
   "metadata": {},
   "outputs": [],
   "source": [
    "###PLOT\n",
    "%matplotlib inline\n",
    "\n",
    "plt.figure(figsize=[12,8])\n",
    "currentAxis = plt.gca()\n",
    "\n",
    "####gallazzi points\n",
    "plt.plot(cv1x,cv1y,'--',zorder=1,color='k',alpha=.3,markersize=4)\n",
    "sdss=plt.axhline(y=5,linestyle='--',color='k',alpha=.5)\n",
    "plt.plot(cvx,cvy,zorder=2,linestyle='-.',color='k',alpha=.3,ms=4)\n",
    "galbf=plt.axhline(y=5,linestyle='-.',color='k',alpha=.5)\n",
    "plt.plot(logm,gmetal,'o',zorder=3,color='k',alpha=.3,markersize=4)\n",
    "galpts = plt.scatter(100,100,marker='o',zorder=3,color='k',alpha=.3)#,label='Gallazzi+14,z=0.7')\n",
    "legend1 = plt.legend([sdss,galbf,galpts],['SDSS','Gallazzi+14 best fit line','Gallazzi+14,z=0.7'],loc = 4,fontsize=17)\n",
    "currentAxis.add_artist(legend1)\n",
    "#####single galaxy points\n",
    "\n",
    "#'#e41a1c' '#377eb8' '#4daf4a' '#984ea3'\n",
    "\n",
    "\n",
    "plt.errorbar(lzDB['lmass'],np.log10(lZ/0.019), yerr=[lzDB['Zx_-_sig_dt']/(lzDB['Zx_dt'] * np.log(10)),lzDB['Zx_+_sig_dt']/(lzDB['Zx_dt'] * np.log(10))]\n",
    "             ,color='#e41a1c',alpha=.4,ms=4,fmt='o')\n",
    "plt.errorbar(mzDB['lmass'],np.log10(mZ/0.019), yerr=[mzDB['Zx_-_sig_dt']/(mzDB['Zx_dt'] * np.log(10)),mzDB['Zx_+_sig_dt']/(mzDB['Zx_dt'] * np.log(10))]\n",
    "             ,color='#377eb8',alpha=.4,ms=4,fmt='o')\n",
    "plt.errorbar(hzDB['lmass'],np.log10(hZ/0.019), yerr=[hzDB['Zx_-_sig_dt']/(hzDB['Zx_dt'] * np.log(10)),hzDB['Zx_+_sig_dt']/(hzDB['Zx_dt'] * np.log(10))]\n",
    "             ,color='#4daf4a',alpha=.4,ms=4,fmt='o')\n",
    "plt.errorbar(uhzDB['lmass'],np.log10(uhZ/0.019), yerr=[uhzDB['Zx_-_sig_dt']/(uhzDB['Zx_dt'] * np.log(10)),uhzDB['Zx_+_sig_dt']/(uhzDB['Zx_dt'] * np.log(10))]\n",
    "             ,color='#984ea3',alpha=.4,ms=4,fmt='o')\n",
    "\n",
    "\n",
    "plt.plot(samp,m_fit,'k',linewidth=2,label ='Best Fit Line')\n",
    "plt.fill_between(samp,low_ers,hi_ers,alpha = .2,label = '68% Conifidence Interval')\n",
    "\n",
    "plt.errorbar(np.median(lzDB['lmass']),np.log10(lmed/0.019), yerr=[[ller/(lmed * np.log(10))],[lher/(lmed * np.log(10))]],\n",
    "             color='#e41a1c',ms=11,fmt='o',label='z~1.1')\n",
    "plt.errorbar(np.median(mzDB['lmass']),np.log10(mmed/0.019),  yerr=[[mler/(mmed * np.log(10))],[mher/(mmed * np.log(10))]],\n",
    "             color='#377eb8',ms=11,fmt='D',label='z~1.2')\n",
    "plt.errorbar(np.median(hzDB['lmass']),np.log10(hmed/0.019),  yerr=[[hler/(hmed * np.log(10))],[hher/(hmed * np.log(10))]],\n",
    "             color='#4daf4a',ms=11,fmt='s',label='z~1.3')\n",
    "plt.errorbar(np.median(uhzDB['lmass']),np.log10(uhmed/0.019), yerr=[[uhler/(uhmed * np.log(10))],[uhher/(uhmed * np.log(10))]],\n",
    "             color='#984ea3',ms=11,fmt='^',label='z~1.6')\n",
    "\n",
    "\n",
    "plt.xlabel('log(M/M$_\\odot$)',size=30)\n",
    "plt.ylabel('log(Z/Z$_\\odot$)',size=30)\n",
    "plt.axis([10,11.8,-1.5,.5])\n",
    "plt.tick_params(axis='both', which='major', labelsize=23)\n",
    "plt.minorticks_on()\n",
    "\n",
    "plt.gcf().subplots_adjust(bottom=0.16)\n",
    "plt.legend(fontsize=17)\n",
    "# plt.show()\n",
    "plt.savefig('../plots/metalmass_featgroup_10-17.pdf',bbox_inches = 'tight')\n",
    "plt.close()"
   ]
  },
  {
   "cell_type": "code",
   "execution_count": null,
   "metadata": {
    "collapsed": true
   },
   "outputs": [],
   "source": [
    "###PLOT\n",
    "%matplotlib inline\n",
    "gs = gridspec.GridSpec(2,2,hspace=0.12,wspace=0.05)\n",
    "plt.figure(figsize=[16,10])\n",
    "#'#e41a1c' '#377eb8' '#4daf4a' '#984ea3'\n",
    "#### low z\n",
    "ax1 = plt.subplot(gs[0,0])\n",
    "plt.plot(cv1x,cv1y,'--',zorder=1,color='k',alpha=.6,markersize=4)\n",
    "plt.plot(cvx,cvy,zorder=2,color='k',alpha=.6,ms=4)\n",
    "plt.plot(logm,gmetal,'o',zorder=3,color='k',alpha=.8,markersize=4)\n",
    "plt.errorbar(lzDB['lmass'],np.log10(lZ/0.019), yerr=np.log10([(lzDB['Zx_f']/(lzDB['Zx_f']-lzDB['Zx_-_sig_f'])),\n",
    "                            (lzDB['Zx_+_sig_f']/lzDB['Zx_f']+1)]),color='#e41a1c',alpha=1,ms=5,fmt='o')\n",
    "plt.errorbar(np.median(lzDB['lmass']),np.log10(lmed/0.019), yerr=np.log10([[lmed/(lmed-ller)],[lher/lmed+1]]),\n",
    "             color='#e41a1c',ms=14,fmt='o',label='z~1.1')\n",
    "plt.ylabel('log(Z/Z$_\\odot$)',size=30)\n",
    "ax1.xaxis.tick_top()\n",
    "ax1.yaxis.set_ticks_position('both')\n",
    "ax1.xaxis.set_ticks_position('both')\n",
    "plt.axis([10,11.8,-1.0,.5])\n",
    "plt.tick_params(axis='both', which='major', labelsize=23)\n",
    "plt.minorticks_on()\n",
    "plt.gcf().subplots_adjust(bottom=0.16)\n",
    "plt.legend(fontsize=23)\n",
    "\n",
    "#### mid z\n",
    "ax2 = plt.subplot(gs[0,1])\n",
    "plt.plot(cv1x,cv1y,'--',zorder=1,color='k',alpha=.6,markersize=4)\n",
    "plt.plot(cvx,cvy,zorder=2,color='k',alpha=.6,ms=4)\n",
    "plt.plot(logm,gmetal,'o',zorder=3,color='k',alpha=.8,markersize=4)\n",
    "plt.errorbar(mzDB['lmass'],np.log10(mZ/0.019), yerr=np.log10([(mzDB['Zx_f']/(mzDB['Zx_f']-mzDB['Zx_-_sig_f'])),\n",
    "                            (mzDB['Zx_+_sig_f']/mzDB['Zx']+1)]),color='#377eb8',alpha=1,ms=5,fmt='o')\n",
    "plt.errorbar(np.median(mzDB['lmass']),np.log10(mmed/0.019), yerr=np.log10([[mmed/(mmed-mler)],[mher/mmed+1]]),\n",
    "             color='#377eb8',ms=14,fmt='D',label='z~1.2')\n",
    "ax2.xaxis.tick_top()\n",
    "ax2.yaxis.tick_right()\n",
    "ax2.yaxis.set_ticks_position('both')\n",
    "ax2.xaxis.set_ticks_position('both')\n",
    "plt.axis([10,11.8,-1.0,.5])\n",
    "plt.tick_params(axis='both', which='major', labelsize=23)\n",
    "plt.minorticks_on()\n",
    "plt.gcf().subplots_adjust(bottom=0.16)\n",
    "plt.legend(fontsize=23)\n",
    "\n",
    "#### high z\n",
    "ax3 = plt.subplot(gs[1,0])\n",
    "plt.plot(cv1x,cv1y,'--',zorder=1,color='k',alpha=.6,markersize=4)\n",
    "plt.plot(cvx,cvy,zorder=2,color='k',alpha=.6,ms=4)\n",
    "plt.plot(logm,gmetal,'o',zorder=3,color='k',alpha=.8,markersize=4)\n",
    "plt.errorbar(hzDB['lmass'],np.log10(hZ/0.019), yerr=np.log10([(hzDB['Z']/(hzDB['Zx']-hzDB['Zx_-_sig_f'])),\n",
    "                            (hzDB['Zx_+_sig_f']/hzDB['Zx']+1)]),color='#4daf4a',alpha=1,ms=5,fmt='o')\n",
    "plt.errorbar(np.median(hzDB['lmass']),np.log10(hmed/0.019), yerr=np.log10([[hmed/(hmed-hler)],[hher/hmed+1]]),\n",
    "             color='#4daf4a',ms=14,fmt='s',label='z~1.3')\n",
    "plt.xlabel('log(M/M$_\\odot$)',size=30)\n",
    "plt.ylabel('log(Z/Z$_\\odot$)',size=30)\n",
    "ax3.yaxis.set_ticks_position('both')\n",
    "ax3.xaxis.set_ticks_position('both')\n",
    "plt.axis([10,11.8,-1.0,.5])\n",
    "plt.tick_params(axis='both', which='major', labelsize=23)\n",
    "plt.minorticks_on()\n",
    "plt.gcf().subplots_adjust(bottom=0.16)\n",
    "plt.legend(fontsize=23)\n",
    "\n",
    "#### u high z\n",
    "ax4 = plt.subplot(gs[1,1])\n",
    "plt.plot(cv1x,cv1y,'--',zorder=1,color='k',alpha=.6,markersize=4)\n",
    "plt.plot(cvx,cvy,zorder=2,color='k',alpha=.6,ms=4)\n",
    "plt.plot(logm,gmetal,'o',zorder=3,color='k',alpha=.8,markersize=4)\n",
    "plt.errorbar(uhzDB['lmass'],np.log10(uhZ/0.019), yerr=np.log10([(uhzDB['Zx_f']/(uhzDB['Zx_f']-uhzDB['Zx_-_sig_f'])),\n",
    "                            (uhzDB['Zx_+_sig_f']/uhzDB['Zx_f']+1)]),color='#984ea3',alpha=1,ms=5,fmt='o')\n",
    "plt.errorbar(np.median(uhzDB['lmass']),np.log10(uhmed/0.019), yerr=np.log10([[uhmed/(uhmed-uhler)],[uhher/uhmed+1]]),\n",
    "             color='#984ea3',ms=14,fmt='^',label='z~1.6')\n",
    "plt.xlabel('log(M/M$_\\odot$)',size=30)\n",
    "# plt.ylabel('log(Z/Z$_\\odot$)',size=30)\n",
    "ax4.yaxis.tick_right()\n",
    "ax4.yaxis.set_ticks_position('both')\n",
    "ax4.xaxis.set_ticks_position('both')\n",
    "plt.axis([10,11.8,-1.0,.5])\n",
    "plt.tick_params(axis='both', which='major', labelsize=23)\n",
    "plt.minorticks_on()\n",
    "plt.gcf().subplots_adjust(bottom=0.16)\n",
    "plt.legend(fontsize=23)\n",
    "# plt.show()\n",
    "plt.savefig('../plots/metalmass_featgroup_splot_7-20.pdf')\n",
    "plt.close()"
   ]
  },
  {
   "cell_type": "markdown",
   "metadata": {},
   "source": [
    "#3 Stack best fits, Feat group"
   ]
  },
  {
   "cell_type": "code",
   "execution_count": 4,
   "metadata": {
    "collapsed": true
   },
   "outputs": [
    {
     "name": "stdout",
     "output_type": "stream",
     "text": [
      "../data/galaxy_flts/n16758_flt: photutils.detect_sources (detect_thresh=0.0, grow_seg=5, gauss_fwhm=2.0, ZP=0.0)\n"
     ]
    },
    {
     "name": "stdout",
     "output_type": "stream",
     "text": [
      "../data/galaxy_flts/n16758_flt: photutils.source_properties\nRename column: ycentroid -> y_flt\nRename column: ra_icrs_centroid -> ra\nRename column: dec_icrs_centroid -> dec\nRename column: xcentroid -> x_flt\n\u001b[1A\u001b[1M../data/galaxy_flts/n16758_flt: photutils.source_properties - 1 objects\n../data/galaxy_flts/n16758_flt: save ../data/galaxy_flts/n16758_flt.detect_seg.fits, ../data/galaxy_flts/n16758_flt.detect.cat\n"
     ]
    },
    {
     "name": "stdout",
     "output_type": "stream",
     "text": [
      "../data/galaxy_flts/n19442_flt: photutils.detect_sources (detect_thresh=0.0, grow_seg=5, gauss_fwhm=2.0, ZP=0.0)\n../data/galaxy_flts/n19442_flt: photutils.source_properties\nRename column: ycentroid -> y_flt\nRename column: ra_icrs_centroid -> ra\nRename column: dec_icrs_centroid -> dec\nRename column: xcentroid -> x_flt\n\u001b[1A\u001b[1M../data/galaxy_flts/n19442_flt: photutils.source_properties - 1 objects\n../data/galaxy_flts/n19442_flt: save ../data/galaxy_flts/n19442_flt.detect_seg.fits, ../data/galaxy_flts/n19442_flt.detect.cat\n"
     ]
    },
    {
     "name": "stdout",
     "output_type": "stream",
     "text": [
      "../data/galaxy_flts/n23435_flt: photutils.detect_sources (detect_thresh=0.0, grow_seg=5, gauss_fwhm=2.0, ZP=0.0)\n../data/galaxy_flts/n23435_flt: photutils.source_properties\nRename column: ycentroid -> y_flt\nRename column: ra_icrs_centroid -> ra\nRename column: dec_icrs_centroid -> dec\nRename column: xcentroid -> x_flt\n\u001b[1A\u001b[1M../data/galaxy_flts/n23435_flt: photutils.source_properties - 1 objects\n../data/galaxy_flts/n23435_flt: save ../data/galaxy_flts/n23435_flt.detect_seg.fits, ../data/galaxy_flts/n23435_flt.detect.cat\n"
     ]
    },
    {
     "name": "stdout",
     "output_type": "stream",
     "text": [
      "../data/galaxy_flts/n32566_flt: photutils.detect_sources (detect_thresh=0.0, grow_seg=5, gauss_fwhm=2.0, ZP=0.0)\n../data/galaxy_flts/n32566_flt: photutils.source_properties\nRename column: ycentroid -> y_flt\nRename column: ra_icrs_centroid -> ra\nRename column: dec_icrs_centroid -> dec\nRename column: xcentroid -> x_flt\n\u001b[1A\u001b[1M../data/galaxy_flts/n32566_flt: photutils.source_properties - 1 objects\n../data/galaxy_flts/n32566_flt: save ../data/galaxy_flts/n32566_flt.detect_seg.fits, ../data/galaxy_flts/n32566_flt.detect.cat\n"
     ]
    },
    {
     "name": "stdout",
     "output_type": "stream",
     "text": [
      "../data/galaxy_flts/n34694_flt: photutils.detect_sources (detect_thresh=0.0, grow_seg=5, gauss_fwhm=2.0, ZP=0.0)\n../data/galaxy_flts/n34694_flt: photutils.source_properties\nRename column: ycentroid -> y_flt\nRename column: ra_icrs_centroid -> ra\nRename column: dec_icrs_centroid -> dec\nRename column: xcentroid -> x_flt\n\u001b[1A\u001b[1M../data/galaxy_flts/n34694_flt: photutils.source_properties - 1 objects\n../data/galaxy_flts/n34694_flt: save ../data/galaxy_flts/n34694_flt.detect_seg.fits, ../data/galaxy_flts/n34694_flt.detect.cat\n"
     ]
    },
    {
     "name": "stdout",
     "output_type": "stream",
     "text": [
      "../data/galaxy_flts/s39170_flt: photutils.detect_sources (detect_thresh=0.0, grow_seg=5, gauss_fwhm=2.0, ZP=0.0)\n../data/galaxy_flts/s39170_flt: photutils.source_properties\nRename column: ycentroid -> y_flt\nRename column: ra_icrs_centroid -> ra\nRename column: dec_icrs_centroid -> dec\nRename column: xcentroid -> x_flt\n\u001b[1A\u001b[1M../data/galaxy_flts/s39170_flt: photutils.source_properties - 1 objects\n../data/galaxy_flts/s39170_flt: save ../data/galaxy_flts/s39170_flt.detect_seg.fits, ../data/galaxy_flts/s39170_flt.detect.cat\n"
     ]
    },
    {
     "name": "stdout",
     "output_type": "stream",
     "text": [
      "../data/galaxy_flts/s39241_flt: photutils.detect_sources (detect_thresh=0.0, grow_seg=5, gauss_fwhm=2.0, ZP=0.0)\n../data/galaxy_flts/s39241_flt: photutils.source_properties\nRename column: ycentroid -> y_flt\nRename column: ra_icrs_centroid -> ra\nRename column: dec_icrs_centroid -> dec\nRename column: xcentroid -> x_flt\n\u001b[1A\u001b[1M../data/galaxy_flts/s39241_flt: photutils.source_properties - 1 objects\n../data/galaxy_flts/s39241_flt: save ../data/galaxy_flts/s39241_flt.detect_seg.fits, ../data/galaxy_flts/s39241_flt.detect.cat\n"
     ]
    },
    {
     "name": "stdout",
     "output_type": "stream",
     "text": [
      "../data/galaxy_flts/s39631_flt: photutils.detect_sources (detect_thresh=0.0, grow_seg=5, gauss_fwhm=2.0, ZP=0.0)\n../data/galaxy_flts/s39631_flt: photutils.source_properties\nRename column: ycentroid -> y_flt\nRename column: ra_icrs_centroid -> ra\nRename column: dec_icrs_centroid -> dec\nRename column: xcentroid -> x_flt\n\u001b[1A\u001b[1M../data/galaxy_flts/s39631_flt: photutils.source_properties - 1 objects\n../data/galaxy_flts/s39631_flt: save ../data/galaxy_flts/s39631_flt.detect_seg.fits, ../data/galaxy_flts/s39631_flt.detect.cat\n"
     ]
    },
    {
     "name": "stdout",
     "output_type": "stream",
     "text": [
      "../data/galaxy_flts/s43615_flt: photutils.detect_sources (detect_thresh=0.0, grow_seg=5, gauss_fwhm=2.0, ZP=0.0)\n../data/galaxy_flts/s43615_flt: photutils.source_properties\nRename column: ycentroid -> y_flt\nRename column: ra_icrs_centroid -> ra\nRename column: dec_icrs_centroid -> dec\nRename column: xcentroid -> x_flt\n\u001b[1A\u001b[1M../data/galaxy_flts/s43615_flt: photutils.source_properties - 1 objects\n../data/galaxy_flts/s43615_flt: save ../data/galaxy_flts/s43615_flt.detect_seg.fits, ../data/galaxy_flts/s43615_flt.detect.cat\n"
     ]
    },
    {
     "name": "stdout",
     "output_type": "stream",
     "text": [
      "../data/galaxy_flts/s45972_flt: photutils.detect_sources (detect_thresh=0.0, grow_seg=5, gauss_fwhm=2.0, ZP=0.0)\n../data/galaxy_flts/s45972_flt: photutils.source_properties\nRename column: ycentroid -> y_flt\nRename column: ra_icrs_centroid -> ra\nRename column: dec_icrs_centroid -> dec\nRename column: xcentroid -> x_flt\n\u001b[1A\u001b[1M../data/galaxy_flts/s45972_flt: photutils.source_properties - 1 objects\n../data/galaxy_flts/s45972_flt: save ../data/galaxy_flts/s45972_flt.detect_seg.fits, ../data/galaxy_flts/s45972_flt.detect.cat\n"
     ]
    },
    {
     "name": "stdout",
     "output_type": "stream",
     "text": [
      "../data/galaxy_flts/s47677_flt: photutils.detect_sources (detect_thresh=0.0, grow_seg=5, gauss_fwhm=2.0, ZP=0.0)\n../data/galaxy_flts/s47677_flt: photutils.source_properties\nRename column: ycentroid -> y_flt\nRename column: ra_icrs_centroid -> ra\nRename column: dec_icrs_centroid -> dec\nRename column: xcentroid -> x_flt\n\u001b[1A\u001b[1M../data/galaxy_flts/s47677_flt: photutils.source_properties - 1 objects\n../data/galaxy_flts/s47677_flt: save ../data/galaxy_flts/s47677_flt.detect_seg.fits, ../data/galaxy_flts/s47677_flt.detect.cat\n"
     ]
    },
    {
     "name": "stdout",
     "output_type": "stream",
     "text": [
      "../data/galaxy_flts/s48631_flt: photutils.detect_sources (detect_thresh=0.0, grow_seg=5, gauss_fwhm=2.0, ZP=0.0)\n../data/galaxy_flts/s48631_flt: photutils.source_properties\n"
     ]
    },
    {
     "name": "stdout",
     "output_type": "stream",
     "text": [
      "Rename column: ycentroid -> y_flt\nRename column: ra_icrs_centroid -> ra\nRename column: dec_icrs_centroid -> dec\nRename column: xcentroid -> x_flt\n\u001b[1A\u001b[1M../data/galaxy_flts/s48631_flt: photutils.source_properties - 2 objects\n../data/galaxy_flts/s48631_flt: save ../data/galaxy_flts/s48631_flt.detect_seg.fits, ../data/galaxy_flts/s48631_flt.detect.cat\n"
     ]
    },
    {
     "name": "stdout",
     "output_type": "stream",
     "text": [
      "../data/galaxy_flts/n16758_flt: photutils.detect_sources (detect_thresh=0.0, grow_seg=5, gauss_fwhm=2.0, ZP=0.0)\n../data/galaxy_flts/n16758_flt: photutils.source_properties\nRename column: ycentroid -> y_flt\nRename column: ra_icrs_centroid -> ra\nRename column: dec_icrs_centroid -> dec\nRename column: xcentroid -> x_flt\n\u001b[1A\u001b[1M../data/galaxy_flts/n16758_flt: photutils.source_properties - 1 objects\n../data/galaxy_flts/n16758_flt: save ../data/galaxy_flts/n16758_flt.detect_seg.fits, ../data/galaxy_flts/n16758_flt.detect.cat\n"
     ]
    },
    {
     "name": "stdout",
     "output_type": "stream",
     "text": [
      "../data/galaxy_flts/n19442_flt: photutils.detect_sources (detect_thresh=0.0, grow_seg=5, gauss_fwhm=2.0, ZP=0.0)\n../data/galaxy_flts/n19442_flt: photutils.source_properties\nRename column: ycentroid -> y_flt\nRename column: ra_icrs_centroid -> ra\nRename column: dec_icrs_centroid -> dec\nRename column: xcentroid -> x_flt\n\u001b[1A\u001b[1M../data/galaxy_flts/n19442_flt: photutils.source_properties - 1 objects\n../data/galaxy_flts/n19442_flt: save ../data/galaxy_flts/n19442_flt.detect_seg.fits, ../data/galaxy_flts/n19442_flt.detect.cat\n"
     ]
    },
    {
     "name": "stdout",
     "output_type": "stream",
     "text": [
      "../data/galaxy_flts/n23435_flt: photutils.detect_sources (detect_thresh=0.0, grow_seg=5, gauss_fwhm=2.0, ZP=0.0)\n../data/galaxy_flts/n23435_flt: photutils.source_properties\nRename column: ycentroid -> y_flt\nRename column: ra_icrs_centroid -> ra\nRename column: dec_icrs_centroid -> dec\nRename column: xcentroid -> x_flt\n\u001b[1A\u001b[1M../data/galaxy_flts/n23435_flt: photutils.source_properties - 1 objects\n../data/galaxy_flts/n23435_flt: save ../data/galaxy_flts/n23435_flt.detect_seg.fits, ../data/galaxy_flts/n23435_flt.detect.cat\n"
     ]
    },
    {
     "name": "stdout",
     "output_type": "stream",
     "text": [
      "../data/galaxy_flts/n32566_flt: photutils.detect_sources (detect_thresh=0.0, grow_seg=5, gauss_fwhm=2.0, ZP=0.0)\n../data/galaxy_flts/n32566_flt: photutils.source_properties\nRename column: ycentroid -> y_flt\nRename column: ra_icrs_centroid -> ra\nRename column: dec_icrs_centroid -> dec\nRename column: xcentroid -> x_flt\n\u001b[1A\u001b[1M../data/galaxy_flts/n32566_flt: photutils.source_properties - 1 objects\n../data/galaxy_flts/n32566_flt: save ../data/galaxy_flts/n32566_flt.detect_seg.fits, ../data/galaxy_flts/n32566_flt.detect.cat\n"
     ]
    },
    {
     "name": "stdout",
     "output_type": "stream",
     "text": [
      "../data/galaxy_flts/n34694_flt: photutils.detect_sources (detect_thresh=0.0, grow_seg=5, gauss_fwhm=2.0, ZP=0.0)\n../data/galaxy_flts/n34694_flt: photutils.source_properties\nRename column: ycentroid -> y_flt\nRename column: ra_icrs_centroid -> ra\nRename column: dec_icrs_centroid -> dec\nRename column: xcentroid -> x_flt\n\u001b[1A\u001b[1M../data/galaxy_flts/n34694_flt: photutils.source_properties - 1 objects\n../data/galaxy_flts/n34694_flt: save ../data/galaxy_flts/n34694_flt.detect_seg.fits, ../data/galaxy_flts/n34694_flt.detect.cat\n"
     ]
    },
    {
     "name": "stdout",
     "output_type": "stream",
     "text": [
      "../data/galaxy_flts/s39170_flt: photutils.detect_sources (detect_thresh=0.0, grow_seg=5, gauss_fwhm=2.0, ZP=0.0)\n../data/galaxy_flts/s39170_flt: photutils.source_properties\nRename column: ycentroid -> y_flt\nRename column: ra_icrs_centroid -> ra\nRename column: dec_icrs_centroid -> dec\nRename column: xcentroid -> x_flt\n\u001b[1A\u001b[1M../data/galaxy_flts/s39170_flt: photutils.source_properties - 1 objects\n../data/galaxy_flts/s39170_flt: save ../data/galaxy_flts/s39170_flt.detect_seg.fits, ../data/galaxy_flts/s39170_flt.detect.cat\n"
     ]
    },
    {
     "name": "stdout",
     "output_type": "stream",
     "text": [
      "../data/galaxy_flts/s39241_flt: photutils.detect_sources (detect_thresh=0.0, grow_seg=5, gauss_fwhm=2.0, ZP=0.0)\n../data/galaxy_flts/s39241_flt: photutils.source_properties\nRename column: ycentroid -> y_flt\nRename column: ra_icrs_centroid -> ra\nRename column: dec_icrs_centroid -> dec\nRename column: xcentroid -> x_flt\n\u001b[1A\u001b[1M../data/galaxy_flts/s39241_flt: photutils.source_properties - 1 objects\n../data/galaxy_flts/s39241_flt: save ../data/galaxy_flts/s39241_flt.detect_seg.fits, ../data/galaxy_flts/s39241_flt.detect.cat\n"
     ]
    },
    {
     "name": "stdout",
     "output_type": "stream",
     "text": [
      "../data/galaxy_flts/s39631_flt: photutils.detect_sources (detect_thresh=0.0, grow_seg=5, gauss_fwhm=2.0, ZP=0.0)\n../data/galaxy_flts/s39631_flt: photutils.source_properties\nRename column: ycentroid -> y_flt\nRename column: ra_icrs_centroid -> ra\nRename column: dec_icrs_centroid -> dec\nRename column: xcentroid -> x_flt\n\u001b[1A\u001b[1M../data/galaxy_flts/s39631_flt: photutils.source_properties - 1 objects\n../data/galaxy_flts/s39631_flt: save ../data/galaxy_flts/s39631_flt.detect_seg.fits, ../data/galaxy_flts/s39631_flt.detect.cat\n"
     ]
    },
    {
     "name": "stdout",
     "output_type": "stream",
     "text": [
      "../data/galaxy_flts/s43615_flt: photutils.detect_sources (detect_thresh=0.0, grow_seg=5, gauss_fwhm=2.0, ZP=0.0)\n../data/galaxy_flts/s43615_flt: photutils.source_properties\nRename column: ycentroid -> y_flt\nRename column: ra_icrs_centroid -> ra\nRename column: dec_icrs_centroid -> dec\nRename column: xcentroid -> x_flt\n\u001b[1A\u001b[1M../data/galaxy_flts/s43615_flt: photutils.source_properties - 1 objects\n../data/galaxy_flts/s43615_flt: save ../data/galaxy_flts/s43615_flt.detect_seg.fits, ../data/galaxy_flts/s43615_flt.detect.cat\n"
     ]
    },
    {
     "name": "stdout",
     "output_type": "stream",
     "text": [
      "../data/galaxy_flts/s45972_flt: photutils.detect_sources (detect_thresh=0.0, grow_seg=5, gauss_fwhm=2.0, ZP=0.0)\n../data/galaxy_flts/s45972_flt: photutils.source_properties\nRename column: ycentroid -> y_flt\nRename column: ra_icrs_centroid -> ra\nRename column: dec_icrs_centroid -> dec\nRename column: xcentroid -> x_flt\n\u001b[1A\u001b[1M../data/galaxy_flts/s45972_flt: photutils.source_properties - 1 objects\n../data/galaxy_flts/s45972_flt: save ../data/galaxy_flts/s45972_flt.detect_seg.fits, ../data/galaxy_flts/s45972_flt.detect.cat\n"
     ]
    },
    {
     "name": "stdout",
     "output_type": "stream",
     "text": [
      "../data/galaxy_flts/s47677_flt: photutils.detect_sources (detect_thresh=0.0, grow_seg=5, gauss_fwhm=2.0, ZP=0.0)\n../data/galaxy_flts/s47677_flt: photutils.source_properties\nRename column: ycentroid -> y_flt\nRename column: ra_icrs_centroid -> ra\nRename column: dec_icrs_centroid -> dec\nRename column: xcentroid -> x_flt\n\u001b[1A\u001b[1M../data/galaxy_flts/s47677_flt: photutils.source_properties - 1 objects\n../data/galaxy_flts/s47677_flt: save ../data/galaxy_flts/s47677_flt.detect_seg.fits, ../data/galaxy_flts/s47677_flt.detect.cat\n"
     ]
    },
    {
     "name": "stdout",
     "output_type": "stream",
     "text": [
      "../data/galaxy_flts/s48631_flt: photutils.detect_sources (detect_thresh=0.0, grow_seg=5, gauss_fwhm=2.0, ZP=0.0)\n../data/galaxy_flts/s48631_flt: photutils.source_properties\nRename column: ycentroid -> y_flt\nRename column: ra_icrs_centroid -> ra\nRename column: dec_icrs_centroid -> dec\nRename column: xcentroid -> x_flt\n\u001b[1A\u001b[1M../data/galaxy_flts/s48631_flt: photutils.source_properties - 2 objects\n../data/galaxy_flts/s48631_flt: save ../data/galaxy_flts/s48631_flt.detect_seg.fits, ../data/galaxy_flts/s48631_flt.detect.cat\n"
     ]
    },
    {
     "name": "stdout",
     "output_type": "stream",
     "text": [
      "../data/galaxy_flts/n17070_flt: photutils.detect_sources (detect_thresh=0.0, grow_seg=5, gauss_fwhm=2.0, ZP=0.0)\n../data/galaxy_flts/n17070_flt: photutils.source_properties\nRename column: ycentroid -> y_flt\nRename column: ra_icrs_centroid -> ra\nRename column: dec_icrs_centroid -> dec\nRename column: xcentroid -> x_flt\n\u001b[1A\u001b[1M../data/galaxy_flts/n17070_flt: photutils.source_properties - 1 objects\n../data/galaxy_flts/n17070_flt: save ../data/galaxy_flts/n17070_flt.detect_seg.fits, ../data/galaxy_flts/n17070_flt.detect.cat\n"
     ]
    },
    {
     "name": "stdout",
     "output_type": "stream",
     "text": [
      "../data/galaxy_flts/n21156_flt: photutils.detect_sources (detect_thresh=0.0, grow_seg=5, gauss_fwhm=2.0, ZP=0.0)\n../data/galaxy_flts/n21156_flt: photutils.source_properties\nRename column: ycentroid -> y_flt\nRename column: ra_icrs_centroid -> ra\nRename column: dec_icrs_centroid -> dec\nRename column: xcentroid -> x_flt\n\u001b[1A\u001b[1M../data/galaxy_flts/n21156_flt: photutils.source_properties - 1 objects\n../data/galaxy_flts/n21156_flt: save ../data/galaxy_flts/n21156_flt.detect_seg.fits, ../data/galaxy_flts/n21156_flt.detect.cat\n"
     ]
    },
    {
     "name": "stdout",
     "output_type": "stream",
     "text": [
      "../data/galaxy_flts/n37686_flt: photutils.detect_sources (detect_thresh=0.0, grow_seg=5, gauss_fwhm=2.0, ZP=0.0)\n../data/galaxy_flts/n37686_flt: photutils.source_properties\nRename column: ycentroid -> y_flt\nRename column: ra_icrs_centroid -> ra\nRename column: dec_icrs_centroid -> dec\nRename column: xcentroid -> x_flt\n\u001b[1A\u001b[1M../data/galaxy_flts/n37686_flt: photutils.source_properties - 1 objects\n../data/galaxy_flts/n37686_flt: save ../data/galaxy_flts/n37686_flt.detect_seg.fits, ../data/galaxy_flts/n37686_flt.detect.cat\n"
     ]
    },
    {
     "name": "stdout",
     "output_type": "stream",
     "text": [
      "../data/galaxy_flts/s35774_flt: photutils.detect_sources (detect_thresh=0.0, grow_seg=5, gauss_fwhm=2.0, ZP=0.0)\n../data/galaxy_flts/s35774_flt: photutils.source_properties\nRename column: ycentroid -> y_flt\nRename column: ra_icrs_centroid -> ra\nRename column: dec_icrs_centroid -> dec\nRename column: xcentroid -> x_flt\n\u001b[1A\u001b[1M../data/galaxy_flts/s35774_flt: photutils.source_properties - 2 objects\n../data/galaxy_flts/s35774_flt: save ../data/galaxy_flts/s35774_flt.detect_seg.fits, ../data/galaxy_flts/s35774_flt.detect.cat\n"
     ]
    },
    {
     "name": "stdout",
     "output_type": "stream",
     "text": [
      "../data/galaxy_flts/s38785_flt: photutils.detect_sources (detect_thresh=0.0, grow_seg=5, gauss_fwhm=2.0, ZP=0.0)\n../data/galaxy_flts/s38785_flt: photutils.source_properties\nRename column: ycentroid -> y_flt\nRename column: ra_icrs_centroid -> ra\nRename column: dec_icrs_centroid -> dec\nRename column: xcentroid -> x_flt\n\u001b[1A\u001b[1M../data/galaxy_flts/s38785_flt: photutils.source_properties - 1 objects\n../data/galaxy_flts/s38785_flt: save ../data/galaxy_flts/s38785_flt.detect_seg.fits, ../data/galaxy_flts/s38785_flt.detect.cat\n"
     ]
    },
    {
     "name": "stdout",
     "output_type": "stream",
     "text": [
      "../data/galaxy_flts/s39805_flt: photutils.detect_sources (detect_thresh=0.0, grow_seg=5, gauss_fwhm=2.0, ZP=0.0)\n../data/galaxy_flts/s39805_flt: photutils.source_properties\nRename column: ycentroid -> y_flt\nRename column: ra_icrs_centroid -> ra\nRename column: dec_icrs_centroid -> dec\nRename column: xcentroid -> x_flt\n\u001b[1A\u001b[1M../data/galaxy_flts/s39805_flt: photutils.source_properties - 1 objects\n../data/galaxy_flts/s39805_flt: save ../data/galaxy_flts/s39805_flt.detect_seg.fits, ../data/galaxy_flts/s39805_flt.detect.cat\n"
     ]
    },
    {
     "name": "stdout",
     "output_type": "stream",
     "text": [
      "../data/galaxy_flts/s40476_flt: photutils.detect_sources (detect_thresh=0.0, grow_seg=5, gauss_fwhm=2.0, ZP=0.0)\n../data/galaxy_flts/s40476_flt: photutils.source_properties\nRename column: ycentroid -> y_flt\nRename column: ra_icrs_centroid -> ra\nRename column: dec_icrs_centroid -> dec\nRename column: xcentroid -> x_flt\n\u001b[1A\u001b[1M../data/galaxy_flts/s40476_flt: photutils.source_properties - 1 objects\n../data/galaxy_flts/s40476_flt: save ../data/galaxy_flts/s40476_flt.detect_seg.fits, ../data/galaxy_flts/s40476_flt.detect.cat\n"
     ]
    },
    {
     "name": "stdout",
     "output_type": "stream",
     "text": [
      "../data/galaxy_flts/s40597_flt: photutils.detect_sources (detect_thresh=0.0, grow_seg=5, gauss_fwhm=2.0, ZP=0.0)\n../data/galaxy_flts/s40597_flt: photutils.source_properties\nRename column: ycentroid -> y_flt\nRename column: ra_icrs_centroid -> ra\nRename column: dec_icrs_centroid -> dec\nRename column: xcentroid -> x_flt\n\u001b[1A\u001b[1M../data/galaxy_flts/s40597_flt: photutils.source_properties - 1 objects\n../data/galaxy_flts/s40597_flt: save ../data/galaxy_flts/s40597_flt.detect_seg.fits, ../data/galaxy_flts/s40597_flt.detect.cat\n"
     ]
    },
    {
     "name": "stdout",
     "output_type": "stream",
     "text": [
      "../data/galaxy_flts/n17070_flt: photutils.detect_sources (detect_thresh=0.0, grow_seg=5, gauss_fwhm=2.0, ZP=0.0)\n../data/galaxy_flts/n17070_flt: photutils.source_properties\nRename column: ycentroid -> y_flt\nRename column: ra_icrs_centroid -> ra\nRename column: dec_icrs_centroid -> dec\nRename column: xcentroid -> x_flt\n\u001b[1A\u001b[1M../data/galaxy_flts/n17070_flt: photutils.source_properties - 1 objects\n../data/galaxy_flts/n17070_flt: save ../data/galaxy_flts/n17070_flt.detect_seg.fits, ../data/galaxy_flts/n17070_flt.detect.cat\n"
     ]
    },
    {
     "name": "stdout",
     "output_type": "stream",
     "text": [
      "../data/galaxy_flts/n21156_flt: photutils.detect_sources (detect_thresh=0.0, grow_seg=5, gauss_fwhm=2.0, ZP=0.0)\n../data/galaxy_flts/n21156_flt: photutils.source_properties\nRename column: ycentroid -> y_flt\nRename column: ra_icrs_centroid -> ra\nRename column: dec_icrs_centroid -> dec\nRename column: xcentroid -> x_flt\n\u001b[1A\u001b[1M../data/galaxy_flts/n21156_flt: photutils.source_properties - 1 objects\n../data/galaxy_flts/n21156_flt: save ../data/galaxy_flts/n21156_flt.detect_seg.fits, ../data/galaxy_flts/n21156_flt.detect.cat\n"
     ]
    },
    {
     "name": "stdout",
     "output_type": "stream",
     "text": [
      "../data/galaxy_flts/n37686_flt: photutils.detect_sources (detect_thresh=0.0, grow_seg=5, gauss_fwhm=2.0, ZP=0.0)\n../data/galaxy_flts/n37686_flt: photutils.source_properties\nRename column: ycentroid -> y_flt\nRename column: ra_icrs_centroid -> ra\nRename column: dec_icrs_centroid -> dec\nRename column: xcentroid -> x_flt\n\u001b[1A\u001b[1M../data/galaxy_flts/n37686_flt: photutils.source_properties - 1 objects\n../data/galaxy_flts/n37686_flt: save ../data/galaxy_flts/n37686_flt.detect_seg.fits, ../data/galaxy_flts/n37686_flt.detect.cat\n"
     ]
    },
    {
     "name": "stdout",
     "output_type": "stream",
     "text": [
      "../data/galaxy_flts/s35774_flt: photutils.detect_sources (detect_thresh=0.0, grow_seg=5, gauss_fwhm=2.0, ZP=0.0)\n../data/galaxy_flts/s35774_flt: photutils.source_properties\nRename column: ycentroid -> y_flt\nRename column: ra_icrs_centroid -> ra\nRename column: dec_icrs_centroid -> dec\nRename column: xcentroid -> x_flt\n\u001b[1A\u001b[1M../data/galaxy_flts/s35774_flt: photutils.source_properties - 2 objects\n../data/galaxy_flts/s35774_flt: save ../data/galaxy_flts/s35774_flt.detect_seg.fits, ../data/galaxy_flts/s35774_flt.detect.cat\n"
     ]
    },
    {
     "name": "stdout",
     "output_type": "stream",
     "text": [
      "../data/galaxy_flts/s38785_flt: photutils.detect_sources (detect_thresh=0.0, grow_seg=5, gauss_fwhm=2.0, ZP=0.0)\n../data/galaxy_flts/s38785_flt: photutils.source_properties\nRename column: ycentroid -> y_flt\nRename column: ra_icrs_centroid -> ra\nRename column: dec_icrs_centroid -> dec\nRename column: xcentroid -> x_flt\n\u001b[1A\u001b[1M../data/galaxy_flts/s38785_flt: photutils.source_properties - 1 objects\n../data/galaxy_flts/s38785_flt: save ../data/galaxy_flts/s38785_flt.detect_seg.fits, ../data/galaxy_flts/s38785_flt.detect.cat\n"
     ]
    },
    {
     "name": "stdout",
     "output_type": "stream",
     "text": [
      "../data/galaxy_flts/s39805_flt: photutils.detect_sources (detect_thresh=0.0, grow_seg=5, gauss_fwhm=2.0, ZP=0.0)\n../data/galaxy_flts/s39805_flt: photutils.source_properties\nRename column: ycentroid -> y_flt\nRename column: ra_icrs_centroid -> ra\nRename column: dec_icrs_centroid -> dec\nRename column: xcentroid -> x_flt\n\u001b[1A\u001b[1M../data/galaxy_flts/s39805_flt: photutils.source_properties - 1 objects\n../data/galaxy_flts/s39805_flt: save ../data/galaxy_flts/s39805_flt.detect_seg.fits, ../data/galaxy_flts/s39805_flt.detect.cat\n"
     ]
    },
    {
     "name": "stdout",
     "output_type": "stream",
     "text": [
      "../data/galaxy_flts/s40476_flt: photutils.detect_sources (detect_thresh=0.0, grow_seg=5, gauss_fwhm=2.0, ZP=0.0)\n../data/galaxy_flts/s40476_flt: photutils.source_properties\nRename column: ycentroid -> y_flt\nRename column: ra_icrs_centroid -> ra\nRename column: dec_icrs_centroid -> dec\nRename column: xcentroid -> x_flt\n\u001b[1A\u001b[1M../data/galaxy_flts/s40476_flt: photutils.source_properties - 1 objects\n../data/galaxy_flts/s40476_flt: save ../data/galaxy_flts/s40476_flt.detect_seg.fits, ../data/galaxy_flts/s40476_flt.detect.cat\n"
     ]
    },
    {
     "name": "stdout",
     "output_type": "stream",
     "text": [
      "../data/galaxy_flts/s40597_flt: photutils.detect_sources (detect_thresh=0.0, grow_seg=5, gauss_fwhm=2.0, ZP=0.0)\n../data/galaxy_flts/s40597_flt: photutils.source_properties\nRename column: ycentroid -> y_flt\nRename column: ra_icrs_centroid -> ra\nRename column: dec_icrs_centroid -> dec\nRename column: xcentroid -> x_flt\n\u001b[1A\u001b[1M../data/galaxy_flts/s40597_flt: photutils.source_properties - 1 objects\n../data/galaxy_flts/s40597_flt: save ../data/galaxy_flts/s40597_flt.detect_seg.fits, ../data/galaxy_flts/s40597_flt.detect.cat\n"
     ]
    },
    {
     "name": "stdout",
     "output_type": "stream",
     "text": [
      "../data/galaxy_flts/s39804_flt: photutils.detect_sources (detect_thresh=0.0, grow_seg=5, gauss_fwhm=2.0, ZP=0.0)\n../data/galaxy_flts/s39804_flt: photutils.source_properties\nRename column: ycentroid -> y_flt\nRename column: ra_icrs_centroid -> ra\nRename column: dec_icrs_centroid -> dec\nRename column: xcentroid -> x_flt\n\u001b[1A\u001b[1M../data/galaxy_flts/s39804_flt: photutils.source_properties - 1 objects\n../data/galaxy_flts/s39804_flt: save ../data/galaxy_flts/s39804_flt.detect_seg.fits, ../data/galaxy_flts/s39804_flt.detect.cat\n"
     ]
    },
    {
     "name": "stdout",
     "output_type": "stream",
     "text": [
      "../data/galaxy_flts/s40623_flt: photutils.detect_sources (detect_thresh=0.0, grow_seg=5, gauss_fwhm=2.0, ZP=0.0)\n../data/galaxy_flts/s40623_flt: photutils.source_properties\nRename column: ycentroid -> y_flt\nRename column: ra_icrs_centroid -> ra\nRename column: dec_icrs_centroid -> dec\nRename column: xcentroid -> x_flt\n\u001b[1A\u001b[1M../data/galaxy_flts/s40623_flt: photutils.source_properties - 1 objects\n../data/galaxy_flts/s40623_flt: save ../data/galaxy_flts/s40623_flt.detect_seg.fits, ../data/galaxy_flts/s40623_flt.detect.cat\n"
     ]
    },
    {
     "name": "stdout",
     "output_type": "stream",
     "text": [
      "../data/galaxy_flts/s40862_flt: photutils.detect_sources (detect_thresh=0.0, grow_seg=5, gauss_fwhm=2.0, ZP=0.0)\n../data/galaxy_flts/s40862_flt: photutils.source_properties\nRename column: ycentroid -> y_flt\nRename column: ra_icrs_centroid -> ra\nRename column: dec_icrs_centroid -> dec\nRename column: xcentroid -> x_flt\n\u001b[1A\u001b[1M../data/galaxy_flts/s40862_flt: photutils.source_properties - 1 objects\n../data/galaxy_flts/s40862_flt: save ../data/galaxy_flts/s40862_flt.detect_seg.fits, ../data/galaxy_flts/s40862_flt.detect.cat\n"
     ]
    },
    {
     "name": "stdout",
     "output_type": "stream",
     "text": [
      "../data/galaxy_flts/s44620_flt: photutils.detect_sources (detect_thresh=0.0, grow_seg=5, gauss_fwhm=2.0, ZP=0.0)\n../data/galaxy_flts/s44620_flt: photutils.source_properties\nRename column: ycentroid -> y_flt\nRename column: ra_icrs_centroid -> ra\nRename column: dec_icrs_centroid -> dec\nRename column: xcentroid -> x_flt\n\u001b[1A\u001b[1M../data/galaxy_flts/s44620_flt: photutils.source_properties - 1 objects\n../data/galaxy_flts/s44620_flt: save ../data/galaxy_flts/s44620_flt.detect_seg.fits, ../data/galaxy_flts/s44620_flt.detect.cat\n"
     ]
    },
    {
     "name": "stdout",
     "output_type": "stream",
     "text": [
      "../data/galaxy_flts/s46066_flt: photutils.detect_sources (detect_thresh=0.0, grow_seg=5, gauss_fwhm=2.0, ZP=0.0)\n../data/galaxy_flts/s46066_flt: photutils.source_properties\nRename column: ycentroid -> y_flt\nRename column: ra_icrs_centroid -> ra\nRename column: dec_icrs_centroid -> dec\nRename column: xcentroid -> x_flt\n\u001b[1A\u001b[1M../data/galaxy_flts/s46066_flt: photutils.source_properties - 1 objects\n../data/galaxy_flts/s46066_flt: save ../data/galaxy_flts/s46066_flt.detect_seg.fits, ../data/galaxy_flts/s46066_flt.detect.cat\n"
     ]
    },
    {
     "name": "stdout",
     "output_type": "stream",
     "text": [
      "../data/galaxy_flts/s46345_flt: photutils.detect_sources (detect_thresh=0.0, grow_seg=5, gauss_fwhm=2.0, ZP=0.0)\n../data/galaxy_flts/s46345_flt: photutils.source_properties\nRename column: ycentroid -> y_flt\nRename column: ra_icrs_centroid -> ra\nRename column: dec_icrs_centroid -> dec\nRename column: xcentroid -> x_flt\n\u001b[1A\u001b[1M../data/galaxy_flts/s46345_flt: photutils.source_properties - 1 objects\n../data/galaxy_flts/s46345_flt: save ../data/galaxy_flts/s46345_flt.detect_seg.fits, ../data/galaxy_flts/s46345_flt.detect.cat\n"
     ]
    },
    {
     "name": "stdout",
     "output_type": "stream",
     "text": [
      "../data/galaxy_flts/s39804_flt: photutils.detect_sources (detect_thresh=0.0, grow_seg=5, gauss_fwhm=2.0, ZP=0.0)\n../data/galaxy_flts/s39804_flt: photutils.source_properties\nRename column: ycentroid -> y_flt\nRename column: ra_icrs_centroid -> ra\nRename column: dec_icrs_centroid -> dec\nRename column: xcentroid -> x_flt\n\u001b[1A\u001b[1M../data/galaxy_flts/s39804_flt: photutils.source_properties - 1 objects\n../data/galaxy_flts/s39804_flt: save ../data/galaxy_flts/s39804_flt.detect_seg.fits, ../data/galaxy_flts/s39804_flt.detect.cat\n"
     ]
    },
    {
     "name": "stdout",
     "output_type": "stream",
     "text": [
      "../data/galaxy_flts/s40623_flt: photutils.detect_sources (detect_thresh=0.0, grow_seg=5, gauss_fwhm=2.0, ZP=0.0)\n../data/galaxy_flts/s40623_flt: photutils.source_properties\nRename column: ycentroid -> y_flt\nRename column: ra_icrs_centroid -> ra\nRename column: dec_icrs_centroid -> dec\nRename column: xcentroid -> x_flt\n\u001b[1A\u001b[1M../data/galaxy_flts/s40623_flt: photutils.source_properties - 1 objects\n../data/galaxy_flts/s40623_flt: save ../data/galaxy_flts/s40623_flt.detect_seg.fits, ../data/galaxy_flts/s40623_flt.detect.cat\n"
     ]
    },
    {
     "name": "stdout",
     "output_type": "stream",
     "text": [
      "../data/galaxy_flts/s40862_flt: photutils.detect_sources (detect_thresh=0.0, grow_seg=5, gauss_fwhm=2.0, ZP=0.0)\n../data/galaxy_flts/s40862_flt: photutils.source_properties\nRename column: ycentroid -> y_flt\nRename column: ra_icrs_centroid -> ra\nRename column: dec_icrs_centroid -> dec\nRename column: xcentroid -> x_flt\n\u001b[1A\u001b[1M../data/galaxy_flts/s40862_flt: photutils.source_properties - 1 objects\n../data/galaxy_flts/s40862_flt: save ../data/galaxy_flts/s40862_flt.detect_seg.fits, ../data/galaxy_flts/s40862_flt.detect.cat\n"
     ]
    },
    {
     "name": "stdout",
     "output_type": "stream",
     "text": [
      "../data/galaxy_flts/s44620_flt: photutils.detect_sources (detect_thresh=0.0, grow_seg=5, gauss_fwhm=2.0, ZP=0.0)\n../data/galaxy_flts/s44620_flt: photutils.source_properties\nRename column: ycentroid -> y_flt\nRename column: ra_icrs_centroid -> ra\nRename column: dec_icrs_centroid -> dec\nRename column: xcentroid -> x_flt\n\u001b[1A\u001b[1M../data/galaxy_flts/s44620_flt: photutils.source_properties - 1 objects\n../data/galaxy_flts/s44620_flt: save ../data/galaxy_flts/s44620_flt.detect_seg.fits, ../data/galaxy_flts/s44620_flt.detect.cat\n"
     ]
    },
    {
     "name": "stdout",
     "output_type": "stream",
     "text": [
      "../data/galaxy_flts/s46066_flt: photutils.detect_sources (detect_thresh=0.0, grow_seg=5, gauss_fwhm=2.0, ZP=0.0)\n../data/galaxy_flts/s46066_flt: photutils.source_properties\nRename column: ycentroid -> y_flt\nRename column: ra_icrs_centroid -> ra\nRename column: dec_icrs_centroid -> dec\nRename column: xcentroid -> x_flt\n\u001b[1A\u001b[1M../data/galaxy_flts/s46066_flt: photutils.source_properties - 1 objects\n../data/galaxy_flts/s46066_flt: save ../data/galaxy_flts/s46066_flt.detect_seg.fits, ../data/galaxy_flts/s46066_flt.detect.cat\n"
     ]
    },
    {
     "name": "stdout",
     "output_type": "stream",
     "text": [
      "../data/galaxy_flts/s46345_flt: photutils.detect_sources (detect_thresh=0.0, grow_seg=5, gauss_fwhm=2.0, ZP=0.0)\n../data/galaxy_flts/s46345_flt: photutils.source_properties\nRename column: ycentroid -> y_flt\nRename column: ra_icrs_centroid -> ra\nRename column: dec_icrs_centroid -> dec\nRename column: xcentroid -> x_flt\n\u001b[1A\u001b[1M../data/galaxy_flts/s46345_flt: photutils.source_properties - 1 objects\n../data/galaxy_flts/s46345_flt: save ../data/galaxy_flts/s46345_flt.detect_seg.fits, ../data/galaxy_flts/s46345_flt.detect.cat\n"
     ]
    },
    {
     "name": "stdout",
     "output_type": "stream",
     "text": [
      "../data/galaxy_flts/n21427_flt: photutils.detect_sources (detect_thresh=0.0, grow_seg=5, gauss_fwhm=2.0, ZP=0.0)\n../data/galaxy_flts/n21427_flt: photutils.source_properties\nRename column: ycentroid -> y_flt\nRename column: ra_icrs_centroid -> ra\nRename column: dec_icrs_centroid -> dec\nRename column: xcentroid -> x_flt\n\u001b[1A\u001b[1M../data/galaxy_flts/n21427_flt: photutils.source_properties - 1 objects\n../data/galaxy_flts/n21427_flt: save ../data/galaxy_flts/n21427_flt.detect_seg.fits, ../data/galaxy_flts/n21427_flt.detect.cat\n"
     ]
    },
    {
     "name": "stdout",
     "output_type": "stream",
     "text": [
      "../data/galaxy_flts/s39012_flt: photutils.detect_sources (detect_thresh=0.0, grow_seg=5, gauss_fwhm=2.0, ZP=0.0)\n../data/galaxy_flts/s39012_flt: photutils.source_properties\nRename column: ycentroid -> y_flt\nRename column: ra_icrs_centroid -> ra\nRename column: dec_icrs_centroid -> dec\nRename column: xcentroid -> x_flt\n\u001b[1A\u001b[1M../data/galaxy_flts/s39012_flt: photutils.source_properties - 5 objects\n../data/galaxy_flts/s39012_flt: save ../data/galaxy_flts/s39012_flt.detect_seg.fits, ../data/galaxy_flts/s39012_flt.detect.cat\n"
     ]
    },
    {
     "name": "stdout",
     "output_type": "stream",
     "text": [
      "../data/galaxy_flts/s40223_flt: photutils.detect_sources (detect_thresh=0.0, grow_seg=5, gauss_fwhm=2.0, ZP=0.0)\n../data/galaxy_flts/s40223_flt: photutils.source_properties\nRename column: ycentroid -> y_flt\nRename column: ra_icrs_centroid -> ra\nRename column: dec_icrs_centroid -> dec\nRename column: xcentroid -> x_flt\n\u001b[1A\u001b[1M../data/galaxy_flts/s40223_flt: photutils.source_properties - 1 objects\n../data/galaxy_flts/s40223_flt: save ../data/galaxy_flts/s40223_flt.detect_seg.fits, ../data/galaxy_flts/s40223_flt.detect.cat\n"
     ]
    },
    {
     "name": "stdout",
     "output_type": "stream",
     "text": [
      "../data/galaxy_flts/s41148_flt: photutils.detect_sources (detect_thresh=0.0, grow_seg=5, gauss_fwhm=2.0, ZP=0.0)\n../data/galaxy_flts/s41148_flt: photutils.source_properties\nRename column: ycentroid -> y_flt\nRename column: ra_icrs_centroid -> ra\nRename column: dec_icrs_centroid -> dec\nRename column: xcentroid -> x_flt\n\u001b[1A\u001b[1M../data/galaxy_flts/s41148_flt: photutils.source_properties - 1 objects\n../data/galaxy_flts/s41148_flt: save ../data/galaxy_flts/s41148_flt.detect_seg.fits, ../data/galaxy_flts/s41148_flt.detect.cat\n"
     ]
    },
    {
     "name": "stdout",
     "output_type": "stream",
     "text": [
      "../data/galaxy_flts/s41520_flt: photutils.detect_sources (detect_thresh=0.0, grow_seg=5, gauss_fwhm=2.0, ZP=0.0)\n../data/galaxy_flts/s41520_flt: photutils.source_properties\nRename column: ycentroid -> y_flt\nRename column: ra_icrs_centroid -> ra\nRename column: dec_icrs_centroid -> dec\nRename column: xcentroid -> x_flt\n\u001b[1A\u001b[1M../data/galaxy_flts/s41520_flt: photutils.source_properties - 1 objects\n../data/galaxy_flts/s41520_flt: save ../data/galaxy_flts/s41520_flt.detect_seg.fits, ../data/galaxy_flts/s41520_flt.detect.cat\n"
     ]
    },
    {
     "name": "stdout",
     "output_type": "stream",
     "text": [
      "../data/galaxy_flts/s41659_flt: photutils.detect_sources (detect_thresh=0.0, grow_seg=5, gauss_fwhm=2.0, ZP=0.0)\n../data/galaxy_flts/s41659_flt: photutils.source_properties\nRename column: ycentroid -> y_flt\nRename column: ra_icrs_centroid -> ra\nRename column: dec_icrs_centroid -> dec\nRename column: xcentroid -> x_flt\n\u001b[1A\u001b[1M../data/galaxy_flts/s41659_flt: photutils.source_properties - 2 objects\n../data/galaxy_flts/s41659_flt: save ../data/galaxy_flts/s41659_flt.detect_seg.fits, ../data/galaxy_flts/s41659_flt.detect.cat\n"
     ]
    },
    {
     "name": "stdout",
     "output_type": "stream",
     "text": [
      "../data/galaxy_flts/s44042_flt: photutils.detect_sources (detect_thresh=0.0, grow_seg=5, gauss_fwhm=2.0, ZP=0.0)\n../data/galaxy_flts/s44042_flt: photutils.source_properties\n"
     ]
    },
    {
     "name": "stdout",
     "output_type": "stream",
     "text": [
      "Rename column: ycentroid -> y_flt\nRename column: ra_icrs_centroid -> ra\nRename column: dec_icrs_centroid -> dec\nRename column: xcentroid -> x_flt\n\u001b[1A\u001b[1M../data/galaxy_flts/s44042_flt: photutils.source_properties - 1 objects\n../data/galaxy_flts/s44042_flt: save ../data/galaxy_flts/s44042_flt.detect_seg.fits, ../data/galaxy_flts/s44042_flt.detect.cat\n"
     ]
    },
    {
     "name": "stdout",
     "output_type": "stream",
     "text": [
      "../data/galaxy_flts/n21427_flt: photutils.detect_sources (detect_thresh=0.0, grow_seg=5, gauss_fwhm=2.0, ZP=0.0)\n../data/galaxy_flts/n21427_flt: photutils.source_properties\nRename column: ycentroid -> y_flt\nRename column: ra_icrs_centroid -> ra\nRename column: dec_icrs_centroid -> dec\nRename column: xcentroid -> x_flt\n\u001b[1A\u001b[1M../data/galaxy_flts/n21427_flt: photutils.source_properties - 1 objects\n../data/galaxy_flts/n21427_flt: save ../data/galaxy_flts/n21427_flt.detect_seg.fits, ../data/galaxy_flts/n21427_flt.detect.cat\n"
     ]
    },
    {
     "name": "stdout",
     "output_type": "stream",
     "text": [
      "../data/galaxy_flts/s39012_flt: photutils.detect_sources (detect_thresh=0.0, grow_seg=5, gauss_fwhm=2.0, ZP=0.0)\n../data/galaxy_flts/s39012_flt: photutils.source_properties\n"
     ]
    },
    {
     "name": "stdout",
     "output_type": "stream",
     "text": [
      "Rename column: ycentroid -> y_flt\nRename column: ra_icrs_centroid -> ra\nRename column: dec_icrs_centroid -> dec\nRename column: xcentroid -> x_flt\n\u001b[1A\u001b[1M../data/galaxy_flts/s39012_flt: photutils.source_properties - 5 objects\n../data/galaxy_flts/s39012_flt: save ../data/galaxy_flts/s39012_flt.detect_seg.fits, ../data/galaxy_flts/s39012_flt.detect.cat\n"
     ]
    },
    {
     "name": "stdout",
     "output_type": "stream",
     "text": [
      "../data/galaxy_flts/s40223_flt: photutils.detect_sources (detect_thresh=0.0, grow_seg=5, gauss_fwhm=2.0, ZP=0.0)\n../data/galaxy_flts/s40223_flt: photutils.source_properties\nRename column: ycentroid -> y_flt\nRename column: ra_icrs_centroid -> ra\nRename column: dec_icrs_centroid -> dec\nRename column: xcentroid -> x_flt\n\u001b[1A\u001b[1M../data/galaxy_flts/s40223_flt: photutils.source_properties - 1 objects\n../data/galaxy_flts/s40223_flt: save ../data/galaxy_flts/s40223_flt.detect_seg.fits, ../data/galaxy_flts/s40223_flt.detect.cat\n"
     ]
    },
    {
     "name": "stdout",
     "output_type": "stream",
     "text": [
      "../data/galaxy_flts/s41148_flt: photutils.detect_sources (detect_thresh=0.0, grow_seg=5, gauss_fwhm=2.0, ZP=0.0)\n../data/galaxy_flts/s41148_flt: photutils.source_properties\nRename column: ycentroid -> y_flt\nRename column: ra_icrs_centroid -> ra\nRename column: dec_icrs_centroid -> dec\nRename column: xcentroid -> x_flt\n\u001b[1A\u001b[1M../data/galaxy_flts/s41148_flt: photutils.source_properties - 1 objects\n../data/galaxy_flts/s41148_flt: save ../data/galaxy_flts/s41148_flt.detect_seg.fits, ../data/galaxy_flts/s41148_flt.detect.cat\n"
     ]
    },
    {
     "name": "stdout",
     "output_type": "stream",
     "text": [
      "../data/galaxy_flts/s41520_flt: photutils.detect_sources (detect_thresh=0.0, grow_seg=5, gauss_fwhm=2.0, ZP=0.0)\n../data/galaxy_flts/s41520_flt: photutils.source_properties\nRename column: ycentroid -> y_flt\nRename column: ra_icrs_centroid -> ra\nRename column: dec_icrs_centroid -> dec\nRename column: xcentroid -> x_flt\n\u001b[1A\u001b[1M../data/galaxy_flts/s41520_flt: photutils.source_properties - 1 objects\n../data/galaxy_flts/s41520_flt: save ../data/galaxy_flts/s41520_flt.detect_seg.fits, ../data/galaxy_flts/s41520_flt.detect.cat\n"
     ]
    },
    {
     "name": "stdout",
     "output_type": "stream",
     "text": [
      "../data/galaxy_flts/s41659_flt: photutils.detect_sources (detect_thresh=0.0, grow_seg=5, gauss_fwhm=2.0, ZP=0.0)\n../data/galaxy_flts/s41659_flt: photutils.source_properties\nRename column: ycentroid -> y_flt\nRename column: ra_icrs_centroid -> ra\nRename column: dec_icrs_centroid -> dec\nRename column: xcentroid -> x_flt\n\u001b[1A\u001b[1M../data/galaxy_flts/s41659_flt: photutils.source_properties - 2 objects\n../data/galaxy_flts/s41659_flt: save ../data/galaxy_flts/s41659_flt.detect_seg.fits, ../data/galaxy_flts/s41659_flt.detect.cat\n"
     ]
    },
    {
     "name": "stdout",
     "output_type": "stream",
     "text": [
      "../data/galaxy_flts/s44042_flt: photutils.detect_sources (detect_thresh=0.0, grow_seg=5, gauss_fwhm=2.0, ZP=0.0)\n../data/galaxy_flts/s44042_flt: photutils.source_properties\nRename column: ycentroid -> y_flt\nRename column: ra_icrs_centroid -> ra\nRename column: dec_icrs_centroid -> dec\nRename column: xcentroid -> x_flt\n\u001b[1A\u001b[1M../data/galaxy_flts/s44042_flt: photutils.source_properties - 1 objects\n../data/galaxy_flts/s44042_flt: save ../data/galaxy_flts/s44042_flt.detect_seg.fits, ../data/galaxy_flts/s44042_flt.detect.cat\n"
     ]
    }
   ],
   "source": [
    "\"\"\"DATA\"\"\"\n",
    "lzDB = galDB.query('hi_res_specz < 1.16')\n",
    "mzDB = galDB.query('1.16 < hi_res_specz < 1.3')\n",
    "mzDB = mzDB.query('ids != 14713 and ids != 38126')\n",
    "hzDB = galDB.query('1.3 < hi_res_specz < 1.45')\n",
    "uhzDB = galDB.query('1.45 < hi_res_specz')\n",
    "\n",
    "PZl_grid,PZm_grid,PZh_grid,PZuh_grid = [[],[],[],[]]\n",
    "PTl_grid,PTm_grid,PTh_grid,PTuh_grid = [[],[],[],[]]\n",
    "for i in lzDB.index:\n",
    "    x,Px = np.load('../chidat/%s_dtau_Z_pos_lwa.npy' % lzDB['gids'][i])\n",
    "    PZl_grid.append(Px)\n",
    "    x,Px = np.load('../chidat/%s_dtau_t_pos_lwa.npy' % lzDB['gids'][i])\n",
    "    PTl_grid.append(Px)\n",
    "    \n",
    "for i in mzDB.index:\n",
    "    x,Px = np.load('../chidat/%s_dtau_Z_pos_lwa.npy' % mzDB['gids'][i])\n",
    "    PZm_grid.append(Px)\n",
    "    x,Px = np.load('../chidat/%s_dtau_t_pos_lwa.npy' % mzDB['gids'][i])\n",
    "    PTm_grid.append(Px)\n",
    "\n",
    "for i in hzDB.index:\n",
    "    x,Px = np.load('../chidat/%s_dtau_Z_pos_lwa.npy' % hzDB['gids'][i])\n",
    "    PZh_grid.append(Px)\n",
    "    x,Px = np.load('../chidat/%s_dtau_t_pos_lwa.npy' % hzDB['gids'][i])\n",
    "    PTh_grid.append(Px)\n",
    "    \n",
    "for i in uhzDB.index:\n",
    "    x,Px = np.load('../chidat/%s_dtau_Z_pos_lwa.npy' % uhzDB['gids'][i])\n",
    "    PZuh_grid.append(Px)\n",
    "    x,Px = np.load('../chidat/%s_dtau_t_pos_lwa.npy' % uhzDB['gids'][i])\n",
    "    PTuh_grid.append(Px)\n",
    "\n",
    "PZl_grid = np.array(PZl_grid)\n",
    "PTl_grid = np.array(PTl_grid)\n",
    "PZm_grid = np.array(PZm_grid)\n",
    "PTm_grid = np.array(PTm_grid)\n",
    "PZh_grid = np.array(PZh_grid)\n",
    "PTh_grid = np.array(PTh_grid)\n",
    "PZuh_grid = np.array(PZuh_grid)\n",
    "PTuh_grid = np.array(PTuh_grid)\n",
    "\n",
    "WZ = Leave_one_out(PZl_grid,metal)\n",
    "Wt = Leave_one_out(PTl_grid,age)\n",
    "topZ = np.zeros(PZl_grid.shape)\n",
    "topt = np.zeros(PTl_grid.shape)\n",
    "for i in range(WZ.size):\n",
    "    topZ[i] = WZ[i] * PZl_grid[i]\n",
    "    topt[i] = Wt[i] * PTl_grid[i]\n",
    "PZl =sum(topZ)/sum(WZ)\n",
    "PTl =sum(topt)/sum(Wt)\n",
    "PZl /= np.trapz(PZl,metal)\n",
    "PTl /= np.trapz(PTl,age)\n",
    "\n",
    "WZ = Leave_one_out(PZm_grid,metal)\n",
    "Wt = Leave_one_out(PTm_grid,age)\n",
    "topZ = np.zeros(PZm_grid.shape)\n",
    "topt = np.zeros(PTm_grid.shape)\n",
    "for i in range(WZ.size):\n",
    "    topZ[i] = WZ[i] * PZm_grid[i]\n",
    "    topt[i] = Wt[i] * PTm_grid[i]\n",
    "PZm =sum(topZ)/sum(WZ)\n",
    "PTm =sum(topt)/sum(Wt)\n",
    "PZm /= np.trapz(PZm,metal)\n",
    "PTm /= np.trapz(PTm,age)\n",
    "\n",
    "WZ = Leave_one_out(PZh_grid,metal)\n",
    "Wt = Leave_one_out(PTh_grid,age)\n",
    "topZ = np.zeros(PZh_grid.shape)\n",
    "topt = np.zeros(PTh_grid.shape)\n",
    "for i in range(WZ.size):\n",
    "    topZ[i] = WZ[i] * PZh_grid[i]\n",
    "    topt[i] = Wt[i] * PTh_grid[i]\n",
    "PZh =sum(topZ)/sum(WZ)\n",
    "PTh =sum(topt)/sum(Wt)\n",
    "PZh /= np.trapz(PZh,metal)\n",
    "PTh /= np.trapz(PTh,age)\n",
    "\n",
    "WZ = Leave_one_out(PZuh_grid,metal)\n",
    "Wt = Leave_one_out(PTuh_grid,age)\n",
    "topZ = np.zeros(PZuh_grid.shape)\n",
    "topt = np.zeros(PTuh_grid.shape)\n",
    "for i in range(WZ.size):\n",
    "    topZ[i] = WZ[i] * PZuh_grid[i]\n",
    "    topt[i] = Wt[i] * PTuh_grid[i]\n",
    "PZuh =sum(topZ)/sum(WZ)\n",
    "PTuh =sum(topt)/sum(Wt)\n",
    "PZuh /= np.trapz(PZuh,metal)\n",
    "PTuh /= np.trapz(PTuh,age)\n",
    "\n",
    "Zmedl, Zler, Zher = Median_w_Error(PZl, metal)\n",
    "Zmedm, Zler, Zher = Median_w_Error(PZm, metal)\n",
    "Zmedh, Zler, Zher = Median_w_Error(PZh, metal)\n",
    "Zmeduh, Zler, Zher = Median_w_Error(PZuh, metal)\n",
    "tmedl, tler, ther = Median_w_Error(PTl, age)\n",
    "tmedm, tler, ther = Median_w_Error(PTm, age)\n",
    "tmedh, tler, ther = Median_w_Error(PTh, age)\n",
    "tmeduh, tler, ther = Median_w_Error(PTuh, age)\n",
    "\n",
    "lzstack = Stack(lzDB['gids'].values,lzDB['hi_res_specz'].values,np.arange(3400,5300,10),np.arange(3950,5200,1))\n",
    "lzstack.Stack_normwmean()\n",
    "lzstack.Stack_normwmean_model(Zmedl,tmedl,tau,bftau=0)\n",
    "\n",
    "mzstack = Stack(mzDB['gids'].values,mzDB['hi_res_specz'].values,np.arange(3400,5300,10),np.arange(3650,4950,1))\n",
    "mzstack.Stack_normwmean()\n",
    "mzstack.Stack_normwmean_model(Zmedm,tmedm,tau,bftau=0)\n",
    "\n",
    "hzstack = Stack(hzDB['gids'].values,hzDB['hi_res_specz'].values,np.arange(3400,5300,10),np.arange(3450,4550,1))\n",
    "hzstack.Stack_normwmean()\n",
    "hzstack.Stack_normwmean_model(Zmedh,tmedh,tau,bftau=8.3)\n",
    "\n",
    "uhzstack = Stack(uhzDB['gids'].values,uhzDB['hi_res_specz'].values,np.arange(3300,5300,10),np.arange(3400,4000,1))\n",
    "uhzstack.Stack_normwmean()\n",
    "uhzstack.Stack_normwmean_model(Zmeduh,tmeduh,tau,bftau=8.0)"
   ]
  },
  {
   "cell_type": "code",
   "execution_count": 23,
   "metadata": {},
   "outputs": [],
   "source": [
    "\"\"\"PLOT\"\"\"\n",
    "    \n",
    "def Plot_stack_2(wv,fl,er,mwv,mfl,bfm,bfa,adist,mdist,window=[],group='',save_plot=False,plot_name=''):\n",
    "    \n",
    "    gs = gridspec.GridSpec(2,2,hspace=.5,wspace=0,height_ratios=[3,1])\n",
    "    \n",
    "    plt.figure(figsize=[15,8])\n",
    "    plt.subplot(gs[0,0:])\n",
    "    plt.errorbar(wv,fl * 1000,er * 1000,color='#0571b0',fmt='o',ms = 4,elinewidth=2)\n",
    "    plt.plot(mwv,mfl * 1000,color='#ca0020',label='Z=%s Z$_\\odot$,t=%s' % (np.round(bfm/0.019,2),bfa),zorder = 5,linewidth = 2)\n",
    "    plt.axvline(3934.777,linestyle='--', alpha=.3)\n",
    "    plt.axvline(3969.588,linestyle='--', alpha=.3)\n",
    "    plt.axvline(4102.89,linestyle='--', alpha=.3)\n",
    "    plt.axvline(4305.61,linestyle='--', alpha=.3)\n",
    "    plt.axvline(4341.68,linestyle='--', alpha=.3)\n",
    "    plt.axvline(4862.68,linestyle='--', alpha=.3)\n",
    "    plt.axvline(5176.7,linestyle='--', alpha=.3)\n",
    "    plt.axvspan(3910, 3980, color='k', alpha=.1)\n",
    "    plt.axvspan(3980, 4030, color='k', alpha=.1)\n",
    "    plt.axvspan(4080, 4120, color='k', alpha=.1)\n",
    "    plt.axvspan(4250, 4380, color='k', alpha=.1)\n",
    "    plt.axvspan(4810, 4910, color='k', alpha=.1)\n",
    "    plt.axvspan(5120, 5240, color='k', alpha=.1)\n",
    "    plt.text(3900,window[3]+.05,'Ca HK',fontsize=15)\n",
    "    plt.text(4080,window[3]+.05,'H$\\delta$',fontsize=15)\n",
    "    plt.text(4280,window[3]+.05,'G+H$\\gamma$',fontsize=15)\n",
    "    plt.text(window[0] + 50,window[3] - .15,group,fontsize=25)\n",
    "    \n",
    "    if window[1] > 4800:\n",
    "        plt.text(4830,window[3]+.05,'H$\\\\beta$',fontsize=15)\n",
    "    if window[1] > 5100:\n",
    "        plt.text(5160,window[3]+.05,'Mgb',fontsize=15)\n",
    "    \n",
    "    plt.axis(window)\n",
    "    plt.ylabel('F$_\\lambda$',size=20)\n",
    "    plt.xlabel('Restframe Wavelength ($\\AA$)',size=20)\n",
    "    plt.tick_params(axis='both', which='major', labelsize=15)\n",
    "    plt.gcf().subplots_adjust(bottom=0.235)\n",
    "    plt.legend(loc=4,fontsize=20)\n",
    "    plt.minorticks_on()\n",
    "        \n",
    "    plt.subplot(gs[1,0])\n",
    "    plt.plot(age,adist,label = 'P(t)')\n",
    "    plt.tick_params(axis='both', which='major', labelsize=15)\n",
    "    plt.xlim(min(age),max(age))\n",
    "    plt.xlabel('Age (Gyrs)',size=20)\n",
    "    plt.yticks([])\n",
    "    plt.legend(fontsize=15)\n",
    "    \n",
    "    plt.subplot(gs[1,1])\n",
    "    plt.plot(metal,mdist,label = 'P(Z)')\n",
    "    plt.tick_params(axis='both', which='major', labelsize=15)\n",
    "    plt.xticks([0.00475, 0.0095, 0.01425, 0.019, 0.02375, 0.0285],\n",
    "           np.round(np.array([0.00475, 0.0095, 0.01425, 0.019, 0.02375, 0.0285])/0.019, 2))    \n",
    "    plt.xlabel('Metallicity (Z$_\\odot$)',size=20)\n",
    "    plt.xlim(min(metal),max(metal))\n",
    "    plt.yticks([])\n",
    "    plt.legend(fontsize=15)\n",
    "    \n",
    "    if save_plot == True:\n",
    "        plt.savefig(plot_name,bbox_inches = 'tight')\n",
    "    else:\n",
    "        plt.show()\n",
    "    plt.close()\n",
    "    \n",
    "    \n",
    "def Plot_stack(wv,fl,er,mwv,mfl,bfm,bfa,adist,mdist,window=[],group='',group_win=[],save_plot=False,plot_name=''):\n",
    "    \n",
    "    gs = gridspec.GridSpec(2,2,hspace=0,wspace=0,width_ratios=[3,1])\n",
    "    \n",
    "    plt.figure(figsize=[15,7])\n",
    "    plt.subplot(gs[0:,0])\n",
    "    plt.errorbar(wv,fl * 1000,er * 1000,color='#0571b0',fmt='o',ms = 4,elinewidth=2)\n",
    "    plt.plot(mwv,mfl * 1000,color='#ca0020',label='Z=%s Z$_\\odot$,t=%s' % (np.round(bfm/0.019,2),bfa),zorder = 5,linewidth = 2)\n",
    "    plt.axvline(3934.777,linestyle='--', alpha=.3)\n",
    "    plt.axvline(3969.588,linestyle='--', alpha=.3)\n",
    "    plt.axvline(4102.89,linestyle='--', alpha=.3)\n",
    "    plt.axvline(4305.61,linestyle='--', alpha=.3)\n",
    "    plt.axvline(4341.68,linestyle='--', alpha=.3)\n",
    "    plt.axvline(4862.68,linestyle='--', alpha=.3)\n",
    "    plt.axvline(5176.7,linestyle='--', alpha=.3)\n",
    "    plt.axvspan(3910, 3980, color='k', alpha=.1)\n",
    "    plt.axvspan(3980, 4030, color='k', alpha=.1)\n",
    "    plt.axvspan(4080, 4120, color='k', alpha=.1)\n",
    "    plt.axvspan(4250, 4380, color='k', alpha=.1)\n",
    "    plt.axvspan(4810, 4910, color='k', alpha=.1)\n",
    "    plt.axvspan(5120, 5240, color='k', alpha=.1)\n",
    "    plt.text(3900,window[3]+.05,'Ca HK',fontsize=15)\n",
    "    plt.text(4080,window[3]+.05,'H$\\delta$',fontsize=15)\n",
    "    plt.text(4280,window[3]+.05,'G+H$\\gamma$',fontsize=15)\n",
    "    plt.text(group_win[0],group_win[1],group,fontsize=25,backgroundcolor=[.3,.3,.3],color='w')\n",
    "    \n",
    "    if window[1] > 4800:\n",
    "        plt.text(4830,window[3]+.05,'H$\\\\beta$',fontsize=15)\n",
    "    if window[1] > 5100:\n",
    "        plt.text(5160,window[3]+.05,'Mgb',fontsize=15)\n",
    "    \n",
    "    plt.axis(window)\n",
    "    plt.ylabel('F$_\\lambda$',size=20)\n",
    "    plt.xlabel('Restframe Wavelength ($\\AA$)',size=20)\n",
    "    plt.tick_params(axis='both', which='major', labelsize=15)\n",
    "    plt.gcf().subplots_adjust(bottom=0.235)\n",
    "    plt.legend(loc=4,fontsize=20)\n",
    "    plt.minorticks_on()\n",
    "        \n",
    "    ax = plt.subplot(gs[0,1])\n",
    "    plt.plot(age,adist,label = 'P(t)')\n",
    "    plt.tick_params(axis='both', which='major', labelsize=15)\n",
    "    ax.xaxis.tick_top()\n",
    "    ax.xaxis.set_label_position('top') \n",
    "    plt.xlim(min(age),max(age))\n",
    "    plt.ylim(0,max(adist))\n",
    "    plt.xlabel('Age (Gyrs)',size=20)\n",
    "    plt.yticks([])\n",
    "    plt.legend(fontsize=15)\n",
    "    \n",
    "    plt.subplot(gs[1,1])\n",
    "    plt.plot(metal,mdist,label = 'P(Z)')\n",
    "    plt.tick_params(axis='both', which='major', labelsize=15)\n",
    "    plt.xticks([0.00475, 0.0095, 0.01425, 0.019, 0.02375, 0.0285],\n",
    "           np.round(np.array([0.00475, 0.0095, 0.01425, 0.019, 0.02375, 0.0285])/0.019, 2))    \n",
    "    plt.xlabel('Metallicity (Z$_\\odot$)',size=20)\n",
    "    plt.xlim(min(metal),max(metal))\n",
    "    # plt.ylim(0,max(mdist))\n",
    "    plt.yticks([])\n",
    "    plt.legend(fontsize=15)\n",
    "    \n",
    "    if save_plot == True:\n",
    "        plt.savefig(plot_name,bbox_inches = 'tight')\n",
    "    else:\n",
    "        plt.show()\n",
    "    plt.close()"
   ]
  },
  {
   "cell_type": "code",
   "execution_count": 24,
   "metadata": {},
   "outputs": [
    {
     "name": "stdout",
     "output_type": "stream",
     "text": [
      "0.019 3.4 0\n0.018 2.2 0\n0.02 2.7 8.3\n0.022 1.7 8.0\n"
     ]
    }
   ],
   "source": [
    "print lzstack.bfmetal,lzstack.bfage, lzstack.bftau\n",
    "print mzstack.bfmetal,mzstack.bfage, mzstack.bftau\n",
    "print hzstack.bfmetal,hzstack.bfage, hzstack.bftau\n",
    "print uhzstack.bfmetal,uhzstack.bfage, uhzstack.bftau"
   ]
  },
  {
   "cell_type": "code",
   "execution_count": 28,
   "metadata": {
    "collapsed": false
   },
   "outputs": [],
   "source": [
    "%matplotlib inline\n",
    "\n",
    "Plot_stack(lzstack.wv,lzstack.fl,lzstack.er,lzstack.mwv,lzstack.mfl,0.019,3.4,PTl,PZl,\n",
    "           window=[3800,5300,.2,1.],group='z~1.1',group_win=[3850,0.9],save_plot=True,\n",
    "           plot_name='../plots/stack_lz_bf_11-4.pdf')\n",
    "\n",
    "Plot_stack(mzstack.wv,mzstack.fl,mzstack.er,mzstack.mwv,mzstack.mfl,0.018,2.2,PTm,PZm,\n",
    "           window=[3500,5100,0,1.],group='z~1.2',group_win=[3550,0.85],save_plot=True,\n",
    "           plot_name='../plots/stack_mz_bf_11-4.pdf')\n",
    "\n",
    "Plot_stack(hzstack.wv,hzstack.fl,hzstack.er,hzstack.mwv,hzstack.mfl,0.02,2.7,PTh,PZh,\n",
    "           window=[3400,4790,0,1.6],group='z~1.3',group_win=[3450,1.4],save_plot=True,\n",
    "           plot_name='../plots/stack_hz_bf_11-4.pdf')\n",
    "\n",
    "Plot_stack(uhzstack.wv,uhzstack.fl,uhzstack.er,uhzstack.mwv,uhzstack.mfl,0.022,1.7,PTuh,PZuh,\n",
    "           window=[3300,4390,0.5,4.2],group='z~1.6',group_win=[3340,3.6],save_plot=True,\n",
    "           plot_name='../plots/stack_uhz_bf_11-4.pdf')"
   ]
  },
  {
   "cell_type": "markdown",
   "metadata": {},
   "source": [
    "#Fitting Technique Compare"
   ]
  },
  {
   "cell_type": "code",
   "execution_count": 64,
   "metadata": {},
   "outputs": [],
   "source": [
    "\"\"\"DATA\"\"\"\n",
    "mp = [0.005,0.007,0.011,0.013,0.017,0.019,0.021,0.023,0.025,0.027,]\n",
    "ap = [3.2,2.2,3.8,2.7,4.4,3.2,1.9,5.2,3.6,2.0]\n",
    "\n",
    "mwc,awc = np.array([[],[]])\n",
    "mnc,anc = np.array([[],[]])\n",
    "\n",
    "for i in range(len(mp)):\n",
    "    mdf1,adf1 = np.load('../mcerr/s39170_m%s_a%s_meth.npy' % (mp[i],ap[i]))\n",
    "    mwc = np.append(mwc,mdf1 - mp[i])\n",
    "    awc = np.append(awc,adf1 - ap[i])\n",
    "    \n",
    "    mdf1,adf1 = np.load('../mcerr/n21156_m%s_a%s_meth.npy' % (mp[i],ap[i]))\n",
    "    mwc = np.append(mwc,mdf1 - mp[i])\n",
    "    awc = np.append(awc,adf1 - ap[i])\n",
    "    \n",
    "    mdf1,adf1 = np.load('../mcerr/s40862_m%s_a%s_meth.npy' % (mp[i],ap[i]))\n",
    "    mwc = np.append(mwc,mdf1 - mp[i])\n",
    "    awc = np.append(awc,adf1 - ap[i])\n",
    "    \n",
    "    mdf1,adf1 = np.load('../mcerr/s44042_m%s_a%s_meth.npy' % (mp[i],ap[i]))\n",
    "    mwc = np.append(mwc,mdf1 - mp[i])\n",
    "    awc = np.append(awc,adf1 - ap[i])\n",
    "    \n",
    "    mdf1,adf1 = np.load('../mcerr/s39170_m%s_a%s_methNC.npy' % (mp[i],ap[i]))\n",
    "    mnc = np.append(mnc,mdf1 - mp[i])\n",
    "    anc = np.append(anc,adf1 - ap[i])\n",
    "    \n",
    "    mdf1,adf1 = np.load('../mcerr/n21156_m%s_a%s_methNC.npy' % (mp[i],ap[i]))\n",
    "    mnc = np.append(mnc,mdf1 - mp[i])\n",
    "    anc = np.append(anc,adf1 - ap[i])\n",
    "    \n",
    "    mdf1,adf1 = np.load('../mcerr/s40862_m%s_a%s_methNC.npy' % (mp[i],ap[i]))\n",
    "    mnc = np.append(mnc,mdf1 - mp[i])\n",
    "    anc = np.append(anc,adf1 - ap[i])\n",
    "    \n",
    "    mdf1,adf1 = np.load('../mcerr/s44042_m%s_a%s_methNC.npy' % (mp[i],ap[i]))\n",
    "    mnc = np.append(mnc,mdf1 - mp[i])\n",
    "    anc = np.append(anc,adf1 - ap[i])"
   ]
  },
  {
   "cell_type": "code",
   "execution_count": 66,
   "metadata": {},
   "outputs": [
    {
     "data": {
      "image/png": "[encoded data removed]",
      "text/plain": [
       "<matplotlib.figure.Figure at 0x115142310>"
      ]
     },
     "metadata": {},
     "output_type": "display_data"
    }
   ],
   "source": [
    "\"\"\"PLOT\"\"\"\n",
    "%matplotlib inline\n",
    "\n",
    "gs = gridspec.GridSpec(2,1)\n",
    "\n",
    "plt.figure(figsize=[8,16])\n",
    "plt.subplot(gs[0])\n",
    "sea.distplot(mwc/0.019,color = '#A3182B',label='with continuum')\n",
    "sea.distplot(mnc/0.019,color = '#1A3C72',label='without continuum')\n",
    "plt.xlabel('$\\Delta$ Metallicity Z$_\\odot$',fontsize = 30)\n",
    "plt.ylabel('P(Z)',fontsize = 30)\n",
    "plt.tick_params(axis='both', which='major', labelsize=23)\n",
    "plt.gcf().subplots_adjust(bottom=0.235)\n",
    "plt.legend(fontsize=23)\n",
    "plt.xlim(-1,1)\n",
    "plt.minorticks_on()\n",
    "# plt.show()\n",
    "# plt.savefig('../plots/P-z_2cases.png')\n",
    "# plt.close()\n",
    "\n",
    "# plt.figure(figsize=[8,8])\n",
    "plt.subplot(gs[1])\n",
    "sea.distplot(awc,color = '#A3182B',label='with continuum')\n",
    "sea.distplot(anc,color = '#1A3C72',label='without continuum')\n",
    "plt.xlabel('$\\Delta$ Age Gyrs',fontsize = 30)\n",
    "plt.ylabel('P(t)',fontsize = 30)\n",
    "plt.tick_params(axis='both', which='major', labelsize=23)\n",
    "plt.gcf().subplots_adjust(bottom=0.235)\n",
    "plt.legend(fontsize=23)\n",
    "plt.xlim(-3,3)\n",
    "plt.minorticks_on()\n",
    "plt.show()\n",
    "# plt.savefig('../plots/P-Zt_2cases.pdf')\n",
    "plt.close()"
   ]
  },
  {
   "cell_type": "markdown",
   "metadata": {},
   "source": [
    "#Fitting Technique Compare - Likelihoods"
   ]
  },
  {
   "cell_type": "code",
   "execution_count": 102,
   "metadata": {},
   "outputs": [],
   "source": [
    "\"\"\"DATA\"\"\"\n",
    "tmlist,talist = np.load('../mcerr/s44042_m0.019_a4.5.npy')\n",
    "ncmlist,ncalist = np.load('../mcerr/s44042_m0.019_a4.5NC.npy')"
   ]
  },
  {
   "cell_type": "code",
   "execution_count": 103,
   "metadata": {},
   "outputs": [],
   "source": [
    "\"\"\"PLOTS\"\"\" # same data as above\n",
    "%matplotlib inline\n",
    "colmap = sea.cubehelix_palette(12, start=3, rot=0.5, dark=0.1, light=.5, as_cmap=True)\n",
    "\n",
    "Mlist =np.array([ncmlist,tmlist])\n",
    "Alist = np.array([ncalist,talist])\n",
    "pltnames = ['nc_LH.png','t_LH.png']\n",
    "\n",
    "for i in range(len(Mlist)):\n",
    "    plt.figure(figsize=[10,8])\n",
    "    plt.plot(Mlist[i]/.019,Alist[i],'o',alpha=.3,ms=4)\n",
    "    sea.kdeplot(Mlist[i]/.019,Alist[i],n_levels=2,cmap=colmap)\n",
    "    plt.plot(0.019/.019,4.5,'rp',ms=10,label='Given parameters')\n",
    "    plt.axis([0.0/.019,.03/.019,0,6])\n",
    "    plt.xlabel('Metallicity (Z/Z$_\\odot$)',fontsize = 30)\n",
    "    plt.ylabel('Age (Gyr)',fontsize = 30)\n",
    "    # plt.title('Continuum',fontsize = 20)\n",
    "    plt.tick_params(axis='both', which='major', labelsize=23)\n",
    "    plt.legend(loc=4,fontsize=23)\n",
    "    plt.minorticks_on()\n",
    "    # plt.show()\n",
    "    plt.savefig('../plots/' + pltnames[i])\n",
    "    plt.close()"
   ]
  },
  {
   "cell_type": "markdown",
   "metadata": {},
   "source": [
    "#Redshift group comparison"
   ]
  },
  {
   "cell_type": "code",
   "execution_count": 37,
   "metadata": {},
   "outputs": [],
   "source": [
    "\"\"\"DATA\"\"\"\n",
    "mp = np.arange(0.005,0.029,0.002)\n",
    "ap = [3.2,2.2,1.0,3.8,2.7,1.4,4.4,3.2,1.9,5.2,3.6,2.0]\n",
    "\n",
    "ms39,as39 = np.array([[],[]])\n",
    "mn21,an21 = np.array([[],[]])\n",
    "ms40,as40 = np.array([[],[]])\n",
    "ms44,as44 = np.array([[],[]])\n",
    "\n",
    "\n",
    "for i in range(len(mp)):\n",
    "    mdf1,adf1 = np.load('../mcerr/MC_s39170-m%s_a%s_lwa.npy' % (mp[i],ap[i]))\n",
    "    ms39 = np.append(ms39,mdf1 - mp[i])\n",
    "    as39 = np.append(as39,adf1 - ap[i])\n",
    "    \n",
    "    mdf1,adf1 = np.load('../mcerr/MC_n21156-m%s_a%s_lwa.npy' % (mp[i],ap[i]))\n",
    "    mn21 = np.append(mn21,mdf1 - mp[i])\n",
    "    an21 = np.append(an21,adf1 - ap[i])\n",
    "    \n",
    "    mdf1,adf1 = np.load('../mcerr/MC_s40862-m%s_a%s_lwa.npy' % (mp[i],ap[i]))\n",
    "    ms40 = np.append(ms40,mdf1 - mp[i])\n",
    "    as40 = np.append(as40,adf1 - ap[i])\n",
    "    \n",
    "    mdf1,adf1 = np.load('../mcerr/MC_s44042-m%s_a%s_lwa.npy' % (mp[i],ap[i]))\n",
    "    ms44 = np.append(ms44,mdf1 - mp[i])\n",
    "    as44 = np.append(as44,adf1 - ap[i])"
   ]
  },
  {
   "cell_type": "code",
   "execution_count": 44,
   "metadata": {},
   "outputs": [
    {
     "name": "stdout",
     "output_type": "stream",
     "text": [
      "-0.032591498787\n-0.0321696023626\n-0.0363885666069\n-0.0353338255458\n-0.256920173681\n-0.322576653307\n-0.101806028724\n-0.29533750835\n"
     ]
    }
   ],
   "source": [
    "print np.median(ms39/.019)\n",
    "print np.median(mn21/.019)\n",
    "print np.median(ms40/.019)\n",
    "print np.median(ms44/.019)\n",
    "\n",
    "print np.median(as39)\n",
    "print np.median(an21)\n",
    "print np.median(as40)\n",
    "print np.median(as44)"
   ]
  },
  {
   "cell_type": "code",
   "execution_count": 41,
   "metadata": {},
   "outputs": [
    {
     "data": {
      "image/png": "[encoded data removed]",
      "text/plain": [
       "<matplotlib.figure.Figure at 0x115d78190>"
      ]
     },
     "metadata": {},
     "output_type": "display_data"
    }
   ],
   "source": [
    "\"\"\"PLOT\"\"\"\n",
    "%matplotlib inline\n",
    "gs = gridspec.GridSpec(2,1)\n",
    "plt.figure(figsize=[8,16])\n",
    "plt.subplot(gs[0])\n",
    "sea.distplot(ms39/.019,color='#e41a1c',hist=False,label='z~1.1')\n",
    "sea.distplot(mn21/.019,color='#377eb8',hist=False,label='z~1.2')\n",
    "sea.distplot(ms40/.019,color='#4daf4a',hist=False,label='z~1.3')\n",
    "sea.distplot(ms44/.019,color='#984ea3',hist=False,label='z~1.6')\n",
    "plt.xlabel('$\\Delta$ Metallicity (Z$_\\odot$)',fontsize = 30)\n",
    "plt.ylabel('P(Z)',fontsize = 30)\n",
    "plt.tick_params(axis='both', which='major', labelsize=23)\n",
    "plt.gcf().subplots_adjust(bottom=0.235)\n",
    "plt.legend(fontsize=23)\n",
    "plt.xlim(-1,1)\n",
    "# plt.show()\n",
    "# plt.savefig('../plots/groups_Z.png')\n",
    "# plt.close()\n",
    "\n",
    "# plt.figure(figsize=[8,8])\n",
    "plt.subplot(gs[1])\n",
    "sea.distplot(as39,color='#e41a1c',hist=False,label='z~1.1')\n",
    "sea.distplot(an21,color='#377eb8',hist=False,label='z~1.2')\n",
    "sea.distplot(as40,color='#4daf4a',hist=False,label='z~1.3')\n",
    "sea.distplot(as44,color='#984ea3',hist=False,label='z~1.6')\n",
    "plt.xlabel('$\\Delta$ Age (Gyrs)',fontsize = 30)\n",
    "plt.ylabel('P(t)',fontsize = 30)\n",
    "plt.tick_params(axis='both', which='major', labelsize=23)\n",
    "# plt.gcf().subplots_adjust(bottom=0.235)\n",
    "plt.legend(fontsize=23)\n",
    "plt.xlim(-3,3)\n",
    "plt.show()\n",
    "# plt.savefig('../plots/groups_Zt.pdf')\n",
    "plt.close()"
   ]
  },
  {
   "cell_type": "markdown",
   "metadata": {},
   "source": [
    "#Data plot"
   ]
  },
  {
   "cell_type": "code",
   "execution_count": 3,
   "metadata": {
    "collapsed": true
   },
   "outputs": [
    {
     "name": "stdout",
     "output_type": "stream",
     "text": [
      "Filename: ../../../Clear_data/extractions_nov_22/ERSPRIME/ERSPRIME-19-122-G102_39170.2D.fits\nNo.    Name         Type      Cards   Dimensions   Format\n  0  PRIMARY     PrimaryHDU      36   ()      \n  1  DSCI        ImageHDU        51   (36, 36)   float64   \n  2  DINTER      ImageHDU        51   (36, 36)   float64   \n  3  DWHT        ImageHDU        51   (36, 36)   float32   \n  4  DSEG        ImageHDU        51   (36, 36)   int32   \n  5  SCI         ImageHDU        52   (360, 36)   float64   \n  6  WHT         ImageHDU        53   (360, 36)   float64   \n  7  MODEL       ImageHDU        53   (360, 36)   float64   \n  8  CONTAM      ImageHDU        53   (360, 36)   float64   \n  9  WAVE        ImageHDU        52   (360,)   float64   \n 10  SENS        ImageHDU        53   (360,)   float64   \n 11  YTRACE      ImageHDU        53   (360,)   float64   \n"
     ]
    },
    {
     "name": "stdout",
     "output_type": "stream",
     "text": [
      "None\n"
     ]
    }
   ],
   "source": [
    "%matplotlib inline\n",
    "\n",
    "img1=fits.open('../../../Clear_data/extractions_nov_22/ERSPRIME/ERSPRIME-19-122-G102_39170.2D.fits')\n",
    "img2=fits.open('../../../Clear_data/extractions_nov_22/ERSPRIME/ERSPRIME-21-092-G102_39170.2D.fits')\n",
    "img3=fits.open('../../../Clear_data/extractions_nov_22/ERSPRIME/ERSPRIME-22-142-G102_39170.2D.fits')\n",
    "\n",
    "print img1.info()"
   ]
  },
  {
   "cell_type": "code",
   "execution_count": null,
   "metadata": {
    "collapsed": true
   },
   "outputs": [
    {
     "name": "stdout",
     "output_type": "stream",
     "text": [
      "Filename: ../../Grizlsim/s39170_cmb_flt.fits\nNo.    Name         Type      Cards   Dimensions   Format\n0    PRIMARY     PrimaryHDU     282   ()              \n1    SCI         ImageHDU        58   (1614, 1614)   float32   \n2    ERR         ImageHDU        58   (1614, 1614)   float32   \n3    DQ          ImageHDU        58   (1614, 1614)   int64   \n"
     ]
    }
   ],
   "source": [
    "field.info()"
   ]
  },
  {
   "cell_type": "code",
   "execution_count": 96,
   "metadata": {},
   "outputs": [],
   "source": [
    "%matplotlib inline\n",
    "\n",
    "# plt.figure(figsize=[12,4])\n",
    "plt.imshow(np.arcsinh(img1['DSCI'].data[::-1]),vmin = 0)\n",
    "# plt.imshow(np.arcsinh(img1['SCI'].data[::-1,60:330] - img1['CONTAM'].data[::-1,60:330]),vmin = 0)\n",
    "plt.yticks([])\n",
    "plt.xticks([])\n",
    "plt.savefig('../plots/s39170_dir1.eps',format = 'eps',dpi = 72)\n",
    "# plt.show()\n",
    "plt.close()\n",
    "\n",
    "# plt.figure(figsize=[12,4])\n",
    "plt.imshow(np.arcsinh(img2['DSCI'].data[::-1]),vmin = 0)\n",
    "# plt.imshow(np.arcsinh((img2['SCI'].data[::-1,60:330] - img2['CONTAM'].data[::-1,60:330])),vmin = 0)\n",
    "plt.yticks([])\n",
    "plt.xticks([])\n",
    "plt.savefig('../plots/s39170_dir2.eps',format = 'eps',dpi = 72)\n",
    "# plt.show()\n",
    "plt.close()\n",
    "# \n",
    "# plt.figure(figsize=[12,4])\n",
    "plt.imshow(np.arcsinh(img3['DSCI'].data[::-1]),vmin = 0)\n",
    "# plt.imshow(np.arcsinh((img3['SCI'].data[::-1,60:330] - img3['CONTAM'].data[::-1,60:330])),vmin = 0)\n",
    "plt.yticks([])\n",
    "plt.xticks([])\n",
    "plt.savefig('../plots/s39170_dir3.eps',format = 'eps',dpi = 72)\n",
    "# plt.show()\n",
    "plt.close()"
   ]
  },
  {
   "cell_type": "markdown",
   "metadata": {},
   "source": [
    "#Photometry plots"
   ]
  },
  {
   "cell_type": "code",
   "execution_count": 151,
   "metadata": {
    "collapsed": true
   },
   "outputs": [
    {
     "name": "stdout",
     "output_type": "stream",
     "text": [
      "../data/galaxy_flts/s38785_flt: photutils.detect_sources (detect_thresh=0.0, grow_seg=5, gauss_fwhm=2.0, ZP=0.0)\n../data/galaxy_flts/s38785_flt: photutils.source_properties\n"
     ]
    },
    {
     "name": "stdout",
     "output_type": "stream",
     "text": [
      "Rename column: ycentroid -> y_flt\nRename column: ra_icrs_centroid -> ra\nRename column: dec_icrs_centroid -> dec\nRename column: xcentroid -> x_flt\n\u001b[1A\u001b[1M../data/galaxy_flts/s38785_flt: photutils.source_properties - 1 objects\n../data/galaxy_flts/s38785_flt: save ../data/galaxy_flts/s38785_flt.detect_seg.fits, ../data/galaxy_flts/s38785_flt.detect.cat\n"
     ]
    },
    {
     "name": "stdout",
     "output_type": "stream",
     "text": [
      "../data/galaxy_flts/s39012_flt: photutils.detect_sources (detect_thresh=0.0, grow_seg=5, gauss_fwhm=2.0, ZP=0.0)\n"
     ]
    },
    {
     "name": "stdout",
     "output_type": "stream",
     "text": [
      "../data/galaxy_flts/s39012_flt: photutils.source_properties\nRename column: ycentroid -> y_flt\nRename column: ra_icrs_centroid -> ra\nRename column: dec_icrs_centroid -> dec\nRename column: xcentroid -> x_flt\n\u001b[1A\u001b[1M../data/galaxy_flts/s39012_flt: photutils.source_properties - 5 objects\n../data/galaxy_flts/s39012_flt: save ../data/galaxy_flts/s39012_flt.detect_seg.fits, ../data/galaxy_flts/s39012_flt.detect.cat\n"
     ]
    },
    {
     "name": "stdout",
     "output_type": "stream",
     "text": [
      "../data/galaxy_flts/s39170_flt: photutils.detect_sources (detect_thresh=0.0, grow_seg=5, gauss_fwhm=2.0, ZP=0.0)\n../data/galaxy_flts/s39170_flt: photutils.source_properties\n"
     ]
    },
    {
     "name": "stdout",
     "output_type": "stream",
     "text": [
      "Rename column: ycentroid -> y_flt\nRename column: ra_icrs_centroid -> ra\nRename column: dec_icrs_centroid -> dec\nRename column: xcentroid -> x_flt\n\u001b[1A\u001b[1M../data/galaxy_flts/s39170_flt: photutils.source_properties - 1 objects\n../data/galaxy_flts/s39170_flt: save ../data/galaxy_flts/s39170_flt.detect_seg.fits, ../data/galaxy_flts/s39170_flt.detect.cat\n"
     ]
    },
    {
     "name": "stdout",
     "output_type": "stream",
     "text": [
      "../data/galaxy_flts/s39241_flt: photutils.detect_sources (detect_thresh=0.0, grow_seg=5, gauss_fwhm=2.0, ZP=0.0)\n../data/galaxy_flts/s39241_flt: photutils.source_properties\nRename column: ycentroid -> y_flt\nRename column: ra_icrs_centroid -> ra\nRename column: dec_icrs_centroid -> dec\nRename column: xcentroid -> x_flt\n\u001b[1A\u001b[1M../data/galaxy_flts/s39241_flt: photutils.source_properties - 1 objects\n../data/galaxy_flts/s39241_flt: save ../data/galaxy_flts/s39241_flt.detect_seg.fits, ../data/galaxy_flts/s39241_flt.detect.cat\n"
     ]
    },
    {
     "name": "stdout",
     "output_type": "stream",
     "text": [
      "../data/galaxy_flts/s39631_flt: photutils.detect_sources (detect_thresh=0.0, grow_seg=5, gauss_fwhm=2.0, ZP=0.0)\n../data/galaxy_flts/s39631_flt: photutils.source_properties\n"
     ]
    },
    {
     "name": "stdout",
     "output_type": "stream",
     "text": [
      "Rename column: ycentroid -> y_flt\nRename column: ra_icrs_centroid -> ra\nRename column: dec_icrs_centroid -> dec\nRename column: xcentroid -> x_flt\n\u001b[1A\u001b[1M../data/galaxy_flts/s39631_flt: photutils.source_properties - 1 objects\n../data/galaxy_flts/s39631_flt: save ../data/galaxy_flts/s39631_flt.detect_seg.fits, ../data/galaxy_flts/s39631_flt.detect.cat\n"
     ]
    },
    {
     "name": "stdout",
     "output_type": "stream",
     "text": [
      "../data/galaxy_flts/s39804_flt: photutils.detect_sources (detect_thresh=0.0, grow_seg=5, gauss_fwhm=2.0, ZP=0.0)\n../data/galaxy_flts/s39804_flt: photutils.source_properties\n"
     ]
    },
    {
     "name": "stdout",
     "output_type": "stream",
     "text": [
      "Rename column: ycentroid -> y_flt\nRename column: ra_icrs_centroid -> ra\nRename column: dec_icrs_centroid -> dec\nRename column: xcentroid -> x_flt\n\u001b[1A\u001b[1M../data/galaxy_flts/s39804_flt: photutils.source_properties - 1 objects\n../data/galaxy_flts/s39804_flt: save ../data/galaxy_flts/s39804_flt.detect_seg.fits, ../data/galaxy_flts/s39804_flt.detect.cat\n"
     ]
    },
    {
     "name": "stdout",
     "output_type": "stream",
     "text": [
      "../data/galaxy_flts/s39805_flt: photutils.detect_sources (detect_thresh=0.0, grow_seg=5, gauss_fwhm=2.0, ZP=0.0)\n../data/galaxy_flts/s39805_flt: photutils.source_properties\nRename column: ycentroid -> y_flt\nRename column: ra_icrs_centroid -> ra\nRename column: dec_icrs_centroid -> dec\nRename column: xcentroid -> x_flt"
     ]
    },
    {
     "name": "stdout",
     "output_type": "stream",
     "text": [
      "\n\u001b[1A\u001b[1M../data/galaxy_flts/s39805_flt: photutils.source_properties - 1 objects\n../data/galaxy_flts/s39805_flt: save ../data/galaxy_flts/s39805_flt.detect_seg.fits, ../data/galaxy_flts/s39805_flt.detect.cat\n"
     ]
    },
    {
     "name": "stdout",
     "output_type": "stream",
     "text": [
      "../data/galaxy_flts/s40223_flt: photutils.detect_sources (detect_thresh=0.0, grow_seg=5, gauss_fwhm=2.0, ZP=0.0)\n../data/galaxy_flts/s40223_flt: photutils.source_properties\n"
     ]
    },
    {
     "name": "stdout",
     "output_type": "stream",
     "text": [
      "Rename column: ycentroid -> y_flt\nRename column: ra_icrs_centroid -> ra\nRename column: dec_icrs_centroid -> dec\nRename column: xcentroid -> x_flt\n\u001b[1A\u001b[1M../data/galaxy_flts/s40223_flt: photutils.source_properties - 1 objects\n../data/galaxy_flts/s40223_flt: save ../data/galaxy_flts/s40223_flt.detect_seg.fits, ../data/galaxy_flts/s40223_flt.detect.cat\n"
     ]
    },
    {
     "name": "stdout",
     "output_type": "stream",
     "text": [
      "../data/galaxy_flts/s40476_flt: photutils.detect_sources (detect_thresh=0.0, grow_seg=5, gauss_fwhm=2.0, ZP=0.0)\n../data/galaxy_flts/s40476_flt: photutils.source_properties\n"
     ]
    },
    {
     "name": "stdout",
     "output_type": "stream",
     "text": [
      "Rename column: ycentroid -> y_flt\nRename column: ra_icrs_centroid -> ra\nRename column: dec_icrs_centroid -> dec\nRename column: xcentroid -> x_flt\n\u001b[1A\u001b[1M../data/galaxy_flts/s40476_flt: photutils.source_properties - 1 objects\n../data/galaxy_flts/s40476_flt: save ../data/galaxy_flts/s40476_flt.detect_seg.fits, ../data/galaxy_flts/s40476_flt.detect.cat\n"
     ]
    },
    {
     "name": "stdout",
     "output_type": "stream",
     "text": [
      "../data/galaxy_flts/s40597_flt: photutils.detect_sources (detect_thresh=0.0, grow_seg=5, gauss_fwhm=2.0, ZP=0.0)\n../data/galaxy_flts/s40597_flt: photutils.source_properties\n"
     ]
    },
    {
     "name": "stdout",
     "output_type": "stream",
     "text": [
      "Rename column: ycentroid -> y_flt\nRename column: ra_icrs_centroid -> ra\nRename column: dec_icrs_centroid -> dec\nRename column: xcentroid -> x_flt\n\u001b[1A\u001b[1M../data/galaxy_flts/s40597_flt: photutils.source_properties - 1 objects\n../data/galaxy_flts/s40597_flt: save ../data/galaxy_flts/s40597_flt.detect_seg.fits, ../data/galaxy_flts/s40597_flt.detect.cat\n"
     ]
    },
    {
     "name": "stdout",
     "output_type": "stream",
     "text": [
      "../data/galaxy_flts/s40623_flt: photutils.detect_sources (detect_thresh=0.0, grow_seg=5, gauss_fwhm=2.0, ZP=0.0)\n../data/galaxy_flts/s40623_flt: photutils.source_properties\n"
     ]
    },
    {
     "name": "stdout",
     "output_type": "stream",
     "text": [
      "Rename column: ycentroid -> y_flt\nRename column: ra_icrs_centroid -> ra\nRename column: dec_icrs_centroid -> dec\nRename column: xcentroid -> x_flt\n\u001b[1A\u001b[1M../data/galaxy_flts/s40623_flt: photutils.source_properties - 1 objects\n../data/galaxy_flts/s40623_flt: save ../data/galaxy_flts/s40623_flt.detect_seg.fits, ../data/galaxy_flts/s40623_flt.detect.cat\n"
     ]
    },
    {
     "name": "stdout",
     "output_type": "stream",
     "text": [
      "../data/galaxy_flts/s40862_flt: photutils.detect_sources (detect_thresh=0.0, grow_seg=5, gauss_fwhm=2.0, ZP=0.0)\n../data/galaxy_flts/s40862_flt: photutils.source_properties\n"
     ]
    },
    {
     "name": "stdout",
     "output_type": "stream",
     "text": [
      "Rename column: ycentroid -> y_flt\nRename column: ra_icrs_centroid -> ra\nRename column: dec_icrs_centroid -> dec\nRename column: xcentroid -> x_flt\n\u001b[1A\u001b[1M../data/galaxy_flts/s40862_flt: photutils.source_properties - 1 objects\n../data/galaxy_flts/s40862_flt: save ../data/galaxy_flts/s40862_flt.detect_seg.fits, ../data/galaxy_flts/s40862_flt.detect.cat\n"
     ]
    },
    {
     "name": "stdout",
     "output_type": "stream",
     "text": [
      "../data/galaxy_flts/s41148_flt: photutils.detect_sources (detect_thresh=0.0, grow_seg=5, gauss_fwhm=2.0, ZP=0.0)\n../data/galaxy_flts/s41148_flt: photutils.source_properties\n"
     ]
    },
    {
     "name": "stdout",
     "output_type": "stream",
     "text": [
      "Rename column: ycentroid -> y_flt\nRename column: ra_icrs_centroid -> ra\nRename column: dec_icrs_centroid -> dec\nRename column: xcentroid -> x_flt\n\u001b[1A\u001b[1M../data/galaxy_flts/s41148_flt: photutils.source_properties - 1 objects\n../data/galaxy_flts/s41148_flt: save ../data/galaxy_flts/s41148_flt.detect_seg.fits, ../data/galaxy_flts/s41148_flt.detect.cat\n"
     ]
    },
    {
     "name": "stdout",
     "output_type": "stream",
     "text": [
      "../data/galaxy_flts/s41520_flt: photutils.detect_sources (detect_thresh=0.0, grow_seg=5, gauss_fwhm=2.0, ZP=0.0)\n../data/galaxy_flts/s41520_flt: photutils.source_properties\n"
     ]
    },
    {
     "name": "stdout",
     "output_type": "stream",
     "text": [
      "Rename column: ycentroid -> y_flt\nRename column: ra_icrs_centroid -> ra\nRename column: dec_icrs_centroid -> dec\nRename column: xcentroid -> x_flt\n\u001b[1A\u001b[1M../data/galaxy_flts/s41520_flt: photutils.source_properties - 1 objects\n../data/galaxy_flts/s41520_flt: save ../data/galaxy_flts/s41520_flt.detect_seg.fits, ../data/galaxy_flts/s41520_flt.detect.cat\n"
     ]
    },
    {
     "name": "stdout",
     "output_type": "stream",
     "text": [
      "../data/galaxy_flts/s41659_flt: photutils.detect_sources (detect_thresh=0.0, grow_seg=5, gauss_fwhm=2.0, ZP=0.0)\n"
     ]
    },
    {
     "name": "stdout",
     "output_type": "stream",
     "text": [
      "../data/galaxy_flts/s41659_flt: photutils.source_properties\nRename column: ycentroid -> y_flt\nRename column: ra_icrs_centroid -> ra\nRename column: dec_icrs_centroid -> dec\nRename column: xcentroid -> x_flt\n\u001b[1A\u001b[1M../data/galaxy_flts/s41659_flt: photutils.source_properties - 2 objects\n../data/galaxy_flts/s41659_flt: save ../data/galaxy_flts/s41659_flt.detect_seg.fits, ../data/galaxy_flts/s41659_flt.detect.cat\n"
     ]
    },
    {
     "name": "stdout",
     "output_type": "stream",
     "text": [
      "../data/galaxy_flts/s43615_flt: photutils.detect_sources (detect_thresh=0.0, grow_seg=5, gauss_fwhm=2.0, ZP=0.0)\n../data/galaxy_flts/s43615_flt: photutils.source_properties\n"
     ]
    },
    {
     "name": "stdout",
     "output_type": "stream",
     "text": [
      "Rename column: ycentroid -> y_flt\nRename column: ra_icrs_centroid -> ra\nRename column: dec_icrs_centroid -> dec\nRename column: xcentroid -> x_flt\n\u001b[1A\u001b[1M../data/galaxy_flts/s43615_flt: photutils.source_properties - 1 objects\n../data/galaxy_flts/s43615_flt: save ../data/galaxy_flts/s43615_flt.detect_seg.fits, ../data/galaxy_flts/s43615_flt.detect.cat\n"
     ]
    },
    {
     "name": "stdout",
     "output_type": "stream",
     "text": [
      "../data/galaxy_flts/s44042_flt: photutils.detect_sources (detect_thresh=0.0, grow_seg=5, gauss_fwhm=2.0, ZP=0.0)\n../data/galaxy_flts/s44042_flt: photutils.source_properties\n"
     ]
    },
    {
     "name": "stdout",
     "output_type": "stream",
     "text": [
      "Rename column: ycentroid -> y_flt\nRename column: ra_icrs_centroid -> ra\nRename column: dec_icrs_centroid -> dec\nRename column: xcentroid -> x_flt\n\u001b[1A\u001b[1M../data/galaxy_flts/s44042_flt: photutils.source_properties - 1 objects\n../data/galaxy_flts/s44042_flt: save ../data/galaxy_flts/s44042_flt.detect_seg.fits, ../data/galaxy_flts/s44042_flt.detect.cat\n"
     ]
    },
    {
     "name": "stdout",
     "output_type": "stream",
     "text": [
      "../data/galaxy_flts/s45972_flt: photutils.detect_sources (detect_thresh=0.0, grow_seg=5, gauss_fwhm=2.0, ZP=0.0)\n../data/galaxy_flts/s45972_flt: photutils.source_properties\n"
     ]
    },
    {
     "name": "stdout",
     "output_type": "stream",
     "text": [
      "Rename column: ycentroid -> y_flt\nRename column: ra_icrs_centroid -> ra\nRename column: dec_icrs_centroid -> dec\nRename column: xcentroid -> x_flt\n\u001b[1A\u001b[1M../data/galaxy_flts/s45972_flt: photutils.source_properties - 1 objects\n../data/galaxy_flts/s45972_flt: save ../data/galaxy_flts/s45972_flt.detect_seg.fits, ../data/galaxy_flts/s45972_flt.detect.cat\n"
     ]
    },
    {
     "name": "stdout",
     "output_type": "stream",
     "text": [
      "../data/galaxy_flts/s46066_flt: photutils.detect_sources (detect_thresh=0.0, grow_seg=5, gauss_fwhm=2.0, ZP=0.0)\n../data/galaxy_flts/s46066_flt: photutils.source_properties\n"
     ]
    },
    {
     "name": "stdout",
     "output_type": "stream",
     "text": [
      "Rename column: ycentroid -> y_flt\nRename column: ra_icrs_centroid -> ra\nRename column: dec_icrs_centroid -> dec\nRename column: xcentroid -> x_flt\n\u001b[1A\u001b[1M../data/galaxy_flts/s46066_flt: photutils.source_properties - 1 objects\n../data/galaxy_flts/s46066_flt: save ../data/galaxy_flts/s46066_flt.detect_seg.fits, ../data/galaxy_flts/s46066_flt.detect.cat\n"
     ]
    },
    {
     "name": "stdout",
     "output_type": "stream",
     "text": [
      "../data/galaxy_flts/s48631_flt: photutils.detect_sources (detect_thresh=0.0, grow_seg=5, gauss_fwhm=2.0, ZP=0.0)\n"
     ]
    },
    {
     "name": "stdout",
     "output_type": "stream",
     "text": [
      "../data/galaxy_flts/s48631_flt: photutils.source_properties\nRename column: ycentroid -> y_flt\nRename column: ra_icrs_centroid -> ra\nRename column: dec_icrs_centroid -> dec\nRename column: xcentroid -> x_flt\n\u001b[1A\u001b[1M../data/galaxy_flts/s48631_flt: photutils.source_properties - 2 objects\n../data/galaxy_flts/s48631_flt: save ../data/galaxy_flts/s48631_flt.detect_seg.fits, ../data/galaxy_flts/s48631_flt.detect.cat\n"
     ]
    }
   ],
   "source": [
    "###DATA\n",
    "smpDB = pd.read_pickle('../data/sim_meas_phot.pkl')\n",
    "smpDB = smpDB[smpDB['gal_ids'] != 's35774']\n",
    "f098DB = smpDB[smpDB['meas-f098'] > 0]\n",
    "f850DB = smpDB[smpDB['meas-f850'] > 0]\n",
    "f105DB = smpDB[smpDB['meas-f105'] > 0]\n",
    "\n",
    "def Magnitude(flam):\n",
    "    mag=-2.5*np.log10(flam)\n",
    "    return mag\n",
    "\n",
    "Clam = 3E18 / 10475.92199 **2 * 10**((-1.1)/2.5-29)\n",
    "\n",
    "SNr = []\n",
    "\n",
    "for i in f098DB.index:\n",
    "    spec = Gen_spec(f098DB['gal_ids'][i], float(galDB['hi_res_specz'][galDB['gids'] == f098DB['gal_ids'][i]]),maxwv=11400)\n",
    "    fl = np.trapz(spec.gal_fl,spec.gal_wv)\n",
    "    er = np.trapz(spec.gal_er,spec.gal_wv)\n",
    "    SNr.append(fl/er)"
   ]
  },
  {
   "cell_type": "code",
   "execution_count": 66,
   "metadata": {},
   "outputs": [
    {
     "name": "stdout",
     "output_type": "stream",
     "text": [
      "43    -22.5448\n49    -21.5979\n50    -21.6091\n58    -23.3542\n61    -21.3358\n62    -22.5669\n69    -22.8938\n86    -22.1206\n96    -21.2878\n107   -21.8053\n110   -22.6226\n217   -21.8646\n219   -23.3462\n220   -20.6981\n221   -21.2453\n223   -21.7477\n224   -22.1838\n225   -23.0049\n227   -23.4668\n228   -22.4279\n230   -21.3022\n231   -22.9147\n232   -22.2341\n234   -23.1320\n235   -22.9333\n236   -24.0746\n246   -22.1832\n248   -22.5803\n251   -22.4997\n258   -21.4281\n259   -22.3644\n260   -23.6325\n267   -22.9648\n270   -21.5716\nName: meas-f105, dtype: float64\n"
     ]
    }
   ],
   "source": [
    "print -25-Magnitude(f105DB['meas-f105']/Clam)\n",
    "# print len(Magnitude(f105DB['sim-f105']/f105DB['meas-f105']))"
   ]
  },
  {
   "cell_type": "code",
   "execution_count": 148,
   "metadata": {
    "collapsed": true
   },
   "outputs": [
    {
     "data": {
      "image/png": "[encoded data removed]",
      "text/plain": [
       "<matplotlib.figure.Figure at 0x124825f10>"
      ]
     },
     "metadata": {},
     "output_type": "display_data"
    },
    {
     "data": {
      "image/png": "[encoded data removed]",
      "text/plain": [
       "<matplotlib.figure.Figure at 0x1242a6b90>"
      ]
     },
     "metadata": {},
     "output_type": "display_data"
    },
    {
     "data": {
      "image/png": "[encoded data removed]",
      "text/plain": [
       "<matplotlib.figure.Figure at 0x124191dd0>"
      ]
     },
     "metadata": {},
     "output_type": "display_data"
    },
    {
     "data": {
      "image/png": "[encoded data removed]",
      "text/plain": [
       "<matplotlib.figure.Figure at 0x124a8e610>"
      ]
     },
     "metadata": {},
     "output_type": "display_data"
    }
   ],
   "source": [
    "###PLOT \n",
    "%matplotlib inline\n",
    "\n",
    "plt.figure(figsize=[8,8])\n",
    "plt.plot(-25-Magnitude(f105DB['meas-f105']/Clam),Magnitude(f105DB['sim-f105']/f105DB['meas-f105']),'o')\n",
    "plt.ylabel('$\\Delta$ Mag(F105W)',fontsize = 30)\n",
    "plt.xlabel('Mag(F105W)',fontsize = 30)\n",
    "# plt.xlim(max(-25-Magnitude(smpDB['meas-f105']/Clam)),min(-25-Magnitude(smpDB['meas-f105']/Clam)))\n",
    "plt.show()\n",
    "# plt.savefig('../plots/df105.png')\n",
    "plt.close()\n",
    "\n",
    "plt.figure(figsize=[8,8])\n",
    "plt.plot(-25-Magnitude(f850DB['meas-f105']/Clam),Magnitude(f850DB['sim-f850']/f850DB['meas-f850']),'o')\n",
    "plt.ylabel('$\\Delta$ Mag(F850LP)',fontsize = 30)\n",
    "plt.xlabel('Mag(F105W)',fontsize = 30)\n",
    "plt.xlim(max(-25-Magnitude(smpDB['meas-f105']/Clam)),min(-25-Magnitude(smpDB['meas-f105']/Clam)))\n",
    "plt.show()\n",
    "# plt.savefig('../plots/df850.png')\n",
    "plt.close()\n",
    "\n",
    "plt.figure(figsize=[8,8])\n",
    "plt.plot(-25-Magnitude(f098DB['meas-f105']/Clam),Magnitude(f098DB['sim-f098']/f098DB['meas-f098']),'o')\n",
    "plt.ylabel('$\\Delta$ Mag(F09M)',fontsize = 30)\n",
    "plt.xlabel('Mag(F105M)',fontsize = 30)\n",
    "plt.xlim(max(-25-Magnitude(smpDB['meas-f105']/Clam)),min(-25-Magnitude(smpDB['meas-f105']/Clam)))\n",
    "plt.show()\n",
    "# plt.savefig('../plots/df098.png')\n",
    "plt.close()\n",
    "\n",
    "plt.figure(figsize=[8,8])\n",
    "plt.plot(-25-Magnitude(f850DB['meas-f105']/Clam),Magnitude((f850DB['sim-f850']*f850DB['meas-f105'])/(f850DB['meas-f850']*f850DB['sim-f105'])),'o')\n",
    "plt.ylabel('$\\Delta$ Mag(F105W) - Mag(F850LP)',fontsize = 30)\n",
    "plt.xlabel('Mag(F105W)',fontsize = 30)\n",
    "plt.xlim(max(-25-Magnitude(smpDB['meas-f105']/Clam)),min(-25-Magnitude(smpDB['meas-f105']/Clam)))\n",
    "plt.show()\n",
    "# plt.savefig('../plots/df105_f850.png')\n",
    "plt.close()"
   ]
  },
  {
   "cell_type": "code",
   "execution_count": 147,
   "metadata": {
    "collapsed": true
   },
   "outputs": [
    {
     "data": {
      "image/png": "[encoded data removed]",
      "text/plain": [
       "<matplotlib.figure.Figure at 0x122f2bc90>"
      ]
     },
     "metadata": {},
     "output_type": "display_data"
    },
    {
     "data": {
      "image/png": "[encoded data removed]",
      "text/plain": [
       "<matplotlib.figure.Figure at 0x12508c450>"
      ]
     },
     "metadata": {},
     "output_type": "display_data"
    },
    {
     "data": {
      "image/png": "[encoded data removed]",
      "text/plain": [
       "<matplotlib.figure.Figure at 0x1252b2310>"
      ]
     },
     "metadata": {},
     "output_type": "display_data"
    }
   ],
   "source": [
    "###PLOT \n",
    "%matplotlib inline\n",
    "\n",
    "plt.figure(figsize=[8,8])\n",
    "sea.distplot(Magnitude((f850DB['sim-f850']*f850DB['meas-f105'])/(f850DB['meas-f850']*f850DB['sim-f105'])),20)\n",
    "plt.xlabel('$\\Delta$ Mag(F105W) - Mag(F850LP)',fontsize = 30)\n",
    "plt.ylabel('N',fontsize = 30)\n",
    "plt.xlim(-.6,.6)\n",
    "plt.show()\n",
    "# plt.savefig('../plots/df105_850_dist.png')\n",
    "plt.close()\n",
    "\n",
    "plt.figure(figsize=[8,8])\n",
    "sea.distplot(Magnitude((f098DB['sim-f098']*f098DB['meas-f105'])/(f098DB['meas-f098']*f098DB['sim-f105'])),20)\n",
    "plt.xlabel('$\\Delta$ Mag(F105W) - Mag(F098M)',fontsize = 30)\n",
    "plt.ylabel('N',fontsize = 30)\n",
    "plt.xlim(-.6,.6)\n",
    "plt.show()\n",
    "# plt.savefig('../plots/df105_f098_dist.png')\n",
    "plt.close()\n",
    "\n",
    "plt.figure(figsize=[8,8])\n",
    "sea.distplot(Magnitude((f098DB['sim-f098']*f098DB['meas-f850'])/(f098DB['meas-f098']*f098DB['sim-f850'])),20)\n",
    "plt.xlabel('$\\Delta$ Mag(F850LP) - Mag(F098M)',fontsize = 30)\n",
    "plt.ylabel('N',fontsize = 30)\n",
    "plt.xlim(-.6,.6)\n",
    "plt.show()\n",
    "# plt.savefig('../plots/df850_f098_dist.png')\n",
    "plt.close()"
   ]
  },
  {
   "cell_type": "code",
   "execution_count": 157,
   "metadata": {},
   "outputs": [],
   "source": [
    "###PLOT \n",
    "%matplotlib inline\n",
    "\n",
    "\n",
    "plt.figure(figsize=[8,8])\n",
    "plt.plot(SNr,Magnitude((f098DB['sim-f098']*f098DB['meas-f850'])/(f098DB['meas-f098']*f098DB['sim-f850'])),'o')\n",
    "# plt.axhline(medr,color = 'r')\n",
    "# plt.axhline(medr-mlerrr,color = 'k')\n",
    "# plt.axhline(medr+mherrr,color = 'k')\n",
    "plt.ylabel('$\\Delta$ (Mag(F098M) - Mag(F850LP))',fontsize = 30)\n",
    "plt.xlabel('Integrated SN',fontsize = 30)\n",
    "plt.tick_params(axis='both', which='major', labelsize=17)\n",
    "plt.gcf().subplots_adjust(left=0.15)\n",
    "# plt.show()\n",
    "plt.savefig('../plots/d_f098_f850.pdf')\n",
    "plt.close()"
   ]
  },
  {
   "cell_type": "code",
   "execution_count": 150,
   "metadata": {},
   "outputs": [
    {
     "data": {
      "text/plain": [
       "Index([u'f098-effwv', u'f105-effwv', u'f850-effwv', u'gal_ids', u'meas-f098',\n       u'meas-f098_err', u'meas-f105', u'meas-f105_err', u'meas-f850',\n       u'meas-f850_err', u'sim-f098', u'sim-f098_err', u'sim-f105',\n       u'sim-f105_err', u'sim-f850', u'sim-f850_err'],\n      dtype='object')"
      ]
     },
     "execution_count": 150,
     "metadata": {},
     "output_type": "execute_result"
    }
   ],
   "source": [
    "f098DB.columns"
   ]
  },
  {
   "cell_type": "code",
   "execution_count": null,
   "metadata": {},
   "outputs": [],
   "source": [
    ""
   ]
  }
 ],
 "metadata": {
  "kernelspec": {
   "display_name": "Python 2",
   "language": "python",
   "name": "python2"
  },
  "language_info": {
   "codemirror_mode": {
    "name": "ipython",
    "version": 2
   },
   "file_extension": ".py",
   "mimetype": "text/x-python",
   "name": "python",
   "nbconvert_exporter": "python",
   "pygments_lexer": "ipython2",
   "version": "2.7.6"
  }
 },
 "nbformat": 4,
 "nbformat_minor": 0
}
