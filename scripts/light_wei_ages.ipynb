{
 "cells": [
  {
   "cell_type": "code",
   "execution_count": 30,
   "metadata": {
    "collapsed": true
   },
   "outputs": [],
   "source": [
    "import numpy as np\n",
    "import matplotlib.pyplot as plt\n",
    "from scipy.interpolate import interp1d\n",
    "from matplotlib import gridspec\n",
    "import pandas as pd\n",
    "import os\n",
    "import seaborn as sea\n",
    "sea.set(style='white')\n",
    "sea.set(style='ticks')\n",
    "sea.set_style({\"xtick.direction\": \"in\", \"ytick.direction\": \"in\"})"
   ]
  },
  {
   "cell_type": "code",
   "execution_count": 7,
   "metadata": {
    "collapsed": true
   },
   "outputs": [],
   "source": [
    "galDB = pd.read_pickle('../data/sgal_param_DB.pkl')\n",
    "\n",
    "metal=np.arange(0.002,0.031,0.001)\n",
    "age=np.arange(.5,6.1,.1)\n",
    "tau=[0,8.0, 8.3, 8.48, 8.6, 8.7, 8.78, 8.85, 8.9, 8.95, 9.0, 9.04, 9.08, 9.11, 9.15, 9.18, 9.2, 9.23, 9.26, 9.28,\n",
    "     9.3, 9.32, 9.34, 9.36, 9.38, 9.4, 9.41, 9.43, 9.45, 9.46, 9.48]"
   ]
  },
  {
   "cell_type": "code",
   "execution_count": 14,
   "metadata": {
    "collapsed": false
   },
   "outputs": [],
   "source": [
    "g_grid = np.zeros([metal.size,age.size,len(tau)])\n",
    "for i in range(metal.size):\n",
    "    g_grid[i]=np.load('../data/m%s_gbf.npy' % metal[i]).T\n",
    "    \n",
    "age_conv = np.load('../data/light_weight_scaling_2.npy')"
   ]
  },
  {
   "cell_type": "code",
   "execution_count": 15,
   "metadata": {
    "collapsed": false
   },
   "outputs": [],
   "source": [
    "g_dist= g_grid[17].T[1:7]\n",
    "l_dist= age_conv[17].T[1:7]"
   ]
  },
  {
   "cell_type": "code",
   "execution_count": 10,
   "metadata": {
    "collapsed": true
   },
   "outputs": [],
   "source": [
    "ultau=np.append(0,10**(np.array(tau[1:])-9))"
   ]
  },
  {
   "cell_type": "code",
   "execution_count": 11,
   "metadata": {
    "collapsed": true
   },
   "outputs": [],
   "source": [
    "def SFH(AGE,TAU):\n",
    "    return AGE*np.exp(-AGE/TAU)"
   ]
  },
  {
   "cell_type": "code",
   "execution_count": 27,
   "metadata": {
    "collapsed": true
   },
   "outputs": [],
   "source": [
    "def LWA(dist,tau):\n",
    "    top = np.zeros(len(dist))\n",
    "    bottom = np.zeros(len(dist))\n",
    "\n",
    "    for i in range(len(dist)):\n",
    "        top[i] = np.trapz(SFH(age,tau)[0:i+1] * dist[0:i+1] * (age[i] - age[0:i+1]),age[0:i+1])\n",
    "        bottom[i] = np.trapz(SFH(age,tau)[0:i+1]*dist[0:i+1],age[0:i+1])\n",
    "    \n",
    "    return top/bottom\n",
    "\n",
    "def LWA_top(dist,tau):\n",
    "    top = np.zeros(len(dist))\n",
    "\n",
    "    for i in range(len(dist)):\n",
    "        top[i] = np.trapz(SFH(age,tau)[0:i+1] * dist[0:i+1] * (age[i] - age[0:i+1]),age[0:i+1])\n",
    "    \n",
    "    return top\n",
    "    "
   ]
  },
  {
   "cell_type": "code",
   "execution_count": 23,
   "metadata": {
    "collapsed": false
   },
   "outputs": [
    {
     "name": "stderr",
     "output_type": "stream",
     "text": [
      "/Users/vestrada/miniconda2/envs/astroconda/lib/python2.7/site-packages/ipykernel_launcher.py:9: RuntimeWarning: invalid value encountered in divide\n",
      "  if __name__ == '__main__':\n"
     ]
    }
   ],
   "source": [
    "test = LWA(g_dist[5][::-1],ultau[6])"
   ]
  },
  {
   "cell_type": "code",
   "execution_count": 25,
   "metadata": {
    "collapsed": false
   },
   "outputs": [
    {
     "data": {
      "text/plain": [
       "[<matplotlib.lines.Line2D at 0x10a9e9650>]"
      ]
     },
     "execution_count": 25,
     "metadata": {},
     "output_type": "execute_result"
    },
    {
     "data": {
      "image/png": "[encoded data removed]",
      "text/plain": [
       "<matplotlib.figure.Figure at 0x10a894710>"
      ]
     },
     "metadata": {},
     "output_type": "display_data"
    }
   ],
   "source": [
    "%matplotlib inline\n",
    "\n",
    "plt.figure(figsize=[8,8])\n",
    "plt.plot(age,test)\n",
    "# plt.plot(age,l_dist[5])"
   ]
  },
  {
   "cell_type": "code",
   "execution_count": 26,
   "metadata": {
    "collapsed": true
   },
   "outputs": [],
   "source": [
    "def B_weight(dist,t_star):\n",
    "    t_prime = np.append(np.arange(t_star-.001,.501,-.1),.501)\n",
    "    idist = interp1d(age,dist)\n",
    "    return idist(t_prime)\n",
    "\n",
    "def Top_dist(Z,t_star,log_tau):\n",
    "    return B_weight(g_grid[np.argwhere(metal == Z)[0][0]].T[np.argwhere(np.array(tau) == log_tau)[0][0]],t_star)\\\n",
    "           *SFH(np.arange(0.5,t_star+0.1,.1),10**(log_tau -9))*(t_star - np.arange(0.5,t_star+0.1,.1))"
   ]
  },
  {
   "cell_type": "code",
   "execution_count": 31,
   "metadata": {
    "collapsed": false
   },
   "outputs": [
    {
     "data": {
      "text/plain": [
       "[<matplotlib.lines.Line2D at 0x10ad92410>]"
      ]
     },
     "execution_count": 31,
     "metadata": {},
     "output_type": "execute_result"
    },
    {
     "data": {
      "image/png": "[encoded data removed]",
      "text/plain": [
       "<matplotlib.figure.Figure at 0x10ad9ce50>"
      ]
     },
     "metadata": {},
     "output_type": "display_data"
    }
   ],
   "source": [
    "%matplotlib inline\n",
    "\n",
    "plt.figure(figsize=[8,8])\n",
    "plt.plot(age,LWA_top(g_dist[0][::-1],ultau[1]))\n",
    "plt.plot(age,Top_dist(metal[17],6,8.0))"
   ]
  },
  {
   "cell_type": "code",
   "execution_count": null,
   "metadata": {
    "collapsed": true
   },
   "outputs": [],
   "source": []
  }
 ],
 "metadata": {
  "kernelspec": {
   "display_name": "Python 2",
   "language": "python",
   "name": "python2"
  },
  "language_info": {
   "codemirror_mode": {
    "name": "ipython",
    "version": 2
   },
   "file_extension": ".py",
   "mimetype": "text/x-python",
   "name": "python",
   "nbconvert_exporter": "python",
   "pygments_lexer": "ipython2",
   "version": "2.7.13"
  }
 },
 "nbformat": 4,
 "nbformat_minor": 0
}
