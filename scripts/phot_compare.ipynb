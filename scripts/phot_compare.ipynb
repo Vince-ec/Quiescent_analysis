{
 "cells": [
  {
   "cell_type": "code",
   "execution_count": 2,
   "metadata": {
    "collapsed": true
   },
   "outputs": [],
   "source": [
    "import numpy as np\n",
    "import matplotlib.pyplot as plt\n",
    "from matplotlib import gridspec\n",
    "from vtl.Readfile import Readfile\n",
    "from vtl.Photo import Photometry\n",
    "import pandas as pd\n",
    "from glob import glob\n",
    "from astropy.io import fits, ascii\n",
    "from astropy.table import Table\n",
    "from scipy.interpolate import interp1d\n",
    "import os\n",
    "import cPickle\n",
    "import seaborn as sea\n",
    "sea.set(style='white')\n",
    "sea.set(style='ticks')\n",
    "sea.set_style({\"xtick.direction\": \"in\",\"ytick.direction\": \"in\"})\n",
    "colmap = sea.cubehelix_palette(12, start=2, rot=.2, dark=0, light=1.1, as_cmap=True)"
   ]
  },
  {
   "cell_type": "code",
   "execution_count": 3,
   "metadata": {},
   "outputs": [],
   "source": [
    "galDB = pd.read_pickle('../data/sgal_param_DB.pkl')\n",
    "metal=np.arange(0.002,0.031,0.001)\n",
    "age=np.arange(.5,6.1,.1)\n",
    "tau=[0,8.0, 8.3, 8.48, 8.6, 8.7, 8.78, 8.85, 8.9, 8.95, 9.0, 9.04, 9.08, 9.11, 9.15, 9.18, 9.2, 9.23, 9.26, 9.28,\n",
    "     9.3, 9.32, 9.34, 9.36, 9.38, 9.4, 9.41, 9.43, 9.45, 9.46, 9.48]"
   ]
  },
  {
   "cell_type": "code",
   "execution_count": 15,
   "metadata": {},
   "outputs": [],
   "source": [
    "phot_db = pd.read_pickle('../data/phot_db.pkl')\n",
    "gphot_db = pd.read_pickle('../data/gphot_db.pkl')"
   ]
  },
  {
   "cell_type": "code",
   "execution_count": 16,
   "metadata": {},
   "outputs": [
    {
     "data": {
      "text/html": [
       "<div>\n",
       "<table border=\"1\" class=\"dataframe\">\n",
       "  <thead>\n",
       "    <tr style=\"text-align: right;\">\n",
       "      <th></th>\n",
       "      <th>eff_wv</th>\n",
       "      <th>fwhm</th>\n",
       "      <th>n14713</th>\n",
       "      <th>n14713_err</th>\n",
       "      <th>n16758</th>\n",
       "      <th>n16758_err</th>\n",
       "      <th>n17070</th>\n",
       "      <th>n17070_err</th>\n",
       "      <th>n19442</th>\n",
       "      <th>n19442_err</th>\n",
       "      <th>...</th>\n",
       "      <th>s45972</th>\n",
       "      <th>s45972_err</th>\n",
       "      <th>s46066</th>\n",
       "      <th>s46066_err</th>\n",
       "      <th>s46345</th>\n",
       "      <th>s46345_err</th>\n",
       "      <th>s47677</th>\n",
       "      <th>s47677_err</th>\n",
       "      <th>s48631</th>\n",
       "      <th>s48631_err</th>\n",
       "    </tr>\n",
       "  </thead>\n",
       "  <tbody>\n",
       "    <tr>\n",
       "      <th>F850LP</th>\n",
       "      <td>9001</td>\n",
       "      <td>1235</td>\n",
       "      <td>-9.900000e+01</td>\n",
       "      <td>-9.900000e+01</td>\n",
       "      <td>1.747697e-18</td>\n",
       "      <td>2.422580e-19</td>\n",
       "      <td>1.529235e-18</td>\n",
       "      <td>4.663560e-19</td>\n",
       "      <td>3.264858e-19</td>\n",
       "      <td>3.000168e-19</td>\n",
       "      <td>...</td>\n",
       "      <td>2.011440e-18</td>\n",
       "      <td>2.151872e-19</td>\n",
       "      <td>-9.900000e+01</td>\n",
       "      <td>-9.900000e+01</td>\n",
       "      <td>-9.900000e+01</td>\n",
       "      <td>-9.900000e+01</td>\n",
       "      <td>5.076848e-19</td>\n",
       "      <td>2.006029e-19</td>\n",
       "      <td>1.673274e-18</td>\n",
       "      <td>3.372973e-19</td>\n",
       "    </tr>\n",
       "    <tr>\n",
       "      <th>F098M</th>\n",
       "      <td>9841</td>\n",
       "      <td>1163</td>\n",
       "      <td>9.769333e-19</td>\n",
       "      <td>2.634086e-19</td>\n",
       "      <td>2.098037e-18</td>\n",
       "      <td>1.445953e-19</td>\n",
       "      <td>1.996690e-18</td>\n",
       "      <td>2.641406e-19</td>\n",
       "      <td>3.732585e-19</td>\n",
       "      <td>2.511762e-19</td>\n",
       "      <td>...</td>\n",
       "      <td>2.273222e-18</td>\n",
       "      <td>1.341041e-19</td>\n",
       "      <td>-9.900000e+01</td>\n",
       "      <td>-9.900000e+01</td>\n",
       "      <td>2.392788e-19</td>\n",
       "      <td>1.000450e-19</td>\n",
       "      <td>6.410471e-19</td>\n",
       "      <td>1.298577e-19</td>\n",
       "      <td>1.888517e-18</td>\n",
       "      <td>1.678651e-19</td>\n",
       "    </tr>\n",
       "    <tr>\n",
       "      <th>Subaru-IA827</th>\n",
       "      <td>8245</td>\n",
       "      <td>245</td>\n",
       "      <td>8.229581e-19</td>\n",
       "      <td>8.340300e-19</td>\n",
       "      <td>1.344934e-18</td>\n",
       "      <td>4.807593e-19</td>\n",
       "      <td>1.026516e-18</td>\n",
       "      <td>9.274676e-19</td>\n",
       "      <td>3.103016e-19</td>\n",
       "      <td>5.189770e-19</td>\n",
       "      <td>...</td>\n",
       "      <td>1.572377e-18</td>\n",
       "      <td>4.653268e-19</td>\n",
       "      <td>5.621589e-19</td>\n",
       "      <td>6.620920e-19</td>\n",
       "      <td>2.536885e-19</td>\n",
       "      <td>3.105887e-19</td>\n",
       "      <td>3.113629e-19</td>\n",
       "      <td>3.917838e-19</td>\n",
       "      <td>1.490061e-18</td>\n",
       "      <td>9.242394e-19</td>\n",
       "    </tr>\n",
       "    <tr>\n",
       "      <th>Subaru-IA856</th>\n",
       "      <td>8563</td>\n",
       "      <td>266</td>\n",
       "      <td>-9.900000e+01</td>\n",
       "      <td>-9.900000e+01</td>\n",
       "      <td>-9.900000e+01</td>\n",
       "      <td>-9.900000e+01</td>\n",
       "      <td>1.064267e-18</td>\n",
       "      <td>6.100259e-19</td>\n",
       "      <td>2.494950e-19</td>\n",
       "      <td>3.569217e-19</td>\n",
       "      <td>...</td>\n",
       "      <td>1.782134e-18</td>\n",
       "      <td>2.815424e-19</td>\n",
       "      <td>6.039884e-19</td>\n",
       "      <td>4.402900e-19</td>\n",
       "      <td>-9.900000e+01</td>\n",
       "      <td>-9.900000e+01</td>\n",
       "      <td>3.919963e-19</td>\n",
       "      <td>2.617631e-19</td>\n",
       "      <td>1.533059e-18</td>\n",
       "      <td>5.284655e-19</td>\n",
       "    </tr>\n",
       "    <tr>\n",
       "      <th>Subaru-suprime-z</th>\n",
       "      <td>9077</td>\n",
       "      <td>970</td>\n",
       "      <td>7.964886e-19</td>\n",
       "      <td>3.818980e-19</td>\n",
       "      <td>1.796225e-18</td>\n",
       "      <td>2.212656e-19</td>\n",
       "      <td>1.541097e-18</td>\n",
       "      <td>4.311053e-19</td>\n",
       "      <td>3.083753e-19</td>\n",
       "      <td>2.809899e-19</td>\n",
       "      <td>...</td>\n",
       "      <td>2.043646e-18</td>\n",
       "      <td>1.945843e-19</td>\n",
       "      <td>6.294148e-19</td>\n",
       "      <td>2.951754e-19</td>\n",
       "      <td>2.333093e-19</td>\n",
       "      <td>1.460643e-19</td>\n",
       "      <td>5.240084e-19</td>\n",
       "      <td>1.831599e-19</td>\n",
       "      <td>1.641221e-18</td>\n",
       "      <td>2.742698e-19</td>\n",
       "    </tr>\n",
       "  </tbody>\n",
       "</table>\n",
       "<p>5 rows × 72 columns</p>\n",
       "</div>"
      ],
      "text/plain": [
       "<div>\n",
       "<table border=\"1\" class=\"dataframe\">\n",
       "  <thead>\n",
       "    <tr style=\"text-align: right;\">\n",
       "      <th></th>\n",
       "      <th>eff_wv</th>\n",
       "      <th>fwhm</th>\n",
       "      <th>n14713</th>\n",
       "      <th>n14713_err</th>\n",
       "      <th>n16758</th>\n",
       "      <th>n16758_err</th>\n",
       "      <th>n17070</th>\n",
       "      <th>n17070_err</th>\n",
       "      <th>n19442</th>\n",
       "      <th>n19442_err</th>\n",
       "      <th>...</th>\n",
       "      <th>s45972</th>\n",
       "      <th>s45972_err</th>\n",
       "      <th>s46066</th>\n",
       "      <th>s46066_err</th>\n",
       "      <th>s46345</th>\n",
       "      <th>s46345_err</th>\n",
       "      <th>s47677</th>\n",
       "      <th>s47677_err</th>\n",
       "      <th>s48631</th>\n",
       "      <th>s48631_err</th>\n",
       "    </tr>\n",
       "  </thead>\n",
       "  <tbody>\n",
       "    <tr>\n",
       "      <th>F850LP</th>\n",
       "      <td>9001</td>\n",
       "      <td>1235</td>\n",
       "      <td>-9.900000e+01</td>\n",
       "      <td>-9.900000e+01</td>\n",
       "      <td>1.747697e-18</td>\n",
       "      <td>2.422580e-19</td>\n",
       "      <td>1.529235e-18</td>\n",
       "      <td>4.663560e-19</td>\n",
       "      <td>3.264858e-19</td>\n",
       "      <td>3.000168e-19</td>\n",
       "      <td>...</td>\n",
       "      <td>2.011440e-18</td>\n",
       "      <td>2.151872e-19</td>\n",
       "      <td>-9.900000e+01</td>\n",
       "      <td>-9.900000e+01</td>\n",
       "      <td>-9.900000e+01</td>\n",
       "      <td>-9.900000e+01</td>\n",
       "      <td>5.076848e-19</td>\n",
       "      <td>2.006029e-19</td>\n",
       "      <td>1.673274e-18</td>\n",
       "      <td>3.372973e-19</td>\n",
       "    </tr>\n",
       "    <tr>\n",
       "      <th>F098M</th>\n",
       "      <td>9841</td>\n",
       "      <td>1163</td>\n",
       "      <td>9.769333e-19</td>\n",
       "      <td>2.634086e-19</td>\n",
       "      <td>2.098037e-18</td>\n",
       "      <td>1.445953e-19</td>\n",
       "      <td>1.996690e-18</td>\n",
       "      <td>2.641406e-19</td>\n",
       "      <td>3.732585e-19</td>\n",
       "      <td>2.511762e-19</td>\n",
       "      <td>...</td>\n",
       "      <td>2.273222e-18</td>\n",
       "      <td>1.341041e-19</td>\n",
       "      <td>-9.900000e+01</td>\n",
       "      <td>-9.900000e+01</td>\n",
       "      <td>2.392788e-19</td>\n",
       "      <td>1.000450e-19</td>\n",
       "      <td>6.410471e-19</td>\n",
       "      <td>1.298577e-19</td>\n",
       "      <td>1.888517e-18</td>\n",
       "      <td>1.678651e-19</td>\n",
       "    </tr>\n",
       "    <tr>\n",
       "      <th>Subaru-IA827</th>\n",
       "      <td>8245</td>\n",
       "      <td>245</td>\n",
       "      <td>8.229581e-19</td>\n",
       "      <td>8.340300e-19</td>\n",
       "      <td>1.344934e-18</td>\n",
       "      <td>4.807593e-19</td>\n",
       "      <td>1.026516e-18</td>\n",
       "      <td>9.274676e-19</td>\n",
       "      <td>3.103016e-19</td>\n",
       "      <td>5.189770e-19</td>\n",
       "      <td>...</td>\n",
       "      <td>1.572377e-18</td>\n",
       "      <td>4.653268e-19</td>\n",
       "      <td>5.621589e-19</td>\n",
       "      <td>6.620920e-19</td>\n",
       "      <td>2.536885e-19</td>\n",
       "      <td>3.105887e-19</td>\n",
       "      <td>3.113629e-19</td>\n",
       "      <td>3.917838e-19</td>\n",
       "      <td>1.490061e-18</td>\n",
       "      <td>9.242394e-19</td>\n",
       "    </tr>\n",
       "    <tr>\n",
       "      <th>Subaru-IA856</th>\n",
       "      <td>8563</td>\n",
       "      <td>266</td>\n",
       "      <td>-9.900000e+01</td>\n",
       "      <td>-9.900000e+01</td>\n",
       "      <td>-9.900000e+01</td>\n",
       "      <td>-9.900000e+01</td>\n",
       "      <td>1.064267e-18</td>\n",
       "      <td>6.100259e-19</td>\n",
       "      <td>2.494950e-19</td>\n",
       "      <td>3.569217e-19</td>\n",
       "      <td>...</td>\n",
       "      <td>1.782134e-18</td>\n",
       "      <td>2.815424e-19</td>\n",
       "      <td>6.039884e-19</td>\n",
       "      <td>4.402900e-19</td>\n",
       "      <td>-9.900000e+01</td>\n",
       "      <td>-9.900000e+01</td>\n",
       "      <td>3.919963e-19</td>\n",
       "      <td>2.617631e-19</td>\n",
       "      <td>1.533059e-18</td>\n",
       "      <td>5.284655e-19</td>\n",
       "    </tr>\n",
       "    <tr>\n",
       "      <th>Subaru-suprime-z</th>\n",
       "      <td>9077</td>\n",
       "      <td>970</td>\n",
       "      <td>7.964886e-19</td>\n",
       "      <td>3.818980e-19</td>\n",
       "      <td>1.796225e-18</td>\n",
       "      <td>2.212656e-19</td>\n",
       "      <td>1.541097e-18</td>\n",
       "      <td>4.311053e-19</td>\n",
       "      <td>3.083753e-19</td>\n",
       "      <td>2.809899e-19</td>\n",
       "      <td>...</td>\n",
       "      <td>2.043646e-18</td>\n",
       "      <td>1.945843e-19</td>\n",
       "      <td>6.294148e-19</td>\n",
       "      <td>2.951754e-19</td>\n",
       "      <td>2.333093e-19</td>\n",
       "      <td>1.460643e-19</td>\n",
       "      <td>5.240084e-19</td>\n",
       "      <td>1.831599e-19</td>\n",
       "      <td>1.641221e-18</td>\n",
       "      <td>2.742698e-19</td>\n",
       "    </tr>\n",
       "  </tbody>\n",
       "</table>\n",
       "<p>5 rows × 72 columns</p>\n",
       "</div>"
      ]
     },
     "execution_count": 16,
     "metadata": {},
     "output_type": "execute_result"
    }
   ],
   "source": [
    "gphot_db"
   ]
  },
  {
   "cell_type": "code",
   "execution_count": 31,
   "metadata": {
    "collapsed": false
   },
   "outputs": [
    {
     "name": "stdout",
     "output_type": "stream",
     "text": [
      "F850LP              4.039693e-18\nF098M               4.505023e-18\nSubaru-IA827        3.277644e-18\nSubaru-IA856        3.327478e-18\nSubaru-suprime-z    4.160597e-18\nName: s39170, dtype: float64\nF850LP              2.542565e-19\nF098M               1.586512e-19\nSubaru-IA827        5.852868e-19\nSubaru-IA856        3.272110e-19\nSubaru-suprime-z    2.272872e-19\nName: s39170_err, dtype: float64\n-------------------------\ns_F850LP        32.128795\ns_F850LPcand   -99.000000\nn_F850LP       -99.000000\ns_F098M         44.080278\ns_IA827         20.969773\ns_IA856         24.557825\nn_Z            -99.000000\nName: s39170, dtype: float64\ns_F850LP         0.068761\ns_F850LPcand   -99.000000\nn_F850LP       -99.000000\ns_F098M          0.067520\ns_IA827          0.509540\ns_IA856          0.392853\nn_Z            -99.000000\nName: s39170_err, dtype: float64\n"
     ]
    }
   ],
   "source": [
    "print gphot_db['s39170']\n",
    "print gphot_db['s39170_err']\n",
    "print '-------------------------'\n",
    "# print phot_db['s39170']\n",
    "print phot_db['s39170'][['s_F850LP','s_F850LPcand','n_F850LP','s_F098M','s_IA827','s_IA856','n_Z']]\n",
    "print phot_db['s39170_err'][['s_F850LP','s_F850LPcand','n_F850LP','s_F098M','s_IA827','s_IA856','n_Z']]"
   ]
  },
  {
   "cell_type": "code",
   "execution_count": 18,
   "metadata": {
    "collapsed": false
   },
   "outputs": [
    {
     "name": "stdout",
     "output_type": "stream",
     "text": [
      "s_F850LP    1.344435e-19\ns_F098M     1.124716e-19\ns_IA827     1.602286e-19\ns_IA856     1.485489e-19\nn_Z         1.322016e-19\nName: eff_wv, dtype: float64\n"
     ]
    }
   ],
   "source": [
    "Clam = 3E18 / phot_db['eff_wv'][['s_F850LP','s_F098M','s_IA827','s_IA856','n_Z']] **2 * 10**((-1.1)/2.5-29)\n",
    "print Clam"
   ]
  },
  {
   "cell_type": "code",
   "execution_count": 19,
   "metadata": {
    "collapsed": true
   },
   "outputs": [],
   "source": [
    "s_F850LP = np.zeros(len(galDB.index))\n",
    "s_F850LPcand = np.zeros(len(galDB.index))\n",
    "n_F850LP = np.zeros(len(galDB.index))\n",
    "s_F098M = np.zeros(len(galDB.index))\n",
    "s_IA827 = np.zeros(len(galDB.index))\n",
    "s_IA856 = np.zeros(len(galDB.index))\n",
    "n_Z = np.zeros(len(galDB.index))\n",
    "\n",
    "for i in range(len(galDB.index)):\n",
    "    if gphot_db[galDB['gids'][galDB.index[i]]]['F850LP'] < 0 or phot_db[galDB['gids'][galDB.index[i]]]['s_F850LP']  < 0:\n",
    "        s_F850LP[i] = np.nan\n",
    "    else:\n",
    "        s_F850LP[i] = gphot_db[galDB['gids'][galDB.index[i]]]['F850LP'] / (phot_db[galDB['gids'][galDB.index[i]]]['s_F850LP']*Clam[0])\n",
    "    ##########################################################################################\n",
    "    if gphot_db[galDB['gids'][galDB.index[i]]]['F850LP']  < 0 or phot_db[galDB['gids'][galDB.index[i]]]['s_F850LPcand']  < 0:\n",
    "        s_F850LPcand[i] = np.nan\n",
    "    else:\n",
    "        s_F850LPcand[i] = gphot_db[galDB['gids'][galDB.index[i]]]['F850LP'] / (phot_db[galDB['gids'][galDB.index[i]]]['s_F850LPcand']*Clam[0])\n",
    "    ##########################################################################################\n",
    "    if gphot_db[galDB['gids'][galDB.index[i]]]['F850LP']  < 0 or phot_db[galDB['gids'][galDB.index[i]]]['n_F850LP']  < 0:\n",
    "        n_F850LP[i] = np.nan\n",
    "    else:\n",
    "        n_F850LP[i] = gphot_db[galDB['gids'][galDB.index[i]]]['F850LP'] / (phot_db[galDB['gids'][galDB.index[i]]]['n_F850LP']*Clam[0])\n",
    "    ##########################################################################################\n",
    "    if gphot_db[galDB['gids'][galDB.index[i]]]['F098M']  < 0 or phot_db[galDB['gids'][galDB.index[i]]]['s_F098M']  < 0:\n",
    "        s_F098M[i] = np.nan\n",
    "    else:\n",
    "        s_F098M[i] = gphot_db[galDB['gids'][galDB.index[i]]]['F098M'] / (phot_db[galDB['gids'][galDB.index[i]]]['s_F098M']*Clam[1])\n",
    "    ##########################################################################################\n",
    "    if gphot_db[galDB['gids'][galDB.index[i]]]['Subaru-IA827']  < 0 or phot_db[galDB['gids'][galDB.index[i]]]['s_IA827']  < 0:\n",
    "        s_IA827[i] = np.nan\n",
    "    else:\n",
    "        s_IA827[i] = gphot_db[galDB['gids'][galDB.index[i]]]['Subaru-IA827'] / (phot_db[galDB['gids'][galDB.index[i]]]['s_IA827']*Clam[2])\n",
    "    ##########################################################################################\n",
    "    if gphot_db[galDB['gids'][galDB.index[i]]]['Subaru-IA856']  < 0 or phot_db[galDB['gids'][galDB.index[i]]]['s_IA856']  < 0:\n",
    "        s_IA856[i] = np.nan\n",
    "    else:\n",
    "        s_IA856[i] = gphot_db[galDB['gids'][galDB.index[i]]]['Subaru-IA856'] / (phot_db[galDB['gids'][galDB.index[i]]]['s_IA856']*Clam[3])\n",
    "    ##########################################################################################\n",
    "    if gphot_db[galDB['gids'][galDB.index[i]]]['Subaru-suprime-z']  < 0 or phot_db[galDB['gids'][galDB.index[i]]]['n_Z']  < 0:\n",
    "        n_Z[i] = np.nan\n",
    "    else:\n",
    "        n_Z[i] = gphot_db[galDB['gids'][galDB.index[i]]]['Subaru-suprime-z'] / (phot_db[galDB['gids'][galDB.index[i]]]['n_Z']*Clam[4])"
   ]
  },
  {
   "cell_type": "code",
   "execution_count": 21,
   "metadata": {
    "collapsed": true
   },
   "outputs": [
    {
     "data": {
      "image/png": "[encoded data removed]",
      "text/plain": [
       "<matplotlib.figure.Figure at 0x110fb5250>"
      ]
     },
     "metadata": {},
     "output_type": "display_data"
    },
    {
     "data": {
      "image/png": "[encoded data removed]",
      "text/plain": [
       "<matplotlib.figure.Figure at 0x110f72350>"
      ]
     },
     "metadata": {},
     "output_type": "display_data"
    },
    {
     "data": {
      "image/png": "[encoded data removed]",
      "text/plain": [
       "<matplotlib.figure.Figure at 0x110c5cb90>"
      ]
     },
     "metadata": {},
     "output_type": "display_data"
    },
    {
     "data": {
      "image/png": "[encoded data removed]",
      "text/plain": [
       "<matplotlib.figure.Figure at 0x11009fd90>"
      ]
     },
     "metadata": {},
     "output_type": "display_data"
    },
    {
     "data": {
      "image/png": "[encoded data removed]",
      "text/plain": [
       "<matplotlib.figure.Figure at 0x110c07410>"
      ]
     },
     "metadata": {},
     "output_type": "display_data"
    }
   ],
   "source": [
    "%matplotlib inline\n",
    "\n",
    "plt.figure(figsize=[25,5])\n",
    "plt.plot(s_F850LP,'co')\n",
    "plt.plot(s_F850LPcand,'co')\n",
    "plt.plot(n_F850LP,'co')\n",
    "plt.xticks(range(len(galDB['gids'])),galDB['gids'])\n",
    "plt.title('F850LP')\n",
    "plt.ylabel('spec_phot / catalog_phot')\n",
    "plt.xlabel('galaxy')\n",
    "plt.show()\n",
    "plt.close()\n",
    "\n",
    "plt.figure(figsize=[25,5])\n",
    "plt.plot(s_F098M,'co')\n",
    "plt.xticks(range(len(galDB['gids'])),galDB['gids'])\n",
    "plt.title('F098M')\n",
    "plt.ylabel('spec_phot / catalog_phot')\n",
    "plt.xlabel('galaxy')\n",
    "plt.show()\n",
    "plt.close()\n",
    "\n",
    "plt.figure(figsize=[25,5])\n",
    "plt.plot(s_IA827,'co')\n",
    "plt.xticks(range(len(galDB['gids'])),galDB['gids'])\n",
    "plt.title('Subaru-IA827')\n",
    "plt.ylabel('spec_phot / catalog_phot')\n",
    "plt.xlabel('galaxy')\n",
    "plt.show()\n",
    "plt.close()\n",
    "\n",
    "plt.figure(figsize=[25,5])\n",
    "plt.plot(s_IA856,'co')\n",
    "plt.xticks(range(len(galDB['gids'])),galDB['gids'])\n",
    "plt.title('Subaru-IA856')\n",
    "plt.ylabel('spec_phot / catalog_phot')\n",
    "plt.xlabel('galaxy')\n",
    "plt.show()\n",
    "plt.close()\n",
    "\n",
    "plt.figure(figsize=[25,5])\n",
    "plt.plot(n_Z,'co')\n",
    "plt.xticks(range(len(galDB['gids'])),galDB['gids'])\n",
    "plt.title('Subaru-suprime-z')\n",
    "plt.ylabel('spec_phot / catalog_phot')\n",
    "plt.xlabel('galaxy')\n",
    "plt.show()\n",
    "plt.close()"
   ]
  },
  {
   "cell_type": "code",
   "execution_count": 22,
   "metadata": {},
   "outputs": [
    {
     "name": "stdout",
     "output_type": "stream",
     "text": [
      "2.61199662153e-19\n-0.021611\n"
     ]
    }
   ],
   "source": [
    "print gphot_db['s39012']['Subaru-IA827']\n",
    "print phot_db['s39012']['s_IA827']"
   ]
  },
  {
   "cell_type": "code",
   "execution_count": 34,
   "metadata": {},
   "outputs": [
    {
     "data": {
      "text/plain": [
       "s_F606Wcand    -99.000000\ns_F606W        -99.000000\ns_R            -99.000000\ns_Rc           -99.000000\ns_F775W        -99.000000\ns_I            -99.000000\ns_F814Wcand    -99.000000\ns_F850LP       -99.000000\ns_F850LPcand   -99.000000\ns_F098M        -99.000000\ns_F105W        -99.000000\ns_F125W        -99.000000\ns_J            -99.000000\ns_tenisJ       -99.000000\ns_F140W        -99.000000\ns_H            -99.000000\ns_tenisK       -99.000000\ns_Ks           -99.000000\ns_IA624        -99.000000\ns_IA651        -99.000000\ns_IA679        -99.000000\ns_IA709        -99.000000\ns_IA738        -99.000000\ns_IA767        -99.000000\ns_IA797        -99.000000\ns_IA827        -99.000000\ns_IA856        -99.000000\nn_F606W          0.030325\nn_R              0.056505\nn_Rs             0.103917\nn_I              0.111004\nn_F775W          0.046393\nn_Z              0.137709\nn_F850LP         0.057810\nn_F105W          0.029521\nn_F125W          0.037133\nn_J              0.115952\nn_F140W          0.096722\nn_H              0.283991\nn_Ks             0.148550\nName: n16758_err, dtype: float64"
      ]
     },
     "execution_count": 34,
     "metadata": {},
     "output_type": "execute_result"
    }
   ],
   "source": [
    "phot_db[galDB['gids'][galDB.index[i]] + '_err']"
   ]
  },
  {
   "cell_type": "code",
   "execution_count": 36,
   "metadata": {},
   "outputs": [
    {
     "name": "stderr",
     "output_type": "stream",
     "text": [
      "/Users/vestrada/miniconda2/envs/astroconda/lib/python2.7/site-packages/ipykernel_launcher.py:14: RuntimeWarning: invalid value encountered in log10\n  \n/Users/vestrada/miniconda2/envs/astroconda/lib/python2.7/site-packages/ipykernel_launcher.py:22: RuntimeWarning: invalid value encountered in log10\n"
     ]
    }
   ],
   "source": [
    "cs1 = np.zeros(len(galDB['gids']))\n",
    "cs1_er = np.zeros(len(galDB['gids']))\n",
    "\n",
    "cp1 = np.zeros(len(galDB['gids']))\n",
    "cp1_er = np.zeros(len(galDB['gids']))\n",
    "cp2 = np.zeros(len(galDB['gids']))\n",
    "cp2_er = np.zeros(len(galDB['gids']))\n",
    "\n",
    "for i in range(len(galDB.index)):\n",
    "    if phot_db[galDB['gids'][galDB.index[i]]]['s_F850LP'] < 0 or phot_db[galDB['gids'][galDB.index[i]]]['s_F850LP'] < 0:\n",
    "        cp1[i] = np.nan\n",
    "        cp1_er[i] = np.nan\n",
    "    else:\n",
    "        cp1[i] = 2.5 * np.log10( phot_db[galDB['gids'][galDB.index[i]]]['s_F098M']/ phot_db[galDB['gids'][galDB.index[i]]]['s_F850LP'])\n",
    "        cp1_er[i] = (2.5/2.3)*np.sqrt((phot_db[galDB['gids'][galDB.index[i]] + '_err']['s_F098M'] / phot_db[galDB['gids'][galDB.index[i]]]['s_F098M'])**2 +  \n",
    "                                      (phot_db[galDB['gids'][galDB.index[i]]+ '_err']['s_F850LP'] / phot_db[galDB['gids'][galDB.index[i]]]['s_F850LP'])**2)\n",
    "    ##########################################################################################\n",
    "    if phot_db[galDB['gids'][galDB.index[i]]]['s_F850LP'] < 0 or phot_db[galDB['gids'][galDB.index[i]]]['s_F850LPcand'] < 0:\n",
    "        cp2[i] = np.nan\n",
    "        cp2_er[i] = np.nan\n",
    "    else:\n",
    "        cp2[i] = 2.5 * np.log10( phot_db[galDB['gids'][galDB.index[i]]]['s_F098M']/ phot_db[galDB['gids'][galDB.index[i]]]['s_F850LPcand'])\n",
    "        cp2_er[i] = (2.5/2.3)*np.sqrt((phot_db[galDB['gids'][galDB.index[i]] + '_err']['s_F098M'] / phot_db[galDB['gids'][galDB.index[i]]]['s_F098M'])**2 +  \n",
    "                                      (phot_db[galDB['gids'][galDB.index[i]]+ '_err']['s_F850LPcand'] / phot_db[galDB['gids'][galDB.index[i]]]['s_F850LPcand'])**2)\n",
    "    ##########################################################################################\n",
    "    if gphot_db[galDB['gids'][galDB.index[i]]]['F098M'] < 0 or gphot_db[galDB['gids'][galDB.index[i]]]['F850LP'] < 0:\n",
    "        cs1[i] = np.nan\n",
    "        cs1_er[i] = np.nan\n",
    "    else:\n",
    "        cs1[i] = 2.5 * np.log10(gphot_db[galDB['gids'][galDB.index[i]]]['F098M']/gphot_db[galDB['gids'][galDB.index[i]]]['F850LP'])\n",
    "        cs1_er[i] = (2.5/2.3)*np.sqrt((gphot_db[galDB['gids'][galDB.index[i]] + '_err']['F098M'] / gphot_db[galDB['gids'][galDB.index[i]]]['F098M'])**2 +  \n",
    "                                      (gphot_db[galDB['gids'][galDB.index[i]]+ '_err']['F850LP'] / gphot_db[galDB['gids'][galDB.index[i]]]['F850LP'])**2)"
   ]
  },
  {
   "cell_type": "code",
   "execution_count": 52,
   "metadata": {},
   "outputs": [],
   "source": [
    "zy1= [cs1[u] - cp1[u] for u in range(len(cs1)) if cs1[u] - cp1[u] < 0]\n",
    "dzy1= [np.sqrt(cs1_er[u]**2 + cp1_er[u]**2) for u in range(len(cs1)) if cs1[u] - cp1[u] < 0]\n",
    "# dzy1= [cp1_er[u]**2 for u in range(len(cs1)) if cs1[u] - cp1[u] < 0]\n",
    "zy2= [cs1[u] - cp2[u] for u in range(len(cs1)) if cs1[u] - cp2[u] < 0]\n",
    "dzy2= [np.sqrt(cs1_er[u]**2 + cp2_er[u]**2) for u in range(len(cs1)) if cs1[u] - cp2[u] < 0]\n",
    "zyids= [galDB['gids'].values[u] for u in range(len(cs1)) if cs1[u] - cp2[u] < 0 or cs1[u] - cp1[u] < 0]"
   ]
  },
  {
   "cell_type": "code",
   "execution_count": 47,
   "metadata": {},
   "outputs": [
    {
     "name": "stdout",
     "output_type": "stream",
     "text": [
      "[[        nan         nan]\n [ 0.19836787  0.16826478]\n [ 0.28959071  0.36132309]\n [ 0.14536342  1.2380145 ]\n [ 0.3093903   0.11507889]\n [        nan         nan]\n [        nan         nan]\n [ 0.17419608  0.29303396]\n [ 0.23846964  0.16794838]\n [ 0.30860061  0.21384225]\n [ 0.15246544  0.41718771]\n [ 0.36441927  0.18356873]\n [ 0.21640559  0.24833453]\n [        nan         nan]\n [ 0.11837164  0.07839354]\n [ 0.15696538  0.1364069 ]\n [ 0.14989159  0.17700285]\n [ 0.29783967  0.43533967]\n [        nan         nan]\n [ 0.24452136  0.87910538]\n [ 0.24166782  0.20765711]\n [ 0.23916759  0.10978267]\n [ 0.3532799   0.43682235]\n [        nan         nan]\n [ 0.30906218  0.87607108]\n [        nan         nan]\n [ 0.13243581  1.59058379]\n [ 0.16145889  0.2512185 ]\n [ 0.33569927  0.48260885]\n [        nan         nan]\n [ 0.13283696  0.13279229]\n [        nan         nan]\n [        nan         nan]\n [ 0.25323936  0.48264416]\n [ 0.13138503  0.23946405]]\n"
     ]
    }
   ],
   "source": [
    "print np.array([cs1,cs1_er]).T"
   ]
  },
  {
   "cell_type": "code",
   "execution_count": 53,
   "metadata": {},
   "outputs": [],
   "source": [
    "%matplotlib inline\n",
    "\n",
    "plt.figure(figsize=[15,5])\n",
    "plt.axhline(0,linestyle='--')\n",
    "plt.errorbar(range(len(zy1)),zy1,dzy1,color='c',fmt='o')\n",
    "# plt.errorbar(range(len(zy2)),zy2,dzy2,'co')\n",
    "plt.xlim(-.5,9.5)\n",
    "plt.xticks(range(len(zyids)),zyids)\n",
    "# plt.title('F850LP')\n",
    "plt.ylabel('$\\Delta$(Z-Y)')\n",
    "plt.xlabel('galaxy')\n",
    "# plt.show()\n",
    "plt.savefig('../plots/photometry_compare.png')\n",
    "plt.close()"
   ]
  },
  {
   "cell_type": "code",
   "execution_count": null,
   "metadata": {},
   "outputs": [],
   "source": [
    ""
   ]
  }
 ],
 "metadata": {
  "kernelspec": {
   "display_name": "Python 2",
   "language": "python",
   "name": "python2"
  },
  "language_info": {
   "codemirror_mode": {
    "name": "ipython",
    "version": 2.0
   },
   "file_extension": ".py",
   "mimetype": "text/x-python",
   "name": "python",
   "nbconvert_exporter": "python",
   "pygments_lexer": "ipython2",
   "version": "2.7.6"
  }
 },
 "nbformat": 4,
 "nbformat_minor": 0
}