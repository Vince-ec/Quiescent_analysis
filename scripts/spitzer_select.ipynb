{
 "cells": [
  {
   "cell_type": "code",
   "execution_count": 1,
   "metadata": {
    "collapsed": true
   },
   "outputs": [],
   "source": [
    "import numpy as np\n",
    "import pandas as pd\n",
    "import matplotlib.pyplot as plt\n",
    "from vtl.Readfile import Readfile\n",
    "from glob import glob\n",
    "from astropy.io import fits, ascii\n",
    "from astropy.table import Table\n",
    "from scipy.interpolate import interp1d\n",
    "import os\n",
    "import cPickle\n",
    "import seaborn as sea\n",
    "sea.set(style='white')\n",
    "sea.set(style='ticks')\n",
    "sea.set_style({\"xtick.direction\": \"in\",\"ytick.direction\": \"in\"})\n",
    "colmap = sea.cubehelix_palette(12, start=2, rot=.2, dark=0, light=1.1, as_cmap=True)"
   ]
  },
  {
   "cell_type": "code",
   "execution_count": 2,
   "metadata": {
    "collapsed": true
   },
   "outputs": [],
   "source": [
    "S_cat = fits.open('../../../Clear_data/spitzer_catalogs/GH_GOODS-South_tables_DR1/GH_GOODS-South_tables_DR1.fits')\n",
    "N_cat = fits.open('../../../Clear_data/spitzer_catalogs/GH_GOODS-North_tables_DR1/GH_GOODS-North_tables_DR1.fits')"
   ]
  },
  {
   "cell_type": "code",
   "execution_count": 16,
   "metadata": {
    "collapsed": false
   },
   "outputs": [],
   "source": [
    "def Match_source(gal_ids, gal_ra, gal_dec, source_ra, source_dec,f24_flux):\n",
    "    r = (1. / 60 / 60) * 1    \n",
    "    sourcelist = []\n",
    "    flux_list = []\n",
    "    for i in range(len(gal_ra)):\n",
    "        cosr = np.sin(np.radians(gal_dec[i])) * np.sin(np.radians(source_dec)) + np.cos(np.radians(gal_dec[i]))\\\n",
    "                * np.cos(np.radians(source_dec)) * np.cos(np.radians(gal_ra[i]) - np.radians(source_ra))\n",
    "        rad = np.arccos(cosr)\n",
    "        rad = np.degrees(rad)\n",
    "        for ii in range(len(rad)):\n",
    "            if rad[ii] < r:\n",
    "                sourcelist.append(gal_ids[i])\n",
    "                flux_list.append(f24_flux[i])\n",
    "    return sourcelist, flux_list"
   ]
  },
  {
   "cell_type": "code",
   "execution_count": 11,
   "metadata": {
    "collapsed": true
   },
   "outputs": [],
   "source": [
    "galDB = pd.read_pickle('../data/sgal_param_DB.pkl')\n",
    "galDB = galDB.query('ids != 14713 and ids != 38126')"
   ]
  },
  {
   "cell_type": "code",
   "execution_count": 10,
   "metadata": {
    "collapsed": false
   },
   "outputs": [
    {
     "data": {
      "text/plain": [
       "ColDefs(\n",
       "    name = 'IAU_name'; format = '25A'\n",
       "    name = 'id'; format = 'I'\n",
       "    name = 'ra'; format = 'D'; unit = 'deg'\n",
       "    name = 'dec'; format = 'D'; unit = 'deg'\n",
       "    name = 'f3p6'; format = 'E'; unit = 'uJy'\n",
       "    name = 'err3p6'; format = 'E'; unit = 'uJy'\n",
       "    name = 'flag3p6'; format = 'I'\n",
       "    name = 'f4p5'; format = 'E'; unit = 'uJy'\n",
       "    name = 'err4p5'; format = 'E'; unit = 'uJy'\n",
       "    name = 'flag4p5'; format = 'I'\n",
       "    name = 'f5p8'; format = 'E'; unit = 'uJy'\n",
       "    name = 'err5p8'; format = 'E'; unit = 'uJy'\n",
       "    name = 'flag5p8'; format = 'I'\n",
       "    name = 'f8p0'; format = 'E'; unit = 'uJy'\n",
       "    name = 'err8p0'; format = 'E'; unit = 'uJy'\n",
       "    name = 'flag8p0'; format = 'I'\n",
       "    name = 'f24'; format = 'E'; unit = 'uJy'\n",
       "    name = 'err24_ima'; format = 'E'; unit = 'uJy'\n",
       "    name = 'err24_sim'; format = 'E'; unit = 'uJy'\n",
       "    name = 'cov24'; format = 'E'\n",
       "    name = 'f70'; format = 'E'; unit = 'uJy'\n",
       "    name = 'err70_ima'; format = 'E'; unit = 'uJy'\n",
       "    name = 'err70_sim'; format = 'E'; unit = 'uJy'\n",
       "    name = 'cov70'; format = 'E'\n",
       "    name = 'f100'; format = 'E'; unit = 'uJy'\n",
       "    name = 'err100_ima'; format = 'E'; unit = 'uJy'\n",
       "    name = 'err100_sim'; format = 'E'; unit = 'uJy'\n",
       "    name = 'cov100'; format = 'E'\n",
       "    name = 'f160'; format = 'E'; unit = 'uJy'\n",
       "    name = 'err160_ima'; format = 'E'; unit = 'uJy'\n",
       "    name = 'err160_sim'; format = 'E'; unit = 'uJy'\n",
       "    name = 'cov160'; format = 'E'\n",
       "    name = 'clean_index'; format = 'I'\n",
       ")"
      ]
     },
     "execution_count": 10,
     "metadata": {},
     "output_type": "execute_result"
    }
   ],
   "source": [
    "S_cat[1].columns"
   ]
  },
  {
   "cell_type": "code",
   "execution_count": 18,
   "metadata": {
    "collapsed": false
   },
   "outputs": [],
   "source": [
    "S_list, S_flux = Match_source(galDB['gids'].values,galDB['ra'].values,galDB['dec'].values,\n",
    "                          S_cat[1].data['ra'],S_cat[1].data['dec'],S_cat[1].data['f24'])\n",
    "\n",
    "N_list, N_flux = Match_source(galDB['gids'].values,galDB['ra'].values,galDB['dec'].values,\n",
    "                          N_cat[1].data['ra'],N_cat[1].data['dec'],N_cat[1].data['f24'])"
   ]
  },
  {
   "cell_type": "code",
   "execution_count": 19,
   "metadata": {
    "collapsed": false
   },
   "outputs": [
    {
     "name": "stdout",
     "output_type": "stream",
     "text": [
      "['s35774', 's38785', 's40862', 's41148', 's44042', 's48631']\n",
      "[84.309998, 72.93, 185.3, 84.309998, 28.440001, 94.339996]\n",
      "['n34694', 'n37686']\n",
      "[22.68, 20.74]\n"
     ]
    }
   ],
   "source": [
    "print S_list\n",
    "print S_flux\n",
    "\n",
    "print N_list\n",
    "print N_flux"
   ]
  },
  {
   "cell_type": "code",
   "execution_count": null,
   "metadata": {
    "collapsed": true
   },
   "outputs": [],
   "source": []
  }
 ],
 "metadata": {
  "kernelspec": {
   "display_name": "Python 2",
   "language": "python",
   "name": "python2"
  },
  "language_info": {
   "codemirror_mode": {
    "name": "ipython",
    "version": 2
   },
   "file_extension": ".py",
   "mimetype": "text/x-python",
   "name": "python",
   "nbconvert_exporter": "python",
   "pygments_lexer": "ipython2",
   "version": "2.7.13"
  }
 },
 "nbformat": 4,
 "nbformat_minor": 2
}
