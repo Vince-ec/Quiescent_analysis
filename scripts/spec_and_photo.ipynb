{
 "cells": [
  {
   "cell_type": "code",
   "execution_count": 1,
   "metadata": {
    "collapsed": true
   },
   "outputs": [],
   "source": [
    "import numpy as np\n",
    "from spec_id import Gen_spec, Median_w_Error_cont\n",
    "import matplotlib.pyplot as plt\n",
    "from vtl.Photo import Photometry\n",
    "from glob import glob\n",
    "import pandas as pd\n",
    "from scipy.interpolate import interp1d\n",
    "import seaborn as sea\n",
    "sea.set(style='white')\n",
    "sea.set(style='ticks')\n",
    "sea.set_style({\"xtick.direction\": \"in\",\"ytick.direction\": \"in\"})\n",
    "colmap = sea.cubehelix_palette(12, start=2, rot=.2, dark=0, light=1.1, as_cmap=True)"
   ]
  },
  {
   "cell_type": "code",
   "execution_count": 2,
   "metadata": {
    "collapsed": true
   },
   "outputs": [],
   "source": [
    "galDB = pd.read_pickle('../data/sgal_param_DB.pkl')\n",
    "metal=np.arange(0.002,0.031,0.001)\n",
    "age=np.arange(.5,6.1,.1)\n",
    "tau=[0,8.0, 8.3, 8.48, 8.6, 8.7, 8.78, 8.85, 8.9, 8.95, 9.0, 9.04, 9.08, 9.11, 9.15, 9.18, 9.2, 9.23, 9.26, 9.28,\n",
    "     9.3, 9.32, 9.34, 9.36, 9.38, 9.4, 9.41, 9.43, 9.45, 9.46, 9.48]"
   ]
  },
  {
   "cell_type": "code",
   "execution_count": 3,
   "metadata": {
    "collapsed": true
   },
   "outputs": [],
   "source": [
    "def Magnitude(flam):\n",
    "    mag=-2.5*np.log10(flam)\n",
    "    return mag\n",
    "\n",
    "def Bootstrap_errors(f098,f850,M_f098,M_f850,its=1000):\n",
    "    C_grid = np.zeros(its)\n",
    "    IDs = np.arange(len(f850))\n",
    "    for i in range(its):\n",
    "        IDn = np.random.choice(IDs,len(IDs),replace=True)\n",
    "        Dcolor=Magnitude((f850[IDn]*M_f098[IDn])/ (M_f850[IDn]*f098[IDn]))\n",
    "        C_grid[i]=np.median(Dcolor)\n",
    "    sea.distplot(C_grid)\n",
    "    m_fit = np.median(C_grid)\n",
    "    low_ers = np.sort(C_grid)[160]\n",
    "    hi_ers = np.sort(C_grid)[840]\n",
    "    \n",
    "    return m_fit,low_ers,hi_ers"
   ]
  },
  {
   "cell_type": "code",
   "execution_count": 4,
   "metadata": {
    "collapsed": true
   },
   "outputs": [],
   "source": [
    "fDB = pd.read_pickle('../data/filter_db.pkl')"
   ]
  },
  {
   "cell_type": "code",
   "execution_count": 10,
   "metadata": {
    "collapsed": true
   },
   "outputs": [
    {
     "data": {
      "text/html": [
       "<div>\n",
       "<style>\n",
       "    .dataframe thead tr:only-child th {\n",
       "        text-align: right;\n",
       "    }\n",
       "\n",
       "    .dataframe thead th {\n",
       "        text-align: left;\n",
       "    }\n",
       "\n",
       "    .dataframe tbody tr th {\n",
       "        vertical-align: top;\n",
       "    }\n",
       "</style>\n",
       "<table border=\"1\" class=\"dataframe\">\n",
       "  <thead>\n",
       "    <tr style=\"text-align: right;\">\n",
       "      <th></th>\n",
       "      <th>M_F098</th>\n",
       "      <th>M_F098_err</th>\n",
       "      <th>M_F850</th>\n",
       "      <th>M_F850_err</th>\n",
       "      <th>N_F085</th>\n",
       "      <th>N_F850_err</th>\n",
       "      <th>S_F098</th>\n",
       "      <th>S_F098_err</th>\n",
       "      <th>S_F850</th>\n",
       "      <th>S_F850_C</th>\n",
       "      <th>S_F850_C_err</th>\n",
       "      <th>S_F850_err</th>\n",
       "      <th>gids</th>\n",
       "    </tr>\n",
       "  </thead>\n",
       "  <tbody>\n",
       "    <tr>\n",
       "      <th>43</th>\n",
       "      <td>9.769333e-19</td>\n",
       "      <td>2.634086e-19</td>\n",
       "      <td>-9.900000e+01</td>\n",
       "      <td>-9.900000e+01</td>\n",
       "      <td>5.286964</td>\n",
       "      <td>0.047748</td>\n",
       "      <td>-99.000000</td>\n",
       "      <td>-99.000000</td>\n",
       "      <td>-99.000000</td>\n",
       "      <td>-99.000000</td>\n",
       "      <td>-99.000000</td>\n",
       "      <td>-99.000000</td>\n",
       "      <td>n14713</td>\n",
       "    </tr>\n",
       "    <tr>\n",
       "      <th>49</th>\n",
       "      <td>2.098037e-18</td>\n",
       "      <td>1.445953e-19</td>\n",
       "      <td>1.747697e-18</td>\n",
       "      <td>2.422580e-19</td>\n",
       "      <td>13.888487</td>\n",
       "      <td>0.057810</td>\n",
       "      <td>-99.000000</td>\n",
       "      <td>-99.000000</td>\n",
       "      <td>-99.000000</td>\n",
       "      <td>-99.000000</td>\n",
       "      <td>-99.000000</td>\n",
       "      <td>-99.000000</td>\n",
       "      <td>n16758</td>\n",
       "    </tr>\n",
       "    <tr>\n",
       "      <th>50</th>\n",
       "      <td>1.776399e-18</td>\n",
       "      <td>1.546954e-15</td>\n",
       "      <td>1.460517e-18</td>\n",
       "      <td>4.796781e-16</td>\n",
       "      <td>11.737332</td>\n",
       "      <td>0.045581</td>\n",
       "      <td>-99.000000</td>\n",
       "      <td>-99.000000</td>\n",
       "      <td>-99.000000</td>\n",
       "      <td>-99.000000</td>\n",
       "      <td>-99.000000</td>\n",
       "      <td>-99.000000</td>\n",
       "      <td>n17070</td>\n",
       "    </tr>\n",
       "    <tr>\n",
       "      <th>58</th>\n",
       "      <td>3.732585e-19</td>\n",
       "      <td>2.511762e-19</td>\n",
       "      <td>3.264858e-19</td>\n",
       "      <td>3.000168e-19</td>\n",
       "      <td>2.900199</td>\n",
       "      <td>0.043631</td>\n",
       "      <td>-99.000000</td>\n",
       "      <td>-99.000000</td>\n",
       "      <td>-99.000000</td>\n",
       "      <td>-99.000000</td>\n",
       "      <td>-99.000000</td>\n",
       "      <td>-99.000000</td>\n",
       "      <td>n19442</td>\n",
       "    </tr>\n",
       "    <tr>\n",
       "      <th>61</th>\n",
       "      <td>2.669737e-18</td>\n",
       "      <td>1.229185e-19</td>\n",
       "      <td>2.007763e-18</td>\n",
       "      <td>1.914146e-19</td>\n",
       "      <td>14.816056</td>\n",
       "      <td>0.065226</td>\n",
       "      <td>-99.000000</td>\n",
       "      <td>-99.000000</td>\n",
       "      <td>-99.000000</td>\n",
       "      <td>-99.000000</td>\n",
       "      <td>-99.000000</td>\n",
       "      <td>-99.000000</td>\n",
       "      <td>n21156</td>\n",
       "    </tr>\n",
       "    <tr>\n",
       "      <th>62</th>\n",
       "      <td>6.894339e-19</td>\n",
       "      <td>2.779345e-19</td>\n",
       "      <td>-9.900000e+01</td>\n",
       "      <td>-9.900000e+01</td>\n",
       "      <td>3.911611</td>\n",
       "      <td>0.050748</td>\n",
       "      <td>-99.000000</td>\n",
       "      <td>-99.000000</td>\n",
       "      <td>-99.000000</td>\n",
       "      <td>-99.000000</td>\n",
       "      <td>-99.000000</td>\n",
       "      <td>-99.000000</td>\n",
       "      <td>n21427</td>\n",
       "    </tr>\n",
       "    <tr>\n",
       "      <th>69</th>\n",
       "      <td>7.516320e-19</td>\n",
       "      <td>1.728003e-19</td>\n",
       "      <td>-9.900000e+01</td>\n",
       "      <td>-9.900000e+01</td>\n",
       "      <td>4.026039</td>\n",
       "      <td>0.051848</td>\n",
       "      <td>-99.000000</td>\n",
       "      <td>-99.000000</td>\n",
       "      <td>-99.000000</td>\n",
       "      <td>-99.000000</td>\n",
       "      <td>-99.000000</td>\n",
       "      <td>-99.000000</td>\n",
       "      <td>n23435</td>\n",
       "    </tr>\n",
       "    <tr>\n",
       "      <th>86</th>\n",
       "      <td>1.314887e-18</td>\n",
       "      <td>1.625707e-19</td>\n",
       "      <td>1.119979e-18</td>\n",
       "      <td>2.683114e-19</td>\n",
       "      <td>8.267406</td>\n",
       "      <td>0.063951</td>\n",
       "      <td>-99.000000</td>\n",
       "      <td>-99.000000</td>\n",
       "      <td>-99.000000</td>\n",
       "      <td>-99.000000</td>\n",
       "      <td>-99.000000</td>\n",
       "      <td>-99.000000</td>\n",
       "      <td>n32566</td>\n",
       "    </tr>\n",
       "    <tr>\n",
       "      <th>96</th>\n",
       "      <td>2.779187e-18</td>\n",
       "      <td>1.763211e-19</td>\n",
       "      <td>2.231156e-18</td>\n",
       "      <td>3.143401e-19</td>\n",
       "      <td>-99.000000</td>\n",
       "      <td>-99.000000</td>\n",
       "      <td>-99.000000</td>\n",
       "      <td>-99.000000</td>\n",
       "      <td>-99.000000</td>\n",
       "      <td>-99.000000</td>\n",
       "      <td>-99.000000</td>\n",
       "      <td>-99.000000</td>\n",
       "      <td>n34694</td>\n",
       "    </tr>\n",
       "    <tr>\n",
       "      <th>107</th>\n",
       "      <td>1.752857e-18</td>\n",
       "      <td>1.496945e-19</td>\n",
       "      <td>1.319187e-18</td>\n",
       "      <td>2.338029e-19</td>\n",
       "      <td>9.538568</td>\n",
       "      <td>0.051461</td>\n",
       "      <td>-99.000000</td>\n",
       "      <td>-99.000000</td>\n",
       "      <td>-99.000000</td>\n",
       "      <td>-99.000000</td>\n",
       "      <td>-99.000000</td>\n",
       "      <td>-99.000000</td>\n",
       "      <td>n37686</td>\n",
       "    </tr>\n",
       "    <tr>\n",
       "      <th>110</th>\n",
       "      <td>1.014416e-18</td>\n",
       "      <td>1.985663e-19</td>\n",
       "      <td>8.821120e-19</td>\n",
       "      <td>3.087525e-19</td>\n",
       "      <td>5.649443</td>\n",
       "      <td>0.105442</td>\n",
       "      <td>-99.000000</td>\n",
       "      <td>-99.000000</td>\n",
       "      <td>-99.000000</td>\n",
       "      <td>-99.000000</td>\n",
       "      <td>-99.000000</td>\n",
       "      <td>-99.000000</td>\n",
       "      <td>n38126</td>\n",
       "    </tr>\n",
       "    <tr>\n",
       "      <th>212</th>\n",
       "      <td>2.465660e-18</td>\n",
       "      <td>1.420037e-19</td>\n",
       "      <td>1.875053e-18</td>\n",
       "      <td>2.128889e-19</td>\n",
       "      <td>-99.000000</td>\n",
       "      <td>-99.000000</td>\n",
       "      <td>-99.000000</td>\n",
       "      <td>-99.000000</td>\n",
       "      <td>15.013115</td>\n",
       "      <td>15.594994</td>\n",
       "      <td>0.200438</td>\n",
       "      <td>0.093194</td>\n",
       "      <td>s35774</td>\n",
       "    </tr>\n",
       "    <tr>\n",
       "      <th>217</th>\n",
       "      <td>1.496379e-18</td>\n",
       "      <td>1.621893e-19</td>\n",
       "      <td>1.225968e-18</td>\n",
       "      <td>2.465678e-19</td>\n",
       "      <td>-99.000000</td>\n",
       "      <td>-99.000000</td>\n",
       "      <td>13.765172</td>\n",
       "      <td>0.079402</td>\n",
       "      <td>9.503550</td>\n",
       "      <td>9.129607</td>\n",
       "      <td>0.300012</td>\n",
       "      <td>0.096224</td>\n",
       "      <td>s38785</td>\n",
       "    </tr>\n",
       "    <tr>\n",
       "      <th>219</th>\n",
       "      <td>2.943529e-19</td>\n",
       "      <td>1.489561e-19</td>\n",
       "      <td>-9.900000e+01</td>\n",
       "      <td>-9.900000e+01</td>\n",
       "      <td>-99.000000</td>\n",
       "      <td>-99.000000</td>\n",
       "      <td>2.678609</td>\n",
       "      <td>0.061516</td>\n",
       "      <td>1.499044</td>\n",
       "      <td>1.273938</td>\n",
       "      <td>0.232037</td>\n",
       "      <td>0.070124</td>\n",
       "      <td>s39012</td>\n",
       "    </tr>\n",
       "    <tr>\n",
       "      <th>220</th>\n",
       "      <td>4.505023e-18</td>\n",
       "      <td>1.586512e-19</td>\n",
       "      <td>4.039693e-18</td>\n",
       "      <td>2.542565e-19</td>\n",
       "      <td>-99.000000</td>\n",
       "      <td>-99.000000</td>\n",
       "      <td>44.080278</td>\n",
       "      <td>0.067520</td>\n",
       "      <td>32.128795</td>\n",
       "      <td>-99.000000</td>\n",
       "      <td>-99.000000</td>\n",
       "      <td>0.068761</td>\n",
       "      <td>s39170</td>\n",
       "    </tr>\n",
       "    <tr>\n",
       "      <th>221</th>\n",
       "      <td>2.477103e-18</td>\n",
       "      <td>1.483160e-19</td>\n",
       "      <td>2.143670e-18</td>\n",
       "      <td>2.364250e-19</td>\n",
       "      <td>-99.000000</td>\n",
       "      <td>-99.000000</td>\n",
       "      <td>25.979935</td>\n",
       "      <td>0.066822</td>\n",
       "      <td>19.399888</td>\n",
       "      <td>19.237134</td>\n",
       "      <td>0.263971</td>\n",
       "      <td>0.068321</td>\n",
       "      <td>s39241</td>\n",
       "    </tr>\n",
       "    <tr>\n",
       "      <th>223</th>\n",
       "      <td>1.678319e-18</td>\n",
       "      <td>1.328067e-19</td>\n",
       "      <td>1.461901e-18</td>\n",
       "      <td>2.080631e-19</td>\n",
       "      <td>-99.000000</td>\n",
       "      <td>-99.000000</td>\n",
       "      <td>17.910390</td>\n",
       "      <td>0.056882</td>\n",
       "      <td>13.142233</td>\n",
       "      <td>14.714118</td>\n",
       "      <td>0.471603</td>\n",
       "      <td>0.057927</td>\n",
       "      <td>s39631</td>\n",
       "    </tr>\n",
       "    <tr>\n",
       "      <th>224</th>\n",
       "      <td>1.161039e-18</td>\n",
       "      <td>2.018796e-19</td>\n",
       "      <td>8.824926e-19</td>\n",
       "      <td>3.184032e-19</td>\n",
       "      <td>-99.000000</td>\n",
       "      <td>-99.000000</td>\n",
       "      <td>10.154887</td>\n",
       "      <td>0.045511</td>\n",
       "      <td>5.842636</td>\n",
       "      <td>5.866548</td>\n",
       "      <td>0.171964</td>\n",
       "      <td>0.052368</td>\n",
       "      <td>s39804</td>\n",
       "    </tr>\n",
       "    <tr>\n",
       "      <th>225</th>\n",
       "      <td>6.099749e-19</td>\n",
       "      <td>1.254603e-19</td>\n",
       "      <td>-9.900000e+01</td>\n",
       "      <td>-9.900000e+01</td>\n",
       "      <td>-99.000000</td>\n",
       "      <td>-99.000000</td>\n",
       "      <td>5.423850</td>\n",
       "      <td>0.053822</td>\n",
       "      <td>3.600051</td>\n",
       "      <td>3.948410</td>\n",
       "      <td>0.202117</td>\n",
       "      <td>0.060933</td>\n",
       "      <td>s39805</td>\n",
       "    </tr>\n",
       "    <tr>\n",
       "      <th>227</th>\n",
       "      <td>3.029584e-19</td>\n",
       "      <td>1.094521e-19</td>\n",
       "      <td>2.418658e-19</td>\n",
       "      <td>1.750144e-19</td>\n",
       "      <td>-99.000000</td>\n",
       "      <td>-99.000000</td>\n",
       "      <td>2.968221</td>\n",
       "      <td>0.041870</td>\n",
       "      <td>1.710075</td>\n",
       "      <td>-99.000000</td>\n",
       "      <td>-99.000000</td>\n",
       "      <td>0.043448</td>\n",
       "      <td>s40223</td>\n",
       "    </tr>\n",
       "    <tr>\n",
       "      <th>228</th>\n",
       "      <td>1.118938e-18</td>\n",
       "      <td>9.668918e-20</td>\n",
       "      <td>8.956508e-19</td>\n",
       "      <td>1.526055e-19</td>\n",
       "      <td>-99.000000</td>\n",
       "      <td>-99.000000</td>\n",
       "      <td>10.402789</td>\n",
       "      <td>0.045236</td>\n",
       "      <td>7.007352</td>\n",
       "      <td>6.671739</td>\n",
       "      <td>0.193995</td>\n",
       "      <td>0.051095</td>\n",
       "      <td>s40476</td>\n",
       "    </tr>\n",
       "    <tr>\n",
       "      <th>230</th>\n",
       "      <td>2.779939e-18</td>\n",
       "      <td>1.274799e-19</td>\n",
       "      <td>2.230325e-18</td>\n",
       "      <td>2.007062e-19</td>\n",
       "      <td>-99.000000</td>\n",
       "      <td>-99.000000</td>\n",
       "      <td>22.794747</td>\n",
       "      <td>0.065137</td>\n",
       "      <td>14.216777</td>\n",
       "      <td>-99.000000</td>\n",
       "      <td>-99.000000</td>\n",
       "      <td>0.067947</td>\n",
       "      <td>s40597</td>\n",
       "    </tr>\n",
       "    <tr>\n",
       "      <th>231</th>\n",
       "      <td>5.426981e-19</td>\n",
       "      <td>8.800602e-20</td>\n",
       "      <td>3.919642e-19</td>\n",
       "      <td>1.441276e-19</td>\n",
       "      <td>-99.000000</td>\n",
       "      <td>-99.000000</td>\n",
       "      <td>4.640340</td>\n",
       "      <td>0.056503</td>\n",
       "      <td>2.684625</td>\n",
       "      <td>-99.000000</td>\n",
       "      <td>-99.000000</td>\n",
       "      <td>0.064232</td>\n",
       "      <td>s40623</td>\n",
       "    </tr>\n",
       "    <tr>\n",
       "      <th>232</th>\n",
       "      <td>1.089916e-18</td>\n",
       "      <td>1.506737e-19</td>\n",
       "      <td>-9.900000e+01</td>\n",
       "      <td>-9.900000e+01</td>\n",
       "      <td>-99.000000</td>\n",
       "      <td>-99.000000</td>\n",
       "      <td>10.111865</td>\n",
       "      <td>0.064044</td>\n",
       "      <td>5.959069</td>\n",
       "      <td>5.754292</td>\n",
       "      <td>0.229793</td>\n",
       "      <td>0.077362</td>\n",
       "      <td>s40862</td>\n",
       "    </tr>\n",
       "    <tr>\n",
       "      <th>234</th>\n",
       "      <td>3.560849e-19</td>\n",
       "      <td>1.229191e-19</td>\n",
       "      <td>2.678728e-19</td>\n",
       "      <td>1.950975e-19</td>\n",
       "      <td>-99.000000</td>\n",
       "      <td>-99.000000</td>\n",
       "      <td>3.682552</td>\n",
       "      <td>0.055319</td>\n",
       "      <td>2.190547</td>\n",
       "      <td>-99.000000</td>\n",
       "      <td>-99.000000</td>\n",
       "      <td>0.056335</td>\n",
       "      <td>s41148</td>\n",
       "    </tr>\n",
       "    <tr>\n",
       "      <th>235</th>\n",
       "      <td>5.045101e-19</td>\n",
       "      <td>1.124143e-19</td>\n",
       "      <td>-9.900000e+01</td>\n",
       "      <td>-9.900000e+01</td>\n",
       "      <td>-99.000000</td>\n",
       "      <td>-99.000000</td>\n",
       "      <td>4.566842</td>\n",
       "      <td>0.043691</td>\n",
       "      <td>2.747956</td>\n",
       "      <td>-99.000000</td>\n",
       "      <td>-99.000000</td>\n",
       "      <td>0.049866</td>\n",
       "      <td>s41520</td>\n",
       "    </tr>\n",
       "    <tr>\n",
       "      <th>236</th>\n",
       "      <td>1.749591e-19</td>\n",
       "      <td>1.250422e-19</td>\n",
       "      <td>1.548682e-19</td>\n",
       "      <td>1.977569e-19</td>\n",
       "      <td>-99.000000</td>\n",
       "      <td>-99.000000</td>\n",
       "      <td>1.401396</td>\n",
       "      <td>0.054628</td>\n",
       "      <td>0.798924</td>\n",
       "      <td>0.876633</td>\n",
       "      <td>0.219542</td>\n",
       "      <td>0.061605</td>\n",
       "      <td>s41659</td>\n",
       "    </tr>\n",
       "    <tr>\n",
       "      <th>246</th>\n",
       "      <td>1.201581e-18</td>\n",
       "      <td>1.214269e-19</td>\n",
       "      <td>1.035546e-18</td>\n",
       "      <td>2.152458e-19</td>\n",
       "      <td>-99.000000</td>\n",
       "      <td>-99.000000</td>\n",
       "      <td>11.150925</td>\n",
       "      <td>0.049975</td>\n",
       "      <td>8.202526</td>\n",
       "      <td>8.149676</td>\n",
       "      <td>0.184826</td>\n",
       "      <td>0.055786</td>\n",
       "      <td>s43615</td>\n",
       "    </tr>\n",
       "    <tr>\n",
       "      <th>248</th>\n",
       "      <td>7.016879e-19</td>\n",
       "      <td>1.202168e-19</td>\n",
       "      <td>5.150677e-19</td>\n",
       "      <td>2.109791e-19</td>\n",
       "      <td>-99.000000</td>\n",
       "      <td>-99.000000</td>\n",
       "      <td>5.737595</td>\n",
       "      <td>0.057994</td>\n",
       "      <td>3.353345</td>\n",
       "      <td>3.302203</td>\n",
       "      <td>0.213102</td>\n",
       "      <td>0.062191</td>\n",
       "      <td>s44042</td>\n",
       "    </tr>\n",
       "    <tr>\n",
       "      <th>251</th>\n",
       "      <td>8.516048e-19</td>\n",
       "      <td>1.339964e-19</td>\n",
       "      <td>-9.900000e+01</td>\n",
       "      <td>-9.900000e+01</td>\n",
       "      <td>-99.000000</td>\n",
       "      <td>-99.000000</td>\n",
       "      <td>-99.000000</td>\n",
       "      <td>-99.000000</td>\n",
       "      <td>-99.000000</td>\n",
       "      <td>-99.000000</td>\n",
       "      <td>-99.000000</td>\n",
       "      <td>-99.000000</td>\n",
       "      <td>s44620</td>\n",
       "    </tr>\n",
       "    <tr>\n",
       "      <th>258</th>\n",
       "      <td>2.273222e-18</td>\n",
       "      <td>1.341041e-19</td>\n",
       "      <td>2.011440e-18</td>\n",
       "      <td>2.151872e-19</td>\n",
       "      <td>-99.000000</td>\n",
       "      <td>-99.000000</td>\n",
       "      <td>22.564123</td>\n",
       "      <td>0.086817</td>\n",
       "      <td>15.831162</td>\n",
       "      <td>15.894367</td>\n",
       "      <td>0.313434</td>\n",
       "      <td>0.095238</td>\n",
       "      <td>s45972</td>\n",
       "    </tr>\n",
       "    <tr>\n",
       "      <th>259</th>\n",
       "      <td>-9.900000e+01</td>\n",
       "      <td>-9.900000e+01</td>\n",
       "      <td>-9.900000e+01</td>\n",
       "      <td>-9.900000e+01</td>\n",
       "      <td>-99.000000</td>\n",
       "      <td>-99.000000</td>\n",
       "      <td>9.745344</td>\n",
       "      <td>0.054790</td>\n",
       "      <td>5.559113</td>\n",
       "      <td>5.517749</td>\n",
       "      <td>0.138862</td>\n",
       "      <td>0.067928</td>\n",
       "      <td>s46066</td>\n",
       "    </tr>\n",
       "    <tr>\n",
       "      <th>260</th>\n",
       "      <td>2.392788e-19</td>\n",
       "      <td>1.000450e-19</td>\n",
       "      <td>-9.900000e+01</td>\n",
       "      <td>-9.900000e+01</td>\n",
       "      <td>-99.000000</td>\n",
       "      <td>-99.000000</td>\n",
       "      <td>-99.000000</td>\n",
       "      <td>-99.000000</td>\n",
       "      <td>-99.000000</td>\n",
       "      <td>-99.000000</td>\n",
       "      <td>-99.000000</td>\n",
       "      <td>-99.000000</td>\n",
       "      <td>s46345</td>\n",
       "    </tr>\n",
       "    <tr>\n",
       "      <th>267</th>\n",
       "      <td>6.410471e-19</td>\n",
       "      <td>1.298577e-19</td>\n",
       "      <td>5.076848e-19</td>\n",
       "      <td>2.006029e-19</td>\n",
       "      <td>-99.000000</td>\n",
       "      <td>-99.000000</td>\n",
       "      <td>-99.000000</td>\n",
       "      <td>-99.000000</td>\n",
       "      <td>-99.000000</td>\n",
       "      <td>-99.000000</td>\n",
       "      <td>-99.000000</td>\n",
       "      <td>-99.000000</td>\n",
       "      <td>s47677</td>\n",
       "    </tr>\n",
       "    <tr>\n",
       "      <th>270</th>\n",
       "      <td>1.888517e-18</td>\n",
       "      <td>1.678651e-19</td>\n",
       "      <td>1.673274e-18</td>\n",
       "      <td>3.372973e-19</td>\n",
       "      <td>-99.000000</td>\n",
       "      <td>-99.000000</td>\n",
       "      <td>15.307628</td>\n",
       "      <td>0.135199</td>\n",
       "      <td>10.484480</td>\n",
       "      <td>-99.000000</td>\n",
       "      <td>-99.000000</td>\n",
       "      <td>0.168063</td>\n",
       "      <td>s48631</td>\n",
       "    </tr>\n",
       "  </tbody>\n",
       "</table>\n",
       "</div>"
      ],
      "text/plain": [
       "           M_F098    M_F098_err        M_F850    M_F850_err     N_F085  \\\n",
       "43   9.769333e-19  2.634086e-19 -9.900000e+01 -9.900000e+01   5.286964   \n",
       "49   2.098037e-18  1.445953e-19  1.747697e-18  2.422580e-19  13.888487   \n",
       "50   1.776399e-18  1.546954e-15  1.460517e-18  4.796781e-16  11.737332   \n",
       "58   3.732585e-19  2.511762e-19  3.264858e-19  3.000168e-19   2.900199   \n",
       "61   2.669737e-18  1.229185e-19  2.007763e-18  1.914146e-19  14.816056   \n",
       "62   6.894339e-19  2.779345e-19 -9.900000e+01 -9.900000e+01   3.911611   \n",
       "69   7.516320e-19  1.728003e-19 -9.900000e+01 -9.900000e+01   4.026039   \n",
       "86   1.314887e-18  1.625707e-19  1.119979e-18  2.683114e-19   8.267406   \n",
       "96   2.779187e-18  1.763211e-19  2.231156e-18  3.143401e-19 -99.000000   \n",
       "107  1.752857e-18  1.496945e-19  1.319187e-18  2.338029e-19   9.538568   \n",
       "110  1.014416e-18  1.985663e-19  8.821120e-19  3.087525e-19   5.649443   \n",
       "212  2.465660e-18  1.420037e-19  1.875053e-18  2.128889e-19 -99.000000   \n",
       "217  1.496379e-18  1.621893e-19  1.225968e-18  2.465678e-19 -99.000000   \n",
       "219  2.943529e-19  1.489561e-19 -9.900000e+01 -9.900000e+01 -99.000000   \n",
       "220  4.505023e-18  1.586512e-19  4.039693e-18  2.542565e-19 -99.000000   \n",
       "221  2.477103e-18  1.483160e-19  2.143670e-18  2.364250e-19 -99.000000   \n",
       "223  1.678319e-18  1.328067e-19  1.461901e-18  2.080631e-19 -99.000000   \n",
       "224  1.161039e-18  2.018796e-19  8.824926e-19  3.184032e-19 -99.000000   \n",
       "225  6.099749e-19  1.254603e-19 -9.900000e+01 -9.900000e+01 -99.000000   \n",
       "227  3.029584e-19  1.094521e-19  2.418658e-19  1.750144e-19 -99.000000   \n",
       "228  1.118938e-18  9.668918e-20  8.956508e-19  1.526055e-19 -99.000000   \n",
       "230  2.779939e-18  1.274799e-19  2.230325e-18  2.007062e-19 -99.000000   \n",
       "231  5.426981e-19  8.800602e-20  3.919642e-19  1.441276e-19 -99.000000   \n",
       "232  1.089916e-18  1.506737e-19 -9.900000e+01 -9.900000e+01 -99.000000   \n",
       "234  3.560849e-19  1.229191e-19  2.678728e-19  1.950975e-19 -99.000000   \n",
       "235  5.045101e-19  1.124143e-19 -9.900000e+01 -9.900000e+01 -99.000000   \n",
       "236  1.749591e-19  1.250422e-19  1.548682e-19  1.977569e-19 -99.000000   \n",
       "246  1.201581e-18  1.214269e-19  1.035546e-18  2.152458e-19 -99.000000   \n",
       "248  7.016879e-19  1.202168e-19  5.150677e-19  2.109791e-19 -99.000000   \n",
       "251  8.516048e-19  1.339964e-19 -9.900000e+01 -9.900000e+01 -99.000000   \n",
       "258  2.273222e-18  1.341041e-19  2.011440e-18  2.151872e-19 -99.000000   \n",
       "259 -9.900000e+01 -9.900000e+01 -9.900000e+01 -9.900000e+01 -99.000000   \n",
       "260  2.392788e-19  1.000450e-19 -9.900000e+01 -9.900000e+01 -99.000000   \n",
       "267  6.410471e-19  1.298577e-19  5.076848e-19  2.006029e-19 -99.000000   \n",
       "270  1.888517e-18  1.678651e-19  1.673274e-18  3.372973e-19 -99.000000   \n",
       "\n",
       "     N_F850_err     S_F098  S_F098_err     S_F850   S_F850_C  S_F850_C_err  \\\n",
       "43     0.047748 -99.000000  -99.000000 -99.000000 -99.000000    -99.000000   \n",
       "49     0.057810 -99.000000  -99.000000 -99.000000 -99.000000    -99.000000   \n",
       "50     0.045581 -99.000000  -99.000000 -99.000000 -99.000000    -99.000000   \n",
       "58     0.043631 -99.000000  -99.000000 -99.000000 -99.000000    -99.000000   \n",
       "61     0.065226 -99.000000  -99.000000 -99.000000 -99.000000    -99.000000   \n",
       "62     0.050748 -99.000000  -99.000000 -99.000000 -99.000000    -99.000000   \n",
       "69     0.051848 -99.000000  -99.000000 -99.000000 -99.000000    -99.000000   \n",
       "86     0.063951 -99.000000  -99.000000 -99.000000 -99.000000    -99.000000   \n",
       "96   -99.000000 -99.000000  -99.000000 -99.000000 -99.000000    -99.000000   \n",
       "107    0.051461 -99.000000  -99.000000 -99.000000 -99.000000    -99.000000   \n",
       "110    0.105442 -99.000000  -99.000000 -99.000000 -99.000000    -99.000000   \n",
       "212  -99.000000 -99.000000  -99.000000  15.013115  15.594994      0.200438   \n",
       "217  -99.000000  13.765172    0.079402   9.503550   9.129607      0.300012   \n",
       "219  -99.000000   2.678609    0.061516   1.499044   1.273938      0.232037   \n",
       "220  -99.000000  44.080278    0.067520  32.128795 -99.000000    -99.000000   \n",
       "221  -99.000000  25.979935    0.066822  19.399888  19.237134      0.263971   \n",
       "223  -99.000000  17.910390    0.056882  13.142233  14.714118      0.471603   \n",
       "224  -99.000000  10.154887    0.045511   5.842636   5.866548      0.171964   \n",
       "225  -99.000000   5.423850    0.053822   3.600051   3.948410      0.202117   \n",
       "227  -99.000000   2.968221    0.041870   1.710075 -99.000000    -99.000000   \n",
       "228  -99.000000  10.402789    0.045236   7.007352   6.671739      0.193995   \n",
       "230  -99.000000  22.794747    0.065137  14.216777 -99.000000    -99.000000   \n",
       "231  -99.000000   4.640340    0.056503   2.684625 -99.000000    -99.000000   \n",
       "232  -99.000000  10.111865    0.064044   5.959069   5.754292      0.229793   \n",
       "234  -99.000000   3.682552    0.055319   2.190547 -99.000000    -99.000000   \n",
       "235  -99.000000   4.566842    0.043691   2.747956 -99.000000    -99.000000   \n",
       "236  -99.000000   1.401396    0.054628   0.798924   0.876633      0.219542   \n",
       "246  -99.000000  11.150925    0.049975   8.202526   8.149676      0.184826   \n",
       "248  -99.000000   5.737595    0.057994   3.353345   3.302203      0.213102   \n",
       "251  -99.000000 -99.000000  -99.000000 -99.000000 -99.000000    -99.000000   \n",
       "258  -99.000000  22.564123    0.086817  15.831162  15.894367      0.313434   \n",
       "259  -99.000000   9.745344    0.054790   5.559113   5.517749      0.138862   \n",
       "260  -99.000000 -99.000000  -99.000000 -99.000000 -99.000000    -99.000000   \n",
       "267  -99.000000 -99.000000  -99.000000 -99.000000 -99.000000    -99.000000   \n",
       "270  -99.000000  15.307628    0.135199  10.484480 -99.000000    -99.000000   \n",
       "\n",
       "     S_F850_err    gids  \n",
       "43   -99.000000  n14713  \n",
       "49   -99.000000  n16758  \n",
       "50   -99.000000  n17070  \n",
       "58   -99.000000  n19442  \n",
       "61   -99.000000  n21156  \n",
       "62   -99.000000  n21427  \n",
       "69   -99.000000  n23435  \n",
       "86   -99.000000  n32566  \n",
       "96   -99.000000  n34694  \n",
       "107  -99.000000  n37686  \n",
       "110  -99.000000  n38126  \n",
       "212    0.093194  s35774  \n",
       "217    0.096224  s38785  \n",
       "219    0.070124  s39012  \n",
       "220    0.068761  s39170  \n",
       "221    0.068321  s39241  \n",
       "223    0.057927  s39631  \n",
       "224    0.052368  s39804  \n",
       "225    0.060933  s39805  \n",
       "227    0.043448  s40223  \n",
       "228    0.051095  s40476  \n",
       "230    0.067947  s40597  \n",
       "231    0.064232  s40623  \n",
       "232    0.077362  s40862  \n",
       "234    0.056335  s41148  \n",
       "235    0.049866  s41520  \n",
       "236    0.061605  s41659  \n",
       "246    0.055786  s43615  \n",
       "248    0.062191  s44042  \n",
       "251  -99.000000  s44620  \n",
       "258    0.095238  s45972  \n",
       "259    0.067928  s46066  \n",
       "260  -99.000000  s46345  \n",
       "267  -99.000000  s47677  \n",
       "270    0.168063  s48631  "
      ]
     },
     "execution_count": 10,
     "metadata": {},
     "output_type": "execute_result"
    }
   ],
   "source": [
    "fDB"
   ]
  },
  {
   "cell_type": "code",
   "execution_count": 12,
   "metadata": {
    "collapsed": false
   },
   "outputs": [
    {
     "name": "stderr",
     "output_type": "stream",
     "text": [
      "/Users/vestrada/miniconda2/envs/astroconda/lib/python2.7/site-packages/ipykernel_launcher.py:13: RuntimeWarning: invalid value encountered in log10\n",
      "  del sys.path[0]\n",
      "/Users/vestrada/miniconda2/envs/astroconda/lib/python2.7/site-packages/ipykernel_launcher.py:14: RuntimeWarning: invalid value encountered in log10\n",
      "  \n",
      "/Users/vestrada/miniconda2/envs/astroconda/lib/python2.7/site-packages/ipykernel_launcher.py:24: RuntimeWarning: invalid value encountered in log10\n",
      "/Users/vestrada/miniconda2/envs/astroconda/lib/python2.7/site-packages/ipykernel_launcher.py:25: RuntimeWarning: invalid value encountered in log10\n"
     ]
    }
   ],
   "source": [
    "flam_098 = []\n",
    "flam_098_err = []\n",
    "flam_850 = []\n",
    "flam_850_err = []\n",
    "\n",
    "effwv_098 = 9840.877482\n",
    "effwv_850 = 9001.008862\n",
    "\n",
    "for i in fDB.index:\n",
    "    f= fDB['S_F098'][i]\n",
    "    err= fDB['S_F098_err'][i]\n",
    "    Clam = 3E18/effwv_098**2\n",
    "    fnu = 10**(-29.44+np.log10(f))\n",
    "    errnu = 10**(-29.44+np.log10(err))\n",
    "    flam = Clam * fnu\n",
    "    errlam = Clam * errnu\n",
    "    flam_098.append(flam)\n",
    "    flam_098_err.append(errlam)\n",
    "\n",
    "    \n",
    "    f= fDB['S_F850'][i]\n",
    "    err= fDB['S_F850_err'][i]\n",
    "    Clam = 3E18/effwv_850**2\n",
    "    fnu = 10**(-29.44+np.log10(f))\n",
    "    errnu = 10**(-29.44+np.log10(err))\n",
    "    flam = Clam * fnu\n",
    "    errlam = Clam * errnu\n",
    "    flam_850.append(flam)\n",
    "    flam_850_err.append(errlam)"
   ]
  },
  {
   "cell_type": "code",
   "execution_count": 13,
   "metadata": {
    "collapsed": true
   },
   "outputs": [],
   "source": [
    "fDB['flam_F098'] = flam_098\n",
    "fDB['flam_F098_err'] = flam_098_err\n",
    "fDB['flam_F850'] = flam_850\n",
    "fDB['flam_F850_err'] = flam_850_err"
   ]
  },
  {
   "cell_type": "code",
   "execution_count": 16,
   "metadata": {
    "collapsed": false
   },
   "outputs": [],
   "source": [
    "pd.to_pickle(fDB,'../data/filter_db.pkl')"
   ]
  },
  {
   "cell_type": "code",
   "execution_count": 5,
   "metadata": {
    "collapsed": true
   },
   "outputs": [],
   "source": [
    "fDB2 = fDB.query('S_F098>0')\n",
    "fDB2 = fDB2.query('M_F850>0')"
   ]
  },
  {
   "cell_type": "code",
   "execution_count": 18,
   "metadata": {
    "collapsed": false
   },
   "outputs": [
    {
     "data": {
      "text/plain": [
       "Index([u'M_F098', u'M_F098_err', u'M_F850', u'M_F850_err', u'N_F085',\n",
       "       u'N_F850_err', u'S_F098', u'S_F098_err', u'S_F850', u'S_F850_C',\n",
       "       u'S_F850_C_err', u'S_F850_err', u'gids', u'flam_F098', u'flam_F098_err',\n",
       "       u'flam_F850', u'flam_F850_err'],\n",
       "      dtype='object')"
      ]
     },
     "execution_count": 18,
     "metadata": {},
     "output_type": "execute_result"
    }
   ],
   "source": [
    "fDB2.columns"
   ]
  },
  {
   "cell_type": "code",
   "execution_count": 6,
   "metadata": {
    "collapsed": true,
    "scrolled": true
   },
   "outputs": [
    {
     "name": "stdout",
     "output_type": "stream",
     "text": [
      "The following tasks in the stwcs.gui package can be run with TEAL:\n     apply_headerlet          archive_headerlet          attach_headerlet     \n     delete_headerlet         extract_headerlet         headerlet_summary     \n    restore_headerlet             updatewcs              write_headerlet\n\n\n"
     ]
    },
    {
     "name": "stdout",
     "output_type": "stream",
     "text": [
      "../data/galaxy_flts/s38785_flt: photutils.detect_sources (detect_thresh=0.0, grow_seg=5, gauss_fwhm=2.0, ZP=0.0)\n../data/galaxy_flts/s38785_flt: photutils.source_properties\n"
     ]
    },
    {
     "name": "stdout",
     "output_type": "stream",
     "text": [
      "Rename column: ycentroid -> y_flt\nRename column: ra_icrs_centroid -> ra\nRename column: dec_icrs_centroid -> dec\nRename column: xcentroid -> x_flt\n\u001b[1A\u001b[1M../data/galaxy_flts/s38785_flt: photutils.source_properties - 1 objects\n../data/galaxy_flts/s38785_flt: save ../data/galaxy_flts/s38785_flt.detect_seg.fits, ../data/galaxy_flts/s38785_flt.detect.cat\n"
     ]
    },
    {
     "name": "stdout",
     "output_type": "stream",
     "text": [
      "../data/galaxy_flts/s39170_flt: photutils.detect_sources (detect_thresh=0.0, grow_seg=5, gauss_fwhm=2.0, ZP=0.0)\n../data/galaxy_flts/s39170_flt: photutils.source_properties\nRename column: ycentroid -> y_flt\nRename column: ra_icrs_centroid -> ra\nRename column: dec_icrs_centroid -> dec\nRename column: xcentroid -> x_flt\n\u001b[1A\u001b[1M../data/galaxy_flts/s39170_flt: photutils.source_properties - 1 objects\n../data/galaxy_flts/s39170_flt: save ../data/galaxy_flts/s39170_flt.detect_seg.fits, ../data/galaxy_flts/s39170_flt.detect.cat\n"
     ]
    },
    {
     "name": "stdout",
     "output_type": "stream",
     "text": [
      "../data/galaxy_flts/s39241_flt: photutils.detect_sources (detect_thresh=0.0, grow_seg=5, gauss_fwhm=2.0, ZP=0.0)\n../data/galaxy_flts/s39241_flt: photutils.source_properties\nRename column: ycentroid -> y_flt\nRename column: ra_icrs_centroid -> ra\nRename column: dec_icrs_centroid -> dec\nRename column: xcentroid -> x_flt\n\u001b[1A\u001b[1M../data/galaxy_flts/s39241_flt: photutils.source_properties - 1 objects\n../data/galaxy_flts/s39241_flt: save ../data/galaxy_flts/s39241_flt.detect_seg.fits, ../data/galaxy_flts/s39241_flt.detect.cat\n"
     ]
    },
    {
     "name": "stdout",
     "output_type": "stream",
     "text": [
      "../data/galaxy_flts/s39631_flt: photutils.detect_sources (detect_thresh=0.0, grow_seg=5, gauss_fwhm=2.0, ZP=0.0)\n../data/galaxy_flts/s39631_flt: photutils.source_properties\nRename column: ycentroid -> y_flt\nRename column: ra_icrs_centroid -> ra\nRename column: dec_icrs_centroid -> dec\nRename column: xcentroid -> x_flt\n\u001b[1A\u001b[1M../data/galaxy_flts/s39631_flt: photutils.source_properties - 1 objects\n../data/galaxy_flts/s39631_flt: save ../data/galaxy_flts/s39631_flt.detect_seg.fits, ../data/galaxy_flts/s39631_flt.detect.cat\n"
     ]
    },
    {
     "name": "stdout",
     "output_type": "stream",
     "text": [
      "../data/galaxy_flts/s39804_flt: photutils.detect_sources (detect_thresh=0.0, grow_seg=5, gauss_fwhm=2.0, ZP=0.0)\n../data/galaxy_flts/s39804_flt: photutils.source_properties\nRename column: ycentroid -> y_flt\nRename column: ra_icrs_centroid -> ra\nRename column: dec_icrs_centroid -> dec\nRename column: xcentroid -> x_flt\n\u001b[1A\u001b[1M../data/galaxy_flts/s39804_flt: photutils.source_properties - 1 objects\n../data/galaxy_flts/s39804_flt: save ../data/galaxy_flts/s39804_flt.detect_seg.fits, ../data/galaxy_flts/s39804_flt.detect.cat\n"
     ]
    },
    {
     "name": "stdout",
     "output_type": "stream",
     "text": [
      "../data/galaxy_flts/s40223_flt: photutils.detect_sources (detect_thresh=0.0, grow_seg=5, gauss_fwhm=2.0, ZP=0.0)\n../data/galaxy_flts/s40223_flt: photutils.source_properties\nRename column: ycentroid -> y_flt\nRename column: ra_icrs_centroid -> ra\nRename column: dec_icrs_centroid -> dec\nRename column: xcentroid -> x_flt\n\u001b[1A\u001b[1M../data/galaxy_flts/s40223_flt: photutils.source_properties - 1 objects\n../data/galaxy_flts/s40223_flt: save ../data/galaxy_flts/s40223_flt.detect_seg.fits, ../data/galaxy_flts/s40223_flt.detect.cat\n"
     ]
    },
    {
     "name": "stdout",
     "output_type": "stream",
     "text": [
      "../data/galaxy_flts/s40476_flt: photutils.detect_sources (detect_thresh=0.0, grow_seg=5, gauss_fwhm=2.0, ZP=0.0)\n../data/galaxy_flts/s40476_flt: photutils.source_properties\nRename column: ycentroid -> y_flt\nRename column: ra_icrs_centroid -> ra\nRename column: dec_icrs_centroid -> dec\nRename column: xcentroid -> x_flt\n\u001b[1A\u001b[1M../data/galaxy_flts/s40476_flt: photutils.source_properties - 1 objects\n../data/galaxy_flts/s40476_flt: save ../data/galaxy_flts/s40476_flt.detect_seg.fits, ../data/galaxy_flts/s40476_flt.detect.cat\n"
     ]
    },
    {
     "name": "stdout",
     "output_type": "stream",
     "text": [
      "../data/galaxy_flts/s40597_flt: photutils.detect_sources (detect_thresh=0.0, grow_seg=5, gauss_fwhm=2.0, ZP=0.0)\n../data/galaxy_flts/s40597_flt: photutils.source_properties\nRename column: ycentroid -> y_flt\nRename column: ra_icrs_centroid -> ra\nRename column: dec_icrs_centroid -> dec\nRename column: xcentroid -> x_flt\n\u001b[1A\u001b[1M../data/galaxy_flts/s40597_flt: photutils.source_properties - 1 objects\n../data/galaxy_flts/s40597_flt: save ../data/galaxy_flts/s40597_flt.detect_seg.fits, ../data/galaxy_flts/s40597_flt.detect.cat\n"
     ]
    },
    {
     "name": "stdout",
     "output_type": "stream",
     "text": [
      "../data/galaxy_flts/s40623_flt: photutils.detect_sources (detect_thresh=0.0, grow_seg=5, gauss_fwhm=2.0, ZP=0.0)\n../data/galaxy_flts/s40623_flt: photutils.source_properties\nRename column: ycentroid -> y_flt\nRename column: ra_icrs_centroid -> ra\nRename column: dec_icrs_centroid -> dec\nRename column: xcentroid -> x_flt\n\u001b[1A\u001b[1M../data/galaxy_flts/s40623_flt: photutils.source_properties - 1 objects\n../data/galaxy_flts/s40623_flt: save ../data/galaxy_flts/s40623_flt.detect_seg.fits, ../data/galaxy_flts/s40623_flt.detect.cat\n"
     ]
    },
    {
     "name": "stdout",
     "output_type": "stream",
     "text": [
      "../data/galaxy_flts/s41148_flt: photutils.detect_sources (detect_thresh=0.0, grow_seg=5, gauss_fwhm=2.0, ZP=0.0)\n../data/galaxy_flts/s41148_flt: photutils.source_properties\nRename column: ycentroid -> y_flt\nRename column: ra_icrs_centroid -> ra\nRename column: dec_icrs_centroid -> dec\nRename column: xcentroid -> x_flt\n\u001b[1A\u001b[1M../data/galaxy_flts/s41148_flt: photutils.source_properties - 1 objects\n../data/galaxy_flts/s41148_flt: save ../data/galaxy_flts/s41148_flt.detect_seg.fits, ../data/galaxy_flts/s41148_flt.detect.cat\n"
     ]
    },
    {
     "name": "stdout",
     "output_type": "stream",
     "text": [
      "../data/galaxy_flts/s41659_flt: photutils.detect_sources (detect_thresh=0.0, grow_seg=5, gauss_fwhm=2.0, ZP=0.0)\n../data/galaxy_flts/s41659_flt: photutils.source_properties\nRename column: ycentroid -> y_flt\nRename column: ra_icrs_centroid -> ra\nRename column: dec_icrs_centroid -> dec\nRename column: xcentroid -> x_flt\n\u001b[1A\u001b[1M../data/galaxy_flts/s41659_flt: photutils.source_properties - 2 objects\n../data/galaxy_flts/s41659_flt: save ../data/galaxy_flts/s41659_flt.detect_seg.fits, ../data/galaxy_flts/s41659_flt.detect.cat\n"
     ]
    },
    {
     "name": "stdout",
     "output_type": "stream",
     "text": [
      "../data/galaxy_flts/s43615_flt: photutils.detect_sources (detect_thresh=0.0, grow_seg=5, gauss_fwhm=2.0, ZP=0.0)\n../data/galaxy_flts/s43615_flt: photutils.source_properties\nRename column: ycentroid -> y_flt\nRename column: ra_icrs_centroid -> ra\nRename column: dec_icrs_centroid -> dec\nRename column: xcentroid -> x_flt\n\u001b[1A\u001b[1M../data/galaxy_flts/s43615_flt: photutils.source_properties - 1 objects\n../data/galaxy_flts/s43615_flt: save ../data/galaxy_flts/s43615_flt.detect_seg.fits, ../data/galaxy_flts/s43615_flt.detect.cat\n"
     ]
    },
    {
     "name": "stdout",
     "output_type": "stream",
     "text": [
      "../data/galaxy_flts/s44042_flt: photutils.detect_sources (detect_thresh=0.0, grow_seg=5, gauss_fwhm=2.0, ZP=0.0)\n../data/galaxy_flts/s44042_flt: photutils.source_properties\nRename column: ycentroid -> y_flt\nRename column: ra_icrs_centroid -> ra\nRename column: dec_icrs_centroid -> dec\nRename column: xcentroid -> x_flt\n\u001b[1A\u001b[1M../data/galaxy_flts/s44042_flt: photutils.source_properties - 1 objects\n../data/galaxy_flts/s44042_flt: save ../data/galaxy_flts/s44042_flt.detect_seg.fits, ../data/galaxy_flts/s44042_flt.detect.cat\n"
     ]
    },
    {
     "name": "stdout",
     "output_type": "stream",
     "text": [
      "../data/galaxy_flts/s45972_flt: photutils.detect_sources (detect_thresh=0.0, grow_seg=5, gauss_fwhm=2.0, ZP=0.0)\n../data/galaxy_flts/s45972_flt: photutils.source_properties\nRename column: ycentroid -> y_flt\nRename column: ra_icrs_centroid -> ra\nRename column: dec_icrs_centroid -> dec\nRename column: xcentroid -> x_flt\n\u001b[1A\u001b[1M../data/galaxy_flts/s45972_flt: photutils.source_properties - 1 objects\n../data/galaxy_flts/s45972_flt: save ../data/galaxy_flts/s45972_flt.detect_seg.fits, ../data/galaxy_flts/s45972_flt.detect.cat\n"
     ]
    },
    {
     "name": "stdout",
     "output_type": "stream",
     "text": [
      "../data/galaxy_flts/s48631_flt: photutils.detect_sources (detect_thresh=0.0, grow_seg=5, gauss_fwhm=2.0, ZP=0.0)\n../data/galaxy_flts/s48631_flt: photutils.source_properties\n"
     ]
    },
    {
     "name": "stdout",
     "output_type": "stream",
     "text": [
      "Rename column: ycentroid -> y_flt\nRename column: ra_icrs_centroid -> ra\nRename column: dec_icrs_centroid -> dec\nRename column: xcentroid -> x_flt\n\u001b[1A\u001b[1M../data/galaxy_flts/s48631_flt: photutils.source_properties - 2 objects\n../data/galaxy_flts/s48631_flt: save ../data/galaxy_flts/s48631_flt.detect_seg.fits, ../data/galaxy_flts/s48631_flt.detect.cat\n"
     ]
    }
   ],
   "source": [
    "SN = []\n",
    "\n",
    "for i in fDB2.index:\n",
    "    spec = Gen_spec(fDB2['gids'][i], float(galDB['hi_res_specz'][galDB['gids'] == fDB2['gids'][i]]), maxwv=11400)\n",
    "    fl = np.trapz(spec.gal_fl,spec.gal_wv)\n",
    "    er = np.trapz(spec.gal_er,spec.gal_wv)\n",
    "    SN.append(fl/er)"
   ]
  },
  {
   "cell_type": "code",
   "execution_count": 7,
   "metadata": {
    "collapsed": true
   },
   "outputs": [
    {
     "name": "stdout",
     "output_type": "stream",
     "text": [
      "217    s38785\n220    s39170\n221    s39241\n223    s39631\n224    s39804\n227    s40223\n228    s40476\n230    s40597\n231    s40623\n234    s41148\n236    s41659\n246    s43615\n248    s44042\n258    s45972\n270    s48631\nName: gids, dtype: object\n"
     ]
    }
   ],
   "source": [
    "print fDB2['gids' ]"
   ]
  },
  {
   "cell_type": "code",
   "execution_count": 12,
   "metadata": {},
   "outputs": [
    {
     "data": {
      "text/plain": [
       "[<matplotlib.lines.Line2D at 0x11bdee550>]"
      ]
     },
     "execution_count": 12,
     "metadata": {},
     "output_type": "execute_result"
    },
    {
     "data": {
      "image/png": "[encoded data removed]",
      "text/plain": [
       "<matplotlib.figure.Figure at 0x11bef1d90>"
      ]
     },
     "metadata": {},
     "output_type": "display_data"
    },
    {
     "data": {
      "image/png": "[encoded data removed]",
      "text/plain": [
       "<matplotlib.figure.Figure at 0x11c707dd0>"
      ]
     },
     "metadata": {},
     "output_type": "display_data"
    },
    {
     "data": {
      "image/png": "[encoded data removed]",
      "text/plain": [
       "<matplotlib.figure.Figure at 0x11cd76b90>"
      ]
     },
     "metadata": {},
     "output_type": "display_data"
    }
   ],
   "source": [
    "%matplotlib inline\n",
    "lmass = [10.88,11.09,10.87,10.69,10.91,10.66,10.59,11.01,10.76,11.08,10.3,10.69,11.02,10.87,11.01]\n",
    "rshift=[1.175,1.022,1.019,1.053,1.333,1.595,1.212,1.221,1.41,1.758,1.62,1.016,1.611,1.038,1.055]\n",
    "\n",
    "plt.figure(figsize=[8,8])\n",
    "plt.plot(SN,lmass,'o')\n",
    "\n",
    "plt.figure(figsize=[8,8])\n",
    "plt.plot(SN,rshift,'o')\n",
    "\n",
    "plt.figure(figsize=[8,8])\n",
    "plt.plot(rshift,lmass,'o')"
   ]
  },
  {
   "cell_type": "code",
   "execution_count": 8,
   "metadata": {
    "collapsed": false
   },
   "outputs": [],
   "source": [
    "Color = []\n",
    "Color_sig = []\n",
    "M_Color = []\n",
    "M_Color_sig = []\n",
    "D_Color_sig = []\n",
    "beta = (2.5/np.log(10))**2\n",
    "for i in fDB2.index:\n",
    "    Color.append(Magnitude(fDB2['flam_F850'][i]/fDB2['flam_F098'][i]))\n",
    "    Color_sig.append(np.sqrt(beta*((fDB2['flam_F098_err'][i]/fDB2['flam_F098'][i])**2 + \n",
    "                                   (fDB2['flam_F850_err'][i]/fDB2['flam_F850'][i])**2)))\n",
    "    M_Color.append(Magnitude(fDB2['M_F850'][i]/fDB2['M_F098'][i]))\n",
    "    M_Color_sig.append(np.sqrt(beta*((fDB2['M_F098_err'][i]/fDB2['M_F098'][i])**2 + \n",
    "                                     (fDB2['M_F850_err'][i]/fDB2['M_F850'][i])**2)))\n",
    "    D_Color_sig.append(np.sqrt(beta*((fDB2['M_F098_err'][i]/fDB2['M_F098'][i])**2 + \n",
    "                                     (fDB2['M_F850_err'][i]/fDB2['M_F850'][i])**2)+\n",
    "                               (fDB2['flam_F098_err'][i]/fDB2['flam_F098'][i])**2 + \n",
    "                               (fDB2['flam_F850_err'][i]/fDB2['flam_F850'][i])**2))\n",
    "D_Color = np.array(Color) - np.array(M_Color)"
   ]
  },
  {
   "cell_type": "code",
   "execution_count": 23,
   "metadata": {
    "collapsed": false
   },
   "outputs": [],
   "source": [
    "%matplotlib inline\n",
    "\n",
    "plt.figure(figsize=[8,8])\n",
    "plt.errorbar(SN,D_Color,D_Color_sig,fmt='o')\n",
    "plt.axhline(.053,label = 'Median Difference=0.053 (Mag)')\n",
    "# plt.fill_between(np.sort(SN),np.repeat(.031,len(SN)),np.repeat(.061,len(SN)),color = 'g', alpha =.2,label = '68% confidence region')\n",
    "plt.ylabel('$\\Delta$[Mag(F098M)-Mag(F850LP)] ',size=30)\n",
    "plt.xlabel('Integrated SN',size=30)\n",
    "plt.tick_params(axis='both', which='major', labelsize=23)\n",
    "plt.minorticks_on()\n",
    "plt.legend(fontsize=20)\n",
    "# plt.show()\n",
    "plt.savefig('../plots/dcolor1.pdf',bbox_inches = 'tight')\n",
    "plt.close()\n",
    "\n",
    "plt.figure(figsize=[8,8])\n",
    "plt.plot(SN,D_Color,'o')\n",
    "plt.axhline(.053,label = 'Median Difference=0.053 (Mag)')\n",
    "plt.ylabel('$\\Delta$[Mag(F098M)-Mag(F850LP)] ',size=30)\n",
    "plt.xlabel('Integrated SN',size=30)\n",
    "plt.tick_params(axis='both', which='major', labelsize=23)\n",
    "plt.minorticks_on()\n",
    "plt.legend(fontsize=20)\n",
    "# plt.show()\n",
    "plt.savefig('../plots/dcolor2.pdf',bbox_inches = 'tight')\n",
    "plt.close()\n",
    "\n",
    "plt.figure(figsize=[8,8])\n",
    "sea.distplot(D_Color,bins=10)\n",
    "plt.axvline(.053,label = 'Median Difference= \\n 0.053 (Mag)')\n",
    "plt.xlabel('$\\Delta$[Mag(F098M)-Mag(F850LP)] ',size=30)\n",
    "plt.ylabel('N',size=30)\n",
    "plt.tick_params(axis='both', which='major', labelsize=23)\n",
    "plt.minorticks_on()\n",
    "plt.legend(fontsize=20)\n",
    "# plt.show()\n",
    "plt.savefig('../plots/dcolor3.pdf',bbox_inches = 'tight')\n",
    "plt.close()"
   ]
  },
  {
   "cell_type": "code",
   "execution_count": 51,
   "metadata": {
    "collapsed": false
   },
   "outputs": [
    {
     "name": "stdout",
     "output_type": "stream",
     "text": [
      "0.0537166843432\n"
     ]
    },
    {
     "data": {
      "image/png": "[encoded data removed]",
      "text/plain": [
       "<matplotlib.figure.Figure at 0x117ad3410>"
      ]
     },
     "metadata": {},
     "output_type": "display_data"
    }
   ],
   "source": [
    "sea.distplot(D_Color,bins=10)\n",
    "print np.median(D_Color)"
   ]
  },
  {
   "cell_type": "code",
   "execution_count": 70,
   "metadata": {
    "collapsed": false
   },
   "outputs": [
    {
     "data": {
      "text/plain": [
       "(0.053716684343218531, 0.031289895697022486, 0.061215420640801349)"
      ]
     },
     "execution_count": 70,
     "metadata": {},
     "output_type": "execute_result"
    },
    {
     "data": {
      "image/png": "[encoded data removed]",
      "text/plain": [
       "<matplotlib.figure.Figure at 0x1173e7c10>"
      ]
     },
     "metadata": {},
     "output_type": "display_data"
    }
   ],
   "source": [
    "Bootstrap_errors(fDB2['flam_F098'].values,fDB2['flam_F850'].values,fDB2['M_F098'].values,fDB2['M_F850'].values,\n",
    "                its=1000)"
   ]
  },
  {
   "cell_type": "code",
   "execution_count": null,
   "metadata": {
    "collapsed": true
   },
   "outputs": [],
   "source": [
    ""
   ]
  }
 ],
 "metadata": {
  "kernelspec": {
   "display_name": "Python 2",
   "language": "python",
   "name": "python2"
  },
  "language_info": {
   "codemirror_mode": {
    "name": "ipython",
    "version": 2.0
   },
   "file_extension": ".py",
   "mimetype": "text/x-python",
   "name": "python",
   "nbconvert_exporter": "python",
   "pygments_lexer": "ipython2",
   "version": "2.7.13"
  }
 },
 "nbformat": 4,
 "nbformat_minor": 0
}