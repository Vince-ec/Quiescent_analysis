{
 "cells": [
  {
   "cell_type": "code",
   "execution_count": 1,
   "metadata": {},
   "outputs": [],
   "source": [
    "import numpy as np\n",
    "import pandas as pd\n",
    "from spec_id import Scale_model,Gen_spec,Median_w_Error_cont\n",
    "import matplotlib.pyplot as plt\n",
    "from matplotlib.gridspec import GridSpec\n",
    "import grizli\n",
    "from glob import glob\n",
    "from scipy.interpolate import interp1d\n",
    "import os\n",
    "import rpy2\n",
    "import rpy2.robjects as robjects\n",
    "from rpy2.robjects.packages import importr\n",
    "from rpy2.robjects import pandas2ri\n",
    "R = robjects.r\n",
    "import seaborn as sea\n",
    "sea.set(style='white')\n",
    "sea.set(style='ticks')\n",
    "sea.set_style({'xtick.direct'\n",
    "               'ion': 'in','xtick.top':True,'xtick.minor.visible': True,\n",
    "               'ytick.direction': \"in\",'ytick.right': True,'ytick.minor.visible': True})\n",
    "colmap = sea.cubehelix_palette(12, start=2, rot=.2, dark=0, light=1.1, as_cmap=True)\n",
    "pandas2ri.activate()\n",
    "\n",
    "### set home for files\n",
    "hpath = os.environ['HOME'] + '/'"
   ]
  },
  {
   "cell_type": "code",
   "execution_count": 2,
   "metadata": {},
   "outputs": [],
   "source": [
    "galDB = pd.read_pickle('../data/upd_galDB.pkl')\n",
    "lzDB = galDB.query('z_grism < 1.16')\n",
    "mzDB = galDB.query('1.16 < z_grism < 1.3')\n",
    "hzDB = galDB.query('1.3 < z_grism < 1.45')\n",
    "uhzDB = galDB.query('1.45 < z_grism')\n",
    "\n",
    "\n",
    "metal=np.round(np.arange(0.002,0.031,0.001),3)\n",
    "age=np.round(np.arange(.5,6.1,.1),1)\n",
    "tau=[0,8.0, 8.3, 8.48, 8.6, 8.7, 8.78, 8.85, 8.9, 8.95, 9.0, 9.04, 9.08, 9.11, 9.15, 9.18, 9.2, 9.23, 9.26, 9.28,\n",
    "     9.3, 9.32, 9.34, 9.36, 9.38, 9.4, 9.41, 9.43, 9.45, 9.46, 9.48]\n",
    "dust=np.round(np.arange(0.0,1.1,0.1),1)\n",
    "M,A=np.meshgrid(metal,age)"
   ]
  },
  {
   "cell_type": "code",
   "execution_count": 23,
   "metadata": {},
   "outputs": [
    {
     "name": "stderr",
     "output_type": "stream",
     "text": [
      "/Users/vestrada/miniconda3/envs/astroconda/lib/python3.5/site-packages/grizli-0.6.0_115_g3ce5ccf-py3.5-macosx-10.6-x86_64.egg/grizli/model.py:3422: RuntimeWarning: invalid value encountered in sqrt\n",
      "  resid = np.abs(self.scif - self.flat_flam)*np.sqrt(self.ivarf)\n",
      "/Users/vestrada/miniconda3/envs/astroconda/lib/python3.5/site-packages/grizli-0.6.0_115_g3ce5ccf-py3.5-macosx-10.6-x86_64.egg/grizli/model.py:3427: RuntimeWarning: invalid value encountered in sqrt\n",
      "  contam_mask = ((self.contam*np.sqrt(self.ivar) > contam_sn_mask[0]) &\n",
      "/Users/vestrada/miniconda3/envs/astroconda/lib/python3.5/site-packages/grizli-0.6.0_115_g3ce5ccf-py3.5-macosx-10.6-x86_64.egg/grizli/model.py:3428: RuntimeWarning: invalid value encountered in sqrt\n",
      "  (self.model*np.sqrt(self.ivar) < contam_sn_mask[1]))\n",
      "/Users/vestrada/miniconda3/envs/astroconda/lib/python3.5/site-packages/grizli-0.6.0_115_g3ce5ccf-py3.5-macosx-10.6-x86_64.egg/grizli/model.py:544: RuntimeWarning: divide by zero encountered in true_divide\n",
      "  self.optimal_profile = m/m.sum(axis=0)\n",
      "/Users/vestrada/miniconda3/envs/astroconda/lib/python3.5/site-packages/grizli-0.6.0_115_g3ce5ccf-py3.5-macosx-10.6-x86_64.egg/grizli/model.py:544: RuntimeWarning: invalid value encountered in true_divide\n",
      "  self.optimal_profile = m/m.sum(axis=0)\n"
     ]
    }
   ],
   "source": [
    "sp = Gen_spec(galDB.gids[0],galDB.z_grism[0])"
   ]
  },
  {
   "cell_type": "code",
   "execution_count": 4,
   "metadata": {},
   "outputs": [],
   "source": [
    "lwa_grid_t = np.load('../data/light_weight_scaling_t.npy')"
   ]
  },
  {
   "cell_type": "code",
   "execution_count": 5,
   "metadata": {},
   "outputs": [
    {
     "data": {
      "text/plain": [
       "(31, 56)"
      ]
     },
     "execution_count": 5,
     "metadata": {},
     "output_type": "execute_result"
    }
   ],
   "source": [
    "lwa_grid_t.shape"
   ]
  },
  {
   "cell_type": "code",
   "execution_count": 6,
   "metadata": {},
   "outputs": [],
   "source": [
    "lwa_grid = np.load('../data/light_weight_scaling_3.npy')\n",
    "lwa = lwa_grid[17].T[7]"
   ]
  },
  {
   "cell_type": "code",
   "execution_count": 39,
   "metadata": {},
   "outputs": [
    {
     "name": "stderr",
     "output_type": "stream",
     "text": [
      "/Users/vestrada/miniconda3/envs/astroconda/lib/python3.5/site-packages/grizli-0.6.0_115_g3ce5ccf-py3.5-macosx-10.6-x86_64.egg/grizli/model.py:3422: RuntimeWarning: invalid value encountered in sqrt\n",
      "  resid = np.abs(self.scif - self.flat_flam)*np.sqrt(self.ivarf)\n",
      "/Users/vestrada/miniconda3/envs/astroconda/lib/python3.5/site-packages/grizli-0.6.0_115_g3ce5ccf-py3.5-macosx-10.6-x86_64.egg/grizli/model.py:3427: RuntimeWarning: invalid value encountered in sqrt\n",
      "  contam_mask = ((self.contam*np.sqrt(self.ivar) > contam_sn_mask[0]) &\n",
      "/Users/vestrada/miniconda3/envs/astroconda/lib/python3.5/site-packages/grizli-0.6.0_115_g3ce5ccf-py3.5-macosx-10.6-x86_64.egg/grizli/model.py:3428: RuntimeWarning: invalid value encountered in sqrt\n",
      "  (self.model*np.sqrt(self.ivar) < contam_sn_mask[1]))\n",
      "/Users/vestrada/miniconda3/envs/astroconda/lib/python3.5/site-packages/grizli-0.6.0_115_g3ce5ccf-py3.5-macosx-10.6-x86_64.egg/grizli/model.py:544: RuntimeWarning: divide by zero encountered in true_divide\n",
      "  self.optimal_profile = m/m.sum(axis=0)\n",
      "/Users/vestrada/miniconda3/envs/astroconda/lib/python3.5/site-packages/grizli-0.6.0_115_g3ce5ccf-py3.5-macosx-10.6-x86_64.egg/grizli/model.py:544: RuntimeWarning: invalid value encountered in true_divide\n",
      "  self.optimal_profile = m/m.sum(axis=0)\n",
      "/Users/vestrada/miniconda3/envs/astroconda/lib/python3.5/site-packages/grizli-0.6.0_115_g3ce5ccf-py3.5-macosx-10.6-x86_64.egg/grizli/model.py:3393: RuntimeWarning: divide by zero encountered in true_divide\n",
      "  self.ivar = 1/self.grism.data['ERR']**2\n"
     ]
    }
   ],
   "source": [
    "\n",
    "ultau = np.append(0, np.power(10, np.array(tau)[1:] - 9))\n",
    "\n",
    "lim = 1\n",
    "diff = []\n",
    "percdiff = []\n",
    "for u in galDB.index:\n",
    "    chigrid1 = []\n",
    "    chigrid2 = []\n",
    "    sp = Gen_spec(galDB.gids[u],galDB.z_grism[u])\n",
    "    for idt in range(len(tau)-lim):\n",
    "        lwa1 = lwa_grid_t[idt]\n",
    "        lwa2 = lwa_grid[17].T[idt]\n",
    "        chi1 = np.zeros(age.size)\n",
    "        chi2 = np.zeros(age.size)\n",
    "\n",
    "        amt1=0\n",
    "        amt2=0\n",
    "\n",
    "        for iii in range(age.size):\n",
    "            if age[iii] > lwa1[-1]:\n",
    "                amt1 +=1\n",
    "            if age[iii] > lwa2[-1]:\n",
    "                amt2 +=1\n",
    "        for i in range(len(age)):\n",
    "            wv,fl = np.load(hpath + 'fsps_models_for_fit/fsps_spec/m0.019_a{0}_t{1}_spec.npy'.format(age[i],tau[idt]))\n",
    "            sp.Sim_spec_mult(wv,fl)\n",
    "            ifl = interp1d(sp.mwv,sp.fl)(sp.gal_wv)\n",
    "            ifl /= sp.filt\n",
    "            ifl *= Scale_model(sp.gal_fl,sp.gal_er,ifl)    \n",
    "            chi1[i]=sum(((sp.gal_fl - ifl)/sp.gal_er)**2)\n",
    "\n",
    "            wv,fl = np.load(hpath + 'fsps_models_for_fit/fsps_spec/m0.019_a{0}_dt{1}_spec.npy'.format(age[i],tau[idt]))\n",
    "            sp.Sim_spec_mult(wv,fl)\n",
    "            ifl = interp1d(sp.mwv,sp.fl)(sp.gal_wv)\n",
    "            ifl /= sp.filt\n",
    "            ifl *= Scale_model(sp.gal_fl,sp.gal_er,ifl)    \n",
    "            chi2[i]=sum(((sp.gal_fl - ifl)/sp.gal_er)**2)\n",
    "\n",
    "        dist = interp1d(lwa1,chi1)(age[:-amt1])\n",
    "        nchi1 = np.append(dist,np.repeat(1E9, amt1))\n",
    "\n",
    "        dist = interp1d(lwa2,chi2)(age[:-amt2])\n",
    "        nchi2 = np.append(dist,np.repeat(1E9, amt2))\n",
    "\n",
    "        chigrid1.append(nchi1)\n",
    "        chigrid2.append(nchi2)\n",
    "\n",
    "    p1 = np.exp(-np.array(chigrid1)/2)\n",
    "    p2 = np.exp(-np.array(chigrid2)/2)\n",
    "\n",
    "    Pt1 = np.trapz(p1.T, ultau[:-lim], axis=1)\n",
    "    Pt2 = np.trapz(p2.T, ultau[:-lim], axis=1)\n",
    "\n",
    "    Pt1 /= np.trapz(Pt1,age)\n",
    "    Pt2 /= np.trapz(Pt2,age)\n",
    "\n",
    "    m1,l1,h1 = Median_w_Error_cont(Pt1,age)\n",
    "    m2,l2,h2 = Median_w_Error_cont(Pt2,age)\n",
    "\n",
    "    diff.append(m2-m1)\n",
    "\n",
    "    percdiff.append((m2-m1)/ m2)\n",
    "#     plt.figure(figsize=[8,8])\n",
    "\n",
    "#     plt.plot(age,Pt1,'r',label='t')\n",
    "#     plt.plot(age,Pt2,'b',label='dt')\n",
    "#     plt.legend()"
   ]
  },
  {
   "cell_type": "code",
   "execution_count": 35,
   "metadata": {},
   "outputs": [
    {
     "name": "stderr",
     "output_type": "stream",
     "text": [
      "/Users/vestrada/miniconda3/envs/astroconda/lib/python3.5/site-packages/matplotlib/axes/_axes.py:6462: UserWarning: The 'normed' kwarg is deprecated, and has been replaced by the 'density' kwarg.\n",
      "  warnings.warn(\"The 'normed' kwarg is deprecated, and has been \"\n"
     ]
    },
    {
     "data": {
      "text/plain": [
       "<matplotlib.axes._subplots.AxesSubplot at 0x6120166a0>"
      ]
     },
     "execution_count": 35,
     "metadata": {},
     "output_type": "execute_result"
    },
    {
     "data": {
      "image/png": "[encoded data removed]",
      "text/plain": [
       "<Figure size 432x288 with 1 Axes>"
      ]
     },
     "metadata": {},
     "output_type": "display_data"
    }
   ],
   "source": [
    "sea.distplot(diff,)"
   ]
  },
  {
   "cell_type": "code",
   "execution_count": 40,
   "metadata": {},
   "outputs": [
    {
     "name": "stderr",
     "output_type": "stream",
     "text": [
      "/Users/vestrada/miniconda3/envs/astroconda/lib/python3.5/site-packages/matplotlib/axes/_axes.py:6462: UserWarning: The 'normed' kwarg is deprecated, and has been replaced by the 'density' kwarg.\n",
      "  warnings.warn(\"The 'normed' kwarg is deprecated, and has been \"\n"
     ]
    },
    {
     "data": {
      "text/plain": [
       "<matplotlib.axes._subplots.AxesSubplot at 0x1a1e1e3c18>"
      ]
     },
     "execution_count": 40,
     "metadata": {},
     "output_type": "execute_result"
    },
    {
     "data": {
      "image/png": "[encoded data removed]",
      "text/plain": [
       "<Figure size 432x288 with 1 Axes>"
      ]
     },
     "metadata": {},
     "output_type": "display_data"
    }
   ],
   "source": [
    "sea.distplot(percdiff)"
   ]
  },
  {
   "cell_type": "code",
   "execution_count": 38,
   "metadata": {},
   "outputs": [
    {
     "data": {
      "text/plain": [
       "0.14035916824196604"
      ]
     },
     "execution_count": 38,
     "metadata": {},
     "output_type": "execute_result"
    }
   ],
   "source": [
    "np.median(percdiff)"
   ]
  },
  {
   "cell_type": "code",
   "execution_count": null,
   "metadata": {},
   "outputs": [],
   "source": []
  }
 ],
 "metadata": {
  "kernelspec": {
   "display_name": "Python 3",
   "language": "python",
   "name": "python3"
  },
  "language_info": {
   "codemirror_mode": {
    "name": "ipython",
    "version": 3
   },
   "file_extension": ".py",
   "mimetype": "text/x-python",
   "name": "python",
   "nbconvert_exporter": "python",
   "pygments_lexer": "ipython3",
   "version": "3.5.5"
  }
 },
 "nbformat": 4,
 "nbformat_minor": 2
}
