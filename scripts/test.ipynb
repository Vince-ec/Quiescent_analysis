{
 "cells": [
  {
   "cell_type": "code",
   "execution_count": 30,
   "metadata": {
    "collapsed": true
   },
   "outputs": [],
   "source": [
    "import numpy as np\n",
    "import matplotlib.pyplot as plt\n",
    "from spec_id import Gen_spec, Median_w_Error_cont\n",
    "import seaborn as sea\n",
    "import pandas as pd\n",
    "from glob import glob\n",
    "from astropy.table import Table\n",
    "sea.set(style='white')\n",
    "sea.set(style='ticks')\n",
    "sea.set_style({\"xtick.direction\": \"in\",\"ytick.direction\": \"in\"})\n",
    "colmap = sea.cubehelix_palette(12, start=2, rot=.2, dark=0, light=1.1, as_cmap=True)"
   ]
  },
  {
   "cell_type": "code",
   "execution_count": 3,
   "metadata": {},
   "outputs": [
    {
     "data": {
      "text/plain": [
       "8.6989700043360187"
      ]
     },
     "execution_count": 3,
     "metadata": {},
     "output_type": "execute_result"
    }
   ],
   "source": [
    "np.log10(500E6)"
   ]
  },
  {
   "cell_type": "code",
   "execution_count": 2,
   "metadata": {},
   "outputs": [],
   "source": [
    "uvjDB = pd.read_pickle('../data/uvj_db.pkl')\n",
    "gsDB = pd.read_pickle('../data/good_spec_gal_DB.pkl')"
   ]
  },
  {
   "cell_type": "code",
   "execution_count": 7,
   "metadata": {},
   "outputs": [
    {
     "data": {
      "text/plain": [
       "46"
      ]
     },
     "execution_count": 7,
     "metadata": {},
     "output_type": "execute_result"
    }
   ],
   "source": [
    "len(gsDB[gsDB.agn == False][gsDB.spec == True])"
   ]
  },
  {
   "cell_type": "code",
   "execution_count": 16,
   "metadata": {},
   "outputs": [],
   "source": [
    "qDB = uvjDB[uvjDB['Q/S'] == 'q']"
   ]
  },
  {
   "cell_type": "code",
   "execution_count": 17,
   "metadata": {},
   "outputs": [],
   "source": [
    "SIDF = pd.read_pickle('../webapp/south_img_DF.pkl')\n",
    "NIDF = pd.read_pickle('../webapp/north_img_DF.pkl')"
   ]
  },
  {
   "cell_type": "code",
   "execution_count": 24,
   "metadata": {},
   "outputs": [
    {
     "data": {
      "text/plain": [
       "array([17928, 18229, 18761, ..., 50292, 50389, 50425])"
      ]
     },
     "execution_count": 24,
     "metadata": {},
     "output_type": "execute_result"
    }
   ],
   "source": [
    "SIDF['id'].values"
   ]
  },
  {
   "cell_type": "code",
   "execution_count": 54,
   "metadata": {},
   "outputs": [],
   "source": [
    "galDB = pd.read_pickle('../data/sgal_param_DB.pkl')\n",
    "galDB = galDB.query('ids != 14713 and ids != 38126')"
   ]
  },
  {
   "cell_type": "code",
   "execution_count": 14,
   "metadata": {},
   "outputs": [],
   "source": [
    "%matplotlib inline\n",
    "\n",
    "dz=[]\n",
    "for i in galDB.index:\n",
    "    z,Pz = np.load('../rshift_dat/%s_hires_Pofz.npy' % galDB['gids'][i])\n",
    "    med,lerr,herr = Median_w_Error_cont(Pz,z)\n",
    "    dz.append(((lerr+herr)/2)/(1+med))"
   ]
  },
  {
   "cell_type": "code",
   "execution_count": 28,
   "metadata": {},
   "outputs": [
    {
     "data": {
      "text/plain": [
       "0.001192861914304800616"
      ]
     },
     "execution_count": 28,
     "metadata": {},
     "output_type": "execute_result"
    }
   ],
   "source": [
    "np.median(dz)\n"
   ]
  },
  {
   "cell_type": "code",
   "execution_count": 55,
   "metadata": {},
   "outputs": [],
   "source": [
    "%matplotlib inline\n",
    "\n",
    "dz=[]\n",
    "diff=[]\n",
    "meds=[]\n",
    "for i in galDB.index:\n",
    "    z,Pz = np.load('../rshift_dat/%s_hires_Pofz.npy' % galDB['gids'][i])\n",
    "    z2,Pz2 = np.load('../rshift_dat/%s_t8.7__Pofz.npy' % galDB['gids'][i])\n",
    "\n",
    "    med,lerr,herr = Median_w_Error_cont(Pz,z)\n",
    "    med2,lerr2,herr2 = Median_w_Error_cont(Pz2,z2)\n",
    "    diff.append(galDB['hi_res_specz'][i]-z2[Pz2== max(Pz2)])\n",
    "    dz.append(((lerr+herr)/2)/(1+galDB['hi_res_specz'][i]))"
   ]
  },
  {
   "cell_type": "code",
   "execution_count": 61,
   "metadata": {},
   "outputs": [
    {
     "data": {
      "text/plain": [
       "[<matplotlib.lines.Line2D at 0x11d85f910>]"
      ]
     },
     "execution_count": 61,
     "metadata": {},
     "output_type": "execute_result"
    },
    {
     "data": {
      "image/png": "[encoded data removed]",
      "text/plain": [
       "<matplotlib.figure.Figure at 0x117b2b210>"
      ]
     },
     "metadata": {},
     "output_type": "display_data"
    },
    {
     "data": {
      "image/png": "[encoded data removed]",
      "text/plain": [
       "<matplotlib.figure.Figure at 0x11ada4950>"
      ]
     },
     "metadata": {},
     "output_type": "display_data"
    },
    {
     "data": {
      "image/png": "[encoded data removed]",
      "text/plain": [
       "<matplotlib.figure.Figure at 0x11a36e890>"
      ]
     },
     "metadata": {},
     "output_type": "display_data"
    }
   ],
   "source": [
    "plt.figure(figsize=[8,8])\n",
    "plt.plot(dz,diff,'o')\n",
    "plt.axvline(np.median(dz))\n",
    "plt.axvline(.018)\n",
    "plt.axhline(np.median(diff))\n",
    "plt.axhline(0.005)\n",
    "\n",
    "\n",
    "plt.figure(figsize=[8,8])\n",
    "plt.plot(galDB['SN'],diff,'o')\n",
    "\n",
    "plt.figure(figsize=[8,8])\n",
    "plt.plot(galDB['SN'],dz,'o')"
   ]
  },
  {
   "cell_type": "code",
   "execution_count": 29,
   "metadata": {},
   "outputs": [
    {
     "data": {
      "text/plain": [
       "0.0"
      ]
     },
     "execution_count": 29,
     "metadata": {},
     "output_type": "execute_result"
    }
   ],
   "source": [
    "np.median(diff)"
   ]
  },
  {
   "cell_type": "code",
   "execution_count": 47,
   "metadata": {},
   "outputs": [],
   "source": [
    "pofzs = glob('../rshift_dat/*t8.7*Pof*')\n",
    "pofzs_o = glob('../rshift_dat/*hires_*Pof*')"
   ]
  },
  {
   "cell_type": "code",
   "execution_count": 52,
   "metadata": {},
   "outputs": [],
   "source": [
    "in_dz=[]\n",
    "out_dz =[]\n",
    "for i in range(len(pofzs)):\n",
    "    GID = pofzs[i].split('/')[-1].split('_')[0]\n",
    "    z,Pz = np.load(pofzs[i])    \n",
    "    z_o,Pz_o = np.load(pofzs_o[i])\n",
    "\n",
    "    med,lerr,herr = Median_w_Error_cont(Pz,z)\n",
    "    if GID in galDB['gids'].values:\n",
    "#         plt.figure(figsize=[8,8])\n",
    "#         plt.plot(z,Pz)\n",
    "#         plt.plot(z_o,Pz_o)\n",
    "#         plt.axvline(med)\n",
    "#         plt.title('in sample %s' % GID)\n",
    "        in_dz.append(((lerr+herr)/2)/(1+med))\n",
    "\n",
    "    else:\n",
    "#         plt.figure(figsize=[8,8])\n",
    "#         plt.plot(z,Pz)\n",
    "#         plt.plot(z_o,Pz_o)\n",
    "#         plt.axvline(med)\n",
    "#         plt.title('out sample %s' % GID)\n",
    "        out_dz.append(((lerr+herr)/2)/(1+med))\n",
    "    \n",
    "    \n"
   ]
  },
  {
   "cell_type": "code",
   "execution_count": 53,
   "metadata": {},
   "outputs": [
    {
     "name": "stdout",
     "output_type": "stream",
     "text": [
      "0.00138175621215\n",
      "0.0279742910139\n"
     ]
    }
   ],
   "source": [
    "print np.median(in_dz)\n",
    "print np.median(out_dz)"
   ]
  },
  {
   "cell_type": "code",
   "execution_count": null,
   "metadata": {},
   "outputs": [],
   "source": []
  }
 ],
 "metadata": {
  "kernelspec": {
   "display_name": "Python 2",
   "language": "python",
   "name": "python2"
  },
  "language_info": {
   "codemirror_mode": {
    "name": "ipython",
    "version": 2
   },
   "file_extension": ".py",
   "mimetype": "text/x-python",
   "name": "python",
   "nbconvert_exporter": "python",
   "pygments_lexer": "ipython2",
   "version": "2.7.13"
  }
 },
 "nbformat": 4,
 "nbformat_minor": 2
}
