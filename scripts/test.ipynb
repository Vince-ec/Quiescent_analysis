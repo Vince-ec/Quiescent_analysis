{
 "cells": [
  {
   "cell_type": "code",
   "execution_count": 13,
   "metadata": {},
   "outputs": [],
   "source": [
    "import numpy as np\n",
    "import pandas as pd\n",
    "from spec_id import RT_spec,Gen_spec, Analyze_LH,Median_w_Error_cont,Oldest_galaxy\n",
    "import matplotlib.pyplot as plt\n",
    "from astropy.cosmology import Planck13, z_at_value\n",
    "import astropy\n",
    "from astropy import units as u\n",
    "from astropy.cosmology import WMAP9 as cosmo\n",
    "import os\n",
    "import cPickle\n",
    "import seaborn as sea\n",
    "sea.set(style='white')\n",
    "sea.set(style='ticks')\n",
    "sea.set_style({\"xtick.direction\": \"in\",\"ytick.direction\": \"in\"})\n",
    "colmap = sea.cubehelix_palette(12, start=2, rot=.2, dark=0, light=1.1, as_cmap=True)"
   ]
  },
  {
   "cell_type": "code",
   "execution_count": 6,
   "metadata": {},
   "outputs": [],
   "source": [
    "galDB = pd.read_pickle('../data/sgal_param_DB.pkl')\n",
    "\n",
    "metal=np.arange(0.002,0.031,0.001)\n",
    "age=np.arange(.5,6.1,.1)\n",
    "tau=[0,8.0, 8.3, 8.48, 8.6, 8.7, 8.78, 8.85, 8.9, 8.95, 9.0, 9.04, 9.08, 9.11, 9.15, 9.18, 9.2, 9.23, 9.26, 9.28,\n",
    "     9.3, 9.32, 9.34, 9.36, 9.38, 9.4, 9.41, 9.43, 9.45, 9.46, 9.48]\n",
    "M,A=np.meshgrid(metal,age)"
   ]
  },
  {
   "cell_type": "code",
   "execution_count": 4,
   "metadata": {},
   "outputs": [],
   "source": [
    "for i in galDB.index:\n",
    "    P,PZ,Pt = Analyze_LH('../chidat/%s_dtau_chidata.npy' % galDB['gids'][i], galDB['hi_res_specz'][i],\n",
    "                         metal,age,tau,age_conv='../data/tau_scale_delayed.dat')\n",
    "    np.save('../chidat/%s_dtau_tZ_pos_ff.npy' % galDB['gids'][i],P)\n",
    "    np.save('../chidat/%s_dtau_Z_pos_ff.npy' % galDB['gids'][i],[metal,PZ])\n",
    "    np.save('../chidat/%s_dtau_t_pos_ff.npy' % galDB['gids'][i],[age,Pt])"
   ]
  },
  {
   "cell_type": "code",
   "execution_count": 31,
   "metadata": {},
   "outputs": [],
   "source": [
    "\"\"\"DATA\"\"\"\n",
    "lzDB = galDB.query('hi_res_specz < 1.16')\n",
    "mzDB = galDB.query('1.16 < hi_res_specz < 1.3')\n",
    "mzDB = mzDB.query('ids != 14713 and ids != 38126')\n",
    "hzDB = galDB.query('1.3 < hi_res_specz < 1.45')\n",
    "uhzDB = galDB.query('1.45 < hi_res_specz')\n",
    "\n",
    "Pl,Pm,Ph,Puh = np.ones([4,len(age)])\n",
    "\n",
    "for i in lzDB.index:\n",
    "    t,Pt = np.load('../chidat/%s_79-114_t_pos_ff.npy' % lzDB['gids'][i])\n",
    "    Pl = Pl * Pt\n",
    "    \n",
    "for i in mzDB.index:\n",
    "    t,Pt = np.load('../chidat/%s_79-114_t_pos_ff.npy' % mzDB['gids'][i])\n",
    "    Pm = Pm * Pt\n",
    "    \n",
    "for i in hzDB.index:\n",
    "    t,Pt = np.load('../chidat/%s_79-114_t_pos_ff.npy' % hzDB['gids'][i])\n",
    "    Ph = Ph * Pt\n",
    "    \n",
    "for i in uhzDB.index:\n",
    "    t,Pt = np.load('../chidat/%s_79-114_t_pos_ff.npy' % uhzDB['gids'][i])\n",
    "    Puh = Puh * Pt\n",
    "    \n",
    "Pl /= np.trapz(Pl,age)\n",
    "Pm /= np.trapz(Pm,age)\n",
    "Ph /= np.trapz(Ph,age)\n",
    "Puh /= np.trapz(Puh,age)\n",
    "\n",
    "lmed,ller,lher=Median_w_Error_cont(Pl,age)\n",
    "mmed,mler,mher=Median_w_Error_cont(Pm,age)\n",
    "hmed,hler,hher=Median_w_Error_cont(Ph,age)\n",
    "uhmed,uhler,uhher=Median_w_Error_cont(Puh,age)\n"
   ]
  },
  {
   "cell_type": "code",
   "execution_count": 32,
   "metadata": {},
   "outputs": [
    {
     "name": "stdout",
     "output_type": "stream",
     "text": [
      "1.58416158482\n"
     ]
    }
   ],
   "source": [
    "AGE = Oldest_galaxy(np.median(lzDB['hi_res_specz'])) - lmed + Oldest_galaxy(np.median(mzDB['hi_res_specz'])) - mmed +\\\n",
    "      Oldest_galaxy(np.median(hzDB['hi_res_specz'])) - hmed + Oldest_galaxy(np.median(uhzDB['hi_res_specz'])) - uhmed \n",
    "\n",
    "print AGE/4."
   ]
  },
  {
   "cell_type": "code",
   "execution_count": 34,
   "metadata": {},
   "outputs": [
    {
     "name": "stdout",
     "output_type": "stream",
     "text": [
      "1.58855753449 Gyr\n"
     ]
    }
   ],
   "source": [
    "print  Oldest_galaxy(0) * u.Gyr -Planck13.lookback_time(3.9)"
   ]
  },
  {
   "cell_type": "code",
   "execution_count": 22,
   "metadata": {},
   "outputs": [],
   "source": [
    ""
   ]
  },
  {
   "cell_type": "code",
   "execution_count": null,
   "metadata": {},
   "outputs": [],
   "source": []
  }
 ],
 "metadata": {
  "kernelspec": {
   "display_name": "Python 2",
   "language": "python",
   "name": "python2"
  },
  "language_info": {
   "codemirror_mode": {
    "name": "ipython",
    "version": 2
   },
   "file_extension": ".py",
   "mimetype": "text/x-python",
   "name": "python",
   "nbconvert_exporter": "python",
   "pygments_lexer": "ipython2",
   "version": "2.7.6"
  }
 },
 "nbformat": 4,
 "nbformat_minor": 0
}
