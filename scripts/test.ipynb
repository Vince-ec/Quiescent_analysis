{
 "cells": [
  {
   "cell_type": "code",
   "execution_count": 15,
   "metadata": {
    "collapsed": true
   },
   "outputs": [],
   "source": [
    "import numpy as np\n",
    "import grizli\n",
    "import matplotlib.pyplot as plt\n",
    "import seaborn as sea\n",
    "import pysynphot as S\n",
    "\n",
    "sea.set(style='white')\n",
    "sea.set(style='ticks')\n",
    "sea.set_style({\"xtick.direction\": \"in\",\"ytick.direction\": \"in\"})\n",
    "colmap = sea.cubehelix_palette(12, start=2, rot=.2, dark=0, light=1.1, as_cmap=True)"
   ]
  },
  {
   "cell_type": "code",
   "execution_count": null,
   "metadata": {
    "collapsed": true
   },
   "outputs": [],
   "source": [
    "\n",
    "## Create Grizli model object\n",
    "sim_g102 = grizli.model.GrismFLT(grism_file='', verbose=False,\n",
    "                                 direct_file=self.flt_input,\n",
    "                                 force_grism='G102', pad=self.pad)\n",
    "\n",
    "sim_g102.photutils_detection(detect_thresh=.025, verbose=True, save_detection=True)\n",
    "\n",
    "keep = sim_g102.catalog['mag'] < 29\n",
    "c = sim_g102.catalog\n",
    "\n",
    "sim_g102.compute_full_model(ids=c['id'][keep], mags=c['mag'][keep], verbose=False)\n",
    "\n",
    "## Grab object near the center of the image\n",
    "dr = np.sqrt((sim_g102.catalog['x_flt'] - 579) ** 2 + (sim_g102.catalog['y_flt'] - 522) ** 2)\n",
    "ix = np.argmin(dr)\n",
    "id = sim_g102.catalog['id'][ix]\n",
    "\n",
    "## Spectrum cutouts\n",
    "self.beam = grizli.model.BeamCutout(sim_g102, beam=sim_g102.object_dispersers[id]['A'], conf=sim_g102.conf)\n",
    "\n",
    "def Sim_spec(self, metal, age, tau, gen_2d = False):\n",
    "import pysynphot as S\n",
    "if self.delayed == True:\n",
    "    model = '../../../fsps_models_for_fit/fsps_spec/m%s_a%s_dt%s_spec.npy' % (metal, age, tau)\n",
    "else:\n",
    "    model = '../../../fsps_models_for_fit/fsps_spec/m%s_a%s_t%s_spec.npy' % (metal, age, tau)\n",
    "\n",
    "wave, fl = np.load(model)\n",
    "spec = S.ArraySpectrum(wave, fl, fluxunits='flam')\n",
    "spec = spec.redshift(self.redshift).renorm(1., 'flam', S.ObsBandpass('wfc3,ir,f105w'))\n",
    "spec.convert('flam')\n",
    "## Compute the models\n",
    "self.model_spec = self.beam.beam.compute_model(spectrum_1d=[spec.wave, spec.flux])\n",
    "if gen_2d == True:\n",
    "    self.model_2d = self.model_spec.reshape(self.beam.beam.sh_beam)\n",
    "#model_spec = co.beam.compute_model(spectrum_1d=[wv, fl], in_place=False)\n",
    "#model = model_spec.reshape(co.beam.sh_beam)[10:-10]"
   ]
  },
  {
   "cell_type": "code",
   "execution_count": 3,
   "metadata": {
    "collapsed": false
   },
   "outputs": [
    {
     "name": "stdout",
     "output_type": "stream",
     "text": [
      "No TEAL-based tasks available for this package!\n",
      "../data/galaxy_flts/s39170_flt: photutils.detect_sources (detect_thresh=0.0, grow_seg=5, gauss_fwhm=2.0, ZP=0.0)\n",
      "../data/galaxy_flts/s39170_flt: photutils.source_properties\n",
      "Rename column: ycentroid -> y_flt\n",
      "Rename column: ra_icrs_centroid -> ra\n",
      "Rename column: dec_icrs_centroid -> dec\n",
      "Rename column: xcentroid -> x_flt\n",
      "\u001b[1A\u001b[1M../data/galaxy_flts/s39170_flt: photutils.source_properties - 1 objects\n",
      "../data/galaxy_flts/s39170_flt: save ../data/galaxy_flts/s39170_flt.detect_seg.fits, ../data/galaxy_flts/s39170_flt.detect.cat\n"
     ]
    },
    {
     "name": "stderr",
     "output_type": "stream",
     "text": [
      "WARNING: AstropyDeprecationWarning: \"clobber\" was deprecated in version 2.0 and will be removed in a future version. Use argument \"overwrite\" instead. [astropy.utils.decorators]\n"
     ]
    }
   ],
   "source": [
    "## Create Grizli model object\n",
    "sim_g102 = grizli.model.GrismFLT(grism_file='', verbose=False,\n",
    "                                 direct_file='../data/galaxy_flts/%s_flt.fits' % 's39170',\n",
    "                                 force_grism='G102', pad=100)\n",
    "\n",
    "sim_g102.photutils_detection(detect_thresh=.025, verbose=True, save_detection=True)\n",
    "\n",
    "keep = sim_g102.catalog['mag'] < 29\n",
    "c = sim_g102.catalog"
   ]
  },
  {
   "cell_type": "code",
   "execution_count": 4,
   "metadata": {
    "collapsed": true
   },
   "outputs": [],
   "source": [
    "sim_g102.compute_full_model(ids=c['id'][keep], mags=c['mag'][keep], verbose=False)\n",
    "\n",
    "## Grab object near the center of the image\n",
    "dr = np.sqrt((sim_g102.catalog['x_flt'] - 579) ** 2 + (sim_g102.catalog['y_flt'] - 522) ** 2)\n",
    "ix = np.argmin(dr)\n",
    "id = sim_g102.catalog['id'][ix]\n",
    "\n",
    "## Spectrum cutouts\n",
    "beam = grizli.model.BeamCutout(sim_g102, beam=sim_g102.object_dispersers[id]['A'], conf=sim_g102.conf)"
   ]
  },
  {
   "cell_type": "code",
   "execution_count": 6,
   "metadata": {
    "collapsed": true
   },
   "outputs": [],
   "source": [
    "model = '../../../fsps_models_for_fit/fsps_spec/m0.019_a3.0_dt8.0_spec.npy'\n",
    "\n",
    "wave, fl = np.load(model)\n",
    "spec = S.ArraySpectrum(wave, fl, fluxunits='flam')\n",
    "spec = spec.redshift(1.023).renorm(1., 'flam', S.ObsBandpass('wfc3,ir,f105w'))\n",
    "spec.convert('flam')\n"
   ]
  },
  {
   "cell_type": "code",
   "execution_count": 9,
   "metadata": {
    "collapsed": false
   },
   "outputs": [
    {
     "data": {
      "text/plain": [
       "array([ 0.,  0.,  0., ...,  0.,  0.,  0.])"
      ]
     },
     "execution_count": 9,
     "metadata": {},
     "output_type": "execute_result"
    }
   ],
   "source": [
    "beam.beam.compute_model(spectrum_1d=[spec.wave, spec.flux],in_place=False)\n"
   ]
  },
  {
   "cell_type": "code",
   "execution_count": 12,
   "metadata": {
    "collapsed": false
   },
   "outputs": [],
   "source": [
    "## Compute the models\n",
    "model_spec = beam.beam.compute_model(spectrum_1d=[spec.wave, spec.flux],in_place=False)\n",
    "model_2d = model_spec.reshape(beam.beam.sh_beam)"
   ]
  },
  {
   "cell_type": "code",
   "execution_count": 16,
   "metadata": {
    "collapsed": false
   },
   "outputs": [
    {
     "data": {
      "text/plain": [
       "<matplotlib.image.AxesImage at 0x10b1f65d0>"
      ]
     },
     "execution_count": 16,
     "metadata": {},
     "output_type": "execute_result"
    },
    {
     "data": {
      "image/png": "[encoded data removed]",
      "text/plain": [
       "<matplotlib.figure.Figure at 0x111e53790>"
      ]
     },
     "metadata": {},
     "output_type": "display_data"
    }
   ],
   "source": [
    "%matplotlib inline\n",
    "plt.imshow(model_2d)"
   ]
  },
  {
   "cell_type": "code",
   "execution_count": 17,
   "metadata": {
    "collapsed": false
   },
   "outputs": [
    {
     "data": {
      "text/plain": [
       "(52, 259)"
      ]
     },
     "execution_count": 17,
     "metadata": {},
     "output_type": "execute_result"
    }
   ],
   "source": [
    "beam.beam.sh_beam"
   ]
  },
  {
   "cell_type": "code",
   "execution_count": 20,
   "metadata": {
    "collapsed": false
   },
   "outputs": [
    {
     "name": "stderr",
     "output_type": "stream",
     "text": [
      "/Users/vestrada/miniconda2/envs/astroconda/lib/python2.7/site-packages/grizli/model.py:496: RuntimeWarning: invalid value encountered in divide\n",
      "  self.optimal_profile = m/m.sum(axis=0)\n"
     ]
    }
   ],
   "source": [
    "w, f, e = beam.beam.optimal_extract(beam.model, bin=0)\n"
   ]
  },
  {
   "cell_type": "code",
   "execution_count": 21,
   "metadata": {
    "collapsed": false
   },
   "outputs": [
    {
     "data": {
      "text/plain": [
       "259"
      ]
     },
     "execution_count": 21,
     "metadata": {},
     "output_type": "execute_result"
    }
   ],
   "source": [
    "w.size"
   ]
  },
  {
   "cell_type": "code",
   "execution_count": null,
   "metadata": {
    "collapsed": true
   },
   "outputs": [],
   "source": []
  }
 ],
 "metadata": {
  "kernelspec": {
   "display_name": "Python 2",
   "language": "python",
   "name": "python2"
  },
  "language_info": {
   "codemirror_mode": {
    "name": "ipython",
    "version": 2
   },
   "file_extension": ".py",
   "mimetype": "text/x-python",
   "name": "python",
   "nbconvert_exporter": "python",
   "pygments_lexer": "ipython2",
   "version": "2.7.13"
  }
 },
 "nbformat": 4,
 "nbformat_minor": 0
}
