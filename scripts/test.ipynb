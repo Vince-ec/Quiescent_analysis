{
 "cells": [
  {
   "cell_type": "code",
   "execution_count": 17,
   "metadata": {},
   "outputs": [],
   "source": [
    "import numpy as np\n",
    "import pandas as pd\n",
    "from spec_id import RT_spec,Gen_spec\n",
    "import matplotlib.pyplot as plt\n",
    "import astropy\n",
    "from astropy import units as u\n",
    "from astropy.cosmology import WMAP9 as cosmo\n",
    "import os\n",
    "import cPickle\n",
    "import seaborn as sea\n",
    "sea.set(style='white')\n",
    "sea.set(style='ticks')\n",
    "sea.set_style({\"xtick.direction\": \"in\",\"ytick.direction\": \"in\"})\n",
    "colmap = sea.cubehelix_palette(12, start=2, rot=.2, dark=0, light=1.1, as_cmap=True)"
   ]
  },
  {
   "cell_type": "code",
   "execution_count": 21,
   "metadata": {},
   "outputs": [
    {
     "name": "stdout",
     "output_type": "stream",
     "text": [
      "1.03847431571 mag\n"
     ]
    }
   ],
   "source": [
    "print cosmo.distmod(3.717) - cosmo.distmod(2.5)"
   ]
  },
  {
   "cell_type": "code",
   "execution_count": null,
   "metadata": {},
   "outputs": [],
   "source": [
    ""
   ]
  }
 ],
 "metadata": {
  "kernelspec": {
   "display_name": "Python 2",
   "language": "python",
   "name": "python2"
  },
  "language_info": {
   "codemirror_mode": {
    "name": "ipython",
    "version": 2.0
   },
   "file_extension": ".py",
   "mimetype": "text/x-python",
   "name": "python",
   "nbconvert_exporter": "python",
   "pygments_lexer": "ipython2",
   "version": "2.7.6"
  }
 },
 "nbformat": 4,
 "nbformat_minor": 0
}