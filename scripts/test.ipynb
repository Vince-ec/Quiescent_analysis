{
 "cells": [
  {
   "cell_type": "code",
   "execution_count": 1,
   "metadata": {},
   "outputs": [],
   "source": [
    "import numpy as np\n",
    "import pandas as pd\n",
    "from spec_id import RT_spec,Gen_spec\n",
    "import matplotlib.pyplot as plt\n",
    "from vtl.Readfile import Readfile\n",
    "from glob import glob\n",
    "from astropy.io import fits, ascii\n",
    "from astropy.table import Table\n",
    "from scipy.interpolate import interp1d\n",
    "from time import time\n",
    "import os\n",
    "import cPickle\n",
    "import seaborn as sea\n",
    "sea.set(style='white')\n",
    "sea.set(style='ticks')\n",
    "sea.set_style({\"xtick.direction\": \"in\",\"ytick.direction\": \"in\"})\n",
    "colmap = sea.cubehelix_palette(12, start=2, rot=.2, dark=0, light=1.1, as_cmap=True)"
   ]
  },
  {
   "cell_type": "code",
   "execution_count": 2,
   "metadata": {},
   "outputs": [],
   "source": [
    "galDB = pd.read_pickle('../data/sgal_param_DB.pkl')"
   ]
  },
  {
   "cell_type": "code",
   "execution_count": 3,
   "metadata": {},
   "outputs": [
    {
     "data": {
      "text/html": [
       "<div>\n",
       "<table border=\"1\" class=\"dataframe\">\n",
       "  <thead>\n",
       "    <tr style=\"text-align: right;\">\n",
       "      <th></th>\n",
       "      <th>gids</th>\n",
       "      <th>ids</th>\n",
       "      <th>ra</th>\n",
       "      <th>dec</th>\n",
       "      <th>hi_res_specz</th>\n",
       "      <th>Z</th>\n",
       "      <th>Z_-_sig</th>\n",
       "      <th>Z_+_sig</th>\n",
       "      <th>t</th>\n",
       "      <th>t_-_sig</th>\n",
       "      <th>t_+_sig</th>\n",
       "      <th>lmass</th>\n",
       "      <th>tau</th>\n",
       "    </tr>\n",
       "  </thead>\n",
       "  <tbody>\n",
       "    <tr>\n",
       "      <th>43</th>\n",
       "      <td>n14713</td>\n",
       "      <td>14713</td>\n",
       "      <td>189.236333</td>\n",
       "      <td>62.214608</td>\n",
       "      <td>1.232</td>\n",
       "      <td>0.018</td>\n",
       "      <td>0.011</td>\n",
       "      <td>0.008</td>\n",
       "      <td>3.1</td>\n",
       "      <td>0.903</td>\n",
       "      <td>0.596</td>\n",
       "      <td>10.56</td>\n",
       "      <td>8.78</td>\n",
       "    </tr>\n",
       "    <tr>\n",
       "      <th>49</th>\n",
       "      <td>n16758</td>\n",
       "      <td>16758</td>\n",
       "      <td>189.162357</td>\n",
       "      <td>62.224840</td>\n",
       "      <td>1.014</td>\n",
       "      <td>0.020</td>\n",
       "      <td>0.001</td>\n",
       "      <td>0.002</td>\n",
       "      <td>5.4</td>\n",
       "      <td>0.436</td>\n",
       "      <td>0.203</td>\n",
       "      <td>10.83</td>\n",
       "      <td>0.00</td>\n",
       "    </tr>\n",
       "    <tr>\n",
       "      <th>50</th>\n",
       "      <td>n17070</td>\n",
       "      <td>17070</td>\n",
       "      <td>189.268086</td>\n",
       "      <td>62.226445</td>\n",
       "      <td>1.192</td>\n",
       "      <td>0.012</td>\n",
       "      <td>0.004</td>\n",
       "      <td>0.005</td>\n",
       "      <td>2.3</td>\n",
       "      <td>0.510</td>\n",
       "      <td>0.856</td>\n",
       "      <td>10.92</td>\n",
       "      <td>8.48</td>\n",
       "    </tr>\n",
       "    <tr>\n",
       "      <th>58</th>\n",
       "      <td>n19442</td>\n",
       "      <td>19442</td>\n",
       "      <td>189.123036</td>\n",
       "      <td>62.237460</td>\n",
       "      <td>1.101</td>\n",
       "      <td>0.015</td>\n",
       "      <td>0.009</td>\n",
       "      <td>0.010</td>\n",
       "      <td>3.2</td>\n",
       "      <td>1.036</td>\n",
       "      <td>0.849</td>\n",
       "      <td>10.10</td>\n",
       "      <td>8.90</td>\n",
       "    </tr>\n",
       "    <tr>\n",
       "      <th>61</th>\n",
       "      <td>n21156</td>\n",
       "      <td>21156</td>\n",
       "      <td>189.239409</td>\n",
       "      <td>62.247548</td>\n",
       "      <td>1.251</td>\n",
       "      <td>0.020</td>\n",
       "      <td>0.005</td>\n",
       "      <td>0.004</td>\n",
       "      <td>2.2</td>\n",
       "      <td>0.410</td>\n",
       "      <td>0.593</td>\n",
       "      <td>11.16</td>\n",
       "      <td>8.30</td>\n",
       "    </tr>\n",
       "    <tr>\n",
       "      <th>62</th>\n",
       "      <td>n21427</td>\n",
       "      <td>21427</td>\n",
       "      <td>189.368121</td>\n",
       "      <td>62.247344</td>\n",
       "      <td>1.514</td>\n",
       "      <td>0.019</td>\n",
       "      <td>0.010</td>\n",
       "      <td>0.007</td>\n",
       "      <td>2.7</td>\n",
       "      <td>0.822</td>\n",
       "      <td>0.533</td>\n",
       "      <td>10.73</td>\n",
       "      <td>8.48</td>\n",
       "    </tr>\n",
       "    <tr>\n",
       "      <th>69</th>\n",
       "      <td>n23435</td>\n",
       "      <td>23435</td>\n",
       "      <td>189.338306</td>\n",
       "      <td>62.256571</td>\n",
       "      <td>1.134</td>\n",
       "      <td>0.014</td>\n",
       "      <td>0.006</td>\n",
       "      <td>0.009</td>\n",
       "      <td>3.7</td>\n",
       "      <td>0.940</td>\n",
       "      <td>0.768</td>\n",
       "      <td>10.27</td>\n",
       "      <td>8.60</td>\n",
       "    </tr>\n",
       "    <tr>\n",
       "      <th>86</th>\n",
       "      <td>n32566</td>\n",
       "      <td>32566</td>\n",
       "      <td>189.161280</td>\n",
       "      <td>62.307577</td>\n",
       "      <td>1.150</td>\n",
       "      <td>0.020</td>\n",
       "      <td>0.008</td>\n",
       "      <td>0.006</td>\n",
       "      <td>2.5</td>\n",
       "      <td>0.975</td>\n",
       "      <td>1.020</td>\n",
       "      <td>10.61</td>\n",
       "      <td>8.70</td>\n",
       "    </tr>\n",
       "    <tr>\n",
       "      <th>96</th>\n",
       "      <td>n34694</td>\n",
       "      <td>34694</td>\n",
       "      <td>189.147840</td>\n",
       "      <td>62.323647</td>\n",
       "      <td>1.145</td>\n",
       "      <td>0.015</td>\n",
       "      <td>0.006</td>\n",
       "      <td>0.005</td>\n",
       "      <td>2.9</td>\n",
       "      <td>0.581</td>\n",
       "      <td>0.951</td>\n",
       "      <td>10.94</td>\n",
       "      <td>8.30</td>\n",
       "    </tr>\n",
       "    <tr>\n",
       "      <th>107</th>\n",
       "      <td>n37686</td>\n",
       "      <td>37686</td>\n",
       "      <td>189.274474</td>\n",
       "      <td>62.360820</td>\n",
       "      <td>1.258</td>\n",
       "      <td>0.016</td>\n",
       "      <td>0.003</td>\n",
       "      <td>0.004</td>\n",
       "      <td>3.5</td>\n",
       "      <td>0.520</td>\n",
       "      <td>0.615</td>\n",
       "      <td>10.89</td>\n",
       "      <td>8.48</td>\n",
       "    </tr>\n",
       "    <tr>\n",
       "      <th>110</th>\n",
       "      <td>n38126</td>\n",
       "      <td>38126</td>\n",
       "      <td>189.284502</td>\n",
       "      <td>62.377789</td>\n",
       "      <td>1.245</td>\n",
       "      <td>0.018</td>\n",
       "      <td>0.010</td>\n",
       "      <td>0.009</td>\n",
       "      <td>2.8</td>\n",
       "      <td>0.647</td>\n",
       "      <td>0.356</td>\n",
       "      <td>10.55</td>\n",
       "      <td>9.00</td>\n",
       "    </tr>\n",
       "    <tr>\n",
       "      <th>212</th>\n",
       "      <td>s35774</td>\n",
       "      <td>35774</td>\n",
       "      <td>53.158775</td>\n",
       "      <td>-27.742385</td>\n",
       "      <td>1.223</td>\n",
       "      <td>0.029</td>\n",
       "      <td>0.004</td>\n",
       "      <td>0.000</td>\n",
       "      <td>3.7</td>\n",
       "      <td>0.345</td>\n",
       "      <td>0.107</td>\n",
       "      <td>10.86</td>\n",
       "      <td>8.90</td>\n",
       "    </tr>\n",
       "    <tr>\n",
       "      <th>217</th>\n",
       "      <td>s38785</td>\n",
       "      <td>38785</td>\n",
       "      <td>53.168249</td>\n",
       "      <td>-27.727300</td>\n",
       "      <td>1.175</td>\n",
       "      <td>0.019</td>\n",
       "      <td>0.007</td>\n",
       "      <td>0.006</td>\n",
       "      <td>2.8</td>\n",
       "      <td>0.933</td>\n",
       "      <td>0.907</td>\n",
       "      <td>10.88</td>\n",
       "      <td>8.60</td>\n",
       "    </tr>\n",
       "    <tr>\n",
       "      <th>219</th>\n",
       "      <td>s39012</td>\n",
       "      <td>39012</td>\n",
       "      <td>53.064240</td>\n",
       "      <td>-27.727621</td>\n",
       "      <td>1.632</td>\n",
       "      <td>0.019</td>\n",
       "      <td>0.011</td>\n",
       "      <td>0.008</td>\n",
       "      <td>2.5</td>\n",
       "      <td>0.688</td>\n",
       "      <td>0.425</td>\n",
       "      <td>11.09</td>\n",
       "      <td>8.78</td>\n",
       "    </tr>\n",
       "    <tr>\n",
       "      <th>220</th>\n",
       "      <td>s39170</td>\n",
       "      <td>39170</td>\n",
       "      <td>53.041826</td>\n",
       "      <td>-27.725868</td>\n",
       "      <td>1.022</td>\n",
       "      <td>0.023</td>\n",
       "      <td>0.005</td>\n",
       "      <td>0.004</td>\n",
       "      <td>3.3</td>\n",
       "      <td>0.651</td>\n",
       "      <td>0.959</td>\n",
       "      <td>11.09</td>\n",
       "      <td>8.48</td>\n",
       "    </tr>\n",
       "    <tr>\n",
       "      <th>221</th>\n",
       "      <td>s39241</td>\n",
       "      <td>39241</td>\n",
       "      <td>53.042327</td>\n",
       "      <td>-27.726209</td>\n",
       "      <td>1.019</td>\n",
       "      <td>0.022</td>\n",
       "      <td>0.003</td>\n",
       "      <td>0.004</td>\n",
       "      <td>4.5</td>\n",
       "      <td>0.737</td>\n",
       "      <td>0.519</td>\n",
       "      <td>10.87</td>\n",
       "      <td>8.30</td>\n",
       "    </tr>\n",
       "    <tr>\n",
       "      <th>223</th>\n",
       "      <td>s39631</td>\n",
       "      <td>39631</td>\n",
       "      <td>53.042169</td>\n",
       "      <td>-27.725928</td>\n",
       "      <td>1.053</td>\n",
       "      <td>0.018</td>\n",
       "      <td>0.004</td>\n",
       "      <td>0.006</td>\n",
       "      <td>4.4</td>\n",
       "      <td>0.869</td>\n",
       "      <td>0.608</td>\n",
       "      <td>10.69</td>\n",
       "      <td>8.78</td>\n",
       "    </tr>\n",
       "    <tr>\n",
       "      <th>224</th>\n",
       "      <td>s39804</td>\n",
       "      <td>39804</td>\n",
       "      <td>53.178423</td>\n",
       "      <td>-27.724640</td>\n",
       "      <td>1.333</td>\n",
       "      <td>0.018</td>\n",
       "      <td>0.004</td>\n",
       "      <td>0.006</td>\n",
       "      <td>3.6</td>\n",
       "      <td>0.642</td>\n",
       "      <td>0.493</td>\n",
       "      <td>10.91</td>\n",
       "      <td>8.48</td>\n",
       "    </tr>\n",
       "    <tr>\n",
       "      <th>225</th>\n",
       "      <td>s39805</td>\n",
       "      <td>39805</td>\n",
       "      <td>53.163237</td>\n",
       "      <td>-27.724724</td>\n",
       "      <td>1.242</td>\n",
       "      <td>0.022</td>\n",
       "      <td>0.011</td>\n",
       "      <td>0.006</td>\n",
       "      <td>2.9</td>\n",
       "      <td>0.956</td>\n",
       "      <td>0.554</td>\n",
       "      <td>10.62</td>\n",
       "      <td>8.78</td>\n",
       "    </tr>\n",
       "    <tr>\n",
       "      <th>227</th>\n",
       "      <td>s40223</td>\n",
       "      <td>40223</td>\n",
       "      <td>53.124956</td>\n",
       "      <td>-27.722957</td>\n",
       "      <td>1.595</td>\n",
       "      <td>0.018</td>\n",
       "      <td>0.009</td>\n",
       "      <td>0.008</td>\n",
       "      <td>2.4</td>\n",
       "      <td>0.732</td>\n",
       "      <td>0.580</td>\n",
       "      <td>10.66</td>\n",
       "      <td>8.60</td>\n",
       "    </tr>\n",
       "    <tr>\n",
       "      <th>228</th>\n",
       "      <td>s40476</td>\n",
       "      <td>40476</td>\n",
       "      <td>53.108262</td>\n",
       "      <td>-27.721924</td>\n",
       "      <td>1.212</td>\n",
       "      <td>0.007</td>\n",
       "      <td>0.003</td>\n",
       "      <td>0.006</td>\n",
       "      <td>2.9</td>\n",
       "      <td>0.769</td>\n",
       "      <td>0.675</td>\n",
       "      <td>10.59</td>\n",
       "      <td>8.60</td>\n",
       "    </tr>\n",
       "    <tr>\n",
       "      <th>230</th>\n",
       "      <td>s40597</td>\n",
       "      <td>40597</td>\n",
       "      <td>53.148451</td>\n",
       "      <td>-27.719472</td>\n",
       "      <td>1.221</td>\n",
       "      <td>0.029</td>\n",
       "      <td>0.004</td>\n",
       "      <td>0.000</td>\n",
       "      <td>3.7</td>\n",
       "      <td>0.334</td>\n",
       "      <td>0.096</td>\n",
       "      <td>11.01</td>\n",
       "      <td>8.95</td>\n",
       "    </tr>\n",
       "    <tr>\n",
       "      <th>231</th>\n",
       "      <td>s40623</td>\n",
       "      <td>40623</td>\n",
       "      <td>53.130480</td>\n",
       "      <td>-27.721152</td>\n",
       "      <td>1.410</td>\n",
       "      <td>0.020</td>\n",
       "      <td>0.004</td>\n",
       "      <td>0.004</td>\n",
       "      <td>3.4</td>\n",
       "      <td>0.541</td>\n",
       "      <td>0.517</td>\n",
       "      <td>10.76</td>\n",
       "      <td>8.30</td>\n",
       "    </tr>\n",
       "    <tr>\n",
       "      <th>232</th>\n",
       "      <td>s40862</td>\n",
       "      <td>40862</td>\n",
       "      <td>53.048020</td>\n",
       "      <td>-27.719743</td>\n",
       "      <td>1.328</td>\n",
       "      <td>0.024</td>\n",
       "      <td>0.008</td>\n",
       "      <td>0.004</td>\n",
       "      <td>2.9</td>\n",
       "      <td>0.504</td>\n",
       "      <td>0.686</td>\n",
       "      <td>10.92</td>\n",
       "      <td>8.48</td>\n",
       "    </tr>\n",
       "    <tr>\n",
       "      <th>234</th>\n",
       "      <td>s41148</td>\n",
       "      <td>41148</td>\n",
       "      <td>53.127925</td>\n",
       "      <td>-27.718885</td>\n",
       "      <td>1.758</td>\n",
       "      <td>0.029</td>\n",
       "      <td>0.004</td>\n",
       "      <td>0.001</td>\n",
       "      <td>1.7</td>\n",
       "      <td>0.285</td>\n",
       "      <td>1.258</td>\n",
       "      <td>11.08</td>\n",
       "      <td>8.00</td>\n",
       "    </tr>\n",
       "    <tr>\n",
       "      <th>235</th>\n",
       "      <td>s41520</td>\n",
       "      <td>41520</td>\n",
       "      <td>53.152726</td>\n",
       "      <td>-27.716251</td>\n",
       "      <td>1.603</td>\n",
       "      <td>0.026</td>\n",
       "      <td>0.010</td>\n",
       "      <td>0.003</td>\n",
       "      <td>1.5</td>\n",
       "      <td>0.217</td>\n",
       "      <td>0.168</td>\n",
       "      <td>10.92</td>\n",
       "      <td>0.00</td>\n",
       "    </tr>\n",
       "    <tr>\n",
       "      <th>236</th>\n",
       "      <td>s41659</td>\n",
       "      <td>41659</td>\n",
       "      <td>53.096114</td>\n",
       "      <td>-27.716302</td>\n",
       "      <td>1.620</td>\n",
       "      <td>0.018</td>\n",
       "      <td>0.010</td>\n",
       "      <td>0.008</td>\n",
       "      <td>2.3</td>\n",
       "      <td>0.698</td>\n",
       "      <td>0.526</td>\n",
       "      <td>10.30</td>\n",
       "      <td>8.90</td>\n",
       "    </tr>\n",
       "    <tr>\n",
       "      <th>246</th>\n",
       "      <td>s43615</td>\n",
       "      <td>43615</td>\n",
       "      <td>53.093057</td>\n",
       "      <td>-27.707368</td>\n",
       "      <td>1.016</td>\n",
       "      <td>0.027</td>\n",
       "      <td>0.004</td>\n",
       "      <td>0.002</td>\n",
       "      <td>5.1</td>\n",
       "      <td>0.610</td>\n",
       "      <td>0.338</td>\n",
       "      <td>10.69</td>\n",
       "      <td>0.00</td>\n",
       "    </tr>\n",
       "    <tr>\n",
       "      <th>248</th>\n",
       "      <td>s44042</td>\n",
       "      <td>44042</td>\n",
       "      <td>53.104570</td>\n",
       "      <td>-27.705421</td>\n",
       "      <td>1.611</td>\n",
       "      <td>0.028</td>\n",
       "      <td>0.006</td>\n",
       "      <td>0.001</td>\n",
       "      <td>2.8</td>\n",
       "      <td>0.636</td>\n",
       "      <td>0.257</td>\n",
       "      <td>11.02</td>\n",
       "      <td>8.70</td>\n",
       "    </tr>\n",
       "    <tr>\n",
       "      <th>251</th>\n",
       "      <td>s44620</td>\n",
       "      <td>44620</td>\n",
       "      <td>53.249645</td>\n",
       "      <td>-27.702048</td>\n",
       "      <td>1.337</td>\n",
       "      <td>0.009</td>\n",
       "      <td>0.006</td>\n",
       "      <td>0.010</td>\n",
       "      <td>2.2</td>\n",
       "      <td>0.763</td>\n",
       "      <td>0.835</td>\n",
       "      <td>10.50</td>\n",
       "      <td>8.70</td>\n",
       "    </tr>\n",
       "    <tr>\n",
       "      <th>258</th>\n",
       "      <td>s45972</td>\n",
       "      <td>45972</td>\n",
       "      <td>53.115984</td>\n",
       "      <td>-27.693568</td>\n",
       "      <td>1.038</td>\n",
       "      <td>0.012</td>\n",
       "      <td>0.003</td>\n",
       "      <td>0.002</td>\n",
       "      <td>4.3</td>\n",
       "      <td>1.000</td>\n",
       "      <td>0.598</td>\n",
       "      <td>10.87</td>\n",
       "      <td>8.00</td>\n",
       "    </tr>\n",
       "    <tr>\n",
       "      <th>259</th>\n",
       "      <td>s46066</td>\n",
       "      <td>46066</td>\n",
       "      <td>53.061039</td>\n",
       "      <td>-27.693501</td>\n",
       "      <td>1.327</td>\n",
       "      <td>0.022</td>\n",
       "      <td>0.005</td>\n",
       "      <td>0.004</td>\n",
       "      <td>3.9</td>\n",
       "      <td>0.644</td>\n",
       "      <td>0.381</td>\n",
       "      <td>10.85</td>\n",
       "      <td>0.00</td>\n",
       "    </tr>\n",
       "    <tr>\n",
       "      <th>260</th>\n",
       "      <td>s46345</td>\n",
       "      <td>46345</td>\n",
       "      <td>53.249276</td>\n",
       "      <td>-27.692747</td>\n",
       "      <td>1.369</td>\n",
       "      <td>0.014</td>\n",
       "      <td>0.007</td>\n",
       "      <td>0.010</td>\n",
       "      <td>3.3</td>\n",
       "      <td>0.772</td>\n",
       "      <td>0.584</td>\n",
       "      <td>10.16</td>\n",
       "      <td>8.70</td>\n",
       "    </tr>\n",
       "    <tr>\n",
       "      <th>267</th>\n",
       "      <td>s47677</td>\n",
       "      <td>47677</td>\n",
       "      <td>53.262013</td>\n",
       "      <td>-27.686080</td>\n",
       "      <td>1.112</td>\n",
       "      <td>0.022</td>\n",
       "      <td>0.007</td>\n",
       "      <td>0.005</td>\n",
       "      <td>4.0</td>\n",
       "      <td>0.833</td>\n",
       "      <td>0.622</td>\n",
       "      <td>10.09</td>\n",
       "      <td>8.48</td>\n",
       "    </tr>\n",
       "    <tr>\n",
       "      <th>270</th>\n",
       "      <td>s48631</td>\n",
       "      <td>48631</td>\n",
       "      <td>53.125876</td>\n",
       "      <td>-27.679112</td>\n",
       "      <td>1.055</td>\n",
       "      <td>0.004</td>\n",
       "      <td>0.001</td>\n",
       "      <td>0.003</td>\n",
       "      <td>4.9</td>\n",
       "      <td>0.564</td>\n",
       "      <td>0.362</td>\n",
       "      <td>11.01</td>\n",
       "      <td>0.00</td>\n",
       "    </tr>\n",
       "  </tbody>\n",
       "</table>\n",
       "</div>"
      ],
      "text/plain": [
       "<div>\n",
       "<table border=\"1\" class=\"dataframe\">\n",
       "  <thead>\n",
       "    <tr style=\"text-align: right;\">\n",
       "      <th></th>\n",
       "      <th>gids</th>\n",
       "      <th>ids</th>\n",
       "      <th>ra</th>\n",
       "      <th>dec</th>\n",
       "      <th>hi_res_specz</th>\n",
       "      <th>Z</th>\n",
       "      <th>Z_-_sig</th>\n",
       "      <th>Z_+_sig</th>\n",
       "      <th>t</th>\n",
       "      <th>t_-_sig</th>\n",
       "      <th>t_+_sig</th>\n",
       "      <th>lmass</th>\n",
       "      <th>tau</th>\n",
       "    </tr>\n",
       "  </thead>\n",
       "  <tbody>\n",
       "    <tr>\n",
       "      <th>43</th>\n",
       "      <td>n14713</td>\n",
       "      <td>14713</td>\n",
       "      <td>189.236333</td>\n",
       "      <td>62.214608</td>\n",
       "      <td>1.232</td>\n",
       "      <td>0.018</td>\n",
       "      <td>0.011</td>\n",
       "      <td>0.008</td>\n",
       "      <td>3.1</td>\n",
       "      <td>0.903</td>\n",
       "      <td>0.596</td>\n",
       "      <td>10.56</td>\n",
       "      <td>8.78</td>\n",
       "    </tr>\n",
       "    <tr>\n",
       "      <th>49</th>\n",
       "      <td>n16758</td>\n",
       "      <td>16758</td>\n",
       "      <td>189.162357</td>\n",
       "      <td>62.224840</td>\n",
       "      <td>1.014</td>\n",
       "      <td>0.020</td>\n",
       "      <td>0.001</td>\n",
       "      <td>0.002</td>\n",
       "      <td>5.4</td>\n",
       "      <td>0.436</td>\n",
       "      <td>0.203</td>\n",
       "      <td>10.83</td>\n",
       "      <td>0.00</td>\n",
       "    </tr>\n",
       "    <tr>\n",
       "      <th>50</th>\n",
       "      <td>n17070</td>\n",
       "      <td>17070</td>\n",
       "      <td>189.268086</td>\n",
       "      <td>62.226445</td>\n",
       "      <td>1.192</td>\n",
       "      <td>0.012</td>\n",
       "      <td>0.004</td>\n",
       "      <td>0.005</td>\n",
       "      <td>2.3</td>\n",
       "      <td>0.510</td>\n",
       "      <td>0.856</td>\n",
       "      <td>10.92</td>\n",
       "      <td>8.48</td>\n",
       "    </tr>\n",
       "    <tr>\n",
       "      <th>58</th>\n",
       "      <td>n19442</td>\n",
       "      <td>19442</td>\n",
       "      <td>189.123036</td>\n",
       "      <td>62.237460</td>\n",
       "      <td>1.101</td>\n",
       "      <td>0.015</td>\n",
       "      <td>0.009</td>\n",
       "      <td>0.010</td>\n",
       "      <td>3.2</td>\n",
       "      <td>1.036</td>\n",
       "      <td>0.849</td>\n",
       "      <td>10.10</td>\n",
       "      <td>8.90</td>\n",
       "    </tr>\n",
       "    <tr>\n",
       "      <th>61</th>\n",
       "      <td>n21156</td>\n",
       "      <td>21156</td>\n",
       "      <td>189.239409</td>\n",
       "      <td>62.247548</td>\n",
       "      <td>1.251</td>\n",
       "      <td>0.020</td>\n",
       "      <td>0.005</td>\n",
       "      <td>0.004</td>\n",
       "      <td>2.2</td>\n",
       "      <td>0.410</td>\n",
       "      <td>0.593</td>\n",
       "      <td>11.16</td>\n",
       "      <td>8.30</td>\n",
       "    </tr>\n",
       "    <tr>\n",
       "      <th>62</th>\n",
       "      <td>n21427</td>\n",
       "      <td>21427</td>\n",
       "      <td>189.368121</td>\n",
       "      <td>62.247344</td>\n",
       "      <td>1.514</td>\n",
       "      <td>0.019</td>\n",
       "      <td>0.010</td>\n",
       "      <td>0.007</td>\n",
       "      <td>2.7</td>\n",
       "      <td>0.822</td>\n",
       "      <td>0.533</td>\n",
       "      <td>10.73</td>\n",
       "      <td>8.48</td>\n",
       "    </tr>\n",
       "    <tr>\n",
       "      <th>69</th>\n",
       "      <td>n23435</td>\n",
       "      <td>23435</td>\n",
       "      <td>189.338306</td>\n",
       "      <td>62.256571</td>\n",
       "      <td>1.134</td>\n",
       "      <td>0.014</td>\n",
       "      <td>0.006</td>\n",
       "      <td>0.009</td>\n",
       "      <td>3.7</td>\n",
       "      <td>0.940</td>\n",
       "      <td>0.768</td>\n",
       "      <td>10.27</td>\n",
       "      <td>8.60</td>\n",
       "    </tr>\n",
       "    <tr>\n",
       "      <th>86</th>\n",
       "      <td>n32566</td>\n",
       "      <td>32566</td>\n",
       "      <td>189.161280</td>\n",
       "      <td>62.307577</td>\n",
       "      <td>1.150</td>\n",
       "      <td>0.020</td>\n",
       "      <td>0.008</td>\n",
       "      <td>0.006</td>\n",
       "      <td>2.5</td>\n",
       "      <td>0.975</td>\n",
       "      <td>1.020</td>\n",
       "      <td>10.61</td>\n",
       "      <td>8.70</td>\n",
       "    </tr>\n",
       "    <tr>\n",
       "      <th>96</th>\n",
       "      <td>n34694</td>\n",
       "      <td>34694</td>\n",
       "      <td>189.147840</td>\n",
       "      <td>62.323647</td>\n",
       "      <td>1.145</td>\n",
       "      <td>0.015</td>\n",
       "      <td>0.006</td>\n",
       "      <td>0.005</td>\n",
       "      <td>2.9</td>\n",
       "      <td>0.581</td>\n",
       "      <td>0.951</td>\n",
       "      <td>10.94</td>\n",
       "      <td>8.30</td>\n",
       "    </tr>\n",
       "    <tr>\n",
       "      <th>107</th>\n",
       "      <td>n37686</td>\n",
       "      <td>37686</td>\n",
       "      <td>189.274474</td>\n",
       "      <td>62.360820</td>\n",
       "      <td>1.258</td>\n",
       "      <td>0.016</td>\n",
       "      <td>0.003</td>\n",
       "      <td>0.004</td>\n",
       "      <td>3.5</td>\n",
       "      <td>0.520</td>\n",
       "      <td>0.615</td>\n",
       "      <td>10.89</td>\n",
       "      <td>8.48</td>\n",
       "    </tr>\n",
       "    <tr>\n",
       "      <th>110</th>\n",
       "      <td>n38126</td>\n",
       "      <td>38126</td>\n",
       "      <td>189.284502</td>\n",
       "      <td>62.377789</td>\n",
       "      <td>1.245</td>\n",
       "      <td>0.018</td>\n",
       "      <td>0.010</td>\n",
       "      <td>0.009</td>\n",
       "      <td>2.8</td>\n",
       "      <td>0.647</td>\n",
       "      <td>0.356</td>\n",
       "      <td>10.55</td>\n",
       "      <td>9.00</td>\n",
       "    </tr>\n",
       "    <tr>\n",
       "      <th>212</th>\n",
       "      <td>s35774</td>\n",
       "      <td>35774</td>\n",
       "      <td>53.158775</td>\n",
       "      <td>-27.742385</td>\n",
       "      <td>1.223</td>\n",
       "      <td>0.029</td>\n",
       "      <td>0.004</td>\n",
       "      <td>0.000</td>\n",
       "      <td>3.7</td>\n",
       "      <td>0.345</td>\n",
       "      <td>0.107</td>\n",
       "      <td>10.86</td>\n",
       "      <td>8.90</td>\n",
       "    </tr>\n",
       "    <tr>\n",
       "      <th>217</th>\n",
       "      <td>s38785</td>\n",
       "      <td>38785</td>\n",
       "      <td>53.168249</td>\n",
       "      <td>-27.727300</td>\n",
       "      <td>1.175</td>\n",
       "      <td>0.019</td>\n",
       "      <td>0.007</td>\n",
       "      <td>0.006</td>\n",
       "      <td>2.8</td>\n",
       "      <td>0.933</td>\n",
       "      <td>0.907</td>\n",
       "      <td>10.88</td>\n",
       "      <td>8.60</td>\n",
       "    </tr>\n",
       "    <tr>\n",
       "      <th>219</th>\n",
       "      <td>s39012</td>\n",
       "      <td>39012</td>\n",
       "      <td>53.064240</td>\n",
       "      <td>-27.727621</td>\n",
       "      <td>1.632</td>\n",
       "      <td>0.019</td>\n",
       "      <td>0.011</td>\n",
       "      <td>0.008</td>\n",
       "      <td>2.5</td>\n",
       "      <td>0.688</td>\n",
       "      <td>0.425</td>\n",
       "      <td>11.09</td>\n",
       "      <td>8.78</td>\n",
       "    </tr>\n",
       "    <tr>\n",
       "      <th>220</th>\n",
       "      <td>s39170</td>\n",
       "      <td>39170</td>\n",
       "      <td>53.041826</td>\n",
       "      <td>-27.725868</td>\n",
       "      <td>1.022</td>\n",
       "      <td>0.023</td>\n",
       "      <td>0.005</td>\n",
       "      <td>0.004</td>\n",
       "      <td>3.3</td>\n",
       "      <td>0.651</td>\n",
       "      <td>0.959</td>\n",
       "      <td>11.09</td>\n",
       "      <td>8.48</td>\n",
       "    </tr>\n",
       "    <tr>\n",
       "      <th>221</th>\n",
       "      <td>s39241</td>\n",
       "      <td>39241</td>\n",
       "      <td>53.042327</td>\n",
       "      <td>-27.726209</td>\n",
       "      <td>1.019</td>\n",
       "      <td>0.022</td>\n",
       "      <td>0.003</td>\n",
       "      <td>0.004</td>\n",
       "      <td>4.5</td>\n",
       "      <td>0.737</td>\n",
       "      <td>0.519</td>\n",
       "      <td>10.87</td>\n",
       "      <td>8.30</td>\n",
       "    </tr>\n",
       "    <tr>\n",
       "      <th>223</th>\n",
       "      <td>s39631</td>\n",
       "      <td>39631</td>\n",
       "      <td>53.042169</td>\n",
       "      <td>-27.725928</td>\n",
       "      <td>1.053</td>\n",
       "      <td>0.018</td>\n",
       "      <td>0.004</td>\n",
       "      <td>0.006</td>\n",
       "      <td>4.4</td>\n",
       "      <td>0.869</td>\n",
       "      <td>0.608</td>\n",
       "      <td>10.69</td>\n",
       "      <td>8.78</td>\n",
       "    </tr>\n",
       "    <tr>\n",
       "      <th>224</th>\n",
       "      <td>s39804</td>\n",
       "      <td>39804</td>\n",
       "      <td>53.178423</td>\n",
       "      <td>-27.724640</td>\n",
       "      <td>1.333</td>\n",
       "      <td>0.018</td>\n",
       "      <td>0.004</td>\n",
       "      <td>0.006</td>\n",
       "      <td>3.6</td>\n",
       "      <td>0.642</td>\n",
       "      <td>0.493</td>\n",
       "      <td>10.91</td>\n",
       "      <td>8.48</td>\n",
       "    </tr>\n",
       "    <tr>\n",
       "      <th>225</th>\n",
       "      <td>s39805</td>\n",
       "      <td>39805</td>\n",
       "      <td>53.163237</td>\n",
       "      <td>-27.724724</td>\n",
       "      <td>1.242</td>\n",
       "      <td>0.022</td>\n",
       "      <td>0.011</td>\n",
       "      <td>0.006</td>\n",
       "      <td>2.9</td>\n",
       "      <td>0.956</td>\n",
       "      <td>0.554</td>\n",
       "      <td>10.62</td>\n",
       "      <td>8.78</td>\n",
       "    </tr>\n",
       "    <tr>\n",
       "      <th>227</th>\n",
       "      <td>s40223</td>\n",
       "      <td>40223</td>\n",
       "      <td>53.124956</td>\n",
       "      <td>-27.722957</td>\n",
       "      <td>1.595</td>\n",
       "      <td>0.018</td>\n",
       "      <td>0.009</td>\n",
       "      <td>0.008</td>\n",
       "      <td>2.4</td>\n",
       "      <td>0.732</td>\n",
       "      <td>0.580</td>\n",
       "      <td>10.66</td>\n",
       "      <td>8.60</td>\n",
       "    </tr>\n",
       "    <tr>\n",
       "      <th>228</th>\n",
       "      <td>s40476</td>\n",
       "      <td>40476</td>\n",
       "      <td>53.108262</td>\n",
       "      <td>-27.721924</td>\n",
       "      <td>1.212</td>\n",
       "      <td>0.007</td>\n",
       "      <td>0.003</td>\n",
       "      <td>0.006</td>\n",
       "      <td>2.9</td>\n",
       "      <td>0.769</td>\n",
       "      <td>0.675</td>\n",
       "      <td>10.59</td>\n",
       "      <td>8.60</td>\n",
       "    </tr>\n",
       "    <tr>\n",
       "      <th>230</th>\n",
       "      <td>s40597</td>\n",
       "      <td>40597</td>\n",
       "      <td>53.148451</td>\n",
       "      <td>-27.719472</td>\n",
       "      <td>1.221</td>\n",
       "      <td>0.029</td>\n",
       "      <td>0.004</td>\n",
       "      <td>0.000</td>\n",
       "      <td>3.7</td>\n",
       "      <td>0.334</td>\n",
       "      <td>0.096</td>\n",
       "      <td>11.01</td>\n",
       "      <td>8.95</td>\n",
       "    </tr>\n",
       "    <tr>\n",
       "      <th>231</th>\n",
       "      <td>s40623</td>\n",
       "      <td>40623</td>\n",
       "      <td>53.130480</td>\n",
       "      <td>-27.721152</td>\n",
       "      <td>1.410</td>\n",
       "      <td>0.020</td>\n",
       "      <td>0.004</td>\n",
       "      <td>0.004</td>\n",
       "      <td>3.4</td>\n",
       "      <td>0.541</td>\n",
       "      <td>0.517</td>\n",
       "      <td>10.76</td>\n",
       "      <td>8.30</td>\n",
       "    </tr>\n",
       "    <tr>\n",
       "      <th>232</th>\n",
       "      <td>s40862</td>\n",
       "      <td>40862</td>\n",
       "      <td>53.048020</td>\n",
       "      <td>-27.719743</td>\n",
       "      <td>1.328</td>\n",
       "      <td>0.024</td>\n",
       "      <td>0.008</td>\n",
       "      <td>0.004</td>\n",
       "      <td>2.9</td>\n",
       "      <td>0.504</td>\n",
       "      <td>0.686</td>\n",
       "      <td>10.92</td>\n",
       "      <td>8.48</td>\n",
       "    </tr>\n",
       "    <tr>\n",
       "      <th>234</th>\n",
       "      <td>s41148</td>\n",
       "      <td>41148</td>\n",
       "      <td>53.127925</td>\n",
       "      <td>-27.718885</td>\n",
       "      <td>1.758</td>\n",
       "      <td>0.029</td>\n",
       "      <td>0.004</td>\n",
       "      <td>0.001</td>\n",
       "      <td>1.7</td>\n",
       "      <td>0.285</td>\n",
       "      <td>1.258</td>\n",
       "      <td>11.08</td>\n",
       "      <td>8.00</td>\n",
       "    </tr>\n",
       "    <tr>\n",
       "      <th>235</th>\n",
       "      <td>s41520</td>\n",
       "      <td>41520</td>\n",
       "      <td>53.152726</td>\n",
       "      <td>-27.716251</td>\n",
       "      <td>1.603</td>\n",
       "      <td>0.026</td>\n",
       "      <td>0.010</td>\n",
       "      <td>0.003</td>\n",
       "      <td>1.5</td>\n",
       "      <td>0.217</td>\n",
       "      <td>0.168</td>\n",
       "      <td>10.92</td>\n",
       "      <td>0.00</td>\n",
       "    </tr>\n",
       "    <tr>\n",
       "      <th>236</th>\n",
       "      <td>s41659</td>\n",
       "      <td>41659</td>\n",
       "      <td>53.096114</td>\n",
       "      <td>-27.716302</td>\n",
       "      <td>1.620</td>\n",
       "      <td>0.018</td>\n",
       "      <td>0.010</td>\n",
       "      <td>0.008</td>\n",
       "      <td>2.3</td>\n",
       "      <td>0.698</td>\n",
       "      <td>0.526</td>\n",
       "      <td>10.30</td>\n",
       "      <td>8.90</td>\n",
       "    </tr>\n",
       "    <tr>\n",
       "      <th>246</th>\n",
       "      <td>s43615</td>\n",
       "      <td>43615</td>\n",
       "      <td>53.093057</td>\n",
       "      <td>-27.707368</td>\n",
       "      <td>1.016</td>\n",
       "      <td>0.027</td>\n",
       "      <td>0.004</td>\n",
       "      <td>0.002</td>\n",
       "      <td>5.1</td>\n",
       "      <td>0.610</td>\n",
       "      <td>0.338</td>\n",
       "      <td>10.69</td>\n",
       "      <td>0.00</td>\n",
       "    </tr>\n",
       "    <tr>\n",
       "      <th>248</th>\n",
       "      <td>s44042</td>\n",
       "      <td>44042</td>\n",
       "      <td>53.104570</td>\n",
       "      <td>-27.705421</td>\n",
       "      <td>1.611</td>\n",
       "      <td>0.028</td>\n",
       "      <td>0.006</td>\n",
       "      <td>0.001</td>\n",
       "      <td>2.8</td>\n",
       "      <td>0.636</td>\n",
       "      <td>0.257</td>\n",
       "      <td>11.02</td>\n",
       "      <td>8.70</td>\n",
       "    </tr>\n",
       "    <tr>\n",
       "      <th>251</th>\n",
       "      <td>s44620</td>\n",
       "      <td>44620</td>\n",
       "      <td>53.249645</td>\n",
       "      <td>-27.702048</td>\n",
       "      <td>1.337</td>\n",
       "      <td>0.009</td>\n",
       "      <td>0.006</td>\n",
       "      <td>0.010</td>\n",
       "      <td>2.2</td>\n",
       "      <td>0.763</td>\n",
       "      <td>0.835</td>\n",
       "      <td>10.50</td>\n",
       "      <td>8.70</td>\n",
       "    </tr>\n",
       "    <tr>\n",
       "      <th>258</th>\n",
       "      <td>s45972</td>\n",
       "      <td>45972</td>\n",
       "      <td>53.115984</td>\n",
       "      <td>-27.693568</td>\n",
       "      <td>1.038</td>\n",
       "      <td>0.012</td>\n",
       "      <td>0.003</td>\n",
       "      <td>0.002</td>\n",
       "      <td>4.3</td>\n",
       "      <td>1.000</td>\n",
       "      <td>0.598</td>\n",
       "      <td>10.87</td>\n",
       "      <td>8.00</td>\n",
       "    </tr>\n",
       "    <tr>\n",
       "      <th>259</th>\n",
       "      <td>s46066</td>\n",
       "      <td>46066</td>\n",
       "      <td>53.061039</td>\n",
       "      <td>-27.693501</td>\n",
       "      <td>1.327</td>\n",
       "      <td>0.022</td>\n",
       "      <td>0.005</td>\n",
       "      <td>0.004</td>\n",
       "      <td>3.9</td>\n",
       "      <td>0.644</td>\n",
       "      <td>0.381</td>\n",
       "      <td>10.85</td>\n",
       "      <td>0.00</td>\n",
       "    </tr>\n",
       "    <tr>\n",
       "      <th>260</th>\n",
       "      <td>s46345</td>\n",
       "      <td>46345</td>\n",
       "      <td>53.249276</td>\n",
       "      <td>-27.692747</td>\n",
       "      <td>1.369</td>\n",
       "      <td>0.014</td>\n",
       "      <td>0.007</td>\n",
       "      <td>0.010</td>\n",
       "      <td>3.3</td>\n",
       "      <td>0.772</td>\n",
       "      <td>0.584</td>\n",
       "      <td>10.16</td>\n",
       "      <td>8.70</td>\n",
       "    </tr>\n",
       "    <tr>\n",
       "      <th>267</th>\n",
       "      <td>s47677</td>\n",
       "      <td>47677</td>\n",
       "      <td>53.262013</td>\n",
       "      <td>-27.686080</td>\n",
       "      <td>1.112</td>\n",
       "      <td>0.022</td>\n",
       "      <td>0.007</td>\n",
       "      <td>0.005</td>\n",
       "      <td>4.0</td>\n",
       "      <td>0.833</td>\n",
       "      <td>0.622</td>\n",
       "      <td>10.09</td>\n",
       "      <td>8.48</td>\n",
       "    </tr>\n",
       "    <tr>\n",
       "      <th>270</th>\n",
       "      <td>s48631</td>\n",
       "      <td>48631</td>\n",
       "      <td>53.125876</td>\n",
       "      <td>-27.679112</td>\n",
       "      <td>1.055</td>\n",
       "      <td>0.004</td>\n",
       "      <td>0.001</td>\n",
       "      <td>0.003</td>\n",
       "      <td>4.9</td>\n",
       "      <td>0.564</td>\n",
       "      <td>0.362</td>\n",
       "      <td>11.01</td>\n",
       "      <td>0.00</td>\n",
       "    </tr>\n",
       "  </tbody>\n",
       "</table>\n",
       "</div>"
      ]
     },
     "execution_count": 3,
     "metadata": {},
     "output_type": "execute_result"
    }
   ],
   "source": [
    "galDB"
   ]
  },
  {
   "cell_type": "code",
   "execution_count": 5,
   "metadata": {
    "collapsed": true
   },
   "outputs": [
    {
     "name": "stdout",
     "output_type": "stream",
     "text": [
      "../data/galaxy_flts/s35774_flt: photutils.detect_sources (detect_thresh=0.0, grow_seg=5, gauss_fwhm=2.0, ZP=0.0)\n../data/galaxy_flts/s35774_flt: photutils.source_properties\nRename column: ycentroid -> y_flt\nRename column: ra_icrs_centroid -> ra\nRename column: dec_icrs_centroid -> dec\nRename column: xcentroid -> x_flt\n\u001b[1A\u001b[1M../data/galaxy_flts/s35774_flt: photutils.source_properties - 2 objects\n../data/galaxy_flts/s35774_flt: save ../data/galaxy_flts/s35774_flt.detect_seg.fits, ../data/galaxy_flts/s35774_flt.detect.cat"
     ]
    },
    {
     "name": "stdout",
     "output_type": "stream",
     "text": [
      "\n"
     ]
    }
   ],
   "source": [
    "%matplotlib inline\n",
    "\n",
    "spec = Gen_spec(galDB['gids'][212],galDB['hi_res_specz'][212],minwv=7800,maxwv=11500)\n",
    "if galDB['tau'][212] == 0:\n",
    "    spec.Sim_spec(galDB['Z'][212],galDB['t'][212],0)\n",
    "else:\n",
    "    spec.Sim_spec(galDB['Z'][212],galDB['t'][212],galDB['tau'][212])"
   ]
  },
  {
   "cell_type": "code",
   "execution_count": 8,
   "metadata": {},
   "outputs": [
    {
     "data": {
      "image/png": "[encoded data removed]",
      "text/plain": [
       "<matplotlib.figure.Figure at 0x1142ab510>"
      ]
     },
     "metadata": {},
     "output_type": "display_data"
    }
   ],
   "source": [
    "plt.figure(figsize=[15,5])\n",
    "plt.plot(spec.gal_wv, np.abs(spec.gal_fl - spec.fl))\n",
    "plt.plot(spec.gal_wv, spec.gal_er)\n",
    "plt.axhline(np.std(spec.gal_fl - spec.fl),linestyle = '--')\n",
    "plt.axvline(7900,color='r')\n",
    "plt.axvline(11400,color='r')\n",
    "plt.xlim(7800,11500)\n",
    "plt.show()\n",
    "plt.close()"
   ]
  },
  {
   "cell_type": "code",
   "execution_count": 4,
   "metadata": {
    "collapsed": true
   },
   "outputs": [
    {
     "name": "stdout",
     "output_type": "stream",
     "text": [
      "No TEAL-based tasks available for this package!\n"
     ]
    },
    {
     "name": "stdout",
     "output_type": "stream",
     "text": [
      "../data/galaxy_flts/n14713_flt: photutils.detect_sources (detect_thresh=0.0, grow_seg=5, gauss_fwhm=2.0, ZP=0.0)\n../data/galaxy_flts/n14713_flt: photutils.source_properties\n"
     ]
    },
    {
     "name": "stdout",
     "output_type": "stream",
     "text": [
      "Rename column: ycentroid -> y_flt\nRename column: ra_icrs_centroid -> ra\nRename column: dec_icrs_centroid -> dec\nRename column: xcentroid -> x_flt\n\u001b[1A\u001b[1M../data/galaxy_flts/n14713_flt: photutils.source_properties - 1 objects\n../data/galaxy_flts/n14713_flt: save ../data/galaxy_flts/n14713_flt.detect_seg.fits, ../data/galaxy_flts/n14713_flt.detect.cat\n"
     ]
    },
    {
     "name": "stderr",
     "output_type": "stream",
     "text": [
      "/Users/vestrada/miniconda2/envs/astroconda/lib/python2.7/site-packages/grizli/model.py:496: RuntimeWarning: invalid value encountered in divide\n  self.optimal_profile = m/m.sum(axis=0)\n"
     ]
    },
    {
     "name": "stdout",
     "output_type": "stream",
     "text": [
      "../data/galaxy_flts/n16758_flt: photutils.detect_sources (detect_thresh=0.0, grow_seg=5, gauss_fwhm=2.0, ZP=0.0)\n../data/galaxy_flts/n16758_flt: photutils.source_properties\nRename column: ycentroid -> y_flt\nRename column: ra_icrs_centroid -> ra\nRename column: dec_icrs_centroid -> dec\nRename column: xcentroid -> x_flt\n"
     ]
    },
    {
     "name": "stdout",
     "output_type": "stream",
     "text": [
      "\u001b[1A\u001b[1M../data/galaxy_flts/n16758_flt: photutils.source_properties - 1 objects\n../data/galaxy_flts/n16758_flt: save ../data/galaxy_flts/n16758_flt.detect_seg.fits, ../data/galaxy_flts/n16758_flt.detect.cat\n../data/galaxy_flts/n17070_flt: photutils.detect_sources (detect_thresh=0.0, grow_seg=5, gauss_fwhm=2.0, ZP=0.0)\n../data/galaxy_flts/n17070_flt: photutils.source_properties\nRename column: ycentroid -> y_flt"
     ]
    },
    {
     "name": "stdout",
     "output_type": "stream",
     "text": [
      "\nRename column: ra_icrs_centroid -> ra\nRename column: dec_icrs_centroid -> dec\nRename column: xcentroid -> x_flt\n\u001b[1A\u001b[1M../data/galaxy_flts/n17070_flt: photutils.source_properties - 1 objects\n../data/galaxy_flts/n17070_flt: save ../data/galaxy_flts/n17070_flt.detect_seg.fits, ../data/galaxy_flts/n17070_flt.detect.cat\n"
     ]
    },
    {
     "name": "stdout",
     "output_type": "stream",
     "text": [
      "../data/galaxy_flts/n19442_flt: photutils.detect_sources (detect_thresh=0.0, grow_seg=5, gauss_fwhm=2.0, ZP=0.0)\n../data/galaxy_flts/n19442_flt: photutils.source_properties\nRename column: ycentroid -> y_flt\nRename column: ra_icrs_centroid -> ra\nRename column: dec_icrs_centroid -> dec\nRename column: xcentroid -> x_flt\n\u001b[1A\u001b[1M../data/galaxy_flts/n19442_flt: photutils.source_properties - 1 objects\n../data/galaxy_flts/n19442_flt: save ../data/galaxy_flts/n19442_flt.detect_seg.fits, ../data/galaxy_flts/n19442_flt.detect.cat\n"
     ]
    },
    {
     "name": "stdout",
     "output_type": "stream",
     "text": [
      "../data/galaxy_flts/n21156_flt: photutils.detect_sources (detect_thresh=0.0, grow_seg=5, gauss_fwhm=2.0, ZP=0.0)\n../data/galaxy_flts/n21156_flt: photutils.source_properties\nRename column: ycentroid -> y_flt\nRename column: ra_icrs_centroid -> ra\nRename column: dec_icrs_centroid -> dec\nRename column: xcentroid -> x_flt\n\u001b[1A\u001b[1M../data/galaxy_flts/n21156_flt: photutils.source_properties - 1 objects\n../data/galaxy_flts/n21156_flt: save ../data/galaxy_flts/n21156_flt.detect_seg.fits, ../data/galaxy_flts/n21156_flt.detect.cat\n"
     ]
    },
    {
     "name": "stdout",
     "output_type": "stream",
     "text": [
      "../data/galaxy_flts/n21427_flt: photutils.detect_sources (detect_thresh=0.0, grow_seg=5, gauss_fwhm=2.0, ZP=0.0)\n../data/galaxy_flts/n21427_flt: photutils.source_properties\nRename column: ycentroid -> y_flt\nRename column: ra_icrs_centroid -> ra\nRename column: dec_icrs_centroid -> dec\nRename column: xcentroid -> x_flt\n\u001b[1A\u001b[1M../data/galaxy_flts/n21427_flt: photutils.source_properties - 1 objects"
     ]
    },
    {
     "name": "stdout",
     "output_type": "stream",
     "text": [
      "\n../data/galaxy_flts/n21427_flt: save ../data/galaxy_flts/n21427_flt.detect_seg.fits, ../data/galaxy_flts/n21427_flt.detect.cat\n../data/galaxy_flts/n23435_flt: photutils.detect_sources (detect_thresh=0.0, grow_seg=5, gauss_fwhm=2.0, ZP=0.0)\n../data/galaxy_flts/n23435_flt: photutils.source_properties\nRename column: ycentroid -> y_flt\nRename column: ra_icrs_centroid -> ra\nRename column: dec_icrs_centroid -> dec\nRename column: xcentroid -> x_flt\n\u001b[1A\u001b[1M../data/galaxy_flts/n23435_flt: photutils.source_properties - 1 objects\n../data/galaxy_flts/n23435_flt: save ../data/galaxy_flts/n23435_flt.detect_seg.fits, ../data/galaxy_flts/n23435_flt.detect.cat\n"
     ]
    },
    {
     "name": "stdout",
     "output_type": "stream",
     "text": [
      "../data/galaxy_flts/n32566_flt: photutils.detect_sources (detect_thresh=0.0, grow_seg=5, gauss_fwhm=2.0, ZP=0.0)\n../data/galaxy_flts/n32566_flt: photutils.source_properties\nRename column: ycentroid -> y_flt\nRename column: ra_icrs_centroid -> ra\nRename column: dec_icrs_centroid -> dec\nRename column: xcentroid -> x_flt\n\u001b[1A\u001b[1M../data/galaxy_flts/n32566_flt: photutils.source_properties - 1 objects\n"
     ]
    },
    {
     "name": "stdout",
     "output_type": "stream",
     "text": [
      "../data/galaxy_flts/n32566_flt: save ../data/galaxy_flts/n32566_flt.detect_seg.fits, ../data/galaxy_flts/n32566_flt.detect.cat\n../data/galaxy_flts/n34694_flt: photutils.detect_sources (detect_thresh=0.0, grow_seg=5, gauss_fwhm=2.0, ZP=0.0)\n../data/galaxy_flts/n34694_flt: photutils.source_properties\nRename column: ycentroid -> y_flt\nRename column: ra_icrs_centroid -> ra\nRename column: dec_icrs_centroid -> dec\nRename column: xcentroid -> x_flt\n\u001b[1A\u001b[1M../data/galaxy_flts/n34694_flt: photutils.source_properties - 1 objects"
     ]
    },
    {
     "name": "stdout",
     "output_type": "stream",
     "text": [
      "\n../data/galaxy_flts/n34694_flt: save ../data/galaxy_flts/n34694_flt.detect_seg.fits, ../data/galaxy_flts/n34694_flt.detect.cat\n../data/galaxy_flts/n37686_flt: photutils.detect_sources (detect_thresh=0.0, grow_seg=5, gauss_fwhm=2.0, ZP=0.0)\n../data/galaxy_flts/n37686_flt: photutils.source_properties\n"
     ]
    },
    {
     "name": "stdout",
     "output_type": "stream",
     "text": [
      "Rename column: ycentroid -> y_flt\nRename column: ra_icrs_centroid -> ra\nRename column: dec_icrs_centroid -> dec\nRename column: xcentroid -> x_flt\n\u001b[1A\u001b[1M../data/galaxy_flts/n37686_flt: photutils.source_properties - 1 objects\n../data/galaxy_flts/n37686_flt: save ../data/galaxy_flts/n37686_flt.detect_seg.fits, ../data/galaxy_flts/n37686_flt.detect.cat\n"
     ]
    },
    {
     "name": "stdout",
     "output_type": "stream",
     "text": [
      "../data/galaxy_flts/n38126_flt: photutils.detect_sources (detect_thresh=0.0, grow_seg=5, gauss_fwhm=2.0, ZP=0.0)\n../data/galaxy_flts/n38126_flt: photutils.source_properties\nRename column: ycentroid -> y_flt\nRename column: ra_icrs_centroid -> ra\nRename column: dec_icrs_centroid -> dec\nRename column: xcentroid -> x_flt\n\u001b[1A\u001b[1M../data/galaxy_flts/n38126_flt: photutils.source_properties - 1 objects\n../data/galaxy_flts/n38126_flt: save ../data/galaxy_flts/n38126_flt.detect_seg.fits, ../data/galaxy_flts/n38126_flt.detect.cat"
     ]
    },
    {
     "name": "stderr",
     "output_type": "stream",
     "text": [
      "/Users/vestrada/miniconda2/envs/astroconda/lib/python2.7/site-packages/grizli/model.py:1023: RuntimeWarning: invalid value encountered in less\n  bad = self.data['SCI'] < sigma*self.data['ERR']\n"
     ]
    },
    {
     "name": "stdout",
     "output_type": "stream",
     "text": [
      "\n../data/galaxy_flts/s35774_flt: photutils.detect_sources (detect_thresh=0.0, grow_seg=5, gauss_fwhm=2.0, ZP=0.0)\n../data/galaxy_flts/s35774_flt: photutils.source_properties\n"
     ]
    },
    {
     "name": "stdout",
     "output_type": "stream",
     "text": [
      "Rename column: ycentroid -> y_flt\nRename column: ra_icrs_centroid -> ra\nRename column: dec_icrs_centroid -> dec\nRename column: xcentroid -> x_flt\n\u001b[1A\u001b[1M../data/galaxy_flts/s35774_flt: photutils.source_properties - 2 objects\n../data/galaxy_flts/s35774_flt: save ../data/galaxy_flts/s35774_flt.detect_seg.fits, ../data/galaxy_flts/s35774_flt.detect.cat\n"
     ]
    },
    {
     "name": "stdout",
     "output_type": "stream",
     "text": [
      "../data/galaxy_flts/s38785_flt: photutils.detect_sources (detect_thresh=0.0, grow_seg=5, gauss_fwhm=2.0, ZP=0.0)\n../data/galaxy_flts/s38785_flt: photutils.source_properties\n"
     ]
    },
    {
     "name": "stdout",
     "output_type": "stream",
     "text": [
      "Rename column: ycentroid -> y_flt\nRename column: ra_icrs_centroid -> ra\nRename column: dec_icrs_centroid -> dec\nRename column: xcentroid -> x_flt\n\u001b[1A\u001b[1M../data/galaxy_flts/s38785_flt: photutils.source_properties - 1 objects\n../data/galaxy_flts/s38785_flt: save ../data/galaxy_flts/s38785_flt.detect_seg.fits, ../data/galaxy_flts/s38785_flt.detect.cat\n"
     ]
    },
    {
     "name": "stdout",
     "output_type": "stream",
     "text": [
      "../data/galaxy_flts/s39012_flt: photutils.detect_sources (detect_thresh=0.0, grow_seg=5, gauss_fwhm=2.0, ZP=0.0)\n../data/galaxy_flts/s39012_flt: photutils.source_properties\n"
     ]
    },
    {
     "name": "stdout",
     "output_type": "stream",
     "text": [
      "Rename column: ycentroid -> y_flt\nRename column: ra_icrs_centroid -> ra\nRename column: dec_icrs_centroid -> dec\nRename column: xcentroid -> x_flt\n\u001b[1A\u001b[1M../data/galaxy_flts/s39012_flt: photutils.source_properties - 5 objects\n../data/galaxy_flts/s39012_flt: save ../data/galaxy_flts/s39012_flt.detect_seg.fits, ../data/galaxy_flts/s39012_flt.detect.cat\n"
     ]
    },
    {
     "name": "stdout",
     "output_type": "stream",
     "text": [
      "../data/galaxy_flts/s39170_flt: photutils.detect_sources (detect_thresh=0.0, grow_seg=5, gauss_fwhm=2.0, ZP=0.0)\n../data/galaxy_flts/s39170_flt: photutils.source_properties\nRename column: ycentroid -> y_flt\nRename column: ra_icrs_centroid -> ra\nRename column: dec_icrs_centroid -> dec\nRename column: xcentroid -> x_flt\n\u001b[1A\u001b[1M../data/galaxy_flts/s39170_flt: photutils.source_properties - 1 objects\n../data/galaxy_flts/s39170_flt: save ../data/galaxy_flts/s39170_flt.detect_seg.fits, ../data/galaxy_flts/s39170_flt.detect.cat\n"
     ]
    },
    {
     "name": "stdout",
     "output_type": "stream",
     "text": [
      "../data/galaxy_flts/s39241_flt: photutils.detect_sources (detect_thresh=0.0, grow_seg=5, gauss_fwhm=2.0, ZP=0.0)\n../data/galaxy_flts/s39241_flt: photutils.source_properties\nRename column: ycentroid -> y_flt\nRename column: ra_icrs_centroid -> ra\nRename column: dec_icrs_centroid -> dec\nRename column: xcentroid -> x_flt\n\u001b[1A\u001b[1M../data/galaxy_flts/s39241_flt: photutils.source_properties - 1 objects\n"
     ]
    },
    {
     "name": "stdout",
     "output_type": "stream",
     "text": [
      "../data/galaxy_flts/s39241_flt: save ../data/galaxy_flts/s39241_flt.detect_seg.fits, ../data/galaxy_flts/s39241_flt.detect.cat\n../data/galaxy_flts/s39631_flt: photutils.detect_sources (detect_thresh=0.0, grow_seg=5, gauss_fwhm=2.0, ZP=0.0)\n../data/galaxy_flts/s39631_flt: photutils.source_properties\n"
     ]
    },
    {
     "name": "stdout",
     "output_type": "stream",
     "text": [
      "Rename column: ycentroid -> y_flt\nRename column: ra_icrs_centroid -> ra\nRename column: dec_icrs_centroid -> dec\nRename column: xcentroid -> x_flt\n\u001b[1A\u001b[1M../data/galaxy_flts/s39631_flt: photutils.source_properties - 1 objects\n../data/galaxy_flts/s39631_flt: save ../data/galaxy_flts/s39631_flt.detect_seg.fits, ../data/galaxy_flts/s39631_flt.detect.cat\n"
     ]
    },
    {
     "name": "stdout",
     "output_type": "stream",
     "text": [
      "../data/galaxy_flts/s39804_flt: photutils.detect_sources (detect_thresh=0.0, grow_seg=5, gauss_fwhm=2.0, ZP=0.0)\n../data/galaxy_flts/s39804_flt: photutils.source_properties\nRename column: ycentroid -> y_flt\nRename column: ra_icrs_centroid -> ra\nRename column: dec_icrs_centroid -> dec\nRename column: xcentroid -> x_flt\n\u001b[1A\u001b[1M../data/galaxy_flts/s39804_flt: photutils.source_properties - 1 objects"
     ]
    },
    {
     "name": "stdout",
     "output_type": "stream",
     "text": [
      "\n../data/galaxy_flts/s39804_flt: save ../data/galaxy_flts/s39804_flt.detect_seg.fits, ../data/galaxy_flts/s39804_flt.detect.cat\n../data/galaxy_flts/s39805_flt: photutils.detect_sources (detect_thresh=0.0, grow_seg=5, gauss_fwhm=2.0, ZP=0.0)\n../data/galaxy_flts/s39805_flt: photutils.source_properties\nRename column: ycentroid -> y_flt\nRename column: ra_icrs_centroid -> ra\nRename column: dec_icrs_centroid -> dec"
     ]
    },
    {
     "name": "stdout",
     "output_type": "stream",
     "text": [
      "\nRename column: xcentroid -> x_flt\n\u001b[1A\u001b[1M../data/galaxy_flts/s39805_flt: photutils.source_properties - 1 objects\n../data/galaxy_flts/s39805_flt: save ../data/galaxy_flts/s39805_flt.detect_seg.fits, ../data/galaxy_flts/s39805_flt.detect.cat\n../data/galaxy_flts/s40223_flt: photutils.detect_sources (detect_thresh=0.0, grow_seg=5, gauss_fwhm=2.0, ZP=0.0)\n../data/galaxy_flts/s40223_flt: photutils.source_properties\n"
     ]
    },
    {
     "name": "stdout",
     "output_type": "stream",
     "text": [
      "Rename column: ycentroid -> y_flt\nRename column: ra_icrs_centroid -> ra\nRename column: dec_icrs_centroid -> dec\nRename column: xcentroid -> x_flt\n\u001b[1A\u001b[1M../data/galaxy_flts/s40223_flt: photutils.source_properties - 1 objects\n../data/galaxy_flts/s40223_flt: save ../data/galaxy_flts/s40223_flt.detect_seg.fits, ../data/galaxy_flts/s40223_flt.detect.cat\n"
     ]
    },
    {
     "name": "stdout",
     "output_type": "stream",
     "text": [
      "../data/galaxy_flts/s40476_flt: photutils.detect_sources (detect_thresh=0.0, grow_seg=5, gauss_fwhm=2.0, ZP=0.0)\n../data/galaxy_flts/s40476_flt: photutils.source_properties\nRename column: ycentroid -> y_flt\nRename column: ra_icrs_centroid -> ra\nRename column: dec_icrs_centroid -> dec\nRename column: xcentroid -> x_flt\n"
     ]
    },
    {
     "name": "stdout",
     "output_type": "stream",
     "text": [
      "\u001b[1A\u001b[1M../data/galaxy_flts/s40476_flt: photutils.source_properties - 1 objects\n../data/galaxy_flts/s40476_flt: save ../data/galaxy_flts/s40476_flt.detect_seg.fits, ../data/galaxy_flts/s40476_flt.detect.cat\n../data/galaxy_flts/s40597_flt: photutils.detect_sources (detect_thresh=0.0, grow_seg=5, gauss_fwhm=2.0, ZP=0.0)\n../data/galaxy_flts/s40597_flt: photutils.source_properties\nRename column: ycentroid -> y_flt\nRename column: ra_icrs_centroid -> ra\nRename column: dec_icrs_centroid -> dec\nRename column: xcentroid -> x_flt\n\u001b[1A\u001b[1M../data/galaxy_flts/s40597_flt: photutils.source_properties - 1 objects"
     ]
    },
    {
     "name": "stdout",
     "output_type": "stream",
     "text": [
      "\n../data/galaxy_flts/s40597_flt: save ../data/galaxy_flts/s40597_flt.detect_seg.fits, ../data/galaxy_flts/s40597_flt.detect.cat\n../data/galaxy_flts/s40623_flt: photutils.detect_sources (detect_thresh=0.0, grow_seg=5, gauss_fwhm=2.0, ZP=0.0)\n../data/galaxy_flts/s40623_flt: photutils.source_properties\nRename column: ycentroid -> y_flt\nRename column: ra_icrs_centroid -> ra\nRename column: dec_icrs_centroid -> dec\nRename column: xcentroid -> x_flt\n\u001b[1A\u001b[1M../data/galaxy_flts/s40623_flt: photutils.source_properties - 1 objects\n"
     ]
    },
    {
     "name": "stdout",
     "output_type": "stream",
     "text": [
      "../data/galaxy_flts/s40623_flt: save ../data/galaxy_flts/s40623_flt.detect_seg.fits, ../data/galaxy_flts/s40623_flt.detect.cat\n../data/galaxy_flts/s40862_flt: photutils.detect_sources (detect_thresh=0.0, grow_seg=5, gauss_fwhm=2.0, ZP=0.0)\n../data/galaxy_flts/s40862_flt: photutils.source_properties\nRename column: ycentroid -> y_flt\nRename column: ra_icrs_centroid -> ra\nRename column: dec_icrs_centroid -> dec\nRename column: xcentroid -> x_flt\n\u001b[1A\u001b[1M../data/galaxy_flts/s40862_flt: photutils.source_properties - 1 objects"
     ]
    },
    {
     "name": "stdout",
     "output_type": "stream",
     "text": [
      "\n../data/galaxy_flts/s40862_flt: save ../data/galaxy_flts/s40862_flt.detect_seg.fits, ../data/galaxy_flts/s40862_flt.detect.cat\n../data/galaxy_flts/s41148_flt: photutils.detect_sources (detect_thresh=0.0, grow_seg=5, gauss_fwhm=2.0, ZP=0.0)\n../data/galaxy_flts/s41148_flt: photutils.source_properties\nRename column: ycentroid -> y_flt\nRename column: ra_icrs_centroid -> ra\nRename column: dec_icrs_centroid -> dec\nRename column: xcentroid -> x_flt\n\u001b[1A\u001b[1M../data/galaxy_flts/s41148_flt: photutils.source_properties - 1 objects\n../data/galaxy_flts/s41148_flt: save ../data/galaxy_flts/s41148_flt.detect_seg.fits, ../data/galaxy_flts/s41148_flt.detect.cat"
     ]
    },
    {
     "name": "stdout",
     "output_type": "stream",
     "text": [
      "\n../data/galaxy_flts/s41520_flt: photutils.detect_sources (detect_thresh=0.0, grow_seg=5, gauss_fwhm=2.0, ZP=0.0)\n../data/galaxy_flts/s41520_flt: photutils.source_properties\nRename column: ycentroid -> y_flt\nRename column: ra_icrs_centroid -> ra\nRename column: dec_icrs_centroid -> dec\nRename column: xcentroid -> x_flt\n\u001b[1A\u001b[1M../data/galaxy_flts/s41520_flt: photutils.source_properties - 1 objects\n../data/galaxy_flts/s41520_flt: save ../data/galaxy_flts/s41520_flt.detect_seg.fits, ../data/galaxy_flts/s41520_flt.detect.cat\n"
     ]
    },
    {
     "name": "stdout",
     "output_type": "stream",
     "text": [
      "../data/galaxy_flts/s41659_flt: photutils.detect_sources (detect_thresh=0.0, grow_seg=5, gauss_fwhm=2.0, ZP=0.0)\n../data/galaxy_flts/s41659_flt: photutils.source_properties\nRename column: ycentroid -> y_flt\nRename column: ra_icrs_centroid -> ra\nRename column: dec_icrs_centroid -> dec\nRename column: xcentroid -> x_flt\n\u001b[1A\u001b[1M../data/galaxy_flts/s41659_flt: photutils.source_properties - 2 objects\n../data/galaxy_flts/s41659_flt: save ../data/galaxy_flts/s41659_flt.detect_seg.fits, ../data/galaxy_flts/s41659_flt.detect.cat\n"
     ]
    },
    {
     "name": "stdout",
     "output_type": "stream",
     "text": [
      "../data/galaxy_flts/s43615_flt: photutils.detect_sources (detect_thresh=0.0, grow_seg=5, gauss_fwhm=2.0, ZP=0.0)\n../data/galaxy_flts/s43615_flt: photutils.source_properties\nRename column: ycentroid -> y_flt\nRename column: ra_icrs_centroid -> ra\nRename column: dec_icrs_centroid -> dec\nRename column: xcentroid -> x_flt\n\u001b[1A\u001b[1M../data/galaxy_flts/s43615_flt: photutils.source_properties - 1 objects\n../data/galaxy_flts/s43615_flt: save ../data/galaxy_flts/s43615_flt.detect_seg.fits, ../data/galaxy_flts/s43615_flt.detect.cat\n"
     ]
    },
    {
     "name": "stdout",
     "output_type": "stream",
     "text": [
      "../data/galaxy_flts/s44042_flt: photutils.detect_sources (detect_thresh=0.0, grow_seg=5, gauss_fwhm=2.0, ZP=0.0)\n../data/galaxy_flts/s44042_flt: photutils.source_properties\nRename column: ycentroid -> y_flt\nRename column: ra_icrs_centroid -> ra\nRename column: dec_icrs_centroid -> dec\nRename column: xcentroid -> x_flt\n\u001b[1A\u001b[1M../data/galaxy_flts/s44042_flt: photutils.source_properties - 1 objects\n../data/galaxy_flts/s44042_flt: save ../data/galaxy_flts/s44042_flt.detect_seg.fits, ../data/galaxy_flts/s44042_flt.detect.cat\n"
     ]
    },
    {
     "name": "stdout",
     "output_type": "stream",
     "text": [
      "../data/galaxy_flts/s44620_flt: photutils.detect_sources (detect_thresh=0.0, grow_seg=5, gauss_fwhm=2.0, ZP=0.0)\n../data/galaxy_flts/s44620_flt: photutils.source_properties\nRename column: ycentroid -> y_flt\nRename column: ra_icrs_centroid -> ra\nRename column: dec_icrs_centroid -> dec\nRename column: xcentroid -> x_flt\n\u001b[1A\u001b[1M../data/galaxy_flts/s44620_flt: photutils.source_properties - 1 objects\n"
     ]
    },
    {
     "name": "stdout",
     "output_type": "stream",
     "text": [
      "../data/galaxy_flts/s44620_flt: save ../data/galaxy_flts/s44620_flt.detect_seg.fits, ../data/galaxy_flts/s44620_flt.detect.cat\n../data/galaxy_flts/s45972_flt: photutils.detect_sources (detect_thresh=0.0, grow_seg=5, gauss_fwhm=2.0, ZP=0.0)\n../data/galaxy_flts/s45972_flt: photutils.source_properties\nRename column: ycentroid -> y_flt\nRename column: ra_icrs_centroid -> ra\nRename column: dec_icrs_centroid -> dec\nRename column: xcentroid -> x_flt\n\u001b[1A\u001b[1M../data/galaxy_flts/s45972_flt: photutils.source_properties - 1 objects\n../data/galaxy_flts/s45972_flt: save ../data/galaxy_flts/s45972_flt.detect_seg.fits, ../data/galaxy_flts/s45972_flt.detect.cat\n"
     ]
    },
    {
     "name": "stdout",
     "output_type": "stream",
     "text": [
      "../data/galaxy_flts/s46066_flt: photutils.detect_sources (detect_thresh=0.0, grow_seg=5, gauss_fwhm=2.0, ZP=0.0)\n../data/galaxy_flts/s46066_flt: photutils.source_properties\nRename column: ycentroid -> y_flt\nRename column: ra_icrs_centroid -> ra\nRename column: dec_icrs_centroid -> dec\nRename column: xcentroid -> x_flt\n\u001b[1A\u001b[1M../data/galaxy_flts/s46066_flt: photutils.source_properties - 1 objects\n../data/galaxy_flts/s46066_flt: save ../data/galaxy_flts/s46066_flt.detect_seg.fits, ../data/galaxy_flts/s46066_flt.detect.cat\n"
     ]
    },
    {
     "name": "stdout",
     "output_type": "stream",
     "text": [
      "../data/galaxy_flts/s46345_flt: photutils.detect_sources (detect_thresh=0.0, grow_seg=5, gauss_fwhm=2.0, ZP=0.0)\n../data/galaxy_flts/s46345_flt: photutils.source_properties\nRename column: ycentroid -> y_flt\nRename column: ra_icrs_centroid -> ra\nRename column: dec_icrs_centroid -> dec\nRename column: xcentroid -> x_flt\n\u001b[1A\u001b[1M../data/galaxy_flts/s46345_flt: photutils.source_properties - 1 objects\n../data/galaxy_flts/s46345_flt: save ../data/galaxy_flts/s46345_flt.detect_seg.fits, ../data/galaxy_flts/s46345_flt.detect.cat\n"
     ]
    },
    {
     "name": "stdout",
     "output_type": "stream",
     "text": [
      "../data/galaxy_flts/s47677_flt: photutils.detect_sources (detect_thresh=0.0, grow_seg=5, gauss_fwhm=2.0, ZP=0.0)\n../data/galaxy_flts/s47677_flt: photutils.source_properties\nRename column: ycentroid -> y_flt\nRename column: ra_icrs_centroid -> ra\nRename column: dec_icrs_centroid -> dec\nRename column: xcentroid -> x_flt\n\u001b[1A\u001b[1M../data/galaxy_flts/s47677_flt: photutils.source_properties - 1 objects\n../data/galaxy_flts/s47677_flt: save ../data/galaxy_flts/s47677_flt.detect_seg.fits, ../data/galaxy_flts/s47677_flt.detect.cat\n"
     ]
    },
    {
     "name": "stdout",
     "output_type": "stream",
     "text": [
      "../data/galaxy_flts/s48631_flt: photutils.detect_sources (detect_thresh=0.0, grow_seg=5, gauss_fwhm=2.0, ZP=0.0)\n../data/galaxy_flts/s48631_flt: photutils.source_properties\nRename column: ycentroid -> y_flt\nRename column: ra_icrs_centroid -> ra\nRename column: dec_icrs_centroid -> dec\nRename column: xcentroid -> x_flt"
     ]
    },
    {
     "name": "stdout",
     "output_type": "stream",
     "text": [
      "\n\u001b[1A\u001b[1M../data/galaxy_flts/s48631_flt: photutils.source_properties - 2 objects\n../data/galaxy_flts/s48631_flt: save ../data/galaxy_flts/s48631_flt.detect_seg.fits, ../data/galaxy_flts/s48631_flt.detect.cat\n"
     ]
    }
   ],
   "source": [
    "%matplotlib inline\n",
    "\n",
    "for i in galDB.index:\n",
    "    spec = Gen_spec(galDB['gids'][i],galDB['hi_res_specz'][i],minwv=7700,maxwv=11500)\n",
    "    if galDB['tau'][i] == 0:\n",
    "        spec.Sim_spec(galDB['Z'][i],galDB['t'][i],0)\n",
    "    else:\n",
    "        spec.Sim_spec(galDB['Z'][i],galDB['t'][i],galDB['tau'][i])\n",
    "    plt.figure(figsize=[15,5])\n",
    "    plt.plot(spec.gal_wv, np.abs(spec.gal_fl - spec.fl))\n",
    "    plt.plot(spec.gal_wv, spec.gal_er)\n",
    "    plt.axhline(np.std(spec.gal_fl - spec.fl),linestyle = '--')\n",
    "    plt.axvline(7800,color='r')\n",
    "    plt.axvline(11400,color='r')\n",
    "    plt.xlim(7700,11500)\n",
    "    plt.savefig('../plots/spec_resids/%s_res.png' % galDB['gids'][i])\n",
    "    plt.close()"
   ]
  },
  {
   "cell_type": "code",
   "execution_count": 4,
   "metadata": {
    "collapsed": true
   },
   "outputs": [
    {
     "name": "stdout",
     "output_type": "stream",
     "text": [
      "../data/galaxy_flts/n14713_flt: photutils.detect_sources (detect_thresh=0.0, grow_seg=5, gauss_fwhm=2.0, ZP=0.0)\n../data/galaxy_flts/n14713_flt: photutils.source_properties\n"
     ]
    },
    {
     "name": "stdout",
     "output_type": "stream",
     "text": [
      "Rename column: ycentroid -> y_flt\nRename column: ra_icrs_centroid -> ra\nRename column: dec_icrs_centroid -> dec\nRename column: xcentroid -> x_flt\n\u001b[1A\u001b[1M../data/galaxy_flts/n14713_flt: photutils.source_properties - 1 objects\n../data/galaxy_flts/n14713_flt: save ../data/galaxy_flts/n14713_flt.detect_seg.fits, ../data/galaxy_flts/n14713_flt.detect.cat\n"
     ]
    },
    {
     "name": "stdout",
     "output_type": "stream",
     "text": [
      "../data/galaxy_flts/n16758_flt: photutils.detect_sources (detect_thresh=0.0, grow_seg=5, gauss_fwhm=2.0, ZP=0.0)\n../data/galaxy_flts/n16758_flt: photutils.source_properties\nRename column: ycentroid -> y_flt\nRename column: ra_icrs_centroid -> ra\nRename column: dec_icrs_centroid -> dec\nRename column: xcentroid -> x_flt\n\u001b[1A\u001b[1M../data/galaxy_flts/n16758_flt: photutils.source_properties - 1 objects\n../data/galaxy_flts/n16758_flt: save ../data/galaxy_flts/n16758_flt.detect_seg.fits, ../data/galaxy_flts/n16758_flt.detect.cat\n"
     ]
    },
    {
     "name": "stdout",
     "output_type": "stream",
     "text": [
      "../data/galaxy_flts/n17070_flt: photutils.detect_sources (detect_thresh=0.0, grow_seg=5, gauss_fwhm=2.0, ZP=0.0)\n../data/galaxy_flts/n17070_flt: photutils.source_properties\nRename column: ycentroid -> y_flt\nRename column: ra_icrs_centroid -> ra\nRename column: dec_icrs_centroid -> dec\nRename column: xcentroid -> x_flt\n\u001b[1A\u001b[1M../data/galaxy_flts/n17070_flt: photutils.source_properties - 1 objects"
     ]
    },
    {
     "name": "stdout",
     "output_type": "stream",
     "text": [
      "\n../data/galaxy_flts/n17070_flt: save ../data/galaxy_flts/n17070_flt.detect_seg.fits, ../data/galaxy_flts/n17070_flt.detect.cat\n"
     ]
    },
    {
     "name": "stdout",
     "output_type": "stream",
     "text": [
      "../data/galaxy_flts/n19442_flt: photutils.detect_sources (detect_thresh=0.0, grow_seg=5, gauss_fwhm=2.0, ZP=0.0)\n../data/galaxy_flts/n19442_flt: photutils.source_properties\nRename column: ycentroid -> y_flt\nRename column: ra_icrs_centroid -> ra\nRename column: dec_icrs_centroid -> dec\nRename column: xcentroid -> x_flt\n\u001b[1A\u001b[1M../data/galaxy_flts/n19442_flt: photutils.source_properties - 1 objects\n../data/galaxy_flts/n19442_flt: save ../data/galaxy_flts/n19442_flt.detect_seg.fits, ../data/galaxy_flts/n19442_flt.detect.cat\n"
     ]
    },
    {
     "name": "stdout",
     "output_type": "stream",
     "text": [
      "../data/galaxy_flts/n21156_flt: photutils.detect_sources (detect_thresh=0.0, grow_seg=5, gauss_fwhm=2.0, ZP=0.0)\n../data/galaxy_flts/n21156_flt: photutils.source_properties\nRename column: ycentroid -> y_flt\nRename column: ra_icrs_centroid -> ra\nRename column: dec_icrs_centroid -> dec\nRename column: xcentroid -> x_flt\n\u001b[1A\u001b[1M../data/galaxy_flts/n21156_flt: photutils.source_properties - 1 objects\n../data/galaxy_flts/n21156_flt: save ../data/galaxy_flts/n21156_flt.detect_seg.fits, ../data/galaxy_flts/n21156_flt.detect.cat\n"
     ]
    },
    {
     "name": "stdout",
     "output_type": "stream",
     "text": [
      "../data/galaxy_flts/n21427_flt: photutils.detect_sources (detect_thresh=0.0, grow_seg=5, gauss_fwhm=2.0, ZP=0.0)\n../data/galaxy_flts/n21427_flt: photutils.source_properties\nRename column: ycentroid -> y_flt\nRename column: ra_icrs_centroid -> ra\nRename column: dec_icrs_centroid -> dec\nRename column: xcentroid -> x_flt\n\u001b[1A\u001b[1M../data/galaxy_flts/n21427_flt: photutils.source_properties - 1 objects\n../data/galaxy_flts/n21427_flt: save ../data/galaxy_flts/n21427_flt.detect_seg.fits, ../data/galaxy_flts/n21427_flt.detect.cat\n"
     ]
    },
    {
     "name": "stdout",
     "output_type": "stream",
     "text": [
      "../data/galaxy_flts/n23435_flt: photutils.detect_sources (detect_thresh=0.0, grow_seg=5, gauss_fwhm=2.0, ZP=0.0)\n../data/galaxy_flts/n23435_flt: photutils.source_properties\nRename column: ycentroid -> y_flt\nRename column: ra_icrs_centroid -> ra\nRename column: dec_icrs_centroid -> dec\nRename column: xcentroid -> x_flt\n\u001b[1A\u001b[1M../data/galaxy_flts/n23435_flt: photutils.source_properties - 1 objects\n../data/galaxy_flts/n23435_flt: save ../data/galaxy_flts/n23435_flt.detect_seg.fits, ../data/galaxy_flts/n23435_flt.detect.cat\n"
     ]
    },
    {
     "name": "stdout",
     "output_type": "stream",
     "text": [
      "../data/galaxy_flts/n32566_flt: photutils.detect_sources (detect_thresh=0.0, grow_seg=5, gauss_fwhm=2.0, ZP=0.0)\n../data/galaxy_flts/n32566_flt: photutils.source_properties\nRename column: ycentroid -> y_flt\nRename column: ra_icrs_centroid -> ra\nRename column: dec_icrs_centroid -> dec\nRename column: xcentroid -> x_flt\n\u001b[1A\u001b[1M../data/galaxy_flts/n32566_flt: photutils.source_properties - 1 objects\n../data/galaxy_flts/n32566_flt: save ../data/galaxy_flts/n32566_flt.detect_seg.fits, ../data/galaxy_flts/n32566_flt.detect.cat\n"
     ]
    },
    {
     "name": "stdout",
     "output_type": "stream",
     "text": [
      "../data/galaxy_flts/n34694_flt: photutils.detect_sources (detect_thresh=0.0, grow_seg=5, gauss_fwhm=2.0, ZP=0.0)\n../data/galaxy_flts/n34694_flt: photutils.source_properties\nRename column: ycentroid -> y_flt\nRename column: ra_icrs_centroid -> ra\nRename column: dec_icrs_centroid -> dec\nRename column: xcentroid -> x_flt\n\u001b[1A\u001b[1M../data/galaxy_flts/n34694_flt: photutils.source_properties - 1 objects\n../data/galaxy_flts/n34694_flt: save ../data/galaxy_flts/n34694_flt.detect_seg.fits, ../data/galaxy_flts/n34694_flt.detect.cat\n"
     ]
    },
    {
     "name": "stdout",
     "output_type": "stream",
     "text": [
      "../data/galaxy_flts/n37686_flt: photutils.detect_sources (detect_thresh=0.0, grow_seg=5, gauss_fwhm=2.0, ZP=0.0)\n../data/galaxy_flts/n37686_flt: photutils.source_properties\nRename column: ycentroid -> y_flt\nRename column: ra_icrs_centroid -> ra\nRename column: dec_icrs_centroid -> dec\nRename column: xcentroid -> x_flt\n\u001b[1A\u001b[1M../data/galaxy_flts/n37686_flt: photutils.source_properties - 1 objects\n../data/galaxy_flts/n37686_flt: save ../data/galaxy_flts/n37686_flt.detect_seg.fits, ../data/galaxy_flts/n37686_flt.detect.cat\n"
     ]
    },
    {
     "name": "stdout",
     "output_type": "stream",
     "text": [
      "../data/galaxy_flts/n38126_flt: photutils.detect_sources (detect_thresh=0.0, grow_seg=5, gauss_fwhm=2.0, ZP=0.0)\n../data/galaxy_flts/n38126_flt: photutils.source_properties\nRename column: ycentroid -> y_flt\nRename column: ra_icrs_centroid -> ra\nRename column: dec_icrs_centroid -> dec\nRename column: xcentroid -> x_flt\n\u001b[1A\u001b[1M../data/galaxy_flts/n38126_flt: photutils.source_properties - 1 objects\n../data/galaxy_flts/n38126_flt: save ../data/galaxy_flts/n38126_flt.detect_seg.fits, ../data/galaxy_flts/n38126_flt.detect.cat\n"
     ]
    },
    {
     "name": "stdout",
     "output_type": "stream",
     "text": [
      "../data/galaxy_flts/s35774_flt: photutils.detect_sources (detect_thresh=0.0, grow_seg=5, gauss_fwhm=2.0, ZP=0.0)\n../data/galaxy_flts/s35774_flt: photutils.source_properties\nRename column: ycentroid -> y_flt\nRename column: ra_icrs_centroid -> ra\nRename column: dec_icrs_centroid -> dec\nRename column: xcentroid -> x_flt\n\u001b[1A\u001b[1M../data/galaxy_flts/s35774_flt: photutils.source_properties - 2 objects\n../data/galaxy_flts/s35774_flt: save ../data/galaxy_flts/s35774_flt.detect_seg.fits, ../data/galaxy_flts/s35774_flt.detect.cat\n"
     ]
    },
    {
     "name": "stdout",
     "output_type": "stream",
     "text": [
      "../data/galaxy_flts/s38785_flt: photutils.detect_sources (detect_thresh=0.0, grow_seg=5, gauss_fwhm=2.0, ZP=0.0)\n../data/galaxy_flts/s38785_flt: photutils.source_properties\nRename column: ycentroid -> y_flt\nRename column: ra_icrs_centroid -> ra\nRename column: dec_icrs_centroid -> dec\nRename column: xcentroid -> x_flt\n\u001b[1A\u001b[1M../data/galaxy_flts/s38785_flt: photutils.source_properties - 1 objects\n../data/galaxy_flts/s38785_flt: save ../data/galaxy_flts/s38785_flt.detect_seg.fits, ../data/galaxy_flts/s38785_flt.detect.cat\n"
     ]
    },
    {
     "name": "stdout",
     "output_type": "stream",
     "text": [
      "../data/galaxy_flts/s39012_flt: photutils.detect_sources (detect_thresh=0.0, grow_seg=5, gauss_fwhm=2.0, ZP=0.0)\n../data/galaxy_flts/s39012_flt: photutils.source_properties\n"
     ]
    },
    {
     "name": "stdout",
     "output_type": "stream",
     "text": [
      "Rename column: ycentroid -> y_flt\nRename column: ra_icrs_centroid -> ra\nRename column: dec_icrs_centroid -> dec\nRename column: xcentroid -> x_flt\n\u001b[1A\u001b[1M../data/galaxy_flts/s39012_flt: photutils.source_properties - 5 objects\n../data/galaxy_flts/s39012_flt: save ../data/galaxy_flts/s39012_flt.detect_seg.fits, ../data/galaxy_flts/s39012_flt.detect.cat\n"
     ]
    },
    {
     "name": "stdout",
     "output_type": "stream",
     "text": [
      "../data/galaxy_flts/s39170_flt: photutils.detect_sources (detect_thresh=0.0, grow_seg=5, gauss_fwhm=2.0, ZP=0.0)\n../data/galaxy_flts/s39170_flt: photutils.source_properties\nRename column: ycentroid -> y_flt\nRename column: ra_icrs_centroid -> ra\nRename column: dec_icrs_centroid -> dec\nRename column: xcentroid -> x_flt\n\u001b[1A\u001b[1M../data/galaxy_flts/s39170_flt: photutils.source_properties - 1 objects\n../data/galaxy_flts/s39170_flt: save ../data/galaxy_flts/s39170_flt.detect_seg.fits, ../data/galaxy_flts/s39170_flt.detect.cat\n"
     ]
    },
    {
     "name": "stdout",
     "output_type": "stream",
     "text": [
      "../data/galaxy_flts/s39241_flt: photutils.detect_sources (detect_thresh=0.0, grow_seg=5, gauss_fwhm=2.0, ZP=0.0)\n../data/galaxy_flts/s39241_flt: photutils.source_properties\nRename column: ycentroid -> y_flt\nRename column: ra_icrs_centroid -> ra\nRename column: dec_icrs_centroid -> dec\nRename column: xcentroid -> x_flt\n\u001b[1A\u001b[1M../data/galaxy_flts/s39241_flt: photutils.source_properties - 1 objects\n../data/galaxy_flts/s39241_flt: save ../data/galaxy_flts/s39241_flt.detect_seg.fits, ../data/galaxy_flts/s39241_flt.detect.cat\n"
     ]
    },
    {
     "name": "stdout",
     "output_type": "stream",
     "text": [
      "../data/galaxy_flts/s39631_flt: photutils.detect_sources (detect_thresh=0.0, grow_seg=5, gauss_fwhm=2.0, ZP=0.0)\n../data/galaxy_flts/s39631_flt: photutils.source_properties\nRename column: ycentroid -> y_flt\nRename column: ra_icrs_centroid -> ra\nRename column: dec_icrs_centroid -> dec\nRename column: xcentroid -> x_flt\n\u001b[1A\u001b[1M../data/galaxy_flts/s39631_flt: photutils.source_properties - 1 objects\n../data/galaxy_flts/s39631_flt: save ../data/galaxy_flts/s39631_flt.detect_seg.fits, ../data/galaxy_flts/s39631_flt.detect.cat\n"
     ]
    },
    {
     "name": "stdout",
     "output_type": "stream",
     "text": [
      "../data/galaxy_flts/s39804_flt: photutils.detect_sources (detect_thresh=0.0, grow_seg=5, gauss_fwhm=2.0, ZP=0.0)\n../data/galaxy_flts/s39804_flt: photutils.source_properties\nRename column: ycentroid -> y_flt\nRename column: ra_icrs_centroid -> ra\nRename column: dec_icrs_centroid -> dec\nRename column: xcentroid -> x_flt\n\u001b[1A\u001b[1M../data/galaxy_flts/s39804_flt: photutils.source_properties - 1 objects\n../data/galaxy_flts/s39804_flt: save ../data/galaxy_flts/s39804_flt.detect_seg.fits, ../data/galaxy_flts/s39804_flt.detect.cat\n"
     ]
    },
    {
     "name": "stdout",
     "output_type": "stream",
     "text": [
      "../data/galaxy_flts/s39805_flt: photutils.detect_sources (detect_thresh=0.0, grow_seg=5, gauss_fwhm=2.0, ZP=0.0)\n../data/galaxy_flts/s39805_flt: photutils.source_properties\nRename column: ycentroid -> y_flt\nRename column: ra_icrs_centroid -> ra\nRename column: dec_icrs_centroid -> dec\nRename column: xcentroid -> x_flt\n\u001b[1A\u001b[1M../data/galaxy_flts/s39805_flt: photutils.source_properties - 1 objects\n../data/galaxy_flts/s39805_flt: save ../data/galaxy_flts/s39805_flt.detect_seg.fits, ../data/galaxy_flts/s39805_flt.detect.cat\n"
     ]
    },
    {
     "name": "stdout",
     "output_type": "stream",
     "text": [
      "../data/galaxy_flts/s40223_flt: photutils.detect_sources (detect_thresh=0.0, grow_seg=5, gauss_fwhm=2.0, ZP=0.0)\n../data/galaxy_flts/s40223_flt: photutils.source_properties\nRename column: ycentroid -> y_flt\nRename column: ra_icrs_centroid -> ra\nRename column: dec_icrs_centroid -> dec\nRename column: xcentroid -> x_flt\n\u001b[1A\u001b[1M../data/galaxy_flts/s40223_flt: photutils.source_properties - 1 objects\n../data/galaxy_flts/s40223_flt: save ../data/galaxy_flts/s40223_flt.detect_seg.fits, ../data/galaxy_flts/s40223_flt.detect.cat\n"
     ]
    },
    {
     "name": "stdout",
     "output_type": "stream",
     "text": [
      "../data/galaxy_flts/s40476_flt: photutils.detect_sources (detect_thresh=0.0, grow_seg=5, gauss_fwhm=2.0, ZP=0.0)\n../data/galaxy_flts/s40476_flt: photutils.source_properties\nRename column: ycentroid -> y_flt\nRename column: ra_icrs_centroid -> ra\nRename column: dec_icrs_centroid -> dec\nRename column: xcentroid -> x_flt\n\u001b[1A\u001b[1M../data/galaxy_flts/s40476_flt: photutils.source_properties - 1 objects\n../data/galaxy_flts/s40476_flt: save ../data/galaxy_flts/s40476_flt.detect_seg.fits, ../data/galaxy_flts/s40476_flt.detect.cat\n"
     ]
    },
    {
     "name": "stdout",
     "output_type": "stream",
     "text": [
      "../data/galaxy_flts/s40597_flt: photutils.detect_sources (detect_thresh=0.0, grow_seg=5, gauss_fwhm=2.0, ZP=0.0)\n../data/galaxy_flts/s40597_flt: photutils.source_properties\nRename column: ycentroid -> y_flt\nRename column: ra_icrs_centroid -> ra\nRename column: dec_icrs_centroid -> dec\nRename column: xcentroid -> x_flt\n\u001b[1A\u001b[1M../data/galaxy_flts/s40597_flt: photutils.source_properties - 1 objects\n../data/galaxy_flts/s40597_flt: save ../data/galaxy_flts/s40597_flt.detect_seg.fits, ../data/galaxy_flts/s40597_flt.detect.cat\n"
     ]
    },
    {
     "name": "stdout",
     "output_type": "stream",
     "text": [
      "../data/galaxy_flts/s40623_flt: photutils.detect_sources (detect_thresh=0.0, grow_seg=5, gauss_fwhm=2.0, ZP=0.0)\n../data/galaxy_flts/s40623_flt: photutils.source_properties\nRename column: ycentroid -> y_flt\nRename column: ra_icrs_centroid -> ra\nRename column: dec_icrs_centroid -> dec\nRename column: xcentroid -> x_flt\n\u001b[1A\u001b[1M../data/galaxy_flts/s40623_flt: photutils.source_properties - 1 objects\n../data/galaxy_flts/s40623_flt: save ../data/galaxy_flts/s40623_flt.detect_seg.fits, ../data/galaxy_flts/s40623_flt.detect.cat\n"
     ]
    },
    {
     "name": "stdout",
     "output_type": "stream",
     "text": [
      "../data/galaxy_flts/s40862_flt: photutils.detect_sources (detect_thresh=0.0, grow_seg=5, gauss_fwhm=2.0, ZP=0.0)\n../data/galaxy_flts/s40862_flt: photutils.source_properties\nRename column: ycentroid -> y_flt\nRename column: ra_icrs_centroid -> ra\nRename column: dec_icrs_centroid -> dec\nRename column: xcentroid -> x_flt\n\u001b[1A\u001b[1M../data/galaxy_flts/s40862_flt: photutils.source_properties - 1 objects\n../data/galaxy_flts/s40862_flt: save ../data/galaxy_flts/s40862_flt.detect_seg.fits, ../data/galaxy_flts/s40862_flt.detect.cat\n"
     ]
    },
    {
     "name": "stdout",
     "output_type": "stream",
     "text": [
      "../data/galaxy_flts/s41148_flt: photutils.detect_sources (detect_thresh=0.0, grow_seg=5, gauss_fwhm=2.0, ZP=0.0)\n../data/galaxy_flts/s41148_flt: photutils.source_properties\nRename column: ycentroid -> y_flt\nRename column: ra_icrs_centroid -> ra\nRename column: dec_icrs_centroid -> dec\nRename column: xcentroid -> x_flt\n\u001b[1A\u001b[1M../data/galaxy_flts/s41148_flt: photutils.source_properties - 1 objects\n../data/galaxy_flts/s41148_flt: save ../data/galaxy_flts/s41148_flt.detect_seg.fits, ../data/galaxy_flts/s41148_flt.detect.cat\n"
     ]
    },
    {
     "name": "stdout",
     "output_type": "stream",
     "text": [
      "../data/galaxy_flts/s41520_flt: photutils.detect_sources (detect_thresh=0.0, grow_seg=5, gauss_fwhm=2.0, ZP=0.0)\n../data/galaxy_flts/s41520_flt: photutils.source_properties\nRename column: ycentroid -> y_flt\nRename column: ra_icrs_centroid -> ra\nRename column: dec_icrs_centroid -> dec\nRename column: xcentroid -> x_flt\n\u001b[1A\u001b[1M../data/galaxy_flts/s41520_flt: photutils.source_properties - 1 objects\n../data/galaxy_flts/s41520_flt: save ../data/galaxy_flts/s41520_flt.detect_seg.fits, ../data/galaxy_flts/s41520_flt.detect.cat\n"
     ]
    },
    {
     "name": "stdout",
     "output_type": "stream",
     "text": [
      "../data/galaxy_flts/s41659_flt: photutils.detect_sources (detect_thresh=0.0, grow_seg=5, gauss_fwhm=2.0, ZP=0.0)\n../data/galaxy_flts/s41659_flt: photutils.source_properties\nRename column: ycentroid -> y_flt\nRename column: ra_icrs_centroid -> ra\nRename column: dec_icrs_centroid -> dec\nRename column: xcentroid -> x_flt\n\u001b[1A\u001b[1M../data/galaxy_flts/s41659_flt: photutils.source_properties - 2 objects\n../data/galaxy_flts/s41659_flt: save ../data/galaxy_flts/s41659_flt.detect_seg.fits, ../data/galaxy_flts/s41659_flt.detect.cat\n"
     ]
    },
    {
     "name": "stdout",
     "output_type": "stream",
     "text": [
      "../data/galaxy_flts/s43615_flt: photutils.detect_sources (detect_thresh=0.0, grow_seg=5, gauss_fwhm=2.0, ZP=0.0)\n../data/galaxy_flts/s43615_flt: photutils.source_properties\nRename column: ycentroid -> y_flt\nRename column: ra_icrs_centroid -> ra\nRename column: dec_icrs_centroid -> dec\nRename column: xcentroid -> x_flt\n\u001b[1A\u001b[1M../data/galaxy_flts/s43615_flt: photutils.source_properties - 1 objects\n../data/galaxy_flts/s43615_flt: save ../data/galaxy_flts/s43615_flt.detect_seg.fits, ../data/galaxy_flts/s43615_flt.detect.cat\n"
     ]
    },
    {
     "name": "stdout",
     "output_type": "stream",
     "text": [
      "../data/galaxy_flts/s44042_flt: photutils.detect_sources (detect_thresh=0.0, grow_seg=5, gauss_fwhm=2.0, ZP=0.0)\n../data/galaxy_flts/s44042_flt: photutils.source_properties\nRename column: ycentroid -> y_flt\nRename column: ra_icrs_centroid -> ra\nRename column: dec_icrs_centroid -> dec\nRename column: xcentroid -> x_flt\n\u001b[1A\u001b[1M../data/galaxy_flts/s44042_flt: photutils.source_properties - 1 objects\n../data/galaxy_flts/s44042_flt: save ../data/galaxy_flts/s44042_flt.detect_seg.fits, ../data/galaxy_flts/s44042_flt.detect.cat\n"
     ]
    },
    {
     "name": "stdout",
     "output_type": "stream",
     "text": [
      "../data/galaxy_flts/s44620_flt: photutils.detect_sources (detect_thresh=0.0, grow_seg=5, gauss_fwhm=2.0, ZP=0.0)\n../data/galaxy_flts/s44620_flt: photutils.source_properties\nRename column: ycentroid -> y_flt\nRename column: ra_icrs_centroid -> ra\nRename column: dec_icrs_centroid -> dec\nRename column: xcentroid -> x_flt\n\u001b[1A\u001b[1M../data/galaxy_flts/s44620_flt: photutils.source_properties - 1 objects\n../data/galaxy_flts/s44620_flt: save ../data/galaxy_flts/s44620_flt.detect_seg.fits, ../data/galaxy_flts/s44620_flt.detect.cat\n"
     ]
    },
    {
     "name": "stdout",
     "output_type": "stream",
     "text": [
      "../data/galaxy_flts/s45972_flt: photutils.detect_sources (detect_thresh=0.0, grow_seg=5, gauss_fwhm=2.0, ZP=0.0)\n../data/galaxy_flts/s45972_flt: photutils.source_properties\nRename column: ycentroid -> y_flt\nRename column: ra_icrs_centroid -> ra\nRename column: dec_icrs_centroid -> dec\nRename column: xcentroid -> x_flt\n\u001b[1A\u001b[1M../data/galaxy_flts/s45972_flt: photutils.source_properties - 1 objects\n../data/galaxy_flts/s45972_flt: save ../data/galaxy_flts/s45972_flt.detect_seg.fits, ../data/galaxy_flts/s45972_flt.detect.cat\n"
     ]
    },
    {
     "name": "stdout",
     "output_type": "stream",
     "text": [
      "../data/galaxy_flts/s46066_flt: photutils.detect_sources (detect_thresh=0.0, grow_seg=5, gauss_fwhm=2.0, ZP=0.0)\n../data/galaxy_flts/s46066_flt: photutils.source_properties\nRename column: ycentroid -> y_flt\nRename column: ra_icrs_centroid -> ra\nRename column: dec_icrs_centroid -> dec\nRename column: xcentroid -> x_flt\n\u001b[1A\u001b[1M../data/galaxy_flts/s46066_flt: photutils.source_properties - 1 objects\n../data/galaxy_flts/s46066_flt: save ../data/galaxy_flts/s46066_flt.detect_seg.fits, ../data/galaxy_flts/s46066_flt.detect.cat\n"
     ]
    },
    {
     "name": "stdout",
     "output_type": "stream",
     "text": [
      "../data/galaxy_flts/s46345_flt: photutils.detect_sources (detect_thresh=0.0, grow_seg=5, gauss_fwhm=2.0, ZP=0.0)\n../data/galaxy_flts/s46345_flt: photutils.source_properties\nRename column: ycentroid -> y_flt\nRename column: ra_icrs_centroid -> ra\nRename column: dec_icrs_centroid -> dec\nRename column: xcentroid -> x_flt\n\u001b[1A\u001b[1M../data/galaxy_flts/s46345_flt: photutils.source_properties - 1 objects\n../data/galaxy_flts/s46345_flt: save ../data/galaxy_flts/s46345_flt.detect_seg.fits, ../data/galaxy_flts/s46345_flt.detect.cat\n"
     ]
    },
    {
     "name": "stdout",
     "output_type": "stream",
     "text": [
      "../data/galaxy_flts/s47677_flt: photutils.detect_sources (detect_thresh=0.0, grow_seg=5, gauss_fwhm=2.0, ZP=0.0)\n../data/galaxy_flts/s47677_flt: photutils.source_properties\nRename column: ycentroid -> y_flt\nRename column: ra_icrs_centroid -> ra\nRename column: dec_icrs_centroid -> dec\nRename column: xcentroid -> x_flt\n\u001b[1A\u001b[1M../data/galaxy_flts/s47677_flt: photutils.source_properties - 1 objects\n../data/galaxy_flts/s47677_flt: save ../data/galaxy_flts/s47677_flt.detect_seg.fits, ../data/galaxy_flts/s47677_flt.detect.cat\n"
     ]
    },
    {
     "name": "stdout",
     "output_type": "stream",
     "text": [
      "../data/galaxy_flts/s48631_flt: photutils.detect_sources (detect_thresh=0.0, grow_seg=5, gauss_fwhm=2.0, ZP=0.0)\n../data/galaxy_flts/s48631_flt: photutils.source_properties\nRename column: ycentroid -> y_flt\nRename column: ra_icrs_centroid -> ra\nRename column: dec_icrs_centroid -> dec\nRename column: xcentroid -> x_flt\n\u001b[1A\u001b[1M../data/galaxy_flts/s48631_flt: photutils.source_properties - 2 objects\n../data/galaxy_flts/s48631_flt: save ../data/galaxy_flts/s48631_flt.detect_seg.fits, ../data/galaxy_flts/s48631_flt.detect.cat\n"
     ]
    }
   ],
   "source": [
    "%matplotlib inline\n",
    "\n",
    "for i in galDB.index:\n",
    "    spec = Gen_spec(galDB['gids'][i],galDB['hi_res_specz'][i],minwv=7900,maxwv=11400)\n",
    "    if galDB['tau'][i] == 0:\n",
    "        spec.Sim_spec(galDB['Z'][i],galDB['t'][i],0)\n",
    "    else:\n",
    "        spec.Sim_spec(galDB['Z'][i],galDB['t'][i],galDB['tau'][i])\n",
    "    plt.figure(figsize=[15,5])\n",
    "    plt.plot(spec.gal_wv,spec.gal_fl)\n",
    "    plt.plot(spec.gal_wv,spec.fl)\n",
    "    plt.axvspan(4810*(1+galDB['hi_res_specz'][i]), 4910*(1+galDB['hi_res_specz'][i]), color='k', alpha=.1)\n",
    "    plt.axvline(4862.68*(1+galDB['hi_res_specz'][i]),linestyle='--', alpha=.3)\n",
    "    plt.axhline(0,linestyle = '--')\n",
    "    plt.axvline(7900,color='r')\n",
    "    plt.axvline(11400,color='r')\n",
    "    plt.xlim(7900,11400)\n",
    "    plt.savefig('../plots/bfits/%s_fits.png' % galDB['gids'][i])\n",
    "    plt.close()"
   ]
  },
  {
   "cell_type": "code",
   "execution_count": 22,
   "metadata": {},
   "outputs": [],
   "source": [
    "mwv, mfl = np.load('../../../fsps_models_for_fit/fsps_spec/m0.019_a4.1_t8.7_spec.npy')"
   ]
  },
  {
   "cell_type": "code",
   "execution_count": 28,
   "metadata": {},
   "outputs": [
    {
     "data": {
      "image/png": "[encoded data removed]",
      "text/plain": [
       "<matplotlib.figure.Figure at 0x11502f410>"
      ]
     },
     "metadata": {},
     "output_type": "display_data"
    }
   ],
   "source": [
    "%matplotlib inline\n",
    "\n",
    "IDX = [U for U in range(len(wv)) if 8000 < wv[U] < 11400]\n",
    "\n",
    "plt.figure(figsize=[15,5])\n",
    "plt.plot(mwv,mfl)\n",
    "plt.axvline(7800/(2.022),color='r')\n",
    "plt.axvline(11550/(2.022),color='r')\n",
    "plt.xlim(3800,5800)\n",
    "plt.show()"
   ]
  },
  {
   "cell_type": "code",
   "execution_count": 13,
   "metadata": {},
   "outputs": [],
   "source": [
    "dat = fits.open('../../../../../../Volumes/Vince_research/Extractions/Quiescent_galaxies/s39170/ERSPRIME-19-122-G102_39170.1D.fits')"
   ]
  },
  {
   "cell_type": "code",
   "execution_count": 19,
   "metadata": {},
   "outputs": [],
   "source": [
    "wave = dat[1].data['wave']\n",
    "sens = dat[1].data['sensitivity']"
   ]
  },
  {
   "cell_type": "code",
   "execution_count": 25,
   "metadata": {},
   "outputs": [
    {
     "data": {
      "image/png": "[encoded data removed]",
      "text/plain": [
       "<matplotlib.figure.Figure at 0x11812f2d0>"
      ]
     },
     "metadata": {},
     "output_type": "display_data"
    }
   ],
   "source": [
    "plt.figure(figsize=[15,5])\n",
    "plt.plot(wave,sens/max(sens))\n",
    "plt.axhline(.2)\n",
    "plt.axvline(7900)\n",
    "plt.axvline(8000,color='r')\n",
    "plt.axvline(11300)\n",
    "plt.axvline(11400,color='r')\n",
    "plt.show()"
   ]
  },
  {
   "cell_type": "code",
   "execution_count": 16,
   "metadata": {},
   "outputs": [],
   "source": [
    "qDB = pd.read_pickle('../data/sample_gal_DB.pkl')"
   ]
  },
  {
   "cell_type": "code",
   "execution_count": 17,
   "metadata": {},
   "outputs": [
    {
     "data": {
      "text/plain": [
       "35"
      ]
     },
     "execution_count": 17,
     "metadata": {},
     "output_type": "execute_result"
    }
   ],
   "source": [
    "len(qDB.index)"
   ]
  },
  {
   "cell_type": "code",
   "execution_count": null,
   "metadata": {},
   "outputs": [],
   "source": [
    ""
   ]
  }
 ],
 "metadata": {
  "kernelspec": {
   "display_name": "Python 2",
   "language": "python",
   "name": "python2"
  },
  "language_info": {
   "codemirror_mode": {
    "name": "ipython",
    "version": 2.0
   },
   "file_extension": ".py",
   "mimetype": "text/x-python",
   "name": "python",
   "nbconvert_exporter": "python",
   "pygments_lexer": "ipython2",
   "version": "2.7.6"
  }
 },
 "nbformat": 4,
 "nbformat_minor": 0
}