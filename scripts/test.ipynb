{
 "cells": [
  {
   "cell_type": "code",
   "execution_count": 44,
   "metadata": {
    "collapsed": true
   },
   "outputs": [],
   "source": [
    "import numpy as np\n",
    "import matplotlib.pyplot as plt\n",
    "from spec_id import Gen_spec, Median_w_Error_cont,Median_w_Error, Gen_spec, Oldest_galaxy\n",
    "import seaborn as sea\n",
    "import pandas as pd\n",
    "from glob import glob\n",
    "from astropy.io import fits\n",
    "from astropy.table import Table\n",
    "sea.set(style='white')\n",
    "sea.set(style='ticks')\n",
    "sea.set_style({\"xtick.direction\": \"in\",\"ytick.direction\": \"in\"})\n",
    "colmap = sea.cubehelix_palette(12, start=2, rot=.2, dark=0, light=1.1, as_cmap=True)\n",
    "%matplotlib inline"
   ]
  },
  {
   "cell_type": "code",
   "execution_count": 41,
   "metadata": {},
   "outputs": [],
   "source": [
    "galDB = pd.read_pickle('../data/sgal_param_DB.pkl')\n",
    "galDB = galDB.query('ids != 14713 and ids != 38126 and ids != 48631')\n",
    "lzDB = galDB.query('hi_res_specz < 1.16')\n",
    "mzDB = galDB.query('1.16 < hi_res_specz < 1.3')\n",
    "hzDB = galDB.query('1.3 < hi_res_specz < 1.45')\n",
    "uhzDB = galDB.query('1.45 < hi_res_specz')\n",
    "\n",
    "metal=np.arange(0.002,0.031,0.001)\n",
    "age=np.arange(.5,6.1,.1)\n",
    "tau=[0,8.0, 8.3, 8.48, 8.6, 8.7, 8.78, 8.85, 8.9, 8.95, 9.0, 9.04, 9.08, 9.11, 9.15, 9.18, 9.2, 9.23, 9.26, 9.28,\n",
    "     9.3, 9.32, 9.34, 9.36, 9.38, 9.4, 9.41, 9.43, 9.45, 9.46, 9.48]\n",
    "M,A=np.meshgrid(metal,age)"
   ]
  },
  {
   "cell_type": "markdown",
   "metadata": {},
   "source": [
    "WFC3/IR coverage : 136\" X 123\"\n",
    "\n",
    "Area: 16728 arcsec$^2$\n",
    "\n",
    "$dV_c = D_H \\frac{(1+z)^2 D^2_A}{E(z)} d\\Omega \\: dz$\n",
    "\n",
    "$D_H = \\frac{c}{H_0} $\n",
    "\n",
    "$H_0 = 100 \\; h  \\; km \\; s^{-1} Mpc^{-1} $\n",
    "\n",
    "$D_A = \\frac{D_M}{1+z} $\n",
    "\n",
    "$E(z) = \\sqrt{\\Omega_M (1+z)^3 + \\Omega_k (1+z)^2 + \\Omega_\\Lambda}$\n",
    "\n",
    "$D_M = D_C$\n",
    "\n",
    "$D_C = D_H \\int_0^z \\frac{dz'}{E(z')}$\n",
    "\n",
    "$\\Omega_M = 0.3$\n",
    "\n",
    "$\\Omega_\\Lambda = 0.7$\n",
    "\n",
    "$h = 0.7$\n",
    "\n",
    "$radians = 206265\"$\n",
    "\n",
    "$side A = 6.59 X 10^{-4} \\: rad$\n",
    "\n",
    "$side B = 5.96 X 10^{-4} \\: rad$\n",
    "\n",
    "Total solid angle = $3.928 X 10^{-7} \\: sterad$"
   ]
  },
  {
   "cell_type": "code",
   "execution_count": 4,
   "metadata": {},
   "outputs": [
    {
     "data": {
      "text/plain": [
       "16728"
      ]
     },
     "execution_count": 4,
     "metadata": {},
     "output_type": "execute_result"
    }
   ],
   "source": [
    "136*123"
   ]
  },
  {
   "cell_type": "code",
   "execution_count": 5,
   "metadata": {},
   "outputs": [
    {
     "data": {
      "text/plain": [
       "0.0006593459869585242"
      ]
     },
     "execution_count": 5,
     "metadata": {},
     "output_type": "execute_result"
    }
   ],
   "source": [
    "136 / 206265."
   ]
  },
  {
   "cell_type": "code",
   "execution_count": 6,
   "metadata": {},
   "outputs": [
    {
     "data": {
      "text/plain": [
       "3.92764e-07"
      ]
     },
     "execution_count": 6,
     "metadata": {},
     "output_type": "execute_result"
    }
   ],
   "source": [
    "6.59E-4 * 5.96E-4"
   ]
  },
  {
   "cell_type": "code",
   "execution_count": 38,
   "metadata": {},
   "outputs": [],
   "source": [
    "def D_H(h):\n",
    "    return 3E5 /(100*h)\n",
    "\n",
    "def E_z(Om,Ok,Ol,z):\n",
    "    return np.sqrt(Om*(1+z)**3 + Ok*(1+z)**2 + Ol)\n",
    "\n",
    "def D_c(Om,Ok,Ol,z,h):\n",
    "    z_range = np.linspace(0,z,100)\n",
    "    \n",
    "    x = np.zeros(100)\n",
    "    for i in range(len(x)):\n",
    "        x[i] = E_z(Om,Ok,Ol,z_range[i])\n",
    "    \n",
    "    return D_H(h)*np.trapz(1/x, z_range)\n",
    "\n",
    "def D_A(Om,Ok,Ol,z,h):\n",
    "    return D_c(Om,Ok,Ol,z,h) / (1+z)\n",
    "\n",
    "def V_c(Om,Ok,Ol,z,h,sA):\n",
    "    #sA = solid angle\n",
    "    z_range = np.linspace(0,z,100)\n",
    "    \n",
    "    x = np.zeros(100)\n",
    "    for i in range(len(x)):\n",
    "        x[i] = ((1+z_range[i])**2 * D_A(Om,Ok,Ol,z_range[i],h)**2) / E_z(Om,Ok,Ol,z_range[i])\n",
    "\n",
    "    return D_H(h) * sA * np.trapz(x,z_range)"
   ]
  },
  {
   "cell_type": "code",
   "execution_count": 43,
   "metadata": {},
   "outputs": [
    {
     "data": {
      "text/plain": [
       "0.00014299431552543826"
      ]
     },
     "execution_count": 43,
     "metadata": {},
     "output_type": "execute_result"
    }
   ],
   "source": [
    "18 / (12 * (V_c(0.3,0,0.7,1.8,0.7,3.928E-7) - V_c(0.3,0,0.7,1,0.7,3.928E-7)))"
   ]
  },
  {
   "cell_type": "code",
   "execution_count": 25,
   "metadata": {},
   "outputs": [
    {
     "data": {
      "text/plain": [
       "8.8068848605177161e-05"
      ]
     },
     "execution_count": 25,
     "metadata": {},
     "output_type": "execute_result"
    }
   ],
   "source": [
    "6 / (12 * (V_c(0.3,0,0.7,1.8,0.7,3.928E-7) - V_c(0.3,0,0.7,1.4,0.7,3.928E-7)))"
   ]
  },
  {
   "cell_type": "code",
   "execution_count": 16,
   "metadata": {},
   "outputs": [
    {
     "data": {
      "text/plain": [
       "125879.1297672099"
      ]
     },
     "execution_count": 16,
     "metadata": {},
     "output_type": "execute_result"
    }
   ],
   "source": [
    "(12 * (V_c(0.3,0,0.7,1.8,0.7,3.928E-7) - V_c(0.3,0,0.7,1,0.7,3.928E-7)))"
   ]
  },
  {
   "cell_type": "code",
   "execution_count": 17,
   "metadata": {},
   "outputs": [
    {
     "data": {
      "text/plain": [
       "320466216311.63409"
      ]
     },
     "execution_count": 17,
     "metadata": {},
     "output_type": "execute_result"
    }
   ],
   "source": [
    "(12 * (V_c(0.3,0,0.7,1.8,0.7,1) - V_c(0.3,0,0.7,1,0.7,1)))"
   ]
  },
  {
   "cell_type": "code",
   "execution_count": 19,
   "metadata": {},
   "outputs": [
    {
     "data": {
      "text/plain": [
       "151.37374566898401"
      ]
     },
     "execution_count": 19,
     "metadata": {},
     "output_type": "execute_result"
    }
   ],
   "source": [
    "V_c(0.3,0,0.7,1,0.7,4*np.pi)/1E9"
   ]
  },
  {
   "cell_type": "code",
   "execution_count": 42,
   "metadata": {},
   "outputs": [
    {
     "data": {
      "text/html": [
       "<div>\n",
       "<style>\n",
       "    .dataframe thead tr:only-child th {\n",
       "        text-align: right;\n",
       "    }\n",
       "\n",
       "    .dataframe thead th {\n",
       "        text-align: left;\n",
       "    }\n",
       "\n",
       "    .dataframe tbody tr th {\n",
       "        vertical-align: top;\n",
       "    }\n",
       "</style>\n",
       "<table border=\"1\" class=\"dataframe\">\n",
       "  <thead>\n",
       "    <tr style=\"text-align: right;\">\n",
       "      <th></th>\n",
       "      <th>gids</th>\n",
       "      <th>ids</th>\n",
       "      <th>ra</th>\n",
       "      <th>dec</th>\n",
       "      <th>hi_res_specz</th>\n",
       "      <th>lmass</th>\n",
       "      <th>tau</th>\n",
       "      <th>Z_f</th>\n",
       "      <th>Z_-_sig_f</th>\n",
       "      <th>Z_+_sig_f</th>\n",
       "      <th>...</th>\n",
       "      <th>t_+_sig_cal</th>\n",
       "      <th>tx_cal</th>\n",
       "      <th>tx_-_sig_cal</th>\n",
       "      <th>tx_+_sig_cal</th>\n",
       "      <th>Zx_cal</th>\n",
       "      <th>Zx_-_sig_cal</th>\n",
       "      <th>Zx_+_sig_cal</th>\n",
       "      <th>Z_cal</th>\n",
       "      <th>Z_-_sig_cal</th>\n",
       "      <th>Z_+_sig_cal</th>\n",
       "    </tr>\n",
       "  </thead>\n",
       "  <tbody>\n",
       "    <tr>\n",
       "      <th>49</th>\n",
       "      <td>n16758</td>\n",
       "      <td>16758</td>\n",
       "      <td>189.162357</td>\n",
       "      <td>62.224840</td>\n",
       "      <td>1.014</td>\n",
       "      <td>10.83</td>\n",
       "      <td>0.00</td>\n",
       "      <td>0.020</td>\n",
       "      <td>0.001</td>\n",
       "      <td>0.002</td>\n",
       "      <td>...</td>\n",
       "      <td>0.666</td>\n",
       "      <td>3.916834</td>\n",
       "      <td>0.716433</td>\n",
       "      <td>0.749499</td>\n",
       "      <td>0.013952</td>\n",
       "      <td>0.001852</td>\n",
       "      <td>0.002693</td>\n",
       "      <td>0.014</td>\n",
       "      <td>0.002</td>\n",
       "      <td>0.003</td>\n",
       "    </tr>\n",
       "    <tr>\n",
       "      <th>50</th>\n",
       "      <td>n17070</td>\n",
       "      <td>17070</td>\n",
       "      <td>189.268086</td>\n",
       "      <td>62.226445</td>\n",
       "      <td>1.192</td>\n",
       "      <td>10.92</td>\n",
       "      <td>8.48</td>\n",
       "      <td>0.011</td>\n",
       "      <td>0.003</td>\n",
       "      <td>0.004</td>\n",
       "      <td>...</td>\n",
       "      <td>0.516</td>\n",
       "      <td>2.043086</td>\n",
       "      <td>0.518036</td>\n",
       "      <td>0.573146</td>\n",
       "      <td>0.011427</td>\n",
       "      <td>0.002918</td>\n",
       "      <td>0.006565</td>\n",
       "      <td>0.012</td>\n",
       "      <td>0.003</td>\n",
       "      <td>0.006</td>\n",
       "    </tr>\n",
       "    <tr>\n",
       "      <th>61</th>\n",
       "      <td>n21156</td>\n",
       "      <td>21156</td>\n",
       "      <td>189.239409</td>\n",
       "      <td>62.247548</td>\n",
       "      <td>1.251</td>\n",
       "      <td>11.16</td>\n",
       "      <td>8.30</td>\n",
       "      <td>0.020</td>\n",
       "      <td>0.005</td>\n",
       "      <td>0.004</td>\n",
       "      <td>...</td>\n",
       "      <td>0.307</td>\n",
       "      <td>2.098196</td>\n",
       "      <td>0.418838</td>\n",
       "      <td>0.308617</td>\n",
       "      <td>0.023884</td>\n",
       "      <td>0.003928</td>\n",
       "      <td>0.003984</td>\n",
       "      <td>0.024</td>\n",
       "      <td>0.004</td>\n",
       "      <td>0.004</td>\n",
       "    </tr>\n",
       "    <tr>\n",
       "      <th>96</th>\n",
       "      <td>n34694</td>\n",
       "      <td>34694</td>\n",
       "      <td>189.147840</td>\n",
       "      <td>62.323647</td>\n",
       "      <td>1.145</td>\n",
       "      <td>10.94</td>\n",
       "      <td>8.30</td>\n",
       "      <td>0.015</td>\n",
       "      <td>0.006</td>\n",
       "      <td>0.005</td>\n",
       "      <td>...</td>\n",
       "      <td>0.963</td>\n",
       "      <td>2.803607</td>\n",
       "      <td>0.462926</td>\n",
       "      <td>0.958918</td>\n",
       "      <td>0.014345</td>\n",
       "      <td>0.004882</td>\n",
       "      <td>0.005667</td>\n",
       "      <td>0.015</td>\n",
       "      <td>0.006</td>\n",
       "      <td>0.005</td>\n",
       "    </tr>\n",
       "    <tr>\n",
       "      <th>107</th>\n",
       "      <td>n37686</td>\n",
       "      <td>37686</td>\n",
       "      <td>189.274474</td>\n",
       "      <td>62.360820</td>\n",
       "      <td>1.258</td>\n",
       "      <td>10.89</td>\n",
       "      <td>8.48</td>\n",
       "      <td>0.016</td>\n",
       "      <td>0.003</td>\n",
       "      <td>0.004</td>\n",
       "      <td>...</td>\n",
       "      <td>0.751</td>\n",
       "      <td>3.068136</td>\n",
       "      <td>0.473948</td>\n",
       "      <td>0.782565</td>\n",
       "      <td>0.014681</td>\n",
       "      <td>0.003928</td>\n",
       "      <td>0.005667</td>\n",
       "      <td>0.015</td>\n",
       "      <td>0.004</td>\n",
       "      <td>0.005</td>\n",
       "    </tr>\n",
       "    <tr>\n",
       "      <th>212</th>\n",
       "      <td>s35774</td>\n",
       "      <td>35774</td>\n",
       "      <td>53.158775</td>\n",
       "      <td>-27.742385</td>\n",
       "      <td>1.223</td>\n",
       "      <td>10.86</td>\n",
       "      <td>8.90</td>\n",
       "      <td>0.008</td>\n",
       "      <td>0.003</td>\n",
       "      <td>0.003</td>\n",
       "      <td>...</td>\n",
       "      <td>0.378</td>\n",
       "      <td>2.803607</td>\n",
       "      <td>0.859719</td>\n",
       "      <td>0.473948</td>\n",
       "      <td>0.008397</td>\n",
       "      <td>0.004433</td>\n",
       "      <td>0.009876</td>\n",
       "      <td>0.009</td>\n",
       "      <td>0.005</td>\n",
       "      <td>0.009</td>\n",
       "    </tr>\n",
       "    <tr>\n",
       "      <th>217</th>\n",
       "      <td>s38785</td>\n",
       "      <td>38785</td>\n",
       "      <td>53.168249</td>\n",
       "      <td>-27.727300</td>\n",
       "      <td>1.175</td>\n",
       "      <td>10.88</td>\n",
       "      <td>8.60</td>\n",
       "      <td>0.019</td>\n",
       "      <td>0.007</td>\n",
       "      <td>0.006</td>\n",
       "      <td>...</td>\n",
       "      <td>0.108</td>\n",
       "      <td>2.054108</td>\n",
       "      <td>0.242485</td>\n",
       "      <td>0.154309</td>\n",
       "      <td>0.026914</td>\n",
       "      <td>0.004377</td>\n",
       "      <td>0.002301</td>\n",
       "      <td>0.027</td>\n",
       "      <td>0.004</td>\n",
       "      <td>0.002</td>\n",
       "    </tr>\n",
       "    <tr>\n",
       "      <th>219</th>\n",
       "      <td>s39012</td>\n",
       "      <td>39012</td>\n",
       "      <td>53.064240</td>\n",
       "      <td>-27.727621</td>\n",
       "      <td>1.632</td>\n",
       "      <td>11.09</td>\n",
       "      <td>8.78</td>\n",
       "      <td>0.019</td>\n",
       "      <td>0.011</td>\n",
       "      <td>0.008</td>\n",
       "      <td>...</td>\n",
       "      <td>0.364</td>\n",
       "      <td>1.877756</td>\n",
       "      <td>0.374749</td>\n",
       "      <td>0.385772</td>\n",
       "      <td>0.021359</td>\n",
       "      <td>0.011222</td>\n",
       "      <td>0.006453</td>\n",
       "      <td>0.022</td>\n",
       "      <td>0.012</td>\n",
       "      <td>0.006</td>\n",
       "    </tr>\n",
       "    <tr>\n",
       "      <th>220</th>\n",
       "      <td>s39170</td>\n",
       "      <td>39170</td>\n",
       "      <td>53.041826</td>\n",
       "      <td>-27.725868</td>\n",
       "      <td>1.022</td>\n",
       "      <td>11.09</td>\n",
       "      <td>8.48</td>\n",
       "      <td>0.023</td>\n",
       "      <td>0.005</td>\n",
       "      <td>0.004</td>\n",
       "      <td>...</td>\n",
       "      <td>0.195</td>\n",
       "      <td>2.219439</td>\n",
       "      <td>1.025050</td>\n",
       "      <td>0.275551</td>\n",
       "      <td>0.028766</td>\n",
       "      <td>0.001964</td>\n",
       "      <td>0.000954</td>\n",
       "      <td>0.029</td>\n",
       "      <td>0.002</td>\n",
       "      <td>0.001</td>\n",
       "    </tr>\n",
       "    <tr>\n",
       "      <th>221</th>\n",
       "      <td>s39241</td>\n",
       "      <td>39241</td>\n",
       "      <td>53.042327</td>\n",
       "      <td>-27.726209</td>\n",
       "      <td>1.019</td>\n",
       "      <td>10.87</td>\n",
       "      <td>8.30</td>\n",
       "      <td>0.022</td>\n",
       "      <td>0.003</td>\n",
       "      <td>0.004</td>\n",
       "      <td>...</td>\n",
       "      <td>0.424</td>\n",
       "      <td>2.506012</td>\n",
       "      <td>0.529058</td>\n",
       "      <td>0.518036</td>\n",
       "      <td>0.023603</td>\n",
       "      <td>0.006397</td>\n",
       "      <td>0.004601</td>\n",
       "      <td>0.024</td>\n",
       "      <td>0.007</td>\n",
       "      <td>0.004</td>\n",
       "    </tr>\n",
       "    <tr>\n",
       "      <th>224</th>\n",
       "      <td>s39804</td>\n",
       "      <td>39804</td>\n",
       "      <td>53.178423</td>\n",
       "      <td>-27.724640</td>\n",
       "      <td>1.333</td>\n",
       "      <td>10.91</td>\n",
       "      <td>8.48</td>\n",
       "      <td>0.018</td>\n",
       "      <td>0.004</td>\n",
       "      <td>0.006</td>\n",
       "      <td>...</td>\n",
       "      <td>0.740</td>\n",
       "      <td>3.057114</td>\n",
       "      <td>0.562124</td>\n",
       "      <td>0.782565</td>\n",
       "      <td>0.013279</td>\n",
       "      <td>0.005331</td>\n",
       "      <td>0.009539</td>\n",
       "      <td>0.014</td>\n",
       "      <td>0.006</td>\n",
       "      <td>0.009</td>\n",
       "    </tr>\n",
       "    <tr>\n",
       "      <th>230</th>\n",
       "      <td>s40597</td>\n",
       "      <td>40597</td>\n",
       "      <td>53.148451</td>\n",
       "      <td>-27.719472</td>\n",
       "      <td>1.221</td>\n",
       "      <td>11.01</td>\n",
       "      <td>8.95</td>\n",
       "      <td>0.029</td>\n",
       "      <td>0.004</td>\n",
       "      <td>0.000</td>\n",
       "      <td>...</td>\n",
       "      <td>0.030</td>\n",
       "      <td>2.263527</td>\n",
       "      <td>0.099198</td>\n",
       "      <td>0.066132</td>\n",
       "      <td>0.028934</td>\n",
       "      <td>0.001571</td>\n",
       "      <td>0.000842</td>\n",
       "      <td>0.029</td>\n",
       "      <td>0.002</td>\n",
       "      <td>0.001</td>\n",
       "    </tr>\n",
       "    <tr>\n",
       "      <th>232</th>\n",
       "      <td>s40862</td>\n",
       "      <td>40862</td>\n",
       "      <td>53.048020</td>\n",
       "      <td>-27.719743</td>\n",
       "      <td>1.328</td>\n",
       "      <td>10.92</td>\n",
       "      <td>8.48</td>\n",
       "      <td>0.024</td>\n",
       "      <td>0.008</td>\n",
       "      <td>0.004</td>\n",
       "      <td>...</td>\n",
       "      <td>0.380</td>\n",
       "      <td>1.161323</td>\n",
       "      <td>0.110220</td>\n",
       "      <td>0.418838</td>\n",
       "      <td>0.023435</td>\n",
       "      <td>0.006565</td>\n",
       "      <td>0.004265</td>\n",
       "      <td>0.024</td>\n",
       "      <td>0.007</td>\n",
       "      <td>0.004</td>\n",
       "    </tr>\n",
       "    <tr>\n",
       "      <th>234</th>\n",
       "      <td>s41148</td>\n",
       "      <td>41148</td>\n",
       "      <td>53.127925</td>\n",
       "      <td>-27.718885</td>\n",
       "      <td>1.758</td>\n",
       "      <td>11.08</td>\n",
       "      <td>8.00</td>\n",
       "      <td>0.029</td>\n",
       "      <td>0.004</td>\n",
       "      <td>0.001</td>\n",
       "      <td>...</td>\n",
       "      <td>0.628</td>\n",
       "      <td>1.822645</td>\n",
       "      <td>0.407816</td>\n",
       "      <td>0.705411</td>\n",
       "      <td>0.027082</td>\n",
       "      <td>0.007743</td>\n",
       "      <td>0.002188</td>\n",
       "      <td>0.028</td>\n",
       "      <td>0.009</td>\n",
       "      <td>0.001</td>\n",
       "    </tr>\n",
       "    <tr>\n",
       "      <th>235</th>\n",
       "      <td>s41520</td>\n",
       "      <td>41520</td>\n",
       "      <td>53.152726</td>\n",
       "      <td>-27.716251</td>\n",
       "      <td>1.603</td>\n",
       "      <td>10.92</td>\n",
       "      <td>0.00</td>\n",
       "      <td>0.026</td>\n",
       "      <td>0.010</td>\n",
       "      <td>0.003</td>\n",
       "      <td>...</td>\n",
       "      <td>0.641</td>\n",
       "      <td>1.547094</td>\n",
       "      <td>0.286573</td>\n",
       "      <td>0.694389</td>\n",
       "      <td>0.016196</td>\n",
       "      <td>0.006733</td>\n",
       "      <td>0.008922</td>\n",
       "      <td>0.017</td>\n",
       "      <td>0.008</td>\n",
       "      <td>0.008</td>\n",
       "    </tr>\n",
       "    <tr>\n",
       "      <th>248</th>\n",
       "      <td>s44042</td>\n",
       "      <td>44042</td>\n",
       "      <td>53.104570</td>\n",
       "      <td>-27.705421</td>\n",
       "      <td>1.611</td>\n",
       "      <td>11.02</td>\n",
       "      <td>8.70</td>\n",
       "      <td>0.028</td>\n",
       "      <td>0.006</td>\n",
       "      <td>0.001</td>\n",
       "      <td>...</td>\n",
       "      <td>0.130</td>\n",
       "      <td>2.208417</td>\n",
       "      <td>0.143287</td>\n",
       "      <td>0.121242</td>\n",
       "      <td>0.027643</td>\n",
       "      <td>0.003198</td>\n",
       "      <td>0.001739</td>\n",
       "      <td>0.028</td>\n",
       "      <td>0.004</td>\n",
       "      <td>0.001</td>\n",
       "    </tr>\n",
       "    <tr>\n",
       "      <th>258</th>\n",
       "      <td>s45972</td>\n",
       "      <td>45972</td>\n",
       "      <td>53.115984</td>\n",
       "      <td>-27.693568</td>\n",
       "      <td>1.038</td>\n",
       "      <td>10.87</td>\n",
       "      <td>8.00</td>\n",
       "      <td>0.012</td>\n",
       "      <td>0.003</td>\n",
       "      <td>0.002</td>\n",
       "      <td>...</td>\n",
       "      <td>0.669</td>\n",
       "      <td>3.685371</td>\n",
       "      <td>0.870741</td>\n",
       "      <td>0.683367</td>\n",
       "      <td>0.010473</td>\n",
       "      <td>0.003816</td>\n",
       "      <td>0.004657</td>\n",
       "      <td>0.011</td>\n",
       "      <td>0.004</td>\n",
       "      <td>0.004</td>\n",
       "    </tr>\n",
       "    <tr>\n",
       "      <th>259</th>\n",
       "      <td>s46066</td>\n",
       "      <td>46066</td>\n",
       "      <td>53.061039</td>\n",
       "      <td>-27.693501</td>\n",
       "      <td>1.327</td>\n",
       "      <td>10.85</td>\n",
       "      <td>0.00</td>\n",
       "      <td>0.022</td>\n",
       "      <td>0.005</td>\n",
       "      <td>0.004</td>\n",
       "      <td>...</td>\n",
       "      <td>0.527</td>\n",
       "      <td>3.464930</td>\n",
       "      <td>0.573146</td>\n",
       "      <td>0.562124</td>\n",
       "      <td>0.019395</td>\n",
       "      <td>0.004713</td>\n",
       "      <td>0.005836</td>\n",
       "      <td>0.020</td>\n",
       "      <td>0.005</td>\n",
       "      <td>0.005</td>\n",
       "    </tr>\n",
       "  </tbody>\n",
       "</table>\n",
       "<p>18 rows × 57 columns</p>\n",
       "</div>"
      ],
      "text/plain": [
       "       gids    ids          ra        dec  hi_res_specz  lmass   tau    Z_f  \\\n",
       "49   n16758  16758  189.162357  62.224840         1.014  10.83  0.00  0.020   \n",
       "50   n17070  17070  189.268086  62.226445         1.192  10.92  8.48  0.011   \n",
       "61   n21156  21156  189.239409  62.247548         1.251  11.16  8.30  0.020   \n",
       "96   n34694  34694  189.147840  62.323647         1.145  10.94  8.30  0.015   \n",
       "107  n37686  37686  189.274474  62.360820         1.258  10.89  8.48  0.016   \n",
       "212  s35774  35774   53.158775 -27.742385         1.223  10.86  8.90  0.008   \n",
       "217  s38785  38785   53.168249 -27.727300         1.175  10.88  8.60  0.019   \n",
       "219  s39012  39012   53.064240 -27.727621         1.632  11.09  8.78  0.019   \n",
       "220  s39170  39170   53.041826 -27.725868         1.022  11.09  8.48  0.023   \n",
       "221  s39241  39241   53.042327 -27.726209         1.019  10.87  8.30  0.022   \n",
       "224  s39804  39804   53.178423 -27.724640         1.333  10.91  8.48  0.018   \n",
       "230  s40597  40597   53.148451 -27.719472         1.221  11.01  8.95  0.029   \n",
       "232  s40862  40862   53.048020 -27.719743         1.328  10.92  8.48  0.024   \n",
       "234  s41148  41148   53.127925 -27.718885         1.758  11.08  8.00  0.029   \n",
       "235  s41520  41520   53.152726 -27.716251         1.603  10.92  0.00  0.026   \n",
       "248  s44042  44042   53.104570 -27.705421         1.611  11.02  8.70  0.028   \n",
       "258  s45972  45972   53.115984 -27.693568         1.038  10.87  8.00  0.012   \n",
       "259  s46066  46066   53.061039 -27.693501         1.327  10.85  0.00  0.022   \n",
       "\n",
       "     Z_-_sig_f  Z_+_sig_f     ...       t_+_sig_cal    tx_cal  tx_-_sig_cal  \\\n",
       "49       0.001      0.002     ...             0.666  3.916834      0.716433   \n",
       "50       0.003      0.004     ...             0.516  2.043086      0.518036   \n",
       "61       0.005      0.004     ...             0.307  2.098196      0.418838   \n",
       "96       0.006      0.005     ...             0.963  2.803607      0.462926   \n",
       "107      0.003      0.004     ...             0.751  3.068136      0.473948   \n",
       "212      0.003      0.003     ...             0.378  2.803607      0.859719   \n",
       "217      0.007      0.006     ...             0.108  2.054108      0.242485   \n",
       "219      0.011      0.008     ...             0.364  1.877756      0.374749   \n",
       "220      0.005      0.004     ...             0.195  2.219439      1.025050   \n",
       "221      0.003      0.004     ...             0.424  2.506012      0.529058   \n",
       "224      0.004      0.006     ...             0.740  3.057114      0.562124   \n",
       "230      0.004      0.000     ...             0.030  2.263527      0.099198   \n",
       "232      0.008      0.004     ...             0.380  1.161323      0.110220   \n",
       "234      0.004      0.001     ...             0.628  1.822645      0.407816   \n",
       "235      0.010      0.003     ...             0.641  1.547094      0.286573   \n",
       "248      0.006      0.001     ...             0.130  2.208417      0.143287   \n",
       "258      0.003      0.002     ...             0.669  3.685371      0.870741   \n",
       "259      0.005      0.004     ...             0.527  3.464930      0.573146   \n",
       "\n",
       "     tx_+_sig_cal    Zx_cal  Zx_-_sig_cal  Zx_+_sig_cal  Z_cal  Z_-_sig_cal  \\\n",
       "49       0.749499  0.013952      0.001852      0.002693  0.014        0.002   \n",
       "50       0.573146  0.011427      0.002918      0.006565  0.012        0.003   \n",
       "61       0.308617  0.023884      0.003928      0.003984  0.024        0.004   \n",
       "96       0.958918  0.014345      0.004882      0.005667  0.015        0.006   \n",
       "107      0.782565  0.014681      0.003928      0.005667  0.015        0.004   \n",
       "212      0.473948  0.008397      0.004433      0.009876  0.009        0.005   \n",
       "217      0.154309  0.026914      0.004377      0.002301  0.027        0.004   \n",
       "219      0.385772  0.021359      0.011222      0.006453  0.022        0.012   \n",
       "220      0.275551  0.028766      0.001964      0.000954  0.029        0.002   \n",
       "221      0.518036  0.023603      0.006397      0.004601  0.024        0.007   \n",
       "224      0.782565  0.013279      0.005331      0.009539  0.014        0.006   \n",
       "230      0.066132  0.028934      0.001571      0.000842  0.029        0.002   \n",
       "232      0.418838  0.023435      0.006565      0.004265  0.024        0.007   \n",
       "234      0.705411  0.027082      0.007743      0.002188  0.028        0.009   \n",
       "235      0.694389  0.016196      0.006733      0.008922  0.017        0.008   \n",
       "248      0.121242  0.027643      0.003198      0.001739  0.028        0.004   \n",
       "258      0.683367  0.010473      0.003816      0.004657  0.011        0.004   \n",
       "259      0.562124  0.019395      0.004713      0.005836  0.020        0.005   \n",
       "\n",
       "     Z_+_sig_cal  \n",
       "49         0.003  \n",
       "50         0.006  \n",
       "61         0.004  \n",
       "96         0.005  \n",
       "107        0.005  \n",
       "212        0.009  \n",
       "217        0.002  \n",
       "219        0.006  \n",
       "220        0.001  \n",
       "221        0.004  \n",
       "224        0.009  \n",
       "230        0.001  \n",
       "232        0.004  \n",
       "234        0.001  \n",
       "235        0.008  \n",
       "248        0.001  \n",
       "258        0.004  \n",
       "259        0.005  \n",
       "\n",
       "[18 rows x 57 columns]"
      ]
     },
     "execution_count": 42,
     "metadata": {},
     "output_type": "execute_result"
    }
   ],
   "source": [
    "galDB[galDB.lmass > 10.8]"
   ]
  },
  {
   "cell_type": "code",
   "execution_count": 26,
   "metadata": {},
   "outputs": [],
   "source": [
    "galDB = pd.read_pickle('../data/sgal_param_DB.pkl')\n"
   ]
  },
  {
   "cell_type": "code",
   "execution_count": 27,
   "metadata": {},
   "outputs": [
    {
     "data": {
      "text/plain": [
       "48631"
      ]
     },
     "execution_count": 27,
     "metadata": {},
     "output_type": "execute_result"
    }
   ],
   "source": [
    "galDB.ids[270]"
   ]
  },
  {
   "cell_type": "code",
   "execution_count": 29,
   "metadata": {},
   "outputs": [
    {
     "name": "stdout",
     "output_type": "stream",
     "text": [
      "No TEAL-based tasks available for this package!\n",
      "../data/galaxy_flts/s48631_flt: photutils.detect_sources (detect_thresh=0.0, grow_seg=5, gauss_fwhm=2.0, ZP=0.0)\n",
      "../data/galaxy_flts/s48631_flt: photutils.source_properties\n",
      "Rename column: ycentroid -> y_flt\n",
      "Rename column: ra_icrs_centroid -> ra\n",
      "Rename column: dec_icrs_centroid -> dec\n",
      "Rename column: xcentroid -> x_flt\n",
      "\u001b[1A\u001b[1M../data/galaxy_flts/s48631_flt: photutils.source_properties - 2 objects\n",
      "../data/galaxy_flts/s48631_flt: save ../data/galaxy_flts/s48631_flt.detect_seg.fits, ../data/galaxy_flts/s48631_flt.detect.cat\n"
     ]
    },
    {
     "name": "stderr",
     "output_type": "stream",
     "text": [
      "WARNING: AstropyDeprecationWarning: \"clobber\" was deprecated in version 2.0 and will be removed in a future version. Use argument \"overwrite\" instead. [astropy.utils.decorators]\n"
     ]
    }
   ],
   "source": [
    "spec =  Gen_spec(galDB.gids[270],galDB.hi_res_specz[270])"
   ]
  },
  {
   "cell_type": "code",
   "execution_count": 30,
   "metadata": {},
   "outputs": [
    {
     "name": "stderr",
     "output_type": "stream",
     "text": [
      "/Users/vestrada/miniconda2/envs/astroconda/lib/python2.7/site-packages/grizli/model.py:496: RuntimeWarning: invalid value encountered in divide\n",
      "  self.optimal_profile = m/m.sum(axis=0)\n"
     ]
    }
   ],
   "source": [
    "spec.Median_spec(galDB.Z_lwa[270],galDB.t_lwa[270],tau)"
   ]
  },
  {
   "cell_type": "code",
   "execution_count": 32,
   "metadata": {},
   "outputs": [
    {
     "data": {
      "text/plain": [
       "[<matplotlib.lines.Line2D at 0x11210d450>]"
      ]
     },
     "execution_count": 32,
     "metadata": {},
     "output_type": "execute_result"
    },
    {
     "data": {
      "image/png": "[encoded data removed]",
      "text/plain": [
       "<matplotlib.figure.Figure at 0x112176050>"
      ]
     },
     "metadata": {},
     "output_type": "display_data"
    }
   ],
   "source": [
    "plt.figure(figsize=[16,8])\n",
    "plt.errorbar(spec.gal_wv_rf, spec.gal_fl, spec.gal_er, fmt='o')\n",
    "plt.plot(spec.gal_wv_rf, spec.fl,'r')"
   ]
  },
  {
   "cell_type": "code",
   "execution_count": 33,
   "metadata": {},
   "outputs": [
    {
     "name": "stdout",
     "output_type": "stream",
     "text": [
      "1.42105263158 4.7\n"
     ]
    }
   ],
   "source": [
    "print galDB.Z_lwa[270]/0.019,galDB.t_lwa[270]"
   ]
  },
  {
   "cell_type": "code",
   "execution_count": 30,
   "metadata": {},
   "outputs": [],
   "source": [
    "Z,PZ = np.load('../chidat/s48631_dtau_Z_pos_lwa_3.npy')\n",
    "t,Pt = np.load('../chidat/s48631_dtau_t_pos_lwa_3.npy')"
   ]
  },
  {
   "cell_type": "code",
   "execution_count": 31,
   "metadata": {},
   "outputs": [
    {
     "data": {
      "text/plain": [
       "[<matplotlib.lines.Line2D at 0x119467b50>]"
      ]
     },
     "execution_count": 31,
     "metadata": {},
     "output_type": "execute_result"
    },
    {
     "data": {
      "image/png": "[encoded data removed]",
      "text/plain": [
       "<matplotlib.figure.Figure at 0x11994a310>"
      ]
     },
     "metadata": {},
     "output_type": "display_data"
    },
    {
     "data": {
      "image/png": "[encoded data removed]",
      "text/plain": [
       "<matplotlib.figure.Figure at 0x11953fc10>"
      ]
     },
     "metadata": {},
     "output_type": "display_data"
    }
   ],
   "source": [
    "plt.figure(figsize=[8,8])\n",
    "\n",
    "plt.plot(Z,PZ)\n",
    "\n",
    "plt.figure(figsize=[8,8])\n",
    "plt.plot(t,Pt)"
   ]
  },
  {
   "cell_type": "code",
   "execution_count": 21,
   "metadata": {},
   "outputs": [
    {
     "data": {
      "text/html": [
       "<div>\n",
       "<style>\n",
       "    .dataframe thead tr:only-child th {\n",
       "        text-align: right;\n",
       "    }\n",
       "\n",
       "    .dataframe thead th {\n",
       "        text-align: left;\n",
       "    }\n",
       "\n",
       "    .dataframe tbody tr th {\n",
       "        vertical-align: top;\n",
       "    }\n",
       "</style>\n",
       "<table border=\"1\" class=\"dataframe\">\n",
       "  <thead>\n",
       "    <tr style=\"text-align: right;\">\n",
       "      <th></th>\n",
       "      <th>gids</th>\n",
       "      <th>ids</th>\n",
       "      <th>ra</th>\n",
       "      <th>dec</th>\n",
       "      <th>hi_res_specz</th>\n",
       "      <th>lmass</th>\n",
       "      <th>tau</th>\n",
       "      <th>Z_f</th>\n",
       "      <th>Z_-_sig_f</th>\n",
       "      <th>Z_+_sig_f</th>\n",
       "      <th>...</th>\n",
       "      <th>t_+_sig_cal</th>\n",
       "      <th>tx_cal</th>\n",
       "      <th>tx_-_sig_cal</th>\n",
       "      <th>tx_+_sig_cal</th>\n",
       "      <th>Zx_cal</th>\n",
       "      <th>Zx_-_sig_cal</th>\n",
       "      <th>Zx_+_sig_cal</th>\n",
       "      <th>Z_cal</th>\n",
       "      <th>Z_-_sig_cal</th>\n",
       "      <th>Z_+_sig_cal</th>\n",
       "    </tr>\n",
       "  </thead>\n",
       "  <tbody>\n",
       "    <tr>\n",
       "      <th>62</th>\n",
       "      <td>n21427</td>\n",
       "      <td>21427</td>\n",
       "      <td>189.368121</td>\n",
       "      <td>62.247344</td>\n",
       "      <td>1.514</td>\n",
       "      <td>10.73</td>\n",
       "      <td>8.48</td>\n",
       "      <td>0.019</td>\n",
       "      <td>0.010</td>\n",
       "      <td>0.007</td>\n",
       "      <td>...</td>\n",
       "      <td>0.514</td>\n",
       "      <td>2.329659</td>\n",
       "      <td>0.584168</td>\n",
       "      <td>0.584168</td>\n",
       "      <td>0.017543</td>\n",
       "      <td>0.008810</td>\n",
       "      <td>0.008529</td>\n",
       "      <td>0.018</td>\n",
       "      <td>0.009</td>\n",
       "      <td>0.008</td>\n",
       "    </tr>\n",
       "    <tr>\n",
       "      <th>219</th>\n",
       "      <td>s39012</td>\n",
       "      <td>39012</td>\n",
       "      <td>53.064240</td>\n",
       "      <td>-27.727621</td>\n",
       "      <td>1.632</td>\n",
       "      <td>11.09</td>\n",
       "      <td>8.78</td>\n",
       "      <td>0.019</td>\n",
       "      <td>0.011</td>\n",
       "      <td>0.008</td>\n",
       "      <td>...</td>\n",
       "      <td>0.364</td>\n",
       "      <td>1.877756</td>\n",
       "      <td>0.374749</td>\n",
       "      <td>0.385772</td>\n",
       "      <td>0.021359</td>\n",
       "      <td>0.011222</td>\n",
       "      <td>0.006453</td>\n",
       "      <td>0.022</td>\n",
       "      <td>0.012</td>\n",
       "      <td>0.006</td>\n",
       "    </tr>\n",
       "    <tr>\n",
       "      <th>227</th>\n",
       "      <td>s40223</td>\n",
       "      <td>40223</td>\n",
       "      <td>53.124956</td>\n",
       "      <td>-27.722957</td>\n",
       "      <td>1.595</td>\n",
       "      <td>10.66</td>\n",
       "      <td>8.60</td>\n",
       "      <td>0.018</td>\n",
       "      <td>0.009</td>\n",
       "      <td>0.008</td>\n",
       "      <td>...</td>\n",
       "      <td>0.219</td>\n",
       "      <td>1.976954</td>\n",
       "      <td>0.297595</td>\n",
       "      <td>0.242485</td>\n",
       "      <td>0.022144</td>\n",
       "      <td>0.009034</td>\n",
       "      <td>0.005611</td>\n",
       "      <td>0.023</td>\n",
       "      <td>0.010</td>\n",
       "      <td>0.005</td>\n",
       "    </tr>\n",
       "    <tr>\n",
       "      <th>234</th>\n",
       "      <td>s41148</td>\n",
       "      <td>41148</td>\n",
       "      <td>53.127925</td>\n",
       "      <td>-27.718885</td>\n",
       "      <td>1.758</td>\n",
       "      <td>11.08</td>\n",
       "      <td>8.00</td>\n",
       "      <td>0.029</td>\n",
       "      <td>0.004</td>\n",
       "      <td>0.001</td>\n",
       "      <td>...</td>\n",
       "      <td>0.628</td>\n",
       "      <td>1.822645</td>\n",
       "      <td>0.407816</td>\n",
       "      <td>0.705411</td>\n",
       "      <td>0.027082</td>\n",
       "      <td>0.007743</td>\n",
       "      <td>0.002188</td>\n",
       "      <td>0.028</td>\n",
       "      <td>0.009</td>\n",
       "      <td>0.001</td>\n",
       "    </tr>\n",
       "    <tr>\n",
       "      <th>235</th>\n",
       "      <td>s41520</td>\n",
       "      <td>41520</td>\n",
       "      <td>53.152726</td>\n",
       "      <td>-27.716251</td>\n",
       "      <td>1.603</td>\n",
       "      <td>10.92</td>\n",
       "      <td>0.00</td>\n",
       "      <td>0.026</td>\n",
       "      <td>0.010</td>\n",
       "      <td>0.003</td>\n",
       "      <td>...</td>\n",
       "      <td>0.641</td>\n",
       "      <td>1.547094</td>\n",
       "      <td>0.286573</td>\n",
       "      <td>0.694389</td>\n",
       "      <td>0.016196</td>\n",
       "      <td>0.006733</td>\n",
       "      <td>0.008922</td>\n",
       "      <td>0.017</td>\n",
       "      <td>0.008</td>\n",
       "      <td>0.008</td>\n",
       "    </tr>\n",
       "    <tr>\n",
       "      <th>236</th>\n",
       "      <td>s41659</td>\n",
       "      <td>41659</td>\n",
       "      <td>53.096114</td>\n",
       "      <td>-27.716302</td>\n",
       "      <td>1.620</td>\n",
       "      <td>10.30</td>\n",
       "      <td>8.90</td>\n",
       "      <td>0.018</td>\n",
       "      <td>0.010</td>\n",
       "      <td>0.008</td>\n",
       "      <td>...</td>\n",
       "      <td>0.510</td>\n",
       "      <td>1.480962</td>\n",
       "      <td>0.429860</td>\n",
       "      <td>0.529058</td>\n",
       "      <td>0.018160</td>\n",
       "      <td>0.009427</td>\n",
       "      <td>0.008305</td>\n",
       "      <td>0.019</td>\n",
       "      <td>0.010</td>\n",
       "      <td>0.007</td>\n",
       "    </tr>\n",
       "    <tr>\n",
       "      <th>248</th>\n",
       "      <td>s44042</td>\n",
       "      <td>44042</td>\n",
       "      <td>53.104570</td>\n",
       "      <td>-27.705421</td>\n",
       "      <td>1.611</td>\n",
       "      <td>11.02</td>\n",
       "      <td>8.70</td>\n",
       "      <td>0.028</td>\n",
       "      <td>0.006</td>\n",
       "      <td>0.001</td>\n",
       "      <td>...</td>\n",
       "      <td>0.130</td>\n",
       "      <td>2.208417</td>\n",
       "      <td>0.143287</td>\n",
       "      <td>0.121242</td>\n",
       "      <td>0.027643</td>\n",
       "      <td>0.003198</td>\n",
       "      <td>0.001739</td>\n",
       "      <td>0.028</td>\n",
       "      <td>0.004</td>\n",
       "      <td>0.001</td>\n",
       "    </tr>\n",
       "  </tbody>\n",
       "</table>\n",
       "<p>7 rows × 57 columns</p>\n",
       "</div>"
      ],
      "text/plain": [
       "       gids    ids          ra        dec  hi_res_specz  lmass   tau    Z_f  \\\n",
       "62   n21427  21427  189.368121  62.247344         1.514  10.73  8.48  0.019   \n",
       "219  s39012  39012   53.064240 -27.727621         1.632  11.09  8.78  0.019   \n",
       "227  s40223  40223   53.124956 -27.722957         1.595  10.66  8.60  0.018   \n",
       "234  s41148  41148   53.127925 -27.718885         1.758  11.08  8.00  0.029   \n",
       "235  s41520  41520   53.152726 -27.716251         1.603  10.92  0.00  0.026   \n",
       "236  s41659  41659   53.096114 -27.716302         1.620  10.30  8.90  0.018   \n",
       "248  s44042  44042   53.104570 -27.705421         1.611  11.02  8.70  0.028   \n",
       "\n",
       "     Z_-_sig_f  Z_+_sig_f     ...       t_+_sig_cal    tx_cal  tx_-_sig_cal  \\\n",
       "62       0.010      0.007     ...             0.514  2.329659      0.584168   \n",
       "219      0.011      0.008     ...             0.364  1.877756      0.374749   \n",
       "227      0.009      0.008     ...             0.219  1.976954      0.297595   \n",
       "234      0.004      0.001     ...             0.628  1.822645      0.407816   \n",
       "235      0.010      0.003     ...             0.641  1.547094      0.286573   \n",
       "236      0.010      0.008     ...             0.510  1.480962      0.429860   \n",
       "248      0.006      0.001     ...             0.130  2.208417      0.143287   \n",
       "\n",
       "     tx_+_sig_cal    Zx_cal  Zx_-_sig_cal  Zx_+_sig_cal  Z_cal  Z_-_sig_cal  \\\n",
       "62       0.584168  0.017543      0.008810      0.008529  0.018        0.009   \n",
       "219      0.385772  0.021359      0.011222      0.006453  0.022        0.012   \n",
       "227      0.242485  0.022144      0.009034      0.005611  0.023        0.010   \n",
       "234      0.705411  0.027082      0.007743      0.002188  0.028        0.009   \n",
       "235      0.694389  0.016196      0.006733      0.008922  0.017        0.008   \n",
       "236      0.529058  0.018160      0.009427      0.008305  0.019        0.010   \n",
       "248      0.121242  0.027643      0.003198      0.001739  0.028        0.004   \n",
       "\n",
       "     Z_+_sig_cal  \n",
       "62         0.008  \n",
       "219        0.006  \n",
       "227        0.005  \n",
       "234        0.001  \n",
       "235        0.008  \n",
       "236        0.007  \n",
       "248        0.001  \n",
       "\n",
       "[7 rows x 57 columns]"
      ]
     },
     "execution_count": 21,
     "metadata": {},
     "output_type": "execute_result"
    }
   ],
   "source": [
    "uhzDB"
   ]
  },
  {
   "cell_type": "code",
   "execution_count": 35,
   "metadata": {},
   "outputs": [
    {
     "data": {
      "text/plain": [
       "56872452936.21385"
      ]
     },
     "execution_count": 35,
     "metadata": {},
     "output_type": "execute_result"
    }
   ],
   "source": [
    "10**10.6 / 0.7"
   ]
  },
  {
   "cell_type": "code",
   "execution_count": 36,
   "metadata": {},
   "outputs": [
    {
     "data": {
      "text/plain": [
       "10.754901959985743"
      ]
     },
     "execution_count": 36,
     "metadata": {},
     "output_type": "execute_result"
    }
   ],
   "source": [
    "np.log10(10**10.6 / 0.7)"
   ]
  },
  {
   "cell_type": "code",
   "execution_count": 47,
   "metadata": {},
   "outputs": [
    {
     "data": {
      "text/plain": [
       "7.3105512706317874"
      ]
     },
     "execution_count": 47,
     "metadata": {},
     "output_type": "execute_result"
    }
   ],
   "source": [
    "Oldest_galaxy(.7)"
   ]
  },
  {
   "cell_type": "code",
   "execution_count": 46,
   "metadata": {},
   "outputs": [
    {
     "data": {
      "text/plain": [
       "2.1489219706001306"
      ]
     },
     "execution_count": 46,
     "metadata": {},
     "output_type": "execute_result"
    }
   ],
   "source": [
    "Oldest_galaxy(3)"
   ]
  },
  {
   "cell_type": "code",
   "execution_count": null,
   "metadata": {},
   "outputs": [],
   "source": []
  }
 ],
 "metadata": {
  "kernelspec": {
   "display_name": "Python 2",
   "language": "python",
   "name": "python2"
  },
  "language_info": {
   "codemirror_mode": {
    "name": "ipython",
    "version": 2
   },
   "file_extension": ".py",
   "mimetype": "text/x-python",
   "name": "python",
   "nbconvert_exporter": "python",
   "pygments_lexer": "ipython2",
   "version": "2.7.13"
  }
 },
 "nbformat": 4,
 "nbformat_minor": 2
}
