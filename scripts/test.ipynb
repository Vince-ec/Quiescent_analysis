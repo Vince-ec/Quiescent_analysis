{
 "cells": [
  {
   "cell_type": "code",
   "execution_count": 22,
   "metadata": {
    "collapsed": true
   },
   "outputs": [],
   "source": [
    "import numpy as np\n",
    "import matplotlib.pyplot as plt\n",
    "import seaborn as sea\n",
    "from spec_id import Oldest_galaxy,Likelihood_contours\n",
    "from scipy.interpolate import interp1d,interp2d\n",
    "from grizli.multifit import GroupFLT, MultiBeam, get_redshift_fit_defaults\n",
    "import grizli.model\n",
    "from astropy.io import fits\n",
    "import pandas as pd\n",
    "from glob import glob\n",
    "from matplotlib.gridspec import GridSpec\n",
    "from astropy.io import fits\n",
    "from astropy.table import Table\n",
    "sea.set(style='white')\n",
    "sea.set(style='ticks')\n",
    "sea.set_style({\"xtick.direction\": \"in\",\"ytick.direction\": \"in\"})\n",
    "cmap = sea.cubehelix_palette(12, start=2, rot=.2, dark=0, light=1.1, as_cmap=True)\n",
    "%matplotlib inline"
   ]
  },
  {
   "cell_type": "code",
   "execution_count": 6,
   "metadata": {},
   "outputs": [],
   "source": [
    "metal=np.round(np.arange(0.002,0.031,0.001),3)\n",
    "age=np.round(np.arange(.5,6.1,.1),1)\n",
    "tau=[0,8.0, 8.3, 8.48, 8.6, 8.7, 8.78, 8.85, 8.9, 8.95, 9.0, 9.04, 9.08, 9.11, 9.15, 9.18, 9.2, 9.23, 9.26, 9.28,\n",
    "     9.3, 9.32, 9.34, 9.36, 9.38, 9.4, 9.41, 9.43, 9.45, 9.46, 9.48]\n",
    "M,A=np.meshgrid(metal,age)"
   ]
  },
  {
   "cell_type": "code",
   "execution_count": 53,
   "metadata": {},
   "outputs": [],
   "source": [
    "specz = 1.248\n",
    "chifile = '../chidat/s39170_full_fit_d0_chidata.npy'\n",
    "rshift,Pz = np.load('../chidat/s39170_full_fit_rs_pos.npy')"
   ]
  },
  {
   "cell_type": "code",
   "execution_count": 54,
   "metadata": {},
   "outputs": [],
   "source": [
    "max_age = Oldest_galaxy(1.023)\n",
    "\n",
    "####### Read in file   \n",
    "chi = np.load(chifile)\n",
    "\n",
    "chi[ : , len(age[age <= max_age]):,:,:] = 1E5"
   ]
  },
  {
   "cell_type": "code",
   "execution_count": 35,
   "metadata": {},
   "outputs": [
    {
     "data": {
      "text/plain": [
       "(41, 31, 56, 29)"
      ]
     },
     "execution_count": 35,
     "metadata": {},
     "output_type": "execute_result"
    }
   ],
   "source": [
    "chi.T.shape"
   ]
  },
  {
   "cell_type": "code",
   "execution_count": 61,
   "metadata": {},
   "outputs": [
    {
     "data": {
      "text/plain": [
       "1.0229999999999999094"
      ]
     },
     "execution_count": 61,
     "metadata": {},
     "output_type": "execute_result"
    }
   ],
   "source": [
    "rshift[20]"
   ]
  },
  {
   "cell_type": "code",
   "execution_count": 62,
   "metadata": {},
   "outputs": [],
   "source": [
    "subchi = chi.T[20].T"
   ]
  },
  {
   "cell_type": "code",
   "execution_count": 45,
   "metadata": {},
   "outputs": [
    {
     "data": {
      "text/plain": [
       "(29, 56, 31)"
      ]
     },
     "execution_count": 45,
     "metadata": {},
     "output_type": "execute_result"
    }
   ],
   "source": [
    "subchi.shape"
   ]
  },
  {
   "cell_type": "code",
   "execution_count": 63,
   "metadata": {},
   "outputs": [],
   "source": [
    "\n",
    "####### Get scaling factor for tau reshaping\n",
    "ultau = np.append(0, np.power(10, np.array(tau)[1:] - 9))\n",
    "\n",
    "convtable = np.load('../data/light_weight_scaling_3.npy')\n",
    "\n",
    "overhead = np.zeros([len(tau),metal.size]).astype(int)\n",
    "for i in range(len(tau)):\n",
    "    for ii in range(metal.size):\n",
    "        amt=[]\n",
    "        for iii in range(age.size):\n",
    "            if age[iii] > convtable.T[i].T[ii][-1]:\n",
    "                amt.append(1)\n",
    "        overhead[i][ii] = sum(amt)\n",
    "\n",
    "######## get Pd and Pz\n",
    "# P_full = np.exp(- chi / 2).astype(np.float128)\n",
    "\n",
    "# P = np.trapz(P_full, rshift, axis=3)\n",
    "P = np.exp(- subchi / 2).astype(np.float128)\n",
    "new_P = np.zeros(P.T.shape)\n",
    "\n",
    "######## Reshape likelihood to get light weighted age instead of age when marginalized\n",
    "for i in range(len(tau)):\n",
    "    frame = np.zeros([metal.size,age.size])\n",
    "    for ii in range(metal.size):\n",
    "        dist = interp1d(convtable.T[i].T[ii],P.T[i].T[ii])(age[:-overhead[i][ii]])\n",
    "        frame[ii] = np.append(dist,np.repeat(0, overhead[i][ii]))\n",
    "    new_P[i] = frame.T\n",
    "\n",
    "####### Create normalize probablity marginalized over tau\n",
    "P = new_P.T\n",
    "\n",
    "# test_prob = np.trapz(test_P, ultau, axis=2)\n",
    "C = np.trapz(np.trapz(np.trapz(P, ultau, axis=2), age, axis=1), metal)\n",
    "\n",
    "P /= C\n",
    "\n",
    "prob = np.trapz(P, ultau, axis=2)\n",
    "\n",
    "# #### Get Z, t, tau, and z posteriors\n",
    "PZ = np.trapz(np.trapz(P, ultau, axis=2), age, axis=1)\n",
    "Pt = np.trapz(np.trapz(P, ultau, axis=2).T, metal, axis=1)\n",
    "Ptau = np.trapz(np.trapz(P.T, metal, axis=2), age, axis=1)"
   ]
  },
  {
   "cell_type": "code",
   "execution_count": 64,
   "metadata": {},
   "outputs": [
    {
     "data": {
      "text/plain": [
       "[0, 0.03, 0, 6]"
      ]
     },
     "execution_count": 64,
     "metadata": {},
     "output_type": "execute_result"
    },
    {
     "data": {
      "image/png": "[encoded data removed]",
      "text/plain": [
       "<Figure size 432x288 with 1 Axes>"
      ]
     },
     "metadata": {},
     "output_type": "display_data"
    }
   ],
   "source": [
    "onesig,twosig = Likelihood_contours(age,metal,prob.T)\n",
    "levels = np.array([twosig,onesig])\n",
    "\n",
    "plt.contour(M,A,prob.T,levels,colors='k',linewidths=2)\n",
    "plt.contourf(M,A,prob.T,40,cmap=cmap)\n",
    "plt.axis([0,0.03,0,6])"
   ]
  },
  {
   "cell_type": "code",
   "execution_count": 87,
   "metadata": {},
   "outputs": [
    {
     "data": {
      "text/plain": [
       "[0, 0.03, 0, 6]"
      ]
     },
     "execution_count": 87,
     "metadata": {},
     "output_type": "execute_result"
    },
    {
     "data": {
      "image/png": "[encoded data removed]",
      "text/plain": [
       "<Figure size 432x288 with 1 Axes>"
      ]
     },
     "metadata": {},
     "output_type": "display_data"
    }
   ],
   "source": [
    "P2= np.load('../chidat/s39170_dtau_tZ_pos_lwa_3.npy')\n",
    "onesig,twosig = Likelihood_contours(age,metal,P2)\n",
    "levels = np.array([twosig,onesig])\n",
    "\n",
    "plt.contour(M,A,P2,levels,colors='k',linewidths=2)\n",
    "plt.contourf(M,A,P2,40,cmap=cmap)\n",
    "plt.axis([0,0.03,0,6])"
   ]
  },
  {
   "cell_type": "code",
   "execution_count": 65,
   "metadata": {},
   "outputs": [
    {
     "data": {
      "text/plain": [
       "[<matplotlib.lines.Line2D at 0x1a2a5f5a20>]"
      ]
     },
     "execution_count": 65,
     "metadata": {},
     "output_type": "execute_result"
    },
    {
     "data": {
      "image/png": "[encoded data removed]",
      "text/plain": [
       "<Figure size 432x288 with 1 Axes>"
      ]
     },
     "metadata": {},
     "output_type": "display_data"
    }
   ],
   "source": [
    "plt.plot(age,Pt)"
   ]
  },
  {
   "cell_type": "code",
   "execution_count": 66,
   "metadata": {},
   "outputs": [
    {
     "data": {
      "text/plain": [
       "[<matplotlib.lines.Line2D at 0x1a2a62ad30>]"
      ]
     },
     "execution_count": 66,
     "metadata": {},
     "output_type": "execute_result"
    },
    {
     "data": {
      "image/png": "[encoded data removed]",
      "text/plain": [
       "<Figure size 432x288 with 1 Axes>"
      ]
     },
     "metadata": {},
     "output_type": "display_data"
    }
   ],
   "source": [
    "plt.plot(metal,PZ/0.019)"
   ]
  },
  {
   "cell_type": "code",
   "execution_count": 84,
   "metadata": {},
   "outputs": [],
   "source": [
    "wv1,fl1,er1 = np.load('../spec_stacks/s39170.npy')\n",
    "wv2,fl2,er2 = np.load('../spec_stacks_june14/s39170_stack.npy')"
   ]
  },
  {
   "cell_type": "code",
   "execution_count": 95,
   "metadata": {},
   "outputs": [
    {
     "data": {
      "text/plain": [
       "<matplotlib.lines.Line2D at 0x1a29ee7358>"
      ]
     },
     "execution_count": 95,
     "metadata": {},
     "output_type": "execute_result"
    },
    {
     "data": {
      "image/png": "[encoded data removed]",
      "text/plain": [
       "<Figure size 1080x576 with 1 Axes>"
      ]
     },
     "metadata": {},
     "output_type": "display_data"
    }
   ],
   "source": [
    "plt.figure(figsize=[15,8])\n",
    "plt.errorbar(wv1, fl1*1E18*1.035, er1*1E18,linestyle='None', linewidth = 0.75, marker='o', markersize=1, color='k')\n",
    "plt.errorbar(wv2, fl2*1E18, er2*1E18,linestyle='None', linewidth = 0.75, marker='o', markersize=1, color='r')\n",
    "plt.axis([7800,11700,0,10])\n",
    "plt.axvline(11200)\n",
    "plt.axvline(11400)"
   ]
  },
  {
   "cell_type": "code",
   "execution_count": 88,
   "metadata": {},
   "outputs": [],
   "source": [
    "ogdb = pd.read_pickle('../data/sgal_param_DB.pkl')\n",
    "ngdb = pd.read_pickle('../data/upd_galDB.pkl')"
   ]
  },
  {
   "cell_type": "code",
   "execution_count": 92,
   "metadata": {},
   "outputs": [
    {
     "data": {
      "text/plain": [
       "array([['n16758', 0.5],\n",
       "       ['n17070', 0.3],\n",
       "       ['n19442', 0.1],\n",
       "       ['n21156', 0.5],\n",
       "       ['n21427', 0.1],\n",
       "       ['n23435', 0.2],\n",
       "       ['n32566', 0.1],\n",
       "       ['n34694', 0.0],\n",
       "       ['n37686', 0.2],\n",
       "       ['s35774', 0.4],\n",
       "       ['s38785', 0.9],\n",
       "       ['s39012', 0.6],\n",
       "       ['s39170', 0.7],\n",
       "       ['s39241', 0.5],\n",
       "       ['s39631', 0.4],\n",
       "       ['s39804', 0.5],\n",
       "       ['s39805', 0.6],\n",
       "       ['s40223', 0.8],\n",
       "       ['s40476', 0.4],\n",
       "       ['s40597', 0.7],\n",
       "       ['s40623', 0.8],\n",
       "       ['s40862', 1.3],\n",
       "       ['s41148', 0.6],\n",
       "       ['s41520', 0.5],\n",
       "       ['s41659', 0.8],\n",
       "       ['s43615', 0.4],\n",
       "       ['s44042', 0.7],\n",
       "       ['s44620', 0.1],\n",
       "       ['s45972', 0.1],\n",
       "       ['s46066', 0.4],\n",
       "       ['s46345', 0.4],\n",
       "       ['s47677', 0.3],\n",
       "       ['s48631', 0.7]], dtype=object)"
      ]
     },
     "execution_count": 92,
     "metadata": {},
     "output_type": "execute_result"
    }
   ],
   "source": [
    "np.array([ogdb.gids.values,ogdb.A_v.values]).T"
   ]
  },
  {
   "cell_type": "code",
   "execution_count": 93,
   "metadata": {},
   "outputs": [
    {
     "data": {
      "text/plain": [
       "array([['n16758', 0.1],\n",
       "       ['n17070', 0.3],\n",
       "       ['n21156', 0.8],\n",
       "       ['n21427', 0.5],\n",
       "       ['n23435', 0.5],\n",
       "       ['n23758', 1.0],\n",
       "       ['n32566', 0.6],\n",
       "       ['n34694', 0.7],\n",
       "       ['n37686', 0.9],\n",
       "       ['n37955', 0.8],\n",
       "       ['s35774', 0.9],\n",
       "       ['s38785', 0.5],\n",
       "       ['s39012', 0.5],\n",
       "       ['s39170', 0.1],\n",
       "       ['s39241', 0.3],\n",
       "       ['s39631', 0.2],\n",
       "       ['s39804', 0.5],\n",
       "       ['s39805', 0.5],\n",
       "       ['s40223', 0.7],\n",
       "       ['s40476', 0.9],\n",
       "       ['s40597', 0.6],\n",
       "       ['s40623', 0.5],\n",
       "       ['s40862', 0.8],\n",
       "       ['s41520', 0.9],\n",
       "       ['s42221', 0.2],\n",
       "       ['s43615', 0.7],\n",
       "       ['s44042', 0.4],\n",
       "       ['s44620', 0.8],\n",
       "       ['s45972', 0.1],\n",
       "       ['s46066', 0.6],\n",
       "       ['s47677', 0.4]], dtype=object)"
      ]
     },
     "execution_count": 93,
     "metadata": {},
     "output_type": "execute_result"
    }
   ],
   "source": [
    "np.array([ngdb.gids.values,ngdb.d.values]).T"
   ]
  },
  {
   "cell_type": "code",
   "execution_count": null,
   "metadata": {},
   "outputs": [],
   "source": []
  }
 ],
 "metadata": {
  "kernelspec": {
   "display_name": "Python 3",
   "language": "python",
   "name": "python3"
  },
  "language_info": {
   "codemirror_mode": {
    "name": "ipython",
    "version": 3
   },
   "file_extension": ".py",
   "mimetype": "text/x-python",
   "name": "python",
   "nbconvert_exporter": "python",
   "pygments_lexer": "ipython3",
   "version": "3.5.5"
  }
 },
 "nbformat": 4,
 "nbformat_minor": 2
}
