{
 "cells": [
  {
   "cell_type": "code",
   "execution_count": 1,
   "metadata": {
    "collapsed": true
   },
   "outputs": [],
   "source": [
    "import numpy as np\n",
    "from numpy.linalg import inv\n",
    "import fsps\n",
    "import pandas as pd\n",
    "from vtl.Readfile import Readfile\n",
    "from spec_id import RT_spec,Gen_spec, Analyze_LH_lwa,Median_w_Error_cont,Leave_one_out\n",
    "import matplotlib.pyplot as plt\n",
    "from astropy.cosmology import Planck13, z_at_value\n",
    "from astropy.table import Table\n",
    "from astropy.io import fits\n",
    "import astropy\n",
    "from astropy import units as u\n",
    "from astropy.cosmology import WMAP9 as cosmo\n",
    "import os\n",
    "import cPickle\n",
    "import seaborn as sea\n",
    "sea.set(style='white')\n",
    "sea.set(style='ticks')\n",
    "sea.set_style({\"xtick.direction\": \"in\",\"ytick.direction\": \"in\"})\n",
    "colmap = sea.cubehelix_palette(12, start=2, rot=.2, dark=0, light=1.1, as_cmap=True)"
   ]
  },
  {
   "cell_type": "code",
   "execution_count": 7,
   "metadata": {
    "collapsed": true
   },
   "outputs": [],
   "source": [
    "galDB = pd.read_pickle('../data/sgal_param_DB.pkl')\n",
    "lzDB = galDB.query('hi_res_specz < 1.16')\n",
    "mzDB = galDB.query('1.16 < hi_res_specz < 1.3')\n",
    "mzDB = mzDB.query('ids != 14713 and ids != 38126')\n",
    "hzDB = galDB.query('1.3 < hi_res_specz < 1.45')\n",
    "uhzDB = galDB.query('1.45 < hi_res_specz')\n",
    "metal=np.arange(0.002,0.031,0.001)\n",
    "age=np.arange(.5,6.1,.1)\n",
    "tau=[0,8.0, 8.3, 8.48, 8.6, 8.7, 8.78, 8.85, 8.9, 8.95, 9.0, 9.04, 9.08, 9.11, 9.15, 9.18, 9.2, 9.23, 9.26, 9.28,\n",
    "     9.3, 9.32, 9.34, 9.36, 9.38, 9.4, 9.41, 9.43, 9.45, 9.46, 9.48]\n",
    "M,A=np.meshgrid(metal,age)\n",
    "ultau=np.append([0],10**(np.array(tau[1:])-9))"
   ]
  },
  {
   "cell_type": "code",
   "execution_count": 23,
   "metadata": {},
   "outputs": [],
   "source": [
    "# pd.to_pickle(galDB,'../data/sgal_param_DB.pkl')"
   ]
  },
  {
   "cell_type": "code",
   "execution_count": 21,
   "metadata": {
    "collapsed": true
   },
   "outputs": [
    {
     "name": "stdout",
     "output_type": "stream",
     "text": [
      "../data/galaxy_flts/n14713_flt: photutils.detect_sources (detect_thresh=0.0, grow_seg=5, gauss_fwhm=2.0, ZP=0.0)\n../data/galaxy_flts/n14713_flt: photutils.source_properties\n"
     ]
    },
    {
     "name": "stdout",
     "output_type": "stream",
     "text": [
      "Rename column: ycentroid -> y_flt\nRename column: ra_icrs_centroid -> ra\nRename column: dec_icrs_centroid -> dec\nRename column: xcentroid -> x_flt\n\u001b[1A\u001b[1M../data/galaxy_flts/n14713_flt: photutils.source_properties - 1 objects\n../data/galaxy_flts/n14713_flt: save ../data/galaxy_flts/n14713_flt.detect_seg.fits, ../data/galaxy_flts/n14713_flt.detect.cat\n"
     ]
    },
    {
     "name": "stdout",
     "output_type": "stream",
     "text": [
      "../data/galaxy_flts/n16758_flt: photutils.detect_sources (detect_thresh=0.0, grow_seg=5, gauss_fwhm=2.0, ZP=0.0)\n../data/galaxy_flts/n16758_flt: photutils.source_properties\nRename column: ycentroid -> y_flt\nRename column: ra_icrs_centroid -> ra\nRename column: dec_icrs_centroid -> dec\nRename column: xcentroid -> x_flt\n\u001b[1A\u001b[1M../data/galaxy_flts/n16758_flt: photutils.source_properties - 1 objects\n../data/galaxy_flts/n16758_flt: save ../data/galaxy_flts/n16758_flt.detect_seg.fits, ../data/galaxy_flts/n16758_flt.detect.cat\n"
     ]
    },
    {
     "name": "stdout",
     "output_type": "stream",
     "text": [
      "../data/galaxy_flts/n17070_flt: photutils.detect_sources (detect_thresh=0.0, grow_seg=5, gauss_fwhm=2.0, ZP=0.0)\n../data/galaxy_flts/n17070_flt: photutils.source_properties\nRename column: ycentroid -> y_flt\nRename column: ra_icrs_centroid -> ra\nRename column: dec_icrs_centroid -> dec\nRename column: xcentroid -> x_flt\n\u001b[1A\u001b[1M../data/galaxy_flts/n17070_flt: photutils.source_properties - 1 objects\n../data/galaxy_flts/n17070_flt: save ../data/galaxy_flts/n17070_flt.detect_seg.fits, ../data/galaxy_flts/n17070_flt.detect.cat\n"
     ]
    },
    {
     "name": "stdout",
     "output_type": "stream",
     "text": [
      "../data/galaxy_flts/n19442_flt: photutils.detect_sources (detect_thresh=0.0, grow_seg=5, gauss_fwhm=2.0, ZP=0.0)\n../data/galaxy_flts/n19442_flt: photutils.source_properties\nRename column: ycentroid -> y_flt\nRename column: ra_icrs_centroid -> ra\nRename column: dec_icrs_centroid -> dec\nRename column: xcentroid -> x_flt\n\u001b[1A\u001b[1M../data/galaxy_flts/n19442_flt: photutils.source_properties - 1 objects\n../data/galaxy_flts/n19442_flt: save ../data/galaxy_flts/n19442_flt.detect_seg.fits, ../data/galaxy_flts/n19442_flt.detect.cat\n"
     ]
    },
    {
     "name": "stdout",
     "output_type": "stream",
     "text": [
      "../data/galaxy_flts/n21156_flt: photutils.detect_sources (detect_thresh=0.0, grow_seg=5, gauss_fwhm=2.0, ZP=0.0)\n../data/galaxy_flts/n21156_flt: photutils.source_properties\n"
     ]
    },
    {
     "name": "stdout",
     "output_type": "stream",
     "text": [
      "Rename column: ycentroid -> y_flt\nRename column: ra_icrs_centroid -> ra\nRename column: dec_icrs_centroid -> dec\nRename column: xcentroid -> x_flt\n\u001b[1A\u001b[1M../data/galaxy_flts/n21156_flt: photutils.source_properties - 1 objects\n../data/galaxy_flts/n21156_flt: save ../data/galaxy_flts/n21156_flt.detect_seg.fits, ../data/galaxy_flts/n21156_flt.detect.cat\n"
     ]
    },
    {
     "name": "stdout",
     "output_type": "stream",
     "text": [
      "../data/galaxy_flts/n21427_flt: photutils.detect_sources (detect_thresh=0.0, grow_seg=5, gauss_fwhm=2.0, ZP=0.0)\n../data/galaxy_flts/n21427_flt: photutils.source_properties\nRename column: ycentroid -> y_flt\nRename column: ra_icrs_centroid -> ra\nRename column: dec_icrs_centroid -> dec\nRename column: xcentroid -> x_flt\n\u001b[1A\u001b[1M../data/galaxy_flts/n21427_flt: photutils.source_properties - 1 objects\n../data/galaxy_flts/n21427_flt: save ../data/galaxy_flts/n21427_flt.detect_seg.fits, ../data/galaxy_flts/n21427_flt.detect.cat\n"
     ]
    },
    {
     "name": "stdout",
     "output_type": "stream",
     "text": [
      "../data/galaxy_flts/n23435_flt: photutils.detect_sources (detect_thresh=0.0, grow_seg=5, gauss_fwhm=2.0, ZP=0.0)\n../data/galaxy_flts/n23435_flt: photutils.source_properties\nRename column: ycentroid -> y_flt\nRename column: ra_icrs_centroid -> ra\nRename column: dec_icrs_centroid -> dec\nRename column: xcentroid -> x_flt\n\u001b[1A\u001b[1M../data/galaxy_flts/n23435_flt: photutils.source_properties - 1 objects\n../data/galaxy_flts/n23435_flt: save ../data/galaxy_flts/n23435_flt.detect_seg.fits, ../data/galaxy_flts/n23435_flt.detect.cat\n"
     ]
    },
    {
     "name": "stdout",
     "output_type": "stream",
     "text": [
      "../data/galaxy_flts/n32566_flt: photutils.detect_sources (detect_thresh=0.0, grow_seg=5, gauss_fwhm=2.0, ZP=0.0)\n../data/galaxy_flts/n32566_flt: photutils.source_properties\nRename column: ycentroid -> y_flt\nRename column: ra_icrs_centroid -> ra\nRename column: dec_icrs_centroid -> dec\n"
     ]
    },
    {
     "name": "stdout",
     "output_type": "stream",
     "text": [
      "Rename column: xcentroid -> x_flt\n\u001b[1A\u001b[1M../data/galaxy_flts/n32566_flt: photutils.source_properties - 1 objects\n../data/galaxy_flts/n32566_flt: save ../data/galaxy_flts/n32566_flt.detect_seg.fits, ../data/galaxy_flts/n32566_flt.detect.cat\n"
     ]
    },
    {
     "name": "stdout",
     "output_type": "stream",
     "text": [
      "../data/galaxy_flts/n34694_flt: photutils.detect_sources (detect_thresh=0.0, grow_seg=5, gauss_fwhm=2.0, ZP=0.0)\n../data/galaxy_flts/n34694_flt: photutils.source_properties\nRename column: ycentroid -> y_flt\nRename column: ra_icrs_centroid -> ra\nRename column: dec_icrs_centroid -> dec\nRename column: xcentroid -> x_flt\n\u001b[1A\u001b[1M../data/galaxy_flts/n34694_flt: photutils.source_properties - 1 objects\n../data/galaxy_flts/n34694_flt: save ../data/galaxy_flts/n34694_flt.detect_seg.fits, ../data/galaxy_flts/n34694_flt.detect.cat\n"
     ]
    },
    {
     "name": "stdout",
     "output_type": "stream",
     "text": [
      "../data/galaxy_flts/n37686_flt: photutils.detect_sources (detect_thresh=0.0, grow_seg=5, gauss_fwhm=2.0, ZP=0.0)\n../data/galaxy_flts/n37686_flt: photutils.source_properties\nRename column: ycentroid -> y_flt\nRename column: ra_icrs_centroid -> ra\nRename column: dec_icrs_centroid -> dec\nRename column: xcentroid -> x_flt\n\u001b[1A\u001b[1M../data/galaxy_flts/n37686_flt: photutils.source_properties - 1 objects\n../data/galaxy_flts/n37686_flt: save ../data/galaxy_flts/n37686_flt.detect_seg.fits, ../data/galaxy_flts/n37686_flt.detect.cat\n"
     ]
    },
    {
     "name": "stdout",
     "output_type": "stream",
     "text": [
      "../data/galaxy_flts/n38126_flt: photutils.detect_sources (detect_thresh=0.0, grow_seg=5, gauss_fwhm=2.0, ZP=0.0)\n../data/galaxy_flts/n38126_flt: photutils.source_properties\n"
     ]
    },
    {
     "name": "stdout",
     "output_type": "stream",
     "text": [
      "Rename column: ycentroid -> y_flt\nRename column: ra_icrs_centroid -> ra\nRename column: dec_icrs_centroid -> dec\nRename column: xcentroid -> x_flt\n\u001b[1A\u001b[1M../data/galaxy_flts/n38126_flt: photutils.source_properties - 1 objects\n../data/galaxy_flts/n38126_flt: save ../data/galaxy_flts/n38126_flt.detect_seg.fits, ../data/galaxy_flts/n38126_flt.detect.cat\n"
     ]
    },
    {
     "name": "stdout",
     "output_type": "stream",
     "text": [
      "../data/galaxy_flts/s35774_flt: photutils.detect_sources (detect_thresh=0.0, grow_seg=5, gauss_fwhm=2.0, ZP=0.0)\n../data/galaxy_flts/s35774_flt: photutils.source_properties\nRename column: ycentroid -> y_flt\nRename column: ra_icrs_centroid -> ra\nRename column: dec_icrs_centroid -> dec\nRename column: xcentroid -> x_flt\n\u001b[1A\u001b[1M../data/galaxy_flts/s35774_flt: photutils.source_properties - 2 objects\n../data/galaxy_flts/s35774_flt: save ../data/galaxy_flts/s35774_flt.detect_seg.fits, ../data/galaxy_flts/s35774_flt.detect.cat\n"
     ]
    },
    {
     "name": "stdout",
     "output_type": "stream",
     "text": [
      "../data/galaxy_flts/s38785_flt: photutils.detect_sources (detect_thresh=0.0, grow_seg=5, gauss_fwhm=2.0, ZP=0.0)\n../data/galaxy_flts/s38785_flt: photutils.source_properties\nRename column: ycentroid -> y_flt\nRename column: ra_icrs_centroid -> ra\nRename column: dec_icrs_centroid -> dec\nRename column: xcentroid -> x_flt\n\u001b[1A\u001b[1M../data/galaxy_flts/s38785_flt: photutils.source_properties - 1 objects\n../data/galaxy_flts/s38785_flt: save ../data/galaxy_flts/s38785_flt.detect_seg.fits, ../data/galaxy_flts/s38785_flt.detect.cat\n"
     ]
    },
    {
     "name": "stdout",
     "output_type": "stream",
     "text": [
      "../data/galaxy_flts/s39012_flt: photutils.detect_sources (detect_thresh=0.0, grow_seg=5, gauss_fwhm=2.0, ZP=0.0)\n../data/galaxy_flts/s39012_flt: photutils.source_properties\nRename column: ycentroid -> y_flt\nRename column: ra_icrs_centroid -> ra\nRename column: dec_icrs_centroid -> dec\nRename column: xcentroid -> x_flt\n\u001b[1A\u001b[1M../data/galaxy_flts/s39012_flt: photutils.source_properties - 5 objects\n../data/galaxy_flts/s39012_flt: save ../data/galaxy_flts/s39012_flt.detect_seg.fits, ../data/galaxy_flts/s39012_flt.detect.cat\n"
     ]
    },
    {
     "name": "stdout",
     "output_type": "stream",
     "text": [
      "../data/galaxy_flts/s39170_flt: photutils.detect_sources (detect_thresh=0.0, grow_seg=5, gauss_fwhm=2.0, ZP=0.0)\n../data/galaxy_flts/s39170_flt: photutils.source_properties\nRename column: ycentroid -> y_flt\nRename column: ra_icrs_centroid -> ra\nRename column: dec_icrs_centroid -> dec\nRename column: xcentroid -> x_flt\n\u001b[1A\u001b[1M../data/galaxy_flts/s39170_flt: photutils.source_properties - 1 objects\n../data/galaxy_flts/s39170_flt: save ../data/galaxy_flts/s39170_flt.detect_seg.fits, ../data/galaxy_flts/s39170_flt.detect.cat\n"
     ]
    },
    {
     "name": "stdout",
     "output_type": "stream",
     "text": [
      "../data/galaxy_flts/s39241_flt: photutils.detect_sources (detect_thresh=0.0, grow_seg=5, gauss_fwhm=2.0, ZP=0.0)\n../data/galaxy_flts/s39241_flt: photutils.source_properties\nRename column: ycentroid -> y_flt\nRename column: ra_icrs_centroid -> ra\nRename column: dec_icrs_centroid -> dec\nRename column: xcentroid -> x_flt\n\u001b[1A\u001b[1M../data/galaxy_flts/s39241_flt: photutils.source_properties - 1 objects\n../data/galaxy_flts/s39241_flt: save ../data/galaxy_flts/s39241_flt.detect_seg.fits, ../data/galaxy_flts/s39241_flt.detect.cat\n"
     ]
    },
    {
     "name": "stdout",
     "output_type": "stream",
     "text": [
      "../data/galaxy_flts/s39631_flt: photutils.detect_sources (detect_thresh=0.0, grow_seg=5, gauss_fwhm=2.0, ZP=0.0)\n../data/galaxy_flts/s39631_flt: photutils.source_properties\nRename column: ycentroid -> y_flt\nRename column: ra_icrs_centroid -> ra\nRename column: dec_icrs_centroid -> dec\nRename column: xcentroid -> x_flt"
     ]
    },
    {
     "name": "stdout",
     "output_type": "stream",
     "text": [
      "\n\u001b[1A\u001b[1M../data/galaxy_flts/s39631_flt: photutils.source_properties - 1 objects\n../data/galaxy_flts/s39631_flt: save ../data/galaxy_flts/s39631_flt.detect_seg.fits, ../data/galaxy_flts/s39631_flt.detect.cat\n"
     ]
    },
    {
     "name": "stdout",
     "output_type": "stream",
     "text": [
      "../data/galaxy_flts/s39804_flt: photutils.detect_sources (detect_thresh=0.0, grow_seg=5, gauss_fwhm=2.0, ZP=0.0)\n../data/galaxy_flts/s39804_flt: photutils.source_properties\nRename column: ycentroid -> y_flt\nRename column: ra_icrs_centroid -> ra\nRename column: dec_icrs_centroid -> dec\nRename column: xcentroid -> x_flt\n\u001b[1A\u001b[1M../data/galaxy_flts/s39804_flt: photutils.source_properties - 1 objects\n../data/galaxy_flts/s39804_flt: save ../data/galaxy_flts/s39804_flt.detect_seg.fits, ../data/galaxy_flts/s39804_flt.detect.cat\n"
     ]
    },
    {
     "name": "stdout",
     "output_type": "stream",
     "text": [
      "../data/galaxy_flts/s39805_flt: photutils.detect_sources (detect_thresh=0.0, grow_seg=5, gauss_fwhm=2.0, ZP=0.0)\n../data/galaxy_flts/s39805_flt: photutils.source_properties\nRename column: ycentroid -> y_flt\nRename column: ra_icrs_centroid -> ra\nRename column: dec_icrs_centroid -> dec\nRename column: xcentroid -> x_flt\n\u001b[1A\u001b[1M../data/galaxy_flts/s39805_flt: photutils.source_properties - 1 objects\n../data/galaxy_flts/s39805_flt: save ../data/galaxy_flts/s39805_flt.detect_seg.fits, ../data/galaxy_flts/s39805_flt.detect.cat\n"
     ]
    },
    {
     "name": "stdout",
     "output_type": "stream",
     "text": [
      "../data/galaxy_flts/s40223_flt: photutils.detect_sources (detect_thresh=0.0, grow_seg=5, gauss_fwhm=2.0, ZP=0.0)\n../data/galaxy_flts/s40223_flt: photutils.source_properties\nRename column: ycentroid -> y_flt\nRename column: ra_icrs_centroid -> ra\nRename column: dec_icrs_centroid -> dec\nRename column: xcentroid -> x_flt\n\u001b[1A\u001b[1M../data/galaxy_flts/s40223_flt: photutils.source_properties - 1 objects\n../data/galaxy_flts/s40223_flt: save ../data/galaxy_flts/s40223_flt.detect_seg.fits, ../data/galaxy_flts/s40223_flt.detect.cat\n"
     ]
    },
    {
     "name": "stdout",
     "output_type": "stream",
     "text": [
      "../data/galaxy_flts/s40476_flt: photutils.detect_sources (detect_thresh=0.0, grow_seg=5, gauss_fwhm=2.0, ZP=0.0)\n../data/galaxy_flts/s40476_flt: photutils.source_properties\nRename column: ycentroid -> y_flt\nRename column: ra_icrs_centroid -> ra\nRename column: dec_icrs_centroid -> dec\nRename column: xcentroid -> x_flt\n\u001b[1A\u001b[1M../data/galaxy_flts/s40476_flt: photutils.source_properties - 1 objects\n../data/galaxy_flts/s40476_flt: save ../data/galaxy_flts/s40476_flt.detect_seg.fits, ../data/galaxy_flts/s40476_flt.detect.cat\n"
     ]
    },
    {
     "name": "stdout",
     "output_type": "stream",
     "text": [
      "../data/galaxy_flts/s40597_flt: photutils.detect_sources (detect_thresh=0.0, grow_seg=5, gauss_fwhm=2.0, ZP=0.0)\n../data/galaxy_flts/s40597_flt: photutils.source_properties\nRename column: ycentroid -> y_flt\nRename column: ra_icrs_centroid -> ra\nRename column: dec_icrs_centroid -> dec\nRename column: xcentroid -> x_flt\n\u001b[1A\u001b[1M../data/galaxy_flts/s40597_flt: photutils.source_properties - 1 objects\n../data/galaxy_flts/s40597_flt: save ../data/galaxy_flts/s40597_flt.detect_seg.fits, ../data/galaxy_flts/s40597_flt.detect.cat\n"
     ]
    },
    {
     "name": "stdout",
     "output_type": "stream",
     "text": [
      "../data/galaxy_flts/s40623_flt: photutils.detect_sources (detect_thresh=0.0, grow_seg=5, gauss_fwhm=2.0, ZP=0.0)\n../data/galaxy_flts/s40623_flt: photutils.source_properties\nRename column: ycentroid -> y_flt\nRename column: ra_icrs_centroid -> ra\nRename column: dec_icrs_centroid -> dec\nRename column: xcentroid -> x_flt\n\u001b[1A\u001b[1M../data/galaxy_flts/s40623_flt: photutils.source_properties - 1 objects\n../data/galaxy_flts/s40623_flt: save ../data/galaxy_flts/s40623_flt.detect_seg.fits, ../data/galaxy_flts/s40623_flt.detect.cat\n"
     ]
    },
    {
     "name": "stdout",
     "output_type": "stream",
     "text": [
      "../data/galaxy_flts/s40862_flt: photutils.detect_sources (detect_thresh=0.0, grow_seg=5, gauss_fwhm=2.0, ZP=0.0)\n../data/galaxy_flts/s40862_flt: photutils.source_properties\nRename column: ycentroid -> y_flt\nRename column: ra_icrs_centroid -> ra\nRename column: dec_icrs_centroid -> dec\nRename column: xcentroid -> x_flt\n\u001b[1A\u001b[1M../data/galaxy_flts/s40862_flt: photutils.source_properties - 1 objects\n../data/galaxy_flts/s40862_flt: save ../data/galaxy_flts/s40862_flt.detect_seg.fits, ../data/galaxy_flts/s40862_flt.detect.cat\n"
     ]
    },
    {
     "name": "stdout",
     "output_type": "stream",
     "text": [
      "../data/galaxy_flts/s41148_flt: photutils.detect_sources (detect_thresh=0.0, grow_seg=5, gauss_fwhm=2.0, ZP=0.0)\n../data/galaxy_flts/s41148_flt: photutils.source_properties\nRename column: ycentroid -> y_flt\nRename column: ra_icrs_centroid -> ra\nRename column: dec_icrs_centroid -> dec\nRename column: xcentroid -> x_flt\n\u001b[1A\u001b[1M../data/galaxy_flts/s41148_flt: photutils.source_properties - 1 objects\n../data/galaxy_flts/s41148_flt: save ../data/galaxy_flts/s41148_flt.detect_seg.fits, ../data/galaxy_flts/s41148_flt.detect.cat\n"
     ]
    },
    {
     "name": "stdout",
     "output_type": "stream",
     "text": [
      "../data/galaxy_flts/s41520_flt: photutils.detect_sources (detect_thresh=0.0, grow_seg=5, gauss_fwhm=2.0, ZP=0.0)\n../data/galaxy_flts/s41520_flt: photutils.source_properties\nRename column: ycentroid -> y_flt\nRename column: ra_icrs_centroid -> ra\nRename column: dec_icrs_centroid -> dec\nRename column: xcentroid -> x_flt\n\u001b[1A\u001b[1M../data/galaxy_flts/s41520_flt: photutils.source_properties - 1 objects\n../data/galaxy_flts/s41520_flt: save ../data/galaxy_flts/s41520_flt.detect_seg.fits, ../data/galaxy_flts/s41520_flt.detect.cat\n"
     ]
    },
    {
     "name": "stdout",
     "output_type": "stream",
     "text": [
      "../data/galaxy_flts/s41659_flt: photutils.detect_sources (detect_thresh=0.0, grow_seg=5, gauss_fwhm=2.0, ZP=0.0)\n../data/galaxy_flts/s41659_flt: photutils.source_properties\nRename column: ycentroid -> y_flt\nRename column: ra_icrs_centroid -> ra\nRename column: dec_icrs_centroid -> dec\nRename column: xcentroid -> x_flt\n\u001b[1A\u001b[1M../data/galaxy_flts/s41659_flt: photutils.source_properties - 2 objects\n../data/galaxy_flts/s41659_flt: save ../data/galaxy_flts/s41659_flt.detect_seg.fits, ../data/galaxy_flts/s41659_flt.detect.cat\n"
     ]
    },
    {
     "name": "stdout",
     "output_type": "stream",
     "text": [
      "../data/galaxy_flts/s43615_flt: photutils.detect_sources (detect_thresh=0.0, grow_seg=5, gauss_fwhm=2.0, ZP=0.0)\n../data/galaxy_flts/s43615_flt: photutils.source_properties\nRename column: ycentroid -> y_flt\nRename column: ra_icrs_centroid -> ra\nRename column: dec_icrs_centroid -> dec\nRename column: xcentroid -> x_flt\n\u001b[1A\u001b[1M../data/galaxy_flts/s43615_flt: photutils.source_properties - 1 objects\n../data/galaxy_flts/s43615_flt: save ../data/galaxy_flts/s43615_flt.detect_seg.fits, ../data/galaxy_flts/s43615_flt.detect.cat\n"
     ]
    },
    {
     "name": "stdout",
     "output_type": "stream",
     "text": [
      "../data/galaxy_flts/s44042_flt: photutils.detect_sources (detect_thresh=0.0, grow_seg=5, gauss_fwhm=2.0, ZP=0.0)\n../data/galaxy_flts/s44042_flt: photutils.source_properties\nRename column: ycentroid -> y_flt\nRename column: ra_icrs_centroid -> ra\nRename column: dec_icrs_centroid -> dec\nRename column: xcentroid -> x_flt\n\u001b[1A\u001b[1M../data/galaxy_flts/s44042_flt: photutils.source_properties - 1 objects\n../data/galaxy_flts/s44042_flt: save ../data/galaxy_flts/s44042_flt.detect_seg.fits, ../data/galaxy_flts/s44042_flt.detect.cat\n"
     ]
    },
    {
     "name": "stdout",
     "output_type": "stream",
     "text": [
      "../data/galaxy_flts/s44620_flt: photutils.detect_sources (detect_thresh=0.0, grow_seg=5, gauss_fwhm=2.0, ZP=0.0)\n../data/galaxy_flts/s44620_flt: photutils.source_properties\nRename column: ycentroid -> y_flt\nRename column: ra_icrs_centroid -> ra\nRename column: dec_icrs_centroid -> dec\nRename column: xcentroid -> x_flt\n\u001b[1A\u001b[1M../data/galaxy_flts/s44620_flt: photutils.source_properties - 1 objects\n../data/galaxy_flts/s44620_flt: save ../data/galaxy_flts/s44620_flt.detect_seg.fits, ../data/galaxy_flts/s44620_flt.detect.cat\n"
     ]
    },
    {
     "name": "stdout",
     "output_type": "stream",
     "text": [
      "../data/galaxy_flts/s45972_flt: photutils.detect_sources (detect_thresh=0.0, grow_seg=5, gauss_fwhm=2.0, ZP=0.0)\n../data/galaxy_flts/s45972_flt: photutils.source_properties\nRename column: ycentroid -> y_flt\nRename column: ra_icrs_centroid -> ra\nRename column: dec_icrs_centroid -> dec\nRename column: xcentroid -> x_flt\n\u001b[1A\u001b[1M../data/galaxy_flts/s45972_flt: photutils.source_properties - 1 objects\n../data/galaxy_flts/s45972_flt: save ../data/galaxy_flts/s45972_flt.detect_seg.fits, ../data/galaxy_flts/s45972_flt.detect.cat\n"
     ]
    },
    {
     "name": "stdout",
     "output_type": "stream",
     "text": [
      "../data/galaxy_flts/s46066_flt: photutils.detect_sources (detect_thresh=0.0, grow_seg=5, gauss_fwhm=2.0, ZP=0.0)\n../data/galaxy_flts/s46066_flt: photutils.source_properties\nRename column: ycentroid -> y_flt\nRename column: ra_icrs_centroid -> ra\nRename column: dec_icrs_centroid -> dec\nRename column: xcentroid -> x_flt\n\u001b[1A\u001b[1M../data/galaxy_flts/s46066_flt: photutils.source_properties - 1 objects\n../data/galaxy_flts/s46066_flt: save ../data/galaxy_flts/s46066_flt.detect_seg.fits, ../data/galaxy_flts/s46066_flt.detect.cat\n"
     ]
    },
    {
     "name": "stdout",
     "output_type": "stream",
     "text": [
      "../data/galaxy_flts/s46345_flt: photutils.detect_sources (detect_thresh=0.0, grow_seg=5, gauss_fwhm=2.0, ZP=0.0)\n../data/galaxy_flts/s46345_flt: photutils.source_properties\nRename column: ycentroid -> y_flt\nRename column: ra_icrs_centroid -> ra\nRename column: dec_icrs_centroid -> dec\nRename column: xcentroid -> x_flt\n\u001b[1A\u001b[1M../data/galaxy_flts/s46345_flt: photutils.source_properties - 1 objects\n../data/galaxy_flts/s46345_flt: save ../data/galaxy_flts/s46345_flt.detect_seg.fits, ../data/galaxy_flts/s46345_flt.detect.cat\n"
     ]
    },
    {
     "name": "stdout",
     "output_type": "stream",
     "text": [
      "../data/galaxy_flts/s47677_flt: photutils.detect_sources (detect_thresh=0.0, grow_seg=5, gauss_fwhm=2.0, ZP=0.0)\n../data/galaxy_flts/s47677_flt: photutils.source_properties\nRename column: ycentroid -> y_flt\nRename column: ra_icrs_centroid -> ra\nRename column: dec_icrs_centroid -> dec\nRename column: xcentroid -> x_flt\n\u001b[1A\u001b[1M../data/galaxy_flts/s47677_flt: photutils.source_properties - 1 objects\n../data/galaxy_flts/s47677_flt: save ../data/galaxy_flts/s47677_flt.detect_seg.fits, ../data/galaxy_flts/s47677_flt.detect.cat\n"
     ]
    },
    {
     "name": "stdout",
     "output_type": "stream",
     "text": [
      "../data/galaxy_flts/s48631_flt: photutils.detect_sources (detect_thresh=0.0, grow_seg=5, gauss_fwhm=2.0, ZP=0.0)\n../data/galaxy_flts/s48631_flt: photutils.source_properties\nRename column: ycentroid -> y_flt\nRename column: ra_icrs_centroid -> ra\nRename column: dec_icrs_centroid -> dec\nRename column: xcentroid -> x_flt\n"
     ]
    },
    {
     "name": "stdout",
     "output_type": "stream",
     "text": [
      "\u001b[1A\u001b[1M../data/galaxy_flts/s48631_flt: photutils.source_properties - 2 objects\n../data/galaxy_flts/s48631_flt: save ../data/galaxy_flts/s48631_flt.detect_seg.fits, ../data/galaxy_flts/s48631_flt.detect.cat\n"
     ]
    }
   ],
   "source": [
    "SN = []\n",
    "\n",
    "for i in galDB.index:\n",
    "    spec = Gen_spec(galDB['gids'][i], galDB['hi_res_specz'][i], maxwv=11400)\n",
    "    fl = np.trapz(spec.gal_fl[spec.gal_fl > 5E-21],spec.gal_wv[spec.gal_fl > 5E-21])\n",
    "    er = np.trapz(spec.gal_er[spec.gal_fl > 5E-21],spec.gal_wv[spec.gal_fl > 5E-21])\n",
    "    SN.append(fl/er)"
   ]
  },
  {
   "cell_type": "code",
   "execution_count": 11,
   "metadata": {
    "collapsed": false
   },
   "outputs": [
    {
     "data": {
      "text/plain": [
       "[<matplotlib.lines.Line2D at 0x169695510>]"
      ]
     },
     "execution_count": 11,
     "metadata": {},
     "output_type": "execute_result"
    },
    {
     "data": {
      "image/png": "[encoded data removed]",
      "text/plain": [
       "<matplotlib.figure.Figure at 0x168d09290>"
      ]
     },
     "metadata": {},
     "output_type": "display_data"
    }
   ],
   "source": [
    "%matplotlib inline\n",
    "\n",
    "plt.figure(figsize=[8,8])\n",
    "plt.plot(lzDB['lmass'],SNl,'o')\n",
    "plt.plot(mzDB['lmass'],SNm,'o')\n",
    "plt.plot(hzDB['lmass'],SNh,'o')\n",
    "plt.plot(uhzDB['lmass'],SNuh,'o')"
   ]
  },
  {
   "cell_type": "code",
   "execution_count": 22,
   "metadata": {
    "collapsed": true
   },
   "outputs": [],
   "source": [
    "galDB['SN']=SN"
   ]
  },
  {
   "cell_type": "code",
   "execution_count": 24,
   "metadata": {},
   "outputs": [
    {
     "data": {
      "text/plain": [
       "array([['n14713', 2.3901019822195608],\n       ['n16758', 8.4476961103855306],\n       ['n17070', 4.1785822375381878],\n       ['n19442', 1.1109152630598553],\n       ['n21156', 12.686546939404833],\n       ['n21427', 2.2380752971780398],\n       ['n23435', 2.6425564585173196],\n       ['n32566', 4.824775087042914],\n       ['n34694', 8.5576752329888421],\n       ['n37686', 7.0111791808154269],\n       ['n38126', 3.3435725494475395],\n       ['s35774', 9.7190723469849161],\n       ['s38785', 5.7992204148797377],\n       ['s39012', 1.4813442049408856],\n       ['s39170', 16.006232025906748],\n       ['s39241', 9.6449279929342584],\n       ['s39631', 7.3672137416075696],\n       ['s39804', 3.8085340330900768],\n       ['s39805', 2.995831976487318],\n       ['s40223', 1.9551556844437576],\n       ['s40476', 6.8829823263840977],\n       ['s40597', 12.850875182957054],\n       ['s40623', 3.946808922207159],\n       ['s40862', 4.0258569366964778],\n       ['s41148', 2.0491163848935185],\n       ['s41520', 3.0477507676630409],\n       ['s41659', 1.1077377225393334],\n       ['s43615', 5.4663387742895253],\n       ['s44042', 3.4691824905283832],\n       ['s44620', 3.7463023442036469],\n       ['s45972', 9.7974683734162706],\n       ['s46066', 2.1533804752590942],\n       ['s46345', 1.7841754797322205],\n       ['s47677', 2.9634628537428851],\n       ['s48631', 5.2900582892698358]], dtype=object)"
      ]
     },
     "execution_count": 24,
     "metadata": {},
     "output_type": "execute_result"
    }
   ],
   "source": [
    "np.array([galDB['gids'],galDB['SN']]).T"
   ]
  },
  {
   "cell_type": "code",
   "execution_count": 18,
   "metadata": {},
   "outputs": [
    {
     "name": "stdout",
     "output_type": "stream",
     "text": [
      "../data/galaxy_flts/n17070_flt: photutils.detect_sources (detect_thresh=0.0, grow_seg=5, gauss_fwhm=2.0, ZP=0.0)\n../data/galaxy_flts/n17070_flt: photutils.source_properties\nRename column: ycentroid -> y_flt\nRename column: ra_icrs_centroid -> ra\nRename column: dec_icrs_centroid -> dec\nRename column: xcentroid -> x_flt\n\u001b[1A\u001b[1M../data/galaxy_flts/n17070_flt: photutils.source_properties - 1 objects\n../data/galaxy_flts/n17070_flt: save ../data/galaxy_flts/n17070_flt.detect_seg.fits, ../data/galaxy_flts/n17070_flt.detect.cat\n"
     ]
    }
   ],
   "source": [
    "spec = Gen_spec(galDB['gids'][50], galDB['hi_res_specz'][50], maxwv=11400)"
   ]
  },
  {
   "cell_type": "code",
   "execution_count": 19,
   "metadata": {},
   "outputs": [
    {
     "data": {
      "text/plain": [
       "array([  3.23212338e-18,   1.50205957e-18,   1.07176634e-18,\n         5.58658842e-19,   8.98294058e-19,   1.31748688e-18,\n         1.79117739e-18,   1.06969282e-18,   5.88507096e-19,\n         1.94724177e-18,   1.22491948e-18,   7.39880697e-20,\n         3.12116017e-18,   1.80596729e-18,   1.13899580e-18,\n         5.28462495e-19,   6.09780409e-19,   1.24065182e-18,\n         2.38921562e-18,   1.55287060e-18,   9.99044437e-19,\n         5.63015784e-19,   2.08864057e-19,   3.82109976e-19,\n         1.00715623e-18,   8.86163637e-19,   9.58409283e-19,\n         5.64263175e-19,   1.82911518e-18,   1.72539736e-18,\n         1.49094194e-19,   7.75573239e-19,   7.73969719e-19,\n         1.17310973e-18,   1.56887124e-19,   9.74436319e-19,\n         2.26793550e-18,   8.23164333e-19,   1.12583914e-18,\n         1.41242379e-18,   1.16404802e-18,   7.45425755e-19,\n         1.00693159e-18,   1.30916765e-18,   1.04904029e-18,\n         7.52352748e-19,   9.68530481e-19,   9.31195272e-19,\n         5.70388281e-19,   6.64258568e-19,   8.39631146e-19,\n         1.20498263e-18,   1.75211528e-18,   1.64632425e-18,\n         1.04228786e-18,   4.23316094e-19,   1.06633832e-18,\n         1.43569589e-18,   1.60012818e-18,   9.05133873e-19,\n         7.12084516e-19,   1.18052009e-18,   1.26032108e-18,\n         1.46922967e-18,   1.20924053e-18,   1.78970649e-18,\n         1.38702743e-18,   1.30833443e-18,   8.28093341e-19,\n         9.48166630e-19,   7.16855174e-19,   7.90191481e-19,\n         1.22340387e-18,   1.80346594e-18,   1.20901768e-18,\n         1.13752687e-18,   1.76393655e-18,   1.56751490e-18,\n         1.57730837e-18,   1.86804370e-18,   1.71175232e-18,\n         1.59123872e-18,   1.17442738e-18,   9.09467732e-19,\n         1.29355912e-18,   1.59458754e-18,   2.07990032e-18,\n         2.20147482e-18,   1.24791012e-18,   1.25061027e-18,\n         1.81235616e-18,   1.73883223e-18,   1.63583151e-18,\n         1.98129061e-18,   8.74155008e-19,   1.69292268e-18,\n         1.49936890e-18,   1.43700706e-18,   2.12697570e-18,\n         1.31679871e-18,   1.72450068e-18,   1.18899972e-18,\n         1.93855349e-18,   1.55623766e-18,   1.92940311e-18,\n         2.10735206e-18,   2.01524681e-18,   1.17595144e-18,\n         1.39770500e-18,   1.77843025e-18,   1.90497669e-18,\n         1.97007629e-18,   1.87963281e-18,   1.94951191e-18,\n         1.70554269e-18,   1.57331992e-18,   1.68853644e-18,\n         1.82982350e-18,   1.85864179e-18,   1.79287182e-18,\n         1.99424987e-18,   1.88085440e-18,   1.54307367e-18,\n         1.80906595e-18,   1.75549260e-18,   2.14529581e-18,\n         1.63636899e-18,   1.83250059e-18,   2.41737814e-18,\n         1.97618315e-18,   2.17672182e-18,   1.84493505e-18,\n         2.13079115e-18,   1.69153957e-18,   1.54863754e-18,\n         1.20450746e-18,   1.69209674e-18,   1.72659722e-18,\n         1.96738098e-18,   1.83293849e-18,   1.48877345e-18,\n         1.99190898e-18,   2.00136335e-18,   1.91514493e-18,\n         1.90378480e-18,   2.26513574e-18,   2.03932628e-18,\n         2.13501423e-18,   1.91491071e-18,   1.87987723e-18,\n         2.14880800e-18,   2.00593188e-18,   1.69091597e-18,\n         1.74240872e-18,   2.11839752e-18,   2.10203783e-18,\n         1.96445311e-18,   2.08091579e-18,   2.07157758e-18,\n         7.93755147e-23,   1.57012517e-22,   1.33817424e-22,\n         4.77321744e-23,   1.05044310e-22,   1.32566110e-22,\n         2.40549095e-18,   2.42099579e-18,   2.41206863e-18,\n         2.55413488e-18,   2.23811018e-18,   2.20103992e-18,\n         2.44052071e-18,   2.30348179e-18,   2.57733819e-18,\n         2.66861043e-18,   2.53937934e-18,   2.22777942e-18,\n         2.02914904e-18,   2.15877705e-18,   2.10389091e-18,\n         1.80609511e-18,   2.08338888e-18,   2.28008786e-18,\n         2.06745987e-18,   1.80879815e-18,   2.19252906e-18,\n         2.06973828e-18,   2.33238452e-18,   1.79910099e-18,\n         2.01025637e-18,   1.93551922e-18,   1.95813883e-18,\n         1.98113476e-18,   2.13677944e-18,   1.76886564e-18,\n         2.31828825e-18,   1.76523314e-18,   2.00917020e-18,\n         1.94860763e-18,   2.00901128e-18,   1.92664024e-18,\n         1.73759522e-18,   1.64602934e-18,   1.86277379e-18,\n         1.76141915e-18,   2.02403081e-18,   1.85599896e-18,\n         1.98787667e-18,   1.91395548e-18,   2.05545555e-18,\n         1.90973740e-18,   1.99065725e-18,   1.79649281e-18,\n         1.76391388e-18,   1.80468684e-18,   1.73591356e-18,\n         1.71139617e-18,   1.88128888e-18,   1.92737366e-18,\n         1.75981762e-18,   2.12763448e-18,   1.99870999e-18,\n         1.86842058e-18,   2.02619239e-18,   1.87146437e-18,\n         1.77087370e-18,   1.96524935e-18,   2.03113396e-18,\n         2.07248001e-18,   1.97344883e-18,   1.69543318e-18,\n         1.82962608e-18,   1.77917138e-18,   1.82554523e-18,\n         1.81989392e-18,   1.73381480e-18,   1.83115433e-18,\n         1.81986573e-18,   1.81826236e-18,   1.82609320e-18,\n         2.01626884e-18,   1.77135813e-18,   2.03143931e-18,\n         1.92676050e-18,   1.98641208e-18,   1.97789191e-18,\n         1.98185308e-18,   1.97600068e-18,   1.95944715e-18,\n         1.94986352e-18,   1.77328383e-18,   1.84714156e-18,\n         1.88786358e-18,   1.87146947e-18,   1.92045175e-18,\n         1.83415650e-18,   1.95147160e-18,   2.02035403e-18,\n         1.96080340e-18,   1.87192186e-18,   1.95354196e-18,\n         1.90020443e-18,   1.78178789e-18,   1.78248076e-18,\n         1.84529493e-18,   1.98526317e-18,   1.87585631e-18,\n         1.66611482e-18,   1.78749675e-18,   1.79074528e-18,\n         1.87750675e-18,   1.88155541e-18,   2.06042069e-18])"
      ]
     },
     "execution_count": 19,
     "metadata": {},
     "output_type": "execute_result"
    }
   ],
   "source": [
    "spec.gal_fl"
   ]
  },
  {
   "cell_type": "code",
   "execution_count": null,
   "metadata": {},
   "outputs": [],
   "source": [
    ""
   ]
  }
 ],
 "metadata": {
  "kernelspec": {
   "display_name": "Python 2",
   "language": "python",
   "name": "python2"
  },
  "language_info": {
   "codemirror_mode": {
    "name": "ipython",
    "version": 2.0
   },
   "file_extension": ".py",
   "mimetype": "text/x-python",
   "name": "python",
   "nbconvert_exporter": "python",
   "pygments_lexer": "ipython2",
   "version": "2.7.13"
  }
 },
 "nbformat": 4,
 "nbformat_minor": 0
}