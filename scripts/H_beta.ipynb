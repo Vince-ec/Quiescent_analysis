{
 "cells": [
  {
   "cell_type": "code",
   "execution_count": 9,
   "metadata": {
    "collapsed": true
   },
   "outputs": [],
   "source": [
    "import numpy as np\n",
    "import pandas as pd\n",
    "from spec_id import Scale_model,Gen_spec\n",
    "import matplotlib.pyplot as plt\n",
    "from matplotlib.gridspec import GridSpec\n",
    "import grizli\n",
    "from glob import glob\n",
    "from scipy.interpolate import interp1d\n",
    "import rpy2\n",
    "import rpy2.robjects as robjects\n",
    "from rpy2.robjects.packages import importr\n",
    "from rpy2.robjects import pandas2ri\n",
    "R = robjects.r\n",
    "import seaborn as sea\n",
    "sea.set(style='white')\n",
    "sea.set(style='ticks')\n",
    "sea.set_style({'xtick.direct'\n",
    "               'ion': 'in','xtick.top':True,'xtick.minor.visible': True,\n",
    "               'ytick.direction': \"in\",'ytick.right': True,'ytick.minor.visible': True})\n",
    "colmap = sea.cubehelix_palette(12, start=2, rot=.2, dark=0, light=1.1, as_cmap=True)\n",
    "pandas2ri.activate()"
   ]
  },
  {
   "cell_type": "code",
   "execution_count": 5,
   "metadata": {},
   "outputs": [],
   "source": [
    "galDB = pd.read_pickle('../chidat/BF_fullfit.pkl')\n",
    "metal=np.round(np.arange(0.002,0.031,0.001),3)\n",
    "age=np.round(np.arange(.5,6.1,.1),1)\n",
    "tau=[0,8.0, 8.3, 8.48, 8.6, 8.7, 8.78, 8.85, 8.9, 8.95, 9.0, 9.04, 9.08, 9.11, 9.15, 9.18, 9.2, 9.23, 9.26, 9.28,\n",
    "     9.3, 9.32, 9.34, 9.36, 9.38, 9.4, 9.41, 9.43, 9.45, 9.46, 9.48]\n",
    "M,A=np.meshgrid(metal,age)"
   ]
  },
  {
   "cell_type": "code",
   "execution_count": 11,
   "metadata": {},
   "outputs": [],
   "source": [
    "class Gen_spec(object):\n",
    "    def __init__(self, galaxy_id, redshift,minwv = 8000, maxwv = 11200, shift = 1):\n",
    "        self.galaxy_id = galaxy_id\n",
    "        self.gid = int(self.galaxy_id[1:])\n",
    "        self.redshift = redshift\n",
    "        self.shift = shift\n",
    "\n",
    "        \"\"\" \n",
    "        self.flt_input - grism flt (not image flt) which contains the object you're interested in modeling, this\n",
    "                         will tell Grizli the PA\n",
    "        **\n",
    "        self.galaxy_id - used to id galaxy and import spectra\n",
    "        **\n",
    "        self.beam - information used to make models\n",
    "        **\n",
    "        self.wv - output wavelength array of simulated spectra\n",
    "        **\n",
    "        self.fl - output flux array of simulated spectra\n",
    "        \"\"\"\n",
    "\n",
    "        gal_wv, gal_fl, gal_er = np.load(glob('../spec_stacks/*{0}*'.format(self.gid))[0])\n",
    "        self.flt_input = glob('../beams/*{0}*'.format(self.gid))[0]\n",
    "\n",
    "        IDX = [U for U in range(len(gal_wv)) if minwv <= gal_wv[U] <= maxwv]\n",
    "\n",
    "        self.gal_wv_rf = gal_wv[IDX] / (1 + self.redshift)\n",
    "        self.gal_wv = gal_wv[IDX]\n",
    "        self.gal_fl = gal_fl[IDX]\n",
    "        self.gal_er = gal_er[IDX]\n",
    "\n",
    "        self.gal_wv_rf = self.gal_wv_rf[self.gal_fl > 0 ]\n",
    "        self.gal_wv = self.gal_wv[self.gal_fl > 0 ]\n",
    "        self.gal_er = self.gal_er[self.gal_fl > 0 ]\n",
    "        self.gal_fl = self.gal_fl[self.gal_fl > 0 ]\n",
    "\n",
    "#         WV,TEF = np.load('../data/template_error_function.npy')\n",
    "#         iTEF = interp1d(WV,TEF)(self.gal_wv_rf)\n",
    "#         self.gal_er = np.sqrt(self.gal_er**2 + (iTEF*self.gal_fl)**2)\n",
    "\n",
    "        ## Spectrum cutouts\n",
    "        self.beam = grizli.model.BeamCutout(fits_file=self.flt_input)\n",
    "\n",
    "        ## Get sensitivity function\n",
    "\n",
    "        flat = self.beam.flat_flam.reshape(self.beam.beam.sh_beam)\n",
    "        fwv, ffl, e = self.beam.beam.optimal_extract(np.append(np.zeros([self.shift,flat.shape[0]]),flat.T[:-1],axis=0).T , bin=0)\n",
    "        \n",
    "        self.filt = interp1d(fwv, ffl)(self.gal_wv)\n",
    "        \n",
    "    def Sim_spec(self, metal, age, tau, model_redshift = 0, dust = 0):\n",
    "        if model_redshift ==0:\n",
    "            model_redshift = self.redshift\n",
    "            \n",
    "        model = '../../../fsps_models_for_fit/fsps_spec/m{0}_a{1}_dt{2}_spec.npy'.format(metal, age, tau)\n",
    "\n",
    "        wave, fl = np.load(model)\n",
    "\n",
    "        cal = 1\n",
    "        if dust !=0:\n",
    "            lam = wave * 1E-4\n",
    "            Rv = 4.05\n",
    "            k = 2.659*(-2.156 +1.509/(lam) -0.198/(lam**2) +0.011/(lam**3)) + Rv\n",
    "            cal = 10**(-0.4 * k * dust / Rv)  \n",
    "        \n",
    "        ## Compute the models\n",
    "        self.beam.compute_model(spectrum_1d=[wave*(1+model_redshift),fl * cal])\n",
    "\n",
    "        ## Extractions the model (error array here is meaningless)\n",
    "        w, f, e = self.beam.beam.optimal_extract(np.append(np.zeros([self.shift,self.beam.model.shape[0]]),\n",
    "                                                           self.beam.model.T[:-1],axis=0).T , bin=0)\n",
    "\n",
    "        ifl = interp1d(w, f)(self.gal_wv)\n",
    "        adj_ifl = ifl /self.filt\n",
    "        \n",
    "        C = Scale_model(self.gal_fl, self.gal_er, adj_ifl)\n",
    "\n",
    "        self.fl = C * adj_ifl"
   ]
  },
  {
   "cell_type": "code",
   "execution_count": 31,
   "metadata": {},
   "outputs": [
    {
     "name": "stderr",
     "output_type": "stream",
     "text": [
      "/Users/Vince.ec/miniconda3/envs/astroconda/lib/python3.5/site-packages/grizli-0.6.0_115_g3ce5ccf-py3.5-macosx-10.6-x86_64.egg/grizli/model.py:3422: RuntimeWarning: invalid value encountered in sqrt\n",
      "  resid = np.abs(self.scif - self.flat_flam)*np.sqrt(self.ivarf)\n",
      "/Users/Vince.ec/miniconda3/envs/astroconda/lib/python3.5/site-packages/grizli-0.6.0_115_g3ce5ccf-py3.5-macosx-10.6-x86_64.egg/grizli/model.py:3427: RuntimeWarning: invalid value encountered in sqrt\n",
      "  contam_mask = ((self.contam*np.sqrt(self.ivar) > contam_sn_mask[0]) &\n",
      "/Users/Vince.ec/miniconda3/envs/astroconda/lib/python3.5/site-packages/grizli-0.6.0_115_g3ce5ccf-py3.5-macosx-10.6-x86_64.egg/grizli/model.py:3428: RuntimeWarning: invalid value encountered in sqrt\n",
      "  (self.model*np.sqrt(self.ivar) < contam_sn_mask[1]))\n",
      "/Users/Vince.ec/miniconda3/envs/astroconda/lib/python3.5/site-packages/grizli-0.6.0_115_g3ce5ccf-py3.5-macosx-10.6-x86_64.egg/grizli/model.py:544: RuntimeWarning: divide by zero encountered in true_divide\n",
      "  self.optimal_profile = m/m.sum(axis=0)\n",
      "/Users/Vince.ec/miniconda3/envs/astroconda/lib/python3.5/site-packages/grizli-0.6.0_115_g3ce5ccf-py3.5-macosx-10.6-x86_64.egg/grizli/model.py:544: RuntimeWarning: invalid value encountered in true_divide\n",
      "  self.optimal_profile = m/m.sum(axis=0)\n",
      "/Users/Vince.ec/miniconda3/envs/astroconda/lib/python3.5/site-packages/grizli-0.6.0_115_g3ce5ccf-py3.5-macosx-10.6-x86_64.egg/grizli/model.py:3393: RuntimeWarning: divide by zero encountered in true_divide\n",
      "  self.ivar = 1/self.grism.data['ERR']**2\n"
     ]
    }
   ],
   "source": [
    "waves = np.array([])\n",
    "flux = np.array([])\n",
    "error = np.array([])\n",
    "mflux = np.array([])\n",
    "\n",
    "flgrid = []\n",
    "errgrid = []\n",
    "\n",
    "for i in galDB.index:\n",
    "    sp = Gen_spec(galDB['gids'][i],galDB['bfz'][i],minwv=7800,maxwv=11300)\n",
    "    if galDB.bftau[i] == 0:\n",
    "        sp.Sim_spec(galDB.bfZ[i], galDB.bft[i],0,galDB.bfz[i],galDB.bfd[i])\n",
    "    else:\n",
    "        sp.Sim_spec(galDB.bfZ[i], galDB.bft[i],galDB.bftau[i],galDB.bfz[i],galDB.bfd[i])\n",
    "    \n",
    "    if max(sp.gal_wv_rf[sp.gal_fl > 5E-19]) > 4910:\n",
    "#     if max(sp.gal_wv_rf[sp.gal_fl > 5E-19]) > 5010:\n",
    "        \n",
    "        newwave = np.arange(4810,4911,1)\n",
    "#         newwave = np.arange(4810,5000,1)\n",
    "        \n",
    "        ifl = interp1d(sp.gal_wv_rf,sp.gal_fl)(newwave)\n",
    "        ier = interp1d(sp.gal_wv_rf,sp.gal_er)(newwave)\n",
    "        imf = interp1d(sp.gal_wv_rf,sp.fl)(newwave)\n",
    "        \n",
    "        flgrid.append(imf - ifl)\n",
    "        errgrid.append(ier)"
   ]
  },
  {
   "cell_type": "code",
   "execution_count": 32,
   "metadata": {},
   "outputs": [],
   "source": [
    "flgrid = np.transpose(flgrid)\n",
    "errgrid = np.transpose(errgrid)\n",
    "weigrid = errgrid ** (-2)\n",
    "infmask = np.isinf(weigrid)\n",
    "weigrid[infmask] = 0\n",
    "################\n",
    "\n",
    "stack, err = np.zeros([2, len(newwave)])\n",
    "for i in range(len(newwave)):\n",
    "    stack[i] = np.sum(flgrid[i] * weigrid[[i]]) / np.sum(weigrid[i])\n",
    "    err[i] = 1 / np.sqrt(np.sum(weigrid[i]))"
   ]
  },
  {
   "cell_type": "code",
   "execution_count": 46,
   "metadata": {},
   "outputs": [
    {
     "data": {
      "text/plain": [
       "<matplotlib.patches.Polygon at 0x1a203ee630>"
      ]
     },
     "execution_count": 46,
     "metadata": {},
     "output_type": "execute_result"
    },
    {
     "data": {
      "image/png": "[encoded data removed]",
      "text/plain": [
       "<Figure size 432x288 with 1 Axes>"
      ]
     },
     "metadata": {},
     "output_type": "display_data"
    }
   ],
   "source": [
    "plt.plot(newwave,np.abs(stack))\n",
    "plt.plot(newwave,err)\n",
    "plt.axvline(4862)\n",
    "plt.axvspan(4810, 4910, color='k', alpha=.1)\n",
    "plt.axvspan(4837, 4842, color='k', alpha=.3)\n",
    "plt.axvspan(4876, 4882, color='k', alpha=.3)\n",
    "plt.axvspan(4888, 4901, color='k', alpha=.3)\n",
    "\n"
   ]
  },
  {
   "cell_type": "code",
   "execution_count": null,
   "metadata": {},
   "outputs": [],
   "source": []
  }
 ],
 "metadata": {
  "kernelspec": {
   "display_name": "Python 3",
   "language": "python",
   "name": "python3"
  },
  "language_info": {
   "codemirror_mode": {
    "name": "ipython",
    "version": 3
   },
   "file_extension": ".py",
   "mimetype": "text/x-python",
   "name": "python",
   "nbconvert_exporter": "python",
   "pygments_lexer": "ipython3",
   "version": "3.5.5"
  }
 },
 "nbformat": 4,
 "nbformat_minor": 2
}
