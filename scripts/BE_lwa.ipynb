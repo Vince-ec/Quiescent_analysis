{
 "cells": [
  {
   "cell_type": "code",
   "execution_count": 2,
   "metadata": {
    "collapsed": true
   },
   "outputs": [],
   "source": [
    "import numpy as np\n",
    "import matplotlib.pyplot as plt\n",
    "from vtl.Photo import Photometry\n",
    "import fsps\n",
    "import pandas as pd\n",
    "import seaborn as sea\n",
    "sea.set(style='white')\n",
    "sea.set(style='ticks')\n",
    "sea.set_style({\"xtick.direction\": \"in\", \"ytick.direction\": \"in\"})\n",
    "cmap = sea.cubehelix_palette(12, start=2, rot=.2, dark=0, light=1.2, as_cmap=True)"
   ]
  },
  {
   "cell_type": "code",
   "execution_count": null,
   "metadata": {
    "collapsed": true
   },
   "outputs": [],
   "source": [
    "AGE=np.arange(.15,6.05,.05)"
   ]
  },
  {
   "cell_type": "code",
   "execution_count": 10,
   "metadata": {
    "collapsed": true
   },
   "outputs": [],
   "source": [
    "sp = fsps.StellarPopulation(imf_type=0,tpagb_norm_type=0,zcontinuous=1,logzsol=np.log10(0.019/0.019), sfh=4,tau=0.1)\n",
    "wv,fl=np.array(sp.get_spectrum(tage=.15,peraa=True))"
   ]
  },
  {
   "cell_type": "code",
   "execution_count": 11,
   "metadata": {
    "collapsed": false
   },
   "outputs": [
    {
     "data": {
      "text/plain": [
       "array([ 2.34211792])"
      ]
     },
     "execution_count": 11,
     "metadata": {},
     "output_type": "execute_result"
    }
   ],
   "source": [
    "sp.get_mags(tage=.15,bands=['sdss_g'])"
   ]
  },
  {
   "cell_type": "code",
   "execution_count": 6,
   "metadata": {
    "collapsed": true
   },
   "outputs": [],
   "source": [
    "m19_g =np.load('../data/m0.019_gbf.npy')"
   ]
  },
  {
   "cell_type": "code",
   "execution_count": 8,
   "metadata": {
    "collapsed": false
   },
   "outputs": [
    {
     "data": {
      "text/plain": [
       "(31, 118)"
      ]
     },
     "execution_count": 8,
     "metadata": {},
     "output_type": "execute_result"
    }
   ],
   "source": [
    "m19_g.shape"
   ]
  },
  {
   "cell_type": "code",
   "execution_count": 9,
   "metadata": {
    "collapsed": false
   },
   "outputs": [
    {
     "data": {
      "text/plain": [
       "array([[ 0.0401817 ,  0.03306313,  0.02803674, ...,  0.00133301,\n",
       "         0.00131958,  0.00130627],\n",
       "       [ 0.11637853,  0.08884103,  0.07036519, ...,  0.00138688,\n",
       "         0.00137347,  0.00136002],\n",
       "       [ 0.1328197 ,  0.1065472 ,  0.08864169, ...,  0.0014384 ,\n",
       "         0.00142535,  0.00141224],\n",
       "       ..., \n",
       "       [ 0.1492689 ,  0.12508727,  0.10882433, ...,  0.00712887,\n",
       "         0.00704345,  0.00695938],\n",
       "       [ 0.14929572,  0.12511792,  0.10885819, ...,  0.00721683,\n",
       "         0.00713124,  0.00704699],\n",
       "       [ 0.14935418,  0.12518471,  0.10893198, ...,  0.00741156,\n",
       "         0.00732562,  0.00724102]])"
      ]
     },
     "execution_count": 9,
     "metadata": {},
     "output_type": "execute_result"
    }
   ],
   "source": [
    "m19_g"
   ]
  },
  {
   "cell_type": "code",
   "execution_count": null,
   "metadata": {
    "collapsed": true
   },
   "outputs": [],
   "source": []
  }
 ],
 "metadata": {
  "kernelspec": {
   "display_name": "Python 2",
   "language": "python",
   "name": "python2"
  },
  "language_info": {
   "codemirror_mode": {
    "name": "ipython",
    "version": 2
   },
   "file_extension": ".py",
   "mimetype": "text/x-python",
   "name": "python",
   "nbconvert_exporter": "python",
   "pygments_lexer": "ipython2",
   "version": "2.7.13"
  }
 },
 "nbformat": 4,
 "nbformat_minor": 2
}
