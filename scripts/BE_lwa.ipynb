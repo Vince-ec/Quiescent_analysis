{
 "cells": [
  {
   "cell_type": "code",
   "execution_count": 1,
   "metadata": {
    "collapsed": true
   },
   "outputs": [],
   "source": [
    "import numpy as np\n",
    "import matplotlib.pyplot as plt\n",
    "from vtl.Photo import Photometry\n",
    "import fsps\n",
    "import pandas as pd\n",
    "import seaborn as sea\n",
    "sea.set(style='white')\n",
    "sea.set(style='ticks')\n",
    "sea.set_style({\"xtick.direction\": \"in\", \"ytick.direction\": \"in\"})\n",
    "cmap = sea.cubehelix_palette(12, start=2, rot=.2, dark=0, light=1.2, as_cmap=True)"
   ]
  },
  {
   "cell_type": "code",
   "execution_count": 31,
   "metadata": {
    "collapsed": true
   },
   "outputs": [],
   "source": [
    "AGE=np.arange(.15,6.05,.05)\n",
    "age=np.arange(.5,6.1,.1)"
   ]
  },
  {
   "cell_type": "code",
   "execution_count": 10,
   "metadata": {
    "collapsed": true
   },
   "outputs": [],
   "source": [
    "sp = fsps.StellarPopulation(imf_type=0,tpagb_norm_type=0,zcontinuous=1,logzsol=np.log10(0.019/0.019), sfh=4,tau=0.2)\n",
    "wv,fl=np.array(sp.get_spectrum(tage=.15,peraa=True))"
   ]
  },
  {
   "cell_type": "code",
   "execution_count": 11,
   "metadata": {
    "collapsed": false
   },
   "outputs": [
    {
     "data": {
      "text/plain": [
       "array([ 2.19184375])"
      ]
     },
     "execution_count": 11,
     "metadata": {},
     "output_type": "execute_result"
    }
   ],
   "source": [
    "sp.get_mags(tage=.15,bands=['sdss_g'])"
   ]
  },
  {
   "cell_type": "code",
   "execution_count": 17,
   "metadata": {
    "collapsed": true
   },
   "outputs": [],
   "source": [
    "m19_g =np.load('../data/m0.019_gbf.npy')"
   ]
  },
  {
   "cell_type": "code",
   "execution_count": 8,
   "metadata": {
    "collapsed": false
   },
   "outputs": [
    {
     "data": {
      "text/plain": [
       "(31, 118)"
      ]
     },
     "execution_count": 8,
     "metadata": {},
     "output_type": "execute_result"
    }
   ],
   "source": [
    "m19_g.shape"
   ]
  },
  {
   "cell_type": "code",
   "execution_count": 12,
   "metadata": {
    "collapsed": false
   },
   "outputs": [
    {
     "data": {
      "text/plain": [
       "0.13281970154060663"
      ]
     },
     "execution_count": 12,
     "metadata": {},
     "output_type": "execute_result"
    }
   ],
   "source": [
    "10**(-2.19184375/2.5)"
   ]
  },
  {
   "cell_type": "code",
   "execution_count": 25,
   "metadata": {
    "collapsed": false
   },
   "outputs": [
    {
     "data": {
      "text/plain": [
       "3.0000000000000009"
      ]
     },
     "execution_count": 25,
     "metadata": {},
     "output_type": "execute_result"
    }
   ],
   "source": [
    "AGE[57]"
   ]
  },
  {
   "cell_type": "code",
   "execution_count": 29,
   "metadata": {
    "collapsed": false
   },
   "outputs": [],
   "source": [
    "gbf = m19_g[5]"
   ]
  },
  {
   "cell_type": "code",
   "execution_count": 27,
   "metadata": {
    "collapsed": false
   },
   "outputs": [
    {
     "data": {
      "text/plain": [
       "3.6141618527683265e-20"
      ]
     },
     "execution_count": 27,
     "metadata": {},
     "output_type": "execute_result"
    }
   ],
   "source": [
    "10**(-(m19_g[5][57]+48.6)/2.5)*(3E18/4770**2\n",
    "                               )"
   ]
  },
  {
   "cell_type": "code",
   "execution_count": 3,
   "metadata": {
    "collapsed": false
   },
   "outputs": [],
   "source": [
    "wv,fl = np.load('/Users/vestrada/bc03_models_for_fit/bc03_spec/m0.02_a3.0_dt8.7_spec.npy')"
   ]
  },
  {
   "cell_type": "code",
   "execution_count": 4,
   "metadata": {
    "collapsed": true
   },
   "outputs": [],
   "source": [
    "wvf,flf = np.load('/Users/vestrada/fsps_models_for_fit/fsps_spec/m0.019_a3.0_dt8.7_spec.npy')"
   ]
  },
  {
   "cell_type": "code",
   "execution_count": 14,
   "metadata": {
    "collapsed": false
   },
   "outputs": [
    {
     "data": {
      "text/plain": [
       "(0, 0.00025)"
      ]
     },
     "execution_count": 14,
     "metadata": {},
     "output_type": "execute_result"
    },
    {
     "data": {
      "image/png": "[encoded data removed]",
      "text/plain": [
       "<matplotlib.figure.Figure at 0x1383d8d90>"
      ]
     },
     "metadata": {},
     "output_type": "display_data"
    }
   ],
   "source": [
    "%matplotlib inline\n",
    "\n",
    "plt.figure(figsize = [8,8])\n",
    "plt.plot(wv,fl*.3E7)\n",
    "plt.plot(wvf,flf)\n",
    "plt.xlim(3000,6000)\n",
    "plt.ylim(0,0.00025)\n"
   ]
  },
  {
   "cell_type": "code",
   "execution_count": 15,
   "metadata": {
    "collapsed": false
   },
   "outputs": [],
   "source": [
    "bcphot = Photometry(wv,fl*.3E7,[0],157)\n",
    "bcphot.Get_Sensitivity()\n",
    "bcphot.Photo_model(wv,fl*.3E7)"
   ]
  },
  {
   "cell_type": "code",
   "execution_count": 16,
   "metadata": {
    "collapsed": false
   },
   "outputs": [
    {
     "data": {
      "text/plain": [
       "7.5831141396520509e-05"
      ]
     },
     "execution_count": 16,
     "metadata": {},
     "output_type": "execute_result"
    }
   ],
   "source": [
    "bcphot.mphoto"
   ]
  },
  {
   "cell_type": "code",
   "execution_count": 9,
   "metadata": {
    "collapsed": true
   },
   "outputs": [],
   "source": [
    "fsphot = Photometry(wvf,flf,[0],157)\n",
    "fsphot.Get_Sensitivity()\n",
    "fsphot.Photo_model(wvf,flf)"
   ]
  },
  {
   "cell_type": "code",
   "execution_count": 10,
   "metadata": {
    "collapsed": false
   },
   "outputs": [
    {
     "data": {
      "text/plain": [
       "7.7844914095656626e-05"
      ]
     },
     "execution_count": 10,
     "metadata": {},
     "output_type": "execute_result"
    }
   ],
   "source": [
    "fsphot.mphoto"
   ]
  },
  {
   "cell_type": "code",
   "execution_count": 56,
   "metadata": {
    "collapsed": false
   },
   "outputs": [],
   "source": [
    "gbp=np.zeros(age.size)\n",
    "for i in range(age.size):\n",
    "    wvf,flf = np.load('/Users/vestrada/fsps_models_for_fit/fsps_spec/m0.019_a%s_dt8.7_spec.npy' % age[i])\n",
    "    fsphot = Photometry(wvf,flf,[0],157)\n",
    "    fsphot.Get_Sensitivity()\n",
    "    fsphot.Photo_model(wvf,flf)\n",
    "    gbp[i]=fsphot.mphoto\n",
    "    \n",
    "gbpb=np.zeros(AGE.size)\n",
    "for i in range(AGE.size):\n",
    "    wv,fl = np.load('/Users/vestrada/bc03_models_for_fit/bc03_spec/m0.02_a%s_dt8.7_spec.npy' % AGE[i])\n",
    "    bcphot = Photometry(wv,fl,[0],157)\n",
    "    bcphot.Get_Sensitivity()\n",
    "    bcphot.Photo_model(wv,fl)\n",
    "    gbpb[i]=bcphot.mphoto"
   ]
  },
  {
   "cell_type": "code",
   "execution_count": 57,
   "metadata": {
    "collapsed": false
   },
   "outputs": [
    {
     "data": {
      "text/plain": [
       "[<matplotlib.lines.Line2D at 0x138e82dd0>]"
      ]
     },
     "execution_count": 57,
     "metadata": {},
     "output_type": "execute_result"
    },
    {
     "data": {
      "image/png": "[encoded data removed]",
      "text/plain": [
       "<matplotlib.figure.Figure at 0x138e5a850>"
      ]
     },
     "metadata": {},
     "output_type": "display_data"
    }
   ],
   "source": [
    "%matplotlib inline\n",
    "\n",
    "plt.figure(figsize=[8,8])\n",
    "plt.plot(AGE,gbf)\n",
    "plt.plot(age,gbp*6.45E1)\n",
    "plt.plot(AGE,gbpb*6.45E8)"
   ]
  },
  {
   "cell_type": "code",
   "execution_count": 58,
   "metadata": {
    "collapsed": false
   },
   "outputs": [
    {
     "data": {
      "text/plain": [
       "[0.2, 0.4, 1.0]"
      ]
     },
     "execution_count": 58,
     "metadata": {},
     "output_type": "execute_result"
    }
   ],
   "source": [
    "[0.004/0.02,0.008/0.02,0.02/0.02]"
   ]
  },
  {
   "cell_type": "code",
   "execution_count": 59,
   "metadata": {
    "collapsed": false
   },
   "outputs": [
    {
     "data": {
      "text/plain": [
       "[0.0038, 0.0076, 0.019]"
      ]
     },
     "execution_count": 59,
     "metadata": {},
     "output_type": "execute_result"
    }
   ],
   "source": [
    "[.2*.019,.4*.019,.019]"
   ]
  },
  {
   "cell_type": "code",
   "execution_count": 66,
   "metadata": {
    "collapsed": false
   },
   "outputs": [],
   "source": [
    "Zfs = np.array([0.004,0.008,0.019])\n",
    "be_tau = np.array([8.0,8.48,8.7,8.85,8.95,9.01,9.11,9.18,9.23,9.28])\n",
    "be_tau_id = np.array([1,3,5,7,9,11,13,15,17,19])\n",
    "\n",
    "\n",
    "for i in range(Zfs.size):\n",
    "    new_grid=np.zeros([be_tau.size,AGE.size])\n",
    "    gbf=np.load('../data/m%s_gbf.npy' % Zfs[i])\n",
    "    for ii in range(be_tau.size):\n",
    "        new_grid[ii]=gbf[be_tau_id[ii]]\n",
    "        \n",
    "    np.save('../BE/m%s_gbf' % Zfs[i],new_grid)"
   ]
  },
  {
   "cell_type": "code",
   "execution_count": null,
   "metadata": {
    "collapsed": false
   },
   "outputs": [],
   "source": [
    "Zbc = np.array([0.004,0.008,0.02])\n",
    "be_tau = [8,8.48,8.7,8.85,8.95,9.04,9.11,9.18,9.23,9.28]\n",
    "\n",
    "for i in range(Zbc.size):\n",
    "    gb_grid=np.zeros([np.array(be_tau).size,AGE.size])\n",
    "    for ii in range(np.array(be_tau).size):\n",
    "        for iii in range(AGE.size):\n",
    "            wv,fl = np.load('/Users/vestrada/bc03_models_for_fit/bc03_spec/m%s_a%s_dt%s_spec.npy' \n",
    "                            % (Zbc[i],AGE[iii],be_tau[ii]))\n",
    "            bcphot = Photometry(wv,fl,[0],157)\n",
    "            bcphot.Get_Sensitivity()\n",
    "            bcphot.Photo_model(wv,fl)\n",
    "            gb_grid[ii][iii]=bcphot.mphoto\n",
    "    np.save('../BE/bcm%s_gbf' % Zbc[i],gb_grid)"
   ]
  },
  {
   "cell_type": "code",
   "execution_count": null,
   "metadata": {
    "collapsed": true
   },
   "outputs": [],
   "source": []
  }
 ],
 "metadata": {
  "kernelspec": {
   "display_name": "Python 2",
   "language": "python",
   "name": "python2"
  },
  "language_info": {
   "codemirror_mode": {
    "name": "ipython",
    "version": 2
   },
   "file_extension": ".py",
   "mimetype": "text/x-python",
   "name": "python",
   "nbconvert_exporter": "python",
   "pygments_lexer": "ipython2",
   "version": "2.7.13"
  }
 },
 "nbformat": 4,
 "nbformat_minor": 2
}
